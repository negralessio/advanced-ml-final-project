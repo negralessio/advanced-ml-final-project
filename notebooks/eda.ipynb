{
 "cells": [
  {
   "cell_type": "markdown",
   "source": [
    "# Task 2: Do an explanatory analysis for this dataset\n",
    "We are performing an explanatory data analysis (EDA) on the preprocessed dataframe located in 'data/preprocessed' in order to get a better understanding of our data."
   ],
   "metadata": {
    "collapsed": false,
    "pycharm": {
     "name": "#%% md\n"
    }
   }
  },
  {
   "cell_type": "code",
   "execution_count": 3,
   "metadata": {
    "collapsed": true,
    "pycharm": {
     "name": "#%%\n"
    }
   },
   "outputs": [],
   "source": [
    "import pandas as pd\n",
    "import numpy as np\n",
    "import matplotlib.pyplot as plt\n",
    "import seaborn as sns\n",
    "import re\n",
    "sns.set_theme(style='whitegrid')\n",
    "pd.options.mode.chained_assignment = None  # Supress warning, default='warn'"
   ]
  },
  {
   "cell_type": "markdown",
   "source": [
    "## Read Data"
   ],
   "metadata": {
    "collapsed": false,
    "pycharm": {
     "name": "#%% md\n"
    }
   }
  },
  {
   "cell_type": "code",
   "execution_count": null,
   "outputs": [],
   "source": [
    "df = pd.read_pickle('../data/preprocessed/accepted_df_preprocessed.pkl')\n",
    "print(f\"Shape of df: {df.shape}\")\n",
    "df.head(5)"
   ],
   "metadata": {
    "collapsed": false,
    "pycharm": {
     "name": "#%%\n"
    }
   }
  },
  {
   "cell_type": "markdown",
   "source": [
    "## EDA\n",
    "In the following sections we explore our data set, i.e. we do EDA."
   ],
   "metadata": {
    "collapsed": false,
    "pycharm": {
     "name": "#%% md\n"
    }
   }
  },
  {
   "cell_type": "code",
   "execution_count": null,
   "outputs": [],
   "source": [
    "# Get Number of Non-Default (0) and Default (1)\n",
    "loan_status_value_count = df['loan_status'].value_counts()\n",
    "print(loan_status_value_count)\n",
    "\n",
    "n_non_default = loan_status_value_count[0]\n",
    "n_default = loan_status_value_count[1]"
   ],
   "metadata": {
    "collapsed": false,
    "pycharm": {
     "name": "#%%\n"
    }
   }
  },
  {
   "cell_type": "markdown",
   "source": [
    "### Loan Distribution"
   ],
   "metadata": {
    "collapsed": false,
    "pycharm": {
     "name": "#%% md\n"
    }
   }
  },
  {
   "cell_type": "code",
   "execution_count": null,
   "outputs": [],
   "source": [
    "# Plot Loan amount distribution\n",
    "plt.figure(figsize=(20, 8))\n",
    "plt.title(f\"Distribution of the loan amount applied for the borrower \"\n",
    "          f\"($n_{{non\\_default}} = {n_non_default}, n_{{default}}$ = {n_default})\", size=18)\n",
    "sns.histplot(data=df, x='loan_amnt', bins=30, edgecolor='black', hue='loan_status', multiple='layer')\n",
    "plt.legend(title='Loan Status', labels=['Default', 'Non-Default'])\n",
    "plt.show()\n",
    "\n",
    "# Plot boxplot\n",
    "plt.figure(figsize=(20, 4))\n",
    "plt.title(f\"Boxplot of loan amount grouped by loan \"\n",
    "          f\"status ($n_{{non\\_default}} = {n_non_default}, n_{{default}}$ = {n_default})\", size=18)\n",
    "sns.boxplot(data=df, x='loan_amnt', y='loan_status', orient='h', hue='loan_status', saturation=0.6)\n",
    "#plt.legend(title='Loan Status', labels=['Default', 'Non-Default'])\n",
    "plt.show()\n",
    "\n",
    "# Get descriptive statistics from loan_amnt grouped by status\n",
    "df[['loan_amnt','loan_status']].groupby('loan_status').describe().applymap('{:.2f}'.format)"
   ],
   "metadata": {
    "collapsed": false,
    "pycharm": {
     "name": "#%%\n"
    }
   }
  },
  {
   "cell_type": "markdown",
   "source": [
    "### Loan Status & LC Grade"
   ],
   "metadata": {
    "collapsed": false,
    "pycharm": {
     "name": "#%% md\n"
    }
   }
  },
  {
   "cell_type": "code",
   "execution_count": null,
   "outputs": [],
   "source": [
    "# Set column as category, TODO: Do this step in the preprocessing notebook\n",
    "df[\"grade\"] = df[\"grade\"].astype(\"category\")\n",
    "\n",
    "# Plot settings\n",
    "fig, axs = plt.subplots(nrows=1, ncols=2, figsize=(20,8))\n",
    "sns.countplot(data=df, x=\"loan_status\", hue=\"grade\", edgecolor=\"black\", palette=\"tab10\", ax=axs[0], alpha=0.75)\n",
    "sns.histplot(data=df, x=\"grade\", edgecolor=\"black\", palette=\"tab10\", hue=\"grade\", ax=axs[1], alpha=0.75)\n",
    "axs[0].set_title(\"Distribution of the Loan Status grouped by LC Grades\", size=18)\n",
    "axs[1].set_title(\"Distribution of the LC Grades\", size=18)\n",
    "fig.tight_layout()\n",
    "plt.show()"
   ],
   "metadata": {
    "collapsed": false,
    "pycharm": {
     "name": "#%%\n"
    }
   }
  },
  {
   "cell_type": "markdown",
   "source": [
    "### Annual Income and Address State\n",
    "Plot shows the average annual income of our borrowers grouped by the state they live in."
   ],
   "metadata": {
    "collapsed": false,
    "pycharm": {
     "name": "#%% md\n"
    }
   }
  },
  {
   "cell_type": "code",
   "execution_count": null,
   "outputs": [],
   "source": [
    "# Get mean of annual income grouped by addr_state\n",
    "mean_annual_income_addr_state_df = df.groupby('addr_state')['annual_inc'].mean().sort_values(ascending=False)\n",
    "# Attention: Address State 'IA' has only 7 observations, while the rest has at least 2000.\n",
    "\n",
    "# Plot settings\n",
    "plt.figure(figsize=(20,8))\n",
    "plt.title(\"Mean annual income of the borrowers grouped by states\", size=18)\n",
    "sns.barplot(x = mean_annual_income_addr_state_df.keys(),\n",
    "            y = mean_annual_income_addr_state_df.values,\n",
    "            palette=\"tab20\",\n",
    "            alpha=0.9,\n",
    "            edgecolor=\"black\")\n",
    "plt.show()"
   ],
   "metadata": {
    "collapsed": false,
    "pycharm": {
     "name": "#%%\n"
    }
   }
  }
 ],
 "metadata": {
  "kernelspec": {
   "display_name": "Python 3",
   "language": "python",
   "name": "python3"
  },
  "language_info": {
   "codemirror_mode": {
    "name": "ipython",
    "version": 2
   },
   "file_extension": ".py",
   "mimetype": "text/x-python",
   "name": "python",
   "nbconvert_exporter": "python",
   "pygments_lexer": "ipython2",
   "version": "2.7.6"
  }
 },
 "nbformat": 4,
 "nbformat_minor": 0
}