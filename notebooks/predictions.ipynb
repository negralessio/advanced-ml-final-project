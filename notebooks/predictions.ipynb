{
 "cells": [
  {
   "cell_type": "code",
   "execution_count": 1,
   "metadata": {
    "collapsed": false,
    "pycharm": {
     "name": "#%%\n"
    }
   },
   "outputs": [],
   "source": [
    "import pandas as pd\n",
    "import numpy as np\n",
    "import matplotlib.pyplot as plt\n",
    "import seaborn as sns\n",
    "import sklearn.metrics\n",
    "from sklearn.utils import resample\n",
    "# For modeling\n",
    "from sklearn.linear_model import LogisticRegression\n",
    "from sklearn.ensemble import RandomForestClassifier, BaggingClassifier\n",
    "from sklearn.tree import DecisionTreeClassifier\n",
    "from sklearn.neural_network import MLPClassifier\n",
    "from sklearn.metrics import confusion_matrix, classification_report, precision_recall_fscore_support, accuracy_score\n",
    "from sklearn.model_selection import cross_val_score, train_test_split, cross_validate\n",
    "from sklearn.preprocessing import StandardScaler, MinMaxScaler\n",
    "from sklearn.svm import SVC\n",
    "from sklearn.pipeline import Pipeline\n",
    "from tqdm.notebook import tqdm\n",
    "from matplotlib.colors import ListedColormap\n",
    "#sns.set_palette('viridis')\n",
    "pd.options.mode.chained_assignment = None  # Supress warning, default='warn'"
   ]
  },
  {
   "cell_type": "markdown",
   "metadata": {
    "collapsed": false,
    "pycharm": {
     "name": "#%% md\n"
    }
   },
   "source": [
    "# Read Data\n",
    "In this section we read the data (pickle file) after the preprocessing from the preprocessing notebook/part"
   ]
  },
  {
   "cell_type": "code",
   "execution_count": 2,
   "metadata": {
    "collapsed": false,
    "pycharm": {
     "name": "#%%\n"
    }
   },
   "outputs": [
    {
     "name": "stdout",
     "output_type": "stream",
     "text": [
      "Shape of df: (1345310, 101)\n"
     ]
    },
    {
     "data": {
      "text/plain": "   loan_amnt  funded_amnt  funded_amnt_inv term  int_rate  installment grade  \\\n0     3600.0       3600.0           3600.0   36     13.99       123.03     C   \n1    24700.0      24700.0          24700.0   36     11.99       820.28     C   \n2    20000.0      20000.0          20000.0   60     10.78       432.66     B   \n4    10400.0      10400.0          10400.0   60     22.45       289.91     F   \n5    11950.0      11950.0          11950.0   36     13.44       405.18     C   \n\n  sub_grade  emp_length home_ownership  ...  percent_bc_gt_75  \\\n0        C4        10.0       MORTGAGE  ...               0.0   \n1        C1        10.0       MORTGAGE  ...               7.7   \n2        B4        10.0       MORTGAGE  ...              50.0   \n4        F1         3.0       MORTGAGE  ...              60.0   \n5        C3         4.0           RENT  ...             100.0   \n\n  pub_rec_bankruptcies  tax_liens tot_hi_cred_lim total_bal_ex_mort  \\\n0                  0.0        0.0        178050.0            7746.0   \n1                  0.0        0.0        314017.0           39475.0   \n2                  0.0        0.0        218418.0           18696.0   \n4                  0.0        0.0        439570.0           95768.0   \n5                  0.0        0.0         16900.0           12798.0   \n\n  total_bc_limit  total_il_high_credit_limit  hardship_flag  \\\n0         2400.0                     13734.0              N   \n1        79300.0                     24667.0              N   \n2         6200.0                     14877.0              N   \n4        20300.0                     88097.0              N   \n5         9400.0                      4000.0              N   \n\n   disbursement_method  debt_settlement_flag  \n0                 Cash                     N  \n1                 Cash                     N  \n2                 Cash                     N  \n4                 Cash                     N  \n5                 Cash                     N  \n\n[5 rows x 101 columns]",
      "text/html": "<div>\n<style scoped>\n    .dataframe tbody tr th:only-of-type {\n        vertical-align: middle;\n    }\n\n    .dataframe tbody tr th {\n        vertical-align: top;\n    }\n\n    .dataframe thead th {\n        text-align: right;\n    }\n</style>\n<table border=\"1\" class=\"dataframe\">\n  <thead>\n    <tr style=\"text-align: right;\">\n      <th></th>\n      <th>loan_amnt</th>\n      <th>funded_amnt</th>\n      <th>funded_amnt_inv</th>\n      <th>term</th>\n      <th>int_rate</th>\n      <th>installment</th>\n      <th>grade</th>\n      <th>sub_grade</th>\n      <th>emp_length</th>\n      <th>home_ownership</th>\n      <th>...</th>\n      <th>percent_bc_gt_75</th>\n      <th>pub_rec_bankruptcies</th>\n      <th>tax_liens</th>\n      <th>tot_hi_cred_lim</th>\n      <th>total_bal_ex_mort</th>\n      <th>total_bc_limit</th>\n      <th>total_il_high_credit_limit</th>\n      <th>hardship_flag</th>\n      <th>disbursement_method</th>\n      <th>debt_settlement_flag</th>\n    </tr>\n  </thead>\n  <tbody>\n    <tr>\n      <th>0</th>\n      <td>3600.0</td>\n      <td>3600.0</td>\n      <td>3600.0</td>\n      <td>36</td>\n      <td>13.99</td>\n      <td>123.03</td>\n      <td>C</td>\n      <td>C4</td>\n      <td>10.0</td>\n      <td>MORTGAGE</td>\n      <td>...</td>\n      <td>0.0</td>\n      <td>0.0</td>\n      <td>0.0</td>\n      <td>178050.0</td>\n      <td>7746.0</td>\n      <td>2400.0</td>\n      <td>13734.0</td>\n      <td>N</td>\n      <td>Cash</td>\n      <td>N</td>\n    </tr>\n    <tr>\n      <th>1</th>\n      <td>24700.0</td>\n      <td>24700.0</td>\n      <td>24700.0</td>\n      <td>36</td>\n      <td>11.99</td>\n      <td>820.28</td>\n      <td>C</td>\n      <td>C1</td>\n      <td>10.0</td>\n      <td>MORTGAGE</td>\n      <td>...</td>\n      <td>7.7</td>\n      <td>0.0</td>\n      <td>0.0</td>\n      <td>314017.0</td>\n      <td>39475.0</td>\n      <td>79300.0</td>\n      <td>24667.0</td>\n      <td>N</td>\n      <td>Cash</td>\n      <td>N</td>\n    </tr>\n    <tr>\n      <th>2</th>\n      <td>20000.0</td>\n      <td>20000.0</td>\n      <td>20000.0</td>\n      <td>60</td>\n      <td>10.78</td>\n      <td>432.66</td>\n      <td>B</td>\n      <td>B4</td>\n      <td>10.0</td>\n      <td>MORTGAGE</td>\n      <td>...</td>\n      <td>50.0</td>\n      <td>0.0</td>\n      <td>0.0</td>\n      <td>218418.0</td>\n      <td>18696.0</td>\n      <td>6200.0</td>\n      <td>14877.0</td>\n      <td>N</td>\n      <td>Cash</td>\n      <td>N</td>\n    </tr>\n    <tr>\n      <th>4</th>\n      <td>10400.0</td>\n      <td>10400.0</td>\n      <td>10400.0</td>\n      <td>60</td>\n      <td>22.45</td>\n      <td>289.91</td>\n      <td>F</td>\n      <td>F1</td>\n      <td>3.0</td>\n      <td>MORTGAGE</td>\n      <td>...</td>\n      <td>60.0</td>\n      <td>0.0</td>\n      <td>0.0</td>\n      <td>439570.0</td>\n      <td>95768.0</td>\n      <td>20300.0</td>\n      <td>88097.0</td>\n      <td>N</td>\n      <td>Cash</td>\n      <td>N</td>\n    </tr>\n    <tr>\n      <th>5</th>\n      <td>11950.0</td>\n      <td>11950.0</td>\n      <td>11950.0</td>\n      <td>36</td>\n      <td>13.44</td>\n      <td>405.18</td>\n      <td>C</td>\n      <td>C3</td>\n      <td>4.0</td>\n      <td>RENT</td>\n      <td>...</td>\n      <td>100.0</td>\n      <td>0.0</td>\n      <td>0.0</td>\n      <td>16900.0</td>\n      <td>12798.0</td>\n      <td>9400.0</td>\n      <td>4000.0</td>\n      <td>N</td>\n      <td>Cash</td>\n      <td>N</td>\n    </tr>\n  </tbody>\n</table>\n<p>5 rows × 101 columns</p>\n</div>"
     },
     "execution_count": 2,
     "metadata": {},
     "output_type": "execute_result"
    }
   ],
   "source": [
    "df = pd.read_pickle('../data/preprocessed/accepted_df_preprocessed.pkl')\n",
    "print(f\"Shape of df: {df.shape}\")\n",
    "df.head(5)"
   ]
  },
  {
   "cell_type": "markdown",
   "source": [
    "# TAKE SUBSAMPLE OF DATA FOR COMPUTATION ISSUES (TODO: DELETE THIS LATER)"
   ],
   "metadata": {
    "collapsed": false,
    "pycharm": {
     "name": "#%% md\n"
    }
   }
  },
  {
   "cell_type": "code",
   "execution_count": 3,
   "outputs": [
    {
     "name": "stdout",
     "output_type": "stream",
     "text": [
      "(134531, 101)\n"
     ]
    }
   ],
   "source": [
    "df = df.sample(frac = 0.1)\n",
    "print(df.shape)"
   ],
   "metadata": {
    "collapsed": false,
    "pycharm": {
     "name": "#%%\n"
    }
   }
  },
  {
   "cell_type": "markdown",
   "source": [
    "# Model Preprocessing: Encode Features from categorical to numerical\n",
    "In this section we prepare our data set for modeling through fixing the inbalancement of our data, encoding categorical data, dropping features that are only apriori the application known etc..."
   ],
   "metadata": {
    "collapsed": false,
    "pycharm": {
     "name": "#%% md\n"
    }
   }
  },
  {
   "cell_type": "markdown",
   "source": [
    "## Drop columns for prediction\n",
    "In this small section we drop features that we do not have prior the lending application. We consulted the data dictionary table (seen [here](https://docs.google.com/spreadsheets/d/13mEvWhh5ju3gNFKn3wpB6gZ1erNHyCFNQFedGZrKcFo/edit#gid=1169809635)) and analyzed which columns to keep and which to drop. Note that this requires a lot of domain knowledge."
   ],
   "metadata": {
    "collapsed": false,
    "pycharm": {
     "name": "#%% md\n"
    }
   }
  },
  {
   "cell_type": "code",
   "execution_count": 4,
   "outputs": [
    {
     "name": "stdout",
     "output_type": "stream",
     "text": [
      "Cols to drop: ['funded_amnt', 'funded_amnt_inv', 'pymnt_plan', 'delinq_2yrs', 'inq_last_6mths', 'mths_since_last_delinq', 'out_prncp', 'out_prncp_inv', 'total_pymnt', 'total_pymnt_inv', 'total_rec_prncp', 'total_rec_int', 'total_rec_late_fee', 'recoveries', 'collection_recovery_fee', 'last_pymnt_amnt', 'last_fico_range_high', 'last_fico_range_low', 'collections_12_mths_ex_med', 'mths_since_last_major_derog', 'policy_code', 'acc_now_delinq', 'tot_coll_amt', 'tot_cur_bal', 'open_acc_6m', 'open_act_il', 'open_il_12m', 'open_il_24m', 'mths_since_rcnt_il', 'total_bal_il', 'il_util', 'open_rv_12m', 'open_rv_24m', 'max_bal_bc', 'all_util', 'total_rev_hi_lim', 'inq_fi', 'total_cu_tl', 'inq_last_12m', 'acc_open_past_24mths', 'avg_cur_bal', 'bc_open_to_buy', 'bc_util', 'chargeoff_within_12_mths', 'delinq_amnt', 'mo_sin_old_il_acct', 'mo_sin_old_rev_tl_op', 'mo_sin_rcnt_rev_tl_op', 'mo_sin_rcnt_tl', 'mths_since_recent_bc', 'mths_since_recent_inq', 'mths_since_recent_revol_delinq', 'num_accts_ever_120_pd', 'num_actv_bc_tl', 'num_actv_rev_tl', 'num_bc_sats', 'num_bc_tl', 'num_il_tl', 'num_op_rev_tl', 'num_rev_accts', 'num_rev_tl_bal_gt_0', 'num_sats', 'num_tl_120dpd_2m', 'num_tl_30dpd', 'num_tl_90g_dpd_24m', 'num_tl_op_past_12m', 'pct_tl_nvr_dlq', 'percent_bc_gt_75', 'tax_liens', 'tot_hi_cred_lim', 'total_bal_ex_mort', 'total_bc_limit', 'total_il_high_credit_limit', 'hardship_flag', 'disbursement_method', 'debt_settlement_flag']\n",
      "Shape of df after drop: (134531, 25)\n"
     ]
    }
   ],
   "source": [
    "keep_list = ['addr_state', 'annual_inc', 'application_type', 'dti', 'earliest_cr_line', 'emp_length', 'emp_title', 'fico_range_high', 'fico_range_low', 'grade', 'home_ownership', 'id', 'initial_list_status', 'installment', 'int_rate', 'issue_d', 'loan_amnt', 'loan_status', 'mort_acc', 'open_acc', 'pub_rec', 'pub_rec_bankruptcies', 'purpose', 'revol_bal', 'revol_util', 'sub_grade', 'term', 'title', 'total_acc', 'verification_status', 'zip_code']\n",
    "\n",
    "cols_to_drop = [col for col in df.columns if col not in keep_list]\n",
    "print(f\"Cols to drop: {cols_to_drop}\")\n",
    "df.drop(cols_to_drop, axis=1, inplace=True)\n",
    "print(f\"Shape of df after drop: {df.shape}\")"
   ],
   "metadata": {
    "collapsed": false,
    "pycharm": {
     "name": "#%%\n"
    }
   }
  },
  {
   "cell_type": "code",
   "execution_count": 5,
   "outputs": [
    {
     "name": "stdout",
     "output_type": "stream",
     "text": [
      "float64    15\n",
      "object      9\n",
      "int64       1\n",
      "dtype: int64\n",
      "['term', 'grade', 'sub_grade', 'home_ownership', 'verification_status', 'purpose', 'addr_state', 'initial_list_status', 'application_type']\n"
     ]
    }
   ],
   "source": [
    "# Preview categorical data\n",
    "print(df.dtypes.value_counts())\n",
    "# Get categorical columns names\n",
    "cat_columns = df.select_dtypes(include=['object']).columns.tolist()\n",
    "# Preview\n",
    "print(cat_columns)"
   ],
   "metadata": {
    "collapsed": false,
    "pycharm": {
     "name": "#%%\n"
    }
   }
  },
  {
   "cell_type": "markdown",
   "source": [
    "### Deleted irrelevant categorical features\n",
    "Delete categorical features that are not relevant for the Modelling or contain too many realization so that encoding them would be infeasible."
   ],
   "metadata": {
    "collapsed": false,
    "pycharm": {
     "name": "#%% md\n"
    }
   }
  },
  {
   "cell_type": "code",
   "execution_count": 6,
   "outputs": [
    {
     "name": "stdout",
     "output_type": "stream",
     "text": [
      "Categorical Columns to drop: ['sub_grade', 'addr_state']\n",
      "\n",
      "Shape of df before columns drop: (134531, 25)\n",
      "Shape of df after columns drop: (134531, 23)\n"
     ]
    }
   ],
   "source": [
    "# Define categorical columns from cat_columns to keep here\n",
    "CAT_COLS_TO_KEEP = [\"term\", \"home_ownership\", \"grade\", \"verification_status\", \"application_type\", \"initial_list_status\", \"purpose\"]\n",
    "CAT_COLS_TO_DROP = [col for col in cat_columns if col not in CAT_COLS_TO_KEEP]\n",
    "\n",
    "print(f\"Categorical Columns to drop: {CAT_COLS_TO_DROP}\\n\")\n",
    "print(f\"Shape of df before columns drop: {df.shape}\")\n",
    "# Drop irrelevant categorical features\n",
    "df.drop(CAT_COLS_TO_DROP, axis=1, inplace=True)\n",
    "print(f\"Shape of df after columns drop: {df.shape}\")"
   ],
   "metadata": {
    "collapsed": false,
    "pycharm": {
     "name": "#%%\n"
    }
   }
  },
  {
   "cell_type": "markdown",
   "source": [
    "## Preview of the remaining categorical features"
   ],
   "metadata": {
    "collapsed": false,
    "pycharm": {
     "name": "#%% md\n"
    }
   }
  },
  {
   "cell_type": "code",
   "execution_count": 7,
   "outputs": [
    {
     "name": "stdout",
     "output_type": "stream",
     "text": [
      "float64    15\n",
      "object      7\n",
      "int64       1\n",
      "dtype: int64\n"
     ]
    },
    {
     "data": {
      "text/plain": "        term grade home_ownership verification_status             purpose  \\\n1776310   36     A       MORTGAGE            Verified      major_purchase   \n48909     36     B       MORTGAGE     Source Verified    home_improvement   \n1158065   36     B       MORTGAGE        Not Verified             medical   \n377706    60     C       MORTGAGE     Source Verified  debt_consolidation   \n1188636   60     C           RENT            Verified  debt_consolidation   \n...      ...   ...            ...                 ...                 ...   \n257425    36     A            OWN            Verified         credit_card   \n1083051   60     C       MORTGAGE        Not Verified  debt_consolidation   \n1649426   36     A       MORTGAGE     Source Verified         credit_card   \n1284449   36     B       MORTGAGE            Verified         credit_card   \n1215133   36     C       MORTGAGE     Source Verified  debt_consolidation   \n\n        initial_list_status application_type  \n1776310                   w       Individual  \n48909                     w       Individual  \n1158065                   w       Individual  \n377706                    w       Individual  \n1188636                   f       Individual  \n...                     ...              ...  \n257425                    w       Individual  \n1083051                   w       Individual  \n1649426                   f       Individual  \n1284449                   w       Individual  \n1215133                   w       Individual  \n\n[134531 rows x 7 columns]",
      "text/html": "<div>\n<style scoped>\n    .dataframe tbody tr th:only-of-type {\n        vertical-align: middle;\n    }\n\n    .dataframe tbody tr th {\n        vertical-align: top;\n    }\n\n    .dataframe thead th {\n        text-align: right;\n    }\n</style>\n<table border=\"1\" class=\"dataframe\">\n  <thead>\n    <tr style=\"text-align: right;\">\n      <th></th>\n      <th>term</th>\n      <th>grade</th>\n      <th>home_ownership</th>\n      <th>verification_status</th>\n      <th>purpose</th>\n      <th>initial_list_status</th>\n      <th>application_type</th>\n    </tr>\n  </thead>\n  <tbody>\n    <tr>\n      <th>1776310</th>\n      <td>36</td>\n      <td>A</td>\n      <td>MORTGAGE</td>\n      <td>Verified</td>\n      <td>major_purchase</td>\n      <td>w</td>\n      <td>Individual</td>\n    </tr>\n    <tr>\n      <th>48909</th>\n      <td>36</td>\n      <td>B</td>\n      <td>MORTGAGE</td>\n      <td>Source Verified</td>\n      <td>home_improvement</td>\n      <td>w</td>\n      <td>Individual</td>\n    </tr>\n    <tr>\n      <th>1158065</th>\n      <td>36</td>\n      <td>B</td>\n      <td>MORTGAGE</td>\n      <td>Not Verified</td>\n      <td>medical</td>\n      <td>w</td>\n      <td>Individual</td>\n    </tr>\n    <tr>\n      <th>377706</th>\n      <td>60</td>\n      <td>C</td>\n      <td>MORTGAGE</td>\n      <td>Source Verified</td>\n      <td>debt_consolidation</td>\n      <td>w</td>\n      <td>Individual</td>\n    </tr>\n    <tr>\n      <th>1188636</th>\n      <td>60</td>\n      <td>C</td>\n      <td>RENT</td>\n      <td>Verified</td>\n      <td>debt_consolidation</td>\n      <td>f</td>\n      <td>Individual</td>\n    </tr>\n    <tr>\n      <th>...</th>\n      <td>...</td>\n      <td>...</td>\n      <td>...</td>\n      <td>...</td>\n      <td>...</td>\n      <td>...</td>\n      <td>...</td>\n    </tr>\n    <tr>\n      <th>257425</th>\n      <td>36</td>\n      <td>A</td>\n      <td>OWN</td>\n      <td>Verified</td>\n      <td>credit_card</td>\n      <td>w</td>\n      <td>Individual</td>\n    </tr>\n    <tr>\n      <th>1083051</th>\n      <td>60</td>\n      <td>C</td>\n      <td>MORTGAGE</td>\n      <td>Not Verified</td>\n      <td>debt_consolidation</td>\n      <td>w</td>\n      <td>Individual</td>\n    </tr>\n    <tr>\n      <th>1649426</th>\n      <td>36</td>\n      <td>A</td>\n      <td>MORTGAGE</td>\n      <td>Source Verified</td>\n      <td>credit_card</td>\n      <td>f</td>\n      <td>Individual</td>\n    </tr>\n    <tr>\n      <th>1284449</th>\n      <td>36</td>\n      <td>B</td>\n      <td>MORTGAGE</td>\n      <td>Verified</td>\n      <td>credit_card</td>\n      <td>w</td>\n      <td>Individual</td>\n    </tr>\n    <tr>\n      <th>1215133</th>\n      <td>36</td>\n      <td>C</td>\n      <td>MORTGAGE</td>\n      <td>Source Verified</td>\n      <td>debt_consolidation</td>\n      <td>w</td>\n      <td>Individual</td>\n    </tr>\n  </tbody>\n</table>\n<p>134531 rows × 7 columns</p>\n</div>"
     },
     "execution_count": 7,
     "metadata": {},
     "output_type": "execute_result"
    }
   ],
   "source": [
    "print(df.dtypes.value_counts())\n",
    "df.select_dtypes(\"object\")"
   ],
   "metadata": {
    "collapsed": false,
    "pycharm": {
     "name": "#%%\n"
    }
   }
  },
  {
   "cell_type": "markdown",
   "source": [
    "## Create Dummy Variables"
   ],
   "metadata": {
    "collapsed": false,
    "pycharm": {
     "name": "#%% md\n"
    }
   }
  },
  {
   "cell_type": "code",
   "execution_count": 8,
   "outputs": [
    {
     "data": {
      "text/plain": "int64      19\nfloat64    15\ndtype: int64"
     },
     "execution_count": 8,
     "metadata": {},
     "output_type": "execute_result"
    }
   ],
   "source": [
    "# Binary Encoding\n",
    "import category_encoders as ce\n",
    "encoder = ce.BinaryEncoder(cols=CAT_COLS_TO_KEEP)\n",
    "df_binary = encoder.fit_transform(df)\n",
    "# check\n",
    "df_binary.dtypes.value_counts()"
   ],
   "metadata": {
    "collapsed": false,
    "pycharm": {
     "name": "#%%\n"
    }
   }
  },
  {
   "cell_type": "code",
   "execution_count": 9,
   "outputs": [
    {
     "data": {
      "text/plain": "float32    34\ndtype: int64"
     },
     "execution_count": 9,
     "metadata": {},
     "output_type": "execute_result"
    }
   ],
   "source": [
    "# Convert all values to float\n",
    "df_binary = df_binary.astype(np.float32)\n",
    "df_binary.dtypes.value_counts()"
   ],
   "metadata": {
    "collapsed": false,
    "pycharm": {
     "name": "#%%\n"
    }
   }
  },
  {
   "cell_type": "markdown",
   "source": [
    "## Preview preprocessed dataframe"
   ],
   "metadata": {
    "collapsed": false,
    "pycharm": {
     "name": "#%% md\n"
    }
   }
  },
  {
   "cell_type": "code",
   "execution_count": 10,
   "outputs": [
    {
     "data": {
      "text/plain": "         loan_amnt  term_0  term_1   int_rate  installment  grade_0  grade_1  \\\n1776310     2000.0     0.0     1.0   8.900000    63.509998      0.0      0.0   \n48909      30000.0     0.0     1.0  10.990000   982.020020      0.0      1.0   \n1158065     5600.0     0.0     1.0  12.490000   187.320007      0.0      1.0   \n377706     12250.0     1.0     0.0  12.390000   274.920013      0.0      1.0   \n1188636    13200.0     1.0     0.0  14.990000   313.959991      0.0      1.0   \n1684189     3600.0     0.0     1.0  11.440000   118.620003      0.0      1.0   \n1999543     1450.0     0.0     1.0  13.990000    49.560001      0.0      1.0   \n1785273     6400.0     0.0     1.0  19.200001   235.250000      1.0      0.0   \n84475      24000.0     0.0     1.0  11.530000   791.770020      0.0      1.0   \n265444     19800.0     1.0     0.0  19.990000   524.469971      1.0      0.0   \n\n         grade_2  emp_length  home_ownership_0  ...  pub_rec  revol_bal  \\\n1776310      1.0        10.0               0.0  ...      0.0     1917.0   \n48909        0.0         8.0               0.0  ...      0.0    17530.0   \n1158065      0.0        10.0               0.0  ...      0.0    36216.0   \n377706       1.0        10.0               0.0  ...      0.0     2301.0   \n1188636      1.0         3.0               0.0  ...      0.0     7250.0   \n1684189      0.0        10.0               0.0  ...      0.0   144350.0   \n1999543      1.0         NaN               0.0  ...      0.0     5149.0   \n1785273      0.0         4.0               0.0  ...      0.0     4074.0   \n84475        0.0        10.0               0.0  ...      0.0    17640.0   \n265444       1.0         0.0               0.0  ...      1.0     1579.0   \n\n         revol_util  total_acc  initial_list_status_0  initial_list_status_1  \\\n1776310   16.700001       18.0                    0.0                    1.0   \n48909     34.700001       29.0                    0.0                    1.0   \n1158065   66.300003       58.0                    0.0                    1.0   \n377706    34.900002       33.0                    0.0                    1.0   \n1188636   33.000000       10.0                    1.0                    0.0   \n1684189   97.000000       27.0                    0.0                    1.0   \n1999543   46.799999       30.0                    0.0                    1.0   \n1785273   28.500000       15.0                    0.0                    1.0   \n84475     78.099998       17.0                    1.0                    0.0   \n265444     8.100000       34.0                    0.0                    1.0   \n\n         application_type_0  application_type_1  mort_acc  \\\n1776310                 0.0                 1.0       2.0   \n48909                   0.0                 1.0       5.0   \n1158065                 0.0                 1.0       5.0   \n377706                  0.0                 1.0       4.0   \n1188636                 0.0                 1.0       0.0   \n1684189                 0.0                 1.0       6.0   \n1999543                 0.0                 1.0       0.0   \n1785273                 0.0                 1.0       1.0   \n84475                   0.0                 1.0       2.0   \n265444                  0.0                 1.0       0.0   \n\n         pub_rec_bankruptcies  \n1776310                   0.0  \n48909                     0.0  \n1158065                   0.0  \n377706                    0.0  \n1188636                   0.0  \n1684189                   0.0  \n1999543                   0.0  \n1785273                   0.0  \n84475                     0.0  \n265444                    1.0  \n\n[10 rows x 34 columns]",
      "text/html": "<div>\n<style scoped>\n    .dataframe tbody tr th:only-of-type {\n        vertical-align: middle;\n    }\n\n    .dataframe tbody tr th {\n        vertical-align: top;\n    }\n\n    .dataframe thead th {\n        text-align: right;\n    }\n</style>\n<table border=\"1\" class=\"dataframe\">\n  <thead>\n    <tr style=\"text-align: right;\">\n      <th></th>\n      <th>loan_amnt</th>\n      <th>term_0</th>\n      <th>term_1</th>\n      <th>int_rate</th>\n      <th>installment</th>\n      <th>grade_0</th>\n      <th>grade_1</th>\n      <th>grade_2</th>\n      <th>emp_length</th>\n      <th>home_ownership_0</th>\n      <th>...</th>\n      <th>pub_rec</th>\n      <th>revol_bal</th>\n      <th>revol_util</th>\n      <th>total_acc</th>\n      <th>initial_list_status_0</th>\n      <th>initial_list_status_1</th>\n      <th>application_type_0</th>\n      <th>application_type_1</th>\n      <th>mort_acc</th>\n      <th>pub_rec_bankruptcies</th>\n    </tr>\n  </thead>\n  <tbody>\n    <tr>\n      <th>1776310</th>\n      <td>2000.0</td>\n      <td>0.0</td>\n      <td>1.0</td>\n      <td>8.900000</td>\n      <td>63.509998</td>\n      <td>0.0</td>\n      <td>0.0</td>\n      <td>1.0</td>\n      <td>10.0</td>\n      <td>0.0</td>\n      <td>...</td>\n      <td>0.0</td>\n      <td>1917.0</td>\n      <td>16.700001</td>\n      <td>18.0</td>\n      <td>0.0</td>\n      <td>1.0</td>\n      <td>0.0</td>\n      <td>1.0</td>\n      <td>2.0</td>\n      <td>0.0</td>\n    </tr>\n    <tr>\n      <th>48909</th>\n      <td>30000.0</td>\n      <td>0.0</td>\n      <td>1.0</td>\n      <td>10.990000</td>\n      <td>982.020020</td>\n      <td>0.0</td>\n      <td>1.0</td>\n      <td>0.0</td>\n      <td>8.0</td>\n      <td>0.0</td>\n      <td>...</td>\n      <td>0.0</td>\n      <td>17530.0</td>\n      <td>34.700001</td>\n      <td>29.0</td>\n      <td>0.0</td>\n      <td>1.0</td>\n      <td>0.0</td>\n      <td>1.0</td>\n      <td>5.0</td>\n      <td>0.0</td>\n    </tr>\n    <tr>\n      <th>1158065</th>\n      <td>5600.0</td>\n      <td>0.0</td>\n      <td>1.0</td>\n      <td>12.490000</td>\n      <td>187.320007</td>\n      <td>0.0</td>\n      <td>1.0</td>\n      <td>0.0</td>\n      <td>10.0</td>\n      <td>0.0</td>\n      <td>...</td>\n      <td>0.0</td>\n      <td>36216.0</td>\n      <td>66.300003</td>\n      <td>58.0</td>\n      <td>0.0</td>\n      <td>1.0</td>\n      <td>0.0</td>\n      <td>1.0</td>\n      <td>5.0</td>\n      <td>0.0</td>\n    </tr>\n    <tr>\n      <th>377706</th>\n      <td>12250.0</td>\n      <td>1.0</td>\n      <td>0.0</td>\n      <td>12.390000</td>\n      <td>274.920013</td>\n      <td>0.0</td>\n      <td>1.0</td>\n      <td>1.0</td>\n      <td>10.0</td>\n      <td>0.0</td>\n      <td>...</td>\n      <td>0.0</td>\n      <td>2301.0</td>\n      <td>34.900002</td>\n      <td>33.0</td>\n      <td>0.0</td>\n      <td>1.0</td>\n      <td>0.0</td>\n      <td>1.0</td>\n      <td>4.0</td>\n      <td>0.0</td>\n    </tr>\n    <tr>\n      <th>1188636</th>\n      <td>13200.0</td>\n      <td>1.0</td>\n      <td>0.0</td>\n      <td>14.990000</td>\n      <td>313.959991</td>\n      <td>0.0</td>\n      <td>1.0</td>\n      <td>1.0</td>\n      <td>3.0</td>\n      <td>0.0</td>\n      <td>...</td>\n      <td>0.0</td>\n      <td>7250.0</td>\n      <td>33.000000</td>\n      <td>10.0</td>\n      <td>1.0</td>\n      <td>0.0</td>\n      <td>0.0</td>\n      <td>1.0</td>\n      <td>0.0</td>\n      <td>0.0</td>\n    </tr>\n    <tr>\n      <th>1684189</th>\n      <td>3600.0</td>\n      <td>0.0</td>\n      <td>1.0</td>\n      <td>11.440000</td>\n      <td>118.620003</td>\n      <td>0.0</td>\n      <td>1.0</td>\n      <td>0.0</td>\n      <td>10.0</td>\n      <td>0.0</td>\n      <td>...</td>\n      <td>0.0</td>\n      <td>144350.0</td>\n      <td>97.000000</td>\n      <td>27.0</td>\n      <td>0.0</td>\n      <td>1.0</td>\n      <td>0.0</td>\n      <td>1.0</td>\n      <td>6.0</td>\n      <td>0.0</td>\n    </tr>\n    <tr>\n      <th>1999543</th>\n      <td>1450.0</td>\n      <td>0.0</td>\n      <td>1.0</td>\n      <td>13.990000</td>\n      <td>49.560001</td>\n      <td>0.0</td>\n      <td>1.0</td>\n      <td>1.0</td>\n      <td>NaN</td>\n      <td>0.0</td>\n      <td>...</td>\n      <td>0.0</td>\n      <td>5149.0</td>\n      <td>46.799999</td>\n      <td>30.0</td>\n      <td>0.0</td>\n      <td>1.0</td>\n      <td>0.0</td>\n      <td>1.0</td>\n      <td>0.0</td>\n      <td>0.0</td>\n    </tr>\n    <tr>\n      <th>1785273</th>\n      <td>6400.0</td>\n      <td>0.0</td>\n      <td>1.0</td>\n      <td>19.200001</td>\n      <td>235.250000</td>\n      <td>1.0</td>\n      <td>0.0</td>\n      <td>0.0</td>\n      <td>4.0</td>\n      <td>0.0</td>\n      <td>...</td>\n      <td>0.0</td>\n      <td>4074.0</td>\n      <td>28.500000</td>\n      <td>15.0</td>\n      <td>0.0</td>\n      <td>1.0</td>\n      <td>0.0</td>\n      <td>1.0</td>\n      <td>1.0</td>\n      <td>0.0</td>\n    </tr>\n    <tr>\n      <th>84475</th>\n      <td>24000.0</td>\n      <td>0.0</td>\n      <td>1.0</td>\n      <td>11.530000</td>\n      <td>791.770020</td>\n      <td>0.0</td>\n      <td>1.0</td>\n      <td>0.0</td>\n      <td>10.0</td>\n      <td>0.0</td>\n      <td>...</td>\n      <td>0.0</td>\n      <td>17640.0</td>\n      <td>78.099998</td>\n      <td>17.0</td>\n      <td>1.0</td>\n      <td>0.0</td>\n      <td>0.0</td>\n      <td>1.0</td>\n      <td>2.0</td>\n      <td>0.0</td>\n    </tr>\n    <tr>\n      <th>265444</th>\n      <td>19800.0</td>\n      <td>1.0</td>\n      <td>0.0</td>\n      <td>19.990000</td>\n      <td>524.469971</td>\n      <td>1.0</td>\n      <td>0.0</td>\n      <td>1.0</td>\n      <td>0.0</td>\n      <td>0.0</td>\n      <td>...</td>\n      <td>1.0</td>\n      <td>1579.0</td>\n      <td>8.100000</td>\n      <td>34.0</td>\n      <td>0.0</td>\n      <td>1.0</td>\n      <td>0.0</td>\n      <td>1.0</td>\n      <td>0.0</td>\n      <td>1.0</td>\n    </tr>\n  </tbody>\n</table>\n<p>10 rows × 34 columns</p>\n</div>"
     },
     "execution_count": 10,
     "metadata": {},
     "output_type": "execute_result"
    }
   ],
   "source": [
    "df_binary.head(10)"
   ],
   "metadata": {
    "collapsed": false,
    "pycharm": {
     "name": "#%%\n"
    }
   }
  },
  {
   "cell_type": "markdown",
   "source": [
    "## Create Balanced Data Set via Downsampling"
   ],
   "metadata": {
    "collapsed": false,
    "pycharm": {
     "name": "#%% md\n"
    }
   }
  },
  {
   "cell_type": "code",
   "execution_count": 11,
   "outputs": [
    {
     "name": "stdout",
     "output_type": "stream",
     "text": [
      "0.0    107686\n",
      "1.0     26845\n",
      "Name: loan_status, dtype: int64\n",
      "(134531, 34)\n"
     ]
    },
    {
     "data": {
      "text/plain": "<Figure size 432x288 with 1 Axes>",
      "image/png": "[encoded data removed]"
     },
     "metadata": {},
     "output_type": "display_data"
    }
   ],
   "source": [
    "print(df_binary.loan_status.value_counts())\n",
    "print(df_binary.shape)\n",
    "\n",
    "plt.title(\"Distribution of the target variable\", size=15)\n",
    "df_binary.groupby('loan_status').size().plot(kind='pie', y = \"loan_status\",\n",
    "                                             label = \"Type\", autopct='%1.1f%%',\n",
    "                                             wedgeprops = {\"edgecolor\": \"black\", \"alpha\": 0.75},\n",
    "                                             explode = [0.05, 0.05])\n",
    "plt.show()"
   ],
   "metadata": {
    "collapsed": false,
    "pycharm": {
     "name": "#%%\n"
    }
   }
  },
  {
   "cell_type": "code",
   "execution_count": 12,
   "outputs": [
    {
     "name": "stdout",
     "output_type": "stream",
     "text": [
      "0.0    34898\n",
      "1.0    26845\n",
      "Name: loan_status, dtype: int64\n"
     ]
    },
    {
     "data": {
      "text/plain": "<Figure size 432x288 with 1 Axes>",
      "image/png": "[encoded data removed]"
     },
     "metadata": {},
     "output_type": "display_data"
    }
   ],
   "source": [
    "# Downsampling\n",
    "loan_status_0 = df_binary[df_binary[\"loan_status\"] == 0.0]\n",
    "loan_status_1  = df_binary[df_binary[\"loan_status\"] == 1.0]\n",
    "\n",
    "loan_status_0_downsample = resample(loan_status_0,\n",
    "             replace=True,\n",
    "             n_samples=round(1.3*len(loan_status_1)),\n",
    "             random_state=42)\n",
    "\n",
    "df_binary_downsampled = pd.concat([loan_status_0_downsample, loan_status_1])\n",
    "\n",
    "print(df_binary_downsampled[\"loan_status\"].value_counts())\n",
    "# Plot settings\n",
    "plt.title(\"Distribution of the target variable\", size=15)\n",
    "df_binary_downsampled.groupby('loan_status').size().plot(kind='pie', y = \"loan_status\",\n",
    "                                             label = \"Type\", autopct='%1.1f%%',\n",
    "                                             wedgeprops = {\"edgecolor\": \"black\", \"alpha\": 0.75},\n",
    "                                             explode = [0.03, 0.03])\n",
    "plt.show()"
   ],
   "metadata": {
    "collapsed": false,
    "pycharm": {
     "name": "#%%\n"
    }
   }
  },
  {
   "cell_type": "markdown",
   "source": [
    "## Data Imputation\n",
    "Since we still have some NaNs in our feature, we replace them by taking the median values."
   ],
   "metadata": {
    "collapsed": false,
    "pycharm": {
     "name": "#%% md\n"
    }
   }
  },
  {
   "cell_type": "code",
   "execution_count": 13,
   "outputs": [
    {
     "data": {
      "text/plain": "         loan_amnt  term_0  term_1  int_rate  installment  grade_0  grade_1  \\\n1044962    11200.0     0.0     1.0     10.75   365.350006      0.0      1.0   \n367686     13150.0     0.0     1.0     13.99   449.380005      0.0      1.0   \n91768      35000.0     0.0     1.0     11.53  1154.660034      0.0      1.0   \n127940     16000.0     0.0     1.0      7.89   500.579987      0.0      0.0   \n90673      25000.0     0.0     1.0      6.24   763.280029      0.0      0.0   \n\n         grade_2  emp_length  home_ownership_0  ...  pub_rec  revol_bal  \\\n1044962      0.0         9.0               0.0  ...      0.0     7425.0   \n367686       1.0         2.0               0.0  ...      1.0     3781.0   \n91768        0.0         3.0               0.0  ...      0.0   121314.0   \n127940       1.0        10.0               0.0  ...      0.0    18321.0   \n90673        1.0        10.0               0.0  ...      0.0    69122.0   \n\n         revol_util  total_acc  initial_list_status_0  initial_list_status_1  \\\n1044962   23.000000       12.0                    0.0                    1.0   \n367686    43.500000       48.0                    1.0                    0.0   \n91768     62.799999       32.0                    0.0                    1.0   \n127940    54.200001       28.0                    0.0                    1.0   \n90673     94.699997       15.0                    0.0                    1.0   \n\n         application_type_0  application_type_1  mort_acc  \\\n1044962                 0.0                 1.0       1.0   \n367686                  0.0                 1.0       5.0   \n91768                   0.0                 1.0       3.0   \n127940                  0.0                 1.0       3.0   \n90673                   0.0                 1.0       5.0   \n\n         pub_rec_bankruptcies  \n1044962                   0.0  \n367686                    1.0  \n91768                     0.0  \n127940                    0.0  \n90673                     0.0  \n\n[5 rows x 34 columns]",
      "text/html": "<div>\n<style scoped>\n    .dataframe tbody tr th:only-of-type {\n        vertical-align: middle;\n    }\n\n    .dataframe tbody tr th {\n        vertical-align: top;\n    }\n\n    .dataframe thead th {\n        text-align: right;\n    }\n</style>\n<table border=\"1\" class=\"dataframe\">\n  <thead>\n    <tr style=\"text-align: right;\">\n      <th></th>\n      <th>loan_amnt</th>\n      <th>term_0</th>\n      <th>term_1</th>\n      <th>int_rate</th>\n      <th>installment</th>\n      <th>grade_0</th>\n      <th>grade_1</th>\n      <th>grade_2</th>\n      <th>emp_length</th>\n      <th>home_ownership_0</th>\n      <th>...</th>\n      <th>pub_rec</th>\n      <th>revol_bal</th>\n      <th>revol_util</th>\n      <th>total_acc</th>\n      <th>initial_list_status_0</th>\n      <th>initial_list_status_1</th>\n      <th>application_type_0</th>\n      <th>application_type_1</th>\n      <th>mort_acc</th>\n      <th>pub_rec_bankruptcies</th>\n    </tr>\n  </thead>\n  <tbody>\n    <tr>\n      <th>1044962</th>\n      <td>11200.0</td>\n      <td>0.0</td>\n      <td>1.0</td>\n      <td>10.75</td>\n      <td>365.350006</td>\n      <td>0.0</td>\n      <td>1.0</td>\n      <td>0.0</td>\n      <td>9.0</td>\n      <td>0.0</td>\n      <td>...</td>\n      <td>0.0</td>\n      <td>7425.0</td>\n      <td>23.000000</td>\n      <td>12.0</td>\n      <td>0.0</td>\n      <td>1.0</td>\n      <td>0.0</td>\n      <td>1.0</td>\n      <td>1.0</td>\n      <td>0.0</td>\n    </tr>\n    <tr>\n      <th>367686</th>\n      <td>13150.0</td>\n      <td>0.0</td>\n      <td>1.0</td>\n      <td>13.99</td>\n      <td>449.380005</td>\n      <td>0.0</td>\n      <td>1.0</td>\n      <td>1.0</td>\n      <td>2.0</td>\n      <td>0.0</td>\n      <td>...</td>\n      <td>1.0</td>\n      <td>3781.0</td>\n      <td>43.500000</td>\n      <td>48.0</td>\n      <td>1.0</td>\n      <td>0.0</td>\n      <td>0.0</td>\n      <td>1.0</td>\n      <td>5.0</td>\n      <td>1.0</td>\n    </tr>\n    <tr>\n      <th>91768</th>\n      <td>35000.0</td>\n      <td>0.0</td>\n      <td>1.0</td>\n      <td>11.53</td>\n      <td>1154.660034</td>\n      <td>0.0</td>\n      <td>1.0</td>\n      <td>0.0</td>\n      <td>3.0</td>\n      <td>0.0</td>\n      <td>...</td>\n      <td>0.0</td>\n      <td>121314.0</td>\n      <td>62.799999</td>\n      <td>32.0</td>\n      <td>0.0</td>\n      <td>1.0</td>\n      <td>0.0</td>\n      <td>1.0</td>\n      <td>3.0</td>\n      <td>0.0</td>\n    </tr>\n    <tr>\n      <th>127940</th>\n      <td>16000.0</td>\n      <td>0.0</td>\n      <td>1.0</td>\n      <td>7.89</td>\n      <td>500.579987</td>\n      <td>0.0</td>\n      <td>0.0</td>\n      <td>1.0</td>\n      <td>10.0</td>\n      <td>0.0</td>\n      <td>...</td>\n      <td>0.0</td>\n      <td>18321.0</td>\n      <td>54.200001</td>\n      <td>28.0</td>\n      <td>0.0</td>\n      <td>1.0</td>\n      <td>0.0</td>\n      <td>1.0</td>\n      <td>3.0</td>\n      <td>0.0</td>\n    </tr>\n    <tr>\n      <th>90673</th>\n      <td>25000.0</td>\n      <td>0.0</td>\n      <td>1.0</td>\n      <td>6.24</td>\n      <td>763.280029</td>\n      <td>0.0</td>\n      <td>0.0</td>\n      <td>1.0</td>\n      <td>10.0</td>\n      <td>0.0</td>\n      <td>...</td>\n      <td>0.0</td>\n      <td>69122.0</td>\n      <td>94.699997</td>\n      <td>15.0</td>\n      <td>0.0</td>\n      <td>1.0</td>\n      <td>0.0</td>\n      <td>1.0</td>\n      <td>5.0</td>\n      <td>0.0</td>\n    </tr>\n  </tbody>\n</table>\n<p>5 rows × 34 columns</p>\n</div>"
     },
     "execution_count": 13,
     "metadata": {},
     "output_type": "execute_result"
    }
   ],
   "source": [
    "# Fill NaNs with Median\n",
    "df_binary_downsampled = df_binary_downsampled.fillna(df_binary_downsampled.median())\n",
    "# Preview\n",
    "df_binary_downsampled.head(5)"
   ],
   "metadata": {
    "collapsed": false,
    "pycharm": {
     "name": "#%%\n"
    }
   }
  },
  {
   "cell_type": "markdown",
   "source": [
    "## Data Split\n",
    "In this section we split the data into a training and test set. The corresponding model is then trained on the training set and tested on the test set."
   ],
   "metadata": {
    "collapsed": false,
    "pycharm": {
     "name": "#%% md\n"
    }
   }
  },
  {
   "cell_type": "code",
   "execution_count": 14,
   "outputs": [
    {
     "name": "stdout",
     "output_type": "stream",
     "text": [
      "Shape of X_train: (43220, 33)\n",
      "Shape of X_test: (18523, 33)\n",
      "Shape of y_train: (43220,)\n",
      "Shape of y_test: (18523,)\n"
     ]
    }
   ],
   "source": [
    "# Fraction of test data\n",
    "TEST_SIZE = 0.3\n",
    "\n",
    "X = df_binary_downsampled.drop(\"loan_status\", axis=1)\n",
    "y = df_binary_downsampled[\"loan_status\"]\n",
    "\n",
    "# Split data into train and test data\n",
    "X_train, X_test, y_train, y_test = train_test_split(X, y, test_size=TEST_SIZE, random_state=42, stratify=y)\n",
    "\n",
    "print(f\"Shape of X_train: {X_train.shape}\")\n",
    "print(f\"Shape of X_test: {X_test.shape}\")\n",
    "print(f\"Shape of y_train: {y_train.shape}\")\n",
    "print(f\"Shape of y_test: {y_test.shape}\")"
   ],
   "metadata": {
    "collapsed": false,
    "pycharm": {
     "name": "#%%\n"
    }
   }
  },
  {
   "cell_type": "markdown",
   "source": [
    "## Scaling\n",
    "We scale the data with the MinMaxScaler to a range of $[0, 1]$"
   ],
   "metadata": {
    "collapsed": false,
    "pycharm": {
     "name": "#%% md\n"
    }
   }
  },
  {
   "cell_type": "code",
   "execution_count": 15,
   "outputs": [
    {
     "data": {
      "text/plain": "         0    1    2         3         4    5    6    7    8    9   ...  \\\n0  0.181586  0.0  1.0  0.068536  0.129775  0.0  0.0  1.0  1.0  0.0  ...   \n1  0.462916  1.0  0.0  0.100467  0.211017  0.0  0.0  1.0  0.8  0.0  ...   \n2  0.248082  1.0  0.0  0.857866  0.176369  1.0  1.0  1.0  0.0  0.0  ...   \n3  0.156010  0.0  1.0  0.663551  0.142426  1.0  0.0  0.0  0.4  0.0  ...   \n4  0.258312  0.0  1.0  0.389408  0.210270  0.0  1.0  1.0  0.6  0.0  ...   \n5  0.253197  0.0  1.0  0.401090  0.207079  1.0  0.0  0.0  0.3  0.0  ...   \n6  0.161125  0.0  1.0  0.119938  0.117700  0.0  1.0  0.0  0.4  0.0  ...   \n7  0.362532  1.0  0.0  0.493769  0.210110  1.0  0.0  0.0  1.0  0.0  ...   \n8  0.744246  1.0  0.0  0.150312  0.353935  0.0  1.0  0.0  0.4  0.0  ...   \n9  0.163683  0.0  1.0  0.400312  0.134461  0.0  1.0  1.0  0.6  0.0  ...   \n\n         23        24        25        26   27   28   29   30        31  \\\n0  0.000000  0.031673  0.238918  0.251497  0.0  1.0  0.0  1.0  0.103448   \n1  0.000000  0.030883  0.238918  0.155689  0.0  1.0  0.0  1.0  0.000000   \n2  0.000000  0.004773  0.251690  0.107784  0.0  1.0  0.0  1.0  0.000000   \n3  0.021739  0.002666  0.063862  0.041916  1.0  0.0  0.0  1.0  0.034483   \n4  0.000000  0.009118  0.279489  0.107784  0.0  1.0  0.0  1.0  0.000000   \n5  0.000000  0.014517  0.540947  0.053892  1.0  0.0  0.0  1.0  0.000000   \n6  0.021739  0.007812  0.540947  0.095808  0.0  1.0  0.0  1.0  0.034483   \n7  0.000000  0.017488  0.719008  0.059880  0.0  1.0  0.0  1.0  0.137931   \n8  0.000000  0.036822  0.265214  0.197605  0.0  1.0  0.0  1.0  0.034483   \n9  0.000000  0.017854  0.262209  0.077844  0.0  1.0  0.0  1.0  0.068966   \n\n         32  \n0  0.000000  \n1  0.000000  \n2  0.000000  \n3  0.111111  \n4  0.000000  \n5  0.000000  \n6  0.111111  \n7  0.000000  \n8  0.000000  \n9  0.000000  \n\n[10 rows x 33 columns]",
      "text/html": "<div>\n<style scoped>\n    .dataframe tbody tr th:only-of-type {\n        vertical-align: middle;\n    }\n\n    .dataframe tbody tr th {\n        vertical-align: top;\n    }\n\n    .dataframe thead th {\n        text-align: right;\n    }\n</style>\n<table border=\"1\" class=\"dataframe\">\n  <thead>\n    <tr style=\"text-align: right;\">\n      <th></th>\n      <th>0</th>\n      <th>1</th>\n      <th>2</th>\n      <th>3</th>\n      <th>4</th>\n      <th>5</th>\n      <th>6</th>\n      <th>7</th>\n      <th>8</th>\n      <th>9</th>\n      <th>...</th>\n      <th>23</th>\n      <th>24</th>\n      <th>25</th>\n      <th>26</th>\n      <th>27</th>\n      <th>28</th>\n      <th>29</th>\n      <th>30</th>\n      <th>31</th>\n      <th>32</th>\n    </tr>\n  </thead>\n  <tbody>\n    <tr>\n      <th>0</th>\n      <td>0.181586</td>\n      <td>0.0</td>\n      <td>1.0</td>\n      <td>0.068536</td>\n      <td>0.129775</td>\n      <td>0.0</td>\n      <td>0.0</td>\n      <td>1.0</td>\n      <td>1.0</td>\n      <td>0.0</td>\n      <td>...</td>\n      <td>0.000000</td>\n      <td>0.031673</td>\n      <td>0.238918</td>\n      <td>0.251497</td>\n      <td>0.0</td>\n      <td>1.0</td>\n      <td>0.0</td>\n      <td>1.0</td>\n      <td>0.103448</td>\n      <td>0.000000</td>\n    </tr>\n    <tr>\n      <th>1</th>\n      <td>0.462916</td>\n      <td>1.0</td>\n      <td>0.0</td>\n      <td>0.100467</td>\n      <td>0.211017</td>\n      <td>0.0</td>\n      <td>0.0</td>\n      <td>1.0</td>\n      <td>0.8</td>\n      <td>0.0</td>\n      <td>...</td>\n      <td>0.000000</td>\n      <td>0.030883</td>\n      <td>0.238918</td>\n      <td>0.155689</td>\n      <td>0.0</td>\n      <td>1.0</td>\n      <td>0.0</td>\n      <td>1.0</td>\n      <td>0.000000</td>\n      <td>0.000000</td>\n    </tr>\n    <tr>\n      <th>2</th>\n      <td>0.248082</td>\n      <td>1.0</td>\n      <td>0.0</td>\n      <td>0.857866</td>\n      <td>0.176369</td>\n      <td>1.0</td>\n      <td>1.0</td>\n      <td>1.0</td>\n      <td>0.0</td>\n      <td>0.0</td>\n      <td>...</td>\n      <td>0.000000</td>\n      <td>0.004773</td>\n      <td>0.251690</td>\n      <td>0.107784</td>\n      <td>0.0</td>\n      <td>1.0</td>\n      <td>0.0</td>\n      <td>1.0</td>\n      <td>0.000000</td>\n      <td>0.000000</td>\n    </tr>\n    <tr>\n      <th>3</th>\n      <td>0.156010</td>\n      <td>0.0</td>\n      <td>1.0</td>\n      <td>0.663551</td>\n      <td>0.142426</td>\n      <td>1.0</td>\n      <td>0.0</td>\n      <td>0.0</td>\n      <td>0.4</td>\n      <td>0.0</td>\n      <td>...</td>\n      <td>0.021739</td>\n      <td>0.002666</td>\n      <td>0.063862</td>\n      <td>0.041916</td>\n      <td>1.0</td>\n      <td>0.0</td>\n      <td>0.0</td>\n      <td>1.0</td>\n      <td>0.034483</td>\n      <td>0.111111</td>\n    </tr>\n    <tr>\n      <th>4</th>\n      <td>0.258312</td>\n      <td>0.0</td>\n      <td>1.0</td>\n      <td>0.389408</td>\n      <td>0.210270</td>\n      <td>0.0</td>\n      <td>1.0</td>\n      <td>1.0</td>\n      <td>0.6</td>\n      <td>0.0</td>\n      <td>...</td>\n      <td>0.000000</td>\n      <td>0.009118</td>\n      <td>0.279489</td>\n      <td>0.107784</td>\n      <td>0.0</td>\n      <td>1.0</td>\n      <td>0.0</td>\n      <td>1.0</td>\n      <td>0.000000</td>\n      <td>0.000000</td>\n    </tr>\n    <tr>\n      <th>5</th>\n      <td>0.253197</td>\n      <td>0.0</td>\n      <td>1.0</td>\n      <td>0.401090</td>\n      <td>0.207079</td>\n      <td>1.0</td>\n      <td>0.0</td>\n      <td>0.0</td>\n      <td>0.3</td>\n      <td>0.0</td>\n      <td>...</td>\n      <td>0.000000</td>\n      <td>0.014517</td>\n      <td>0.540947</td>\n      <td>0.053892</td>\n      <td>1.0</td>\n      <td>0.0</td>\n      <td>0.0</td>\n      <td>1.0</td>\n      <td>0.000000</td>\n      <td>0.000000</td>\n    </tr>\n    <tr>\n      <th>6</th>\n      <td>0.161125</td>\n      <td>0.0</td>\n      <td>1.0</td>\n      <td>0.119938</td>\n      <td>0.117700</td>\n      <td>0.0</td>\n      <td>1.0</td>\n      <td>0.0</td>\n      <td>0.4</td>\n      <td>0.0</td>\n      <td>...</td>\n      <td>0.021739</td>\n      <td>0.007812</td>\n      <td>0.540947</td>\n      <td>0.095808</td>\n      <td>0.0</td>\n      <td>1.0</td>\n      <td>0.0</td>\n      <td>1.0</td>\n      <td>0.034483</td>\n      <td>0.111111</td>\n    </tr>\n    <tr>\n      <th>7</th>\n      <td>0.362532</td>\n      <td>1.0</td>\n      <td>0.0</td>\n      <td>0.493769</td>\n      <td>0.210110</td>\n      <td>1.0</td>\n      <td>0.0</td>\n      <td>0.0</td>\n      <td>1.0</td>\n      <td>0.0</td>\n      <td>...</td>\n      <td>0.000000</td>\n      <td>0.017488</td>\n      <td>0.719008</td>\n      <td>0.059880</td>\n      <td>0.0</td>\n      <td>1.0</td>\n      <td>0.0</td>\n      <td>1.0</td>\n      <td>0.137931</td>\n      <td>0.000000</td>\n    </tr>\n    <tr>\n      <th>8</th>\n      <td>0.744246</td>\n      <td>1.0</td>\n      <td>0.0</td>\n      <td>0.150312</td>\n      <td>0.353935</td>\n      <td>0.0</td>\n      <td>1.0</td>\n      <td>0.0</td>\n      <td>0.4</td>\n      <td>0.0</td>\n      <td>...</td>\n      <td>0.000000</td>\n      <td>0.036822</td>\n      <td>0.265214</td>\n      <td>0.197605</td>\n      <td>0.0</td>\n      <td>1.0</td>\n      <td>0.0</td>\n      <td>1.0</td>\n      <td>0.034483</td>\n      <td>0.000000</td>\n    </tr>\n    <tr>\n      <th>9</th>\n      <td>0.163683</td>\n      <td>0.0</td>\n      <td>1.0</td>\n      <td>0.400312</td>\n      <td>0.134461</td>\n      <td>0.0</td>\n      <td>1.0</td>\n      <td>1.0</td>\n      <td>0.6</td>\n      <td>0.0</td>\n      <td>...</td>\n      <td>0.000000</td>\n      <td>0.017854</td>\n      <td>0.262209</td>\n      <td>0.077844</td>\n      <td>0.0</td>\n      <td>1.0</td>\n      <td>0.0</td>\n      <td>1.0</td>\n      <td>0.068966</td>\n      <td>0.000000</td>\n    </tr>\n  </tbody>\n</table>\n<p>10 rows × 33 columns</p>\n</div>"
     },
     "execution_count": 15,
     "metadata": {},
     "output_type": "execute_result"
    }
   ],
   "source": [
    "# Init object\n",
    "scaler = MinMaxScaler()\n",
    "# Scale X_train\n",
    "X_train_scaled = scaler.fit_transform(X_train)\n",
    "X_train_scaled = pd.DataFrame(X_train_scaled)\n",
    "# Scale X_test\n",
    "X_test_scaled = scaler.transform(X_test)\n",
    "X_test_scaled = pd.DataFrame(X_test_scaled)\n",
    "\n",
    "# Preview X_train_scaled\n",
    "X_train_scaled.head(10)"
   ],
   "metadata": {
    "collapsed": false,
    "pycharm": {
     "name": "#%%\n"
    }
   }
  },
  {
   "cell_type": "markdown",
   "source": [
    "---\n",
    "# Task 3: Logistic Regression In Sample\n",
    "Use logistic regression (in-sample) for default prediction. Interpret your results for logistic regression"
   ],
   "metadata": {
    "collapsed": false,
    "pycharm": {
     "name": "#%% md\n"
    }
   }
  },
  {
   "cell_type": "code",
   "execution_count": 16,
   "outputs": [],
   "source": [
    "# Fit Model\n",
    "lr = LogisticRegression(max_iter=1000, fit_intercept=True)\n",
    "lr.fit(X_train_scaled, y_train)\n",
    "\n",
    "# Predict in sample, i.e. predict on seen data (trainings data) instead of unseen data (test)\n",
    "y_pred = lr.predict(X_train_scaled)"
   ],
   "metadata": {
    "collapsed": false,
    "pycharm": {
     "name": "#%%\n"
    }
   }
  },
  {
   "cell_type": "markdown",
   "source": [
    "## Test Model"
   ],
   "metadata": {
    "collapsed": false,
    "pycharm": {
     "name": "#%% md\n"
    }
   }
  },
  {
   "cell_type": "code",
   "execution_count": 17,
   "outputs": [
    {
     "data": {
      "text/plain": "<Figure size 432x288 with 2 Axes>",
      "image/png": "[encoded data removed]"
     },
     "metadata": {},
     "output_type": "display_data"
    },
    {
     "name": "stdout",
     "output_type": "stream",
     "text": [
      "              precision    recall  f1-score   support\n",
      "\n",
      "         0.0       0.66      0.79      0.72     24429\n",
      "         1.0       0.64      0.49      0.55     18791\n",
      "\n",
      "    accuracy                           0.66     43220\n",
      "   macro avg       0.65      0.64      0.64     43220\n",
      "weighted avg       0.65      0.66      0.65     43220\n",
      "\n"
     ]
    }
   ],
   "source": [
    "# Plot Confusion matrics\n",
    "cm = confusion_matrix(y_true=y_train, y_pred=y_pred)\n",
    "sns.heatmap(cm, annot=True, fmt='d')\n",
    "plt.title(\"Confusion matrix\")\n",
    "plt.xlabel(\"Predicted\")\n",
    "plt.ylabel(\"Actual\")\n",
    "plt.show()\n",
    "\n",
    "# Plot classification report\n",
    "print(classification_report(y_true=y_train, y_pred=y_pred))\n",
    "#print(precision_recall_fscore_support(y_true=y_train, y_pred=y_pred, average=\"micro\"))\n",
    "#print(round(accuracy_score(y_true=y_train, y_pred=y_pred), 4))"
   ],
   "metadata": {
    "collapsed": false,
    "pycharm": {
     "name": "#%%\n"
    }
   }
  },
  {
   "cell_type": "markdown",
   "source": [
    "---\n",
    "# Task 4: Compare different classification models\n",
    "Comparing\n",
    "* logistic regression,\n",
    "* classification tree,\n",
    "* random forest,\n",
    "* bagging,\n",
    "* support vector machine (with two kernel functions),\n",
    "* and neural network\n",
    "for default prediction based on the out-of-sample performance measures (at least three different measures)."
   ],
   "metadata": {
    "collapsed": false,
    "pycharm": {
     "name": "#%% md\n"
    }
   }
  },
  {
   "cell_type": "code",
   "execution_count": 18,
   "outputs": [
    {
     "data": {
      "text/plain": "  0%|          | 0/7 [00:00<?, ?it/s]",
      "application/vnd.jupyter.widget-view+json": {
       "version_major": 2,
       "version_minor": 0,
       "model_id": "c86c662dbaec4755a5e5bec7a3ea97ec"
      }
     },
     "metadata": {},
     "output_type": "display_data"
    },
    {
     "name": "stdout",
     "output_type": "stream",
     "text": [
      "CPU times: user 255 ms, sys: 189 ms, total: 444 ms\n",
      "Wall time: 46.2 s\n"
     ]
    }
   ],
   "source": [
    "%%time\n",
    "models = []\n",
    "\n",
    "models.append((\"LogisticRegression\",LogisticRegression(fit_intercept=True, max_iter=1000, solver=\"saga\")))\n",
    "models.append((\"DecisionTree\",DecisionTreeClassifier()))\n",
    "models.append((\"RandomForest\",RandomForestClassifier()))\n",
    "models.append((\"BaggingCLF\",BaggingClassifier()))\n",
    "models.append((\"SVC_rbf\",SVC(kernel='rbf', max_iter=500)))\n",
    "models.append((\"SVC_linear\",SVC(kernel=\"linear\", max_iter=500)))\n",
    "models.append((\"NeuronalNetwork\", MLPClassifier(alpha=1, max_iter=1000)))\n",
    "\n",
    "results = []\n",
    "names = []\n",
    "# Define scoring metrices for CV\n",
    "scoring = [\"accuracy\", \"precision_micro\", \"recall_micro\", \"f1_micro\"]\n",
    "for name, model in tqdm(models):\n",
    "    result = cross_validate(model, X_train_scaled, y_train,  cv=3, n_jobs=-1, scoring=scoring)\n",
    "    names.append(name)\n",
    "    results.append(result)"
   ],
   "metadata": {
    "collapsed": false,
    "pycharm": {
     "name": "#%%\n"
    }
   }
  },
  {
   "cell_type": "code",
   "execution_count": 65,
   "outputs": [
    {
     "data": {
      "text/plain": "                    fit_time  test_accuracy  test_precision_micro  \\\nRandomForest          6.4359         0.6716                0.6716   \nLogisticRegression    1.3589         0.6540                0.6540   \nNeuronalNetwork      11.5880         0.6497                0.6497   \nBaggingCLF            3.1593         0.6421                0.6421   \nDecisionTree          0.4898         0.6025                0.6025   \nSVC_rbf               6.7217         0.5084                0.5084   \nSVC_linear            2.3386         0.4447                0.4447   \n\n                    test_recall_micro  test_f1_micro  \nRandomForest                   0.6716         0.6716  \nLogisticRegression             0.6540         0.6540  \nNeuronalNetwork                0.6497         0.6497  \nBaggingCLF                     0.6421         0.6421  \nDecisionTree                   0.6025         0.6025  \nSVC_rbf                        0.5084         0.5084  \nSVC_linear                     0.4447         0.4447  ",
      "text/html": "<div>\n<style scoped>\n    .dataframe tbody tr th:only-of-type {\n        vertical-align: middle;\n    }\n\n    .dataframe tbody tr th {\n        vertical-align: top;\n    }\n\n    .dataframe thead th {\n        text-align: right;\n    }\n</style>\n<table border=\"1\" class=\"dataframe\">\n  <thead>\n    <tr style=\"text-align: right;\">\n      <th></th>\n      <th>fit_time</th>\n      <th>test_accuracy</th>\n      <th>test_precision_micro</th>\n      <th>test_recall_micro</th>\n      <th>test_f1_micro</th>\n    </tr>\n  </thead>\n  <tbody>\n    <tr>\n      <th>RandomForest</th>\n      <td>6.4359</td>\n      <td>0.6716</td>\n      <td>0.6716</td>\n      <td>0.6716</td>\n      <td>0.6716</td>\n    </tr>\n    <tr>\n      <th>LogisticRegression</th>\n      <td>1.3589</td>\n      <td>0.6540</td>\n      <td>0.6540</td>\n      <td>0.6540</td>\n      <td>0.6540</td>\n    </tr>\n    <tr>\n      <th>NeuronalNetwork</th>\n      <td>11.5880</td>\n      <td>0.6497</td>\n      <td>0.6497</td>\n      <td>0.6497</td>\n      <td>0.6497</td>\n    </tr>\n    <tr>\n      <th>BaggingCLF</th>\n      <td>3.1593</td>\n      <td>0.6421</td>\n      <td>0.6421</td>\n      <td>0.6421</td>\n      <td>0.6421</td>\n    </tr>\n    <tr>\n      <th>DecisionTree</th>\n      <td>0.4898</td>\n      <td>0.6025</td>\n      <td>0.6025</td>\n      <td>0.6025</td>\n      <td>0.6025</td>\n    </tr>\n    <tr>\n      <th>SVC_rbf</th>\n      <td>6.7217</td>\n      <td>0.5084</td>\n      <td>0.5084</td>\n      <td>0.5084</td>\n      <td>0.5084</td>\n    </tr>\n    <tr>\n      <th>SVC_linear</th>\n      <td>2.3386</td>\n      <td>0.4447</td>\n      <td>0.4447</td>\n      <td>0.4447</td>\n      <td>0.4447</td>\n    </tr>\n  </tbody>\n</table>\n</div>"
     },
     "execution_count": 65,
     "metadata": {},
     "output_type": "execute_result"
    }
   ],
   "source": [
    "# Get name of metrices (will be column in result_df)\n",
    "metrices = list(results[0].keys())\n",
    "# Create empty dataframe\n",
    "results_df = pd.DataFrame(index=names, columns=metrices, dtype=\"float32\")\n",
    "\n",
    "# File dataframe by iterating over all results and taking the mean value\n",
    "for i, name in enumerate(models):\n",
    "    mean_of_metrices = []\n",
    "    for key in results[i].keys():\n",
    "        mean_of_metrices.append(results[i].get(key).mean())\n",
    "    results_df.iloc[i] = mean_of_metrices\n",
    "\n",
    "# Drop scoring_time column as it is not of interest\n",
    "results_df.drop(\"score_time\", axis=1, inplace=True)\n",
    "# Round to 4 decimal places\n",
    "results_df = results_df.round(decimals=4)\n",
    "# Sort descending of f1 score\n",
    "results_df = results_df.sort_values(by=\"test_f1_micro\", ascending=False)\n",
    "# Preview\n",
    "results_df"
   ],
   "metadata": {
    "collapsed": false,
    "pycharm": {
     "name": "#%%\n"
    }
   }
  }
 ],
 "metadata": {
  "kernelspec": {
   "name": "python3",
   "language": "python",
   "display_name": "Python 3 (ipykernel)"
  },
  "language_info": {
   "codemirror_mode": {
    "name": "ipython",
    "version": 2
   },
   "file_extension": ".py",
   "mimetype": "text/x-python",
   "name": "python",
   "nbconvert_exporter": "python",
   "pygments_lexer": "ipython2",
   "version": "2.7.6"
  }
 },
 "nbformat": 4,
 "nbformat_minor": 0
}