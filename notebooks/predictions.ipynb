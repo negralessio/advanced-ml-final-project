{
 "cells": [
  {
   "cell_type": "markdown",
   "metadata": {
    "collapsed": false,
    "pycharm": {
     "name": "#%% md\n"
    }
   },
   "source": [
    "# Task 3\n",
    "---"
   ]
  },
  {
   "cell_type": "code",
   "execution_count": 1,
   "metadata": {
    "collapsed": false,
    "pycharm": {
     "name": "#%%\n"
    }
   },
   "outputs": [],
   "source": [
    "import pandas as pd\n",
    "import numpy as np\n",
    "import matplotlib.pyplot as plt\n",
    "import seaborn as sns\n",
    "from sklearn.utils import resample\n",
    "# For modeling\n",
    "from sklearn.linear_model import LogisticRegression\n",
    "from sklearn.ensemble import RandomForestClassifier, BaggingClassifier\n",
    "from sklearn.tree import DecisionTreeClassifier\n",
    "from sklearn.neural_network import MLPClassifier\n",
    "from sklearn.metrics import confusion_matrix, classification_report\n",
    "from sklearn.model_selection import cross_val_score, train_test_split\n",
    "from sklearn.preprocessing import StandardScaler\n",
    "from sklearn.svm import SVC\n",
    "from sklearn.pipeline import Pipeline\n",
    "from tqdm import tqdm\n",
    "from matplotlib.colors import ListedColormap\n",
    "sns.set_palette('viridis')\n",
    "pd.options.mode.chained_assignment = None  # Supress warning, default='warn'"
   ]
  },
  {
   "cell_type": "markdown",
   "metadata": {
    "collapsed": false,
    "pycharm": {
     "name": "#%% md\n"
    }
   },
   "source": [
    "# Read Data\n",
    "In this section we read the data in after the preprocessing from the preprocessing notebook"
   ]
  },
  {
   "cell_type": "code",
   "execution_count": 2,
   "metadata": {
    "collapsed": false,
    "pycharm": {
     "name": "#%%\n"
    }
   },
   "outputs": [
    {
     "name": "stdout",
     "output_type": "stream",
     "text": [
      "Shape of df: (1345310, 94)\n"
     ]
    },
    {
     "data": {
      "text/plain": "   loan_amnt  funded_amnt  funded_amnt_inv term  int_rate  installment grade  \\\n0     3600.0       3600.0           3600.0   36     13.99       123.03     C   \n1    24700.0      24700.0          24700.0   36     11.99       820.28     C   \n2    20000.0      20000.0          20000.0   60     10.78       432.66     B   \n4    10400.0      10400.0          10400.0   60     22.45       289.91     F   \n5    11950.0      11950.0          11950.0   36     13.44       405.18     C   \n\n  sub_grade  emp_length home_ownership  ...  num_tl_90g_dpd_24m  \\\n0        C4        10.0       MORTGAGE  ...                 0.0   \n1        C1        10.0       MORTGAGE  ...                 0.0   \n2        B4        10.0       MORTGAGE  ...                 0.0   \n4        F1         3.0       MORTGAGE  ...                 0.0   \n5        C3         4.0           RENT  ...                 0.0   \n\n  num_tl_op_past_12m  pct_tl_nvr_dlq  percent_bc_gt_75  pub_rec_bankruptcies  \\\n0                3.0            76.9               0.0                   0.0   \n1                2.0            97.4               7.7                   0.0   \n2                0.0           100.0              50.0                   0.0   \n4                4.0            96.6              60.0                   0.0   \n5                0.0           100.0             100.0                   0.0   \n\n   tax_liens  tot_hi_cred_lim  total_bal_ex_mort  total_bc_limit  \\\n0        0.0         178050.0             7746.0          2400.0   \n1        0.0         314017.0            39475.0         79300.0   \n2        0.0         218418.0            18696.0          6200.0   \n4        0.0         439570.0            95768.0         20300.0   \n5        0.0          16900.0            12798.0          9400.0   \n\n   total_il_high_credit_limit  \n0                     13734.0  \n1                     24667.0  \n2                     14877.0  \n4                     88097.0  \n5                      4000.0  \n\n[5 rows x 94 columns]",
      "text/html": "<div>\n<style scoped>\n    .dataframe tbody tr th:only-of-type {\n        vertical-align: middle;\n    }\n\n    .dataframe tbody tr th {\n        vertical-align: top;\n    }\n\n    .dataframe thead th {\n        text-align: right;\n    }\n</style>\n<table border=\"1\" class=\"dataframe\">\n  <thead>\n    <tr style=\"text-align: right;\">\n      <th></th>\n      <th>loan_amnt</th>\n      <th>funded_amnt</th>\n      <th>funded_amnt_inv</th>\n      <th>term</th>\n      <th>int_rate</th>\n      <th>installment</th>\n      <th>grade</th>\n      <th>sub_grade</th>\n      <th>emp_length</th>\n      <th>home_ownership</th>\n      <th>...</th>\n      <th>num_tl_90g_dpd_24m</th>\n      <th>num_tl_op_past_12m</th>\n      <th>pct_tl_nvr_dlq</th>\n      <th>percent_bc_gt_75</th>\n      <th>pub_rec_bankruptcies</th>\n      <th>tax_liens</th>\n      <th>tot_hi_cred_lim</th>\n      <th>total_bal_ex_mort</th>\n      <th>total_bc_limit</th>\n      <th>total_il_high_credit_limit</th>\n    </tr>\n  </thead>\n  <tbody>\n    <tr>\n      <th>0</th>\n      <td>3600.0</td>\n      <td>3600.0</td>\n      <td>3600.0</td>\n      <td>36</td>\n      <td>13.99</td>\n      <td>123.03</td>\n      <td>C</td>\n      <td>C4</td>\n      <td>10.0</td>\n      <td>MORTGAGE</td>\n      <td>...</td>\n      <td>0.0</td>\n      <td>3.0</td>\n      <td>76.9</td>\n      <td>0.0</td>\n      <td>0.0</td>\n      <td>0.0</td>\n      <td>178050.0</td>\n      <td>7746.0</td>\n      <td>2400.0</td>\n      <td>13734.0</td>\n    </tr>\n    <tr>\n      <th>1</th>\n      <td>24700.0</td>\n      <td>24700.0</td>\n      <td>24700.0</td>\n      <td>36</td>\n      <td>11.99</td>\n      <td>820.28</td>\n      <td>C</td>\n      <td>C1</td>\n      <td>10.0</td>\n      <td>MORTGAGE</td>\n      <td>...</td>\n      <td>0.0</td>\n      <td>2.0</td>\n      <td>97.4</td>\n      <td>7.7</td>\n      <td>0.0</td>\n      <td>0.0</td>\n      <td>314017.0</td>\n      <td>39475.0</td>\n      <td>79300.0</td>\n      <td>24667.0</td>\n    </tr>\n    <tr>\n      <th>2</th>\n      <td>20000.0</td>\n      <td>20000.0</td>\n      <td>20000.0</td>\n      <td>60</td>\n      <td>10.78</td>\n      <td>432.66</td>\n      <td>B</td>\n      <td>B4</td>\n      <td>10.0</td>\n      <td>MORTGAGE</td>\n      <td>...</td>\n      <td>0.0</td>\n      <td>0.0</td>\n      <td>100.0</td>\n      <td>50.0</td>\n      <td>0.0</td>\n      <td>0.0</td>\n      <td>218418.0</td>\n      <td>18696.0</td>\n      <td>6200.0</td>\n      <td>14877.0</td>\n    </tr>\n    <tr>\n      <th>4</th>\n      <td>10400.0</td>\n      <td>10400.0</td>\n      <td>10400.0</td>\n      <td>60</td>\n      <td>22.45</td>\n      <td>289.91</td>\n      <td>F</td>\n      <td>F1</td>\n      <td>3.0</td>\n      <td>MORTGAGE</td>\n      <td>...</td>\n      <td>0.0</td>\n      <td>4.0</td>\n      <td>96.6</td>\n      <td>60.0</td>\n      <td>0.0</td>\n      <td>0.0</td>\n      <td>439570.0</td>\n      <td>95768.0</td>\n      <td>20300.0</td>\n      <td>88097.0</td>\n    </tr>\n    <tr>\n      <th>5</th>\n      <td>11950.0</td>\n      <td>11950.0</td>\n      <td>11950.0</td>\n      <td>36</td>\n      <td>13.44</td>\n      <td>405.18</td>\n      <td>C</td>\n      <td>C3</td>\n      <td>4.0</td>\n      <td>RENT</td>\n      <td>...</td>\n      <td>0.0</td>\n      <td>0.0</td>\n      <td>100.0</td>\n      <td>100.0</td>\n      <td>0.0</td>\n      <td>0.0</td>\n      <td>16900.0</td>\n      <td>12798.0</td>\n      <td>9400.0</td>\n      <td>4000.0</td>\n    </tr>\n  </tbody>\n</table>\n<p>5 rows × 94 columns</p>\n</div>"
     },
     "execution_count": 2,
     "metadata": {},
     "output_type": "execute_result"
    }
   ],
   "source": [
    "df = pd.read_pickle('../data/preprocessed/accepted_df_preprocessed.pkl')\n",
    "print(f\"Shape of df: {df.shape}\")\n",
    "df.head(5)"
   ]
  },
  {
   "cell_type": "markdown",
   "metadata": {
    "collapsed": false,
    "pycharm": {
     "name": "#%% md\n"
    }
   },
   "source": [
    "# Encode Features from categorical to numerical"
   ]
  },
  {
   "cell_type": "code",
   "execution_count": 3,
   "metadata": {
    "collapsed": false,
    "pycharm": {
     "name": "#%%\n"
    }
   },
   "outputs": [
    {
     "name": "stdout",
     "output_type": "stream",
     "text": [
      "float64    87\n",
      "object      6\n",
      "int64       1\n",
      "dtype: int64\n"
     ]
    }
   ],
   "source": [
    "# Preview categorical data\n",
    "print(df.dtypes.value_counts())\n",
    "# Get categorical columns names\n",
    "cat_columns = df.select_dtypes(include=['object']).columns.tolist()\n",
    "# change format\n",
    "for col in cat_columns:\n",
    "    df[col] = df[col].astype('category')"
   ]
  },
  {
   "cell_type": "code",
   "execution_count": 4,
   "metadata": {
    "collapsed": false,
    "pycharm": {
     "name": "#%%\n"
    }
   },
   "outputs": [
    {
     "data": {
      "text/plain": "float64    87\nint8        6\nint64       1\ndtype: int64"
     },
     "execution_count": 4,
     "metadata": {},
     "output_type": "execute_result"
    }
   ],
   "source": [
    "# Label Encoding\n",
    "df_ec = df.copy()\n",
    "for col in cat_columns:\n",
    "    df_ec[col] = df[col].cat.codes\n",
    "# check\n",
    "df_ec.dtypes.value_counts()"
   ]
  },
  {
   "cell_type": "code",
   "execution_count": 5,
   "metadata": {
    "collapsed": false,
    "pycharm": {
     "name": "#%%\n"
    }
   },
   "outputs": [
    {
     "data": {
      "text/plain": "float64    87\nuint8      49\nint64       1\ndtype: int64"
     },
     "execution_count": 5,
     "metadata": {},
     "output_type": "execute_result"
    }
   ],
   "source": [
    "# One-Hot-Encoding\n",
    "df_hoe = pd.get_dummies(data=df, columns=cat_columns, drop_first=True)\n",
    "# check\n",
    "df_hoe.dtypes.value_counts()"
   ]
  },
  {
   "cell_type": "code",
   "execution_count": 6,
   "metadata": {
    "collapsed": false,
    "pycharm": {
     "name": "#%%\n"
    }
   },
   "outputs": [
    {
     "data": {
      "text/plain": "float64    87\nint64      19\ndtype: int64"
     },
     "execution_count": 6,
     "metadata": {},
     "output_type": "execute_result"
    }
   ],
   "source": [
    "# Binary Encoding\n",
    "import category_encoders as ce\n",
    "encoder = ce.BinaryEncoder(cols=cat_columns)\n",
    "df_binary = encoder.fit_transform(df)\n",
    "# check\n",
    "df_binary.dtypes.value_counts()"
   ]
  },
  {
   "cell_type": "code",
   "execution_count": 7,
   "metadata": {
    "collapsed": false,
    "pycharm": {
     "name": "#%%\n"
    }
   },
   "outputs": [],
   "source": [
    "# Convert all values to float\n",
    "df_ec = df_ec.astype(float)\n",
    "df_binary = df_binary.astype(float)\n",
    "df_hoe = df_hoe.astype(float)"
   ]
  },
  {
   "cell_type": "markdown",
   "source": [
    "# Create Balanced Data Set via Downsampling"
   ],
   "metadata": {
    "collapsed": false,
    "pycharm": {
     "name": "#%% md\n"
    }
   }
  },
  {
   "cell_type": "code",
   "execution_count": 8,
   "metadata": {
    "collapsed": false,
    "pycharm": {
     "name": "#%%\n"
    }
   },
   "outputs": [
    {
     "name": "stdout",
     "output_type": "stream",
     "text": [
      "0.0    1076751\n",
      "1.0     268559\n",
      "Name: loan_status, dtype: int64\n",
      "(1345310, 106)\n"
     ]
    },
    {
     "data": {
      "text/plain": "<matplotlib.axes._subplots.AxesSubplot at 0x7fc9d7c3e580>"
     },
     "execution_count": 8,
     "metadata": {},
     "output_type": "execute_result"
    },
    {
     "data": {
      "text/plain": "<Figure size 432x288 with 1 Axes>",
      "image/png": "[encoded data removed]"
     },
     "metadata": {},
     "output_type": "display_data"
    }
   ],
   "source": [
    "print(df_binary.loan_status.value_counts())\n",
    "print(df_binary.shape)\n",
    "df_binary.groupby('loan_status').size().plot(kind='pie', y = \"loan_status\", label = \"Type\", autopct='%1.1f%%')"
   ]
  },
  {
   "cell_type": "code",
   "execution_count": 9,
   "metadata": {
    "collapsed": false,
    "pycharm": {
     "name": "#%%\n"
    }
   },
   "outputs": [
    {
     "name": "stdout",
     "output_type": "stream",
     "text": [
      "(67266, 106)\n",
      "0.0    53878\n",
      "1.0    13388\n",
      "Name: loan_status, dtype: int64\n"
     ]
    }
   ],
   "source": [
    "# Take only fraction of the data\n",
    "df_binary_sample = df_binary.sample(frac = 0.05)\n",
    "print(df_binary_sample.shape)\n",
    "print(df_binary_sample.loan_status.value_counts())"
   ]
  },
  {
   "cell_type": "code",
   "execution_count": 10,
   "metadata": {
    "collapsed": false,
    "pycharm": {
     "name": "#%%\n"
    }
   },
   "outputs": [
    {
     "name": "stdout",
     "output_type": "stream",
     "text": [
      "0.0    17404\n",
      "1.0    13388\n",
      "Name: loan_status, dtype: int64\n"
     ]
    },
    {
     "data": {
      "text/plain": "<matplotlib.axes._subplots.AxesSubplot at 0x7fc9d7cec250>"
     },
     "execution_count": 10,
     "metadata": {},
     "output_type": "execute_result"
    },
    {
     "data": {
      "text/plain": "<Figure size 432x288 with 1 Axes>",
      "image/png": "[encoded data removed]"
     },
     "metadata": {},
     "output_type": "display_data"
    }
   ],
   "source": [
    "# Downsampling\n",
    "loan_status_0 = df_binary_sample[df_binary_sample[\"loan_status\"] == 0.0]\n",
    "loan_status_1  = df_binary_sample[df_binary_sample[\"loan_status\"] == 1.0]\n",
    "\n",
    "loan_status_0_downsample = resample(loan_status_0,\n",
    "             replace=True,\n",
    "             n_samples=round(1.3*len(loan_status_1)),\n",
    "             random_state=42)\n",
    "\n",
    "df_binary_downsampled = pd.concat([loan_status_0_downsample, loan_status_1])\n",
    "\n",
    "print(df_binary_downsampled[\"loan_status\"].value_counts())\n",
    "df_binary_downsampled.groupby('loan_status').size().plot(kind='pie', y = \"loan_status\", label = \"Type\", autopct='%1.1f%%')"
   ]
  },
  {
   "cell_type": "code",
   "execution_count": 11,
   "metadata": {
    "collapsed": false,
    "pycharm": {
     "name": "#%%\n"
    }
   },
   "outputs": [
    {
     "data": {
      "text/plain": "         loan_amnt  funded_amnt  funded_amnt_inv  term_0  term_1  int_rate  \\\n1920849     5600.0       5600.0           5600.0     0.0     1.0      8.90   \n1316988     8000.0       8000.0           8000.0     0.0     1.0     12.99   \n311720      1800.0       1800.0           1800.0     0.0     1.0     17.57   \n1659034    12200.0      12200.0          11900.0     0.0     1.0     11.49   \n368460      5000.0       5000.0           5000.0     0.0     1.0      6.39   \n\n         installment  grade_0  grade_1  grade_2  ...  num_tl_90g_dpd_24m  \\\n1920849       177.82      1.0      0.0      0.0  ...                 0.0   \n1316988       269.52      0.0      1.0      0.0  ...                 0.0   \n311720         64.69      1.0      1.0      0.0  ...                 0.0   \n1659034       402.25      0.0      1.0      0.0  ...                 0.0   \n368460        153.00      1.0      0.0      0.0  ...                 0.0   \n\n         num_tl_op_past_12m  pct_tl_nvr_dlq  percent_bc_gt_75  \\\n1920849                 2.0            97.8               0.0   \n1316988                 2.0           100.0              85.7   \n311720                  4.0           100.0              60.0   \n1659034                 9.0           100.0               0.0   \n368460                  0.0           100.0               0.0   \n\n         pub_rec_bankruptcies  tax_liens  tot_hi_cred_lim  total_bal_ex_mort  \\\n1920849                   0.0        0.0         104152.0            32734.0   \n1316988                   0.0        0.0         173100.0            12959.0   \n311720                    0.0        0.0          21100.0             8260.0   \n1659034                   0.0        0.0          42419.0            17370.0   \n368460                    0.0        0.0          47000.0            21259.0   \n\n         total_bc_limit  total_il_high_credit_limit  \n1920849          4100.0                     31899.0  \n1316988         12700.0                         0.0  \n311720           5400.0                      4000.0  \n1659034         14700.0                     23091.0  \n368460          18400.0                     15000.0  \n\n[5 rows x 106 columns]",
      "text/html": "<div>\n<style scoped>\n    .dataframe tbody tr th:only-of-type {\n        vertical-align: middle;\n    }\n\n    .dataframe tbody tr th {\n        vertical-align: top;\n    }\n\n    .dataframe thead th {\n        text-align: right;\n    }\n</style>\n<table border=\"1\" class=\"dataframe\">\n  <thead>\n    <tr style=\"text-align: right;\">\n      <th></th>\n      <th>loan_amnt</th>\n      <th>funded_amnt</th>\n      <th>funded_amnt_inv</th>\n      <th>term_0</th>\n      <th>term_1</th>\n      <th>int_rate</th>\n      <th>installment</th>\n      <th>grade_0</th>\n      <th>grade_1</th>\n      <th>grade_2</th>\n      <th>...</th>\n      <th>num_tl_90g_dpd_24m</th>\n      <th>num_tl_op_past_12m</th>\n      <th>pct_tl_nvr_dlq</th>\n      <th>percent_bc_gt_75</th>\n      <th>pub_rec_bankruptcies</th>\n      <th>tax_liens</th>\n      <th>tot_hi_cred_lim</th>\n      <th>total_bal_ex_mort</th>\n      <th>total_bc_limit</th>\n      <th>total_il_high_credit_limit</th>\n    </tr>\n  </thead>\n  <tbody>\n    <tr>\n      <th>1920849</th>\n      <td>5600.0</td>\n      <td>5600.0</td>\n      <td>5600.0</td>\n      <td>0.0</td>\n      <td>1.0</td>\n      <td>8.90</td>\n      <td>177.82</td>\n      <td>1.0</td>\n      <td>0.0</td>\n      <td>0.0</td>\n      <td>...</td>\n      <td>0.0</td>\n      <td>2.0</td>\n      <td>97.8</td>\n      <td>0.0</td>\n      <td>0.0</td>\n      <td>0.0</td>\n      <td>104152.0</td>\n      <td>32734.0</td>\n      <td>4100.0</td>\n      <td>31899.0</td>\n    </tr>\n    <tr>\n      <th>1316988</th>\n      <td>8000.0</td>\n      <td>8000.0</td>\n      <td>8000.0</td>\n      <td>0.0</td>\n      <td>1.0</td>\n      <td>12.99</td>\n      <td>269.52</td>\n      <td>0.0</td>\n      <td>1.0</td>\n      <td>0.0</td>\n      <td>...</td>\n      <td>0.0</td>\n      <td>2.0</td>\n      <td>100.0</td>\n      <td>85.7</td>\n      <td>0.0</td>\n      <td>0.0</td>\n      <td>173100.0</td>\n      <td>12959.0</td>\n      <td>12700.0</td>\n      <td>0.0</td>\n    </tr>\n    <tr>\n      <th>311720</th>\n      <td>1800.0</td>\n      <td>1800.0</td>\n      <td>1800.0</td>\n      <td>0.0</td>\n      <td>1.0</td>\n      <td>17.57</td>\n      <td>64.69</td>\n      <td>1.0</td>\n      <td>1.0</td>\n      <td>0.0</td>\n      <td>...</td>\n      <td>0.0</td>\n      <td>4.0</td>\n      <td>100.0</td>\n      <td>60.0</td>\n      <td>0.0</td>\n      <td>0.0</td>\n      <td>21100.0</td>\n      <td>8260.0</td>\n      <td>5400.0</td>\n      <td>4000.0</td>\n    </tr>\n    <tr>\n      <th>1659034</th>\n      <td>12200.0</td>\n      <td>12200.0</td>\n      <td>11900.0</td>\n      <td>0.0</td>\n      <td>1.0</td>\n      <td>11.49</td>\n      <td>402.25</td>\n      <td>0.0</td>\n      <td>1.0</td>\n      <td>0.0</td>\n      <td>...</td>\n      <td>0.0</td>\n      <td>9.0</td>\n      <td>100.0</td>\n      <td>0.0</td>\n      <td>0.0</td>\n      <td>0.0</td>\n      <td>42419.0</td>\n      <td>17370.0</td>\n      <td>14700.0</td>\n      <td>23091.0</td>\n    </tr>\n    <tr>\n      <th>368460</th>\n      <td>5000.0</td>\n      <td>5000.0</td>\n      <td>5000.0</td>\n      <td>0.0</td>\n      <td>1.0</td>\n      <td>6.39</td>\n      <td>153.00</td>\n      <td>1.0</td>\n      <td>0.0</td>\n      <td>0.0</td>\n      <td>...</td>\n      <td>0.0</td>\n      <td>0.0</td>\n      <td>100.0</td>\n      <td>0.0</td>\n      <td>0.0</td>\n      <td>0.0</td>\n      <td>47000.0</td>\n      <td>21259.0</td>\n      <td>18400.0</td>\n      <td>15000.0</td>\n    </tr>\n  </tbody>\n</table>\n<p>5 rows × 106 columns</p>\n</div>"
     },
     "execution_count": 11,
     "metadata": {},
     "output_type": "execute_result"
    }
   ],
   "source": [
    "# Fill NaNs with Median\n",
    "df_binary_downsampled = df_binary_downsampled.fillna(df_binary_downsampled.median())\n",
    "# Preview\n",
    "df_binary_downsampled.head(5)"
   ]
  },
  {
   "cell_type": "markdown",
   "metadata": {
    "collapsed": false,
    "pycharm": {
     "name": "#%% md\n"
    }
   },
   "source": [
    "# Data Split\n",
    "In this section we split the data into a training and test set. The corresponding model is then trained on the training set and tested on the test set."
   ]
  },
  {
   "cell_type": "code",
   "execution_count": 12,
   "metadata": {
    "collapsed": false,
    "pycharm": {
     "name": "#%%\n"
    }
   },
   "outputs": [
    {
     "name": "stdout",
     "output_type": "stream",
     "text": [
      "Shape of X_train: (21554, 105)\n",
      "Shape of X_test: (9238, 105)\n",
      "Shape of y_train: (21554,)\n",
      "Shape of y_test: (9238,)\n"
     ]
    }
   ],
   "source": [
    "# Fraction of test data\n",
    "TEST_SIZE = 0.3\n",
    "\n",
    "X = df_binary_downsampled.drop(\"loan_status\", axis=1)\n",
    "y = df_binary_downsampled[\"loan_status\"]\n",
    "\n",
    "# Split data into train and test data\n",
    "X_train, X_test, y_train, y_test = train_test_split(X, y, test_size=TEST_SIZE, random_state=42, stratify=y)\n",
    "\n",
    "print(f\"Shape of X_train: {X_train.shape}\")\n",
    "print(f\"Shape of X_test: {X_test.shape}\")\n",
    "print(f\"Shape of y_train: {y_train.shape}\")\n",
    "print(f\"Shape of y_test: {y_test.shape}\")"
   ]
  },
  {
   "cell_type": "markdown",
   "source": [
    "# Scaling"
   ],
   "metadata": {
    "collapsed": false,
    "pycharm": {
     "name": "#%% md\n"
    }
   }
  },
  {
   "cell_type": "code",
   "execution_count": 13,
   "metadata": {
    "collapsed": false,
    "pycharm": {
     "name": "#%%\n"
    }
   },
   "outputs": [
    {
     "data": {
      "text/plain": "        0         1         2         3         4         5         6    \\\n0 -0.598601 -0.597949 -0.595183 -0.631213  0.631213 -1.230866 -0.566636   \n1 -0.781395 -0.780774 -0.777968 -0.631213  0.631213  0.001535 -0.670510   \n2  0.600988  0.601834  0.604341  1.584251 -1.584251 -0.676386 -0.056551   \n3  1.743452  1.744485  1.746745 -0.631213  0.631213 -0.973863  1.942144   \n4  1.971945  1.973015  1.975226  1.584251 -1.584251  0.726001  1.366477   \n\n        7         8         9    ...       95        96        97        98   \\\n0  1.201683 -0.945969 -0.869276  ... -0.173239 -0.684070  0.235964 -0.386459   \n1 -0.832166 -0.945969  1.150383  ... -0.173239  0.404362 -0.020023  0.085382   \n2 -0.832166  1.057117 -0.869276  ... -0.173239 -0.139854  0.666488 -0.762237   \n3 -0.832166  1.057117 -0.869276  ... -0.173239 -0.684070  0.177785 -0.386459   \n4  1.201683  1.057117 -0.869276  ... -0.173239  0.404362  0.666488  1.498082   \n\n        99        100       101       102       103       104  \n0 -0.364705 -0.145357  0.119817 -0.820933 -0.350549 -1.009307  \n1  7.656563 -0.145357 -0.897187 -0.827000 -0.922561 -0.736293  \n2 -0.364705 -0.145357  0.985969 -0.103905  1.380282  0.387006  \n3 -0.364705 -0.145357 -0.725069 -0.557153 -0.616831 -1.009307  \n4 -0.364705 -0.145357 -0.759825 -0.386643 -0.730247 -0.214870  \n\n[5 rows x 105 columns]",
      "text/html": "<div>\n<style scoped>\n    .dataframe tbody tr th:only-of-type {\n        vertical-align: middle;\n    }\n\n    .dataframe tbody tr th {\n        vertical-align: top;\n    }\n\n    .dataframe thead th {\n        text-align: right;\n    }\n</style>\n<table border=\"1\" class=\"dataframe\">\n  <thead>\n    <tr style=\"text-align: right;\">\n      <th></th>\n      <th>0</th>\n      <th>1</th>\n      <th>2</th>\n      <th>3</th>\n      <th>4</th>\n      <th>5</th>\n      <th>6</th>\n      <th>7</th>\n      <th>8</th>\n      <th>9</th>\n      <th>...</th>\n      <th>95</th>\n      <th>96</th>\n      <th>97</th>\n      <th>98</th>\n      <th>99</th>\n      <th>100</th>\n      <th>101</th>\n      <th>102</th>\n      <th>103</th>\n      <th>104</th>\n    </tr>\n  </thead>\n  <tbody>\n    <tr>\n      <th>0</th>\n      <td>-0.598601</td>\n      <td>-0.597949</td>\n      <td>-0.595183</td>\n      <td>-0.631213</td>\n      <td>0.631213</td>\n      <td>-1.230866</td>\n      <td>-0.566636</td>\n      <td>1.201683</td>\n      <td>-0.945969</td>\n      <td>-0.869276</td>\n      <td>...</td>\n      <td>-0.173239</td>\n      <td>-0.684070</td>\n      <td>0.235964</td>\n      <td>-0.386459</td>\n      <td>-0.364705</td>\n      <td>-0.145357</td>\n      <td>0.119817</td>\n      <td>-0.820933</td>\n      <td>-0.350549</td>\n      <td>-1.009307</td>\n    </tr>\n    <tr>\n      <th>1</th>\n      <td>-0.781395</td>\n      <td>-0.780774</td>\n      <td>-0.777968</td>\n      <td>-0.631213</td>\n      <td>0.631213</td>\n      <td>0.001535</td>\n      <td>-0.670510</td>\n      <td>-0.832166</td>\n      <td>-0.945969</td>\n      <td>1.150383</td>\n      <td>...</td>\n      <td>-0.173239</td>\n      <td>0.404362</td>\n      <td>-0.020023</td>\n      <td>0.085382</td>\n      <td>7.656563</td>\n      <td>-0.145357</td>\n      <td>-0.897187</td>\n      <td>-0.827000</td>\n      <td>-0.922561</td>\n      <td>-0.736293</td>\n    </tr>\n    <tr>\n      <th>2</th>\n      <td>0.600988</td>\n      <td>0.601834</td>\n      <td>0.604341</td>\n      <td>1.584251</td>\n      <td>-1.584251</td>\n      <td>-0.676386</td>\n      <td>-0.056551</td>\n      <td>-0.832166</td>\n      <td>1.057117</td>\n      <td>-0.869276</td>\n      <td>...</td>\n      <td>-0.173239</td>\n      <td>-0.139854</td>\n      <td>0.666488</td>\n      <td>-0.762237</td>\n      <td>-0.364705</td>\n      <td>-0.145357</td>\n      <td>0.985969</td>\n      <td>-0.103905</td>\n      <td>1.380282</td>\n      <td>0.387006</td>\n    </tr>\n    <tr>\n      <th>3</th>\n      <td>1.743452</td>\n      <td>1.744485</td>\n      <td>1.746745</td>\n      <td>-0.631213</td>\n      <td>0.631213</td>\n      <td>-0.973863</td>\n      <td>1.942144</td>\n      <td>-0.832166</td>\n      <td>1.057117</td>\n      <td>-0.869276</td>\n      <td>...</td>\n      <td>-0.173239</td>\n      <td>-0.684070</td>\n      <td>0.177785</td>\n      <td>-0.386459</td>\n      <td>-0.364705</td>\n      <td>-0.145357</td>\n      <td>-0.725069</td>\n      <td>-0.557153</td>\n      <td>-0.616831</td>\n      <td>-1.009307</td>\n    </tr>\n    <tr>\n      <th>4</th>\n      <td>1.971945</td>\n      <td>1.973015</td>\n      <td>1.975226</td>\n      <td>1.584251</td>\n      <td>-1.584251</td>\n      <td>0.726001</td>\n      <td>1.366477</td>\n      <td>1.201683</td>\n      <td>1.057117</td>\n      <td>-0.869276</td>\n      <td>...</td>\n      <td>-0.173239</td>\n      <td>0.404362</td>\n      <td>0.666488</td>\n      <td>1.498082</td>\n      <td>-0.364705</td>\n      <td>-0.145357</td>\n      <td>-0.759825</td>\n      <td>-0.386643</td>\n      <td>-0.730247</td>\n      <td>-0.214870</td>\n    </tr>\n  </tbody>\n</table>\n<p>5 rows × 105 columns</p>\n</div>"
     },
     "execution_count": 13,
     "metadata": {},
     "output_type": "execute_result"
    }
   ],
   "source": [
    "# Init object\n",
    "scaler = StandardScaler()\n",
    "# Scale X_train\n",
    "X_train_scaled = scaler.fit_transform(X_train)\n",
    "X_train_scaled = pd.DataFrame(X_train_scaled)\n",
    "# Scale X_test\n",
    "X_test_scaled = scaler.transform(X_test)\n",
    "X_test_scaled = pd.DataFrame(X_test_scaled)\n",
    "\n",
    "# Preview X_train_scaled\n",
    "X_train_scaled.head(5)"
   ]
  },
  {
   "cell_type": "markdown",
   "metadata": {
    "collapsed": false,
    "pycharm": {
     "name": "#%% md\n"
    }
   },
   "source": [
    "---\n",
    "# Task 3: Logistic Regression In Sample"
   ]
  },
  {
   "cell_type": "code",
   "execution_count": 14,
   "outputs": [],
   "source": [
    "# Fit Model\n",
    "lr = LogisticRegression(max_iter=500)\n",
    "lr.fit(X_train_scaled, y_train)\n",
    "\n",
    "# Predict In Sample\n",
    "y_pred = lr.predict(X_train_scaled)"
   ],
   "metadata": {
    "collapsed": false,
    "pycharm": {
     "name": "#%%\n"
    }
   }
  },
  {
   "cell_type": "markdown",
   "source": [
    "## Test Model"
   ],
   "metadata": {
    "collapsed": false,
    "pycharm": {
     "name": "#%% md\n"
    }
   }
  },
  {
   "cell_type": "code",
   "execution_count": 15,
   "metadata": {
    "collapsed": false,
    "pycharm": {
     "name": "#%%\n"
    }
   },
   "outputs": [
    {
     "data": {
      "text/plain": "<Figure size 432x288 with 2 Axes>",
      "image/png": "[encoded data removed]"
     },
     "metadata": {},
     "output_type": "display_data"
    },
    {
     "name": "stdout",
     "output_type": "stream",
     "text": [
      "________________________________________________________________________________\n",
      "              precision    recall  f1-score   support\n",
      "\n",
      "         0.0       0.99      1.00      1.00     12183\n",
      "         1.0       1.00      0.99      1.00      9371\n",
      "\n",
      "    accuracy                           1.00     21554\n",
      "   macro avg       1.00      1.00      1.00     21554\n",
      "weighted avg       1.00      1.00      1.00     21554\n",
      "\n",
      "Information:\n",
      "Precision: Percentage of correct positive predictions relative to total positive predictions\n",
      "Recall: Percentage of correct positive predictions relative to total actual positives.\n",
      "F1 Score: A weighted harmonic mean of precision and recall. The closer to 1, the better the model.\n",
      "________________________________________________________________________________\n"
     ]
    }
   ],
   "source": [
    "# Plot Confusion matrics\n",
    "cm = confusion_matrix(y_true=y_train, y_pred=y_pred)\n",
    "sns.heatmap(cm, annot=True, fmt='d')\n",
    "plt.title(\"Confusion matrix\")\n",
    "plt.xlabel(\"Predicted\")\n",
    "plt.ylabel(\"Actual\")\n",
    "plt.show()\n",
    "\n",
    "# Plot classification report\n",
    "print(80 * \"_\")\n",
    "print(classification_report(y_true=y_train, y_pred=y_pred))\n",
    "print(\"Information:\")\n",
    "print(\"Precision: Percentage of correct positive predictions relative to total positive predictions\")\n",
    "print(\"Recall: Percentage of correct positive predictions relative to total actual positives.\")\n",
    "print(\"F1 Score: A weighted harmonic mean of precision and recall. The closer to 1, the better the model.\")\n",
    "print(80 * \"_\")"
   ]
  },
  {
   "cell_type": "markdown",
   "metadata": {
    "collapsed": false,
    "pycharm": {
     "name": "#%% md\n"
    }
   },
   "source": [
    "---\n",
    "# Task 4"
   ]
  },
  {
   "cell_type": "markdown",
   "metadata": {
    "collapsed": false,
    "pycharm": {
     "name": "#%% md\n"
    }
   },
   "source": [
    "Comparing\n",
    "* logistic regression,\n",
    "* classification tree,\n",
    "* random forest,\n",
    "* bagging,\n",
    "* support vector machine (with two kernel functions),\n",
    "* and neural network\n",
    "for default prediction based on the out-of-sample performance measures (at least three different measures)."
   ]
  },
  {
   "cell_type": "code",
   "execution_count": 16,
   "metadata": {
    "collapsed": false,
    "pycharm": {
     "name": "#%%\n"
    }
   },
   "outputs": [],
   "source": [
    "# Ale: Ist bereits skaliert (siehe oben bei Task 3)\n",
    "#scaler = StandardScaler()\n",
    "#X_train_scaled = scaler.fit_transform(X_train)"
   ]
  },
  {
   "cell_type": "code",
   "execution_count": 17,
   "metadata": {
    "collapsed": false,
    "pycharm": {
     "name": "#%%\n"
    }
   },
   "outputs": [
    {
     "name": "stderr",
     "output_type": "stream",
     "text": [
      "100%|██████████| 7/7 [03:14<00:00, 27.76s/it] "
     ]
    },
    {
     "name": "stdout",
     "output_type": "stream",
     "text": [
      "LogisticRegression 0.9924840065735397\n",
      "DecisionTree 0.9857102486569035\n",
      "RandomForest 0.990674584723701\n",
      "BaggingCLF 0.9902570288158069\n",
      "SVC 0.9790294703712831\n",
      "SVC 0.9973555050812678\n",
      "NeuronalNetwork 0.985803163709762\n",
      "CPU times: user 3min 11s, sys: 4.61 s, total: 3min 16s\n",
      "Wall time: 3min 14s\n"
     ]
    },
    {
     "name": "stderr",
     "output_type": "stream",
     "text": [
      "\n"
     ]
    }
   ],
   "source": [
    "%%time\n",
    "models = []\n",
    "\n",
    "models.append((\"LogisticRegression\",LogisticRegression(fit_intercept=True, max_iter=5000, solver=\"saga\")))\n",
    "models.append((\"DecisionTree\",DecisionTreeClassifier()))\n",
    "models.append((\"RandomForest\",RandomForestClassifier()))\n",
    "models.append((\"BaggingCLF\",BaggingClassifier()))\n",
    "models.append((\"SVC\",SVC(kernel='rbf')))\n",
    "models.append((\"SVC\",SVC(kernel=\"linear\")))\n",
    "models.append((\"NeuronalNetwork\", MLPClassifier(alpha=1, max_iter=1000)))\n",
    "\n",
    "results = []\n",
    "names = []\n",
    "for name,model in tqdm(models):\n",
    "    result = cross_val_score(model, X_train_scaled, y_train,  cv=3)\n",
    "    names.append(name)\n",
    "    results.append(result)\n",
    "\n",
    "for i in range(len(names)):\n",
    "    print(names[i],results[i].mean())"
   ]
  },
  {
   "cell_type": "code",
   "execution_count": 18,
   "metadata": {
    "collapsed": false,
    "pycharm": {
     "name": "#%%\n"
    }
   },
   "outputs": [
    {
     "data": {
      "text/plain": "<Figure size 1080x504 with 1 Axes>",
      "image/png": "[encoded data removed]"
     },
     "metadata": {},
     "output_type": "display_data"
    }
   ],
   "source": [
    "#results_df = pd.DataFrame({\"Algorithm\": names, \"Score\": results})\n",
    "\n",
    "# boxplot algorithm comparison\n",
    "fig = plt.figure(figsize=(15,7))\n",
    "fig.suptitle('Algorithm Comparison', size=16)\n",
    "ax = fig.add_subplot(111)\n",
    "plt.boxplot(results)\n",
    "ax.set_xticklabels(names)\n",
    "plt.show()"
   ]
  },
  {
   "cell_type": "code",
   "execution_count": null,
   "metadata": {
    "collapsed": false,
    "pycharm": {
     "name": "#%%\n",
     "is_executing": true
    }
   },
   "outputs": [],
   "source": [
    "# data point plot - total, train, test\n",
    "figure, ax = plt.subplots(3, len(models))\n",
    "\n",
    "cm_bright = ListedColormap([\"#FF0000\", \"#0000FF\"])\n",
    "#x_min, x_max = X[:, 0].min() - 0.5, X[:, 0].max() + 0.5\n",
    "#y_min, y_max = X[:, 1].min() - 0.5, X[:, 1].max() + 0.5\n",
    "\n",
    "for ax, model in zip(ax.flatten(), models):\n",
    "    \n",
    "    name = model[0]\n",
    "    clf = model[1]\n",
    "    \n",
    "    clf.fit(X_train_scaled, y_train)\n",
    "    score = clf.score(X_test_scaled, y_test)\n",
    "\n",
    "    # Plot the training points\n",
    "    ax.scatter(\n",
    "        X_train_scaled[:, 0], X_train_scaled[:, 1], c=y_train, cmap=cm_bright, edgecolors=\"k\"\n",
    "    )\n",
    "    # Plot the testing points\n",
    "    ax.scatter(X_test_scaled[:, 0], X_test_scaled[:, 1], c=y_test,\n",
    "        cmap=cm_bright,\n",
    "        edgecolors=\"k\",\n",
    "        alpha=0.6,\n",
    "    )\n",
    "\n",
    "    #ax.set_xlim(x_min, x_max)\n",
    "    #ax.set_ylim(y_min, y_max)\n",
    "    ax.set_xticks(())\n",
    "    ax.set_yticks(())\n",
    "    ax.set_title(f\"{name}\")\n",
    "   # ax.text(\n",
    "   #     x_max - 0.3,\n",
    "   #     y_min + 0.3,\n",
    "   #     (\"%.2f\" % score).lstrip(\"0\"),\n",
    "   #     size=15,\n",
    "   #     horizontalalignment=\"right\",\n",
    "   #)\n",
    "\n",
    "plt.tight_layout()\n",
    "plt.show()"
   ]
  }
 ],
 "metadata": {
  "kernelspec": {
   "name": "python3",
   "language": "python",
   "display_name": "Python 3 (ipykernel)"
  },
  "language_info": {
   "codemirror_mode": {
    "name": "ipython",
    "version": 2
   },
   "file_extension": ".py",
   "mimetype": "text/x-python",
   "name": "python",
   "nbconvert_exporter": "python",
   "pygments_lexer": "ipython2",
   "version": "2.7.6"
  }
 },
 "nbformat": 4,
 "nbformat_minor": 0
}