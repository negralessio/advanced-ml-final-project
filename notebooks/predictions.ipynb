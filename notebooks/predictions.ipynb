{
 "cells": [
  {
   "cell_type": "markdown",
   "source": [
    "# Task 3\n",
    "---"
   ],
   "metadata": {
    "collapsed": false,
    "pycharm": {
     "name": "#%% md\n"
    }
   }
  },
  {
   "cell_type": "code",
   "execution_count": 75,
   "outputs": [
    {
     "ename": "ImportError",
     "evalue": "cannot import name 'DecisionBoundaryDisplay' from 'sklearn.inspection' (C:\\anaconda3\\envs\\dataScience\\lib\\site-packages\\sklearn\\inspection\\__init__.py)",
     "output_type": "error",
     "traceback": [
      "\u001B[1;31m---------------------------------------------------------------------------\u001B[0m",
      "\u001B[1;31mImportError\u001B[0m                               Traceback (most recent call last)",
      "Input \u001B[1;32mIn [75]\u001B[0m, in \u001B[0;36m<cell line: 17>\u001B[1;34m()\u001B[0m\n\u001B[0;32m     15\u001B[0m \u001B[38;5;28;01mfrom\u001B[39;00m \u001B[38;5;21;01msklearn\u001B[39;00m\u001B[38;5;21;01m.\u001B[39;00m\u001B[38;5;21;01mpipeline\u001B[39;00m \u001B[38;5;28;01mimport\u001B[39;00m Pipeline\n\u001B[0;32m     16\u001B[0m \u001B[38;5;28;01mfrom\u001B[39;00m \u001B[38;5;21;01mtqdm\u001B[39;00m \u001B[38;5;28;01mimport\u001B[39;00m tqdm\n\u001B[1;32m---> 17\u001B[0m \u001B[38;5;28;01mfrom\u001B[39;00m \u001B[38;5;21;01msklearn\u001B[39;00m\u001B[38;5;21;01m.\u001B[39;00m\u001B[38;5;21;01minspection\u001B[39;00m \u001B[38;5;28;01mimport\u001B[39;00m DecisionBoundaryDisplay\n\u001B[0;32m     18\u001B[0m \u001B[38;5;28;01mfrom\u001B[39;00m \u001B[38;5;21;01mmatplotlib\u001B[39;00m\u001B[38;5;21;01m.\u001B[39;00m\u001B[38;5;21;01mcolors\u001B[39;00m \u001B[38;5;28;01mimport\u001B[39;00m ListedColormap\n\u001B[0;32m     19\u001B[0m sns\u001B[38;5;241m.\u001B[39mset_palette(\u001B[38;5;124m'\u001B[39m\u001B[38;5;124mviridis\u001B[39m\u001B[38;5;124m'\u001B[39m)\n",
      "\u001B[1;31mImportError\u001B[0m: cannot import name 'DecisionBoundaryDisplay' from 'sklearn.inspection' (C:\\anaconda3\\envs\\dataScience\\lib\\site-packages\\sklearn\\inspection\\__init__.py)"
     ]
    }
   ],
   "source": [
    "import pandas as pd\n",
    "import numpy as np\n",
    "import matplotlib.pyplot as plt\n",
    "import seaborn as sns\n",
    "from sklearn.utils import resample\n",
    "# For modeling\n",
    "from sklearn.linear_model import LogisticRegression\n",
    "from sklearn.ensemble import RandomForestClassifier, BaggingClassifier\n",
    "from sklearn.tree import DecisionTreeClassifier\n",
    "from sklearn.neural_network import MLPClassifier\n",
    "from sklearn.metrics import confusion_matrix, classification_report\n",
    "from sklearn.model_selection import cross_val_score, train_test_split\n",
    "from sklearn.preprocessing import StandardScaler\n",
    "from sklearn.svm import SVC\n",
    "from sklearn.pipeline import Pipeline\n",
    "from tqdm import tqdm\n",
    "from sklearn.inspection import DecisionBoundaryDisplay\n",
    "from matplotlib.colors import ListedColormap\n",
    "sns.set_palette('viridis')\n",
    "pd.options.mode.chained_assignment = None  # Supress warning, default='warn'"
   ],
   "metadata": {
    "collapsed": false,
    "pycharm": {
     "name": "#%%\n"
    }
   }
  },
  {
   "cell_type": "markdown",
   "source": [
    "# Read Data\n",
    "In this section we read the data in after the preprocessing from the preprocessing notebook"
   ],
   "metadata": {
    "collapsed": false,
    "pycharm": {
     "name": "#%% md\n"
    }
   }
  },
  {
   "cell_type": "code",
   "execution_count": 12,
   "outputs": [
    {
     "name": "stdout",
     "output_type": "stream",
     "text": [
      "Shape of df: (1345310, 94)\n"
     ]
    },
    {
     "data": {
      "text/plain": "   loan_amnt  funded_amnt  funded_amnt_inv term  int_rate  installment grade  \\\n0     3600.0       3600.0           3600.0   36     13.99       123.03     C   \n1    24700.0      24700.0          24700.0   36     11.99       820.28     C   \n2    20000.0      20000.0          20000.0   60     10.78       432.66     B   \n4    10400.0      10400.0          10400.0   60     22.45       289.91     F   \n5    11950.0      11950.0          11950.0   36     13.44       405.18     C   \n\n  sub_grade  emp_length home_ownership  ...  num_tl_90g_dpd_24m  \\\n0        C4        10.0       MORTGAGE  ...                 0.0   \n1        C1        10.0       MORTGAGE  ...                 0.0   \n2        B4        10.0       MORTGAGE  ...                 0.0   \n4        F1         3.0       MORTGAGE  ...                 0.0   \n5        C3         4.0           RENT  ...                 0.0   \n\n  num_tl_op_past_12m  pct_tl_nvr_dlq  percent_bc_gt_75  pub_rec_bankruptcies  \\\n0                3.0            76.9               0.0                   0.0   \n1                2.0            97.4               7.7                   0.0   \n2                0.0           100.0              50.0                   0.0   \n4                4.0            96.6              60.0                   0.0   \n5                0.0           100.0             100.0                   0.0   \n\n   tax_liens  tot_hi_cred_lim  total_bal_ex_mort  total_bc_limit  \\\n0        0.0         178050.0             7746.0          2400.0   \n1        0.0         314017.0            39475.0         79300.0   \n2        0.0         218418.0            18696.0          6200.0   \n4        0.0         439570.0            95768.0         20300.0   \n5        0.0          16900.0            12798.0          9400.0   \n\n   total_il_high_credit_limit  \n0                     13734.0  \n1                     24667.0  \n2                     14877.0  \n4                     88097.0  \n5                      4000.0  \n\n[5 rows x 94 columns]",
      "text/html": "<div>\n<style scoped>\n    .dataframe tbody tr th:only-of-type {\n        vertical-align: middle;\n    }\n\n    .dataframe tbody tr th {\n        vertical-align: top;\n    }\n\n    .dataframe thead th {\n        text-align: right;\n    }\n</style>\n<table border=\"1\" class=\"dataframe\">\n  <thead>\n    <tr style=\"text-align: right;\">\n      <th></th>\n      <th>loan_amnt</th>\n      <th>funded_amnt</th>\n      <th>funded_amnt_inv</th>\n      <th>term</th>\n      <th>int_rate</th>\n      <th>installment</th>\n      <th>grade</th>\n      <th>sub_grade</th>\n      <th>emp_length</th>\n      <th>home_ownership</th>\n      <th>...</th>\n      <th>num_tl_90g_dpd_24m</th>\n      <th>num_tl_op_past_12m</th>\n      <th>pct_tl_nvr_dlq</th>\n      <th>percent_bc_gt_75</th>\n      <th>pub_rec_bankruptcies</th>\n      <th>tax_liens</th>\n      <th>tot_hi_cred_lim</th>\n      <th>total_bal_ex_mort</th>\n      <th>total_bc_limit</th>\n      <th>total_il_high_credit_limit</th>\n    </tr>\n  </thead>\n  <tbody>\n    <tr>\n      <th>0</th>\n      <td>3600.0</td>\n      <td>3600.0</td>\n      <td>3600.0</td>\n      <td>36</td>\n      <td>13.99</td>\n      <td>123.03</td>\n      <td>C</td>\n      <td>C4</td>\n      <td>10.0</td>\n      <td>MORTGAGE</td>\n      <td>...</td>\n      <td>0.0</td>\n      <td>3.0</td>\n      <td>76.9</td>\n      <td>0.0</td>\n      <td>0.0</td>\n      <td>0.0</td>\n      <td>178050.0</td>\n      <td>7746.0</td>\n      <td>2400.0</td>\n      <td>13734.0</td>\n    </tr>\n    <tr>\n      <th>1</th>\n      <td>24700.0</td>\n      <td>24700.0</td>\n      <td>24700.0</td>\n      <td>36</td>\n      <td>11.99</td>\n      <td>820.28</td>\n      <td>C</td>\n      <td>C1</td>\n      <td>10.0</td>\n      <td>MORTGAGE</td>\n      <td>...</td>\n      <td>0.0</td>\n      <td>2.0</td>\n      <td>97.4</td>\n      <td>7.7</td>\n      <td>0.0</td>\n      <td>0.0</td>\n      <td>314017.0</td>\n      <td>39475.0</td>\n      <td>79300.0</td>\n      <td>24667.0</td>\n    </tr>\n    <tr>\n      <th>2</th>\n      <td>20000.0</td>\n      <td>20000.0</td>\n      <td>20000.0</td>\n      <td>60</td>\n      <td>10.78</td>\n      <td>432.66</td>\n      <td>B</td>\n      <td>B4</td>\n      <td>10.0</td>\n      <td>MORTGAGE</td>\n      <td>...</td>\n      <td>0.0</td>\n      <td>0.0</td>\n      <td>100.0</td>\n      <td>50.0</td>\n      <td>0.0</td>\n      <td>0.0</td>\n      <td>218418.0</td>\n      <td>18696.0</td>\n      <td>6200.0</td>\n      <td>14877.0</td>\n    </tr>\n    <tr>\n      <th>4</th>\n      <td>10400.0</td>\n      <td>10400.0</td>\n      <td>10400.0</td>\n      <td>60</td>\n      <td>22.45</td>\n      <td>289.91</td>\n      <td>F</td>\n      <td>F1</td>\n      <td>3.0</td>\n      <td>MORTGAGE</td>\n      <td>...</td>\n      <td>0.0</td>\n      <td>4.0</td>\n      <td>96.6</td>\n      <td>60.0</td>\n      <td>0.0</td>\n      <td>0.0</td>\n      <td>439570.0</td>\n      <td>95768.0</td>\n      <td>20300.0</td>\n      <td>88097.0</td>\n    </tr>\n    <tr>\n      <th>5</th>\n      <td>11950.0</td>\n      <td>11950.0</td>\n      <td>11950.0</td>\n      <td>36</td>\n      <td>13.44</td>\n      <td>405.18</td>\n      <td>C</td>\n      <td>C3</td>\n      <td>4.0</td>\n      <td>RENT</td>\n      <td>...</td>\n      <td>0.0</td>\n      <td>0.0</td>\n      <td>100.0</td>\n      <td>100.0</td>\n      <td>0.0</td>\n      <td>0.0</td>\n      <td>16900.0</td>\n      <td>12798.0</td>\n      <td>9400.0</td>\n      <td>4000.0</td>\n    </tr>\n  </tbody>\n</table>\n<p>5 rows × 94 columns</p>\n</div>"
     },
     "execution_count": 12,
     "metadata": {},
     "output_type": "execute_result"
    }
   ],
   "source": [
    "df = pd.read_pickle('../data/preprocessed/accepted_df_preprocessed.pkl')\n",
    "print(f\"Shape of df: {df.shape}\")\n",
    "df.head(5)"
   ],
   "metadata": {
    "collapsed": false,
    "pycharm": {
     "name": "#%%\n"
    }
   }
  },
  {
   "cell_type": "markdown",
   "source": [
    "# Encode Features from categorical to numerical"
   ],
   "metadata": {
    "collapsed": false,
    "pycharm": {
     "name": "#%% md\n"
    }
   }
  },
  {
   "cell_type": "code",
   "execution_count": 13,
   "outputs": [
    {
     "name": "stdout",
     "output_type": "stream",
     "text": [
      "float64    87\n",
      "object      6\n",
      "int32       1\n",
      "dtype: int64\n"
     ]
    }
   ],
   "source": [
    "# Preview categorical data\n",
    "print(df.dtypes.value_counts())\n",
    "# Get categorical columns names\n",
    "cat_columns = df.select_dtypes(include=['object']).columns.tolist()\n",
    "# change format\n",
    "for col in cat_columns:\n",
    "    df[col] = df[col].astype('category')"
   ],
   "metadata": {
    "collapsed": false,
    "pycharm": {
     "name": "#%%\n"
    }
   }
  },
  {
   "cell_type": "code",
   "execution_count": 14,
   "outputs": [
    {
     "data": {
      "text/plain": "float64    87\nint8        6\nint32       1\ndtype: int64"
     },
     "execution_count": 14,
     "metadata": {},
     "output_type": "execute_result"
    }
   ],
   "source": [
    "# Label Encoding\n",
    "df_ec = df.copy()\n",
    "for col in cat_columns:\n",
    "    df_ec[col] = df[col].cat.codes\n",
    "# check\n",
    "df_ec.dtypes.value_counts()"
   ],
   "metadata": {
    "collapsed": false,
    "pycharm": {
     "name": "#%%\n"
    }
   }
  },
  {
   "cell_type": "code",
   "execution_count": 15,
   "outputs": [
    {
     "data": {
      "text/plain": "float64    87\nuint8      49\nint32       1\ndtype: int64"
     },
     "execution_count": 15,
     "metadata": {},
     "output_type": "execute_result"
    }
   ],
   "source": [
    "# One-Hot-Encoding\n",
    "df_hoe = pd.get_dummies(data=df, columns=cat_columns, drop_first=True)\n",
    "# check\n",
    "df_hoe.dtypes.value_counts()"
   ],
   "metadata": {
    "collapsed": false,
    "pycharm": {
     "name": "#%%\n"
    }
   }
  },
  {
   "cell_type": "code",
   "execution_count": 16,
   "outputs": [
    {
     "name": "stderr",
     "output_type": "stream",
     "text": [
      "C:\\anaconda3\\envs\\dataScience\\lib\\site-packages\\category_encoders\\utils.py:21: FutureWarning: is_categorical is deprecated and will be removed in a future version. Use is_categorical_dtype instead.\n",
      "  elif pd.api.types.is_categorical_dtype(cols):\n"
     ]
    },
    {
     "data": {
      "text/plain": "float64    87\nint64      22\nint32       1\ndtype: int64"
     },
     "execution_count": 16,
     "metadata": {},
     "output_type": "execute_result"
    }
   ],
   "source": [
    "# Binary Encoding\n",
    "import category_encoders as ce\n",
    "encoder = ce.BinaryEncoder(cols=cat_columns)\n",
    "df_binary = encoder.fit_transform(df)\n",
    "# check\n",
    "df_binary.dtypes.value_counts()"
   ],
   "metadata": {
    "collapsed": false,
    "pycharm": {
     "name": "#%%\n"
    }
   }
  },
  {
   "cell_type": "code",
   "execution_count": 17,
   "outputs": [],
   "source": [
    "# Convert all values to float\n",
    "df_ec = df_ec.astype(float)\n",
    "df_binary = df_binary.astype(float)\n",
    "df_hoe = df_hoe.astype(float)"
   ],
   "metadata": {
    "collapsed": false,
    "pycharm": {
     "name": "#%%\n"
    }
   }
  },
  {
   "cell_type": "markdown",
   "source": [
    "# Sampling"
   ],
   "metadata": {
    "collapsed": false,
    "pycharm": {
     "name": "#%% md\n"
    }
   }
  },
  {
   "cell_type": "code",
   "execution_count": 39,
   "outputs": [
    {
     "name": "stdout",
     "output_type": "stream",
     "text": [
      "0.0    1076751\n",
      "1.0     268559\n",
      "Name: loan_status, dtype: int64\n",
      "(1345310, 110)\n"
     ]
    },
    {
     "data": {
      "text/plain": "<AxesSubplot:ylabel='Type'>"
     },
     "execution_count": 39,
     "metadata": {},
     "output_type": "execute_result"
    },
    {
     "data": {
      "text/plain": "<Figure size 432x288 with 1 Axes>",
      "image/png": "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\n"
     },
     "metadata": {},
     "output_type": "display_data"
    }
   ],
   "source": [
    "print(df_binary.loan_status.value_counts())\n",
    "print(df_binary.shape)\n",
    "df_binary.groupby('loan_status').size().plot(kind='pie', y = \"loan_status\", label = \"Type\", autopct='%1.1f%%')"
   ],
   "metadata": {
    "collapsed": false,
    "pycharm": {
     "name": "#%%\n"
    }
   }
  },
  {
   "cell_type": "code",
   "execution_count": 36,
   "outputs": [
    {
     "name": "stdout",
     "output_type": "stream",
     "text": [
      "(538124, 110)\n",
      "0.0    430281\n",
      "1.0    107843\n",
      "Name: loan_status, dtype: int64\n"
     ]
    }
   ],
   "source": [
    "# Take only fraction of the data\n",
    "df_binary_sample = df_binary.sample(frac = 0.4)\n",
    "print(df_binary_sample.shape)\n",
    "print(df_binary_sample.loan_status.value_counts())"
   ],
   "metadata": {
    "collapsed": false,
    "pycharm": {
     "name": "#%%\n"
    }
   }
  },
  {
   "cell_type": "code",
   "execution_count": 38,
   "outputs": [
    {
     "name": "stdout",
     "output_type": "stream",
     "text": [
      "0.0    140196\n",
      "1.0    107843\n",
      "Name: loan_status, dtype: int64\n"
     ]
    },
    {
     "data": {
      "text/plain": "<AxesSubplot:ylabel='Type'>"
     },
     "execution_count": 38,
     "metadata": {},
     "output_type": "execute_result"
    },
    {
     "data": {
      "text/plain": "<Figure size 432x288 with 1 Axes>",
      "image/png": "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\n"
     },
     "metadata": {},
     "output_type": "display_data"
    }
   ],
   "source": [
    "# Downsampling\n",
    "loan_status_0 = df_binary_sample[df_binary_sample[\"loan_status\"] == 0.0]\n",
    "loan_status_1  = df_binary_sample[df_binary_sample[\"loan_status\"] == 1.0]\n",
    "\n",
    "loan_status_0_downsample = resample(loan_status_0,\n",
    "             replace=True,\n",
    "             n_samples=round(1.3*len(loan_status_1)),\n",
    "             random_state=42)\n",
    "\n",
    "df_binary_downsampled = pd.concat([loan_status_0_downsample, loan_status_1])\n",
    "\n",
    "print(df_binary_downsampled[\"loan_status\"].value_counts())\n",
    "df_binary_downsampled.groupby('loan_status').size().plot(kind='pie', y = \"loan_status\", label = \"Type\", autopct='%1.1f%%')"
   ],
   "metadata": {
    "collapsed": false,
    "pycharm": {
     "name": "#%%\n"
    }
   }
  },
  {
   "cell_type": "markdown",
   "source": [
<<<<<<< HEAD
    "# Fill Nan"
=======
    "# Encode Categorical / Nominal Columns to numeric with OHE\n",
    "Many Machine Learning algorithm need a numeric encoding of categorical data. In this section we remove features that are categorical and have too many expressions. For the remaining ones we encode them using a One Hot Encoder and the pandas dummy encoding method."
>>>>>>> d65eaae26abb42d56610d9a8d2364de1fc8415db
   ],
   "metadata": {
    "collapsed": false,
    "pycharm": {
     "name": "#%% md\n"
    }
   }
  },
  {
   "cell_type": "code",
   "execution_count": 40,
   "outputs": [
    {
     "data": {
      "text/plain": "         loan_amnt  funded_amnt  funded_amnt_inv  term_0  term_1  int_rate  \\\n1757334    15000.0      15000.0          15000.0     1.0     0.0     12.85   \n1874760     4000.0       4000.0           4000.0     0.0     1.0     15.80   \n1191841     7000.0       7000.0           7000.0     0.0     1.0     11.67   \n953840     10100.0      10100.0          10100.0     1.0     0.0     29.99   \n535780      3000.0       3000.0           3000.0     0.0     1.0     13.59   \n\n         installment  grade_0  grade_1  grade_2  ...  num_tl_90g_dpd_24m  \\\n1757334       340.15      0.0      0.0      1.0  ...                 0.0   \n1874760       140.24      0.0      0.0      0.0  ...                 0.0   \n1191841       231.40      0.0      0.0      1.0  ...                 0.0   \n953840        326.71      0.0      0.0      1.0  ...                 0.0   \n535780        101.94      0.0      0.0      0.0  ...                 0.0   \n\n         num_tl_op_past_12m  pct_tl_nvr_dlq  percent_bc_gt_75  \\\n1757334                 1.0           100.0              12.5   \n1874760                 3.0            92.0             100.0   \n1191841                 1.0            96.2               0.0   \n953840                  4.0           100.0               0.0   \n535780                  0.0           100.0              50.0   \n\n         pub_rec_bankruptcies  tax_liens  tot_hi_cred_lim  total_bal_ex_mort  \\\n1757334                   0.0        0.0         311063.0           275900.0   \n1874760                   0.0        0.0         129966.0            28616.0   \n1191841                   0.0        0.0         119389.0            21336.0   \n953840                    0.0        0.0          78300.0            39927.0   \n535780                    0.0        0.0           6200.0             6209.0   \n\n         total_bc_limit  total_il_high_credit_limit  \n1757334         40200.0                    254863.0  \n1874760          5200.0                     25366.0  \n1191841         29400.0                     14853.0  \n953840          48700.0                     25000.0  \n535780              0.0                         0.0  \n\n[5 rows x 110 columns]",
      "text/html": "<div>\n<style scoped>\n    .dataframe tbody tr th:only-of-type {\n        vertical-align: middle;\n    }\n\n    .dataframe tbody tr th {\n        vertical-align: top;\n    }\n\n    .dataframe thead th {\n        text-align: right;\n    }\n</style>\n<table border=\"1\" class=\"dataframe\">\n  <thead>\n    <tr style=\"text-align: right;\">\n      <th></th>\n      <th>loan_amnt</th>\n      <th>funded_amnt</th>\n      <th>funded_amnt_inv</th>\n      <th>term_0</th>\n      <th>term_1</th>\n      <th>int_rate</th>\n      <th>installment</th>\n      <th>grade_0</th>\n      <th>grade_1</th>\n      <th>grade_2</th>\n      <th>...</th>\n      <th>num_tl_90g_dpd_24m</th>\n      <th>num_tl_op_past_12m</th>\n      <th>pct_tl_nvr_dlq</th>\n      <th>percent_bc_gt_75</th>\n      <th>pub_rec_bankruptcies</th>\n      <th>tax_liens</th>\n      <th>tot_hi_cred_lim</th>\n      <th>total_bal_ex_mort</th>\n      <th>total_bc_limit</th>\n      <th>total_il_high_credit_limit</th>\n    </tr>\n  </thead>\n  <tbody>\n    <tr>\n      <th>1757334</th>\n      <td>15000.0</td>\n      <td>15000.0</td>\n      <td>15000.0</td>\n      <td>1.0</td>\n      <td>0.0</td>\n      <td>12.85</td>\n      <td>340.15</td>\n      <td>0.0</td>\n      <td>0.0</td>\n      <td>1.0</td>\n      <td>...</td>\n      <td>0.0</td>\n      <td>1.0</td>\n      <td>100.0</td>\n      <td>12.5</td>\n      <td>0.0</td>\n      <td>0.0</td>\n      <td>311063.0</td>\n      <td>275900.0</td>\n      <td>40200.0</td>\n      <td>254863.0</td>\n    </tr>\n    <tr>\n      <th>1874760</th>\n      <td>4000.0</td>\n      <td>4000.0</td>\n      <td>4000.0</td>\n      <td>0.0</td>\n      <td>1.0</td>\n      <td>15.80</td>\n      <td>140.24</td>\n      <td>0.0</td>\n      <td>0.0</td>\n      <td>0.0</td>\n      <td>...</td>\n      <td>0.0</td>\n      <td>3.0</td>\n      <td>92.0</td>\n      <td>100.0</td>\n      <td>0.0</td>\n      <td>0.0</td>\n      <td>129966.0</td>\n      <td>28616.0</td>\n      <td>5200.0</td>\n      <td>25366.0</td>\n    </tr>\n    <tr>\n      <th>1191841</th>\n      <td>7000.0</td>\n      <td>7000.0</td>\n      <td>7000.0</td>\n      <td>0.0</td>\n      <td>1.0</td>\n      <td>11.67</td>\n      <td>231.40</td>\n      <td>0.0</td>\n      <td>0.0</td>\n      <td>1.0</td>\n      <td>...</td>\n      <td>0.0</td>\n      <td>1.0</td>\n      <td>96.2</td>\n      <td>0.0</td>\n      <td>0.0</td>\n      <td>0.0</td>\n      <td>119389.0</td>\n      <td>21336.0</td>\n      <td>29400.0</td>\n      <td>14853.0</td>\n    </tr>\n    <tr>\n      <th>953840</th>\n      <td>10100.0</td>\n      <td>10100.0</td>\n      <td>10100.0</td>\n      <td>1.0</td>\n      <td>0.0</td>\n      <td>29.99</td>\n      <td>326.71</td>\n      <td>0.0</td>\n      <td>0.0</td>\n      <td>1.0</td>\n      <td>...</td>\n      <td>0.0</td>\n      <td>4.0</td>\n      <td>100.0</td>\n      <td>0.0</td>\n      <td>0.0</td>\n      <td>0.0</td>\n      <td>78300.0</td>\n      <td>39927.0</td>\n      <td>48700.0</td>\n      <td>25000.0</td>\n    </tr>\n    <tr>\n      <th>535780</th>\n      <td>3000.0</td>\n      <td>3000.0</td>\n      <td>3000.0</td>\n      <td>0.0</td>\n      <td>1.0</td>\n      <td>13.59</td>\n      <td>101.94</td>\n      <td>0.0</td>\n      <td>0.0</td>\n      <td>0.0</td>\n      <td>...</td>\n      <td>0.0</td>\n      <td>0.0</td>\n      <td>100.0</td>\n      <td>50.0</td>\n      <td>0.0</td>\n      <td>0.0</td>\n      <td>6200.0</td>\n      <td>6209.0</td>\n      <td>0.0</td>\n      <td>0.0</td>\n    </tr>\n  </tbody>\n</table>\n<p>5 rows × 110 columns</p>\n</div>"
     },
<<<<<<< HEAD
     "execution_count": 40,
=======
     "execution_count": 5,
     "metadata": {},
     "output_type": "execute_result"
    }
   ],
   "source": [
    "# Preview categorical data\n",
    "df.dtypes[df.dtypes == \"object\"]"
   ],
   "metadata": {
    "collapsed": false,
    "pycharm": {
     "name": "#%%\n"
    }
   }
  },
  {
   "cell_type": "code",
   "execution_count": 6,
   "outputs": [
    {
     "data": {
      "text/plain": "home_ownership          object\nverification_status     object\npymnt_plan              object\ninitial_list_status     object\napplication_type        object\nhardship_flag           object\ndisbursement_method     object\ndebt_settlement_flag    object\ndtype: object"
     },
     "execution_count": 6,
     "metadata": {},
     "output_type": "execute_result"
    }
   ],
   "source": [
    "# Drop categorical columns that have too many realization for OHE\n",
    "df = df.drop([\"sub_grade\", \"purpose\", \"grade\", \"addr_state\"], axis=1)\n",
    "df.dtypes[df.dtypes == \"object\"]"
   ],
   "metadata": {
    "collapsed": false,
    "pycharm": {
     "name": "#%%\n"
    }
   }
  },
  {
   "cell_type": "markdown",
   "source": [
    "## One Hot Encoder (OHE) of categorical data\n",
    "A categorical feature / variable with $K$ realizations will be one hot encoded into $K-1$ binary columns."
   ],
   "metadata": {
    "collapsed": false,
    "pycharm": {
     "name": "#%% md\n"
    }
   }
  },
  {
   "cell_type": "code",
   "execution_count": 7,
   "outputs": [
    {
     "data": {
      "text/plain": "        loan_amnt  funded_amnt  funded_amnt_inv  term  int_rate  installment  \\\n867434    35000.0      35000.0          35000.0    36     13.65      1190.28   \n759833     6100.0       6100.0           6100.0    36      8.39       192.26   \n401447    14400.0      14400.0          14400.0    36     13.59       489.30   \n423338    18000.0      18000.0          18000.0    36     11.99       597.78   \n529944    11000.0      11000.0          11000.0    36     12.62       368.63   \n658620    30000.0      30000.0          29750.0    36      6.99       926.18   \n532474    10150.0      10150.0          10150.0    36     14.08       347.30   \n55053      7700.0       7700.0           7625.0    36     14.33       264.41   \n340063     9600.0       9600.0           9600.0    36      9.49       307.48   \n346717    14400.0      14400.0          14400.0    36      9.49       461.21   \n\n        emp_length  annual_inc  loan_status    dti  ...  home_ownership_NONE  \\\n867434         2.0    320000.0            0   3.94  ...                    0   \n759833         0.0     93500.0            0  13.50  ...                    0   \n401447         NaN     71500.0            1   8.63  ...                    0   \n423338        10.0     60000.0            0  23.30  ...                    0   \n529944         3.0    100000.0            0  15.18  ...                    0   \n658620        10.0     66600.0            0  12.25  ...                    0   \n532474         NaN     55100.0            0  25.55  ...                    0   \n55053         10.0     70000.0            1  10.56  ...                    0   \n340063        10.0     72000.0            0  14.65  ...                    0   \n346717        10.0    150000.0            0  18.83  ...                    0   \n\n        home_ownership_OTHER  home_ownership_OWN  home_ownership_RENT  \\\n867434                     0                   0                    0   \n759833                     0                   0                    1   \n401447                     0                   0                    1   \n423338                     0                   0                    0   \n529944                     0                   0                    1   \n658620                     0                   0                    1   \n532474                     0                   0                    1   \n55053                      0                   0                    0   \n340063                     0                   0                    0   \n346717                     0                   0                    0   \n\n        verification_status_Source Verified  verification_status_Verified  \\\n867434                                    0                             1   \n759833                                    1                             0   \n401447                                    0                             1   \n423338                                    0                             0   \n529944                                    0                             1   \n658620                                    1                             0   \n532474                                    0                             1   \n55053                                     1                             0   \n340063                                    0                             0   \n346717                                    0                             0   \n\n        initial_list_status_w  application_type_Joint App  \\\n867434                      0                           0   \n759833                      1                           0   \n401447                      1                           0   \n423338                      1                           0   \n529944                      1                           0   \n658620                      1                           0   \n532474                      0                           0   \n55053                       0                           0   \n340063                      0                           0   \n346717                      1                           0   \n\n        disbursement_method_DirectPay  debt_settlement_flag_Y  \n867434                              0                       0  \n759833                              0                       0  \n401447                              0                       0  \n423338                              0                       0  \n529944                              0                       0  \n658620                              0                       0  \n532474                              0                       0  \n55053                               0                       0  \n340063                              0                       0  \n346717                              0                       0  \n\n[10 rows x 100 columns]",
      "text/html": "<div>\n<style scoped>\n    .dataframe tbody tr th:only-of-type {\n        vertical-align: middle;\n    }\n\n    .dataframe tbody tr th {\n        vertical-align: top;\n    }\n\n    .dataframe thead th {\n        text-align: right;\n    }\n</style>\n<table border=\"1\" class=\"dataframe\">\n  <thead>\n    <tr style=\"text-align: right;\">\n      <th></th>\n      <th>loan_amnt</th>\n      <th>funded_amnt</th>\n      <th>funded_amnt_inv</th>\n      <th>term</th>\n      <th>int_rate</th>\n      <th>installment</th>\n      <th>emp_length</th>\n      <th>annual_inc</th>\n      <th>loan_status</th>\n      <th>dti</th>\n      <th>...</th>\n      <th>home_ownership_NONE</th>\n      <th>home_ownership_OTHER</th>\n      <th>home_ownership_OWN</th>\n      <th>home_ownership_RENT</th>\n      <th>verification_status_Source Verified</th>\n      <th>verification_status_Verified</th>\n      <th>initial_list_status_w</th>\n      <th>application_type_Joint App</th>\n      <th>disbursement_method_DirectPay</th>\n      <th>debt_settlement_flag_Y</th>\n    </tr>\n  </thead>\n  <tbody>\n    <tr>\n      <th>867434</th>\n      <td>35000.0</td>\n      <td>35000.0</td>\n      <td>35000.0</td>\n      <td>36</td>\n      <td>13.65</td>\n      <td>1190.28</td>\n      <td>2.0</td>\n      <td>320000.0</td>\n      <td>0</td>\n      <td>3.94</td>\n      <td>...</td>\n      <td>0</td>\n      <td>0</td>\n      <td>0</td>\n      <td>0</td>\n      <td>0</td>\n      <td>1</td>\n      <td>0</td>\n      <td>0</td>\n      <td>0</td>\n      <td>0</td>\n    </tr>\n    <tr>\n      <th>759833</th>\n      <td>6100.0</td>\n      <td>6100.0</td>\n      <td>6100.0</td>\n      <td>36</td>\n      <td>8.39</td>\n      <td>192.26</td>\n      <td>0.0</td>\n      <td>93500.0</td>\n      <td>0</td>\n      <td>13.50</td>\n      <td>...</td>\n      <td>0</td>\n      <td>0</td>\n      <td>0</td>\n      <td>1</td>\n      <td>1</td>\n      <td>0</td>\n      <td>1</td>\n      <td>0</td>\n      <td>0</td>\n      <td>0</td>\n    </tr>\n    <tr>\n      <th>401447</th>\n      <td>14400.0</td>\n      <td>14400.0</td>\n      <td>14400.0</td>\n      <td>36</td>\n      <td>13.59</td>\n      <td>489.30</td>\n      <td>NaN</td>\n      <td>71500.0</td>\n      <td>1</td>\n      <td>8.63</td>\n      <td>...</td>\n      <td>0</td>\n      <td>0</td>\n      <td>0</td>\n      <td>1</td>\n      <td>0</td>\n      <td>1</td>\n      <td>1</td>\n      <td>0</td>\n      <td>0</td>\n      <td>0</td>\n    </tr>\n    <tr>\n      <th>423338</th>\n      <td>18000.0</td>\n      <td>18000.0</td>\n      <td>18000.0</td>\n      <td>36</td>\n      <td>11.99</td>\n      <td>597.78</td>\n      <td>10.0</td>\n      <td>60000.0</td>\n      <td>0</td>\n      <td>23.30</td>\n      <td>...</td>\n      <td>0</td>\n      <td>0</td>\n      <td>0</td>\n      <td>0</td>\n      <td>0</td>\n      <td>0</td>\n      <td>1</td>\n      <td>0</td>\n      <td>0</td>\n      <td>0</td>\n    </tr>\n    <tr>\n      <th>529944</th>\n      <td>11000.0</td>\n      <td>11000.0</td>\n      <td>11000.0</td>\n      <td>36</td>\n      <td>12.62</td>\n      <td>368.63</td>\n      <td>3.0</td>\n      <td>100000.0</td>\n      <td>0</td>\n      <td>15.18</td>\n      <td>...</td>\n      <td>0</td>\n      <td>0</td>\n      <td>0</td>\n      <td>1</td>\n      <td>0</td>\n      <td>1</td>\n      <td>1</td>\n      <td>0</td>\n      <td>0</td>\n      <td>0</td>\n    </tr>\n    <tr>\n      <th>658620</th>\n      <td>30000.0</td>\n      <td>30000.0</td>\n      <td>29750.0</td>\n      <td>36</td>\n      <td>6.99</td>\n      <td>926.18</td>\n      <td>10.0</td>\n      <td>66600.0</td>\n      <td>0</td>\n      <td>12.25</td>\n      <td>...</td>\n      <td>0</td>\n      <td>0</td>\n      <td>0</td>\n      <td>1</td>\n      <td>1</td>\n      <td>0</td>\n      <td>1</td>\n      <td>0</td>\n      <td>0</td>\n      <td>0</td>\n    </tr>\n    <tr>\n      <th>532474</th>\n      <td>10150.0</td>\n      <td>10150.0</td>\n      <td>10150.0</td>\n      <td>36</td>\n      <td>14.08</td>\n      <td>347.30</td>\n      <td>NaN</td>\n      <td>55100.0</td>\n      <td>0</td>\n      <td>25.55</td>\n      <td>...</td>\n      <td>0</td>\n      <td>0</td>\n      <td>0</td>\n      <td>1</td>\n      <td>0</td>\n      <td>1</td>\n      <td>0</td>\n      <td>0</td>\n      <td>0</td>\n      <td>0</td>\n    </tr>\n    <tr>\n      <th>55053</th>\n      <td>7700.0</td>\n      <td>7700.0</td>\n      <td>7625.0</td>\n      <td>36</td>\n      <td>14.33</td>\n      <td>264.41</td>\n      <td>10.0</td>\n      <td>70000.0</td>\n      <td>1</td>\n      <td>10.56</td>\n      <td>...</td>\n      <td>0</td>\n      <td>0</td>\n      <td>0</td>\n      <td>0</td>\n      <td>1</td>\n      <td>0</td>\n      <td>0</td>\n      <td>0</td>\n      <td>0</td>\n      <td>0</td>\n    </tr>\n    <tr>\n      <th>340063</th>\n      <td>9600.0</td>\n      <td>9600.0</td>\n      <td>9600.0</td>\n      <td>36</td>\n      <td>9.49</td>\n      <td>307.48</td>\n      <td>10.0</td>\n      <td>72000.0</td>\n      <td>0</td>\n      <td>14.65</td>\n      <td>...</td>\n      <td>0</td>\n      <td>0</td>\n      <td>0</td>\n      <td>0</td>\n      <td>0</td>\n      <td>0</td>\n      <td>0</td>\n      <td>0</td>\n      <td>0</td>\n      <td>0</td>\n    </tr>\n    <tr>\n      <th>346717</th>\n      <td>14400.0</td>\n      <td>14400.0</td>\n      <td>14400.0</td>\n      <td>36</td>\n      <td>9.49</td>\n      <td>461.21</td>\n      <td>10.0</td>\n      <td>150000.0</td>\n      <td>0</td>\n      <td>18.83</td>\n      <td>...</td>\n      <td>0</td>\n      <td>0</td>\n      <td>0</td>\n      <td>0</td>\n      <td>0</td>\n      <td>0</td>\n      <td>1</td>\n      <td>0</td>\n      <td>0</td>\n      <td>0</td>\n    </tr>\n  </tbody>\n</table>\n<p>10 rows × 100 columns</p>\n</div>"
     },
     "execution_count": 7,
     "metadata": {},
     "output_type": "execute_result"
    }
   ],
   "source": [
    "# Get categorical columns names\n",
    "categorical_columns = list(df.dtypes[df.dtypes == \"object\"].keys())\n",
    "# Transform those categorical columns using One Hot Encoding\n",
    "df = pd.get_dummies(data=df, columns=categorical_columns, drop_first=True)\n",
    "# Preview\n",
    "df.head(10)"
   ],
   "metadata": {
    "collapsed": false,
    "pycharm": {
     "name": "#%%\n"
    }
   }
  },
  {
   "cell_type": "code",
   "execution_count": 8,
   "outputs": [
    {
     "data": {
      "text/plain": "float64    87\nuint8      11\nint64       2\ndtype: int64"
     },
     "execution_count": 8,
     "metadata": {},
     "output_type": "execute_result"
    }
   ],
   "source": [
    "# Show types of columns and counter\n",
    "df.dtypes.value_counts()"
   ],
   "metadata": {
    "collapsed": false,
    "pycharm": {
     "name": "#%%\n"
    }
   }
  },
  {
   "cell_type": "code",
   "execution_count": 9,
   "outputs": [
    {
     "data": {
      "text/plain": "float64    100\ndtype: int64"
     },
     "execution_count": 9,
     "metadata": {},
     "output_type": "execute_result"
    }
   ],
   "source": [
    "# Convert all values to float\n",
    "df = df.astype(float)\n",
    "# Preview\n",
    "df.dtypes.value_counts()"
   ],
   "metadata": {
    "collapsed": false,
    "pycharm": {
     "name": "#%%\n"
    }
   }
  },
  {
   "cell_type": "markdown",
   "source": [
    "# Preprocessing\n",
    "We still have a few remaing NaNs value. We fill them using the corresponding median of each feature / column."
   ],
   "metadata": {
    "collapsed": false,
    "pycharm": {
     "name": "#%% md\n"
    }
   }
  },
  {
   "cell_type": "code",
   "execution_count": 10,
   "outputs": [
    {
     "data": {
      "text/plain": "        loan_amnt  funded_amnt  funded_amnt_inv  term  int_rate  installment  \\\n867434    35000.0      35000.0          35000.0  36.0     13.65      1190.28   \n759833     6100.0       6100.0           6100.0  36.0      8.39       192.26   \n401447    14400.0      14400.0          14400.0  36.0     13.59       489.30   \n423338    18000.0      18000.0          18000.0  36.0     11.99       597.78   \n529944    11000.0      11000.0          11000.0  36.0     12.62       368.63   \n\n        emp_length  annual_inc  loan_status    dti  ...  home_ownership_NONE  \\\n867434         2.0    320000.0          0.0   3.94  ...                  0.0   \n759833         0.0     93500.0          0.0  13.50  ...                  0.0   \n401447         6.0     71500.0          1.0   8.63  ...                  0.0   \n423338        10.0     60000.0          0.0  23.30  ...                  0.0   \n529944         3.0    100000.0          0.0  15.18  ...                  0.0   \n\n        home_ownership_OTHER  home_ownership_OWN  home_ownership_RENT  \\\n867434                   0.0                 0.0                  0.0   \n759833                   0.0                 0.0                  1.0   \n401447                   0.0                 0.0                  1.0   \n423338                   0.0                 0.0                  0.0   \n529944                   0.0                 0.0                  1.0   \n\n        verification_status_Source Verified  verification_status_Verified  \\\n867434                                  0.0                           1.0   \n759833                                  1.0                           0.0   \n401447                                  0.0                           1.0   \n423338                                  0.0                           0.0   \n529944                                  0.0                           1.0   \n\n        initial_list_status_w  application_type_Joint App  \\\n867434                    0.0                         0.0   \n759833                    1.0                         0.0   \n401447                    1.0                         0.0   \n423338                    1.0                         0.0   \n529944                    1.0                         0.0   \n\n        disbursement_method_DirectPay  debt_settlement_flag_Y  \n867434                            0.0                     0.0  \n759833                            0.0                     0.0  \n401447                            0.0                     0.0  \n423338                            0.0                     0.0  \n529944                            0.0                     0.0  \n\n[5 rows x 100 columns]",
      "text/html": "<div>\n<style scoped>\n    .dataframe tbody tr th:only-of-type {\n        vertical-align: middle;\n    }\n\n    .dataframe tbody tr th {\n        vertical-align: top;\n    }\n\n    .dataframe thead th {\n        text-align: right;\n    }\n</style>\n<table border=\"1\" class=\"dataframe\">\n  <thead>\n    <tr style=\"text-align: right;\">\n      <th></th>\n      <th>loan_amnt</th>\n      <th>funded_amnt</th>\n      <th>funded_amnt_inv</th>\n      <th>term</th>\n      <th>int_rate</th>\n      <th>installment</th>\n      <th>emp_length</th>\n      <th>annual_inc</th>\n      <th>loan_status</th>\n      <th>dti</th>\n      <th>...</th>\n      <th>home_ownership_NONE</th>\n      <th>home_ownership_OTHER</th>\n      <th>home_ownership_OWN</th>\n      <th>home_ownership_RENT</th>\n      <th>verification_status_Source Verified</th>\n      <th>verification_status_Verified</th>\n      <th>initial_list_status_w</th>\n      <th>application_type_Joint App</th>\n      <th>disbursement_method_DirectPay</th>\n      <th>debt_settlement_flag_Y</th>\n    </tr>\n  </thead>\n  <tbody>\n    <tr>\n      <th>867434</th>\n      <td>35000.0</td>\n      <td>35000.0</td>\n      <td>35000.0</td>\n      <td>36.0</td>\n      <td>13.65</td>\n      <td>1190.28</td>\n      <td>2.0</td>\n      <td>320000.0</td>\n      <td>0.0</td>\n      <td>3.94</td>\n      <td>...</td>\n      <td>0.0</td>\n      <td>0.0</td>\n      <td>0.0</td>\n      <td>0.0</td>\n      <td>0.0</td>\n      <td>1.0</td>\n      <td>0.0</td>\n      <td>0.0</td>\n      <td>0.0</td>\n      <td>0.0</td>\n    </tr>\n    <tr>\n      <th>759833</th>\n      <td>6100.0</td>\n      <td>6100.0</td>\n      <td>6100.0</td>\n      <td>36.0</td>\n      <td>8.39</td>\n      <td>192.26</td>\n      <td>0.0</td>\n      <td>93500.0</td>\n      <td>0.0</td>\n      <td>13.50</td>\n      <td>...</td>\n      <td>0.0</td>\n      <td>0.0</td>\n      <td>0.0</td>\n      <td>1.0</td>\n      <td>1.0</td>\n      <td>0.0</td>\n      <td>1.0</td>\n      <td>0.0</td>\n      <td>0.0</td>\n      <td>0.0</td>\n    </tr>\n    <tr>\n      <th>401447</th>\n      <td>14400.0</td>\n      <td>14400.0</td>\n      <td>14400.0</td>\n      <td>36.0</td>\n      <td>13.59</td>\n      <td>489.30</td>\n      <td>6.0</td>\n      <td>71500.0</td>\n      <td>1.0</td>\n      <td>8.63</td>\n      <td>...</td>\n      <td>0.0</td>\n      <td>0.0</td>\n      <td>0.0</td>\n      <td>1.0</td>\n      <td>0.0</td>\n      <td>1.0</td>\n      <td>1.0</td>\n      <td>0.0</td>\n      <td>0.0</td>\n      <td>0.0</td>\n    </tr>\n    <tr>\n      <th>423338</th>\n      <td>18000.0</td>\n      <td>18000.0</td>\n      <td>18000.0</td>\n      <td>36.0</td>\n      <td>11.99</td>\n      <td>597.78</td>\n      <td>10.0</td>\n      <td>60000.0</td>\n      <td>0.0</td>\n      <td>23.30</td>\n      <td>...</td>\n      <td>0.0</td>\n      <td>0.0</td>\n      <td>0.0</td>\n      <td>0.0</td>\n      <td>0.0</td>\n      <td>0.0</td>\n      <td>1.0</td>\n      <td>0.0</td>\n      <td>0.0</td>\n      <td>0.0</td>\n    </tr>\n    <tr>\n      <th>529944</th>\n      <td>11000.0</td>\n      <td>11000.0</td>\n      <td>11000.0</td>\n      <td>36.0</td>\n      <td>12.62</td>\n      <td>368.63</td>\n      <td>3.0</td>\n      <td>100000.0</td>\n      <td>0.0</td>\n      <td>15.18</td>\n      <td>...</td>\n      <td>0.0</td>\n      <td>0.0</td>\n      <td>0.0</td>\n      <td>1.0</td>\n      <td>0.0</td>\n      <td>1.0</td>\n      <td>1.0</td>\n      <td>0.0</td>\n      <td>0.0</td>\n      <td>0.0</td>\n    </tr>\n  </tbody>\n</table>\n<p>5 rows × 100 columns</p>\n</div>"
     },
     "execution_count": 10,
>>>>>>> d65eaae26abb42d56610d9a8d2364de1fc8415db
     "metadata": {},
     "output_type": "execute_result"
    }
   ],
   "source": [
    "# Fill NaNs with Median\n",
    "df_binary_downsampled = df_binary_downsampled.fillna(df_binary_downsampled.median())\n",
    "# Preview\n",
    "df_binary_downsampled.head(5)"
   ],
   "metadata": {
    "collapsed": false,
    "pycharm": {
     "name": "#%%\n"
    }
   }
  },
  {
   "cell_type": "markdown",
   "source": [
    "# Remove Highly Correlated Features\n",
    "Keeping highly correlated features do not add much more information to our model but making it more complex. Thus we remove highly correlated features that exceed a certain threshold."
   ],
   "metadata": {
    "collapsed": false,
    "pycharm": {
     "name": "#%% md\n"
    }
   }
  },
  {
   "cell_type": "code",
   "execution_count": 43,
   "outputs": [
    {
     "data": {
      "text/plain": "last_fico_range_high   -0.667289\nlast_fico_range_low    -0.576656\ntotal_rec_prncp        -0.435683\nlast_pymnt_amnt        -0.346609\ntotal_pymnt            -0.311751\n                          ...   \nrecoveries              0.509232\nloan_status             1.000000\nout_prncp                    NaN\nout_prncp_inv                NaN\npolicy_code                  NaN\nName: loan_status, Length: 100, dtype: float64"
     },
     "execution_count": 11,
     "metadata": {},
     "output_type": "execute_result"
    }
   ],
   "source": [
    "corr = df.corr()\n",
    "corr[\"loan_status\"].sort_values()"
   ],
   "metadata": {
    "collapsed": false,
    "pycharm": {
     "name": "#%%\n"
    }
   }
  },
  {
   "cell_type": "markdown",
   "source": [
    "## Data Split\n",
    "In this section we split the data into a training and test set. The corresponding model is then trained on the training set and tested on the test set."
   ],
   "metadata": {
    "collapsed": false,
    "pycharm": {
     "name": "#%% md\n"
    }
   }
  },
  {
   "cell_type": "code",
   "execution_count": 12,
   "outputs": [
    {
     "name": "stdout",
     "output_type": "stream",
     "text": [
      "Shape of X_train: (173627, 109)\n",
      "Shape of X_test: (74412, 109)\n",
      "Shape of y_train: (173627,)\n",
      "Shape of y_test: (74412,)\n"
     ]
    }
   ],
   "source": [
    "# Fraction of test data\n",
    "TEST_SIZE = 0.3\n",
    "\n",
    "X = df_binary_downsampled.drop(\"loan_status\", axis=1)\n",
    "y = df_binary_downsampled[\"loan_status\"]\n",
    "\n",
    "# Split data into train and test data\n",
    "X_train, X_test, y_train, y_test = train_test_split(X, y, test_size=TEST_SIZE, random_state=42, stratify=y)\n",
    "\n",
    "print(f\"Shape of X_train: {X_train.shape}\")\n",
    "print(f\"Shape of X_test: {X_test.shape}\")\n",
    "print(f\"Shape of y_train: {y_train.shape}\")\n",
    "print(f\"Shape of y_test: {y_test.shape}\")"
   ],
   "metadata": {
    "collapsed": false,
    "pycharm": {
     "name": "#%%\n"
    }
   }
  },
  {
   "cell_type": "markdown",
   "source": [
<<<<<<< HEAD
    "# Train Model"
=======
    "## Scale Data\n",
    "To avoid bias, we scale each feature using the standard scaler, i.e. from each realization $x_{ij}$ the mean is subtracted divided by the standard deviation of each feature."
>>>>>>> d65eaae26abb42d56610d9a8d2364de1fc8415db
   ],
   "metadata": {
    "collapsed": false,
    "pycharm": {
     "name": "#%% md\n"
    }
   }
  },
  {
   "cell_type": "code",
<<<<<<< HEAD
   "execution_count": 59,
=======
   "execution_count": 13,
   "outputs": [
    {
     "data": {
      "text/plain": "         0         1         2         3         4         5         6   \\\n0  0.183492  0.184738  0.187299 -0.564617 -1.440283  0.199948  1.120904   \n1  0.000283  0.001443  0.004064  1.771112  1.733437 -0.166789 -0.836298   \n2 -0.088458 -0.087341 -0.084690  1.771112  2.258888 -0.173128  0.282103   \n3 -0.732550 -0.731738 -0.728873 -0.564617 -0.235951 -0.653164 -1.115898   \n4 -0.503540 -0.502619 -0.499830 -0.564617 -1.019923 -0.466091 -1.115898   \n\n         7         8         9   ...        89        90        91        92  \\\n0 -0.418802  0.005532 -0.363192  ... -0.006517 -0.010305  2.866861 -0.808439   \n1 -0.178485  0.053726 -0.363192  ... -0.006517 -0.010305 -0.348814 -0.808439   \n2 -0.771267  1.111623 -0.363192  ... -0.006517 -0.010305 -0.348814  1.236952   \n3 -0.819331  0.063997 -0.363192  ... -0.006517 -0.010305 -0.348814  1.236952   \n4 -0.659119 -0.583066  4.234800  ... -0.006517 -0.010305 -0.348814 -0.808439   \n\n         93        94        95        96        97        98  \n0 -0.794039 -0.672927  0.845174 -0.136277 -0.072987 -0.161162  \n1 -0.794039  1.486046  0.845174 -0.136277 -0.072987 -0.161162  \n2 -0.794039  1.486046  0.845174 -0.136277 -0.072987 -0.161162  \n3  1.259385 -0.672927 -1.183188 -0.136277 -0.072987 -0.161162  \n4  1.259385 -0.672927 -1.183188 -0.136277 -0.072987 -0.161162  \n\n[5 rows x 99 columns]",
      "text/html": "<div>\n<style scoped>\n    .dataframe tbody tr th:only-of-type {\n        vertical-align: middle;\n    }\n\n    .dataframe tbody tr th {\n        vertical-align: top;\n    }\n\n    .dataframe thead th {\n        text-align: right;\n    }\n</style>\n<table border=\"1\" class=\"dataframe\">\n  <thead>\n    <tr style=\"text-align: right;\">\n      <th></th>\n      <th>0</th>\n      <th>1</th>\n      <th>2</th>\n      <th>3</th>\n      <th>4</th>\n      <th>5</th>\n      <th>6</th>\n      <th>7</th>\n      <th>8</th>\n      <th>9</th>\n      <th>...</th>\n      <th>89</th>\n      <th>90</th>\n      <th>91</th>\n      <th>92</th>\n      <th>93</th>\n      <th>94</th>\n      <th>95</th>\n      <th>96</th>\n      <th>97</th>\n      <th>98</th>\n    </tr>\n  </thead>\n  <tbody>\n    <tr>\n      <th>0</th>\n      <td>0.183492</td>\n      <td>0.184738</td>\n      <td>0.187299</td>\n      <td>-0.564617</td>\n      <td>-1.440283</td>\n      <td>0.199948</td>\n      <td>1.120904</td>\n      <td>-0.418802</td>\n      <td>0.005532</td>\n      <td>-0.363192</td>\n      <td>...</td>\n      <td>-0.006517</td>\n      <td>-0.010305</td>\n      <td>2.866861</td>\n      <td>-0.808439</td>\n      <td>-0.794039</td>\n      <td>-0.672927</td>\n      <td>0.845174</td>\n      <td>-0.136277</td>\n      <td>-0.072987</td>\n      <td>-0.161162</td>\n    </tr>\n    <tr>\n      <th>1</th>\n      <td>0.000283</td>\n      <td>0.001443</td>\n      <td>0.004064</td>\n      <td>1.771112</td>\n      <td>1.733437</td>\n      <td>-0.166789</td>\n      <td>-0.836298</td>\n      <td>-0.178485</td>\n      <td>0.053726</td>\n      <td>-0.363192</td>\n      <td>...</td>\n      <td>-0.006517</td>\n      <td>-0.010305</td>\n      <td>-0.348814</td>\n      <td>-0.808439</td>\n      <td>-0.794039</td>\n      <td>1.486046</td>\n      <td>0.845174</td>\n      <td>-0.136277</td>\n      <td>-0.072987</td>\n      <td>-0.161162</td>\n    </tr>\n    <tr>\n      <th>2</th>\n      <td>-0.088458</td>\n      <td>-0.087341</td>\n      <td>-0.084690</td>\n      <td>1.771112</td>\n      <td>2.258888</td>\n      <td>-0.173128</td>\n      <td>0.282103</td>\n      <td>-0.771267</td>\n      <td>1.111623</td>\n      <td>-0.363192</td>\n      <td>...</td>\n      <td>-0.006517</td>\n      <td>-0.010305</td>\n      <td>-0.348814</td>\n      <td>1.236952</td>\n      <td>-0.794039</td>\n      <td>1.486046</td>\n      <td>0.845174</td>\n      <td>-0.136277</td>\n      <td>-0.072987</td>\n      <td>-0.161162</td>\n    </tr>\n    <tr>\n      <th>3</th>\n      <td>-0.732550</td>\n      <td>-0.731738</td>\n      <td>-0.728873</td>\n      <td>-0.564617</td>\n      <td>-0.235951</td>\n      <td>-0.653164</td>\n      <td>-1.115898</td>\n      <td>-0.819331</td>\n      <td>0.063997</td>\n      <td>-0.363192</td>\n      <td>...</td>\n      <td>-0.006517</td>\n      <td>-0.010305</td>\n      <td>-0.348814</td>\n      <td>1.236952</td>\n      <td>1.259385</td>\n      <td>-0.672927</td>\n      <td>-1.183188</td>\n      <td>-0.136277</td>\n      <td>-0.072987</td>\n      <td>-0.161162</td>\n    </tr>\n    <tr>\n      <th>4</th>\n      <td>-0.503540</td>\n      <td>-0.502619</td>\n      <td>-0.499830</td>\n      <td>-0.564617</td>\n      <td>-1.019923</td>\n      <td>-0.466091</td>\n      <td>-1.115898</td>\n      <td>-0.659119</td>\n      <td>-0.583066</td>\n      <td>4.234800</td>\n      <td>...</td>\n      <td>-0.006517</td>\n      <td>-0.010305</td>\n      <td>-0.348814</td>\n      <td>-0.808439</td>\n      <td>1.259385</td>\n      <td>-0.672927</td>\n      <td>-1.183188</td>\n      <td>-0.136277</td>\n      <td>-0.072987</td>\n      <td>-0.161162</td>\n    </tr>\n  </tbody>\n</table>\n<p>5 rows × 99 columns</p>\n</div>"
     },
     "execution_count": 13,
     "metadata": {},
     "output_type": "execute_result"
    }
   ],
   "source": [
    "# Init object\n",
    "scaler = StandardScaler()\n",
    "# Scale X_train\n",
    "X_train_scaled = scaler.fit_transform(X_train)\n",
    "X_train_scaled = pd.DataFrame(X_train_scaled)\n",
    "X_train_scaled.head(5)"
   ],
   "metadata": {
    "collapsed": false,
    "pycharm": {
     "name": "#%%\n"
    }
   }
  },
  {
   "cell_type": "markdown",
   "source": [
    "# Fit Model"
   ],
   "metadata": {
    "collapsed": false,
    "pycharm": {
     "name": "#%% md\n"
    }
   }
  },
  {
   "cell_type": "code",
   "execution_count": 14,
>>>>>>> d65eaae26abb42d56610d9a8d2364de1fc8415db
   "outputs": [
    {
     "name": "stdout",
     "output_type": "stream",
     "text": [
<<<<<<< HEAD
      "Intercept: [5.20121373]\n",
      "Coefficients: [[ 3.93363137e+00  4.15673809e+00  4.30674291e+00  3.57590514e-01\n",
      "  -3.57590514e-01 -1.54488203e-01  3.80109407e+00  0.00000000e+00\n",
      "   1.51116014e-02  2.65919600e-02 -8.22451227e-03  0.00000000e+00\n",
      "   3.22418480e-02 -3.89397182e-02 -3.77582487e-02  3.04819981e-02\n",
      "   1.65579383e-02  2.62238961e-02  2.16867796e-02  0.00000000e+00\n",
      "   5.09861194e-03  3.34708265e-02  3.42591591e-02 -2.09844174e-02\n",
      "   0.00000000e+00  5.21559271e-02  1.95158863e-02  7.88330666e-02\n",
      "  -9.05497905e-02  4.63362850e-02  4.64825500e-02 -3.02011955e-02\n",
      "   4.08466950e-02 -7.88462006e-03  8.01750137e-03 -1.04439869e-01\n",
      "  -6.66845473e-02  1.04253839e-01  0.00000000e+00  0.00000000e+00\n",
      "  -5.55788989e+00 -5.30625371e+00 -7.92251050e+00  3.03251055e+00\n",
      "   2.67211270e-01  3.53565349e+00  3.09152026e+00 -4.12752698e+00\n",
      "  -1.70888634e+00 -6.30266158e-03  2.34337734e-02 -3.14937843e-03\n",
      "   0.00000000e+00  1.97542989e-02 -1.97542989e-02 -3.81412515e-03\n",
      "   7.12428507e-03 -8.56688142e-02  4.75297975e-03 -2.49247154e-02\n",
      "  -6.02678099e-02  2.40483293e-02  1.22902936e-02 -2.17828921e-02\n",
      "   3.59340787e-02  2.02802167e-02 -8.22570774e-02 -1.50630170e-01\n",
      "  -1.67078665e-03  1.31205757e-01 -1.47970214e-02 -1.85896261e-02\n",
      "  -2.53929233e-02 -1.63467435e-02  2.36611977e-02  2.82845389e-02\n",
      "   5.71539982e-02  1.51083202e-02  3.25219386e-02  3.22417064e-02\n",
      "   1.35431923e-01  1.08491992e-02 -1.66298725e-03  1.83925833e-02\n",
      "  -1.42062734e-02 -2.27259507e-03 -2.10256527e-02 -3.57188694e-02\n",
      "   4.93218866e-02 -2.85161058e-02 -1.70472884e-01  4.55527596e-02\n",
      "   1.63903651e-02 -6.57135564e-03 -2.86454770e-02  4.24660315e-02\n",
      "   7.16274108e-02 -1.41771724e-03  2.51248713e-03  4.14078508e-02\n",
      "   4.03671641e-03  9.18431104e-03 -6.31758648e-02 -9.02179692e-03\n",
      "   3.39670151e-03  1.92287130e-03  2.40598964e-02  5.01545005e-02\n",
      "  -1.09656769e-01]]\n",
      "CPU times: total: 16min 29s\n",
      "Wall time: 16min 36s\n"
=======
      "Intercept: [-2.26562142]\n",
      "Coefficients: [[ 3.41926677e+00  4.27135677e+00  4.36219005e+00  6.44290066e-01\n",
      "  -2.23607918e-01  3.61091565e+00 -2.02439422e-02 -1.81522997e-01\n",
      "   3.17476810e-02 -5.96647863e-02  3.83721217e-03  3.81849093e-03\n",
      "  -1.13389813e-02 -3.50757705e-02  2.91028353e-01  3.28977815e-02\n",
      "  -8.67456133e-02 -1.45310470e-01  2.86831866e-02  0.00000000e+00\n",
      "   0.00000000e+00 -5.61250517e+00 -5.41434043e+00 -7.86606913e+00\n",
      "   2.80570143e+00  1.29254100e-01  4.38704559e+00  3.81112192e+00\n",
      "  -4.31431996e+00 -1.40389398e+00 -9.25506050e-02  8.69386357e-04\n",
      "  -3.14638935e-02  0.00000000e+00 -6.84785765e-04  3.52826833e-03\n",
      "   4.31615141e-02 -4.85057898e-02 -4.49780432e-02 -6.94893050e-02\n",
      "   9.58279915e-02  3.39491977e-02  3.15408890e-02 -2.24305544e-02\n",
      "   8.55390020e-02 -2.48444339e-02 -1.45370704e-01  6.48249591e-02\n",
      "   1.35175596e-01 -9.27753542e-02  5.83031745e-02 -3.26942514e-03\n",
      "  -3.81204728e-02 -2.49498400e-02  7.19850321e-03  1.55557843e-02\n",
      "   1.92939773e-02 -2.40006993e-02  3.37304396e-02  1.77923146e-01\n",
      "   1.97319543e-02 -3.14316486e-03  3.16187377e-03  3.64631112e-02\n",
      "  -2.49645527e-02  4.52015284e-02 -1.96969143e-02  2.03275830e-03\n",
      "  -5.84748431e-02 -1.39039034e-01  1.49985333e-01 -2.50244819e-02\n",
      "   1.34308210e-02 -1.06322009e-01  1.06477236e-01 -1.99505825e-01\n",
      "  -1.95528662e-02 -8.52316336e-03  4.70509365e-02  1.00704148e-01\n",
      "   4.70724442e-02  3.13262440e-02 -2.27867577e-02 -1.89932836e-02\n",
      "  -1.50735193e-02 -1.09534147e-01  6.47806131e-02 -1.29450232e-02\n",
      "  -6.09504541e-03  6.37444688e-03 -8.29761713e-02  1.66447487e-02\n",
      "   6.76821119e-04  3.08943862e-02  3.77875718e-02 -3.22631295e-02\n",
      "  -5.63968832e-02 -8.93479773e-03  1.82739068e+00]]\n",
      "CPU times: user 2min, sys: 1.05 s, total: 2min 1s\n",
      "Wall time: 2min 3s\n"
     ]
    },
    {
     "name": "stderr",
     "output_type": "stream",
     "text": [
      "/Library/Frameworks/Python.framework/Versions/3.8/lib/python3.8/site-packages/sklearn/linear_model/_sag.py:350: ConvergenceWarning: The max_iter was reached which means the coef_ did not converge\n",
      "  warnings.warn(\n"
>>>>>>> d65eaae26abb42d56610d9a8d2364de1fc8415db
     ]
    }
   ],
   "source": [
    "%%time\n",
<<<<<<< HEAD
    "lr = LogisticRegression(fit_intercept=True, max_iter=10000, solver=\"saga\")\n",
    "pipe_lr = Pipeline([('scl', StandardScaler()),\n",
    "                    ('clf', lr)])\n",
    "pipe_lr.fit(X_train, y_train)\n",
=======
    "lr = LogisticRegression(fit_intercept=True, max_iter=1000, solver=\"saga\")\n",
    "lr.fit(X_train_scaled, y_train)\n",
>>>>>>> d65eaae26abb42d56610d9a8d2364de1fc8415db
    "\n",
    "# Print coefficients and intercept\n",
    "print(f\"Intercept: {lr.intercept_}\")\n",
    "print(f\"Coefficients: {lr.coef_}\")"
   ],
   "metadata": {
    "collapsed": false,
    "pycharm": {
     "name": "#%%\n"
    }
   }
  },
  {
   "cell_type": "markdown",
   "source": [
    "## Test Model"
   ],
   "metadata": {
    "collapsed": false,
    "pycharm": {
     "name": "#%% md\n"
    }
   }
  },
  {
   "cell_type": "code",
<<<<<<< HEAD
   "execution_count": 68,
   "outputs": [
    {
     "data": {
      "text/plain": "<Figure size 432x288 with 2 Axes>",
      "image/png": "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\n"
=======
   "execution_count": 15,
   "outputs": [
    {
     "data": {
      "text/plain": "<Figure size 504x360 with 2 Axes>",
      "image/png": "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\n"
>>>>>>> d65eaae26abb42d56610d9a8d2364de1fc8415db
     },
     "metadata": {},
     "output_type": "display_data"
    },
    {
     "name": "stdout",
     "output_type": "stream",
     "text": [
      "________________________________________________________________________________\n",
      "              precision    recall  f1-score   support\n",
      "\n",
<<<<<<< HEAD
      "         0.0       0.99      1.00      1.00     42059\n",
      "         1.0       1.00      0.99      0.99     32353\n",
=======
      "         0.0       1.00      1.00      1.00     32319\n",
      "         1.0       1.00      0.98      0.99      8041\n",
>>>>>>> d65eaae26abb42d56610d9a8d2364de1fc8415db
      "\n",
      "    accuracy                           0.99     74412\n",
      "   macro avg       1.00      0.99      0.99     74412\n",
      "weighted avg       0.99      0.99      0.99     74412\n",
      "\n",
      "Information:\n",
      "Precision: Percentage of correct positive predictions relative to total positive predictions\n",
      "Recall: Percentage of correct positive predictions relative to total actual positives.\n",
      "F1 Score: A weighted harmonic mean of precision and recall. The closer to 1, the better the model.\n",
      "________________________________________________________________________________\n"
     ]
    }
   ],
   "source": [
    "# Predict in-sample values\n",
    "scaler = StandardScaler()\n",
    "X_test_scaled = scaler.fit_transform(X_test)\n",
    "y_pred = lr.predict(X_test_scaled)\n",
    "\n",
    "# Plot Confusion matrics\n",
    "cm = confusion_matrix(y_true=y_test, y_pred=y_pred)\n",
    "sns.heatmap(cm, annot=True, fmt='d')\n",
    "plt.title(\"Confusion matrix\")\n",
    "plt.xlabel(\"Predicted\")\n",
    "plt.ylabel(\"Actual\")\n",
    "plt.show()\n",
    "\n",
    "# Plot classification report\n",
    "print(80 * \"_\")\n",
    "print(classification_report(y_true=y_test, y_pred=y_pred))\n",
    "print(\"Information:\")\n",
    "print(\"Precision: Percentage of correct positive predictions relative to total positive predictions\")\n",
    "print(\"Recall: Percentage of correct positive predictions relative to total actual positives.\")\n",
    "print(\"F1 Score: A weighted harmonic mean of precision and recall. The closer to 1, the better the model.\")\n",
    "print(80 * \"_\")"
   ],
   "metadata": {
    "collapsed": false,
    "pycharm": {
     "name": "#%%\n"
    }
   }
  },
  {
   "cell_type": "code",
<<<<<<< HEAD
   "execution_count": 61,
=======
   "execution_count": 16,
>>>>>>> d65eaae26abb42d56610d9a8d2364de1fc8415db
   "outputs": [
    {
     "name": "stderr",
     "output_type": "stream",
     "text": [
      "C:\\anaconda3\\envs\\dataScience\\lib\\site-packages\\sklearn\\base.py:443: UserWarning: X has feature names, but LogisticRegression was fitted without feature names\n",
      "  warnings.warn(\n"
     ]
    },
    {
     "data": {
<<<<<<< HEAD
      "text/plain": "   P(y=0|x)  P(y=1|x)  y_pred  y_actual\n0       1.0       0.0     0.0       0.0\n1       0.0       1.0     1.0       1.0\n2       1.0       0.0     0.0       0.0\n3       1.0       0.0     0.0       0.0\n4       1.0       0.0     0.0       1.0\n5       1.0       0.0     0.0       0.0\n6       1.0       0.0     0.0       0.0\n7       1.0       0.0     0.0       0.0\n8       1.0       0.0     0.0       0.0\n9       1.0       0.0     0.0       1.0",
      "text/html": "<div>\n<style scoped>\n    .dataframe tbody tr th:only-of-type {\n        vertical-align: middle;\n    }\n\n    .dataframe tbody tr th {\n        vertical-align: top;\n    }\n\n    .dataframe thead th {\n        text-align: right;\n    }\n</style>\n<table border=\"1\" class=\"dataframe\">\n  <thead>\n    <tr style=\"text-align: right;\">\n      <th></th>\n      <th>P(y=0|x)</th>\n      <th>P(y=1|x)</th>\n      <th>y_pred</th>\n      <th>y_actual</th>\n    </tr>\n  </thead>\n  <tbody>\n    <tr>\n      <th>0</th>\n      <td>1.0</td>\n      <td>0.0</td>\n      <td>0.0</td>\n      <td>0.0</td>\n    </tr>\n    <tr>\n      <th>1</th>\n      <td>0.0</td>\n      <td>1.0</td>\n      <td>1.0</td>\n      <td>1.0</td>\n    </tr>\n    <tr>\n      <th>2</th>\n      <td>1.0</td>\n      <td>0.0</td>\n      <td>0.0</td>\n      <td>0.0</td>\n    </tr>\n    <tr>\n      <th>3</th>\n      <td>1.0</td>\n      <td>0.0</td>\n      <td>0.0</td>\n      <td>0.0</td>\n    </tr>\n    <tr>\n      <th>4</th>\n      <td>1.0</td>\n      <td>0.0</td>\n      <td>0.0</td>\n      <td>1.0</td>\n    </tr>\n    <tr>\n      <th>5</th>\n      <td>1.0</td>\n      <td>0.0</td>\n      <td>0.0</td>\n      <td>0.0</td>\n    </tr>\n    <tr>\n      <th>6</th>\n      <td>1.0</td>\n      <td>0.0</td>\n      <td>0.0</td>\n      <td>0.0</td>\n    </tr>\n    <tr>\n      <th>7</th>\n      <td>1.0</td>\n      <td>0.0</td>\n      <td>0.0</td>\n      <td>0.0</td>\n    </tr>\n    <tr>\n      <th>8</th>\n      <td>1.0</td>\n      <td>0.0</td>\n      <td>0.0</td>\n      <td>0.0</td>\n    </tr>\n    <tr>\n      <th>9</th>\n      <td>1.0</td>\n      <td>0.0</td>\n      <td>0.0</td>\n      <td>1.0</td>\n    </tr>\n  </tbody>\n</table>\n</div>"
     },
     "execution_count": 61,
=======
      "text/plain": "   P(y=0|x)  P(y=1|x)  y_pred  y_actual\n0   0.99836   0.00164     0.0       0.0\n1   1.00000   0.00000     0.0       0.0\n2   0.99973   0.00027     0.0       0.0\n3   0.98888   0.01112     0.0       0.0\n4   0.99780   0.00220     0.0       0.0\n5   1.00000   0.00000     0.0       0.0\n6   0.98505   0.01495     0.0       0.0\n7   0.99409   0.00591     0.0       0.0\n8   0.99720   0.00280     0.0       0.0\n9   0.99990   0.00010     0.0       0.0",
      "text/html": "<div>\n<style scoped>\n    .dataframe tbody tr th:only-of-type {\n        vertical-align: middle;\n    }\n\n    .dataframe tbody tr th {\n        vertical-align: top;\n    }\n\n    .dataframe thead th {\n        text-align: right;\n    }\n</style>\n<table border=\"1\" class=\"dataframe\">\n  <thead>\n    <tr style=\"text-align: right;\">\n      <th></th>\n      <th>P(y=0|x)</th>\n      <th>P(y=1|x)</th>\n      <th>y_pred</th>\n      <th>y_actual</th>\n    </tr>\n  </thead>\n  <tbody>\n    <tr>\n      <th>0</th>\n      <td>0.99836</td>\n      <td>0.00164</td>\n      <td>0.0</td>\n      <td>0.0</td>\n    </tr>\n    <tr>\n      <th>1</th>\n      <td>1.00000</td>\n      <td>0.00000</td>\n      <td>0.0</td>\n      <td>0.0</td>\n    </tr>\n    <tr>\n      <th>2</th>\n      <td>0.99973</td>\n      <td>0.00027</td>\n      <td>0.0</td>\n      <td>0.0</td>\n    </tr>\n    <tr>\n      <th>3</th>\n      <td>0.98888</td>\n      <td>0.01112</td>\n      <td>0.0</td>\n      <td>0.0</td>\n    </tr>\n    <tr>\n      <th>4</th>\n      <td>0.99780</td>\n      <td>0.00220</td>\n      <td>0.0</td>\n      <td>0.0</td>\n    </tr>\n    <tr>\n      <th>5</th>\n      <td>1.00000</td>\n      <td>0.00000</td>\n      <td>0.0</td>\n      <td>0.0</td>\n    </tr>\n    <tr>\n      <th>6</th>\n      <td>0.98505</td>\n      <td>0.01495</td>\n      <td>0.0</td>\n      <td>0.0</td>\n    </tr>\n    <tr>\n      <th>7</th>\n      <td>0.99409</td>\n      <td>0.00591</td>\n      <td>0.0</td>\n      <td>0.0</td>\n    </tr>\n    <tr>\n      <th>8</th>\n      <td>0.99720</td>\n      <td>0.00280</td>\n      <td>0.0</td>\n      <td>0.0</td>\n    </tr>\n    <tr>\n      <th>9</th>\n      <td>0.99990</td>\n      <td>0.00010</td>\n      <td>0.0</td>\n      <td>0.0</td>\n    </tr>\n  </tbody>\n</table>\n</div>"
     },
     "execution_count": 16,
>>>>>>> d65eaae26abb42d56610d9a8d2364de1fc8415db
     "metadata": {},
     "output_type": "execute_result"
    }
   ],
   "source": [
    "# Get Probability Predictions\n",
    "pred_proba = pd.DataFrame(lr.predict_proba(X_test), columns=[\"P(y=0|x)\", \"P(y=1|x)\"])\n",
    "# Round to 5 decimal places\n",
    "pred_proba = pred_proba.round(5)\n",
    "\n",
    "pred_proba[\"y_pred\"] = y_pred\n",
    "pred_proba[\"y_actual\"] = y_test.values\n",
    "\n",
    "pred_proba.head(10)"
   ],
   "metadata": {
    "collapsed": false,
    "pycharm": {
     "name": "#%%\n"
    }
   }
  },
  {
   "cell_type": "markdown",
   "source": [
    "# Task 4\n",
    "---"
   ],
   "metadata": {
    "collapsed": false,
    "pycharm": {
     "name": "#%% md\n"
    }
   }
  },
  {
   "cell_type": "markdown",
   "source": [
    "Comparing\n",
    "* logistic regression,\n",
    "* classification tree,\n",
    "* random forest,\n",
    "* bagging,\n",
    "* support vector machine (with two kernel functions),\n",
    "* and neural network\n",
    "for default prediction based on the out-of-sample performance measures (at least three different measures)."
   ],
   "metadata": {
    "collapsed": false,
    "pycharm": {
     "name": "#%% md\n"
    }
   }
  },
  {
   "cell_type": "code",
   "execution_count": null,
   "outputs": [],
   "source": [
    "scaler = StandardScaler()\n",
    "X_train_scaled = scaler.fit_transform(X_train)"
   ],
   "metadata": {
    "collapsed": false,
    "pycharm": {
     "name": "#%%\n"
    }
   }
  },
  {
   "cell_type": "code",
   "execution_count": null,
   "outputs": [],
   "source": [
    "%%time\n",
    "models = []\n",
    "\n",
    "models.append((\"LogisticRegression\",LogisticRegression(fit_intercept=True, max_iter=10000, solver=\"saga\")))\n",
    "models.append((\"DecisionTree\",DecisionTreeClassifier()))\n",
    "models.append((\"RandomForest\",RandomForestClassifier()))\n",
    "models.append((\"BaggingCLF\",BaggingClassifier()))\n",
    "models.append((\"SVC\",SVC(kernel='rbf')))\n",
    "models.append((\"SVC\",SVC(kernel=\"linear\")))\n",
    "models.append((\"NeuronalNetwork\", MLPClassifier(alpha=1, max_iter=1000)))\n",
    "\n",
    "results = []\n",
    "names = []\n",
    "for name,model in tqdm(models):\n",
    "    result = cross_val_score(model, X_train_scaled, y_train,  cv=3)\n",
    "    names.append(name)\n",
    "    results.append(result)\n",
    "\n",
    "for i in range(len(names)):\n",
    "    print(names[i],results[i].mean())"
   ],
   "metadata": {
    "collapsed": false,
    "pycharm": {
     "name": "#%%\n",
     "is_executing": true
    }
   }
  },
  {
   "cell_type": "code",
   "execution_count": null,
   "outputs": [],
   "source": [
    "# boxplot algorithm comparison\n",
    "fig = plt.figure()\n",
    "fig.suptitle('Algorithm Comparison')\n",
    "ax = fig.add_subplot(111)\n",
    "plt.boxplot(results)\n",
    "ax.set_xticklabels(names)\n",
    "plt.show()"
   ],
   "metadata": {
    "collapsed": false,
    "pycharm": {
     "name": "#%%\n"
    }
   }
  },
  {
   "cell_type": "code",
   "execution_count": null,
   "outputs": [],
   "source": [
    "# data point plot - total, train, test\n",
    "figure, ax = plt.subplot(3, len(models))\n",
    "\n",
    "cm_bright = ListedColormap([\"#FF0000\", \"#0000FF\"])\n",
    "x_min, x_max = X[:, 0].min() - 0.5, X[:, 0].max() + 0.5\n",
    "y_min, y_max = X[:, 1].min() - 0.5, X[:, 1].max() + 0.5\n",
    "\n",
    "for ax, model in zip(ax.flatten(), models):\n",
    "    \n",
    "    name = model[0]\n",
    "    clf = model[1]\n",
    "    \n",
    "    clf.fit(X_train, y_train)\n",
    "    score = clf.score(X_test, y_test)\n",
    "    DecisionBoundaryDisplay.from_estimator(\n",
    "        clf, X, cmap=cm, alpha=0.8, ax=ax, eps=0.5\n",
    "    )\n",
    "\n",
    "    # Plot the training points\n",
    "    ax.scatter(\n",
    "        X_train[:, 0], X_train[:, 1], c=y_train, cmap=cm_bright, edgecolors=\"k\"\n",
    "    )\n",
    "    # Plot the testing points\n",
    "    ax.scatter(X_test[:, 0], X_test[:, 1], c=y_test,\n",
    "        cmap=cm_bright,\n",
    "        edgecolors=\"k\",\n",
    "        alpha=0.6,\n",
    "    )\n",
    "\n",
    "    ax.set_xlim(x_min, x_max)\n",
    "    ax.set_ylim(y_min, y_max)\n",
    "    ax.set_xticks(())\n",
    "    ax.set_yticks(())\n",
    "    ax.set_title(f\"{name}\")\n",
    "    ax.text(\n",
    "        x_max - 0.3,\n",
    "        y_min + 0.3,\n",
    "        (\"%.2f\" % score).lstrip(\"0\"),\n",
    "        size=15,\n",
    "        horizontalalignment=\"right\",\n",
    "    )\n",
    "\n",
    "plt.tight_layout()\n",
    "plt.show()"
   ],
   "metadata": {
    "collapsed": false,
    "pycharm": {
     "name": "#%%\n"
    }
   }
  }
 ],
 "metadata": {
  "kernelspec": {
   "name": "pycharm-5848d719",
   "language": "python",
   "display_name": "PyCharm (advanced-ml-final-project)"
  },
  "language_info": {
   "codemirror_mode": {
    "name": "ipython",
    "version": 2
   },
   "file_extension": ".py",
   "mimetype": "text/x-python",
   "name": "python",
   "nbconvert_exporter": "python",
   "pygments_lexer": "ipython2",
   "version": "2.7.6"
  }
 },
 "nbformat": 4,
 "nbformat_minor": 0
}