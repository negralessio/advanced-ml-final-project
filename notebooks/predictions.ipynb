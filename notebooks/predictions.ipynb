{
 "cells": [
  {
   "cell_type": "code",
   "execution_count": 1,
   "outputs": [],
   "source": [
    "import pandas as pd\n",
    "import numpy as np\n",
    "import matplotlib.pyplot as plt\n",
    "import seaborn as sns\n",
    "# For modeling\n",
    "from sklearn.linear_model import LogisticRegression\n",
    "from sklearn.metrics import confusion_matrix\n",
    "from sklearn.metrics import accuracy_score\n",
    "from sklearn.metrics import classification_report\n",
    "from sklearn.model_selection import train_test_split\n",
    "from sklearn.preprocessing import StandardScaler\n",
    "sns.set_theme(style='whitegrid')\n",
    "pd.options.mode.chained_assignment = None  # Supress warning, default='warn'"
   ],
   "metadata": {
    "collapsed": false,
    "pycharm": {
     "name": "#%%\n"
    }
   }
  },
  {
   "cell_type": "markdown",
   "source": [
    "# Read Data"
   ],
   "metadata": {
    "collapsed": false,
    "pycharm": {
     "name": "#%% md\n"
    }
   }
  },
  {
   "cell_type": "code",
   "execution_count": 2,
   "outputs": [
    {
     "name": "stdout",
     "output_type": "stream",
     "text": [
      "Shape of df: (1345310, 101)\n"
     ]
    },
    {
     "data": {
      "text/plain": "   loan_amnt  funded_amnt  funded_amnt_inv  term  int_rate  installment grade  \\\n0     3600.0       3600.0           3600.0    36     13.99       123.03     C   \n1    24700.0      24700.0          24700.0    36     11.99       820.28     C   \n2    20000.0      20000.0          20000.0    60     10.78       432.66     B   \n3    10400.0      10400.0          10400.0    60     22.45       289.91     F   \n4    11950.0      11950.0          11950.0    36     13.44       405.18     C   \n\n  sub_grade  emp_length home_ownership  ...  percent_bc_gt_75  \\\n0        C4        10.0       MORTGAGE  ...               0.0   \n1        C1        10.0       MORTGAGE  ...               7.7   \n2        B4        10.0       MORTGAGE  ...              50.0   \n3        F1         3.0       MORTGAGE  ...              60.0   \n4        C3         4.0           RENT  ...             100.0   \n\n  pub_rec_bankruptcies  tax_liens tot_hi_cred_lim total_bal_ex_mort  \\\n0                  0.0        0.0        178050.0            7746.0   \n1                  0.0        0.0        314017.0           39475.0   \n2                  0.0        0.0        218418.0           18696.0   \n3                  0.0        0.0        439570.0           95768.0   \n4                  0.0        0.0         16900.0           12798.0   \n\n  total_bc_limit  total_il_high_credit_limit  hardship_flag  \\\n0         2400.0                     13734.0              N   \n1        79300.0                     24667.0              N   \n2         6200.0                     14877.0              N   \n3        20300.0                     88097.0              N   \n4         9400.0                      4000.0              N   \n\n   disbursement_method  debt_settlement_flag  \n0                 Cash                     N  \n1                 Cash                     N  \n2                 Cash                     N  \n3                 Cash                     N  \n4                 Cash                     N  \n\n[5 rows x 101 columns]",
      "text/html": "<div>\n<style scoped>\n    .dataframe tbody tr th:only-of-type {\n        vertical-align: middle;\n    }\n\n    .dataframe tbody tr th {\n        vertical-align: top;\n    }\n\n    .dataframe thead th {\n        text-align: right;\n    }\n</style>\n<table border=\"1\" class=\"dataframe\">\n  <thead>\n    <tr style=\"text-align: right;\">\n      <th></th>\n      <th>loan_amnt</th>\n      <th>funded_amnt</th>\n      <th>funded_amnt_inv</th>\n      <th>term</th>\n      <th>int_rate</th>\n      <th>installment</th>\n      <th>grade</th>\n      <th>sub_grade</th>\n      <th>emp_length</th>\n      <th>home_ownership</th>\n      <th>...</th>\n      <th>percent_bc_gt_75</th>\n      <th>pub_rec_bankruptcies</th>\n      <th>tax_liens</th>\n      <th>tot_hi_cred_lim</th>\n      <th>total_bal_ex_mort</th>\n      <th>total_bc_limit</th>\n      <th>total_il_high_credit_limit</th>\n      <th>hardship_flag</th>\n      <th>disbursement_method</th>\n      <th>debt_settlement_flag</th>\n    </tr>\n  </thead>\n  <tbody>\n    <tr>\n      <th>0</th>\n      <td>3600.0</td>\n      <td>3600.0</td>\n      <td>3600.0</td>\n      <td>36</td>\n      <td>13.99</td>\n      <td>123.03</td>\n      <td>C</td>\n      <td>C4</td>\n      <td>10.0</td>\n      <td>MORTGAGE</td>\n      <td>...</td>\n      <td>0.0</td>\n      <td>0.0</td>\n      <td>0.0</td>\n      <td>178050.0</td>\n      <td>7746.0</td>\n      <td>2400.0</td>\n      <td>13734.0</td>\n      <td>N</td>\n      <td>Cash</td>\n      <td>N</td>\n    </tr>\n    <tr>\n      <th>1</th>\n      <td>24700.0</td>\n      <td>24700.0</td>\n      <td>24700.0</td>\n      <td>36</td>\n      <td>11.99</td>\n      <td>820.28</td>\n      <td>C</td>\n      <td>C1</td>\n      <td>10.0</td>\n      <td>MORTGAGE</td>\n      <td>...</td>\n      <td>7.7</td>\n      <td>0.0</td>\n      <td>0.0</td>\n      <td>314017.0</td>\n      <td>39475.0</td>\n      <td>79300.0</td>\n      <td>24667.0</td>\n      <td>N</td>\n      <td>Cash</td>\n      <td>N</td>\n    </tr>\n    <tr>\n      <th>2</th>\n      <td>20000.0</td>\n      <td>20000.0</td>\n      <td>20000.0</td>\n      <td>60</td>\n      <td>10.78</td>\n      <td>432.66</td>\n      <td>B</td>\n      <td>B4</td>\n      <td>10.0</td>\n      <td>MORTGAGE</td>\n      <td>...</td>\n      <td>50.0</td>\n      <td>0.0</td>\n      <td>0.0</td>\n      <td>218418.0</td>\n      <td>18696.0</td>\n      <td>6200.0</td>\n      <td>14877.0</td>\n      <td>N</td>\n      <td>Cash</td>\n      <td>N</td>\n    </tr>\n    <tr>\n      <th>3</th>\n      <td>10400.0</td>\n      <td>10400.0</td>\n      <td>10400.0</td>\n      <td>60</td>\n      <td>22.45</td>\n      <td>289.91</td>\n      <td>F</td>\n      <td>F1</td>\n      <td>3.0</td>\n      <td>MORTGAGE</td>\n      <td>...</td>\n      <td>60.0</td>\n      <td>0.0</td>\n      <td>0.0</td>\n      <td>439570.0</td>\n      <td>95768.0</td>\n      <td>20300.0</td>\n      <td>88097.0</td>\n      <td>N</td>\n      <td>Cash</td>\n      <td>N</td>\n    </tr>\n    <tr>\n      <th>4</th>\n      <td>11950.0</td>\n      <td>11950.0</td>\n      <td>11950.0</td>\n      <td>36</td>\n      <td>13.44</td>\n      <td>405.18</td>\n      <td>C</td>\n      <td>C3</td>\n      <td>4.0</td>\n      <td>RENT</td>\n      <td>...</td>\n      <td>100.0</td>\n      <td>0.0</td>\n      <td>0.0</td>\n      <td>16900.0</td>\n      <td>12798.0</td>\n      <td>9400.0</td>\n      <td>4000.0</td>\n      <td>N</td>\n      <td>Cash</td>\n      <td>N</td>\n    </tr>\n  </tbody>\n</table>\n<p>5 rows × 101 columns</p>\n</div>"
     },
     "execution_count": 2,
     "metadata": {},
     "output_type": "execute_result"
    }
   ],
   "source": [
    "df = pd.read_csv('../data/preprocessed/accepted_2007_to_2018Q4_preprocessed.csv')\n",
    "print(f\"Shape of df: {df.shape}\")\n",
    "df.head(5)"
   ],
   "metadata": {
    "collapsed": false,
    "pycharm": {
     "name": "#%%\n"
    }
   }
  },
  {
   "cell_type": "code",
   "execution_count": 3,
   "outputs": [
    {
     "data": {
      "text/plain": "loan_amnt                     float64\nfunded_amnt                   float64\nfunded_amnt_inv               float64\nterm                            int64\nint_rate                      float64\n                               ...   \ntotal_bc_limit                float64\ntotal_il_high_credit_limit    float64\nhardship_flag                  object\ndisbursement_method            object\ndebt_settlement_flag           object\nLength: 101, dtype: object"
     },
     "execution_count": 3,
     "metadata": {},
     "output_type": "execute_result"
    }
   ],
   "source": [
    "df.dtypes"
   ],
   "metadata": {
    "collapsed": false,
    "pycharm": {
     "name": "#%%\n"
    }
   }
  },
  {
   "cell_type": "markdown",
   "source": [
    "## Take Sample to Work with\n",
    "TODO: Delete this later and run notebook on full data"
   ],
   "metadata": {
    "collapsed": false,
    "pycharm": {
     "name": "#%% md\n"
    }
   }
  },
  {
   "cell_type": "code",
   "execution_count": 4,
   "outputs": [
    {
     "name": "stdout",
     "output_type": "stream",
     "text": [
      "(134531, 101)\n"
     ]
    }
   ],
   "source": [
    "# Take only fraction of the data\n",
    "df = df.sample(frac = 0.10)\n",
    "print(df.shape)"
   ],
   "metadata": {
    "collapsed": false,
    "pycharm": {
     "name": "#%%\n"
    }
   }
  },
  {
   "cell_type": "markdown",
   "source": [
    "# Encode Categorical / Nominal Columns to numeric with OHE"
   ],
   "metadata": {
    "collapsed": false,
    "pycharm": {
     "name": "#%% md\n"
    }
   }
  },
  {
   "cell_type": "code",
   "execution_count": 5,
   "outputs": [
    {
     "data": {
      "text/plain": "grade                   object\nsub_grade               object\nhome_ownership          object\nverification_status     object\npymnt_plan              object\npurpose                 object\naddr_state              object\ninitial_list_status     object\napplication_type        object\nhardship_flag           object\ndisbursement_method     object\ndebt_settlement_flag    object\ndtype: object"
     },
     "execution_count": 5,
     "metadata": {},
     "output_type": "execute_result"
    }
   ],
   "source": [
    "# Preview categorical data\n",
    "df.dtypes[df.dtypes == \"object\"]"
   ],
   "metadata": {
    "collapsed": false,
    "pycharm": {
     "name": "#%%\n"
    }
   }
  },
  {
   "cell_type": "code",
   "execution_count": 6,
   "outputs": [
    {
     "data": {
      "text/plain": "home_ownership          object\nverification_status     object\npymnt_plan              object\ninitial_list_status     object\napplication_type        object\nhardship_flag           object\ndisbursement_method     object\ndebt_settlement_flag    object\ndtype: object"
     },
     "execution_count": 6,
     "metadata": {},
     "output_type": "execute_result"
    }
   ],
   "source": [
    "# Drop categorical columns that have too many realization for OHE\n",
    "df = df.drop([\"sub_grade\", \"purpose\", \"grade\", \"addr_state\"], axis=1)\n",
    "df.dtypes[df.dtypes == \"object\"]"
   ],
   "metadata": {
    "collapsed": false,
    "pycharm": {
     "name": "#%%\n"
    }
   }
  },
  {
   "cell_type": "markdown",
   "source": [
    "## One Hot Encoder (OHE) of categorical data"
   ],
   "metadata": {
    "collapsed": false,
    "pycharm": {
     "name": "#%% md\n"
    }
   }
  },
  {
   "cell_type": "code",
   "execution_count": 7,
   "outputs": [
    {
     "data": {
      "text/plain": "         loan_amnt  funded_amnt  funded_amnt_inv  term  int_rate  installment  \\\n306091     19200.0      19200.0          19200.0    60     12.69       433.82   \n1018393     9450.0       9450.0           9450.0    36     15.10       328.06   \n402066      8000.0       8000.0           8000.0    36     14.08       273.74   \n173854      2000.0       2000.0           2000.0    36      9.17        63.76   \n487023     35000.0      35000.0          34700.0    60     25.88      1045.44   \n803804     31100.0      31100.0          31100.0    60     19.52       815.68   \n787337     11000.0      11000.0          11000.0    36      9.17       350.67   \n170437     10000.0      10000.0          10000.0    36      6.24       305.31   \n117582      8125.0       8125.0           8125.0    36     14.65       280.27   \n1192403     8000.0       8000.0           8000.0    36     10.65       260.59   \n\n         emp_length  annual_inc  loan_status    dti  ...  home_ownership_NONE  \\\n306091         10.0     68000.0            1  27.55  ...                    0   \n1018393         7.0     28500.0            0  23.41  ...                    0   \n402066          0.0     99500.0            1  11.34  ...                    0   \n173854         10.0     58000.0            0   8.30  ...                    0   \n487023         10.0     80000.0            1  15.33  ...                    0   \n803804         10.0     63003.0            0  28.87  ...                    0   \n787337         10.0     39000.0            0  12.46  ...                    0   \n170437          4.0     50000.0            0  21.22  ...                    0   \n117582          2.0     41500.0            1   6.82  ...                    0   \n1192403         1.0     37000.0            0   8.76  ...                    0   \n\n         home_ownership_OTHER  home_ownership_OWN  home_ownership_RENT  \\\n306091                      0                   0                    0   \n1018393                     0                   0                    1   \n402066                      0                   0                    1   \n173854                      0                   0                    0   \n487023                      0                   0                    0   \n803804                      0                   0                    0   \n787337                      0                   0                    0   \n170437                      0                   0                    0   \n117582                      0                   0                    0   \n1192403                     0                   0                    1   \n\n         verification_status_Source Verified  verification_status_Verified  \\\n306091                                     0                             1   \n1018393                                    1                             0   \n402066                                     0                             1   \n173854                                     1                             0   \n487023                                     0                             1   \n803804                                     0                             1   \n787337                                     0                             0   \n170437                                     0                             0   \n117582                                     0                             1   \n1192403                                    1                             0   \n\n         initial_list_status_w  application_type_Joint App  \\\n306091                       1                           0   \n1018393                      1                           0   \n402066                       1                           0   \n173854                       1                           0   \n487023                       1                           0   \n803804                       0                           0   \n787337                       1                           0   \n170437                       1                           0   \n117582                       1                           0   \n1192403                      0                           0   \n\n         disbursement_method_DirectPay  debt_settlement_flag_Y  \n306091                               0                       0  \n1018393                              0                       0  \n402066                               0                       0  \n173854                               0                       0  \n487023                               0                       0  \n803804                               0                       0  \n787337                               0                       0  \n170437                               0                       0  \n117582                               0                       0  \n1192403                              0                       0  \n\n[10 rows x 100 columns]",
      "text/html": "<div>\n<style scoped>\n    .dataframe tbody tr th:only-of-type {\n        vertical-align: middle;\n    }\n\n    .dataframe tbody tr th {\n        vertical-align: top;\n    }\n\n    .dataframe thead th {\n        text-align: right;\n    }\n</style>\n<table border=\"1\" class=\"dataframe\">\n  <thead>\n    <tr style=\"text-align: right;\">\n      <th></th>\n      <th>loan_amnt</th>\n      <th>funded_amnt</th>\n      <th>funded_amnt_inv</th>\n      <th>term</th>\n      <th>int_rate</th>\n      <th>installment</th>\n      <th>emp_length</th>\n      <th>annual_inc</th>\n      <th>loan_status</th>\n      <th>dti</th>\n      <th>...</th>\n      <th>home_ownership_NONE</th>\n      <th>home_ownership_OTHER</th>\n      <th>home_ownership_OWN</th>\n      <th>home_ownership_RENT</th>\n      <th>verification_status_Source Verified</th>\n      <th>verification_status_Verified</th>\n      <th>initial_list_status_w</th>\n      <th>application_type_Joint App</th>\n      <th>disbursement_method_DirectPay</th>\n      <th>debt_settlement_flag_Y</th>\n    </tr>\n  </thead>\n  <tbody>\n    <tr>\n      <th>306091</th>\n      <td>19200.0</td>\n      <td>19200.0</td>\n      <td>19200.0</td>\n      <td>60</td>\n      <td>12.69</td>\n      <td>433.82</td>\n      <td>10.0</td>\n      <td>68000.0</td>\n      <td>1</td>\n      <td>27.55</td>\n      <td>...</td>\n      <td>0</td>\n      <td>0</td>\n      <td>0</td>\n      <td>0</td>\n      <td>0</td>\n      <td>1</td>\n      <td>1</td>\n      <td>0</td>\n      <td>0</td>\n      <td>0</td>\n    </tr>\n    <tr>\n      <th>1018393</th>\n      <td>9450.0</td>\n      <td>9450.0</td>\n      <td>9450.0</td>\n      <td>36</td>\n      <td>15.10</td>\n      <td>328.06</td>\n      <td>7.0</td>\n      <td>28500.0</td>\n      <td>0</td>\n      <td>23.41</td>\n      <td>...</td>\n      <td>0</td>\n      <td>0</td>\n      <td>0</td>\n      <td>1</td>\n      <td>1</td>\n      <td>0</td>\n      <td>1</td>\n      <td>0</td>\n      <td>0</td>\n      <td>0</td>\n    </tr>\n    <tr>\n      <th>402066</th>\n      <td>8000.0</td>\n      <td>8000.0</td>\n      <td>8000.0</td>\n      <td>36</td>\n      <td>14.08</td>\n      <td>273.74</td>\n      <td>0.0</td>\n      <td>99500.0</td>\n      <td>1</td>\n      <td>11.34</td>\n      <td>...</td>\n      <td>0</td>\n      <td>0</td>\n      <td>0</td>\n      <td>1</td>\n      <td>0</td>\n      <td>1</td>\n      <td>1</td>\n      <td>0</td>\n      <td>0</td>\n      <td>0</td>\n    </tr>\n    <tr>\n      <th>173854</th>\n      <td>2000.0</td>\n      <td>2000.0</td>\n      <td>2000.0</td>\n      <td>36</td>\n      <td>9.17</td>\n      <td>63.76</td>\n      <td>10.0</td>\n      <td>58000.0</td>\n      <td>0</td>\n      <td>8.30</td>\n      <td>...</td>\n      <td>0</td>\n      <td>0</td>\n      <td>0</td>\n      <td>0</td>\n      <td>1</td>\n      <td>0</td>\n      <td>1</td>\n      <td>0</td>\n      <td>0</td>\n      <td>0</td>\n    </tr>\n    <tr>\n      <th>487023</th>\n      <td>35000.0</td>\n      <td>35000.0</td>\n      <td>34700.0</td>\n      <td>60</td>\n      <td>25.88</td>\n      <td>1045.44</td>\n      <td>10.0</td>\n      <td>80000.0</td>\n      <td>1</td>\n      <td>15.33</td>\n      <td>...</td>\n      <td>0</td>\n      <td>0</td>\n      <td>0</td>\n      <td>0</td>\n      <td>0</td>\n      <td>1</td>\n      <td>1</td>\n      <td>0</td>\n      <td>0</td>\n      <td>0</td>\n    </tr>\n    <tr>\n      <th>803804</th>\n      <td>31100.0</td>\n      <td>31100.0</td>\n      <td>31100.0</td>\n      <td>60</td>\n      <td>19.52</td>\n      <td>815.68</td>\n      <td>10.0</td>\n      <td>63003.0</td>\n      <td>0</td>\n      <td>28.87</td>\n      <td>...</td>\n      <td>0</td>\n      <td>0</td>\n      <td>0</td>\n      <td>0</td>\n      <td>0</td>\n      <td>1</td>\n      <td>0</td>\n      <td>0</td>\n      <td>0</td>\n      <td>0</td>\n    </tr>\n    <tr>\n      <th>787337</th>\n      <td>11000.0</td>\n      <td>11000.0</td>\n      <td>11000.0</td>\n      <td>36</td>\n      <td>9.17</td>\n      <td>350.67</td>\n      <td>10.0</td>\n      <td>39000.0</td>\n      <td>0</td>\n      <td>12.46</td>\n      <td>...</td>\n      <td>0</td>\n      <td>0</td>\n      <td>0</td>\n      <td>0</td>\n      <td>0</td>\n      <td>0</td>\n      <td>1</td>\n      <td>0</td>\n      <td>0</td>\n      <td>0</td>\n    </tr>\n    <tr>\n      <th>170437</th>\n      <td>10000.0</td>\n      <td>10000.0</td>\n      <td>10000.0</td>\n      <td>36</td>\n      <td>6.24</td>\n      <td>305.31</td>\n      <td>4.0</td>\n      <td>50000.0</td>\n      <td>0</td>\n      <td>21.22</td>\n      <td>...</td>\n      <td>0</td>\n      <td>0</td>\n      <td>0</td>\n      <td>0</td>\n      <td>0</td>\n      <td>0</td>\n      <td>1</td>\n      <td>0</td>\n      <td>0</td>\n      <td>0</td>\n    </tr>\n    <tr>\n      <th>117582</th>\n      <td>8125.0</td>\n      <td>8125.0</td>\n      <td>8125.0</td>\n      <td>36</td>\n      <td>14.65</td>\n      <td>280.27</td>\n      <td>2.0</td>\n      <td>41500.0</td>\n      <td>1</td>\n      <td>6.82</td>\n      <td>...</td>\n      <td>0</td>\n      <td>0</td>\n      <td>0</td>\n      <td>0</td>\n      <td>0</td>\n      <td>1</td>\n      <td>1</td>\n      <td>0</td>\n      <td>0</td>\n      <td>0</td>\n    </tr>\n    <tr>\n      <th>1192403</th>\n      <td>8000.0</td>\n      <td>8000.0</td>\n      <td>8000.0</td>\n      <td>36</td>\n      <td>10.65</td>\n      <td>260.59</td>\n      <td>1.0</td>\n      <td>37000.0</td>\n      <td>0</td>\n      <td>8.76</td>\n      <td>...</td>\n      <td>0</td>\n      <td>0</td>\n      <td>0</td>\n      <td>1</td>\n      <td>1</td>\n      <td>0</td>\n      <td>0</td>\n      <td>0</td>\n      <td>0</td>\n      <td>0</td>\n    </tr>\n  </tbody>\n</table>\n<p>10 rows × 100 columns</p>\n</div>"
     },
     "execution_count": 7,
     "metadata": {},
     "output_type": "execute_result"
    }
   ],
   "source": [
    "# Get categorical columns names\n",
    "categorical_columns = list(df.dtypes[df.dtypes == \"object\"].keys())\n",
    "# Transform those categorical columns using One Hot Encoding\n",
    "df = pd.get_dummies(data=df, columns=categorical_columns, drop_first=True)\n",
    "# Preview\n",
    "df.head(10)"
   ],
   "metadata": {
    "collapsed": false,
    "pycharm": {
     "name": "#%%\n"
    }
   }
  },
  {
   "cell_type": "code",
   "execution_count": 8,
   "outputs": [
    {
     "data": {
      "text/plain": "float64    87\nuint8      11\nint64       2\ndtype: int64"
     },
     "execution_count": 8,
     "metadata": {},
     "output_type": "execute_result"
    }
   ],
   "source": [
    "# Show types of columns and counter\n",
    "df.dtypes.value_counts()"
   ],
   "metadata": {
    "collapsed": false,
    "pycharm": {
     "name": "#%%\n"
    }
   }
  },
  {
   "cell_type": "code",
   "execution_count": 9,
   "outputs": [
    {
     "data": {
      "text/plain": "float64    100\ndtype: int64"
     },
     "execution_count": 9,
     "metadata": {},
     "output_type": "execute_result"
    }
   ],
   "source": [
    "# Convert all values to float\n",
    "df = df.astype(float)\n",
    "# Preview\n",
    "df.dtypes.value_counts()"
   ],
   "metadata": {
    "collapsed": false,
    "pycharm": {
     "name": "#%%\n"
    }
   }
  },
  {
   "cell_type": "markdown",
   "source": [
    "# Preprocessing"
   ],
   "metadata": {
    "collapsed": false,
    "pycharm": {
     "name": "#%% md\n"
    }
   }
  },
  {
   "cell_type": "code",
   "execution_count": 10,
   "outputs": [
    {
     "data": {
      "text/plain": "         loan_amnt  funded_amnt  funded_amnt_inv  term  int_rate  installment  \\\n306091     19200.0      19200.0          19200.0  60.0     12.69       433.82   \n1018393     9450.0       9450.0           9450.0  36.0     15.10       328.06   \n402066      8000.0       8000.0           8000.0  36.0     14.08       273.74   \n173854      2000.0       2000.0           2000.0  36.0      9.17        63.76   \n487023     35000.0      35000.0          34700.0  60.0     25.88      1045.44   \n\n         emp_length  annual_inc  loan_status    dti  ...  home_ownership_NONE  \\\n306091         10.0     68000.0          1.0  27.55  ...                  0.0   \n1018393         7.0     28500.0          0.0  23.41  ...                  0.0   \n402066          0.0     99500.0          1.0  11.34  ...                  0.0   \n173854         10.0     58000.0          0.0   8.30  ...                  0.0   \n487023         10.0     80000.0          1.0  15.33  ...                  0.0   \n\n         home_ownership_OTHER  home_ownership_OWN  home_ownership_RENT  \\\n306091                    0.0                 0.0                  0.0   \n1018393                   0.0                 0.0                  1.0   \n402066                    0.0                 0.0                  1.0   \n173854                    0.0                 0.0                  0.0   \n487023                    0.0                 0.0                  0.0   \n\n         verification_status_Source Verified  verification_status_Verified  \\\n306091                                   0.0                           1.0   \n1018393                                  1.0                           0.0   \n402066                                   0.0                           1.0   \n173854                                   1.0                           0.0   \n487023                                   0.0                           1.0   \n\n         initial_list_status_w  application_type_Joint App  \\\n306091                     1.0                         0.0   \n1018393                    1.0                         0.0   \n402066                     1.0                         0.0   \n173854                     1.0                         0.0   \n487023                     1.0                         0.0   \n\n         disbursement_method_DirectPay  debt_settlement_flag_Y  \n306091                             0.0                     0.0  \n1018393                            0.0                     0.0  \n402066                             0.0                     0.0  \n173854                             0.0                     0.0  \n487023                             0.0                     0.0  \n\n[5 rows x 100 columns]",
      "text/html": "<div>\n<style scoped>\n    .dataframe tbody tr th:only-of-type {\n        vertical-align: middle;\n    }\n\n    .dataframe tbody tr th {\n        vertical-align: top;\n    }\n\n    .dataframe thead th {\n        text-align: right;\n    }\n</style>\n<table border=\"1\" class=\"dataframe\">\n  <thead>\n    <tr style=\"text-align: right;\">\n      <th></th>\n      <th>loan_amnt</th>\n      <th>funded_amnt</th>\n      <th>funded_amnt_inv</th>\n      <th>term</th>\n      <th>int_rate</th>\n      <th>installment</th>\n      <th>emp_length</th>\n      <th>annual_inc</th>\n      <th>loan_status</th>\n      <th>dti</th>\n      <th>...</th>\n      <th>home_ownership_NONE</th>\n      <th>home_ownership_OTHER</th>\n      <th>home_ownership_OWN</th>\n      <th>home_ownership_RENT</th>\n      <th>verification_status_Source Verified</th>\n      <th>verification_status_Verified</th>\n      <th>initial_list_status_w</th>\n      <th>application_type_Joint App</th>\n      <th>disbursement_method_DirectPay</th>\n      <th>debt_settlement_flag_Y</th>\n    </tr>\n  </thead>\n  <tbody>\n    <tr>\n      <th>306091</th>\n      <td>19200.0</td>\n      <td>19200.0</td>\n      <td>19200.0</td>\n      <td>60.0</td>\n      <td>12.69</td>\n      <td>433.82</td>\n      <td>10.0</td>\n      <td>68000.0</td>\n      <td>1.0</td>\n      <td>27.55</td>\n      <td>...</td>\n      <td>0.0</td>\n      <td>0.0</td>\n      <td>0.0</td>\n      <td>0.0</td>\n      <td>0.0</td>\n      <td>1.0</td>\n      <td>1.0</td>\n      <td>0.0</td>\n      <td>0.0</td>\n      <td>0.0</td>\n    </tr>\n    <tr>\n      <th>1018393</th>\n      <td>9450.0</td>\n      <td>9450.0</td>\n      <td>9450.0</td>\n      <td>36.0</td>\n      <td>15.10</td>\n      <td>328.06</td>\n      <td>7.0</td>\n      <td>28500.0</td>\n      <td>0.0</td>\n      <td>23.41</td>\n      <td>...</td>\n      <td>0.0</td>\n      <td>0.0</td>\n      <td>0.0</td>\n      <td>1.0</td>\n      <td>1.0</td>\n      <td>0.0</td>\n      <td>1.0</td>\n      <td>0.0</td>\n      <td>0.0</td>\n      <td>0.0</td>\n    </tr>\n    <tr>\n      <th>402066</th>\n      <td>8000.0</td>\n      <td>8000.0</td>\n      <td>8000.0</td>\n      <td>36.0</td>\n      <td>14.08</td>\n      <td>273.74</td>\n      <td>0.0</td>\n      <td>99500.0</td>\n      <td>1.0</td>\n      <td>11.34</td>\n      <td>...</td>\n      <td>0.0</td>\n      <td>0.0</td>\n      <td>0.0</td>\n      <td>1.0</td>\n      <td>0.0</td>\n      <td>1.0</td>\n      <td>1.0</td>\n      <td>0.0</td>\n      <td>0.0</td>\n      <td>0.0</td>\n    </tr>\n    <tr>\n      <th>173854</th>\n      <td>2000.0</td>\n      <td>2000.0</td>\n      <td>2000.0</td>\n      <td>36.0</td>\n      <td>9.17</td>\n      <td>63.76</td>\n      <td>10.0</td>\n      <td>58000.0</td>\n      <td>0.0</td>\n      <td>8.30</td>\n      <td>...</td>\n      <td>0.0</td>\n      <td>0.0</td>\n      <td>0.0</td>\n      <td>0.0</td>\n      <td>1.0</td>\n      <td>0.0</td>\n      <td>1.0</td>\n      <td>0.0</td>\n      <td>0.0</td>\n      <td>0.0</td>\n    </tr>\n    <tr>\n      <th>487023</th>\n      <td>35000.0</td>\n      <td>35000.0</td>\n      <td>34700.0</td>\n      <td>60.0</td>\n      <td>25.88</td>\n      <td>1045.44</td>\n      <td>10.0</td>\n      <td>80000.0</td>\n      <td>1.0</td>\n      <td>15.33</td>\n      <td>...</td>\n      <td>0.0</td>\n      <td>0.0</td>\n      <td>0.0</td>\n      <td>0.0</td>\n      <td>0.0</td>\n      <td>1.0</td>\n      <td>1.0</td>\n      <td>0.0</td>\n      <td>0.0</td>\n      <td>0.0</td>\n    </tr>\n  </tbody>\n</table>\n<p>5 rows × 100 columns</p>\n</div>"
     },
     "execution_count": 10,
     "metadata": {},
     "output_type": "execute_result"
    }
   ],
   "source": [
    "# Fill NaNs with Median\n",
    "df = df.fillna(df.median())\n",
    "# Preview\n",
    "df.head(5)"
   ],
   "metadata": {
    "collapsed": false,
    "pycharm": {
     "name": "#%%\n"
    }
   }
  },
  {
   "cell_type": "markdown",
   "source": [
    "## Data Split"
   ],
   "metadata": {
    "collapsed": false,
    "pycharm": {
     "name": "#%% md\n"
    }
   }
  },
  {
   "cell_type": "code",
   "execution_count": 11,
   "outputs": [
    {
     "name": "stdout",
     "output_type": "stream",
     "text": [
      "Shape of X_train: (94171, 99)\n",
      "Shape of X_test: (40360, 99)\n",
      "Shape of y_train: (94171,)\n",
      "Shape of y_test: (40360,)\n"
     ]
    }
   ],
   "source": [
    "# Fraction of test data\n",
    "TEST_SIZE = 0.3\n",
    "\n",
    "X = df.drop(\"loan_status\", axis=1)\n",
    "y = df[\"loan_status\"]\n",
    "\n",
    "# Split data into train and test data\n",
    "X_train, X_test, y_train, y_test = train_test_split(X, y, test_size=TEST_SIZE, random_state=42, stratify=y)\n",
    "\n",
    "print(f\"Shape of X_train: {X_train.shape}\")\n",
    "print(f\"Shape of X_test: {X_test.shape}\")\n",
    "print(f\"Shape of y_train: {y_train.shape}\")\n",
    "print(f\"Shape of y_test: {y_test.shape}\")"
   ],
   "metadata": {
    "collapsed": false,
    "pycharm": {
     "name": "#%%\n"
    }
   }
  },
  {
   "cell_type": "markdown",
   "source": [
    "## Scale Data"
   ],
   "metadata": {
    "collapsed": false,
    "pycharm": {
     "name": "#%% md\n"
    }
   }
  },
  {
   "cell_type": "code",
   "execution_count": 12,
   "outputs": [
    {
     "data": {
      "text/plain": "         0         1         2         3         4         5         6   \\\n0 -0.849030 -0.848523 -0.845692 -0.565827 -0.163899 -0.777398  0.005411   \n1 -0.963629 -0.963176 -0.960320 -0.565827  0.425161 -0.873738  1.121577   \n2  0.583467  0.584649  0.587166 -0.565827  0.015743  0.849319  1.121577   \n3  0.067768  0.068707  0.071337 -0.565827  0.053343  0.272651  1.121577   \n4 -0.849030 -0.848523 -0.845692 -0.565827 -0.059456 -0.770985  0.005411   \n\n         7         8         9   ...        89        90        91        92  \\\n0 -0.278786 -1.316958 -0.359549  ... -0.006517 -0.007982 -0.348047 -0.813584   \n1 -0.339294  0.358093 -0.359549  ... -0.006517 -0.007982 -0.348047  1.229129   \n2  0.650738 -0.224366  3.012196  ... -0.006517 -0.007982 -0.348047 -0.813584   \n3 -0.018203  0.674395 -0.359549  ... -0.006517 -0.007982 -0.348047 -0.813584   \n4 -0.767416 -0.608172 -0.359549  ... -0.006517 -0.007982 -0.348047  1.229129   \n\n         93        94        95        96        97        98  \n0 -0.794892  1.482010  0.852562 -0.141246 -0.072396 -0.160919  \n1 -0.794892 -0.674759 -1.172935 -0.141246 -0.072396 -0.160919  \n2 -0.794892 -0.674759  0.852562 -0.141246 -0.072396 -0.160919  \n3  1.258032 -0.674759  0.852562 -0.141246 -0.072396 -0.160919  \n4 -0.794892  1.482010 -1.172935 -0.141246 -0.072396 -0.160919  \n\n[5 rows x 99 columns]",
      "text/html": "<div>\n<style scoped>\n    .dataframe tbody tr th:only-of-type {\n        vertical-align: middle;\n    }\n\n    .dataframe tbody tr th {\n        vertical-align: top;\n    }\n\n    .dataframe thead th {\n        text-align: right;\n    }\n</style>\n<table border=\"1\" class=\"dataframe\">\n  <thead>\n    <tr style=\"text-align: right;\">\n      <th></th>\n      <th>0</th>\n      <th>1</th>\n      <th>2</th>\n      <th>3</th>\n      <th>4</th>\n      <th>5</th>\n      <th>6</th>\n      <th>7</th>\n      <th>8</th>\n      <th>9</th>\n      <th>...</th>\n      <th>89</th>\n      <th>90</th>\n      <th>91</th>\n      <th>92</th>\n      <th>93</th>\n      <th>94</th>\n      <th>95</th>\n      <th>96</th>\n      <th>97</th>\n      <th>98</th>\n    </tr>\n  </thead>\n  <tbody>\n    <tr>\n      <th>0</th>\n      <td>-0.849030</td>\n      <td>-0.848523</td>\n      <td>-0.845692</td>\n      <td>-0.565827</td>\n      <td>-0.163899</td>\n      <td>-0.777398</td>\n      <td>0.005411</td>\n      <td>-0.278786</td>\n      <td>-1.316958</td>\n      <td>-0.359549</td>\n      <td>...</td>\n      <td>-0.006517</td>\n      <td>-0.007982</td>\n      <td>-0.348047</td>\n      <td>-0.813584</td>\n      <td>-0.794892</td>\n      <td>1.482010</td>\n      <td>0.852562</td>\n      <td>-0.141246</td>\n      <td>-0.072396</td>\n      <td>-0.160919</td>\n    </tr>\n    <tr>\n      <th>1</th>\n      <td>-0.963629</td>\n      <td>-0.963176</td>\n      <td>-0.960320</td>\n      <td>-0.565827</td>\n      <td>0.425161</td>\n      <td>-0.873738</td>\n      <td>1.121577</td>\n      <td>-0.339294</td>\n      <td>0.358093</td>\n      <td>-0.359549</td>\n      <td>...</td>\n      <td>-0.006517</td>\n      <td>-0.007982</td>\n      <td>-0.348047</td>\n      <td>1.229129</td>\n      <td>-0.794892</td>\n      <td>-0.674759</td>\n      <td>-1.172935</td>\n      <td>-0.141246</td>\n      <td>-0.072396</td>\n      <td>-0.160919</td>\n    </tr>\n    <tr>\n      <th>2</th>\n      <td>0.583467</td>\n      <td>0.584649</td>\n      <td>0.587166</td>\n      <td>-0.565827</td>\n      <td>0.015743</td>\n      <td>0.849319</td>\n      <td>1.121577</td>\n      <td>0.650738</td>\n      <td>-0.224366</td>\n      <td>3.012196</td>\n      <td>...</td>\n      <td>-0.006517</td>\n      <td>-0.007982</td>\n      <td>-0.348047</td>\n      <td>-0.813584</td>\n      <td>-0.794892</td>\n      <td>-0.674759</td>\n      <td>0.852562</td>\n      <td>-0.141246</td>\n      <td>-0.072396</td>\n      <td>-0.160919</td>\n    </tr>\n    <tr>\n      <th>3</th>\n      <td>0.067768</td>\n      <td>0.068707</td>\n      <td>0.071337</td>\n      <td>-0.565827</td>\n      <td>0.053343</td>\n      <td>0.272651</td>\n      <td>1.121577</td>\n      <td>-0.018203</td>\n      <td>0.674395</td>\n      <td>-0.359549</td>\n      <td>...</td>\n      <td>-0.006517</td>\n      <td>-0.007982</td>\n      <td>-0.348047</td>\n      <td>-0.813584</td>\n      <td>1.258032</td>\n      <td>-0.674759</td>\n      <td>0.852562</td>\n      <td>-0.141246</td>\n      <td>-0.072396</td>\n      <td>-0.160919</td>\n    </tr>\n    <tr>\n      <th>4</th>\n      <td>-0.849030</td>\n      <td>-0.848523</td>\n      <td>-0.845692</td>\n      <td>-0.565827</td>\n      <td>-0.059456</td>\n      <td>-0.770985</td>\n      <td>0.005411</td>\n      <td>-0.767416</td>\n      <td>-0.608172</td>\n      <td>-0.359549</td>\n      <td>...</td>\n      <td>-0.006517</td>\n      <td>-0.007982</td>\n      <td>-0.348047</td>\n      <td>1.229129</td>\n      <td>-0.794892</td>\n      <td>1.482010</td>\n      <td>-1.172935</td>\n      <td>-0.141246</td>\n      <td>-0.072396</td>\n      <td>-0.160919</td>\n    </tr>\n  </tbody>\n</table>\n<p>5 rows × 99 columns</p>\n</div>"
     },
     "execution_count": 12,
     "metadata": {},
     "output_type": "execute_result"
    }
   ],
   "source": [
    "# Init object\n",
    "scaler = StandardScaler()\n",
    "# Scale X_train\n",
    "X_train_scaled = scaler.fit_transform(X_train)\n",
    "X_train_scaled = pd.DataFrame(X_train_scaled)\n",
    "X_train_scaled.head(5)"
   ],
   "metadata": {
    "collapsed": false,
    "pycharm": {
     "name": "#%%\n"
    }
   }
  },
  {
   "cell_type": "markdown",
   "source": [
    "# Fit Model"
   ],
   "metadata": {
    "collapsed": false,
    "pycharm": {
     "name": "#%% md\n"
    }
   }
  },
  {
   "cell_type": "code",
   "execution_count": 13,
   "outputs": [
    {
     "name": "stdout",
     "output_type": "stream",
     "text": [
      "Intercept: [-1.74550876]\n",
      "Coefficients: [[ 4.02571026e+00  4.56565827e+00  4.67340077e+00  6.70330504e-01\n",
      "  -1.55900809e-01  3.78029168e+00  4.76827609e-02 -8.15409266e-02\n",
      "   1.14052156e-01 -6.07529214e-02  1.71082992e-02  1.70485264e-02\n",
      "  -7.64992612e-02  7.86056642e-02  2.82008740e-02 -9.08915255e-02\n",
      "  -1.40692169e-01 -4.58133022e-02  7.84013322e-02  0.00000000e+00\n",
      "   0.00000000e+00 -6.08577970e+00 -5.89413591e+00 -8.48589660e+00\n",
      "   2.99530328e+00  1.20084862e-01  4.72839720e+00  3.99479851e+00\n",
      "  -4.20654796e+00 -1.26354040e+00 -9.05387757e-02 -7.99026145e-03\n",
      "  -2.47011064e-02  0.00000000e+00  6.09783321e-03 -2.77100912e-03\n",
      "   4.44940845e-03 -7.23080451e-02 -4.25977695e-02 -4.08298005e-02\n",
      "   1.10013208e-01  8.55198212e-02 -3.53707247e-02  2.67227103e-03\n",
      "   1.05382278e-01 -8.97330162e-02 -5.18832247e-02 -1.03566429e-03\n",
      "   1.97907350e-01 -5.11560858e-02 -4.24407534e-02  7.55607419e-02\n",
      "  -2.30758312e-02 -3.69661022e-04 -1.07451476e-01  6.42508631e-02\n",
      "   2.58243993e-02 -1.30993314e-02  3.97426632e-02  8.26746521e-02\n",
      "   8.37687342e-03 -5.95628854e-02 -3.98192601e-02 -4.17001815e-02\n",
      "  -5.34063024e-02 -1.49339481e-02 -5.99680595e-02  1.00619841e-01\n",
      "   3.62565800e-03 -1.62362434e-01  1.37078305e-01  5.03355000e-02\n",
      "   2.08130528e-01 -1.35998487e-01 -1.69372335e-01 -7.45847849e-03\n",
      "  -1.17682833e-02  6.09554279e-03  2.44899167e-02 -8.01545645e-03\n",
      "  -1.32071272e-02 -6.61279218e-02  5.01682753e-02  7.07982965e-02\n",
      "   4.10964632e-02  6.80865708e-02  2.90831130e-02 -2.15539013e-01\n",
      "  -2.35082931e-02 -2.61526870e-02 -1.78452198e-02  1.59823048e-03\n",
      "   2.77607843e-02 -1.66376856e-03  7.72228284e-02  2.47766362e-02\n",
      "   2.49823665e-02 -2.11227478e-02  9.66733807e-01]]\n",
      "CPU times: user 5min 36s, sys: 2.34 s, total: 5min 39s\n",
      "Wall time: 5min 47s\n"
     ]
    }
   ],
   "source": [
    "%%time\n",
    "lr = LogisticRegression(fit_intercept=True, max_iter=10000, solver=\"saga\")\n",
    "lr.fit(X_train_scaled, y_train)\n",
    "\n",
    "# Print coefficients and intercept\n",
    "print(f\"Intercept: {lr.intercept_}\")\n",
    "print(f\"Coefficients: {lr.coef_}\")"
   ],
   "metadata": {
    "collapsed": false,
    "pycharm": {
     "name": "#%%\n"
    }
   }
  },
  {
   "cell_type": "markdown",
   "source": [
    "## Test Model"
   ],
   "metadata": {
    "collapsed": false,
    "pycharm": {
     "name": "#%% md\n"
    }
   }
  },
  {
   "cell_type": "code",
   "execution_count": 14,
   "outputs": [
    {
     "data": {
      "text/plain": "<Figure size 504x360 with 2 Axes>",
      "image/png": "[encoded data removed]"
     },
     "metadata": {},
     "output_type": "display_data"
    },
    {
     "name": "stdout",
     "output_type": "stream",
     "text": [
      "________________________________________________________________________________\n",
      "              precision    recall  f1-score   support\n",
      "\n",
      "         0.0       1.00      1.00      1.00     32236\n",
      "         1.0       1.00      0.98      0.99      8124\n",
      "\n",
      "    accuracy                           1.00     40360\n",
      "   macro avg       1.00      0.99      0.99     40360\n",
      "weighted avg       1.00      1.00      1.00     40360\n",
      "\n",
      "Information:\n",
      "Precision: Percentage of correct positive predictions relative to total positive predictions\n",
      "Recall: Percentage of correct positive predictions relative to total actual positives.\n",
      "F1 Score: A weighted harmonic mean of precision and recall. The closer to 1, the better the model.\n",
      "________________________________________________________________________________\n"
     ]
    }
   ],
   "source": [
    "# Scale Test Samples\n",
    "X_test_scaled = scaler.transform(X_test)\n",
    "\n",
    "# Predict in-sample values\n",
    "y_pred = lr.predict(X_test_scaled)\n",
    "\n",
    "# Plot Confusion matrics\n",
    "cm = confusion_matrix(y_true=y_test, y_pred=y_pred)\n",
    "\n",
    "# Heatmap plot settings\n",
    "plt.figure(figsize=(7,5))\n",
    "plt.title(\"Confusion matrix\")\n",
    "sns.heatmap(cm, annot=True, fmt='d')\n",
    "plt.xlabel(\"Predicted\")\n",
    "plt.ylabel(\"Actual\")\n",
    "plt.show()\n",
    "\n",
    "# Plot classification report\n",
    "print(80 * \"_\")\n",
    "print(classification_report(y_true=y_test, y_pred=y_pred))\n",
    "print(\"Information:\")\n",
    "print(\"Precision: Percentage of correct positive predictions relative to total positive predictions\")\n",
    "print(\"Recall: Percentage of correct positive predictions relative to total actual positives.\")\n",
    "print(\"F1 Score: A weighted harmonic mean of precision and recall. The closer to 1, the better the model.\")\n",
    "print(80 * \"_\")"
   ],
   "metadata": {
    "collapsed": false,
    "pycharm": {
     "name": "#%%\n"
    }
   }
  },
  {
   "cell_type": "code",
   "execution_count": 15,
   "outputs": [
    {
     "data": {
      "text/plain": "   P(y=0|x)  P(y=1|x)  y_pred  y_actual\n0   0.99235   0.00765     0.0       0.0\n1   0.00000   1.00000     1.0       1.0\n2   1.00000   0.00000     0.0       0.0\n3   0.99271   0.00729     0.0       0.0\n4   0.99529   0.00471     0.0       0.0\n5   0.00000   1.00000     1.0       1.0\n6   0.99993   0.00007     0.0       0.0\n7   0.92195   0.07805     0.0       0.0\n8   0.99995   0.00005     0.0       0.0\n9   0.00000   1.00000     1.0       1.0",
      "text/html": "<div>\n<style scoped>\n    .dataframe tbody tr th:only-of-type {\n        vertical-align: middle;\n    }\n\n    .dataframe tbody tr th {\n        vertical-align: top;\n    }\n\n    .dataframe thead th {\n        text-align: right;\n    }\n</style>\n<table border=\"1\" class=\"dataframe\">\n  <thead>\n    <tr style=\"text-align: right;\">\n      <th></th>\n      <th>P(y=0|x)</th>\n      <th>P(y=1|x)</th>\n      <th>y_pred</th>\n      <th>y_actual</th>\n    </tr>\n  </thead>\n  <tbody>\n    <tr>\n      <th>0</th>\n      <td>0.99235</td>\n      <td>0.00765</td>\n      <td>0.0</td>\n      <td>0.0</td>\n    </tr>\n    <tr>\n      <th>1</th>\n      <td>0.00000</td>\n      <td>1.00000</td>\n      <td>1.0</td>\n      <td>1.0</td>\n    </tr>\n    <tr>\n      <th>2</th>\n      <td>1.00000</td>\n      <td>0.00000</td>\n      <td>0.0</td>\n      <td>0.0</td>\n    </tr>\n    <tr>\n      <th>3</th>\n      <td>0.99271</td>\n      <td>0.00729</td>\n      <td>0.0</td>\n      <td>0.0</td>\n    </tr>\n    <tr>\n      <th>4</th>\n      <td>0.99529</td>\n      <td>0.00471</td>\n      <td>0.0</td>\n      <td>0.0</td>\n    </tr>\n    <tr>\n      <th>5</th>\n      <td>0.00000</td>\n      <td>1.00000</td>\n      <td>1.0</td>\n      <td>1.0</td>\n    </tr>\n    <tr>\n      <th>6</th>\n      <td>0.99993</td>\n      <td>0.00007</td>\n      <td>0.0</td>\n      <td>0.0</td>\n    </tr>\n    <tr>\n      <th>7</th>\n      <td>0.92195</td>\n      <td>0.07805</td>\n      <td>0.0</td>\n      <td>0.0</td>\n    </tr>\n    <tr>\n      <th>8</th>\n      <td>0.99995</td>\n      <td>0.00005</td>\n      <td>0.0</td>\n      <td>0.0</td>\n    </tr>\n    <tr>\n      <th>9</th>\n      <td>0.00000</td>\n      <td>1.00000</td>\n      <td>1.0</td>\n      <td>1.0</td>\n    </tr>\n  </tbody>\n</table>\n</div>"
     },
     "execution_count": 15,
     "metadata": {},
     "output_type": "execute_result"
    }
   ],
   "source": [
    "# Get Probability Predictions\n",
    "pred_proba = pd.DataFrame(lr.predict_proba(X_test_scaled), columns=[\"P(y=0|x)\", \"P(y=1|x)\"])\n",
    "# Round to 5 decimal places\n",
    "pred_proba = pred_proba.round(5)\n",
    "\n",
    "pred_proba[\"y_pred\"] = y_pred\n",
    "pred_proba[\"y_actual\"] = y_test.values\n",
    "\n",
    "pred_proba.head(10)"
   ],
   "metadata": {
    "collapsed": false,
    "pycharm": {
     "name": "#%%\n"
    }
   }
  }
 ],
 "metadata": {
  "kernelspec": {
   "display_name": "Python 3",
   "language": "python",
   "name": "python3"
  },
  "language_info": {
   "codemirror_mode": {
    "name": "ipython",
    "version": 2
   },
   "file_extension": ".py",
   "mimetype": "text/x-python",
   "name": "python",
   "nbconvert_exporter": "python",
   "pygments_lexer": "ipython2",
   "version": "2.7.6"
  }
 },
 "nbformat": 4,
 "nbformat_minor": 0
}