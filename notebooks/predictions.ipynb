{
 "cells": [
  {
   "cell_type": "code",
   "execution_count": 1,
   "outputs": [],
   "source": [
    "import pandas as pd\n",
    "import numpy as np\n",
    "import matplotlib.pyplot as plt\n",
    "import seaborn as sns\n",
    "# For modeling\n",
    "from sklearn.linear_model import LogisticRegression\n",
    "from sklearn.metrics import confusion_matrix\n",
    "from sklearn.metrics import accuracy_score\n",
    "from sklearn.metrics import classification_report\n",
    "from sklearn.model_selection import train_test_split\n",
    "from sklearn.preprocessing import StandardScaler\n",
    "sns.set_theme(style='whitegrid')\n",
    "pd.options.mode.chained_assignment = None  # Supress warning, default='warn'"
   ],
   "metadata": {
    "collapsed": false,
    "pycharm": {
     "name": "#%%\n"
    }
   }
  },
  {
   "cell_type": "markdown",
   "source": [
    "# Read Data\n",
    "In this section we read the data in after the preprocessing from the preprocessing notebook"
   ],
   "metadata": {
    "collapsed": false,
    "pycharm": {
     "name": "#%% md\n"
    }
   }
  },
  {
   "cell_type": "code",
   "execution_count": 2,
   "outputs": [
    {
     "name": "stdout",
     "output_type": "stream",
     "text": [
      "Shape of df: (1345310, 101)\n"
     ]
    },
    {
     "data": {
      "text/plain": "   loan_amnt  funded_amnt  funded_amnt_inv  term  int_rate  installment grade  \\\n0     3600.0       3600.0           3600.0    36     13.99       123.03     C   \n1    24700.0      24700.0          24700.0    36     11.99       820.28     C   \n2    20000.0      20000.0          20000.0    60     10.78       432.66     B   \n3    10400.0      10400.0          10400.0    60     22.45       289.91     F   \n4    11950.0      11950.0          11950.0    36     13.44       405.18     C   \n\n  sub_grade  emp_length home_ownership  ...  percent_bc_gt_75  \\\n0        C4        10.0       MORTGAGE  ...               0.0   \n1        C1        10.0       MORTGAGE  ...               7.7   \n2        B4        10.0       MORTGAGE  ...              50.0   \n3        F1         3.0       MORTGAGE  ...              60.0   \n4        C3         4.0           RENT  ...             100.0   \n\n  pub_rec_bankruptcies  tax_liens tot_hi_cred_lim total_bal_ex_mort  \\\n0                  0.0        0.0        178050.0            7746.0   \n1                  0.0        0.0        314017.0           39475.0   \n2                  0.0        0.0        218418.0           18696.0   \n3                  0.0        0.0        439570.0           95768.0   \n4                  0.0        0.0         16900.0           12798.0   \n\n  total_bc_limit  total_il_high_credit_limit  hardship_flag  \\\n0         2400.0                     13734.0              N   \n1        79300.0                     24667.0              N   \n2         6200.0                     14877.0              N   \n3        20300.0                     88097.0              N   \n4         9400.0                      4000.0              N   \n\n   disbursement_method  debt_settlement_flag  \n0                 Cash                     N  \n1                 Cash                     N  \n2                 Cash                     N  \n3                 Cash                     N  \n4                 Cash                     N  \n\n[5 rows x 101 columns]",
      "text/html": "<div>\n<style scoped>\n    .dataframe tbody tr th:only-of-type {\n        vertical-align: middle;\n    }\n\n    .dataframe tbody tr th {\n        vertical-align: top;\n    }\n\n    .dataframe thead th {\n        text-align: right;\n    }\n</style>\n<table border=\"1\" class=\"dataframe\">\n  <thead>\n    <tr style=\"text-align: right;\">\n      <th></th>\n      <th>loan_amnt</th>\n      <th>funded_amnt</th>\n      <th>funded_amnt_inv</th>\n      <th>term</th>\n      <th>int_rate</th>\n      <th>installment</th>\n      <th>grade</th>\n      <th>sub_grade</th>\n      <th>emp_length</th>\n      <th>home_ownership</th>\n      <th>...</th>\n      <th>percent_bc_gt_75</th>\n      <th>pub_rec_bankruptcies</th>\n      <th>tax_liens</th>\n      <th>tot_hi_cred_lim</th>\n      <th>total_bal_ex_mort</th>\n      <th>total_bc_limit</th>\n      <th>total_il_high_credit_limit</th>\n      <th>hardship_flag</th>\n      <th>disbursement_method</th>\n      <th>debt_settlement_flag</th>\n    </tr>\n  </thead>\n  <tbody>\n    <tr>\n      <th>0</th>\n      <td>3600.0</td>\n      <td>3600.0</td>\n      <td>3600.0</td>\n      <td>36</td>\n      <td>13.99</td>\n      <td>123.03</td>\n      <td>C</td>\n      <td>C4</td>\n      <td>10.0</td>\n      <td>MORTGAGE</td>\n      <td>...</td>\n      <td>0.0</td>\n      <td>0.0</td>\n      <td>0.0</td>\n      <td>178050.0</td>\n      <td>7746.0</td>\n      <td>2400.0</td>\n      <td>13734.0</td>\n      <td>N</td>\n      <td>Cash</td>\n      <td>N</td>\n    </tr>\n    <tr>\n      <th>1</th>\n      <td>24700.0</td>\n      <td>24700.0</td>\n      <td>24700.0</td>\n      <td>36</td>\n      <td>11.99</td>\n      <td>820.28</td>\n      <td>C</td>\n      <td>C1</td>\n      <td>10.0</td>\n      <td>MORTGAGE</td>\n      <td>...</td>\n      <td>7.7</td>\n      <td>0.0</td>\n      <td>0.0</td>\n      <td>314017.0</td>\n      <td>39475.0</td>\n      <td>79300.0</td>\n      <td>24667.0</td>\n      <td>N</td>\n      <td>Cash</td>\n      <td>N</td>\n    </tr>\n    <tr>\n      <th>2</th>\n      <td>20000.0</td>\n      <td>20000.0</td>\n      <td>20000.0</td>\n      <td>60</td>\n      <td>10.78</td>\n      <td>432.66</td>\n      <td>B</td>\n      <td>B4</td>\n      <td>10.0</td>\n      <td>MORTGAGE</td>\n      <td>...</td>\n      <td>50.0</td>\n      <td>0.0</td>\n      <td>0.0</td>\n      <td>218418.0</td>\n      <td>18696.0</td>\n      <td>6200.0</td>\n      <td>14877.0</td>\n      <td>N</td>\n      <td>Cash</td>\n      <td>N</td>\n    </tr>\n    <tr>\n      <th>3</th>\n      <td>10400.0</td>\n      <td>10400.0</td>\n      <td>10400.0</td>\n      <td>60</td>\n      <td>22.45</td>\n      <td>289.91</td>\n      <td>F</td>\n      <td>F1</td>\n      <td>3.0</td>\n      <td>MORTGAGE</td>\n      <td>...</td>\n      <td>60.0</td>\n      <td>0.0</td>\n      <td>0.0</td>\n      <td>439570.0</td>\n      <td>95768.0</td>\n      <td>20300.0</td>\n      <td>88097.0</td>\n      <td>N</td>\n      <td>Cash</td>\n      <td>N</td>\n    </tr>\n    <tr>\n      <th>4</th>\n      <td>11950.0</td>\n      <td>11950.0</td>\n      <td>11950.0</td>\n      <td>36</td>\n      <td>13.44</td>\n      <td>405.18</td>\n      <td>C</td>\n      <td>C3</td>\n      <td>4.0</td>\n      <td>RENT</td>\n      <td>...</td>\n      <td>100.0</td>\n      <td>0.0</td>\n      <td>0.0</td>\n      <td>16900.0</td>\n      <td>12798.0</td>\n      <td>9400.0</td>\n      <td>4000.0</td>\n      <td>N</td>\n      <td>Cash</td>\n      <td>N</td>\n    </tr>\n  </tbody>\n</table>\n<p>5 rows × 101 columns</p>\n</div>"
     },
     "execution_count": 2,
     "metadata": {},
     "output_type": "execute_result"
    }
   ],
   "source": [
    "df = pd.read_csv('../data/preprocessed/accepted_2007_to_2018Q4_preprocessed.csv')\n",
    "print(f\"Shape of df: {df.shape}\")\n",
    "df.head(5)"
   ],
   "metadata": {
    "collapsed": false,
    "pycharm": {
     "name": "#%%\n"
    }
   }
  },
  {
   "cell_type": "code",
   "execution_count": 3,
   "outputs": [
    {
     "data": {
      "text/plain": "loan_amnt                     float64\nfunded_amnt                   float64\nfunded_amnt_inv               float64\nterm                            int64\nint_rate                      float64\n                               ...   \ntotal_bc_limit                float64\ntotal_il_high_credit_limit    float64\nhardship_flag                  object\ndisbursement_method            object\ndebt_settlement_flag           object\nLength: 101, dtype: object"
     },
     "execution_count": 3,
     "metadata": {},
     "output_type": "execute_result"
    }
   ],
   "source": [
    "df.dtypes"
   ],
   "metadata": {
    "collapsed": false,
    "pycharm": {
     "name": "#%%\n"
    }
   }
  },
  {
   "cell_type": "markdown",
   "source": [
    "## Take Sample to Work with\n",
    "TODO: Delete this later and run notebook on full data"
   ],
   "metadata": {
    "collapsed": false,
    "pycharm": {
     "name": "#%% md\n"
    }
   }
  },
  {
   "cell_type": "code",
   "execution_count": 4,
   "outputs": [
    {
     "name": "stdout",
     "output_type": "stream",
     "text": [
      "(134531, 101)\n"
     ]
    }
   ],
   "source": [
    "# Take only fraction of the data\n",
    "df = df.sample(frac = 0.10)\n",
    "print(df.shape)"
   ],
   "metadata": {
    "collapsed": false,
    "pycharm": {
     "name": "#%%\n"
    }
   }
  },
  {
   "cell_type": "markdown",
   "source": [
    "# Encode Categorical / Nominal Columns to numeric with OHE\n",
    "Many Machine Learning algorithm need a numeric encoding of categorical data. In this section we remove features that are categorical and have too many expressions. For the remaining ones we encode them using a One Hot Encoder and the pandas dummy encoding method."
   ],
   "metadata": {
    "collapsed": false,
    "pycharm": {
     "name": "#%% md\n"
    }
   }
  },
  {
   "cell_type": "code",
   "execution_count": 5,
   "outputs": [
    {
     "data": {
      "text/plain": "grade                   object\nsub_grade               object\nhome_ownership          object\nverification_status     object\npymnt_plan              object\npurpose                 object\naddr_state              object\ninitial_list_status     object\napplication_type        object\nhardship_flag           object\ndisbursement_method     object\ndebt_settlement_flag    object\ndtype: object"
     },
     "execution_count": 5,
     "metadata": {},
     "output_type": "execute_result"
    }
   ],
   "source": [
    "# Preview categorical data\n",
    "df.dtypes[df.dtypes == \"object\"]"
   ],
   "metadata": {
    "collapsed": false,
    "pycharm": {
     "name": "#%%\n"
    }
   }
  },
  {
   "cell_type": "code",
   "execution_count": 6,
   "outputs": [
    {
     "data": {
      "text/plain": "home_ownership          object\nverification_status     object\npymnt_plan              object\ninitial_list_status     object\napplication_type        object\nhardship_flag           object\ndisbursement_method     object\ndebt_settlement_flag    object\ndtype: object"
     },
     "execution_count": 6,
     "metadata": {},
     "output_type": "execute_result"
    }
   ],
   "source": [
    "# Drop categorical columns that have too many realization for OHE\n",
    "df = df.drop([\"sub_grade\", \"purpose\", \"grade\", \"addr_state\"], axis=1)\n",
    "df.dtypes[df.dtypes == \"object\"]"
   ],
   "metadata": {
    "collapsed": false,
    "pycharm": {
     "name": "#%%\n"
    }
   }
  },
  {
   "cell_type": "markdown",
   "source": [
    "## One Hot Encoder (OHE) of categorical data\n",
    "A categorical feature / variable with $K$ realizations will be one hot encoded into $K-1$ binary columns."
   ],
   "metadata": {
    "collapsed": false,
    "pycharm": {
     "name": "#%% md\n"
    }
   }
  },
  {
   "cell_type": "code",
   "execution_count": 7,
   "outputs": [
    {
     "data": {
      "text/plain": "        loan_amnt  funded_amnt  funded_amnt_inv  term  int_rate  installment  \\\n867434    35000.0      35000.0          35000.0    36     13.65      1190.28   \n759833     6100.0       6100.0           6100.0    36      8.39       192.26   \n401447    14400.0      14400.0          14400.0    36     13.59       489.30   \n423338    18000.0      18000.0          18000.0    36     11.99       597.78   \n529944    11000.0      11000.0          11000.0    36     12.62       368.63   \n658620    30000.0      30000.0          29750.0    36      6.99       926.18   \n532474    10150.0      10150.0          10150.0    36     14.08       347.30   \n55053      7700.0       7700.0           7625.0    36     14.33       264.41   \n340063     9600.0       9600.0           9600.0    36      9.49       307.48   \n346717    14400.0      14400.0          14400.0    36      9.49       461.21   \n\n        emp_length  annual_inc  loan_status    dti  ...  home_ownership_NONE  \\\n867434         2.0    320000.0            0   3.94  ...                    0   \n759833         0.0     93500.0            0  13.50  ...                    0   \n401447         NaN     71500.0            1   8.63  ...                    0   \n423338        10.0     60000.0            0  23.30  ...                    0   \n529944         3.0    100000.0            0  15.18  ...                    0   \n658620        10.0     66600.0            0  12.25  ...                    0   \n532474         NaN     55100.0            0  25.55  ...                    0   \n55053         10.0     70000.0            1  10.56  ...                    0   \n340063        10.0     72000.0            0  14.65  ...                    0   \n346717        10.0    150000.0            0  18.83  ...                    0   \n\n        home_ownership_OTHER  home_ownership_OWN  home_ownership_RENT  \\\n867434                     0                   0                    0   \n759833                     0                   0                    1   \n401447                     0                   0                    1   \n423338                     0                   0                    0   \n529944                     0                   0                    1   \n658620                     0                   0                    1   \n532474                     0                   0                    1   \n55053                      0                   0                    0   \n340063                     0                   0                    0   \n346717                     0                   0                    0   \n\n        verification_status_Source Verified  verification_status_Verified  \\\n867434                                    0                             1   \n759833                                    1                             0   \n401447                                    0                             1   \n423338                                    0                             0   \n529944                                    0                             1   \n658620                                    1                             0   \n532474                                    0                             1   \n55053                                     1                             0   \n340063                                    0                             0   \n346717                                    0                             0   \n\n        initial_list_status_w  application_type_Joint App  \\\n867434                      0                           0   \n759833                      1                           0   \n401447                      1                           0   \n423338                      1                           0   \n529944                      1                           0   \n658620                      1                           0   \n532474                      0                           0   \n55053                       0                           0   \n340063                      0                           0   \n346717                      1                           0   \n\n        disbursement_method_DirectPay  debt_settlement_flag_Y  \n867434                              0                       0  \n759833                              0                       0  \n401447                              0                       0  \n423338                              0                       0  \n529944                              0                       0  \n658620                              0                       0  \n532474                              0                       0  \n55053                               0                       0  \n340063                              0                       0  \n346717                              0                       0  \n\n[10 rows x 100 columns]",
      "text/html": "<div>\n<style scoped>\n    .dataframe tbody tr th:only-of-type {\n        vertical-align: middle;\n    }\n\n    .dataframe tbody tr th {\n        vertical-align: top;\n    }\n\n    .dataframe thead th {\n        text-align: right;\n    }\n</style>\n<table border=\"1\" class=\"dataframe\">\n  <thead>\n    <tr style=\"text-align: right;\">\n      <th></th>\n      <th>loan_amnt</th>\n      <th>funded_amnt</th>\n      <th>funded_amnt_inv</th>\n      <th>term</th>\n      <th>int_rate</th>\n      <th>installment</th>\n      <th>emp_length</th>\n      <th>annual_inc</th>\n      <th>loan_status</th>\n      <th>dti</th>\n      <th>...</th>\n      <th>home_ownership_NONE</th>\n      <th>home_ownership_OTHER</th>\n      <th>home_ownership_OWN</th>\n      <th>home_ownership_RENT</th>\n      <th>verification_status_Source Verified</th>\n      <th>verification_status_Verified</th>\n      <th>initial_list_status_w</th>\n      <th>application_type_Joint App</th>\n      <th>disbursement_method_DirectPay</th>\n      <th>debt_settlement_flag_Y</th>\n    </tr>\n  </thead>\n  <tbody>\n    <tr>\n      <th>867434</th>\n      <td>35000.0</td>\n      <td>35000.0</td>\n      <td>35000.0</td>\n      <td>36</td>\n      <td>13.65</td>\n      <td>1190.28</td>\n      <td>2.0</td>\n      <td>320000.0</td>\n      <td>0</td>\n      <td>3.94</td>\n      <td>...</td>\n      <td>0</td>\n      <td>0</td>\n      <td>0</td>\n      <td>0</td>\n      <td>0</td>\n      <td>1</td>\n      <td>0</td>\n      <td>0</td>\n      <td>0</td>\n      <td>0</td>\n    </tr>\n    <tr>\n      <th>759833</th>\n      <td>6100.0</td>\n      <td>6100.0</td>\n      <td>6100.0</td>\n      <td>36</td>\n      <td>8.39</td>\n      <td>192.26</td>\n      <td>0.0</td>\n      <td>93500.0</td>\n      <td>0</td>\n      <td>13.50</td>\n      <td>...</td>\n      <td>0</td>\n      <td>0</td>\n      <td>0</td>\n      <td>1</td>\n      <td>1</td>\n      <td>0</td>\n      <td>1</td>\n      <td>0</td>\n      <td>0</td>\n      <td>0</td>\n    </tr>\n    <tr>\n      <th>401447</th>\n      <td>14400.0</td>\n      <td>14400.0</td>\n      <td>14400.0</td>\n      <td>36</td>\n      <td>13.59</td>\n      <td>489.30</td>\n      <td>NaN</td>\n      <td>71500.0</td>\n      <td>1</td>\n      <td>8.63</td>\n      <td>...</td>\n      <td>0</td>\n      <td>0</td>\n      <td>0</td>\n      <td>1</td>\n      <td>0</td>\n      <td>1</td>\n      <td>1</td>\n      <td>0</td>\n      <td>0</td>\n      <td>0</td>\n    </tr>\n    <tr>\n      <th>423338</th>\n      <td>18000.0</td>\n      <td>18000.0</td>\n      <td>18000.0</td>\n      <td>36</td>\n      <td>11.99</td>\n      <td>597.78</td>\n      <td>10.0</td>\n      <td>60000.0</td>\n      <td>0</td>\n      <td>23.30</td>\n      <td>...</td>\n      <td>0</td>\n      <td>0</td>\n      <td>0</td>\n      <td>0</td>\n      <td>0</td>\n      <td>0</td>\n      <td>1</td>\n      <td>0</td>\n      <td>0</td>\n      <td>0</td>\n    </tr>\n    <tr>\n      <th>529944</th>\n      <td>11000.0</td>\n      <td>11000.0</td>\n      <td>11000.0</td>\n      <td>36</td>\n      <td>12.62</td>\n      <td>368.63</td>\n      <td>3.0</td>\n      <td>100000.0</td>\n      <td>0</td>\n      <td>15.18</td>\n      <td>...</td>\n      <td>0</td>\n      <td>0</td>\n      <td>0</td>\n      <td>1</td>\n      <td>0</td>\n      <td>1</td>\n      <td>1</td>\n      <td>0</td>\n      <td>0</td>\n      <td>0</td>\n    </tr>\n    <tr>\n      <th>658620</th>\n      <td>30000.0</td>\n      <td>30000.0</td>\n      <td>29750.0</td>\n      <td>36</td>\n      <td>6.99</td>\n      <td>926.18</td>\n      <td>10.0</td>\n      <td>66600.0</td>\n      <td>0</td>\n      <td>12.25</td>\n      <td>...</td>\n      <td>0</td>\n      <td>0</td>\n      <td>0</td>\n      <td>1</td>\n      <td>1</td>\n      <td>0</td>\n      <td>1</td>\n      <td>0</td>\n      <td>0</td>\n      <td>0</td>\n    </tr>\n    <tr>\n      <th>532474</th>\n      <td>10150.0</td>\n      <td>10150.0</td>\n      <td>10150.0</td>\n      <td>36</td>\n      <td>14.08</td>\n      <td>347.30</td>\n      <td>NaN</td>\n      <td>55100.0</td>\n      <td>0</td>\n      <td>25.55</td>\n      <td>...</td>\n      <td>0</td>\n      <td>0</td>\n      <td>0</td>\n      <td>1</td>\n      <td>0</td>\n      <td>1</td>\n      <td>0</td>\n      <td>0</td>\n      <td>0</td>\n      <td>0</td>\n    </tr>\n    <tr>\n      <th>55053</th>\n      <td>7700.0</td>\n      <td>7700.0</td>\n      <td>7625.0</td>\n      <td>36</td>\n      <td>14.33</td>\n      <td>264.41</td>\n      <td>10.0</td>\n      <td>70000.0</td>\n      <td>1</td>\n      <td>10.56</td>\n      <td>...</td>\n      <td>0</td>\n      <td>0</td>\n      <td>0</td>\n      <td>0</td>\n      <td>1</td>\n      <td>0</td>\n      <td>0</td>\n      <td>0</td>\n      <td>0</td>\n      <td>0</td>\n    </tr>\n    <tr>\n      <th>340063</th>\n      <td>9600.0</td>\n      <td>9600.0</td>\n      <td>9600.0</td>\n      <td>36</td>\n      <td>9.49</td>\n      <td>307.48</td>\n      <td>10.0</td>\n      <td>72000.0</td>\n      <td>0</td>\n      <td>14.65</td>\n      <td>...</td>\n      <td>0</td>\n      <td>0</td>\n      <td>0</td>\n      <td>0</td>\n      <td>0</td>\n      <td>0</td>\n      <td>0</td>\n      <td>0</td>\n      <td>0</td>\n      <td>0</td>\n    </tr>\n    <tr>\n      <th>346717</th>\n      <td>14400.0</td>\n      <td>14400.0</td>\n      <td>14400.0</td>\n      <td>36</td>\n      <td>9.49</td>\n      <td>461.21</td>\n      <td>10.0</td>\n      <td>150000.0</td>\n      <td>0</td>\n      <td>18.83</td>\n      <td>...</td>\n      <td>0</td>\n      <td>0</td>\n      <td>0</td>\n      <td>0</td>\n      <td>0</td>\n      <td>0</td>\n      <td>1</td>\n      <td>0</td>\n      <td>0</td>\n      <td>0</td>\n    </tr>\n  </tbody>\n</table>\n<p>10 rows × 100 columns</p>\n</div>"
     },
     "execution_count": 7,
     "metadata": {},
     "output_type": "execute_result"
    }
   ],
   "source": [
    "# Get categorical columns names\n",
    "categorical_columns = list(df.dtypes[df.dtypes == \"object\"].keys())\n",
    "# Transform those categorical columns using One Hot Encoding\n",
    "df = pd.get_dummies(data=df, columns=categorical_columns, drop_first=True)\n",
    "# Preview\n",
    "df.head(10)"
   ],
   "metadata": {
    "collapsed": false,
    "pycharm": {
     "name": "#%%\n"
    }
   }
  },
  {
   "cell_type": "code",
   "execution_count": 8,
   "outputs": [
    {
     "data": {
      "text/plain": "float64    87\nuint8      11\nint64       2\ndtype: int64"
     },
     "execution_count": 8,
     "metadata": {},
     "output_type": "execute_result"
    }
   ],
   "source": [
    "# Show types of columns and counter\n",
    "df.dtypes.value_counts()"
   ],
   "metadata": {
    "collapsed": false,
    "pycharm": {
     "name": "#%%\n"
    }
   }
  },
  {
   "cell_type": "code",
   "execution_count": 9,
   "outputs": [
    {
     "data": {
      "text/plain": "float64    100\ndtype: int64"
     },
     "execution_count": 9,
     "metadata": {},
     "output_type": "execute_result"
    }
   ],
   "source": [
    "# Convert all values to float\n",
    "df = df.astype(float)\n",
    "# Preview\n",
    "df.dtypes.value_counts()"
   ],
   "metadata": {
    "collapsed": false,
    "pycharm": {
     "name": "#%%\n"
    }
   }
  },
  {
   "cell_type": "markdown",
   "source": [
    "# Preprocessing\n",
    "We still have a few remaing NaNs value. We fill them using the corresponding median of each feature / column."
   ],
   "metadata": {
    "collapsed": false,
    "pycharm": {
     "name": "#%% md\n"
    }
   }
  },
  {
   "cell_type": "code",
   "execution_count": 10,
   "outputs": [
    {
     "data": {
      "text/plain": "        loan_amnt  funded_amnt  funded_amnt_inv  term  int_rate  installment  \\\n867434    35000.0      35000.0          35000.0  36.0     13.65      1190.28   \n759833     6100.0       6100.0           6100.0  36.0      8.39       192.26   \n401447    14400.0      14400.0          14400.0  36.0     13.59       489.30   \n423338    18000.0      18000.0          18000.0  36.0     11.99       597.78   \n529944    11000.0      11000.0          11000.0  36.0     12.62       368.63   \n\n        emp_length  annual_inc  loan_status    dti  ...  home_ownership_NONE  \\\n867434         2.0    320000.0          0.0   3.94  ...                  0.0   \n759833         0.0     93500.0          0.0  13.50  ...                  0.0   \n401447         6.0     71500.0          1.0   8.63  ...                  0.0   \n423338        10.0     60000.0          0.0  23.30  ...                  0.0   \n529944         3.0    100000.0          0.0  15.18  ...                  0.0   \n\n        home_ownership_OTHER  home_ownership_OWN  home_ownership_RENT  \\\n867434                   0.0                 0.0                  0.0   \n759833                   0.0                 0.0                  1.0   \n401447                   0.0                 0.0                  1.0   \n423338                   0.0                 0.0                  0.0   \n529944                   0.0                 0.0                  1.0   \n\n        verification_status_Source Verified  verification_status_Verified  \\\n867434                                  0.0                           1.0   \n759833                                  1.0                           0.0   \n401447                                  0.0                           1.0   \n423338                                  0.0                           0.0   \n529944                                  0.0                           1.0   \n\n        initial_list_status_w  application_type_Joint App  \\\n867434                    0.0                         0.0   \n759833                    1.0                         0.0   \n401447                    1.0                         0.0   \n423338                    1.0                         0.0   \n529944                    1.0                         0.0   \n\n        disbursement_method_DirectPay  debt_settlement_flag_Y  \n867434                            0.0                     0.0  \n759833                            0.0                     0.0  \n401447                            0.0                     0.0  \n423338                            0.0                     0.0  \n529944                            0.0                     0.0  \n\n[5 rows x 100 columns]",
      "text/html": "<div>\n<style scoped>\n    .dataframe tbody tr th:only-of-type {\n        vertical-align: middle;\n    }\n\n    .dataframe tbody tr th {\n        vertical-align: top;\n    }\n\n    .dataframe thead th {\n        text-align: right;\n    }\n</style>\n<table border=\"1\" class=\"dataframe\">\n  <thead>\n    <tr style=\"text-align: right;\">\n      <th></th>\n      <th>loan_amnt</th>\n      <th>funded_amnt</th>\n      <th>funded_amnt_inv</th>\n      <th>term</th>\n      <th>int_rate</th>\n      <th>installment</th>\n      <th>emp_length</th>\n      <th>annual_inc</th>\n      <th>loan_status</th>\n      <th>dti</th>\n      <th>...</th>\n      <th>home_ownership_NONE</th>\n      <th>home_ownership_OTHER</th>\n      <th>home_ownership_OWN</th>\n      <th>home_ownership_RENT</th>\n      <th>verification_status_Source Verified</th>\n      <th>verification_status_Verified</th>\n      <th>initial_list_status_w</th>\n      <th>application_type_Joint App</th>\n      <th>disbursement_method_DirectPay</th>\n      <th>debt_settlement_flag_Y</th>\n    </tr>\n  </thead>\n  <tbody>\n    <tr>\n      <th>867434</th>\n      <td>35000.0</td>\n      <td>35000.0</td>\n      <td>35000.0</td>\n      <td>36.0</td>\n      <td>13.65</td>\n      <td>1190.28</td>\n      <td>2.0</td>\n      <td>320000.0</td>\n      <td>0.0</td>\n      <td>3.94</td>\n      <td>...</td>\n      <td>0.0</td>\n      <td>0.0</td>\n      <td>0.0</td>\n      <td>0.0</td>\n      <td>0.0</td>\n      <td>1.0</td>\n      <td>0.0</td>\n      <td>0.0</td>\n      <td>0.0</td>\n      <td>0.0</td>\n    </tr>\n    <tr>\n      <th>759833</th>\n      <td>6100.0</td>\n      <td>6100.0</td>\n      <td>6100.0</td>\n      <td>36.0</td>\n      <td>8.39</td>\n      <td>192.26</td>\n      <td>0.0</td>\n      <td>93500.0</td>\n      <td>0.0</td>\n      <td>13.50</td>\n      <td>...</td>\n      <td>0.0</td>\n      <td>0.0</td>\n      <td>0.0</td>\n      <td>1.0</td>\n      <td>1.0</td>\n      <td>0.0</td>\n      <td>1.0</td>\n      <td>0.0</td>\n      <td>0.0</td>\n      <td>0.0</td>\n    </tr>\n    <tr>\n      <th>401447</th>\n      <td>14400.0</td>\n      <td>14400.0</td>\n      <td>14400.0</td>\n      <td>36.0</td>\n      <td>13.59</td>\n      <td>489.30</td>\n      <td>6.0</td>\n      <td>71500.0</td>\n      <td>1.0</td>\n      <td>8.63</td>\n      <td>...</td>\n      <td>0.0</td>\n      <td>0.0</td>\n      <td>0.0</td>\n      <td>1.0</td>\n      <td>0.0</td>\n      <td>1.0</td>\n      <td>1.0</td>\n      <td>0.0</td>\n      <td>0.0</td>\n      <td>0.0</td>\n    </tr>\n    <tr>\n      <th>423338</th>\n      <td>18000.0</td>\n      <td>18000.0</td>\n      <td>18000.0</td>\n      <td>36.0</td>\n      <td>11.99</td>\n      <td>597.78</td>\n      <td>10.0</td>\n      <td>60000.0</td>\n      <td>0.0</td>\n      <td>23.30</td>\n      <td>...</td>\n      <td>0.0</td>\n      <td>0.0</td>\n      <td>0.0</td>\n      <td>0.0</td>\n      <td>0.0</td>\n      <td>0.0</td>\n      <td>1.0</td>\n      <td>0.0</td>\n      <td>0.0</td>\n      <td>0.0</td>\n    </tr>\n    <tr>\n      <th>529944</th>\n      <td>11000.0</td>\n      <td>11000.0</td>\n      <td>11000.0</td>\n      <td>36.0</td>\n      <td>12.62</td>\n      <td>368.63</td>\n      <td>3.0</td>\n      <td>100000.0</td>\n      <td>0.0</td>\n      <td>15.18</td>\n      <td>...</td>\n      <td>0.0</td>\n      <td>0.0</td>\n      <td>0.0</td>\n      <td>1.0</td>\n      <td>0.0</td>\n      <td>1.0</td>\n      <td>1.0</td>\n      <td>0.0</td>\n      <td>0.0</td>\n      <td>0.0</td>\n    </tr>\n  </tbody>\n</table>\n<p>5 rows × 100 columns</p>\n</div>"
     },
     "execution_count": 10,
     "metadata": {},
     "output_type": "execute_result"
    }
   ],
   "source": [
    "# Fill NaNs with Median\n",
    "df = df.fillna(df.median())\n",
    "# Preview\n",
    "df.head(5)"
   ],
   "metadata": {
    "collapsed": false,
    "pycharm": {
     "name": "#%%\n"
    }
   }
  },
  {
   "cell_type": "markdown",
   "source": [
    "# Remove Highly Correlated Features\n",
    "Keeping highly correlated features do not add much more information to our model but making it more complex. Thus we remove highly correlated features that exceed a certain threshold."
   ],
   "metadata": {
    "collapsed": false,
    "pycharm": {
     "name": "#%% md\n"
    }
   }
  },
  {
   "cell_type": "code",
   "execution_count": 11,
   "outputs": [
    {
     "data": {
      "text/plain": "last_fico_range_high   -0.667289\nlast_fico_range_low    -0.576656\ntotal_rec_prncp        -0.435683\nlast_pymnt_amnt        -0.346609\ntotal_pymnt            -0.311751\n                          ...   \nrecoveries              0.509232\nloan_status             1.000000\nout_prncp                    NaN\nout_prncp_inv                NaN\npolicy_code                  NaN\nName: loan_status, Length: 100, dtype: float64"
     },
     "execution_count": 11,
     "metadata": {},
     "output_type": "execute_result"
    }
   ],
   "source": [
    "corr = df.corr()\n",
    "corr[\"loan_status\"].sort_values()"
   ],
   "metadata": {
    "collapsed": false,
    "pycharm": {
     "name": "#%%\n"
    }
   }
  },
  {
   "cell_type": "markdown",
   "source": [
    "## Data Split\n",
    "In this section we split the data into a training and test set. The corresponding model is then trained on the training set and tested on the test set."
   ],
   "metadata": {
    "collapsed": false,
    "pycharm": {
     "name": "#%% md\n"
    }
   }
  },
  {
   "cell_type": "code",
   "execution_count": 12,
   "outputs": [
    {
     "name": "stdout",
     "output_type": "stream",
     "text": [
      "Shape of X_train: (94171, 99)\n",
      "Shape of X_test: (40360, 99)\n",
      "Shape of y_train: (94171,)\n",
      "Shape of y_test: (40360,)\n"
     ]
    }
   ],
   "source": [
    "# Fraction of test data\n",
    "TEST_SIZE = 0.3\n",
    "\n",
    "X = df.drop(\"loan_status\", axis=1)\n",
    "y = df[\"loan_status\"]\n",
    "\n",
    "# Split data into train and test data\n",
    "X_train, X_test, y_train, y_test = train_test_split(X, y, test_size=TEST_SIZE, random_state=42, stratify=y)\n",
    "\n",
    "print(f\"Shape of X_train: {X_train.shape}\")\n",
    "print(f\"Shape of X_test: {X_test.shape}\")\n",
    "print(f\"Shape of y_train: {y_train.shape}\")\n",
    "print(f\"Shape of y_test: {y_test.shape}\")"
   ],
   "metadata": {
    "collapsed": false,
    "pycharm": {
     "name": "#%%\n"
    }
   }
  },
  {
   "cell_type": "markdown",
   "source": [
    "## Scale Data\n",
    "To avoid bias, we scale each feature using the standard scaler, i.e. from each realization $x_{ij}$ the mean is subtracted divided by the standard deviation of each feature."
   ],
   "metadata": {
    "collapsed": false,
    "pycharm": {
     "name": "#%% md\n"
    }
   }
  },
  {
   "cell_type": "code",
   "execution_count": 13,
   "outputs": [
    {
     "data": {
      "text/plain": "         0         1         2         3         4         5         6   \\\n0  0.183492  0.184738  0.187299 -0.564617 -1.440283  0.199948  1.120904   \n1  0.000283  0.001443  0.004064  1.771112  1.733437 -0.166789 -0.836298   \n2 -0.088458 -0.087341 -0.084690  1.771112  2.258888 -0.173128  0.282103   \n3 -0.732550 -0.731738 -0.728873 -0.564617 -0.235951 -0.653164 -1.115898   \n4 -0.503540 -0.502619 -0.499830 -0.564617 -1.019923 -0.466091 -1.115898   \n\n         7         8         9   ...        89        90        91        92  \\\n0 -0.418802  0.005532 -0.363192  ... -0.006517 -0.010305  2.866861 -0.808439   \n1 -0.178485  0.053726 -0.363192  ... -0.006517 -0.010305 -0.348814 -0.808439   \n2 -0.771267  1.111623 -0.363192  ... -0.006517 -0.010305 -0.348814  1.236952   \n3 -0.819331  0.063997 -0.363192  ... -0.006517 -0.010305 -0.348814  1.236952   \n4 -0.659119 -0.583066  4.234800  ... -0.006517 -0.010305 -0.348814 -0.808439   \n\n         93        94        95        96        97        98  \n0 -0.794039 -0.672927  0.845174 -0.136277 -0.072987 -0.161162  \n1 -0.794039  1.486046  0.845174 -0.136277 -0.072987 -0.161162  \n2 -0.794039  1.486046  0.845174 -0.136277 -0.072987 -0.161162  \n3  1.259385 -0.672927 -1.183188 -0.136277 -0.072987 -0.161162  \n4  1.259385 -0.672927 -1.183188 -0.136277 -0.072987 -0.161162  \n\n[5 rows x 99 columns]",
      "text/html": "<div>\n<style scoped>\n    .dataframe tbody tr th:only-of-type {\n        vertical-align: middle;\n    }\n\n    .dataframe tbody tr th {\n        vertical-align: top;\n    }\n\n    .dataframe thead th {\n        text-align: right;\n    }\n</style>\n<table border=\"1\" class=\"dataframe\">\n  <thead>\n    <tr style=\"text-align: right;\">\n      <th></th>\n      <th>0</th>\n      <th>1</th>\n      <th>2</th>\n      <th>3</th>\n      <th>4</th>\n      <th>5</th>\n      <th>6</th>\n      <th>7</th>\n      <th>8</th>\n      <th>9</th>\n      <th>...</th>\n      <th>89</th>\n      <th>90</th>\n      <th>91</th>\n      <th>92</th>\n      <th>93</th>\n      <th>94</th>\n      <th>95</th>\n      <th>96</th>\n      <th>97</th>\n      <th>98</th>\n    </tr>\n  </thead>\n  <tbody>\n    <tr>\n      <th>0</th>\n      <td>0.183492</td>\n      <td>0.184738</td>\n      <td>0.187299</td>\n      <td>-0.564617</td>\n      <td>-1.440283</td>\n      <td>0.199948</td>\n      <td>1.120904</td>\n      <td>-0.418802</td>\n      <td>0.005532</td>\n      <td>-0.363192</td>\n      <td>...</td>\n      <td>-0.006517</td>\n      <td>-0.010305</td>\n      <td>2.866861</td>\n      <td>-0.808439</td>\n      <td>-0.794039</td>\n      <td>-0.672927</td>\n      <td>0.845174</td>\n      <td>-0.136277</td>\n      <td>-0.072987</td>\n      <td>-0.161162</td>\n    </tr>\n    <tr>\n      <th>1</th>\n      <td>0.000283</td>\n      <td>0.001443</td>\n      <td>0.004064</td>\n      <td>1.771112</td>\n      <td>1.733437</td>\n      <td>-0.166789</td>\n      <td>-0.836298</td>\n      <td>-0.178485</td>\n      <td>0.053726</td>\n      <td>-0.363192</td>\n      <td>...</td>\n      <td>-0.006517</td>\n      <td>-0.010305</td>\n      <td>-0.348814</td>\n      <td>-0.808439</td>\n      <td>-0.794039</td>\n      <td>1.486046</td>\n      <td>0.845174</td>\n      <td>-0.136277</td>\n      <td>-0.072987</td>\n      <td>-0.161162</td>\n    </tr>\n    <tr>\n      <th>2</th>\n      <td>-0.088458</td>\n      <td>-0.087341</td>\n      <td>-0.084690</td>\n      <td>1.771112</td>\n      <td>2.258888</td>\n      <td>-0.173128</td>\n      <td>0.282103</td>\n      <td>-0.771267</td>\n      <td>1.111623</td>\n      <td>-0.363192</td>\n      <td>...</td>\n      <td>-0.006517</td>\n      <td>-0.010305</td>\n      <td>-0.348814</td>\n      <td>1.236952</td>\n      <td>-0.794039</td>\n      <td>1.486046</td>\n      <td>0.845174</td>\n      <td>-0.136277</td>\n      <td>-0.072987</td>\n      <td>-0.161162</td>\n    </tr>\n    <tr>\n      <th>3</th>\n      <td>-0.732550</td>\n      <td>-0.731738</td>\n      <td>-0.728873</td>\n      <td>-0.564617</td>\n      <td>-0.235951</td>\n      <td>-0.653164</td>\n      <td>-1.115898</td>\n      <td>-0.819331</td>\n      <td>0.063997</td>\n      <td>-0.363192</td>\n      <td>...</td>\n      <td>-0.006517</td>\n      <td>-0.010305</td>\n      <td>-0.348814</td>\n      <td>1.236952</td>\n      <td>1.259385</td>\n      <td>-0.672927</td>\n      <td>-1.183188</td>\n      <td>-0.136277</td>\n      <td>-0.072987</td>\n      <td>-0.161162</td>\n    </tr>\n    <tr>\n      <th>4</th>\n      <td>-0.503540</td>\n      <td>-0.502619</td>\n      <td>-0.499830</td>\n      <td>-0.564617</td>\n      <td>-1.019923</td>\n      <td>-0.466091</td>\n      <td>-1.115898</td>\n      <td>-0.659119</td>\n      <td>-0.583066</td>\n      <td>4.234800</td>\n      <td>...</td>\n      <td>-0.006517</td>\n      <td>-0.010305</td>\n      <td>-0.348814</td>\n      <td>-0.808439</td>\n      <td>1.259385</td>\n      <td>-0.672927</td>\n      <td>-1.183188</td>\n      <td>-0.136277</td>\n      <td>-0.072987</td>\n      <td>-0.161162</td>\n    </tr>\n  </tbody>\n</table>\n<p>5 rows × 99 columns</p>\n</div>"
     },
     "execution_count": 13,
     "metadata": {},
     "output_type": "execute_result"
    }
   ],
   "source": [
    "# Init object\n",
    "scaler = StandardScaler()\n",
    "# Scale X_train\n",
    "X_train_scaled = scaler.fit_transform(X_train)\n",
    "X_train_scaled = pd.DataFrame(X_train_scaled)\n",
    "X_train_scaled.head(5)"
   ],
   "metadata": {
    "collapsed": false,
    "pycharm": {
     "name": "#%%\n"
    }
   }
  },
  {
   "cell_type": "markdown",
   "source": [
    "# Fit Model"
   ],
   "metadata": {
    "collapsed": false,
    "pycharm": {
     "name": "#%% md\n"
    }
   }
  },
  {
   "cell_type": "code",
   "execution_count": 14,
   "outputs": [
    {
     "name": "stdout",
     "output_type": "stream",
     "text": [
      "Intercept: [-2.26562142]\n",
      "Coefficients: [[ 3.41926677e+00  4.27135677e+00  4.36219005e+00  6.44290066e-01\n",
      "  -2.23607918e-01  3.61091565e+00 -2.02439422e-02 -1.81522997e-01\n",
      "   3.17476810e-02 -5.96647863e-02  3.83721217e-03  3.81849093e-03\n",
      "  -1.13389813e-02 -3.50757705e-02  2.91028353e-01  3.28977815e-02\n",
      "  -8.67456133e-02 -1.45310470e-01  2.86831866e-02  0.00000000e+00\n",
      "   0.00000000e+00 -5.61250517e+00 -5.41434043e+00 -7.86606913e+00\n",
      "   2.80570143e+00  1.29254100e-01  4.38704559e+00  3.81112192e+00\n",
      "  -4.31431996e+00 -1.40389398e+00 -9.25506050e-02  8.69386357e-04\n",
      "  -3.14638935e-02  0.00000000e+00 -6.84785765e-04  3.52826833e-03\n",
      "   4.31615141e-02 -4.85057898e-02 -4.49780432e-02 -6.94893050e-02\n",
      "   9.58279915e-02  3.39491977e-02  3.15408890e-02 -2.24305544e-02\n",
      "   8.55390020e-02 -2.48444339e-02 -1.45370704e-01  6.48249591e-02\n",
      "   1.35175596e-01 -9.27753542e-02  5.83031745e-02 -3.26942514e-03\n",
      "  -3.81204728e-02 -2.49498400e-02  7.19850321e-03  1.55557843e-02\n",
      "   1.92939773e-02 -2.40006993e-02  3.37304396e-02  1.77923146e-01\n",
      "   1.97319543e-02 -3.14316486e-03  3.16187377e-03  3.64631112e-02\n",
      "  -2.49645527e-02  4.52015284e-02 -1.96969143e-02  2.03275830e-03\n",
      "  -5.84748431e-02 -1.39039034e-01  1.49985333e-01 -2.50244819e-02\n",
      "   1.34308210e-02 -1.06322009e-01  1.06477236e-01 -1.99505825e-01\n",
      "  -1.95528662e-02 -8.52316336e-03  4.70509365e-02  1.00704148e-01\n",
      "   4.70724442e-02  3.13262440e-02 -2.27867577e-02 -1.89932836e-02\n",
      "  -1.50735193e-02 -1.09534147e-01  6.47806131e-02 -1.29450232e-02\n",
      "  -6.09504541e-03  6.37444688e-03 -8.29761713e-02  1.66447487e-02\n",
      "   6.76821119e-04  3.08943862e-02  3.77875718e-02 -3.22631295e-02\n",
      "  -5.63968832e-02 -8.93479773e-03  1.82739068e+00]]\n",
      "CPU times: user 2min, sys: 1.05 s, total: 2min 1s\n",
      "Wall time: 2min 3s\n"
     ]
    },
    {
     "name": "stderr",
     "output_type": "stream",
     "text": [
      "/Library/Frameworks/Python.framework/Versions/3.8/lib/python3.8/site-packages/sklearn/linear_model/_sag.py:350: ConvergenceWarning: The max_iter was reached which means the coef_ did not converge\n",
      "  warnings.warn(\n"
     ]
    }
   ],
   "source": [
    "%%time\n",
    "lr = LogisticRegression(fit_intercept=True, max_iter=1000, solver=\"saga\")\n",
    "lr.fit(X_train_scaled, y_train)\n",
    "\n",
    "# Print coefficients and intercept\n",
    "print(f\"Intercept: {lr.intercept_}\")\n",
    "print(f\"Coefficients: {lr.coef_}\")"
   ],
   "metadata": {
    "collapsed": false,
    "pycharm": {
     "name": "#%%\n"
    }
   }
  },
  {
   "cell_type": "markdown",
   "source": [
    "## Test Model"
   ],
   "metadata": {
    "collapsed": false,
    "pycharm": {
     "name": "#%% md\n"
    }
   }
  },
  {
   "cell_type": "code",
   "execution_count": 15,
   "outputs": [
    {
     "data": {
      "text/plain": "<Figure size 504x360 with 2 Axes>",
      "image/png": "[encoded data removed]"
     },
     "metadata": {},
     "output_type": "display_data"
    },
    {
     "name": "stdout",
     "output_type": "stream",
     "text": [
      "________________________________________________________________________________\n",
      "              precision    recall  f1-score   support\n",
      "\n",
      "         0.0       1.00      1.00      1.00     32319\n",
      "         1.0       1.00      0.98      0.99      8041\n",
      "\n",
      "    accuracy                           1.00     40360\n",
      "   macro avg       1.00      0.99      0.99     40360\n",
      "weighted avg       1.00      1.00      1.00     40360\n",
      "\n",
      "Information:\n",
      "Precision: Percentage of correct positive predictions relative to total positive predictions\n",
      "Recall: Percentage of correct positive predictions relative to total actual positives.\n",
      "F1 Score: A weighted harmonic mean of precision and recall. The closer to 1, the better the model.\n",
      "________________________________________________________________________________\n"
     ]
    }
   ],
   "source": [
    "# Scale Test Samples\n",
    "X_test_scaled = scaler.transform(X_test)\n",
    "\n",
    "# Predict in-sample values\n",
    "y_pred = lr.predict(X_test_scaled)\n",
    "\n",
    "# Plot Confusion matrics\n",
    "cm = confusion_matrix(y_true=y_test, y_pred=y_pred)\n",
    "\n",
    "# Heatmap plot settings\n",
    "plt.figure(figsize=(7,5))\n",
    "plt.title(\"Confusion matrix\")\n",
    "sns.heatmap(cm, annot=True, fmt='d')\n",
    "plt.xlabel(\"Predicted\")\n",
    "plt.ylabel(\"Actual\")\n",
    "plt.show()\n",
    "\n",
    "# Plot classification report\n",
    "print(80 * \"_\")\n",
    "print(classification_report(y_true=y_test, y_pred=y_pred))\n",
    "print(\"Information:\")\n",
    "print(\"Precision: Percentage of correct positive predictions relative to total positive predictions\")\n",
    "print(\"Recall: Percentage of correct positive predictions relative to total actual positives.\")\n",
    "print(\"F1 Score: A weighted harmonic mean of precision and recall. The closer to 1, the better the model.\")\n",
    "print(80 * \"_\")"
   ],
   "metadata": {
    "collapsed": false,
    "pycharm": {
     "name": "#%%\n"
    }
   }
  },
  {
   "cell_type": "code",
   "execution_count": 16,
   "outputs": [
    {
     "data": {
      "text/plain": "   P(y=0|x)  P(y=1|x)  y_pred  y_actual\n0   0.99836   0.00164     0.0       0.0\n1   1.00000   0.00000     0.0       0.0\n2   0.99973   0.00027     0.0       0.0\n3   0.98888   0.01112     0.0       0.0\n4   0.99780   0.00220     0.0       0.0\n5   1.00000   0.00000     0.0       0.0\n6   0.98505   0.01495     0.0       0.0\n7   0.99409   0.00591     0.0       0.0\n8   0.99720   0.00280     0.0       0.0\n9   0.99990   0.00010     0.0       0.0",
      "text/html": "<div>\n<style scoped>\n    .dataframe tbody tr th:only-of-type {\n        vertical-align: middle;\n    }\n\n    .dataframe tbody tr th {\n        vertical-align: top;\n    }\n\n    .dataframe thead th {\n        text-align: right;\n    }\n</style>\n<table border=\"1\" class=\"dataframe\">\n  <thead>\n    <tr style=\"text-align: right;\">\n      <th></th>\n      <th>P(y=0|x)</th>\n      <th>P(y=1|x)</th>\n      <th>y_pred</th>\n      <th>y_actual</th>\n    </tr>\n  </thead>\n  <tbody>\n    <tr>\n      <th>0</th>\n      <td>0.99836</td>\n      <td>0.00164</td>\n      <td>0.0</td>\n      <td>0.0</td>\n    </tr>\n    <tr>\n      <th>1</th>\n      <td>1.00000</td>\n      <td>0.00000</td>\n      <td>0.0</td>\n      <td>0.0</td>\n    </tr>\n    <tr>\n      <th>2</th>\n      <td>0.99973</td>\n      <td>0.00027</td>\n      <td>0.0</td>\n      <td>0.0</td>\n    </tr>\n    <tr>\n      <th>3</th>\n      <td>0.98888</td>\n      <td>0.01112</td>\n      <td>0.0</td>\n      <td>0.0</td>\n    </tr>\n    <tr>\n      <th>4</th>\n      <td>0.99780</td>\n      <td>0.00220</td>\n      <td>0.0</td>\n      <td>0.0</td>\n    </tr>\n    <tr>\n      <th>5</th>\n      <td>1.00000</td>\n      <td>0.00000</td>\n      <td>0.0</td>\n      <td>0.0</td>\n    </tr>\n    <tr>\n      <th>6</th>\n      <td>0.98505</td>\n      <td>0.01495</td>\n      <td>0.0</td>\n      <td>0.0</td>\n    </tr>\n    <tr>\n      <th>7</th>\n      <td>0.99409</td>\n      <td>0.00591</td>\n      <td>0.0</td>\n      <td>0.0</td>\n    </tr>\n    <tr>\n      <th>8</th>\n      <td>0.99720</td>\n      <td>0.00280</td>\n      <td>0.0</td>\n      <td>0.0</td>\n    </tr>\n    <tr>\n      <th>9</th>\n      <td>0.99990</td>\n      <td>0.00010</td>\n      <td>0.0</td>\n      <td>0.0</td>\n    </tr>\n  </tbody>\n</table>\n</div>"
     },
     "execution_count": 16,
     "metadata": {},
     "output_type": "execute_result"
    }
   ],
   "source": [
    "# Get Probability Predictions\n",
    "pred_proba = pd.DataFrame(lr.predict_proba(X_test_scaled), columns=[\"P(y=0|x)\", \"P(y=1|x)\"])\n",
    "# Round to 5 decimal places\n",
    "pred_proba = pred_proba.round(5)\n",
    "\n",
    "pred_proba[\"y_pred\"] = y_pred\n",
    "pred_proba[\"y_actual\"] = y_test.values\n",
    "\n",
    "pred_proba.head(10)"
   ],
   "metadata": {
    "collapsed": false,
    "pycharm": {
     "name": "#%%\n"
    }
   }
  }
 ],
 "metadata": {
  "kernelspec": {
   "display_name": "Python 3",
   "language": "python",
   "name": "python3"
  },
  "language_info": {
   "codemirror_mode": {
    "name": "ipython",
    "version": 2
   },
   "file_extension": ".py",
   "mimetype": "text/x-python",
   "name": "python",
   "nbconvert_exporter": "python",
   "pygments_lexer": "ipython2",
   "version": "2.7.6"
  }
 },
 "nbformat": 4,
 "nbformat_minor": 0
}