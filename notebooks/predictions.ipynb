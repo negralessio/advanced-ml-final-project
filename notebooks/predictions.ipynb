{
 "cells": [
  {
   "cell_type": "code",
   "execution_count": 41,
   "outputs": [],
   "source": [
    "import pandas as pd\n",
    "import numpy as np\n",
    "import matplotlib.pyplot as plt\n",
    "import seaborn as sns\n",
    "import sklearn.metrics\n",
    "from sklearn.utils import resample\n",
    "# For modeling\n",
    "from sklearn.pipeline import Pipeline\n",
    "from sklearn.linear_model import LogisticRegression, Lasso\n",
    "from sklearn.ensemble import RandomForestClassifier, BaggingClassifier\n",
    "from sklearn.tree import DecisionTreeClassifier\n",
    "from sklearn.neural_network import MLPClassifier\n",
    "from sklearn.metrics import confusion_matrix, classification_report, precision_recall_fscore_support, accuracy_score, mean_absolute_error, r2_score\n",
    "from sklearn.model_selection import cross_val_score, train_test_split, cross_validate, GridSearchCV\n",
    "from sklearn.preprocessing import StandardScaler, MinMaxScaler\n",
    "from sklearn.svm import SVC\n",
    "from sklearn.pipeline import Pipeline\n",
    "from tqdm.notebook import tqdm\n",
    "from matplotlib.colors import ListedColormap\n",
    "#sns.set_palette('viridis')\n",
    "pd.options.mode.chained_assignment = None  # Supress warning, default='warn'"
   ],
   "metadata": {
    "collapsed": false,
    "pycharm": {
     "name": "#%%\n"
    }
   }
  },
  {
   "cell_type": "markdown",
   "source": [
    "# Read Data\n",
    "In this section we read the data (pickle file) after the preprocessing from the preprocessing notebook/part"
   ],
   "metadata": {
    "collapsed": false,
    "pycharm": {
     "name": "#%% md\n"
    }
   }
  },
  {
   "cell_type": "code",
   "execution_count": 6,
   "outputs": [
    {
     "name": "stdout",
     "output_type": "stream",
     "text": [
      "Shape of df: (1345310, 101)\n"
     ]
    },
    {
     "data": {
      "text/plain": "   loan_amnt  funded_amnt  funded_amnt_inv term  int_rate  installment grade  \\\n0     3600.0       3600.0           3600.0   36     13.99       123.03     C   \n1    24700.0      24700.0          24700.0   36     11.99       820.28     C   \n2    20000.0      20000.0          20000.0   60     10.78       432.66     B   \n4    10400.0      10400.0          10400.0   60     22.45       289.91     F   \n5    11950.0      11950.0          11950.0   36     13.44       405.18     C   \n\n  sub_grade  emp_length home_ownership  ...  percent_bc_gt_75  \\\n0        C4        10.0       MORTGAGE  ...               0.0   \n1        C1        10.0       MORTGAGE  ...               7.7   \n2        B4        10.0       MORTGAGE  ...              50.0   \n4        F1         3.0       MORTGAGE  ...              60.0   \n5        C3         4.0           RENT  ...             100.0   \n\n  pub_rec_bankruptcies  tax_liens tot_hi_cred_lim total_bal_ex_mort  \\\n0                  0.0        0.0        178050.0            7746.0   \n1                  0.0        0.0        314017.0           39475.0   \n2                  0.0        0.0        218418.0           18696.0   \n4                  0.0        0.0        439570.0           95768.0   \n5                  0.0        0.0         16900.0           12798.0   \n\n  total_bc_limit  total_il_high_credit_limit  hardship_flag  \\\n0         2400.0                     13734.0              N   \n1        79300.0                     24667.0              N   \n2         6200.0                     14877.0              N   \n4        20300.0                     88097.0              N   \n5         9400.0                      4000.0              N   \n\n   disbursement_method  debt_settlement_flag  \n0                 Cash                     N  \n1                 Cash                     N  \n2                 Cash                     N  \n4                 Cash                     N  \n5                 Cash                     N  \n\n[5 rows x 101 columns]",
      "text/html": "<div>\n<style scoped>\n    .dataframe tbody tr th:only-of-type {\n        vertical-align: middle;\n    }\n\n    .dataframe tbody tr th {\n        vertical-align: top;\n    }\n\n    .dataframe thead th {\n        text-align: right;\n    }\n</style>\n<table border=\"1\" class=\"dataframe\">\n  <thead>\n    <tr style=\"text-align: right;\">\n      <th></th>\n      <th>loan_amnt</th>\n      <th>funded_amnt</th>\n      <th>funded_amnt_inv</th>\n      <th>term</th>\n      <th>int_rate</th>\n      <th>installment</th>\n      <th>grade</th>\n      <th>sub_grade</th>\n      <th>emp_length</th>\n      <th>home_ownership</th>\n      <th>...</th>\n      <th>percent_bc_gt_75</th>\n      <th>pub_rec_bankruptcies</th>\n      <th>tax_liens</th>\n      <th>tot_hi_cred_lim</th>\n      <th>total_bal_ex_mort</th>\n      <th>total_bc_limit</th>\n      <th>total_il_high_credit_limit</th>\n      <th>hardship_flag</th>\n      <th>disbursement_method</th>\n      <th>debt_settlement_flag</th>\n    </tr>\n  </thead>\n  <tbody>\n    <tr>\n      <th>0</th>\n      <td>3600.0</td>\n      <td>3600.0</td>\n      <td>3600.0</td>\n      <td>36</td>\n      <td>13.99</td>\n      <td>123.03</td>\n      <td>C</td>\n      <td>C4</td>\n      <td>10.0</td>\n      <td>MORTGAGE</td>\n      <td>...</td>\n      <td>0.0</td>\n      <td>0.0</td>\n      <td>0.0</td>\n      <td>178050.0</td>\n      <td>7746.0</td>\n      <td>2400.0</td>\n      <td>13734.0</td>\n      <td>N</td>\n      <td>Cash</td>\n      <td>N</td>\n    </tr>\n    <tr>\n      <th>1</th>\n      <td>24700.0</td>\n      <td>24700.0</td>\n      <td>24700.0</td>\n      <td>36</td>\n      <td>11.99</td>\n      <td>820.28</td>\n      <td>C</td>\n      <td>C1</td>\n      <td>10.0</td>\n      <td>MORTGAGE</td>\n      <td>...</td>\n      <td>7.7</td>\n      <td>0.0</td>\n      <td>0.0</td>\n      <td>314017.0</td>\n      <td>39475.0</td>\n      <td>79300.0</td>\n      <td>24667.0</td>\n      <td>N</td>\n      <td>Cash</td>\n      <td>N</td>\n    </tr>\n    <tr>\n      <th>2</th>\n      <td>20000.0</td>\n      <td>20000.0</td>\n      <td>20000.0</td>\n      <td>60</td>\n      <td>10.78</td>\n      <td>432.66</td>\n      <td>B</td>\n      <td>B4</td>\n      <td>10.0</td>\n      <td>MORTGAGE</td>\n      <td>...</td>\n      <td>50.0</td>\n      <td>0.0</td>\n      <td>0.0</td>\n      <td>218418.0</td>\n      <td>18696.0</td>\n      <td>6200.0</td>\n      <td>14877.0</td>\n      <td>N</td>\n      <td>Cash</td>\n      <td>N</td>\n    </tr>\n    <tr>\n      <th>4</th>\n      <td>10400.0</td>\n      <td>10400.0</td>\n      <td>10400.0</td>\n      <td>60</td>\n      <td>22.45</td>\n      <td>289.91</td>\n      <td>F</td>\n      <td>F1</td>\n      <td>3.0</td>\n      <td>MORTGAGE</td>\n      <td>...</td>\n      <td>60.0</td>\n      <td>0.0</td>\n      <td>0.0</td>\n      <td>439570.0</td>\n      <td>95768.0</td>\n      <td>20300.0</td>\n      <td>88097.0</td>\n      <td>N</td>\n      <td>Cash</td>\n      <td>N</td>\n    </tr>\n    <tr>\n      <th>5</th>\n      <td>11950.0</td>\n      <td>11950.0</td>\n      <td>11950.0</td>\n      <td>36</td>\n      <td>13.44</td>\n      <td>405.18</td>\n      <td>C</td>\n      <td>C3</td>\n      <td>4.0</td>\n      <td>RENT</td>\n      <td>...</td>\n      <td>100.0</td>\n      <td>0.0</td>\n      <td>0.0</td>\n      <td>16900.0</td>\n      <td>12798.0</td>\n      <td>9400.0</td>\n      <td>4000.0</td>\n      <td>N</td>\n      <td>Cash</td>\n      <td>N</td>\n    </tr>\n  </tbody>\n</table>\n<p>5 rows × 101 columns</p>\n</div>"
     },
     "execution_count": 6,
     "metadata": {},
     "output_type": "execute_result"
    }
   ],
   "source": [
    "df = pd.read_pickle('../data/preprocessed/accepted_df_preprocessed.pkl')\n",
    "print(f\"Shape of df: {df.shape}\")\n",
    "df.head(5)"
   ],
   "metadata": {
    "collapsed": false,
    "pycharm": {
     "name": "#%%\n"
    }
   }
  },
  {
   "cell_type": "code",
   "execution_count": 7,
   "outputs": [
    {
     "name": "stdout",
     "output_type": "stream",
     "text": [
      "(134531, 101)\n"
     ]
    }
   ],
   "source": [
    "# TAKE SUBSAMPLE OF DATA FOR COMPUTATION ISSUES (TODO: DELETE THIS LATER)\n",
    "df = df.sample(frac = 0.1)\n",
    "print(df.shape)"
   ],
   "metadata": {
    "collapsed": false,
    "pycharm": {
     "name": "#%%\n"
    }
   }
  },
  {
   "cell_type": "markdown",
   "source": [
    "---\n",
    "# Model Preprocessing: Encode Features from categorical to numerical\n",
    "In this section we prepare our data set for modeling through fixing the inbalancement of our data, encoding categorical data, dropping features that are only apriori the application known etc..."
   ],
   "metadata": {
    "collapsed": false,
    "pycharm": {
     "name": "#%% md\n"
    }
   }
  },
  {
   "cell_type": "markdown",
   "source": [
    "## Drop columns for prediction\n",
    "In this small section we drop features that we do not have prior the lending application. We consulted the data dictionary table (seen [here](https://docs.google.com/spreadsheets/d/13YQDRQYYbr84wy7zQ91yfC8QoEBFPFP0zR5pIDf18rA/edit#gid=629438262)) and analyzed which columns to keep and which to drop. Note that this requires a lot of domain knowledge."
   ],
   "metadata": {
    "collapsed": false,
    "pycharm": {
     "name": "#%% md\n"
    }
   }
  },
  {
   "cell_type": "code",
   "execution_count": 8,
   "outputs": [
    {
     "name": "stdout",
     "output_type": "stream",
     "text": [
      "Cols to drop: ['funded_amnt', 'funded_amnt_inv', 'pymnt_plan', 'delinq_2yrs', 'inq_last_6mths', 'mths_since_last_delinq', 'out_prncp', 'out_prncp_inv', 'total_pymnt', 'total_pymnt_inv', 'total_rec_prncp', 'total_rec_int', 'total_rec_late_fee', 'recoveries', 'collection_recovery_fee', 'last_pymnt_amnt', 'last_fico_range_high', 'last_fico_range_low', 'collections_12_mths_ex_med', 'mths_since_last_major_derog', 'policy_code', 'acc_now_delinq', 'tot_coll_amt', 'tot_cur_bal', 'open_acc_6m', 'open_act_il', 'open_il_12m', 'open_il_24m', 'mths_since_rcnt_il', 'total_bal_il', 'il_util', 'open_rv_12m', 'open_rv_24m', 'max_bal_bc', 'all_util', 'total_rev_hi_lim', 'inq_fi', 'total_cu_tl', 'inq_last_12m', 'acc_open_past_24mths', 'avg_cur_bal', 'bc_open_to_buy', 'bc_util', 'chargeoff_within_12_mths', 'delinq_amnt', 'mo_sin_old_il_acct', 'mo_sin_old_rev_tl_op', 'mo_sin_rcnt_rev_tl_op', 'mo_sin_rcnt_tl', 'mths_since_recent_bc', 'mths_since_recent_inq', 'mths_since_recent_revol_delinq', 'num_accts_ever_120_pd', 'num_actv_bc_tl', 'num_actv_rev_tl', 'num_bc_sats', 'num_bc_tl', 'num_il_tl', 'num_op_rev_tl', 'num_rev_accts', 'num_rev_tl_bal_gt_0', 'num_sats', 'num_tl_120dpd_2m', 'num_tl_30dpd', 'num_tl_90g_dpd_24m', 'num_tl_op_past_12m', 'pct_tl_nvr_dlq', 'percent_bc_gt_75', 'tax_liens', 'tot_hi_cred_lim', 'total_bal_ex_mort', 'total_bc_limit', 'total_il_high_credit_limit', 'hardship_flag', 'disbursement_method', 'debt_settlement_flag']\n",
      "Shape of df after drop: (134531, 25)\n"
     ]
    }
   ],
   "source": [
    "keep_list = ['addr_state', 'annual_inc', 'annual_inc_joint', 'application_type', 'dti', 'earliest_cr_line', 'emp_length', 'emp_title', 'fico_range_high', 'fico_range_low', 'grade', 'home_ownership', 'id', 'initial_list_status', 'installment', 'int_rate', 'issue_d', 'loan_amnt', 'loan_status', 'mort_acc', 'open_acc', 'pub_rec', 'pub_rec_bankruptcies', 'purpose', 'revol_bal', 'revol_util', 'sub_grade', 'term', 'title', 'total_acc', 'verification_status', 'zip_code']\n",
    "\n",
    "cols_to_drop = [col for col in df.columns if col not in keep_list]\n",
    "print(f\"Cols to drop: {cols_to_drop}\")\n",
    "df.drop(cols_to_drop, axis=1, inplace=True)\n",
    "print(f\"Shape of df after drop: {df.shape}\")"
   ],
   "metadata": {
    "collapsed": false,
    "pycharm": {
     "name": "#%%\n"
    }
   }
  },
  {
   "cell_type": "code",
   "execution_count": 9,
   "outputs": [
    {
     "name": "stdout",
     "output_type": "stream",
     "text": [
      "float64    16\n",
      "object      8\n",
      "int32       1\n",
      "dtype: int64\n",
      "Current categorical features:\n",
      "['grade', 'sub_grade', 'home_ownership', 'verification_status', 'purpose', 'addr_state', 'initial_list_status', 'application_type']\n"
     ]
    }
   ],
   "source": [
    "# Convert term to float32\n",
    "df[\"term\"] = df[\"term\"].astype(np.float64)\n",
    "\n",
    "# Preview categorical data\n",
    "print(df.dtypes.value_counts())\n",
    "# Get categorical columns names\n",
    "cat_columns = df.select_dtypes(include=['object']).columns.tolist()\n",
    "# Preview\n",
    "print(f\"Current categorical features:\\n{cat_columns}\")"
   ],
   "metadata": {
    "collapsed": false,
    "pycharm": {
     "name": "#%%\n"
    }
   }
  },
  {
   "cell_type": "markdown",
   "source": [
    "### Deleted irrelevant categorical features\n",
    "Delete categorical features that are not relevant for the Modelling or contain too many realization so that encoding them would be infeasible."
   ],
   "metadata": {
    "collapsed": false,
    "pycharm": {
     "name": "#%% md\n"
    }
   }
  },
  {
   "cell_type": "code",
   "execution_count": 10,
   "outputs": [
    {
     "name": "stdout",
     "output_type": "stream",
     "text": [
      "Categorical Columns to drop: ['purpose', 'addr_state']\n",
      "Categorical Columns to keep: ['home_ownership', 'grade', 'sub_grade', 'verification_status', 'application_type', 'initial_list_status']\n",
      "\n",
      "Shape of df before columns drop: (134531, 25)\n",
      "Shape of df after columns drop: (134531, 23)\n"
     ]
    }
   ],
   "source": [
    "# Define categorical columns from cat_columns to keep here\n",
    "CAT_COLS_TO_KEEP = [\"home_ownership\", \"grade\", \"sub_grade\", \"verification_status\", \"application_type\", \"initial_list_status\"]\n",
    "CAT_COLS_TO_DROP = [col for col in cat_columns if col not in CAT_COLS_TO_KEEP]\n",
    "\n",
    "print(f\"Categorical Columns to drop: {CAT_COLS_TO_DROP}\")\n",
    "print(f\"Categorical Columns to keep: {CAT_COLS_TO_KEEP}\\n\")\n",
    "print(f\"Shape of df before columns drop: {df.shape}\")\n",
    "# Drop irrelevant categorical features\n",
    "df.drop(CAT_COLS_TO_DROP, axis=1, inplace=True)\n",
    "print(f\"Shape of df after columns drop: {df.shape}\")"
   ],
   "metadata": {
    "collapsed": false,
    "pycharm": {
     "name": "#%%\n"
    }
   }
  },
  {
   "cell_type": "markdown",
   "source": [
    "## Preview of the remaining categorical features"
   ],
   "metadata": {
    "collapsed": false,
    "pycharm": {
     "name": "#%% md\n"
    }
   }
  },
  {
   "cell_type": "code",
   "execution_count": 11,
   "outputs": [
    {
     "name": "stdout",
     "output_type": "stream",
     "text": [
      "float64    16\n",
      "object      6\n",
      "int32       1\n",
      "dtype: int64\n"
     ]
    },
    {
     "data": {
      "text/plain": "        grade sub_grade home_ownership verification_status  \\\n1697742     C        C1           RENT        Not Verified   \n2189055     B        B1       MORTGAGE     Source Verified   \n186426      C        C3           RENT     Source Verified   \n1735766     B        B4           RENT        Not Verified   \n158941      E        E3           RENT            Verified   \n...       ...       ...            ...                 ...   \n1797636     B        B5           RENT        Not Verified   \n2055256     D        D4       MORTGAGE            Verified   \n1107205     C        C2           RENT            Verified   \n48327       B        B5           RENT     Source Verified   \n340623      C        C1           RENT     Source Verified   \n\n        initial_list_status application_type  \n1697742                   w       Individual  \n2189055                   w       Individual  \n186426                    w       Individual  \n1735766                   w       Individual  \n158941                    f       Individual  \n...                     ...              ...  \n1797636                   w       Individual  \n2055256                   w       Individual  \n1107205                   w       Individual  \n48327                     f       Individual  \n340623                    f       Individual  \n\n[134531 rows x 6 columns]",
      "text/html": "<div>\n<style scoped>\n    .dataframe tbody tr th:only-of-type {\n        vertical-align: middle;\n    }\n\n    .dataframe tbody tr th {\n        vertical-align: top;\n    }\n\n    .dataframe thead th {\n        text-align: right;\n    }\n</style>\n<table border=\"1\" class=\"dataframe\">\n  <thead>\n    <tr style=\"text-align: right;\">\n      <th></th>\n      <th>grade</th>\n      <th>sub_grade</th>\n      <th>home_ownership</th>\n      <th>verification_status</th>\n      <th>initial_list_status</th>\n      <th>application_type</th>\n    </tr>\n  </thead>\n  <tbody>\n    <tr>\n      <th>1697742</th>\n      <td>C</td>\n      <td>C1</td>\n      <td>RENT</td>\n      <td>Not Verified</td>\n      <td>w</td>\n      <td>Individual</td>\n    </tr>\n    <tr>\n      <th>2189055</th>\n      <td>B</td>\n      <td>B1</td>\n      <td>MORTGAGE</td>\n      <td>Source Verified</td>\n      <td>w</td>\n      <td>Individual</td>\n    </tr>\n    <tr>\n      <th>186426</th>\n      <td>C</td>\n      <td>C3</td>\n      <td>RENT</td>\n      <td>Source Verified</td>\n      <td>w</td>\n      <td>Individual</td>\n    </tr>\n    <tr>\n      <th>1735766</th>\n      <td>B</td>\n      <td>B4</td>\n      <td>RENT</td>\n      <td>Not Verified</td>\n      <td>w</td>\n      <td>Individual</td>\n    </tr>\n    <tr>\n      <th>158941</th>\n      <td>E</td>\n      <td>E3</td>\n      <td>RENT</td>\n      <td>Verified</td>\n      <td>f</td>\n      <td>Individual</td>\n    </tr>\n    <tr>\n      <th>...</th>\n      <td>...</td>\n      <td>...</td>\n      <td>...</td>\n      <td>...</td>\n      <td>...</td>\n      <td>...</td>\n    </tr>\n    <tr>\n      <th>1797636</th>\n      <td>B</td>\n      <td>B5</td>\n      <td>RENT</td>\n      <td>Not Verified</td>\n      <td>w</td>\n      <td>Individual</td>\n    </tr>\n    <tr>\n      <th>2055256</th>\n      <td>D</td>\n      <td>D4</td>\n      <td>MORTGAGE</td>\n      <td>Verified</td>\n      <td>w</td>\n      <td>Individual</td>\n    </tr>\n    <tr>\n      <th>1107205</th>\n      <td>C</td>\n      <td>C2</td>\n      <td>RENT</td>\n      <td>Verified</td>\n      <td>w</td>\n      <td>Individual</td>\n    </tr>\n    <tr>\n      <th>48327</th>\n      <td>B</td>\n      <td>B5</td>\n      <td>RENT</td>\n      <td>Source Verified</td>\n      <td>f</td>\n      <td>Individual</td>\n    </tr>\n    <tr>\n      <th>340623</th>\n      <td>C</td>\n      <td>C1</td>\n      <td>RENT</td>\n      <td>Source Verified</td>\n      <td>f</td>\n      <td>Individual</td>\n    </tr>\n  </tbody>\n</table>\n<p>134531 rows × 6 columns</p>\n</div>"
     },
     "execution_count": 11,
     "metadata": {},
     "output_type": "execute_result"
    }
   ],
   "source": [
    "print(df.dtypes.value_counts())\n",
    "df.select_dtypes(\"object\")"
   ],
   "metadata": {
    "collapsed": false,
    "pycharm": {
     "name": "#%%\n"
    }
   }
  },
  {
   "cell_type": "code",
   "execution_count": 12,
   "outputs": [
    {
     "name": "stdout",
     "output_type": "stream",
     "text": [
      "Index(['loan_amnt', 'term', 'int_rate', 'installment', 'grade', 'sub_grade',\n",
      "       'emp_length', 'home_ownership', 'annual_inc', 'verification_status',\n",
      "       'loan_status', 'dti', 'fico_range_low', 'fico_range_high', 'open_acc',\n",
      "       'pub_rec', 'revol_bal', 'revol_util', 'total_acc',\n",
      "       'initial_list_status', 'application_type', 'mort_acc',\n",
      "       'pub_rec_bankruptcies'],\n",
      "      dtype='object')\n"
     ]
    }
   ],
   "source": [
    "# Preview of all remaining columns / features:\n",
    "print(df.columns)"
   ],
   "metadata": {
    "collapsed": false,
    "pycharm": {
     "name": "#%%\n"
    }
   }
  },
  {
   "cell_type": "markdown",
   "source": [
    "## Create Dummy Variables"
   ],
   "metadata": {
    "collapsed": false,
    "pycharm": {
     "name": "#%% md\n"
    }
   }
  },
  {
   "cell_type": "code",
   "execution_count": 13,
   "outputs": [
    {
     "name": "stdout",
     "output_type": "stream",
     "text": [
      "Shape before dummies using BinaryEncoder: (134531, 23)\n",
      "Shape after dummies using BinaryEncoder: (134531, 39)\n"
     ]
    },
    {
     "data": {
      "text/plain": "int64      22\nfloat64    16\nint32       1\ndtype: int64"
     },
     "execution_count": 13,
     "metadata": {},
     "output_type": "execute_result"
    }
   ],
   "source": [
    "# Binary Encoding\n",
    "import category_encoders as ce\n",
    "print(f\"Shape before dummies using BinaryEncoder: {df.shape}\")\n",
    "# Encode categorical columns\n",
    "encoder = ce.BinaryEncoder(cols=CAT_COLS_TO_KEEP)\n",
    "df_binary = encoder.fit_transform(df)\n",
    "print(f\"Shape after dummies using BinaryEncoder: {df_binary.shape}\")\n",
    "# check\n",
    "df_binary.dtypes.value_counts()"
   ],
   "metadata": {
    "collapsed": false,
    "pycharm": {
     "name": "#%%\n"
    }
   }
  },
  {
   "cell_type": "code",
   "execution_count": 14,
   "outputs": [],
   "source": [
    "# Use pd.get_dummies instead\n",
    "#print(f\"Shape before dummies using pd.get_dummies(): {df.shape}\")\n",
    "#df_binary = pd.get_dummies(data=df, columns=CAT_COLS_TO_KEEP, drop_first=True)\n",
    "#print(f\"Shape after dummies using pd.get_dummies(): {df_binary.shape}\")"
   ],
   "metadata": {
    "collapsed": false,
    "pycharm": {
     "name": "#%%\n"
    }
   }
  },
  {
   "cell_type": "code",
   "execution_count": 15,
   "outputs": [
    {
     "data": {
      "text/plain": "float32    39\ndtype: int64"
     },
     "execution_count": 15,
     "metadata": {},
     "output_type": "execute_result"
    }
   ],
   "source": [
    "# Convert all values to float\n",
    "df_binary = df_binary.astype(np.float32)\n",
    "df_binary.dtypes.value_counts()"
   ],
   "metadata": {
    "collapsed": false,
    "pycharm": {
     "name": "#%%\n"
    }
   }
  },
  {
   "cell_type": "markdown",
   "source": [
    "## Preview preprocessed dataframe"
   ],
   "metadata": {
    "collapsed": false,
    "pycharm": {
     "name": "#%% md\n"
    }
   }
  },
  {
   "cell_type": "code",
   "execution_count": 16,
   "outputs": [
    {
     "data": {
      "text/plain": "         loan_amnt  term   int_rate  installment  grade_0  grade_1  grade_2  \\\n1697742     5500.0  36.0  12.740000   184.630005      0.0      0.0      0.0   \n2189055    14000.0  60.0   8.240000   285.489990      0.0      0.0      1.0   \n186426     12000.0  60.0  13.330000   275.070007      0.0      0.0      0.0   \n1735766    16000.0  36.0  11.440000   527.159973      0.0      0.0      1.0   \n158941     10375.0  36.0  19.190001   381.309998      0.0      0.0      1.0   \n659154     14000.0  60.0  14.490000   329.329987      0.0      0.0      0.0   \n1230414    18000.0  60.0  24.080000   518.659973      0.0      1.0      0.0   \n180715     16000.0  36.0   6.240000   488.500000      0.0      1.0      0.0   \n92991      35000.0  60.0  13.330000   802.289978      0.0      0.0      0.0   \n1252852    11200.0  36.0  16.290001   395.369995      0.0      1.0      1.0   \n\n         grade_3  sub_grade_0  sub_grade_1  ...  pub_rec  revol_bal  \\\n1697742      1.0          0.0          0.0  ...      0.0     6774.0   \n2189055      0.0          0.0          0.0  ...      0.0     7397.0   \n186426       1.0          0.0          0.0  ...      0.0     8589.0   \n1735766      0.0          0.0          0.0  ...      0.0    16558.0   \n158941       1.0          0.0          0.0  ...      0.0     8534.0   \n659154       1.0          0.0          0.0  ...      4.0     5225.0   \n1230414      0.0          0.0          0.0  ...      1.0     9863.0   \n180715       1.0          0.0          0.0  ...      0.0    13299.0   \n92991        1.0          0.0          0.0  ...      0.0    26941.0   \n1252852      0.0          0.0          0.0  ...      0.0     6486.0   \n\n         revol_util  total_acc  initial_list_status_0  initial_list_status_1  \\\n1697742   37.400002       19.0                    0.0                    1.0   \n2189055   14.900000       15.0                    0.0                    1.0   \n186426    30.700001       20.0                    0.0                    1.0   \n1735766   62.700001        8.0                    0.0                    1.0   \n158941    53.700001       30.0                    1.0                    0.0   \n659154    61.500000       29.0                    0.0                    1.0   \n1230414   59.000000       34.0                    1.0                    0.0   \n180715    43.299999       24.0                    0.0                    1.0   \n92991     59.299999       12.0                    0.0                    1.0   \n1252852   36.400002        8.0                    1.0                    0.0   \n\n         application_type_0  application_type_1  mort_acc  \\\n1697742                 0.0                 1.0       0.0   \n2189055                 0.0                 1.0       3.0   \n186426                  0.0                 1.0       1.0   \n1735766                 0.0                 1.0       0.0   \n158941                  0.0                 1.0       1.0   \n659154                  0.0                 1.0       2.0   \n1230414                 0.0                 1.0       1.0   \n180715                  0.0                 1.0       1.0   \n92991                   0.0                 1.0       2.0   \n1252852                 0.0                 1.0       3.0   \n\n         pub_rec_bankruptcies  \n1697742                   0.0  \n2189055                   0.0  \n186426                    0.0  \n1735766                   0.0  \n158941                    0.0  \n659154                    0.0  \n1230414                   1.0  \n180715                    0.0  \n92991                     0.0  \n1252852                   0.0  \n\n[10 rows x 39 columns]",
      "text/html": "<div>\n<style scoped>\n    .dataframe tbody tr th:only-of-type {\n        vertical-align: middle;\n    }\n\n    .dataframe tbody tr th {\n        vertical-align: top;\n    }\n\n    .dataframe thead th {\n        text-align: right;\n    }\n</style>\n<table border=\"1\" class=\"dataframe\">\n  <thead>\n    <tr style=\"text-align: right;\">\n      <th></th>\n      <th>loan_amnt</th>\n      <th>term</th>\n      <th>int_rate</th>\n      <th>installment</th>\n      <th>grade_0</th>\n      <th>grade_1</th>\n      <th>grade_2</th>\n      <th>grade_3</th>\n      <th>sub_grade_0</th>\n      <th>sub_grade_1</th>\n      <th>...</th>\n      <th>pub_rec</th>\n      <th>revol_bal</th>\n      <th>revol_util</th>\n      <th>total_acc</th>\n      <th>initial_list_status_0</th>\n      <th>initial_list_status_1</th>\n      <th>application_type_0</th>\n      <th>application_type_1</th>\n      <th>mort_acc</th>\n      <th>pub_rec_bankruptcies</th>\n    </tr>\n  </thead>\n  <tbody>\n    <tr>\n      <th>1697742</th>\n      <td>5500.0</td>\n      <td>36.0</td>\n      <td>12.740000</td>\n      <td>184.630005</td>\n      <td>0.0</td>\n      <td>0.0</td>\n      <td>0.0</td>\n      <td>1.0</td>\n      <td>0.0</td>\n      <td>0.0</td>\n      <td>...</td>\n      <td>0.0</td>\n      <td>6774.0</td>\n      <td>37.400002</td>\n      <td>19.0</td>\n      <td>0.0</td>\n      <td>1.0</td>\n      <td>0.0</td>\n      <td>1.0</td>\n      <td>0.0</td>\n      <td>0.0</td>\n    </tr>\n    <tr>\n      <th>2189055</th>\n      <td>14000.0</td>\n      <td>60.0</td>\n      <td>8.240000</td>\n      <td>285.489990</td>\n      <td>0.0</td>\n      <td>0.0</td>\n      <td>1.0</td>\n      <td>0.0</td>\n      <td>0.0</td>\n      <td>0.0</td>\n      <td>...</td>\n      <td>0.0</td>\n      <td>7397.0</td>\n      <td>14.900000</td>\n      <td>15.0</td>\n      <td>0.0</td>\n      <td>1.0</td>\n      <td>0.0</td>\n      <td>1.0</td>\n      <td>3.0</td>\n      <td>0.0</td>\n    </tr>\n    <tr>\n      <th>186426</th>\n      <td>12000.0</td>\n      <td>60.0</td>\n      <td>13.330000</td>\n      <td>275.070007</td>\n      <td>0.0</td>\n      <td>0.0</td>\n      <td>0.0</td>\n      <td>1.0</td>\n      <td>0.0</td>\n      <td>0.0</td>\n      <td>...</td>\n      <td>0.0</td>\n      <td>8589.0</td>\n      <td>30.700001</td>\n      <td>20.0</td>\n      <td>0.0</td>\n      <td>1.0</td>\n      <td>0.0</td>\n      <td>1.0</td>\n      <td>1.0</td>\n      <td>0.0</td>\n    </tr>\n    <tr>\n      <th>1735766</th>\n      <td>16000.0</td>\n      <td>36.0</td>\n      <td>11.440000</td>\n      <td>527.159973</td>\n      <td>0.0</td>\n      <td>0.0</td>\n      <td>1.0</td>\n      <td>0.0</td>\n      <td>0.0</td>\n      <td>0.0</td>\n      <td>...</td>\n      <td>0.0</td>\n      <td>16558.0</td>\n      <td>62.700001</td>\n      <td>8.0</td>\n      <td>0.0</td>\n      <td>1.0</td>\n      <td>0.0</td>\n      <td>1.0</td>\n      <td>0.0</td>\n      <td>0.0</td>\n    </tr>\n    <tr>\n      <th>158941</th>\n      <td>10375.0</td>\n      <td>36.0</td>\n      <td>19.190001</td>\n      <td>381.309998</td>\n      <td>0.0</td>\n      <td>0.0</td>\n      <td>1.0</td>\n      <td>1.0</td>\n      <td>0.0</td>\n      <td>0.0</td>\n      <td>...</td>\n      <td>0.0</td>\n      <td>8534.0</td>\n      <td>53.700001</td>\n      <td>30.0</td>\n      <td>1.0</td>\n      <td>0.0</td>\n      <td>0.0</td>\n      <td>1.0</td>\n      <td>1.0</td>\n      <td>0.0</td>\n    </tr>\n    <tr>\n      <th>659154</th>\n      <td>14000.0</td>\n      <td>60.0</td>\n      <td>14.490000</td>\n      <td>329.329987</td>\n      <td>0.0</td>\n      <td>0.0</td>\n      <td>0.0</td>\n      <td>1.0</td>\n      <td>0.0</td>\n      <td>0.0</td>\n      <td>...</td>\n      <td>4.0</td>\n      <td>5225.0</td>\n      <td>61.500000</td>\n      <td>29.0</td>\n      <td>0.0</td>\n      <td>1.0</td>\n      <td>0.0</td>\n      <td>1.0</td>\n      <td>2.0</td>\n      <td>0.0</td>\n    </tr>\n    <tr>\n      <th>1230414</th>\n      <td>18000.0</td>\n      <td>60.0</td>\n      <td>24.080000</td>\n      <td>518.659973</td>\n      <td>0.0</td>\n      <td>1.0</td>\n      <td>0.0</td>\n      <td>0.0</td>\n      <td>0.0</td>\n      <td>0.0</td>\n      <td>...</td>\n      <td>1.0</td>\n      <td>9863.0</td>\n      <td>59.000000</td>\n      <td>34.0</td>\n      <td>1.0</td>\n      <td>0.0</td>\n      <td>0.0</td>\n      <td>1.0</td>\n      <td>1.0</td>\n      <td>1.0</td>\n    </tr>\n    <tr>\n      <th>180715</th>\n      <td>16000.0</td>\n      <td>36.0</td>\n      <td>6.240000</td>\n      <td>488.500000</td>\n      <td>0.0</td>\n      <td>1.0</td>\n      <td>0.0</td>\n      <td>1.0</td>\n      <td>0.0</td>\n      <td>0.0</td>\n      <td>...</td>\n      <td>0.0</td>\n      <td>13299.0</td>\n      <td>43.299999</td>\n      <td>24.0</td>\n      <td>0.0</td>\n      <td>1.0</td>\n      <td>0.0</td>\n      <td>1.0</td>\n      <td>1.0</td>\n      <td>0.0</td>\n    </tr>\n    <tr>\n      <th>92991</th>\n      <td>35000.0</td>\n      <td>60.0</td>\n      <td>13.330000</td>\n      <td>802.289978</td>\n      <td>0.0</td>\n      <td>0.0</td>\n      <td>0.0</td>\n      <td>1.0</td>\n      <td>0.0</td>\n      <td>0.0</td>\n      <td>...</td>\n      <td>0.0</td>\n      <td>26941.0</td>\n      <td>59.299999</td>\n      <td>12.0</td>\n      <td>0.0</td>\n      <td>1.0</td>\n      <td>0.0</td>\n      <td>1.0</td>\n      <td>2.0</td>\n      <td>0.0</td>\n    </tr>\n    <tr>\n      <th>1252852</th>\n      <td>11200.0</td>\n      <td>36.0</td>\n      <td>16.290001</td>\n      <td>395.369995</td>\n      <td>0.0</td>\n      <td>1.0</td>\n      <td>1.0</td>\n      <td>0.0</td>\n      <td>0.0</td>\n      <td>0.0</td>\n      <td>...</td>\n      <td>0.0</td>\n      <td>6486.0</td>\n      <td>36.400002</td>\n      <td>8.0</td>\n      <td>1.0</td>\n      <td>0.0</td>\n      <td>0.0</td>\n      <td>1.0</td>\n      <td>3.0</td>\n      <td>0.0</td>\n    </tr>\n  </tbody>\n</table>\n<p>10 rows × 39 columns</p>\n</div>"
     },
     "execution_count": 16,
     "metadata": {},
     "output_type": "execute_result"
    }
   ],
   "source": [
    "df_binary.head(10)"
   ],
   "metadata": {
    "collapsed": false,
    "pycharm": {
     "name": "#%%\n"
    }
   }
  },
  {
   "cell_type": "markdown",
   "source": [
    "## Create Balanced Data Set via Downsampling"
   ],
   "metadata": {
    "collapsed": false,
    "pycharm": {
     "name": "#%% md\n"
    }
   }
  },
  {
   "cell_type": "code",
   "execution_count": 17,
   "outputs": [
    {
     "name": "stdout",
     "output_type": "stream",
     "text": [
      "0.0    107730\n",
      "1.0     26801\n",
      "Name: loan_status, dtype: int64\n",
      "(134531, 39)\n"
     ]
    },
    {
     "data": {
      "text/plain": "<Figure size 432x288 with 1 Axes>",
      "image/png": "[encoded data removed]"
     },
     "metadata": {},
     "output_type": "display_data"
    }
   ],
   "source": [
    "print(df_binary.loan_status.value_counts())\n",
    "print(df_binary.shape)\n",
    "\n",
    "plt.title(\"Distribution of the target variable\", size=15)\n",
    "df_binary.groupby('loan_status').size().plot(kind='pie', y = \"loan_status\",\n",
    "                                             label = \"Type\", autopct='%1.1f%%',\n",
    "                                             wedgeprops = {\"edgecolor\": \"black\", \"alpha\": 0.75},\n",
    "                                             explode = [0.05, 0.05])\n",
    "plt.show()"
   ],
   "metadata": {
    "collapsed": false,
    "pycharm": {
     "name": "#%%\n"
    }
   }
  },
  {
   "cell_type": "code",
   "execution_count": 18,
   "outputs": [
    {
     "name": "stdout",
     "output_type": "stream",
     "text": [
      "0.0    34841\n",
      "1.0    26801\n",
      "Name: loan_status, dtype: int64\n"
     ]
    },
    {
     "data": {
      "text/plain": "<Figure size 432x288 with 1 Axes>",
      "image/png": "[encoded data removed]"
     },
     "metadata": {},
     "output_type": "display_data"
    }
   ],
   "source": [
    "# Downsampling\n",
    "loan_status_0 = df_binary[df_binary[\"loan_status\"] == 0.0]\n",
    "loan_status_1  = df_binary[df_binary[\"loan_status\"] == 1.0]\n",
    "\n",
    "loan_status_0_downsample = resample(loan_status_0,\n",
    "             replace=True,\n",
    "             n_samples=round(1.3*len(loan_status_1)),\n",
    "             random_state=42)\n",
    "\n",
    "df_binary_downsampled = pd.concat([loan_status_0_downsample, loan_status_1])\n",
    "\n",
    "print(df_binary_downsampled[\"loan_status\"].value_counts())\n",
    "# Plot settings\n",
    "plt.title(\"Distribution of the target variable\", size=15)\n",
    "df_binary_downsampled.groupby('loan_status').size().plot(kind='pie', y = \"loan_status\",\n",
    "                                             label = \"Type\", autopct='%1.1f%%',\n",
    "                                             wedgeprops = {\"edgecolor\": \"black\", \"alpha\": 0.75},\n",
    "                                             explode = [0.03, 0.03])\n",
    "plt.show()"
   ],
   "metadata": {
    "collapsed": false,
    "pycharm": {
     "name": "#%%\n"
    }
   }
  },
  {
   "cell_type": "markdown",
   "source": [
    "## Data Imputation\n",
    "Since we still have some NaNs in our feature, we replace them by taking the median values."
   ],
   "metadata": {
    "collapsed": false,
    "pycharm": {
     "name": "#%% md\n"
    }
   }
  },
  {
   "cell_type": "code",
   "execution_count": 19,
   "outputs": [
    {
     "data": {
      "text/plain": "         loan_amnt  term   int_rate  installment  grade_0  grade_1  grade_2  \\\n1176856    28000.0  36.0  13.350000   948.159973      0.0      0.0      0.0   \n1010573    15800.0  60.0  22.450001   440.440002      0.0      0.0      1.0   \n1902418    12000.0  36.0  13.110000   404.970001      0.0      0.0      1.0   \n1867866    21000.0  36.0  11.140000   688.909973      0.0      0.0      1.0   \n1091501    10775.0  36.0  16.590000   381.970001      0.0      1.0      1.0   \n\n         grade_3  sub_grade_0  sub_grade_1  ...  pub_rec  revol_bal  \\\n1176856      1.0          0.0          0.0  ...      0.0    27020.0   \n1010573      1.0          0.0          0.0  ...      0.0   136107.0   \n1902418      0.0          0.0          0.0  ...      0.0    16552.0   \n1867866      0.0          0.0          0.0  ...      0.0    36610.0   \n1091501      0.0          0.0          0.0  ...      0.0    55955.0   \n\n         revol_util  total_acc  initial_list_status_0  initial_list_status_1  \\\n1176856   33.400002       42.0                    0.0                    1.0   \n1010573   71.300003       15.0                    0.0                    1.0   \n1902418   82.800003       29.0                    1.0                    0.0   \n1867866   86.300003       34.0                    1.0                    0.0   \n1091501   57.099998       52.0                    1.0                    0.0   \n\n         application_type_0  application_type_1  mort_acc  \\\n1176856                 0.0                 1.0       0.0   \n1010573                 0.0                 1.0       1.0   \n1902418                 0.0                 1.0       5.0   \n1867866                 0.0                 1.0       3.0   \n1091501                 0.0                 1.0       8.0   \n\n         pub_rec_bankruptcies  \n1176856                   0.0  \n1010573                   0.0  \n1902418                   0.0  \n1867866                   0.0  \n1091501                   0.0  \n\n[5 rows x 39 columns]",
      "text/html": "<div>\n<style scoped>\n    .dataframe tbody tr th:only-of-type {\n        vertical-align: middle;\n    }\n\n    .dataframe tbody tr th {\n        vertical-align: top;\n    }\n\n    .dataframe thead th {\n        text-align: right;\n    }\n</style>\n<table border=\"1\" class=\"dataframe\">\n  <thead>\n    <tr style=\"text-align: right;\">\n      <th></th>\n      <th>loan_amnt</th>\n      <th>term</th>\n      <th>int_rate</th>\n      <th>installment</th>\n      <th>grade_0</th>\n      <th>grade_1</th>\n      <th>grade_2</th>\n      <th>grade_3</th>\n      <th>sub_grade_0</th>\n      <th>sub_grade_1</th>\n      <th>...</th>\n      <th>pub_rec</th>\n      <th>revol_bal</th>\n      <th>revol_util</th>\n      <th>total_acc</th>\n      <th>initial_list_status_0</th>\n      <th>initial_list_status_1</th>\n      <th>application_type_0</th>\n      <th>application_type_1</th>\n      <th>mort_acc</th>\n      <th>pub_rec_bankruptcies</th>\n    </tr>\n  </thead>\n  <tbody>\n    <tr>\n      <th>1176856</th>\n      <td>28000.0</td>\n      <td>36.0</td>\n      <td>13.350000</td>\n      <td>948.159973</td>\n      <td>0.0</td>\n      <td>0.0</td>\n      <td>0.0</td>\n      <td>1.0</td>\n      <td>0.0</td>\n      <td>0.0</td>\n      <td>...</td>\n      <td>0.0</td>\n      <td>27020.0</td>\n      <td>33.400002</td>\n      <td>42.0</td>\n      <td>0.0</td>\n      <td>1.0</td>\n      <td>0.0</td>\n      <td>1.0</td>\n      <td>0.0</td>\n      <td>0.0</td>\n    </tr>\n    <tr>\n      <th>1010573</th>\n      <td>15800.0</td>\n      <td>60.0</td>\n      <td>22.450001</td>\n      <td>440.440002</td>\n      <td>0.0</td>\n      <td>0.0</td>\n      <td>1.0</td>\n      <td>1.0</td>\n      <td>0.0</td>\n      <td>0.0</td>\n      <td>...</td>\n      <td>0.0</td>\n      <td>136107.0</td>\n      <td>71.300003</td>\n      <td>15.0</td>\n      <td>0.0</td>\n      <td>1.0</td>\n      <td>0.0</td>\n      <td>1.0</td>\n      <td>1.0</td>\n      <td>0.0</td>\n    </tr>\n    <tr>\n      <th>1902418</th>\n      <td>12000.0</td>\n      <td>36.0</td>\n      <td>13.110000</td>\n      <td>404.970001</td>\n      <td>0.0</td>\n      <td>0.0</td>\n      <td>1.0</td>\n      <td>0.0</td>\n      <td>0.0</td>\n      <td>0.0</td>\n      <td>...</td>\n      <td>0.0</td>\n      <td>16552.0</td>\n      <td>82.800003</td>\n      <td>29.0</td>\n      <td>1.0</td>\n      <td>0.0</td>\n      <td>0.0</td>\n      <td>1.0</td>\n      <td>5.0</td>\n      <td>0.0</td>\n    </tr>\n    <tr>\n      <th>1867866</th>\n      <td>21000.0</td>\n      <td>36.0</td>\n      <td>11.140000</td>\n      <td>688.909973</td>\n      <td>0.0</td>\n      <td>0.0</td>\n      <td>1.0</td>\n      <td>0.0</td>\n      <td>0.0</td>\n      <td>0.0</td>\n      <td>...</td>\n      <td>0.0</td>\n      <td>36610.0</td>\n      <td>86.300003</td>\n      <td>34.0</td>\n      <td>1.0</td>\n      <td>0.0</td>\n      <td>0.0</td>\n      <td>1.0</td>\n      <td>3.0</td>\n      <td>0.0</td>\n    </tr>\n    <tr>\n      <th>1091501</th>\n      <td>10775.0</td>\n      <td>36.0</td>\n      <td>16.590000</td>\n      <td>381.970001</td>\n      <td>0.0</td>\n      <td>1.0</td>\n      <td>1.0</td>\n      <td>0.0</td>\n      <td>0.0</td>\n      <td>0.0</td>\n      <td>...</td>\n      <td>0.0</td>\n      <td>55955.0</td>\n      <td>57.099998</td>\n      <td>52.0</td>\n      <td>1.0</td>\n      <td>0.0</td>\n      <td>0.0</td>\n      <td>1.0</td>\n      <td>8.0</td>\n      <td>0.0</td>\n    </tr>\n  </tbody>\n</table>\n<p>5 rows × 39 columns</p>\n</div>"
     },
     "execution_count": 19,
     "metadata": {},
     "output_type": "execute_result"
    }
   ],
   "source": [
    "# Fill NaNs with Median\n",
    "df_binary_downsampled = df_binary_downsampled.fillna(df_binary_downsampled.median())\n",
    "# Preview\n",
    "df_binary_downsampled.head(5)"
   ],
   "metadata": {
    "collapsed": false,
    "pycharm": {
     "name": "#%%\n"
    }
   }
  },
  {
   "cell_type": "markdown",
   "source": [
    "## Data Split\n",
    "In this section we split the data into a training and test set. The corresponding model is then trained on the training set and tested on the test set."
   ],
   "metadata": {
    "collapsed": false,
    "pycharm": {
     "name": "#%% md\n"
    }
   }
  },
  {
   "cell_type": "code",
   "execution_count": 20,
   "outputs": [
    {
     "name": "stdout",
     "output_type": "stream",
     "text": [
      "Shape of X_train: (43149, 38)\n",
      "Shape of X_test: (18493, 38)\n",
      "Shape of y_train: (43149,)\n",
      "Shape of y_test: (18493,)\n"
     ]
    }
   ],
   "source": [
    "# Fraction of test data\n",
    "TEST_SIZE = 0.3\n",
    "\n",
    "X = df_binary_downsampled.drop(\"loan_status\", axis=1)\n",
    "y = df_binary_downsampled[\"loan_status\"]\n",
    "\n",
    "# Split data into train and test data\n",
    "X_train, X_test, y_train, y_test = train_test_split(X, y, test_size=TEST_SIZE, random_state=1997, stratify=y)\n",
    "\n",
    "print(f\"Shape of X_train: {X_train.shape}\")\n",
    "print(f\"Shape of X_test: {X_test.shape}\")\n",
    "print(f\"Shape of y_train: {y_train.shape}\")\n",
    "print(f\"Shape of y_test: {y_test.shape}\")"
   ],
   "metadata": {
    "collapsed": false,
    "pycharm": {
     "name": "#%%\n"
    }
   }
  },
  {
   "cell_type": "markdown",
   "source": [
    "## Scaling\n",
    "We scale the data with the MinMaxScaler to a range of $[0, 1]$"
   ],
   "metadata": {
    "collapsed": false,
    "pycharm": {
     "name": "#%% md\n"
    }
   }
  },
  {
   "cell_type": "code",
   "execution_count": 21,
   "outputs": [
    {
     "data": {
      "text/plain": "         0    1         2         3    4    5    6    7    8    9   ...  \\\n0  0.185232  0.0  0.312305  0.162231  0.0  0.0  0.0  1.0  0.0  0.0  ...   \n1  0.409930  0.0  0.351246  0.360630  0.0  0.0  0.0  1.0  0.0  0.0  ...   \n2  0.338001  0.0  0.477414  0.312393  0.0  1.0  1.0  0.0  0.0  0.0  ...   \n3  0.121579  0.0  0.325156  0.108085  0.0  0.0  0.0  1.0  0.0  0.0  ...   \n4  0.057925  0.0  0.004284  0.045645  0.0  1.0  0.0  1.0  0.0  0.0  ...   \n5  0.592616  1.0  0.401090  0.361238  0.0  1.0  1.0  0.0  0.0  0.0  ...   \n6  0.490770  1.0  0.338006  0.287925  0.0  0.0  0.0  1.0  0.0  0.0  ...   \n7  0.252069  0.0  0.454829  0.232001  0.0  1.0  1.0  0.0  0.0  0.0  ...   \n8  0.690643  0.0  0.279595  0.589348  0.0  0.0  1.0  0.0  0.0  0.0  ...   \n9  0.065563  0.0  0.188474  0.056143  0.0  0.0  1.0  0.0  0.0  0.0  ...   \n\n         28        29        30        31   32   33   34   35        36   37  \n0  0.000000  0.012379  0.481453  0.197183  1.0  0.0  0.0  1.0  0.000000  0.0  \n1  0.000000  0.005208  0.588948  0.119718  1.0  0.0  0.0  1.0  0.000000  0.0  \n2  0.000000  0.009032  0.443603  0.042254  1.0  0.0  0.0  1.0  0.000000  0.0  \n3  0.000000  0.016759  0.540500  0.197183  0.0  1.0  0.0  1.0  0.115385  0.0  \n4  0.000000  0.002309  0.146858  0.147887  1.0  0.0  0.0  1.0  0.038462  0.0  \n5  0.000000  0.012097  0.470098  0.260563  1.0  0.0  0.0  1.0  0.192308  0.0  \n6  0.098361  0.019914  0.741862  0.070423  0.0  1.0  0.0  1.0  0.115385  0.0  \n7  0.000000  0.006525  0.616200  0.126761  1.0  0.0  0.0  1.0  0.000000  0.0  \n8  0.000000  0.002925  0.068887  0.154930  1.0  0.0  0.0  1.0  0.038462  0.0  \n9  0.000000  0.003843  0.367903  0.105634  0.0  1.0  0.0  1.0  0.000000  0.0  \n\n[10 rows x 38 columns]",
      "text/html": "<div>\n<style scoped>\n    .dataframe tbody tr th:only-of-type {\n        vertical-align: middle;\n    }\n\n    .dataframe tbody tr th {\n        vertical-align: top;\n    }\n\n    .dataframe thead th {\n        text-align: right;\n    }\n</style>\n<table border=\"1\" class=\"dataframe\">\n  <thead>\n    <tr style=\"text-align: right;\">\n      <th></th>\n      <th>0</th>\n      <th>1</th>\n      <th>2</th>\n      <th>3</th>\n      <th>4</th>\n      <th>5</th>\n      <th>6</th>\n      <th>7</th>\n      <th>8</th>\n      <th>9</th>\n      <th>...</th>\n      <th>28</th>\n      <th>29</th>\n      <th>30</th>\n      <th>31</th>\n      <th>32</th>\n      <th>33</th>\n      <th>34</th>\n      <th>35</th>\n      <th>36</th>\n      <th>37</th>\n    </tr>\n  </thead>\n  <tbody>\n    <tr>\n      <th>0</th>\n      <td>0.185232</td>\n      <td>0.0</td>\n      <td>0.312305</td>\n      <td>0.162231</td>\n      <td>0.0</td>\n      <td>0.0</td>\n      <td>0.0</td>\n      <td>1.0</td>\n      <td>0.0</td>\n      <td>0.0</td>\n      <td>...</td>\n      <td>0.000000</td>\n      <td>0.012379</td>\n      <td>0.481453</td>\n      <td>0.197183</td>\n      <td>1.0</td>\n      <td>0.0</td>\n      <td>0.0</td>\n      <td>1.0</td>\n      <td>0.000000</td>\n      <td>0.0</td>\n    </tr>\n    <tr>\n      <th>1</th>\n      <td>0.409930</td>\n      <td>0.0</td>\n      <td>0.351246</td>\n      <td>0.360630</td>\n      <td>0.0</td>\n      <td>0.0</td>\n      <td>0.0</td>\n      <td>1.0</td>\n      <td>0.0</td>\n      <td>0.0</td>\n      <td>...</td>\n      <td>0.000000</td>\n      <td>0.005208</td>\n      <td>0.588948</td>\n      <td>0.119718</td>\n      <td>1.0</td>\n      <td>0.0</td>\n      <td>0.0</td>\n      <td>1.0</td>\n      <td>0.000000</td>\n      <td>0.0</td>\n    </tr>\n    <tr>\n      <th>2</th>\n      <td>0.338001</td>\n      <td>0.0</td>\n      <td>0.477414</td>\n      <td>0.312393</td>\n      <td>0.0</td>\n      <td>1.0</td>\n      <td>1.0</td>\n      <td>0.0</td>\n      <td>0.0</td>\n      <td>0.0</td>\n      <td>...</td>\n      <td>0.000000</td>\n      <td>0.009032</td>\n      <td>0.443603</td>\n      <td>0.042254</td>\n      <td>1.0</td>\n      <td>0.0</td>\n      <td>0.0</td>\n      <td>1.0</td>\n      <td>0.000000</td>\n      <td>0.0</td>\n    </tr>\n    <tr>\n      <th>3</th>\n      <td>0.121579</td>\n      <td>0.0</td>\n      <td>0.325156</td>\n      <td>0.108085</td>\n      <td>0.0</td>\n      <td>0.0</td>\n      <td>0.0</td>\n      <td>1.0</td>\n      <td>0.0</td>\n      <td>0.0</td>\n      <td>...</td>\n      <td>0.000000</td>\n      <td>0.016759</td>\n      <td>0.540500</td>\n      <td>0.197183</td>\n      <td>0.0</td>\n      <td>1.0</td>\n      <td>0.0</td>\n      <td>1.0</td>\n      <td>0.115385</td>\n      <td>0.0</td>\n    </tr>\n    <tr>\n      <th>4</th>\n      <td>0.057925</td>\n      <td>0.0</td>\n      <td>0.004284</td>\n      <td>0.045645</td>\n      <td>0.0</td>\n      <td>1.0</td>\n      <td>0.0</td>\n      <td>1.0</td>\n      <td>0.0</td>\n      <td>0.0</td>\n      <td>...</td>\n      <td>0.000000</td>\n      <td>0.002309</td>\n      <td>0.146858</td>\n      <td>0.147887</td>\n      <td>1.0</td>\n      <td>0.0</td>\n      <td>0.0</td>\n      <td>1.0</td>\n      <td>0.038462</td>\n      <td>0.0</td>\n    </tr>\n    <tr>\n      <th>5</th>\n      <td>0.592616</td>\n      <td>1.0</td>\n      <td>0.401090</td>\n      <td>0.361238</td>\n      <td>0.0</td>\n      <td>1.0</td>\n      <td>1.0</td>\n      <td>0.0</td>\n      <td>0.0</td>\n      <td>0.0</td>\n      <td>...</td>\n      <td>0.000000</td>\n      <td>0.012097</td>\n      <td>0.470098</td>\n      <td>0.260563</td>\n      <td>1.0</td>\n      <td>0.0</td>\n      <td>0.0</td>\n      <td>1.0</td>\n      <td>0.192308</td>\n      <td>0.0</td>\n    </tr>\n    <tr>\n      <th>6</th>\n      <td>0.490770</td>\n      <td>1.0</td>\n      <td>0.338006</td>\n      <td>0.287925</td>\n      <td>0.0</td>\n      <td>0.0</td>\n      <td>0.0</td>\n      <td>1.0</td>\n      <td>0.0</td>\n      <td>0.0</td>\n      <td>...</td>\n      <td>0.098361</td>\n      <td>0.019914</td>\n      <td>0.741862</td>\n      <td>0.070423</td>\n      <td>0.0</td>\n      <td>1.0</td>\n      <td>0.0</td>\n      <td>1.0</td>\n      <td>0.115385</td>\n      <td>0.0</td>\n    </tr>\n    <tr>\n      <th>7</th>\n      <td>0.252069</td>\n      <td>0.0</td>\n      <td>0.454829</td>\n      <td>0.232001</td>\n      <td>0.0</td>\n      <td>1.0</td>\n      <td>1.0</td>\n      <td>0.0</td>\n      <td>0.0</td>\n      <td>0.0</td>\n      <td>...</td>\n      <td>0.000000</td>\n      <td>0.006525</td>\n      <td>0.616200</td>\n      <td>0.126761</td>\n      <td>1.0</td>\n      <td>0.0</td>\n      <td>0.0</td>\n      <td>1.0</td>\n      <td>0.000000</td>\n      <td>0.0</td>\n    </tr>\n    <tr>\n      <th>8</th>\n      <td>0.690643</td>\n      <td>0.0</td>\n      <td>0.279595</td>\n      <td>0.589348</td>\n      <td>0.0</td>\n      <td>0.0</td>\n      <td>1.0</td>\n      <td>0.0</td>\n      <td>0.0</td>\n      <td>0.0</td>\n      <td>...</td>\n      <td>0.000000</td>\n      <td>0.002925</td>\n      <td>0.068887</td>\n      <td>0.154930</td>\n      <td>1.0</td>\n      <td>0.0</td>\n      <td>0.0</td>\n      <td>1.0</td>\n      <td>0.038462</td>\n      <td>0.0</td>\n    </tr>\n    <tr>\n      <th>9</th>\n      <td>0.065563</td>\n      <td>0.0</td>\n      <td>0.188474</td>\n      <td>0.056143</td>\n      <td>0.0</td>\n      <td>0.0</td>\n      <td>1.0</td>\n      <td>0.0</td>\n      <td>0.0</td>\n      <td>0.0</td>\n      <td>...</td>\n      <td>0.000000</td>\n      <td>0.003843</td>\n      <td>0.367903</td>\n      <td>0.105634</td>\n      <td>0.0</td>\n      <td>1.0</td>\n      <td>0.0</td>\n      <td>1.0</td>\n      <td>0.000000</td>\n      <td>0.0</td>\n    </tr>\n  </tbody>\n</table>\n<p>10 rows × 38 columns</p>\n</div>"
     },
     "execution_count": 21,
     "metadata": {},
     "output_type": "execute_result"
    }
   ],
   "source": [
    "# Init object\n",
    "scaler = MinMaxScaler()\n",
    "# Scale X_train\n",
    "X_train_scaled = scaler.fit_transform(X_train)\n",
    "X_train_scaled = pd.DataFrame(X_train_scaled)\n",
    "# Scale X_test\n",
    "X_test_scaled = scaler.transform(X_test)\n",
    "X_test_scaled = pd.DataFrame(X_test_scaled)\n",
    "# Scale whole X for CV\n",
    "X_scaled = scaler.fit_transform(X)\n",
    "\n",
    "# Preview X_train_scaled\n",
    "X_train_scaled.head(10)"
   ],
   "metadata": {
    "collapsed": false,
    "pycharm": {
     "name": "#%%\n"
    }
   }
  },
  {
   "cell_type": "markdown",
   "source": [
    "---\n",
    "# Task 3: Logistic Regression In Sample\n",
    "Use logistic regression (in-sample) for default prediction. Interpret your results for logistic regression"
   ],
   "metadata": {
    "collapsed": false,
    "pycharm": {
     "name": "#%% md\n"
    }
   }
  },
  {
   "cell_type": "code",
   "execution_count": 26,
   "outputs": [
    {
     "name": "stdout",
     "output_type": "stream",
     "text": [
      "Best params: {'C': 2, 'fit_intercept': True, 'max_iter': 1000, 'tol': 0.001} with a score of 0.6515\n"
     ]
    }
   ],
   "source": [
    "# Fit Model via GridSearch + Cross Validation\n",
    "param_grid = {\"tol\": [0.001, 0.0001],\n",
    "              'fit_intercept': [True, False],\n",
    "              'max_iter': [1000],\n",
    "              'C': [0.5, 1, 2]}\n",
    "# Apply GridSearch with above defined grid\n",
    "grid_cv = GridSearchCV(estimator = LogisticRegression(),\n",
    "                       param_grid=param_grid,\n",
    "                       n_jobs=-1,\n",
    "                       cv=5)\n",
    "# Fit Grid CV with all X scaled + y\n",
    "grid_cv.fit(X_scaled, y)\n",
    "# Output best params\n",
    "print(f\"Best params: {grid_cv.best_params_} with a score of {grid_cv.best_score_:.4f}\")"
   ],
   "metadata": {
    "collapsed": false,
    "pycharm": {
     "name": "#%%\n"
    }
   }
  },
  {
   "cell_type": "code",
   "execution_count": 27,
   "outputs": [
    {
     "data": {
      "text/plain": "    mean_fit_time  std_fit_time  mean_score_time  std_score_time param_C  \\\n8        2.780217      0.268206         0.006669        0.001615       2   \n9        2.805369      0.265510         0.009436        0.002871       2   \n10       2.743383      0.158505         0.007259        0.001288       2   \n11       2.598634      0.184495         0.005838        0.002819       2   \n4        2.341589      0.242751         0.007105        0.003009       1   \n\n   param_fit_intercept param_max_iter param_tol  \\\n8                 True           1000     0.001   \n9                 True           1000    0.0001   \n10               False           1000     0.001   \n11               False           1000    0.0001   \n4                 True           1000     0.001   \n\n                                               params  split0_test_score  \\\n8   {'C': 2, 'fit_intercept': True, 'max_iter': 10...           0.653119   \n9   {'C': 2, 'fit_intercept': True, 'max_iter': 10...           0.653119   \n10  {'C': 2, 'fit_intercept': False, 'max_iter': 1...           0.653119   \n11  {'C': 2, 'fit_intercept': False, 'max_iter': 1...           0.653119   \n4   {'C': 1, 'fit_intercept': True, 'max_iter': 10...           0.652712   \n\n    split1_test_score  split2_test_score  split3_test_score  \\\n8            0.645626           0.654069           0.655453   \n9            0.645626           0.654069           0.655453   \n10           0.645545           0.653906           0.655535   \n11           0.645545           0.653906           0.655535   \n4            0.645463           0.653173           0.655209   \n\n    split4_test_score  mean_test_score  std_test_score  rank_test_score  \n8            0.649018         0.651457        0.003619                1  \n9            0.649018         0.651457        0.003619                1  \n10           0.648693         0.651359        0.003686                3  \n11           0.648693         0.651359        0.003686                3  \n4            0.647227         0.650757        0.003741                5  ",
      "text/html": "<div>\n<style scoped>\n    .dataframe tbody tr th:only-of-type {\n        vertical-align: middle;\n    }\n\n    .dataframe tbody tr th {\n        vertical-align: top;\n    }\n\n    .dataframe thead th {\n        text-align: right;\n    }\n</style>\n<table border=\"1\" class=\"dataframe\">\n  <thead>\n    <tr style=\"text-align: right;\">\n      <th></th>\n      <th>mean_fit_time</th>\n      <th>std_fit_time</th>\n      <th>mean_score_time</th>\n      <th>std_score_time</th>\n      <th>param_C</th>\n      <th>param_fit_intercept</th>\n      <th>param_max_iter</th>\n      <th>param_tol</th>\n      <th>params</th>\n      <th>split0_test_score</th>\n      <th>split1_test_score</th>\n      <th>split2_test_score</th>\n      <th>split3_test_score</th>\n      <th>split4_test_score</th>\n      <th>mean_test_score</th>\n      <th>std_test_score</th>\n      <th>rank_test_score</th>\n    </tr>\n  </thead>\n  <tbody>\n    <tr>\n      <th>8</th>\n      <td>2.780217</td>\n      <td>0.268206</td>\n      <td>0.006669</td>\n      <td>0.001615</td>\n      <td>2</td>\n      <td>True</td>\n      <td>1000</td>\n      <td>0.001</td>\n      <td>{'C': 2, 'fit_intercept': True, 'max_iter': 10...</td>\n      <td>0.653119</td>\n      <td>0.645626</td>\n      <td>0.654069</td>\n      <td>0.655453</td>\n      <td>0.649018</td>\n      <td>0.651457</td>\n      <td>0.003619</td>\n      <td>1</td>\n    </tr>\n    <tr>\n      <th>9</th>\n      <td>2.805369</td>\n      <td>0.265510</td>\n      <td>0.009436</td>\n      <td>0.002871</td>\n      <td>2</td>\n      <td>True</td>\n      <td>1000</td>\n      <td>0.0001</td>\n      <td>{'C': 2, 'fit_intercept': True, 'max_iter': 10...</td>\n      <td>0.653119</td>\n      <td>0.645626</td>\n      <td>0.654069</td>\n      <td>0.655453</td>\n      <td>0.649018</td>\n      <td>0.651457</td>\n      <td>0.003619</td>\n      <td>1</td>\n    </tr>\n    <tr>\n      <th>10</th>\n      <td>2.743383</td>\n      <td>0.158505</td>\n      <td>0.007259</td>\n      <td>0.001288</td>\n      <td>2</td>\n      <td>False</td>\n      <td>1000</td>\n      <td>0.001</td>\n      <td>{'C': 2, 'fit_intercept': False, 'max_iter': 1...</td>\n      <td>0.653119</td>\n      <td>0.645545</td>\n      <td>0.653906</td>\n      <td>0.655535</td>\n      <td>0.648693</td>\n      <td>0.651359</td>\n      <td>0.003686</td>\n      <td>3</td>\n    </tr>\n    <tr>\n      <th>11</th>\n      <td>2.598634</td>\n      <td>0.184495</td>\n      <td>0.005838</td>\n      <td>0.002819</td>\n      <td>2</td>\n      <td>False</td>\n      <td>1000</td>\n      <td>0.0001</td>\n      <td>{'C': 2, 'fit_intercept': False, 'max_iter': 1...</td>\n      <td>0.653119</td>\n      <td>0.645545</td>\n      <td>0.653906</td>\n      <td>0.655535</td>\n      <td>0.648693</td>\n      <td>0.651359</td>\n      <td>0.003686</td>\n      <td>3</td>\n    </tr>\n    <tr>\n      <th>4</th>\n      <td>2.341589</td>\n      <td>0.242751</td>\n      <td>0.007105</td>\n      <td>0.003009</td>\n      <td>1</td>\n      <td>True</td>\n      <td>1000</td>\n      <td>0.001</td>\n      <td>{'C': 1, 'fit_intercept': True, 'max_iter': 10...</td>\n      <td>0.652712</td>\n      <td>0.645463</td>\n      <td>0.653173</td>\n      <td>0.655209</td>\n      <td>0.647227</td>\n      <td>0.650757</td>\n      <td>0.003741</td>\n      <td>5</td>\n    </tr>\n  </tbody>\n</table>\n</div>"
     },
     "execution_count": 27,
     "metadata": {},
     "output_type": "execute_result"
    }
   ],
   "source": [
    "cv_results = pd.DataFrame(grid_cv.cv_results_)\n",
    "cv_results = cv_results.sort_values(by=\"rank_test_score\", ascending=True)\n",
    "cv_results.head(5)"
   ],
   "metadata": {
    "collapsed": false,
    "pycharm": {
     "name": "#%%\n"
    }
   }
  },
  {
   "cell_type": "code",
   "execution_count": 20,
   "outputs": [
    {
     "data": {
      "text/plain": "<Figure size 432x288 with 2 Axes>",
      "image/png": "[encoded data removed]"
     },
     "metadata": {},
     "output_type": "display_data"
    },
    {
     "name": "stdout",
     "output_type": "stream",
     "text": [
      "              precision    recall  f1-score   support\n",
      "\n",
      "         0.0       0.67      0.76      0.71     34697\n",
      "         1.0       0.62      0.51      0.56     26690\n",
      "\n",
      "    accuracy                           0.65     61387\n",
      "   macro avg       0.65      0.64      0.64     61387\n",
      "weighted avg       0.65      0.65      0.65     61387\n",
      "\n"
     ]
    }
   ],
   "source": [
    "# Perform Logistic Regression on the best estimator selected by above Cross Validation\n",
    "y_pred = grid_cv.predict(X_scaled)\n",
    "\n",
    "# Plot Confusion matrix\n",
    "cm = confusion_matrix(y_true=y, y_pred=y_pred)\n",
    "sns.heatmap(cm, annot=True, fmt='d')\n",
    "plt.title(\"Confusion matrix\")\n",
    "plt.xlabel(\"Predicted\")\n",
    "plt.ylabel(\"Actual\")\n",
    "plt.show()\n",
    "\n",
    "# Plot classification report\n",
    "print(classification_report(y_true=y, y_pred=y_pred))"
   ],
   "metadata": {
    "collapsed": false,
    "pycharm": {
     "name": "#%%\n"
    }
   }
  },
  {
   "cell_type": "markdown",
   "source": [
    "## Interpretation:\n",
    "TBD"
   ],
   "metadata": {
    "collapsed": false,
    "pycharm": {
     "name": "#%% md\n"
    }
   }
  },
  {
   "cell_type": "markdown",
   "source": [
    "---\n",
    "# Task 4: Compare different classification models\n",
    "Comparing\n",
    "* logistic regression,\n",
    "* classification tree,\n",
    "* random forest,\n",
    "* bagging,\n",
    "* support vector machine (with two kernel functions),\n",
    "* and neural network\n",
    "\n",
    "for default prediction based on the out-of-sample performance measures (at least three different measures)."
   ],
   "metadata": {
    "collapsed": false,
    "pycharm": {
     "name": "#%% md\n"
    }
   }
  },
  {
   "cell_type": "code",
   "execution_count": 21,
   "outputs": [
    {
     "data": {
      "text/plain": "  0%|          | 0/7 [00:00<?, ?it/s]",
      "application/vnd.jupyter.widget-view+json": {
       "version_major": 2,
       "version_minor": 0,
       "model_id": "5d71c785720c4fc9875482afa0692441"
      }
     },
     "metadata": {},
     "output_type": "display_data"
    },
    {
     "name": "stdout",
     "output_type": "stream",
     "text": [
      "CPU times: user 217 ms, sys: 111 ms, total: 328 ms\n",
      "Wall time: 1min\n"
     ]
    }
   ],
   "source": [
    "%%time\n",
    "models = []\n",
    "\n",
    "models.append((\"LogisticRegression\",LogisticRegression(fit_intercept=True, max_iter=1000, solver=\"saga\")))\n",
    "models.append((\"DecisionTree\",DecisionTreeClassifier()))\n",
    "models.append((\"RandomForest\",RandomForestClassifier()))\n",
    "models.append((\"BaggingCLF\",BaggingClassifier()))\n",
    "models.append((\"SVC_rbf\",SVC(kernel='rbf', max_iter=500)))\n",
    "models.append((\"SVC_poly\",SVC(kernel=\"poly\", max_iter=500)))\n",
    "models.append((\"NeuronalNetwork\", MLPClassifier(alpha=1, max_iter=1000)))\n",
    "\n",
    "results = []\n",
    "names = []\n",
    "# Define scoring metrices for CV\n",
    "scoring = [\"accuracy\", \"precision_micro\", \"recall_micro\", \"f1_micro\"]\n",
    "for name, model in tqdm(models):\n",
    "    result = cross_validate(model, X_scaled, y,  cv=3, n_jobs=-1, scoring=scoring)\n",
    "    names.append(name)\n",
    "    results.append(result)"
   ],
   "metadata": {
    "collapsed": false,
    "pycharm": {
     "name": "#%%\n"
    }
   }
  },
  {
   "cell_type": "code",
   "execution_count": 22,
   "outputs": [
    {
     "data": {
      "text/plain": "                     fit_time  test_accuracy  test_precision_micro  \\\nRandomForest         9.028200         0.6785                0.6785   \nLogisticRegression   2.605700         0.6507                0.6507   \nNeuronalNetwork     16.946501         0.6472                0.6472   \nBaggingCLF          10.313500         0.6464                0.6464   \nDecisionTree         0.807500         0.6119                0.6119   \nSVC_rbf              4.733100         0.5712                0.5712   \nSVC_poly             3.126000         0.4769                0.4769   \n\n                    test_recall_micro  test_f1_micro  \nRandomForest                   0.6785         0.6785  \nLogisticRegression             0.6507         0.6507  \nNeuronalNetwork                0.6472         0.6472  \nBaggingCLF                     0.6464         0.6464  \nDecisionTree                   0.6119         0.6119  \nSVC_rbf                        0.5712         0.5712  \nSVC_poly                       0.4769         0.4769  ",
      "text/html": "<div>\n<style scoped>\n    .dataframe tbody tr th:only-of-type {\n        vertical-align: middle;\n    }\n\n    .dataframe tbody tr th {\n        vertical-align: top;\n    }\n\n    .dataframe thead th {\n        text-align: right;\n    }\n</style>\n<table border=\"1\" class=\"dataframe\">\n  <thead>\n    <tr style=\"text-align: right;\">\n      <th></th>\n      <th>fit_time</th>\n      <th>test_accuracy</th>\n      <th>test_precision_micro</th>\n      <th>test_recall_micro</th>\n      <th>test_f1_micro</th>\n    </tr>\n  </thead>\n  <tbody>\n    <tr>\n      <th>RandomForest</th>\n      <td>9.028200</td>\n      <td>0.6785</td>\n      <td>0.6785</td>\n      <td>0.6785</td>\n      <td>0.6785</td>\n    </tr>\n    <tr>\n      <th>LogisticRegression</th>\n      <td>2.605700</td>\n      <td>0.6507</td>\n      <td>0.6507</td>\n      <td>0.6507</td>\n      <td>0.6507</td>\n    </tr>\n    <tr>\n      <th>NeuronalNetwork</th>\n      <td>16.946501</td>\n      <td>0.6472</td>\n      <td>0.6472</td>\n      <td>0.6472</td>\n      <td>0.6472</td>\n    </tr>\n    <tr>\n      <th>BaggingCLF</th>\n      <td>10.313500</td>\n      <td>0.6464</td>\n      <td>0.6464</td>\n      <td>0.6464</td>\n      <td>0.6464</td>\n    </tr>\n    <tr>\n      <th>DecisionTree</th>\n      <td>0.807500</td>\n      <td>0.6119</td>\n      <td>0.6119</td>\n      <td>0.6119</td>\n      <td>0.6119</td>\n    </tr>\n    <tr>\n      <th>SVC_rbf</th>\n      <td>4.733100</td>\n      <td>0.5712</td>\n      <td>0.5712</td>\n      <td>0.5712</td>\n      <td>0.5712</td>\n    </tr>\n    <tr>\n      <th>SVC_poly</th>\n      <td>3.126000</td>\n      <td>0.4769</td>\n      <td>0.4769</td>\n      <td>0.4769</td>\n      <td>0.4769</td>\n    </tr>\n  </tbody>\n</table>\n</div>"
     },
     "execution_count": 22,
     "metadata": {},
     "output_type": "execute_result"
    }
   ],
   "source": [
    "# Get name of metrices (will be column in result_df)\n",
    "metrices = list(results[0].keys())\n",
    "# Create empty dataframe\n",
    "results_df = pd.DataFrame(index=names, columns=metrices, dtype=\"float32\")\n",
    "\n",
    "# File dataframe by iterating over all results and taking the mean value\n",
    "for i, name in enumerate(models):\n",
    "    mean_of_metrices = []\n",
    "    for key in results[i].keys():\n",
    "        mean_of_metrices.append(results[i].get(key).mean())\n",
    "    results_df.iloc[i] = mean_of_metrices\n",
    "\n",
    "# Drop scoring_time column as it is not of interest\n",
    "results_df.drop(\"score_time\", axis=1, inplace=True)\n",
    "# Round to 4 decimal places\n",
    "results_df = results_df.round(decimals=4)\n",
    "# Sort descending of f1 score\n",
    "results_df = results_df.sort_values(by=\"test_f1_micro\", ascending=False)\n",
    "# Preview\n",
    "results_df"
   ],
   "metadata": {
    "collapsed": false,
    "pycharm": {
     "name": "#%%\n"
    }
   }
  },
  {
   "cell_type": "markdown",
   "source": [
    "## Results:\n",
    "We can see that a RandomForest Model performs the best according to the f1 score, which is the harmonic mean between recall and precision. Also LogisticRegression, as a very good interpretable model, performs pretty well and is ranked 2nd. SVC, on the other hands, perform very poorly."
   ],
   "metadata": {
    "collapsed": false,
    "pycharm": {
     "name": "#%% md\n"
    }
   }
  },
  {
   "cell_type": "markdown",
   "source": [
    "---\n",
    "# Task 5: Use LASSO for feature selection and explain results"
   ],
   "metadata": {
    "collapsed": false,
    "pycharm": {
     "name": "#%% md\n"
    }
   }
  },
  {
   "cell_type": "code",
   "execution_count": 49,
   "outputs": [],
   "source": [
    "features = X_train.columns"
   ],
   "metadata": {
    "collapsed": false,
    "pycharm": {
     "name": "#%%\n"
    }
   }
  },
  {
   "cell_type": "markdown",
   "source": [
    "Do Hyperparameter Tuning for lasso. Especially in order to find the perfect lambda serving as a control fpr the relative impact of the regulization term for lasso nad also decides what features are selected. Since we ae using Lasso for feature selection, it is most likely to be sufficiently large in order to move some coefficients exactly towards zero."
   ],
   "metadata": {
    "collapsed": false,
    "pycharm": {
     "name": "#%% md\n"
    }
   }
  },
  {
   "cell_type": "code",
   "execution_count": 107,
   "outputs": [
    {
     "name": "stdout",
     "output_type": "stream",
     "text": [
      "Fitting 5 folds for each of 40 candidates, totalling 200 fits\n",
      "CPU times: total: 1min 18s\n",
      "Wall time: 20.9 s\n"
     ]
    },
    {
     "data": {
      "text/plain": "GridSearchCV(cv=5,\n             estimator=Pipeline(steps=[('scaler', StandardScaler()),\n                                       ('model', Lasso())]),\n             param_grid={'model__alpha': [0.0001, 0.001, 0.01, 0.02, 1],\n                         'model__fit_intercept': [True, False],\n                         'model__positive': [True, False],\n                         'model__selection': ['cyclic', 'random']},\n             scoring='neg_mean_squared_error', verbose=1)"
     },
     "execution_count": 107,
     "metadata": {},
     "output_type": "execute_result"
    }
   ],
   "source": [
    "%%time\n",
    "# define model\n",
    "pipeline = Pipeline([\n",
    "                     ('scaler',StandardScaler()),\n",
    "                     ('model',Lasso())\n",
    "])\n",
    "# define parameters\n",
    "param_grid = param = {\n",
    "    'model__alpha':[0.0001, 0.001, 0.01, 0.02, 1],\n",
    "    'model__fit_intercept':[True,False],\n",
    "    'model__positive':[True,False],\n",
    "    'model__selection':['cyclic','random'],\n",
    "    }\n",
    "\n",
    "# define search\n",
    "search = GridSearchCV(pipeline,\n",
    "                      param_grid,\n",
    "                      cv = 5, scoring=\"neg_mean_squared_error\",verbose=1\n",
    "                      )\n",
    "# execute search\n",
    "search.fit(X_train,y_train)"
   ],
   "metadata": {
    "collapsed": false,
    "pycharm": {
     "name": "#%%\n"
    }
   }
  },
  {
   "cell_type": "code",
   "execution_count": 108,
   "outputs": [
    {
     "name": "stdout",
     "output_type": "stream",
     "text": [
      "Best Score: -0.214805206656456\n",
      "Best Hyperparameters: {'model__alpha': 0.0001, 'model__fit_intercept': True, 'model__positive': False, 'model__selection': 'cyclic'}\n"
     ]
    }
   ],
   "source": [
    "# summarize result\n",
    "print(f\"Best Score: {search.best_score_}\")\n",
    "print(f\"Best Hyperparameters: {search.best_params_}\")"
   ],
   "metadata": {
    "collapsed": false,
    "pycharm": {
     "name": "#%%\n"
    }
   }
  },
  {
   "cell_type": "markdown",
   "source": [
    "Having found the best estimator we now can take a look which features we keep and which we discard."
   ],
   "metadata": {
    "collapsed": false,
    "pycharm": {
     "name": "#%% md\n"
    }
   }
  },
  {
   "cell_type": "code",
   "execution_count": 109,
   "outputs": [],
   "source": [
    "# values of the coefficients\n",
    "coefficients = search.best_estimator_.named_steps['model'].coef_\n",
    "# importance of a feature = absolute value of its coefficient\n",
    "importance = np.abs(coefficients)\n",
    "assert(len(features) == len(importance))\n",
    "# selected features\n",
    "selected_features = np.array(features)[importance > 0]\n",
    "# discarded features\n",
    "discarded_features = np.array(features)[importance == 0]"
   ],
   "metadata": {
    "collapsed": false,
    "pycharm": {
     "name": "#%%\n"
    }
   }
  },
  {
   "cell_type": "markdown",
   "source": [
    "## Results:"
   ],
   "metadata": {
    "collapsed": false,
    "pycharm": {
     "name": "#%% md\n"
    }
   }
  },
  {
   "cell_type": "markdown",
   "source": [
    "**Feature Selection**\n",
    "\n",
    "Trough selecting aplpha = 0.0001, the features importance is reduced, where the feature importance itself being the absolute value of its coefficient. Therefore a discarded features importance is denoted by zero value given in the below table and on the other hand those we will keep are denoted by higher value as zero.\n",
    "\n"
   ],
   "metadata": {
    "collapsed": false,
    "pycharm": {
     "name": "#%% md\n"
    }
   }
  },
  {
   "cell_type": "code",
   "execution_count": 110,
   "outputs": [
    {
     "name": "stdout",
     "output_type": "stream",
     "text": [
      "Importances: \n",
      " [5.7252306e-02 7.8665622e-02 9.9236540e-02 6.9171391e-02 0.0000000e+00\n",
      " 3.7471997e-03 2.6671896e-03 5.7005086e-03 0.0000000e+00 1.1198654e-02\n",
      " 9.2563694e-03 4.7646970e-03 4.5535145e-03 1.3771922e-03 6.5159495e-03\n",
      " 1.2490915e-05 0.0000000e+00 1.1623768e-03 5.1831072e-03 2.0059988e-02\n",
      " 7.9241367e-03 0.0000000e+00 1.5222744e-02 2.4622604e-03 3.1591170e-02\n",
      " 3.6520928e-02 0.0000000e+00 2.4904076e-02 7.5577409e-03 9.0689240e-03\n",
      " 9.6530830e-03 1.9168461e-02 1.0136605e-02 0.0000000e+00 2.5552218e-03\n",
      " 4.1441046e-09 1.8310251e-02 2.8495508e-04] \n",
      "------------------------------------------------------------\n",
      "Selected Features: ['loan_amnt' 'term' 'int_rate' 'installment' 'grade_1' 'grade_2' 'grade_3'\n",
      " 'sub_grade_1' 'sub_grade_2' 'sub_grade_3' 'sub_grade_4' 'sub_grade_5'\n",
      " 'sub_grade_6' 'emp_length' 'home_ownership_1' 'home_ownership_2'\n",
      " 'home_ownership_3' 'annual_inc' 'verification_status_1'\n",
      " 'verification_status_2' 'dti' 'fico_range_low' 'open_acc' 'pub_rec'\n",
      " 'revol_bal' 'revol_util' 'total_acc' 'initial_list_status_0'\n",
      " 'application_type_0' 'application_type_1' 'mort_acc'\n",
      " 'pub_rec_bankruptcies'] \n",
      "------------------------------------------------------------\n",
      "Discarded Features: ['grade_0' 'sub_grade_0' 'home_ownership_0' 'verification_status_0'\n",
      " 'fico_range_high' 'initial_list_status_1'] \n",
      "------------------------------------------------------------\n"
     ]
    }
   ],
   "source": [
    "print(f\"Importances: \\n {importance} \\n\" + \"-\" * 60)\n",
    "print(f\"Selected Features: {selected_features} \\n\" + \"-\" * 60)\n",
    "print(f\"Discarded Features: {discarded_features} \\n\" + \"-\" * 60)"
   ],
   "metadata": {
    "collapsed": false,
    "pycharm": {
     "name": "#%%\n"
    }
   }
  },
  {
   "cell_type": "markdown",
   "source": [
    "**Performance**"
   ],
   "metadata": {
    "collapsed": false,
    "pycharm": {
     "name": "#%% md\n"
    }
   }
  },
  {
   "cell_type": "code",
   "execution_count": 111,
   "outputs": [
    {
     "name": "stdout",
     "output_type": "stream",
     "text": [
      "R2 score:  0.12516250772628912 \n",
      "------------------------------------------------------------\n"
     ]
    },
    {
     "data": {
      "text/plain": "<seaborn.axisgrid.FacetGrid at 0x1eb3d8202e0>"
     },
     "execution_count": 111,
     "metadata": {},
     "output_type": "execute_result"
    },
    {
     "data": {
      "text/plain": "<Figure size 360x360 with 1 Axes>",
      "image/png": "[encoded data removed]"
     },
     "metadata": {},
     "output_type": "display_data"
    }
   ],
   "source": [
    "# predictions\n",
    "y_pred = search.predict(X_test)\n",
    "# visualizing the results\n",
    "print(\"R2 score: \" , r2_score(y_test,y_pred), \"\\n\" + \"-\" * 60)\n",
    "sns.displot(y_test-y_pred).set(title=\"difference of y_true & y_pred\")"
   ],
   "metadata": {
    "collapsed": false,
    "pycharm": {
     "name": "#%%\n"
    }
   }
  },
  {
   "cell_type": "markdown",
   "source": [
    "**How does the penalty parameter alpha (lambda in theoretical formula) impact features in our Lasso Regression?**"
   ],
   "metadata": {
    "collapsed": false,
    "pycharm": {
     "name": "#%% md\n"
    }
   }
  },
  {
   "cell_type": "code",
   "execution_count": 112,
   "outputs": [],
   "source": [
    "# Create a function called lasso,\n",
    "def lasso(alphas):\n",
    "\n",
    "    # Create an empty data frame\n",
    "    df = pd.DataFrame()\n",
    "\n",
    "    # Create a column of feature names\n",
    "    df['Feature Name'] = features\n",
    "\n",
    "    # For each alpha value in the list of alpha values,\n",
    "    for alpha in alphas:\n",
    "    # Create a lasso regression with that alpha value,\n",
    "        lasso = Lasso(alpha=alpha)\n",
    "\n",
    "        # Fit the lasso regression\n",
    "        lasso.fit(X_train_scaled, y_train)\n",
    "\n",
    "        # Create a column name for that alpha value\n",
    "        column_name = 'Alpha = %f' % alpha\n",
    "\n",
    "        # Create a column of absolute coefficient values\n",
    "        df[column_name] = np.abs(lasso.coef_)\n",
    "\n",
    "    # Return the dataframe\n",
    "    return df"
   ],
   "metadata": {
    "collapsed": false,
    "pycharm": {
     "name": "#%%\n"
    }
   }
  },
  {
   "cell_type": "code",
   "execution_count": 113,
   "outputs": [
    {
     "data": {
      "text/plain": "             Feature Name  Alpha = 0.000100  Alpha = 0.001000  \\\n0               loan_amnt          0.088900          0.000000   \n1                    term          0.146066          0.126691   \n2                int_rate          0.554942          0.570844   \n3             installment          0.170643          0.009732   \n4                 grade_0          0.000000          0.000000   \n5                 grade_1          0.008357          0.013793   \n6                 grade_2          0.005287          0.000000   \n7                 grade_3          0.011094          0.000000   \n8             sub_grade_0          0.000000          0.000000   \n9             sub_grade_1          0.090703          0.000000   \n10            sub_grade_2          0.018459          0.008526   \n11            sub_grade_3          0.008949          0.001363   \n12            sub_grade_4          0.008757          0.000000   \n13            sub_grade_5          0.002824          0.002393   \n14            sub_grade_6          0.013085          0.004256   \n15             emp_length          0.000000          0.000000   \n16       home_ownership_0          0.000000          0.000000   \n17       home_ownership_1          0.000000          0.000000   \n18       home_ownership_2          0.010705          0.011673   \n19       home_ownership_3          0.041882          0.049992   \n20             annual_inc          0.000000          0.000000   \n21  verification_status_0          0.000000          0.000000   \n22  verification_status_1          0.035330          0.038437   \n23  verification_status_2          0.003268          0.000000   \n24                    dti          2.059906          0.000000   \n25         fico_range_low          0.222865          0.172004   \n26        fico_range_high          0.000000          0.000000   \n27               open_acc          0.257443          0.089995   \n28                pub_rec          0.000000          0.000000   \n29              revol_bal          0.031102          0.000000   \n30             revol_util          0.056255          0.000000   \n31              total_acc          0.171380          0.000000   \n32  initial_list_status_0          0.021236          0.021315   \n33  initial_list_status_1          0.000000          0.000000   \n34     application_type_0          0.000000          0.000000   \n35     application_type_1          0.000000          0.000000   \n36               mort_acc          0.278746          0.129364   \n37   pub_rec_bankruptcies          0.048730          0.000000   \n\n    Alpha = 0.010000  Alpha = 1.000000  \n0           0.000000               0.0  \n1           0.115707               0.0  \n2           0.403540               0.0  \n3           0.000000               0.0  \n4           0.000000               0.0  \n5           0.000000               0.0  \n6           0.000000               0.0  \n7           0.000000               0.0  \n8           0.000000               0.0  \n9           0.000000               0.0  \n10          0.000000               0.0  \n11          0.000000               0.0  \n12          0.000000               0.0  \n13          0.000000               0.0  \n14          0.000000               0.0  \n15          0.000000               0.0  \n16          0.000000               0.0  \n17          0.000000               0.0  \n18          0.000000               0.0  \n19          0.038207               0.0  \n20          0.000000               0.0  \n21          0.000000               0.0  \n22          0.022484               0.0  \n23          0.000000               0.0  \n24          0.000000               0.0  \n25          0.000000               0.0  \n26          0.000000               0.0  \n27          0.000000               0.0  \n28          0.000000               0.0  \n29          0.000000               0.0  \n30          0.000000               0.0  \n31          0.000000               0.0  \n32          0.000000               0.0  \n33          0.000000               0.0  \n34          0.000000               0.0  \n35          0.000000               0.0  \n36          0.000000               0.0  \n37          0.000000               0.0  ",
      "text/html": "<div>\n<style scoped>\n    .dataframe tbody tr th:only-of-type {\n        vertical-align: middle;\n    }\n\n    .dataframe tbody tr th {\n        vertical-align: top;\n    }\n\n    .dataframe thead th {\n        text-align: right;\n    }\n</style>\n<table border=\"1\" class=\"dataframe\">\n  <thead>\n    <tr style=\"text-align: right;\">\n      <th></th>\n      <th>Feature Name</th>\n      <th>Alpha = 0.000100</th>\n      <th>Alpha = 0.001000</th>\n      <th>Alpha = 0.010000</th>\n      <th>Alpha = 1.000000</th>\n    </tr>\n  </thead>\n  <tbody>\n    <tr>\n      <th>0</th>\n      <td>loan_amnt</td>\n      <td>0.088900</td>\n      <td>0.000000</td>\n      <td>0.000000</td>\n      <td>0.0</td>\n    </tr>\n    <tr>\n      <th>1</th>\n      <td>term</td>\n      <td>0.146066</td>\n      <td>0.126691</td>\n      <td>0.115707</td>\n      <td>0.0</td>\n    </tr>\n    <tr>\n      <th>2</th>\n      <td>int_rate</td>\n      <td>0.554942</td>\n      <td>0.570844</td>\n      <td>0.403540</td>\n      <td>0.0</td>\n    </tr>\n    <tr>\n      <th>3</th>\n      <td>installment</td>\n      <td>0.170643</td>\n      <td>0.009732</td>\n      <td>0.000000</td>\n      <td>0.0</td>\n    </tr>\n    <tr>\n      <th>4</th>\n      <td>grade_0</td>\n      <td>0.000000</td>\n      <td>0.000000</td>\n      <td>0.000000</td>\n      <td>0.0</td>\n    </tr>\n    <tr>\n      <th>5</th>\n      <td>grade_1</td>\n      <td>0.008357</td>\n      <td>0.013793</td>\n      <td>0.000000</td>\n      <td>0.0</td>\n    </tr>\n    <tr>\n      <th>6</th>\n      <td>grade_2</td>\n      <td>0.005287</td>\n      <td>0.000000</td>\n      <td>0.000000</td>\n      <td>0.0</td>\n    </tr>\n    <tr>\n      <th>7</th>\n      <td>grade_3</td>\n      <td>0.011094</td>\n      <td>0.000000</td>\n      <td>0.000000</td>\n      <td>0.0</td>\n    </tr>\n    <tr>\n      <th>8</th>\n      <td>sub_grade_0</td>\n      <td>0.000000</td>\n      <td>0.000000</td>\n      <td>0.000000</td>\n      <td>0.0</td>\n    </tr>\n    <tr>\n      <th>9</th>\n      <td>sub_grade_1</td>\n      <td>0.090703</td>\n      <td>0.000000</td>\n      <td>0.000000</td>\n      <td>0.0</td>\n    </tr>\n    <tr>\n      <th>10</th>\n      <td>sub_grade_2</td>\n      <td>0.018459</td>\n      <td>0.008526</td>\n      <td>0.000000</td>\n      <td>0.0</td>\n    </tr>\n    <tr>\n      <th>11</th>\n      <td>sub_grade_3</td>\n      <td>0.008949</td>\n      <td>0.001363</td>\n      <td>0.000000</td>\n      <td>0.0</td>\n    </tr>\n    <tr>\n      <th>12</th>\n      <td>sub_grade_4</td>\n      <td>0.008757</td>\n      <td>0.000000</td>\n      <td>0.000000</td>\n      <td>0.0</td>\n    </tr>\n    <tr>\n      <th>13</th>\n      <td>sub_grade_5</td>\n      <td>0.002824</td>\n      <td>0.002393</td>\n      <td>0.000000</td>\n      <td>0.0</td>\n    </tr>\n    <tr>\n      <th>14</th>\n      <td>sub_grade_6</td>\n      <td>0.013085</td>\n      <td>0.004256</td>\n      <td>0.000000</td>\n      <td>0.0</td>\n    </tr>\n    <tr>\n      <th>15</th>\n      <td>emp_length</td>\n      <td>0.000000</td>\n      <td>0.000000</td>\n      <td>0.000000</td>\n      <td>0.0</td>\n    </tr>\n    <tr>\n      <th>16</th>\n      <td>home_ownership_0</td>\n      <td>0.000000</td>\n      <td>0.000000</td>\n      <td>0.000000</td>\n      <td>0.0</td>\n    </tr>\n    <tr>\n      <th>17</th>\n      <td>home_ownership_1</td>\n      <td>0.000000</td>\n      <td>0.000000</td>\n      <td>0.000000</td>\n      <td>0.0</td>\n    </tr>\n    <tr>\n      <th>18</th>\n      <td>home_ownership_2</td>\n      <td>0.010705</td>\n      <td>0.011673</td>\n      <td>0.000000</td>\n      <td>0.0</td>\n    </tr>\n    <tr>\n      <th>19</th>\n      <td>home_ownership_3</td>\n      <td>0.041882</td>\n      <td>0.049992</td>\n      <td>0.038207</td>\n      <td>0.0</td>\n    </tr>\n    <tr>\n      <th>20</th>\n      <td>annual_inc</td>\n      <td>0.000000</td>\n      <td>0.000000</td>\n      <td>0.000000</td>\n      <td>0.0</td>\n    </tr>\n    <tr>\n      <th>21</th>\n      <td>verification_status_0</td>\n      <td>0.000000</td>\n      <td>0.000000</td>\n      <td>0.000000</td>\n      <td>0.0</td>\n    </tr>\n    <tr>\n      <th>22</th>\n      <td>verification_status_1</td>\n      <td>0.035330</td>\n      <td>0.038437</td>\n      <td>0.022484</td>\n      <td>0.0</td>\n    </tr>\n    <tr>\n      <th>23</th>\n      <td>verification_status_2</td>\n      <td>0.003268</td>\n      <td>0.000000</td>\n      <td>0.000000</td>\n      <td>0.0</td>\n    </tr>\n    <tr>\n      <th>24</th>\n      <td>dti</td>\n      <td>2.059906</td>\n      <td>0.000000</td>\n      <td>0.000000</td>\n      <td>0.0</td>\n    </tr>\n    <tr>\n      <th>25</th>\n      <td>fico_range_low</td>\n      <td>0.222865</td>\n      <td>0.172004</td>\n      <td>0.000000</td>\n      <td>0.0</td>\n    </tr>\n    <tr>\n      <th>26</th>\n      <td>fico_range_high</td>\n      <td>0.000000</td>\n      <td>0.000000</td>\n      <td>0.000000</td>\n      <td>0.0</td>\n    </tr>\n    <tr>\n      <th>27</th>\n      <td>open_acc</td>\n      <td>0.257443</td>\n      <td>0.089995</td>\n      <td>0.000000</td>\n      <td>0.0</td>\n    </tr>\n    <tr>\n      <th>28</th>\n      <td>pub_rec</td>\n      <td>0.000000</td>\n      <td>0.000000</td>\n      <td>0.000000</td>\n      <td>0.0</td>\n    </tr>\n    <tr>\n      <th>29</th>\n      <td>revol_bal</td>\n      <td>0.031102</td>\n      <td>0.000000</td>\n      <td>0.000000</td>\n      <td>0.0</td>\n    </tr>\n    <tr>\n      <th>30</th>\n      <td>revol_util</td>\n      <td>0.056255</td>\n      <td>0.000000</td>\n      <td>0.000000</td>\n      <td>0.0</td>\n    </tr>\n    <tr>\n      <th>31</th>\n      <td>total_acc</td>\n      <td>0.171380</td>\n      <td>0.000000</td>\n      <td>0.000000</td>\n      <td>0.0</td>\n    </tr>\n    <tr>\n      <th>32</th>\n      <td>initial_list_status_0</td>\n      <td>0.021236</td>\n      <td>0.021315</td>\n      <td>0.000000</td>\n      <td>0.0</td>\n    </tr>\n    <tr>\n      <th>33</th>\n      <td>initial_list_status_1</td>\n      <td>0.000000</td>\n      <td>0.000000</td>\n      <td>0.000000</td>\n      <td>0.0</td>\n    </tr>\n    <tr>\n      <th>34</th>\n      <td>application_type_0</td>\n      <td>0.000000</td>\n      <td>0.000000</td>\n      <td>0.000000</td>\n      <td>0.0</td>\n    </tr>\n    <tr>\n      <th>35</th>\n      <td>application_type_1</td>\n      <td>0.000000</td>\n      <td>0.000000</td>\n      <td>0.000000</td>\n      <td>0.0</td>\n    </tr>\n    <tr>\n      <th>36</th>\n      <td>mort_acc</td>\n      <td>0.278746</td>\n      <td>0.129364</td>\n      <td>0.000000</td>\n      <td>0.0</td>\n    </tr>\n    <tr>\n      <th>37</th>\n      <td>pub_rec_bankruptcies</td>\n      <td>0.048730</td>\n      <td>0.000000</td>\n      <td>0.000000</td>\n      <td>0.0</td>\n    </tr>\n  </tbody>\n</table>\n</div>"
     },
     "execution_count": 113,
     "metadata": {},
     "output_type": "execute_result"
    }
   ],
   "source": [
    "lasso([.0001, 0.001, .01, 1])"
   ],
   "metadata": {
    "collapsed": false,
    "pycharm": {
     "name": "#%%\n"
    }
   }
  },
  {
   "cell_type": "markdown",
   "source": [
    "**Impact of ```alpha```:**\n",
    "Take a look at the impact of lambda on feature selection on X_train(scaled), y_train in the dataframe above. The dataframe compares the absolute coefficients value depending on used alpha. It shows, that in this use case a relative small lambda has a huge impact on the variable selection, so that when for example ````alpha```` = 1, every feature is discarded!\n",
    "\n",
    "Also it is clear, that as alpha increase features importance is reduced. This is denoted by zero value given in above tables."
   ],
   "metadata": {
    "collapsed": false,
    "pycharm": {
     "name": "#%% md\n"
    }
   }
  },
  {
   "cell_type": "markdown",
   "source": [
    "---\n",
    "# Task 6: Which model do you suggest to the peer-to-peer company? Why?\n",
    "We rate each model based on the following four criterias learned on the lecture:\n",
    "- Interpretability\n",
    "- Robustness\n",
    "- Speed\n",
    "- Scalability\n",
    "TODO"
   ],
   "metadata": {
    "collapsed": false,
    "pycharm": {
     "name": "#%% md\n"
    }
   }
  },
  {
   "cell_type": "code",
   "execution_count": null,
   "outputs": [],
   "source": [],
   "metadata": {
    "collapsed": false,
    "pycharm": {
     "name": "#%%\n"
    }
   }
  }
 ],
 "metadata": {
  "kernelspec": {
   "name": "python3",
   "language": "python",
   "display_name": "Python 3 (ipykernel)"
  },
  "language_info": {
   "codemirror_mode": {
    "name": "ipython",
    "version": 2
   },
   "file_extension": ".py",
   "mimetype": "text/x-python",
   "name": "python",
   "nbconvert_exporter": "python",
   "pygments_lexer": "ipython2",
   "version": "2.7.6"
  }
 },
 "nbformat": 4,
 "nbformat_minor": 0
}