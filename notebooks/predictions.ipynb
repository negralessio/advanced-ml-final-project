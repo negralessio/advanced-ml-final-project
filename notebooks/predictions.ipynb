{
 "cells": [
  {
   "cell_type": "code",
   "execution_count": 1,
   "metadata": {
    "collapsed": false,
    "pycharm": {
     "name": "#%%\n"
    }
   },
   "outputs": [],
   "source": [
    "import pandas as pd\n",
    "import numpy as np\n",
    "import matplotlib.pyplot as plt\n",
    "import seaborn as sns\n",
    "from sklearn.utils import resample\n",
    "# For modeling\n",
    "from sklearn.linear_model import LogisticRegression\n",
    "from sklearn.ensemble import RandomForestClassifier, BaggingClassifier\n",
    "from sklearn.tree import DecisionTreeClassifier\n",
    "from sklearn.neural_network import MLPClassifier\n",
    "from sklearn.metrics import confusion_matrix, classification_report\n",
    "from sklearn.model_selection import cross_val_score, train_test_split\n",
    "from sklearn.preprocessing import StandardScaler, MinMaxScaler\n",
    "from sklearn.svm import SVC\n",
    "from sklearn.pipeline import Pipeline\n",
    "from tqdm import tqdm\n",
    "from matplotlib.colors import ListedColormap\n",
    "#sns.set_palette('viridis')\n",
    "pd.options.mode.chained_assignment = None  # Supress warning, default='warn'"
   ]
  },
  {
   "cell_type": "markdown",
   "metadata": {
    "collapsed": false,
    "pycharm": {
     "name": "#%% md\n"
    }
   },
   "source": [
    "# Read Data\n",
    "In this section we read the data in after the preprocessing from the preprocessing notebook"
   ]
  },
  {
   "cell_type": "code",
   "execution_count": 2,
   "metadata": {
    "collapsed": false,
    "pycharm": {
     "name": "#%%\n"
    }
   },
   "outputs": [
    {
     "name": "stdout",
     "output_type": "stream",
     "text": [
      "Shape of df: (1345310, 101)\n"
     ]
    },
    {
     "data": {
      "text/plain": "   loan_amnt  funded_amnt  funded_amnt_inv term  int_rate  installment grade  \\\n0     3600.0       3600.0           3600.0   36     13.99       123.03     C   \n1    24700.0      24700.0          24700.0   36     11.99       820.28     C   \n2    20000.0      20000.0          20000.0   60     10.78       432.66     B   \n4    10400.0      10400.0          10400.0   60     22.45       289.91     F   \n5    11950.0      11950.0          11950.0   36     13.44       405.18     C   \n\n  sub_grade  emp_length home_ownership  ...  percent_bc_gt_75  \\\n0        C4        10.0       MORTGAGE  ...               0.0   \n1        C1        10.0       MORTGAGE  ...               7.7   \n2        B4        10.0       MORTGAGE  ...              50.0   \n4        F1         3.0       MORTGAGE  ...              60.0   \n5        C3         4.0           RENT  ...             100.0   \n\n  pub_rec_bankruptcies  tax_liens tot_hi_cred_lim total_bal_ex_mort  \\\n0                  0.0        0.0        178050.0            7746.0   \n1                  0.0        0.0        314017.0           39475.0   \n2                  0.0        0.0        218418.0           18696.0   \n4                  0.0        0.0        439570.0           95768.0   \n5                  0.0        0.0         16900.0           12798.0   \n\n  total_bc_limit  total_il_high_credit_limit  hardship_flag  \\\n0         2400.0                     13734.0              N   \n1        79300.0                     24667.0              N   \n2         6200.0                     14877.0              N   \n4        20300.0                     88097.0              N   \n5         9400.0                      4000.0              N   \n\n   disbursement_method  debt_settlement_flag  \n0                 Cash                     N  \n1                 Cash                     N  \n2                 Cash                     N  \n4                 Cash                     N  \n5                 Cash                     N  \n\n[5 rows x 101 columns]",
      "text/html": "<div>\n<style scoped>\n    .dataframe tbody tr th:only-of-type {\n        vertical-align: middle;\n    }\n\n    .dataframe tbody tr th {\n        vertical-align: top;\n    }\n\n    .dataframe thead th {\n        text-align: right;\n    }\n</style>\n<table border=\"1\" class=\"dataframe\">\n  <thead>\n    <tr style=\"text-align: right;\">\n      <th></th>\n      <th>loan_amnt</th>\n      <th>funded_amnt</th>\n      <th>funded_amnt_inv</th>\n      <th>term</th>\n      <th>int_rate</th>\n      <th>installment</th>\n      <th>grade</th>\n      <th>sub_grade</th>\n      <th>emp_length</th>\n      <th>home_ownership</th>\n      <th>...</th>\n      <th>percent_bc_gt_75</th>\n      <th>pub_rec_bankruptcies</th>\n      <th>tax_liens</th>\n      <th>tot_hi_cred_lim</th>\n      <th>total_bal_ex_mort</th>\n      <th>total_bc_limit</th>\n      <th>total_il_high_credit_limit</th>\n      <th>hardship_flag</th>\n      <th>disbursement_method</th>\n      <th>debt_settlement_flag</th>\n    </tr>\n  </thead>\n  <tbody>\n    <tr>\n      <th>0</th>\n      <td>3600.0</td>\n      <td>3600.0</td>\n      <td>3600.0</td>\n      <td>36</td>\n      <td>13.99</td>\n      <td>123.03</td>\n      <td>C</td>\n      <td>C4</td>\n      <td>10.0</td>\n      <td>MORTGAGE</td>\n      <td>...</td>\n      <td>0.0</td>\n      <td>0.0</td>\n      <td>0.0</td>\n      <td>178050.0</td>\n      <td>7746.0</td>\n      <td>2400.0</td>\n      <td>13734.0</td>\n      <td>N</td>\n      <td>Cash</td>\n      <td>N</td>\n    </tr>\n    <tr>\n      <th>1</th>\n      <td>24700.0</td>\n      <td>24700.0</td>\n      <td>24700.0</td>\n      <td>36</td>\n      <td>11.99</td>\n      <td>820.28</td>\n      <td>C</td>\n      <td>C1</td>\n      <td>10.0</td>\n      <td>MORTGAGE</td>\n      <td>...</td>\n      <td>7.7</td>\n      <td>0.0</td>\n      <td>0.0</td>\n      <td>314017.0</td>\n      <td>39475.0</td>\n      <td>79300.0</td>\n      <td>24667.0</td>\n      <td>N</td>\n      <td>Cash</td>\n      <td>N</td>\n    </tr>\n    <tr>\n      <th>2</th>\n      <td>20000.0</td>\n      <td>20000.0</td>\n      <td>20000.0</td>\n      <td>60</td>\n      <td>10.78</td>\n      <td>432.66</td>\n      <td>B</td>\n      <td>B4</td>\n      <td>10.0</td>\n      <td>MORTGAGE</td>\n      <td>...</td>\n      <td>50.0</td>\n      <td>0.0</td>\n      <td>0.0</td>\n      <td>218418.0</td>\n      <td>18696.0</td>\n      <td>6200.0</td>\n      <td>14877.0</td>\n      <td>N</td>\n      <td>Cash</td>\n      <td>N</td>\n    </tr>\n    <tr>\n      <th>4</th>\n      <td>10400.0</td>\n      <td>10400.0</td>\n      <td>10400.0</td>\n      <td>60</td>\n      <td>22.45</td>\n      <td>289.91</td>\n      <td>F</td>\n      <td>F1</td>\n      <td>3.0</td>\n      <td>MORTGAGE</td>\n      <td>...</td>\n      <td>60.0</td>\n      <td>0.0</td>\n      <td>0.0</td>\n      <td>439570.0</td>\n      <td>95768.0</td>\n      <td>20300.0</td>\n      <td>88097.0</td>\n      <td>N</td>\n      <td>Cash</td>\n      <td>N</td>\n    </tr>\n    <tr>\n      <th>5</th>\n      <td>11950.0</td>\n      <td>11950.0</td>\n      <td>11950.0</td>\n      <td>36</td>\n      <td>13.44</td>\n      <td>405.18</td>\n      <td>C</td>\n      <td>C3</td>\n      <td>4.0</td>\n      <td>RENT</td>\n      <td>...</td>\n      <td>100.0</td>\n      <td>0.0</td>\n      <td>0.0</td>\n      <td>16900.0</td>\n      <td>12798.0</td>\n      <td>9400.0</td>\n      <td>4000.0</td>\n      <td>N</td>\n      <td>Cash</td>\n      <td>N</td>\n    </tr>\n  </tbody>\n</table>\n<p>5 rows × 101 columns</p>\n</div>"
     },
     "execution_count": 2,
     "metadata": {},
     "output_type": "execute_result"
    }
   ],
   "source": [
    "df = pd.read_pickle('../data/preprocessed/accepted_df_preprocessed.pkl')\n",
    "print(f\"Shape of df: {df.shape}\")\n",
    "df.head(5)"
   ]
  },
  {
   "cell_type": "markdown",
   "source": [
    "# TAKE SUBSAMPLE OF DATA FOR COMPUTATION ISSUES (TODO: DELETE THIS LATER)"
   ],
   "metadata": {
    "collapsed": false,
    "pycharm": {
     "name": "#%% md\n"
    }
   }
  },
  {
   "cell_type": "code",
   "execution_count": 3,
   "outputs": [
    {
     "name": "stdout",
     "output_type": "stream",
     "text": [
      "(134531, 101)\n"
     ]
    }
   ],
   "source": [
    "df = df.sample(frac = 0.1)\n",
    "print(df.shape)"
   ],
   "metadata": {
    "collapsed": false,
    "pycharm": {
     "name": "#%%\n"
    }
   }
  },
  {
   "cell_type": "markdown",
   "metadata": {
    "collapsed": false,
    "pycharm": {
     "name": "#%% md\n"
    }
   },
   "source": [
    "# Model Preprocessing: Encode Features from categorical to numerical"
   ]
  },
  {
   "cell_type": "code",
   "execution_count": 4,
   "metadata": {
    "collapsed": false,
    "pycharm": {
     "name": "#%%\n"
    }
   },
   "outputs": [
    {
     "name": "stdout",
     "output_type": "stream",
     "text": [
      "float64    87\n",
      "object     13\n",
      "int64       1\n",
      "dtype: int64\n",
      "['term', 'grade', 'sub_grade', 'home_ownership', 'verification_status', 'pymnt_plan', 'purpose', 'addr_state', 'initial_list_status', 'application_type', 'hardship_flag', 'disbursement_method', 'debt_settlement_flag']\n"
     ]
    }
   ],
   "source": [
    "# Preview categorical data\n",
    "print(df.dtypes.value_counts())\n",
    "# Get categorical columns names\n",
    "cat_columns = df.select_dtypes(include=['object']).columns.tolist()\n",
    "# Preview\n",
    "print(cat_columns)"
   ]
  },
  {
   "cell_type": "markdown",
   "source": [
    "### Deleted irrelevant categorical features\n",
    "Delete categorical features that are not relevant for the Modelling or contain too many realization so that encoding them would be infeasible."
   ],
   "metadata": {
    "collapsed": false,
    "pycharm": {
     "name": "#%% md\n"
    }
   }
  },
  {
   "cell_type": "code",
   "execution_count": 5,
   "outputs": [
    {
     "name": "stdout",
     "output_type": "stream",
     "text": [
      "Categorical Columns to drop: ['term', 'grade', 'sub_grade', 'verification_status', 'purpose', 'addr_state', 'initial_list_status', 'application_type', 'hardship_flag', 'debt_settlement_flag']\n",
      "\n",
      "Shape of df before columns drop: (134531, 101)\n",
      "Shape of df after columns drop: (134531, 91)\n"
     ]
    }
   ],
   "source": [
    "# Keep: disbursement_method, home_ownership, pymnt_plan\n",
    "CAT_COLS_TO_KEEP = [\"disbursement_method\", \"home_ownership\", \"pymnt_plan\"]\n",
    "CAT_COLS_TO_DROP = [col for col in cat_columns if col not in CAT_COLS_TO_KEEP]\n",
    "\n",
    "print(f\"Categorical Columns to drop: {CAT_COLS_TO_DROP}\\n\")\n",
    "print(f\"Shape of df before columns drop: {df.shape}\")\n",
    "# Drop irrelevant categorical features\n",
    "df.drop(CAT_COLS_TO_DROP, axis=1, inplace=True)\n",
    "print(f\"Shape of df after columns drop: {df.shape}\")"
   ],
   "metadata": {
    "collapsed": false,
    "pycharm": {
     "name": "#%%\n"
    }
   }
  },
  {
   "cell_type": "code",
   "execution_count": 6,
   "outputs": [
    {
     "name": "stdout",
     "output_type": "stream",
     "text": [
      "float64    87\n",
      "object      3\n",
      "int64       1\n",
      "dtype: int64\n"
     ]
    }
   ],
   "source": [
    "print(df.dtypes.value_counts())"
   ],
   "metadata": {
    "collapsed": false,
    "pycharm": {
     "name": "#%%\n"
    }
   }
  },
  {
   "cell_type": "code",
   "execution_count": 7,
   "outputs": [],
   "source": [
    "# Testing: One-Hot-Encoding\n",
    "#df_ohe = pd.get_dummies(data=df, columns=cat_columns, drop_first=True)\n",
    "# check\n",
    "#df_ohe.dtypes.value_counts()"
   ],
   "metadata": {
    "collapsed": false,
    "pycharm": {
     "name": "#%%\n"
    }
   }
  },
  {
   "cell_type": "code",
   "execution_count": 8,
   "metadata": {
    "collapsed": false,
    "pycharm": {
     "name": "#%%\n"
    }
   },
   "outputs": [
    {
     "data": {
      "text/plain": "float64    87\nint64       7\ndtype: int64"
     },
     "execution_count": 8,
     "metadata": {},
     "output_type": "execute_result"
    }
   ],
   "source": [
    "# Binary Encoding\n",
    "import category_encoders as ce\n",
    "encoder = ce.BinaryEncoder(cols=CAT_COLS_TO_KEEP)\n",
    "df_binary = encoder.fit_transform(df)\n",
    "# check\n",
    "df_binary.dtypes.value_counts()"
   ]
  },
  {
   "cell_type": "code",
   "execution_count": 9,
   "metadata": {
    "collapsed": false,
    "pycharm": {
     "name": "#%%\n"
    }
   },
   "outputs": [
    {
     "data": {
      "text/plain": "float64    94\ndtype: int64"
     },
     "execution_count": 9,
     "metadata": {},
     "output_type": "execute_result"
    }
   ],
   "source": [
    "# Convert all values to float\n",
    "df_binary = df_binary.astype(float)\n",
    "df_binary.dtypes.value_counts()\n",
    "#df_ohe = df_ohe.astype(float)"
   ]
  },
  {
   "cell_type": "markdown",
   "source": [
    "## Preview preprocessed dataframe:"
   ],
   "metadata": {
    "collapsed": false,
    "pycharm": {
     "name": "#%% md\n"
    }
   }
  },
  {
   "cell_type": "code",
   "execution_count": 10,
   "outputs": [
    {
     "data": {
      "text/plain": "         loan_amnt  funded_amnt  funded_amnt_inv  int_rate  installment  \\\n1032488    16800.0      16800.0          16800.0      5.32       505.93   \n1541118    20000.0      20000.0          20000.0     12.13       665.53   \n932183      4000.0       4000.0           4000.0      7.21       123.90   \n1046561    21000.0      21000.0          21000.0      9.16       437.56   \n114521      5075.0       5075.0           5075.0     16.99       180.92   \n1240026    28000.0      28000.0          28000.0     15.61       675.12   \n746465      6500.0       6500.0           6500.0      5.32       195.75   \n1954123    20000.0      20000.0          20000.0     17.99       722.95   \n99492      22500.0      22500.0          22500.0      6.89       693.61   \n1709503     8000.0       8000.0           8000.0     11.49       263.78   \n\n         emp_length  home_ownership_0  home_ownership_1  home_ownership_2  \\\n1032488        10.0               0.0               0.0               1.0   \n1541118        10.0               0.0               0.0               1.0   \n932183         10.0               0.0               0.0               1.0   \n1046561         3.0               0.0               0.0               1.0   \n114521          0.0               0.0               1.0               0.0   \n1240026         0.0               0.0               0.0               1.0   \n746465          0.0               0.0               0.0               1.0   \n1954123         3.0               0.0               1.0               0.0   \n99492           2.0               0.0               0.0               1.0   \n1709503        10.0               0.0               1.0               1.0   \n\n         annual_inc  ...  pct_tl_nvr_dlq  percent_bc_gt_75  \\\n1032488     82000.0  ...            96.0               0.0   \n1541118     83000.0  ...            83.8             100.0   \n932183      48000.0  ...            90.9              50.0   \n1046561    125000.0  ...           100.0              20.0   \n114521      17000.0  ...            50.0               0.0   \n1240026    195000.0  ...            94.3              80.0   \n746465      57000.0  ...           100.0               0.0   \n1954123     80000.0  ...            85.7             100.0   \n99492      108000.0  ...           100.0              50.0   \n1709503     65000.0  ...            92.0              75.0   \n\n         pub_rec_bankruptcies  tax_liens  tot_hi_cred_lim  total_bal_ex_mort  \\\n1032488                   0.0        0.0         136210.0            27753.0   \n1541118                   0.0        0.0         182740.0            40474.0   \n932183                    0.0        0.0         110051.0            23366.0   \n1046561                   0.0        0.0         351296.0           159530.0   \n114521                    0.0        0.0           3800.0              333.0   \n1240026                   0.0        0.0         740629.0           128437.0   \n746465                    0.0        0.0         475277.0             7771.0   \n1954123                   0.0        0.0          29775.0            25363.0   \n99492                     0.0        0.0         134000.0            87527.0   \n1709503                   0.0        0.0          25813.0            11856.0   \n\n         total_bc_limit  total_il_high_credit_limit  disbursement_method_0  \\\n1032488         13000.0                     17110.0                    0.0   \n1541118          3500.0                     39640.0                    0.0   \n932183          15700.0                     29047.0                    0.0   \n1046561         53100.0                    127304.0                    0.0   \n114521           1100.0                         0.0                    0.0   \n1240026         38000.0                    157829.0                    0.0   \n746465          27000.0                     24777.0                    0.0   \n1954123           500.0                     25575.0                    0.0   \n99492           56900.0                     18000.0                    0.0   \n1709503         16000.0                      4013.0                    0.0   \n\n         disbursement_method_1  \n1032488                    1.0  \n1541118                    1.0  \n932183                     1.0  \n1046561                    1.0  \n114521                     1.0  \n1240026                    1.0  \n746465                     1.0  \n1954123                    1.0  \n99492                      1.0  \n1709503                    1.0  \n\n[10 rows x 94 columns]",
      "text/html": "<div>\n<style scoped>\n    .dataframe tbody tr th:only-of-type {\n        vertical-align: middle;\n    }\n\n    .dataframe tbody tr th {\n        vertical-align: top;\n    }\n\n    .dataframe thead th {\n        text-align: right;\n    }\n</style>\n<table border=\"1\" class=\"dataframe\">\n  <thead>\n    <tr style=\"text-align: right;\">\n      <th></th>\n      <th>loan_amnt</th>\n      <th>funded_amnt</th>\n      <th>funded_amnt_inv</th>\n      <th>int_rate</th>\n      <th>installment</th>\n      <th>emp_length</th>\n      <th>home_ownership_0</th>\n      <th>home_ownership_1</th>\n      <th>home_ownership_2</th>\n      <th>annual_inc</th>\n      <th>...</th>\n      <th>pct_tl_nvr_dlq</th>\n      <th>percent_bc_gt_75</th>\n      <th>pub_rec_bankruptcies</th>\n      <th>tax_liens</th>\n      <th>tot_hi_cred_lim</th>\n      <th>total_bal_ex_mort</th>\n      <th>total_bc_limit</th>\n      <th>total_il_high_credit_limit</th>\n      <th>disbursement_method_0</th>\n      <th>disbursement_method_1</th>\n    </tr>\n  </thead>\n  <tbody>\n    <tr>\n      <th>1032488</th>\n      <td>16800.0</td>\n      <td>16800.0</td>\n      <td>16800.0</td>\n      <td>5.32</td>\n      <td>505.93</td>\n      <td>10.0</td>\n      <td>0.0</td>\n      <td>0.0</td>\n      <td>1.0</td>\n      <td>82000.0</td>\n      <td>...</td>\n      <td>96.0</td>\n      <td>0.0</td>\n      <td>0.0</td>\n      <td>0.0</td>\n      <td>136210.0</td>\n      <td>27753.0</td>\n      <td>13000.0</td>\n      <td>17110.0</td>\n      <td>0.0</td>\n      <td>1.0</td>\n    </tr>\n    <tr>\n      <th>1541118</th>\n      <td>20000.0</td>\n      <td>20000.0</td>\n      <td>20000.0</td>\n      <td>12.13</td>\n      <td>665.53</td>\n      <td>10.0</td>\n      <td>0.0</td>\n      <td>0.0</td>\n      <td>1.0</td>\n      <td>83000.0</td>\n      <td>...</td>\n      <td>83.8</td>\n      <td>100.0</td>\n      <td>0.0</td>\n      <td>0.0</td>\n      <td>182740.0</td>\n      <td>40474.0</td>\n      <td>3500.0</td>\n      <td>39640.0</td>\n      <td>0.0</td>\n      <td>1.0</td>\n    </tr>\n    <tr>\n      <th>932183</th>\n      <td>4000.0</td>\n      <td>4000.0</td>\n      <td>4000.0</td>\n      <td>7.21</td>\n      <td>123.90</td>\n      <td>10.0</td>\n      <td>0.0</td>\n      <td>0.0</td>\n      <td>1.0</td>\n      <td>48000.0</td>\n      <td>...</td>\n      <td>90.9</td>\n      <td>50.0</td>\n      <td>0.0</td>\n      <td>0.0</td>\n      <td>110051.0</td>\n      <td>23366.0</td>\n      <td>15700.0</td>\n      <td>29047.0</td>\n      <td>0.0</td>\n      <td>1.0</td>\n    </tr>\n    <tr>\n      <th>1046561</th>\n      <td>21000.0</td>\n      <td>21000.0</td>\n      <td>21000.0</td>\n      <td>9.16</td>\n      <td>437.56</td>\n      <td>3.0</td>\n      <td>0.0</td>\n      <td>0.0</td>\n      <td>1.0</td>\n      <td>125000.0</td>\n      <td>...</td>\n      <td>100.0</td>\n      <td>20.0</td>\n      <td>0.0</td>\n      <td>0.0</td>\n      <td>351296.0</td>\n      <td>159530.0</td>\n      <td>53100.0</td>\n      <td>127304.0</td>\n      <td>0.0</td>\n      <td>1.0</td>\n    </tr>\n    <tr>\n      <th>114521</th>\n      <td>5075.0</td>\n      <td>5075.0</td>\n      <td>5075.0</td>\n      <td>16.99</td>\n      <td>180.92</td>\n      <td>0.0</td>\n      <td>0.0</td>\n      <td>1.0</td>\n      <td>0.0</td>\n      <td>17000.0</td>\n      <td>...</td>\n      <td>50.0</td>\n      <td>0.0</td>\n      <td>0.0</td>\n      <td>0.0</td>\n      <td>3800.0</td>\n      <td>333.0</td>\n      <td>1100.0</td>\n      <td>0.0</td>\n      <td>0.0</td>\n      <td>1.0</td>\n    </tr>\n    <tr>\n      <th>1240026</th>\n      <td>28000.0</td>\n      <td>28000.0</td>\n      <td>28000.0</td>\n      <td>15.61</td>\n      <td>675.12</td>\n      <td>0.0</td>\n      <td>0.0</td>\n      <td>0.0</td>\n      <td>1.0</td>\n      <td>195000.0</td>\n      <td>...</td>\n      <td>94.3</td>\n      <td>80.0</td>\n      <td>0.0</td>\n      <td>0.0</td>\n      <td>740629.0</td>\n      <td>128437.0</td>\n      <td>38000.0</td>\n      <td>157829.0</td>\n      <td>0.0</td>\n      <td>1.0</td>\n    </tr>\n    <tr>\n      <th>746465</th>\n      <td>6500.0</td>\n      <td>6500.0</td>\n      <td>6500.0</td>\n      <td>5.32</td>\n      <td>195.75</td>\n      <td>0.0</td>\n      <td>0.0</td>\n      <td>0.0</td>\n      <td>1.0</td>\n      <td>57000.0</td>\n      <td>...</td>\n      <td>100.0</td>\n      <td>0.0</td>\n      <td>0.0</td>\n      <td>0.0</td>\n      <td>475277.0</td>\n      <td>7771.0</td>\n      <td>27000.0</td>\n      <td>24777.0</td>\n      <td>0.0</td>\n      <td>1.0</td>\n    </tr>\n    <tr>\n      <th>1954123</th>\n      <td>20000.0</td>\n      <td>20000.0</td>\n      <td>20000.0</td>\n      <td>17.99</td>\n      <td>722.95</td>\n      <td>3.0</td>\n      <td>0.0</td>\n      <td>1.0</td>\n      <td>0.0</td>\n      <td>80000.0</td>\n      <td>...</td>\n      <td>85.7</td>\n      <td>100.0</td>\n      <td>0.0</td>\n      <td>0.0</td>\n      <td>29775.0</td>\n      <td>25363.0</td>\n      <td>500.0</td>\n      <td>25575.0</td>\n      <td>0.0</td>\n      <td>1.0</td>\n    </tr>\n    <tr>\n      <th>99492</th>\n      <td>22500.0</td>\n      <td>22500.0</td>\n      <td>22500.0</td>\n      <td>6.89</td>\n      <td>693.61</td>\n      <td>2.0</td>\n      <td>0.0</td>\n      <td>0.0</td>\n      <td>1.0</td>\n      <td>108000.0</td>\n      <td>...</td>\n      <td>100.0</td>\n      <td>50.0</td>\n      <td>0.0</td>\n      <td>0.0</td>\n      <td>134000.0</td>\n      <td>87527.0</td>\n      <td>56900.0</td>\n      <td>18000.0</td>\n      <td>0.0</td>\n      <td>1.0</td>\n    </tr>\n    <tr>\n      <th>1709503</th>\n      <td>8000.0</td>\n      <td>8000.0</td>\n      <td>8000.0</td>\n      <td>11.49</td>\n      <td>263.78</td>\n      <td>10.0</td>\n      <td>0.0</td>\n      <td>1.0</td>\n      <td>1.0</td>\n      <td>65000.0</td>\n      <td>...</td>\n      <td>92.0</td>\n      <td>75.0</td>\n      <td>0.0</td>\n      <td>0.0</td>\n      <td>25813.0</td>\n      <td>11856.0</td>\n      <td>16000.0</td>\n      <td>4013.0</td>\n      <td>0.0</td>\n      <td>1.0</td>\n    </tr>\n  </tbody>\n</table>\n<p>10 rows × 94 columns</p>\n</div>"
     },
     "execution_count": 10,
     "metadata": {},
     "output_type": "execute_result"
    }
   ],
   "source": [
    "df_binary.head(10)"
   ],
   "metadata": {
    "collapsed": false,
    "pycharm": {
     "name": "#%%\n"
    }
   }
  },
  {
   "cell_type": "markdown",
   "source": [
    "# Create Balanced Data Set via Downsampling"
   ],
   "metadata": {
    "collapsed": false,
    "pycharm": {
     "name": "#%% md\n"
    }
   }
  },
  {
   "cell_type": "code",
   "execution_count": 11,
   "metadata": {
    "collapsed": false,
    "pycharm": {
     "name": "#%%\n"
    }
   },
   "outputs": [
    {
     "name": "stdout",
     "output_type": "stream",
     "text": [
      "0.0    107691\n",
      "1.0     26840\n",
      "Name: loan_status, dtype: int64\n",
      "(134531, 94)\n"
     ]
    },
    {
     "data": {
      "text/plain": "<Figure size 432x288 with 1 Axes>",
      "image/png": "[encoded data removed]"
     },
     "metadata": {},
     "output_type": "display_data"
    }
   ],
   "source": [
    "print(df_binary.loan_status.value_counts())\n",
    "print(df_binary.shape)\n",
    "\n",
    "plt.title(\"Distribution of the target variable\", size=15)\n",
    "df_binary.groupby('loan_status').size().plot(kind='pie', y = \"loan_status\",\n",
    "                                             label = \"Type\", autopct='%1.1f%%',\n",
    "                                             wedgeprops = {\"edgecolor\": \"black\", \"alpha\": 0.75},\n",
    "                                             explode = [0.05, 0.05])\n",
    "plt.show()"
   ]
  },
  {
   "cell_type": "code",
   "execution_count": 12,
   "metadata": {
    "collapsed": false,
    "pycharm": {
     "name": "#%%\n"
    }
   },
   "outputs": [
    {
     "name": "stdout",
     "output_type": "stream",
     "text": [
      "0.0    34892\n",
      "1.0    26840\n",
      "Name: loan_status, dtype: int64\n"
     ]
    },
    {
     "data": {
      "text/plain": "<Figure size 432x288 with 1 Axes>",
      "image/png": "[encoded data removed]"
     },
     "metadata": {},
     "output_type": "display_data"
    }
   ],
   "source": [
    "# Downsampling\n",
    "loan_status_0 = df_binary[df_binary[\"loan_status\"] == 0.0]\n",
    "loan_status_1  = df_binary[df_binary[\"loan_status\"] == 1.0]\n",
    "\n",
    "loan_status_0_downsample = resample(loan_status_0,\n",
    "             replace=True,\n",
    "             n_samples=round(1.3*len(loan_status_1)),\n",
    "             random_state=42)\n",
    "\n",
    "df_binary_downsampled = pd.concat([loan_status_0_downsample, loan_status_1])\n",
    "\n",
    "print(df_binary_downsampled[\"loan_status\"].value_counts())\n",
    "# Plot settings\n",
    "plt.title(\"Distribution of the target variable\", size=15)\n",
    "df_binary_downsampled.groupby('loan_status').size().plot(kind='pie', y = \"loan_status\",\n",
    "                                             label = \"Type\", autopct='%1.1f%%',\n",
    "                                             wedgeprops = {\"edgecolor\": \"black\", \"alpha\": 0.75},\n",
    "                                             explode = [0.03, 0.03])\n",
    "plt.show()"
   ]
  },
  {
   "cell_type": "markdown",
   "source": [
    "# Data Imputation"
   ],
   "metadata": {
    "collapsed": false,
    "pycharm": {
     "name": "#%% md\n"
    }
   }
  },
  {
   "cell_type": "code",
   "execution_count": 13,
   "metadata": {
    "collapsed": false,
    "pycharm": {
     "name": "#%%\n"
    }
   },
   "outputs": [
    {
     "data": {
      "text/plain": "         loan_amnt  funded_amnt  funded_amnt_inv  int_rate  installment  \\\n1295675     2875.0       2875.0           2875.0     15.61       100.53   \n1937183    14000.0      14000.0          14000.0      9.91       451.15   \n109520     35000.0      35000.0          35000.0      7.89      1095.00   \n1618743     4200.0       4200.0           4200.0     12.69       140.89   \n222213     27000.0      27000.0          27000.0     12.69       610.06   \n\n         emp_length  home_ownership_0  home_ownership_1  home_ownership_2  \\\n1295675         6.0               0.0               1.0               0.0   \n1937183         4.0               0.0               0.0               1.0   \n109520          0.0               0.0               0.0               1.0   \n1618743         2.0               0.0               0.0               1.0   \n222213          2.0               0.0               1.0               0.0   \n\n         annual_inc  ...  pct_tl_nvr_dlq  percent_bc_gt_75  \\\n1295675     85000.0  ...           100.0              36.4   \n1937183     67500.0  ...            97.8              50.0   \n109520      95000.0  ...            96.0              35.7   \n1618743    120000.0  ...            97.8              50.0   \n222213      82300.0  ...            89.5              66.7   \n\n         pub_rec_bankruptcies  tax_liens  tot_hi_cred_lim  total_bal_ex_mort  \\\n1295675                   0.0        0.0          61500.0            30144.0   \n1937183                   0.0        0.0         104198.0            37681.0   \n109520                    0.0        0.0         278230.0            67578.0   \n1618743                   0.0        0.0         104198.0            37681.0   \n222213                    0.0        0.0          30100.0            20193.0   \n\n         total_bc_limit  total_il_high_credit_limit  disbursement_method_0  \\\n1295675         48400.0                         0.0                    0.0   \n1937183         14500.0                     31847.0                    0.0   \n109520         112900.0                     18899.0                    0.0   \n1618743         14500.0                     31847.0                    0.0   \n222213          29500.0                         0.0                    0.0   \n\n         disbursement_method_1  \n1295675                    1.0  \n1937183                    1.0  \n109520                     1.0  \n1618743                    1.0  \n222213                     1.0  \n\n[5 rows x 94 columns]",
      "text/html": "<div>\n<style scoped>\n    .dataframe tbody tr th:only-of-type {\n        vertical-align: middle;\n    }\n\n    .dataframe tbody tr th {\n        vertical-align: top;\n    }\n\n    .dataframe thead th {\n        text-align: right;\n    }\n</style>\n<table border=\"1\" class=\"dataframe\">\n  <thead>\n    <tr style=\"text-align: right;\">\n      <th></th>\n      <th>loan_amnt</th>\n      <th>funded_amnt</th>\n      <th>funded_amnt_inv</th>\n      <th>int_rate</th>\n      <th>installment</th>\n      <th>emp_length</th>\n      <th>home_ownership_0</th>\n      <th>home_ownership_1</th>\n      <th>home_ownership_2</th>\n      <th>annual_inc</th>\n      <th>...</th>\n      <th>pct_tl_nvr_dlq</th>\n      <th>percent_bc_gt_75</th>\n      <th>pub_rec_bankruptcies</th>\n      <th>tax_liens</th>\n      <th>tot_hi_cred_lim</th>\n      <th>total_bal_ex_mort</th>\n      <th>total_bc_limit</th>\n      <th>total_il_high_credit_limit</th>\n      <th>disbursement_method_0</th>\n      <th>disbursement_method_1</th>\n    </tr>\n  </thead>\n  <tbody>\n    <tr>\n      <th>1295675</th>\n      <td>2875.0</td>\n      <td>2875.0</td>\n      <td>2875.0</td>\n      <td>15.61</td>\n      <td>100.53</td>\n      <td>6.0</td>\n      <td>0.0</td>\n      <td>1.0</td>\n      <td>0.0</td>\n      <td>85000.0</td>\n      <td>...</td>\n      <td>100.0</td>\n      <td>36.4</td>\n      <td>0.0</td>\n      <td>0.0</td>\n      <td>61500.0</td>\n      <td>30144.0</td>\n      <td>48400.0</td>\n      <td>0.0</td>\n      <td>0.0</td>\n      <td>1.0</td>\n    </tr>\n    <tr>\n      <th>1937183</th>\n      <td>14000.0</td>\n      <td>14000.0</td>\n      <td>14000.0</td>\n      <td>9.91</td>\n      <td>451.15</td>\n      <td>4.0</td>\n      <td>0.0</td>\n      <td>0.0</td>\n      <td>1.0</td>\n      <td>67500.0</td>\n      <td>...</td>\n      <td>97.8</td>\n      <td>50.0</td>\n      <td>0.0</td>\n      <td>0.0</td>\n      <td>104198.0</td>\n      <td>37681.0</td>\n      <td>14500.0</td>\n      <td>31847.0</td>\n      <td>0.0</td>\n      <td>1.0</td>\n    </tr>\n    <tr>\n      <th>109520</th>\n      <td>35000.0</td>\n      <td>35000.0</td>\n      <td>35000.0</td>\n      <td>7.89</td>\n      <td>1095.00</td>\n      <td>0.0</td>\n      <td>0.0</td>\n      <td>0.0</td>\n      <td>1.0</td>\n      <td>95000.0</td>\n      <td>...</td>\n      <td>96.0</td>\n      <td>35.7</td>\n      <td>0.0</td>\n      <td>0.0</td>\n      <td>278230.0</td>\n      <td>67578.0</td>\n      <td>112900.0</td>\n      <td>18899.0</td>\n      <td>0.0</td>\n      <td>1.0</td>\n    </tr>\n    <tr>\n      <th>1618743</th>\n      <td>4200.0</td>\n      <td>4200.0</td>\n      <td>4200.0</td>\n      <td>12.69</td>\n      <td>140.89</td>\n      <td>2.0</td>\n      <td>0.0</td>\n      <td>0.0</td>\n      <td>1.0</td>\n      <td>120000.0</td>\n      <td>...</td>\n      <td>97.8</td>\n      <td>50.0</td>\n      <td>0.0</td>\n      <td>0.0</td>\n      <td>104198.0</td>\n      <td>37681.0</td>\n      <td>14500.0</td>\n      <td>31847.0</td>\n      <td>0.0</td>\n      <td>1.0</td>\n    </tr>\n    <tr>\n      <th>222213</th>\n      <td>27000.0</td>\n      <td>27000.0</td>\n      <td>27000.0</td>\n      <td>12.69</td>\n      <td>610.06</td>\n      <td>2.0</td>\n      <td>0.0</td>\n      <td>1.0</td>\n      <td>0.0</td>\n      <td>82300.0</td>\n      <td>...</td>\n      <td>89.5</td>\n      <td>66.7</td>\n      <td>0.0</td>\n      <td>0.0</td>\n      <td>30100.0</td>\n      <td>20193.0</td>\n      <td>29500.0</td>\n      <td>0.0</td>\n      <td>0.0</td>\n      <td>1.0</td>\n    </tr>\n  </tbody>\n</table>\n<p>5 rows × 94 columns</p>\n</div>"
     },
     "execution_count": 13,
     "metadata": {},
     "output_type": "execute_result"
    }
   ],
   "source": [
    "# Fill NaNs with Median\n",
    "df_binary_downsampled = df_binary_downsampled.fillna(df_binary_downsampled.median())\n",
    "# Preview\n",
    "df_binary_downsampled.head(5)"
   ]
  },
  {
   "cell_type": "markdown",
   "metadata": {
    "collapsed": false,
    "pycharm": {
     "name": "#%% md\n"
    }
   },
   "source": [
    "# Data Split\n",
    "In this section we split the data into a training and test set. The corresponding model is then trained on the training set and tested on the test set."
   ]
  },
  {
   "cell_type": "code",
   "execution_count": 14,
   "metadata": {
    "collapsed": false,
    "pycharm": {
     "name": "#%%\n"
    }
   },
   "outputs": [
    {
     "name": "stdout",
     "output_type": "stream",
     "text": [
      "Shape of X_train: (43212, 93)\n",
      "Shape of X_test: (18520, 93)\n",
      "Shape of y_train: (43212,)\n",
      "Shape of y_test: (18520,)\n"
     ]
    }
   ],
   "source": [
    "# Fraction of test data\n",
    "TEST_SIZE = 0.3\n",
    "\n",
    "X = df_binary_downsampled.drop(\"loan_status\", axis=1)\n",
    "y = df_binary_downsampled[\"loan_status\"]\n",
    "\n",
    "# Split data into train and test data\n",
    "X_train, X_test, y_train, y_test = train_test_split(X, y, test_size=TEST_SIZE, random_state=42, stratify=y)\n",
    "\n",
    "print(f\"Shape of X_train: {X_train.shape}\")\n",
    "print(f\"Shape of X_test: {X_test.shape}\")\n",
    "print(f\"Shape of y_train: {y_train.shape}\")\n",
    "print(f\"Shape of y_test: {y_test.shape}\")"
   ]
  },
  {
   "cell_type": "markdown",
   "source": [
    "# Scaling\n",
    "We scale the data with the MinMaxScaler to a range of $[0, 1]$"
   ],
   "metadata": {
    "collapsed": false,
    "pycharm": {
     "name": "#%% md\n"
    }
   }
  },
  {
   "cell_type": "code",
   "execution_count": 15,
   "metadata": {
    "collapsed": false,
    "pycharm": {
     "name": "#%%\n"
    }
   },
   "outputs": [
    {
     "data": {
      "text/plain": "         0         1     2         3         4    5    6    7    8         9   \\\n0  0.025641  0.025641  0.05  0.287383  0.025838  0.4  0.0  0.0  1.0  0.006083   \n1  0.230769  0.230769  0.25  0.079050  0.113112  0.5  0.0  0.0  1.0  0.011630   \n2  0.487179  0.487179  0.50  0.079439  0.390407  1.0  0.0  1.0  0.0  0.015924   \n3  0.487179  0.487179  0.50  0.240265  0.415811  0.0  0.0  1.0  0.0  0.011230   \n4  0.128205  0.128205  0.15  0.238707  0.111835  0.3  0.0  1.0  0.0  0.008946   \n\n   ...        83     84   85   86        87        88        89        90  \\\n0  ...  1.000000  1.000  0.0  0.0  0.012384  0.020963  0.009618  0.019539   \n1  ...  0.939759  0.000  0.0  0.0  0.042379  0.021571  0.077494  0.023953   \n2  ...  1.000000  0.125  0.0  0.0  0.009130  0.008725  0.149766  0.000000   \n3  ...  1.000000  1.000  0.0  0.0  0.008064  0.030302  0.046716  0.039076   \n4  ...  1.000000  0.000  0.0  0.0  0.005696  0.010184  0.059907  0.021122   \n\n    91   92  \n0  0.0  1.0  \n1  0.0  1.0  \n2  0.0  1.0  \n3  0.0  1.0  \n4  0.0  1.0  \n\n[5 rows x 93 columns]",
      "text/html": "<div>\n<style scoped>\n    .dataframe tbody tr th:only-of-type {\n        vertical-align: middle;\n    }\n\n    .dataframe tbody tr th {\n        vertical-align: top;\n    }\n\n    .dataframe thead th {\n        text-align: right;\n    }\n</style>\n<table border=\"1\" class=\"dataframe\">\n  <thead>\n    <tr style=\"text-align: right;\">\n      <th></th>\n      <th>0</th>\n      <th>1</th>\n      <th>2</th>\n      <th>3</th>\n      <th>4</th>\n      <th>5</th>\n      <th>6</th>\n      <th>7</th>\n      <th>8</th>\n      <th>9</th>\n      <th>...</th>\n      <th>83</th>\n      <th>84</th>\n      <th>85</th>\n      <th>86</th>\n      <th>87</th>\n      <th>88</th>\n      <th>89</th>\n      <th>90</th>\n      <th>91</th>\n      <th>92</th>\n    </tr>\n  </thead>\n  <tbody>\n    <tr>\n      <th>0</th>\n      <td>0.025641</td>\n      <td>0.025641</td>\n      <td>0.05</td>\n      <td>0.287383</td>\n      <td>0.025838</td>\n      <td>0.4</td>\n      <td>0.0</td>\n      <td>0.0</td>\n      <td>1.0</td>\n      <td>0.006083</td>\n      <td>...</td>\n      <td>1.000000</td>\n      <td>1.000</td>\n      <td>0.0</td>\n      <td>0.0</td>\n      <td>0.012384</td>\n      <td>0.020963</td>\n      <td>0.009618</td>\n      <td>0.019539</td>\n      <td>0.0</td>\n      <td>1.0</td>\n    </tr>\n    <tr>\n      <th>1</th>\n      <td>0.230769</td>\n      <td>0.230769</td>\n      <td>0.25</td>\n      <td>0.079050</td>\n      <td>0.113112</td>\n      <td>0.5</td>\n      <td>0.0</td>\n      <td>0.0</td>\n      <td>1.0</td>\n      <td>0.011630</td>\n      <td>...</td>\n      <td>0.939759</td>\n      <td>0.000</td>\n      <td>0.0</td>\n      <td>0.0</td>\n      <td>0.042379</td>\n      <td>0.021571</td>\n      <td>0.077494</td>\n      <td>0.023953</td>\n      <td>0.0</td>\n      <td>1.0</td>\n    </tr>\n    <tr>\n      <th>2</th>\n      <td>0.487179</td>\n      <td>0.487179</td>\n      <td>0.50</td>\n      <td>0.079439</td>\n      <td>0.390407</td>\n      <td>1.0</td>\n      <td>0.0</td>\n      <td>1.0</td>\n      <td>0.0</td>\n      <td>0.015924</td>\n      <td>...</td>\n      <td>1.000000</td>\n      <td>0.125</td>\n      <td>0.0</td>\n      <td>0.0</td>\n      <td>0.009130</td>\n      <td>0.008725</td>\n      <td>0.149766</td>\n      <td>0.000000</td>\n      <td>0.0</td>\n      <td>1.0</td>\n    </tr>\n    <tr>\n      <th>3</th>\n      <td>0.487179</td>\n      <td>0.487179</td>\n      <td>0.50</td>\n      <td>0.240265</td>\n      <td>0.415811</td>\n      <td>0.0</td>\n      <td>0.0</td>\n      <td>1.0</td>\n      <td>0.0</td>\n      <td>0.011230</td>\n      <td>...</td>\n      <td>1.000000</td>\n      <td>1.000</td>\n      <td>0.0</td>\n      <td>0.0</td>\n      <td>0.008064</td>\n      <td>0.030302</td>\n      <td>0.046716</td>\n      <td>0.039076</td>\n      <td>0.0</td>\n      <td>1.0</td>\n    </tr>\n    <tr>\n      <th>4</th>\n      <td>0.128205</td>\n      <td>0.128205</td>\n      <td>0.15</td>\n      <td>0.238707</td>\n      <td>0.111835</td>\n      <td>0.3</td>\n      <td>0.0</td>\n      <td>1.0</td>\n      <td>0.0</td>\n      <td>0.008946</td>\n      <td>...</td>\n      <td>1.000000</td>\n      <td>0.000</td>\n      <td>0.0</td>\n      <td>0.0</td>\n      <td>0.005696</td>\n      <td>0.010184</td>\n      <td>0.059907</td>\n      <td>0.021122</td>\n      <td>0.0</td>\n      <td>1.0</td>\n    </tr>\n  </tbody>\n</table>\n<p>5 rows × 93 columns</p>\n</div>"
     },
     "execution_count": 15,
     "metadata": {},
     "output_type": "execute_result"
    }
   ],
   "source": [
    "# Init object\n",
    "scaler = MinMaxScaler()\n",
    "# Scale X_train\n",
    "X_train_scaled = scaler.fit_transform(X_train)\n",
    "X_train_scaled = pd.DataFrame(X_train_scaled)\n",
    "# Scale X_test\n",
    "X_test_scaled = scaler.transform(X_test)\n",
    "X_test_scaled = pd.DataFrame(X_test_scaled)\n",
    "\n",
    "# Preview X_train_scaled\n",
    "X_train_scaled.head(5)"
   ]
  },
  {
   "cell_type": "markdown",
   "metadata": {
    "collapsed": false,
    "pycharm": {
     "name": "#%% md\n"
    }
   },
   "source": [
    "---\n",
    "# Task 3: Logistic Regression In Sample\n",
    "Use logistic regression (in-sample) for default prediction. Interpret your results for logistic regression"
   ]
  },
  {
   "cell_type": "code",
   "execution_count": 16,
   "outputs": [],
   "source": [
    "# Fit Model\n",
    "lr = LogisticRegression(max_iter=1000)\n",
    "lr.fit(X_train_scaled, y_train)\n",
    "\n",
    "# Predict In Sample\n",
    "y_pred = lr.predict(X_train_scaled)"
   ],
   "metadata": {
    "collapsed": false,
    "pycharm": {
     "name": "#%%\n"
    }
   }
  },
  {
   "cell_type": "markdown",
   "source": [
    "## Test Model"
   ],
   "metadata": {
    "collapsed": false,
    "pycharm": {
     "name": "#%% md\n"
    }
   }
  },
  {
   "cell_type": "code",
   "execution_count": 17,
   "metadata": {
    "collapsed": false,
    "pycharm": {
     "name": "#%%\n"
    }
   },
   "outputs": [
    {
     "data": {
      "text/plain": "<Figure size 432x288 with 2 Axes>",
      "image/png": "[encoded data removed]"
     },
     "metadata": {},
     "output_type": "display_data"
    },
    {
     "name": "stdout",
     "output_type": "stream",
     "text": [
      "________________________________________________________________________________\n",
      "              precision    recall  f1-score   support\n",
      "\n",
      "         0.0       0.99      0.99      0.99     24424\n",
      "         1.0       0.99      0.98      0.99     18788\n",
      "\n",
      "    accuracy                           0.99     43212\n",
      "   macro avg       0.99      0.99      0.99     43212\n",
      "weighted avg       0.99      0.99      0.99     43212\n",
      "\n",
      "Information:\n",
      "Precision: Percentage of correct positive predictions relative to total positive predictions\n",
      "Recall: Percentage of correct positive predictions relative to total actual positives.\n",
      "F1 Score: A weighted harmonic mean of precision and recall. The closer to 1, the better the model.\n",
      "________________________________________________________________________________\n"
     ]
    }
   ],
   "source": [
    "# Plot Confusion matrics\n",
    "cm = confusion_matrix(y_true=y_train, y_pred=y_pred)\n",
    "sns.heatmap(cm, annot=True, fmt='d')\n",
    "plt.title(\"Confusion matrix\")\n",
    "plt.xlabel(\"Predicted\")\n",
    "plt.ylabel(\"Actual\")\n",
    "plt.show()\n",
    "\n",
    "# Plot classification report\n",
    "print(80 * \"_\")\n",
    "print(classification_report(y_true=y_train, y_pred=y_pred))\n",
    "print(\"Information:\")\n",
    "print(\"Precision: Percentage of correct positive predictions relative to total positive predictions\")\n",
    "print(\"Recall: Percentage of correct positive predictions relative to total actual positives.\")\n",
    "print(\"F1 Score: A weighted harmonic mean of precision and recall. The closer to 1, the better the model.\")\n",
    "print(80 * \"_\")"
   ]
  },
  {
   "cell_type": "markdown",
   "metadata": {
    "collapsed": false,
    "pycharm": {
     "name": "#%% md\n"
    }
   },
   "source": [
    "---\n",
    "# Task 4: Compare different classification models"
   ]
  },
  {
   "cell_type": "markdown",
   "metadata": {
    "collapsed": false,
    "pycharm": {
     "name": "#%% md\n"
    }
   },
   "source": [
    "Comparing\n",
    "* logistic regression,\n",
    "* classification tree,\n",
    "* random forest,\n",
    "* bagging,\n",
    "* support vector machine (with two kernel functions),\n",
    "* and neural network\n",
    "for default prediction based on the out-of-sample performance measures (at least three different measures)."
   ]
  },
  {
   "cell_type": "code",
   "execution_count": 18,
   "metadata": {
    "collapsed": false,
    "pycharm": {
     "name": "#%%\n"
    }
   },
   "outputs": [
    {
     "name": "stderr",
     "output_type": "stream",
     "text": [
      "100%|██████████| 7/7 [03:03<00:00, 26.28s/it]"
     ]
    },
    {
     "name": "stdout",
     "output_type": "stream",
     "text": [
      "LogisticRegression 0.9881514394149772\n",
      "DecisionTree 0.9887531241321855\n",
      "RandomForest 0.9936591687494215\n",
      "BaggingCLF 0.9932194760714617\n",
      "SVC_rbf 0.9899796352864945\n",
      "SVC_linear 0.9931037674719985\n",
      "NeuronalNetwork 0.9763723039896325\n",
      "CPU times: user 2min 49s, sys: 7.71 s, total: 2min 57s\n",
      "Wall time: 3min 4s\n"
     ]
    },
    {
     "name": "stderr",
     "output_type": "stream",
     "text": [
      "\n"
     ]
    }
   ],
   "source": [
    "%%time\n",
    "models = []\n",
    "\n",
    "models.append((\"LogisticRegression\",LogisticRegression(fit_intercept=True, max_iter=5000, solver=\"saga\")))\n",
    "models.append((\"DecisionTree\",DecisionTreeClassifier()))\n",
    "models.append((\"RandomForest\",RandomForestClassifier()))\n",
    "models.append((\"BaggingCLF\",BaggingClassifier()))\n",
    "models.append((\"SVC_rbf\",SVC(kernel='rbf')))\n",
    "models.append((\"SVC_linear\",SVC(kernel=\"linear\")))\n",
    "models.append((\"NeuronalNetwork\", MLPClassifier(alpha=1, max_iter=1000)))\n",
    "\n",
    "results = []\n",
    "names = []\n",
    "for name, model in tqdm(models):\n",
    "    result = cross_val_score(model, X_train_scaled, y_train,  cv=3)\n",
    "    names.append(name)\n",
    "    results.append(result)\n",
    "\n",
    "for i in range(len(names)):\n",
    "    print(names[i],results[i].mean())"
   ]
  },
  {
   "cell_type": "code",
   "execution_count": 19,
   "metadata": {
    "collapsed": false,
    "pycharm": {
     "name": "#%%\n"
    }
   },
   "outputs": [
    {
     "data": {
      "text/plain": "<Figure size 1080x504 with 1 Axes>",
      "image/png": "[encoded data removed]"
     },
     "metadata": {},
     "output_type": "display_data"
    }
   ],
   "source": [
    "# Boxplot algorithm comparison\n",
    "fig = plt.figure(figsize=(15,7))\n",
    "fig.suptitle('Algorithm Comparison', size=16)\n",
    "ax = fig.add_subplot(111)\n",
    "plt.boxplot(results)\n",
    "ax.set_xticklabels(names)\n",
    "plt.show()"
   ]
  }
 ],
 "metadata": {
  "kernelspec": {
   "name": "python3",
   "language": "python",
   "display_name": "Python 3 (ipykernel)"
  },
  "language_info": {
   "codemirror_mode": {
    "name": "ipython",
    "version": 2
   },
   "file_extension": ".py",
   "mimetype": "text/x-python",
   "name": "python",
   "nbconvert_exporter": "python",
   "pygments_lexer": "ipython2",
   "version": "2.7.6"
  }
 },
 "nbformat": 4,
 "nbformat_minor": 0
}