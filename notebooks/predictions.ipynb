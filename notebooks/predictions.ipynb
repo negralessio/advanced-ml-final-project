{
 "cells": [
  {
   "cell_type": "code",
   "execution_count": 22,
   "metadata": {
    "collapsed": false,
    "pycharm": {
     "name": "#%%\n"
    }
   },
   "outputs": [],
   "source": [
    "import pandas as pd\n",
    "import numpy as np\n",
    "import matplotlib.pyplot as plt\n",
    "import seaborn as sns\n",
    "import sklearn.metrics\n",
    "from sklearn.utils import resample\n",
    "# For modeling\n",
    "from sklearn.linear_model import LogisticRegression\n",
    "from sklearn.ensemble import RandomForestClassifier, BaggingClassifier\n",
    "from sklearn.tree import DecisionTreeClassifier\n",
    "from sklearn.neural_network import MLPClassifier\n",
    "from sklearn.metrics import confusion_matrix, classification_report, precision_recall_fscore_support, accuracy_score\n",
    "from sklearn.model_selection import cross_val_score, train_test_split, cross_validate\n",
    "from sklearn.preprocessing import StandardScaler, MinMaxScaler\n",
    "from sklearn.svm import SVC\n",
    "from sklearn.pipeline import Pipeline\n",
    "from tqdm.notebook import tqdm\n",
    "from matplotlib.colors import ListedColormap\n",
    "#sns.set_palette('viridis')\n",
    "pd.options.mode.chained_assignment = None  # Supress warning, default='warn'"
   ]
  },
  {
   "cell_type": "markdown",
   "metadata": {
    "collapsed": false,
    "pycharm": {
     "name": "#%% md\n"
    }
   },
   "source": [
    "# Read Data\n",
    "In this section we read the data (pickle file) after the preprocessing from the preprocessing notebook/part"
   ]
  },
  {
   "cell_type": "code",
   "execution_count": 23,
   "metadata": {
    "collapsed": false,
    "pycharm": {
     "name": "#%%\n"
    }
   },
   "outputs": [
    {
     "name": "stdout",
     "output_type": "stream",
     "text": [
      "Shape of df: (1345310, 101)\n"
     ]
    },
    {
     "data": {
      "text/plain": "   loan_amnt  funded_amnt  funded_amnt_inv term  int_rate  installment grade  \\\n0     3600.0       3600.0           3600.0   36     13.99       123.03     C   \n1    24700.0      24700.0          24700.0   36     11.99       820.28     C   \n2    20000.0      20000.0          20000.0   60     10.78       432.66     B   \n4    10400.0      10400.0          10400.0   60     22.45       289.91     F   \n5    11950.0      11950.0          11950.0   36     13.44       405.18     C   \n\n  sub_grade  emp_length home_ownership  ...  percent_bc_gt_75  \\\n0        C4        10.0       MORTGAGE  ...               0.0   \n1        C1        10.0       MORTGAGE  ...               7.7   \n2        B4        10.0       MORTGAGE  ...              50.0   \n4        F1         3.0       MORTGAGE  ...              60.0   \n5        C3         4.0           RENT  ...             100.0   \n\n  pub_rec_bankruptcies  tax_liens tot_hi_cred_lim total_bal_ex_mort  \\\n0                  0.0        0.0        178050.0            7746.0   \n1                  0.0        0.0        314017.0           39475.0   \n2                  0.0        0.0        218418.0           18696.0   \n4                  0.0        0.0        439570.0           95768.0   \n5                  0.0        0.0         16900.0           12798.0   \n\n  total_bc_limit  total_il_high_credit_limit  hardship_flag  \\\n0         2400.0                     13734.0              N   \n1        79300.0                     24667.0              N   \n2         6200.0                     14877.0              N   \n4        20300.0                     88097.0              N   \n5         9400.0                      4000.0              N   \n\n   disbursement_method  debt_settlement_flag  \n0                 Cash                     N  \n1                 Cash                     N  \n2                 Cash                     N  \n4                 Cash                     N  \n5                 Cash                     N  \n\n[5 rows x 101 columns]",
      "text/html": "<div>\n<style scoped>\n    .dataframe tbody tr th:only-of-type {\n        vertical-align: middle;\n    }\n\n    .dataframe tbody tr th {\n        vertical-align: top;\n    }\n\n    .dataframe thead th {\n        text-align: right;\n    }\n</style>\n<table border=\"1\" class=\"dataframe\">\n  <thead>\n    <tr style=\"text-align: right;\">\n      <th></th>\n      <th>loan_amnt</th>\n      <th>funded_amnt</th>\n      <th>funded_amnt_inv</th>\n      <th>term</th>\n      <th>int_rate</th>\n      <th>installment</th>\n      <th>grade</th>\n      <th>sub_grade</th>\n      <th>emp_length</th>\n      <th>home_ownership</th>\n      <th>...</th>\n      <th>percent_bc_gt_75</th>\n      <th>pub_rec_bankruptcies</th>\n      <th>tax_liens</th>\n      <th>tot_hi_cred_lim</th>\n      <th>total_bal_ex_mort</th>\n      <th>total_bc_limit</th>\n      <th>total_il_high_credit_limit</th>\n      <th>hardship_flag</th>\n      <th>disbursement_method</th>\n      <th>debt_settlement_flag</th>\n    </tr>\n  </thead>\n  <tbody>\n    <tr>\n      <th>0</th>\n      <td>3600.0</td>\n      <td>3600.0</td>\n      <td>3600.0</td>\n      <td>36</td>\n      <td>13.99</td>\n      <td>123.03</td>\n      <td>C</td>\n      <td>C4</td>\n      <td>10.0</td>\n      <td>MORTGAGE</td>\n      <td>...</td>\n      <td>0.0</td>\n      <td>0.0</td>\n      <td>0.0</td>\n      <td>178050.0</td>\n      <td>7746.0</td>\n      <td>2400.0</td>\n      <td>13734.0</td>\n      <td>N</td>\n      <td>Cash</td>\n      <td>N</td>\n    </tr>\n    <tr>\n      <th>1</th>\n      <td>24700.0</td>\n      <td>24700.0</td>\n      <td>24700.0</td>\n      <td>36</td>\n      <td>11.99</td>\n      <td>820.28</td>\n      <td>C</td>\n      <td>C1</td>\n      <td>10.0</td>\n      <td>MORTGAGE</td>\n      <td>...</td>\n      <td>7.7</td>\n      <td>0.0</td>\n      <td>0.0</td>\n      <td>314017.0</td>\n      <td>39475.0</td>\n      <td>79300.0</td>\n      <td>24667.0</td>\n      <td>N</td>\n      <td>Cash</td>\n      <td>N</td>\n    </tr>\n    <tr>\n      <th>2</th>\n      <td>20000.0</td>\n      <td>20000.0</td>\n      <td>20000.0</td>\n      <td>60</td>\n      <td>10.78</td>\n      <td>432.66</td>\n      <td>B</td>\n      <td>B4</td>\n      <td>10.0</td>\n      <td>MORTGAGE</td>\n      <td>...</td>\n      <td>50.0</td>\n      <td>0.0</td>\n      <td>0.0</td>\n      <td>218418.0</td>\n      <td>18696.0</td>\n      <td>6200.0</td>\n      <td>14877.0</td>\n      <td>N</td>\n      <td>Cash</td>\n      <td>N</td>\n    </tr>\n    <tr>\n      <th>4</th>\n      <td>10400.0</td>\n      <td>10400.0</td>\n      <td>10400.0</td>\n      <td>60</td>\n      <td>22.45</td>\n      <td>289.91</td>\n      <td>F</td>\n      <td>F1</td>\n      <td>3.0</td>\n      <td>MORTGAGE</td>\n      <td>...</td>\n      <td>60.0</td>\n      <td>0.0</td>\n      <td>0.0</td>\n      <td>439570.0</td>\n      <td>95768.0</td>\n      <td>20300.0</td>\n      <td>88097.0</td>\n      <td>N</td>\n      <td>Cash</td>\n      <td>N</td>\n    </tr>\n    <tr>\n      <th>5</th>\n      <td>11950.0</td>\n      <td>11950.0</td>\n      <td>11950.0</td>\n      <td>36</td>\n      <td>13.44</td>\n      <td>405.18</td>\n      <td>C</td>\n      <td>C3</td>\n      <td>4.0</td>\n      <td>RENT</td>\n      <td>...</td>\n      <td>100.0</td>\n      <td>0.0</td>\n      <td>0.0</td>\n      <td>16900.0</td>\n      <td>12798.0</td>\n      <td>9400.0</td>\n      <td>4000.0</td>\n      <td>N</td>\n      <td>Cash</td>\n      <td>N</td>\n    </tr>\n  </tbody>\n</table>\n<p>5 rows × 101 columns</p>\n</div>"
     },
     "execution_count": 23,
     "metadata": {},
     "output_type": "execute_result"
    }
   ],
   "source": [
    "df = pd.read_pickle('../data/preprocessed/accepted_df_preprocessed.pkl')\n",
    "print(f\"Shape of df: {df.shape}\")\n",
    "df.head(5)"
   ]
  },
  {
   "cell_type": "markdown",
   "source": [
    "# TAKE SUBSAMPLE OF DATA FOR COMPUTATION ISSUES (TODO: DELETE THIS LATER)"
   ],
   "metadata": {
    "collapsed": false,
    "pycharm": {
     "name": "#%% md\n"
    }
   }
  },
  {
   "cell_type": "code",
   "execution_count": 24,
   "outputs": [
    {
     "name": "stdout",
     "output_type": "stream",
     "text": [
      "(134531, 101)\n"
     ]
    }
   ],
   "source": [
    "df = df.sample(frac = 0.1)\n",
    "print(df.shape)"
   ],
   "metadata": {
    "collapsed": false,
    "pycharm": {
     "name": "#%%\n"
    }
   }
  },
  {
   "cell_type": "markdown",
   "source": [
    "# Model Preprocessing: Encode Features from categorical to numerical\n",
    "In this section we prepare our data set for modeling through fixing the inbalancement of our data, encoding categorical data, dropping features that are only apriori the application known etc..."
   ],
   "metadata": {
    "collapsed": false,
    "pycharm": {
     "name": "#%% md\n"
    }
   }
  },
  {
   "cell_type": "markdown",
   "source": [
    "## Drop columns for prediction\n",
    "In this small section we drop features that we do not have prior the lending application. We consulted the data dictionary table (seen [here](https://docs.google.com/spreadsheets/d/13YQDRQYYbr84wy7zQ91yfC8QoEBFPFP0zR5pIDf18rA/edit#gid=629438262)) and analyzed which columns to keep and which to drop. Note that this requires a lot of domain knowledge."
   ],
   "metadata": {
    "collapsed": false,
    "pycharm": {
     "name": "#%% md\n"
    }
   }
  },
  {
   "cell_type": "code",
   "execution_count": 25,
   "outputs": [
    {
     "name": "stdout",
     "output_type": "stream",
     "text": [
      "Cols to drop: ['funded_amnt', 'funded_amnt_inv', 'pymnt_plan', 'delinq_2yrs', 'inq_last_6mths', 'mths_since_last_delinq', 'out_prncp', 'out_prncp_inv', 'total_pymnt', 'total_pymnt_inv', 'total_rec_prncp', 'total_rec_int', 'total_rec_late_fee', 'recoveries', 'collection_recovery_fee', 'last_pymnt_amnt', 'last_fico_range_high', 'last_fico_range_low', 'collections_12_mths_ex_med', 'mths_since_last_major_derog', 'policy_code', 'acc_now_delinq', 'tot_coll_amt', 'tot_cur_bal', 'open_acc_6m', 'open_act_il', 'open_il_12m', 'open_il_24m', 'mths_since_rcnt_il', 'total_bal_il', 'il_util', 'open_rv_12m', 'open_rv_24m', 'max_bal_bc', 'all_util', 'total_rev_hi_lim', 'inq_fi', 'total_cu_tl', 'inq_last_12m', 'acc_open_past_24mths', 'avg_cur_bal', 'bc_open_to_buy', 'bc_util', 'chargeoff_within_12_mths', 'delinq_amnt', 'mo_sin_old_il_acct', 'mo_sin_old_rev_tl_op', 'mo_sin_rcnt_rev_tl_op', 'mo_sin_rcnt_tl', 'mths_since_recent_bc', 'mths_since_recent_inq', 'mths_since_recent_revol_delinq', 'num_accts_ever_120_pd', 'num_actv_bc_tl', 'num_actv_rev_tl', 'num_bc_sats', 'num_bc_tl', 'num_il_tl', 'num_op_rev_tl', 'num_rev_accts', 'num_rev_tl_bal_gt_0', 'num_sats', 'num_tl_120dpd_2m', 'num_tl_30dpd', 'num_tl_90g_dpd_24m', 'num_tl_op_past_12m', 'pct_tl_nvr_dlq', 'percent_bc_gt_75', 'tax_liens', 'tot_hi_cred_lim', 'total_bal_ex_mort', 'total_bc_limit', 'total_il_high_credit_limit', 'hardship_flag', 'disbursement_method', 'debt_settlement_flag']\n",
      "Shape of df after drop: (134531, 25)\n"
     ]
    }
   ],
   "source": [
    "keep_list = ['addr_state', 'annual_inc', 'annual_inc_joint', 'application_type', 'dti', 'earliest_cr_line', 'emp_length', 'emp_title', 'fico_range_high', 'fico_range_low', 'grade', 'home_ownership', 'id', 'initial_list_status', 'installment', 'int_rate', 'issue_d', 'loan_amnt', 'loan_status', 'mort_acc', 'open_acc', 'pub_rec', 'pub_rec_bankruptcies', 'purpose', 'revol_bal', 'revol_util', 'sub_grade', 'term', 'title', 'total_acc', 'verification_status', 'zip_code']\n",
    "\n",
    "cols_to_drop = [col for col in df.columns if col not in keep_list]\n",
    "print(f\"Cols to drop: {cols_to_drop}\")\n",
    "df.drop(cols_to_drop, axis=1, inplace=True)\n",
    "print(f\"Shape of df after drop: {df.shape}\")"
   ],
   "metadata": {
    "collapsed": false,
    "pycharm": {
     "name": "#%%\n"
    }
   }
  },
  {
   "cell_type": "code",
   "execution_count": 26,
   "outputs": [
    {
     "name": "stdout",
     "output_type": "stream",
     "text": [
      "float64    15\n",
      "object      9\n",
      "int32       1\n",
      "dtype: int64\n",
      "['term', 'grade', 'sub_grade', 'home_ownership', 'verification_status', 'purpose', 'addr_state', 'initial_list_status', 'application_type']\n"
     ]
    }
   ],
   "source": [
    "# Preview categorical data\n",
    "print(df.dtypes.value_counts())\n",
    "# Get categorical columns names\n",
    "cat_columns = df.select_dtypes(include=['object']).columns.tolist()\n",
    "# Preview\n",
    "print(cat_columns)"
   ],
   "metadata": {
    "collapsed": false,
    "pycharm": {
     "name": "#%%\n"
    }
   }
  },
  {
   "cell_type": "markdown",
   "source": [
    "### Deleted irrelevant categorical features\n",
    "Delete categorical features that are not relevant for the Modelling or contain too many realization so that encoding them would be infeasible."
   ],
   "metadata": {
    "collapsed": false,
    "pycharm": {
     "name": "#%% md\n"
    }
   }
  },
  {
   "cell_type": "code",
   "execution_count": 27,
   "outputs": [
    {
     "name": "stdout",
     "output_type": "stream",
     "text": [
      "Categorical Columns to drop: ['sub_grade', 'addr_state']\n",
      "\n",
      "Shape of df before columns drop: (134531, 25)\n",
      "Shape of df after columns drop: (134531, 23)\n"
     ]
    }
   ],
   "source": [
    "# Define categorical columns from cat_columns to keep here\n",
    "CAT_COLS_TO_KEEP = [\"term\", \"home_ownership\", \"grade\", \"verification_status\", \"application_type\", \"initial_list_status\", \"purpose\"]\n",
    "CAT_COLS_TO_DROP = [col for col in cat_columns if col not in CAT_COLS_TO_KEEP]\n",
    "\n",
    "print(f\"Categorical Columns to drop: {CAT_COLS_TO_DROP}\\n\")\n",
    "print(f\"Shape of df before columns drop: {df.shape}\")\n",
    "# Drop irrelevant categorical features\n",
    "df.drop(CAT_COLS_TO_DROP, axis=1, inplace=True)\n",
    "print(f\"Shape of df after columns drop: {df.shape}\")"
   ],
   "metadata": {
    "collapsed": false,
    "pycharm": {
     "name": "#%%\n"
    }
   }
  },
  {
   "cell_type": "markdown",
   "source": [
    "## Preview of the remaining categorical features"
   ],
   "metadata": {
    "collapsed": false,
    "pycharm": {
     "name": "#%% md\n"
    }
   }
  },
  {
   "cell_type": "code",
   "execution_count": 28,
   "outputs": [
    {
     "name": "stdout",
     "output_type": "stream",
     "text": [
      "float64    15\n",
      "object      7\n",
      "int32       1\n",
      "dtype: int64\n"
     ]
    },
    {
     "data": {
      "text/plain": "        term grade home_ownership verification_status             purpose  \\\n1817813   36     B            OWN        Not Verified    home_improvement   \n1743636   60     C       MORTGAGE            Verified  debt_consolidation   \n1840077   60     E       MORTGAGE            Verified      small_business   \n2194945   36     B       MORTGAGE            Verified         credit_card   \n1881636   36     B       MORTGAGE        Not Verified         credit_card   \n...      ...   ...            ...                 ...                 ...   \n90364     36     B           RENT     Source Verified  debt_consolidation   \n826902    36     B            OWN        Not Verified         credit_card   \n111583    36     C           RENT     Source Verified  debt_consolidation   \n895246    36     C       MORTGAGE            Verified  debt_consolidation   \n410423    60     B           RENT        Not Verified         credit_card   \n\n        initial_list_status application_type  \n1817813                   f       Individual  \n1743636                   w       Individual  \n1840077                   f       Individual  \n2194945                   w       Individual  \n1881636                   f       Individual  \n...                     ...              ...  \n90364                     f       Individual  \n826902                    w       Individual  \n111583                    f       Individual  \n895246                    w       Individual  \n410423                    f       Individual  \n\n[134531 rows x 7 columns]",
      "text/html": "<div>\n<style scoped>\n    .dataframe tbody tr th:only-of-type {\n        vertical-align: middle;\n    }\n\n    .dataframe tbody tr th {\n        vertical-align: top;\n    }\n\n    .dataframe thead th {\n        text-align: right;\n    }\n</style>\n<table border=\"1\" class=\"dataframe\">\n  <thead>\n    <tr style=\"text-align: right;\">\n      <th></th>\n      <th>term</th>\n      <th>grade</th>\n      <th>home_ownership</th>\n      <th>verification_status</th>\n      <th>purpose</th>\n      <th>initial_list_status</th>\n      <th>application_type</th>\n    </tr>\n  </thead>\n  <tbody>\n    <tr>\n      <th>1817813</th>\n      <td>36</td>\n      <td>B</td>\n      <td>OWN</td>\n      <td>Not Verified</td>\n      <td>home_improvement</td>\n      <td>f</td>\n      <td>Individual</td>\n    </tr>\n    <tr>\n      <th>1743636</th>\n      <td>60</td>\n      <td>C</td>\n      <td>MORTGAGE</td>\n      <td>Verified</td>\n      <td>debt_consolidation</td>\n      <td>w</td>\n      <td>Individual</td>\n    </tr>\n    <tr>\n      <th>1840077</th>\n      <td>60</td>\n      <td>E</td>\n      <td>MORTGAGE</td>\n      <td>Verified</td>\n      <td>small_business</td>\n      <td>f</td>\n      <td>Individual</td>\n    </tr>\n    <tr>\n      <th>2194945</th>\n      <td>36</td>\n      <td>B</td>\n      <td>MORTGAGE</td>\n      <td>Verified</td>\n      <td>credit_card</td>\n      <td>w</td>\n      <td>Individual</td>\n    </tr>\n    <tr>\n      <th>1881636</th>\n      <td>36</td>\n      <td>B</td>\n      <td>MORTGAGE</td>\n      <td>Not Verified</td>\n      <td>credit_card</td>\n      <td>f</td>\n      <td>Individual</td>\n    </tr>\n    <tr>\n      <th>...</th>\n      <td>...</td>\n      <td>...</td>\n      <td>...</td>\n      <td>...</td>\n      <td>...</td>\n      <td>...</td>\n      <td>...</td>\n    </tr>\n    <tr>\n      <th>90364</th>\n      <td>36</td>\n      <td>B</td>\n      <td>RENT</td>\n      <td>Source Verified</td>\n      <td>debt_consolidation</td>\n      <td>f</td>\n      <td>Individual</td>\n    </tr>\n    <tr>\n      <th>826902</th>\n      <td>36</td>\n      <td>B</td>\n      <td>OWN</td>\n      <td>Not Verified</td>\n      <td>credit_card</td>\n      <td>w</td>\n      <td>Individual</td>\n    </tr>\n    <tr>\n      <th>111583</th>\n      <td>36</td>\n      <td>C</td>\n      <td>RENT</td>\n      <td>Source Verified</td>\n      <td>debt_consolidation</td>\n      <td>f</td>\n      <td>Individual</td>\n    </tr>\n    <tr>\n      <th>895246</th>\n      <td>36</td>\n      <td>C</td>\n      <td>MORTGAGE</td>\n      <td>Verified</td>\n      <td>debt_consolidation</td>\n      <td>w</td>\n      <td>Individual</td>\n    </tr>\n    <tr>\n      <th>410423</th>\n      <td>60</td>\n      <td>B</td>\n      <td>RENT</td>\n      <td>Not Verified</td>\n      <td>credit_card</td>\n      <td>f</td>\n      <td>Individual</td>\n    </tr>\n  </tbody>\n</table>\n<p>134531 rows × 7 columns</p>\n</div>"
     },
     "execution_count": 28,
     "metadata": {},
     "output_type": "execute_result"
    }
   ],
   "source": [
    "print(df.dtypes.value_counts())\n",
    "df.select_dtypes(\"object\")"
   ],
   "metadata": {
    "collapsed": false,
    "pycharm": {
     "name": "#%%\n"
    }
   }
  },
  {
   "cell_type": "markdown",
   "source": [
    "## Create Dummy Variables"
   ],
   "metadata": {
    "collapsed": false,
    "pycharm": {
     "name": "#%% md\n"
    }
   }
  },
  {
   "cell_type": "code",
   "execution_count": 29,
   "outputs": [
    {
     "data": {
      "text/plain": "int64      18\nfloat64    15\nint32       1\ndtype: int64"
     },
     "execution_count": 29,
     "metadata": {},
     "output_type": "execute_result"
    }
   ],
   "source": [
    "# Binary Encoding\n",
    "import category_encoders as ce\n",
    "encoder = ce.BinaryEncoder(cols=CAT_COLS_TO_KEEP)\n",
    "df_binary = encoder.fit_transform(df)\n",
    "# check\n",
    "df_binary.dtypes.value_counts()"
   ],
   "metadata": {
    "collapsed": false,
    "pycharm": {
     "name": "#%%\n"
    }
   }
  },
  {
   "cell_type": "code",
   "execution_count": 30,
   "outputs": [
    {
     "data": {
      "text/plain": "float32    34\ndtype: int64"
     },
     "execution_count": 30,
     "metadata": {},
     "output_type": "execute_result"
    }
   ],
   "source": [
    "# Convert all values to float\n",
    "df_binary = df_binary.astype(np.float32)\n",
    "df_binary.dtypes.value_counts()"
   ],
   "metadata": {
    "collapsed": false,
    "pycharm": {
     "name": "#%%\n"
    }
   }
  },
  {
   "cell_type": "markdown",
   "source": [
    "## Preview preprocessed dataframe"
   ],
   "metadata": {
    "collapsed": false,
    "pycharm": {
     "name": "#%% md\n"
    }
   }
  },
  {
   "cell_type": "code",
   "execution_count": 31,
   "outputs": [
    {
     "data": {
      "text/plain": "         loan_amnt  term_0  term_1  int_rate  installment  grade_0  grade_1  \\\n1817813     8325.0     0.0     1.0      9.71   267.500000      0.0      0.0   \n1743636    35000.0     1.0     0.0     14.99   832.469971      0.0      1.0   \n1840077    35000.0     1.0     0.0     21.49   956.549988      0.0      1.0   \n2194945     7200.0     0.0     1.0     11.49   237.399994      0.0      0.0   \n1881636     7200.0     0.0     1.0     12.12   239.559998      0.0      0.0   \n1231633     6000.0     0.0     1.0     11.67   198.350006      0.0      0.0   \n1175648    15000.0     1.0     0.0     22.15   415.570007      0.0      1.0   \n2048       20000.0     0.0     1.0      5.32   602.299988      1.0      0.0   \n1082525    33100.0     0.0     1.0     15.77  1159.949951      1.0      0.0   \n889394     28000.0     0.0     1.0     15.05   971.320007      0.0      1.0   \n\n         grade_2  emp_length  home_ownership_0  ...  pub_rec  revol_bal  \\\n1817813      1.0         2.0               0.0  ...      0.0    10063.0   \n1743636      0.0        10.0               0.0  ...      0.0    38943.0   \n1840077      1.0         9.0               0.0  ...      0.0    16633.0   \n2194945      1.0        10.0               0.0  ...      0.0    12502.0   \n1881636      1.0        10.0               0.0  ...      0.0    10994.0   \n1231633      1.0         4.0               0.0  ...      0.0     3097.0   \n1175648      1.0         1.0               0.0  ...      0.0     6442.0   \n2048         0.0         0.0               0.0  ...      0.0     8152.0   \n1082525      1.0         2.0               0.0  ...      0.0     8850.0   \n889394       0.0         2.0               0.0  ...      1.0        0.0   \n\n         revol_util  total_acc  initial_list_status_0  initial_list_status_1  \\\n1817813   54.700001        9.0                    0.0                    1.0   \n1743636   71.199997       49.0                    1.0                    0.0   \n1840077   33.299999       42.0                    0.0                    1.0   \n2194945   67.000000       22.0                    1.0                    0.0   \n1881636   65.800003       24.0                    0.0                    1.0   \n1231633   68.800003       18.0                    1.0                    0.0   \n1175648   55.099998       23.0                    1.0                    0.0   \n2048       9.600000       19.0                    0.0                    1.0   \n1082525   13.000000       11.0                    1.0                    0.0   \n889394     0.000000       12.0                    1.0                    0.0   \n\n         application_type_0  application_type_1  mort_acc  \\\n1817813                 0.0                 1.0       0.0   \n1743636                 0.0                 1.0       6.0   \n1840077                 0.0                 1.0       7.0   \n2194945                 0.0                 1.0       6.0   \n1881636                 0.0                 1.0       2.0   \n1231633                 0.0                 1.0       1.0   \n1175648                 0.0                 1.0       2.0   \n2048                    0.0                 1.0       3.0   \n1082525                 0.0                 1.0       0.0   \n889394                  0.0                 1.0       2.0   \n\n         pub_rec_bankruptcies  \n1817813                   0.0  \n1743636                   0.0  \n1840077                   0.0  \n2194945                   0.0  \n1881636                   0.0  \n1231633                   0.0  \n1175648                   0.0  \n2048                      0.0  \n1082525                   0.0  \n889394                    0.0  \n\n[10 rows x 34 columns]",
      "text/html": "<div>\n<style scoped>\n    .dataframe tbody tr th:only-of-type {\n        vertical-align: middle;\n    }\n\n    .dataframe tbody tr th {\n        vertical-align: top;\n    }\n\n    .dataframe thead th {\n        text-align: right;\n    }\n</style>\n<table border=\"1\" class=\"dataframe\">\n  <thead>\n    <tr style=\"text-align: right;\">\n      <th></th>\n      <th>loan_amnt</th>\n      <th>term_0</th>\n      <th>term_1</th>\n      <th>int_rate</th>\n      <th>installment</th>\n      <th>grade_0</th>\n      <th>grade_1</th>\n      <th>grade_2</th>\n      <th>emp_length</th>\n      <th>home_ownership_0</th>\n      <th>...</th>\n      <th>pub_rec</th>\n      <th>revol_bal</th>\n      <th>revol_util</th>\n      <th>total_acc</th>\n      <th>initial_list_status_0</th>\n      <th>initial_list_status_1</th>\n      <th>application_type_0</th>\n      <th>application_type_1</th>\n      <th>mort_acc</th>\n      <th>pub_rec_bankruptcies</th>\n    </tr>\n  </thead>\n  <tbody>\n    <tr>\n      <th>1817813</th>\n      <td>8325.0</td>\n      <td>0.0</td>\n      <td>1.0</td>\n      <td>9.71</td>\n      <td>267.500000</td>\n      <td>0.0</td>\n      <td>0.0</td>\n      <td>1.0</td>\n      <td>2.0</td>\n      <td>0.0</td>\n      <td>...</td>\n      <td>0.0</td>\n      <td>10063.0</td>\n      <td>54.700001</td>\n      <td>9.0</td>\n      <td>0.0</td>\n      <td>1.0</td>\n      <td>0.0</td>\n      <td>1.0</td>\n      <td>0.0</td>\n      <td>0.0</td>\n    </tr>\n    <tr>\n      <th>1743636</th>\n      <td>35000.0</td>\n      <td>1.0</td>\n      <td>0.0</td>\n      <td>14.99</td>\n      <td>832.469971</td>\n      <td>0.0</td>\n      <td>1.0</td>\n      <td>0.0</td>\n      <td>10.0</td>\n      <td>0.0</td>\n      <td>...</td>\n      <td>0.0</td>\n      <td>38943.0</td>\n      <td>71.199997</td>\n      <td>49.0</td>\n      <td>1.0</td>\n      <td>0.0</td>\n      <td>0.0</td>\n      <td>1.0</td>\n      <td>6.0</td>\n      <td>0.0</td>\n    </tr>\n    <tr>\n      <th>1840077</th>\n      <td>35000.0</td>\n      <td>1.0</td>\n      <td>0.0</td>\n      <td>21.49</td>\n      <td>956.549988</td>\n      <td>0.0</td>\n      <td>1.0</td>\n      <td>1.0</td>\n      <td>9.0</td>\n      <td>0.0</td>\n      <td>...</td>\n      <td>0.0</td>\n      <td>16633.0</td>\n      <td>33.299999</td>\n      <td>42.0</td>\n      <td>0.0</td>\n      <td>1.0</td>\n      <td>0.0</td>\n      <td>1.0</td>\n      <td>7.0</td>\n      <td>0.0</td>\n    </tr>\n    <tr>\n      <th>2194945</th>\n      <td>7200.0</td>\n      <td>0.0</td>\n      <td>1.0</td>\n      <td>11.49</td>\n      <td>237.399994</td>\n      <td>0.0</td>\n      <td>0.0</td>\n      <td>1.0</td>\n      <td>10.0</td>\n      <td>0.0</td>\n      <td>...</td>\n      <td>0.0</td>\n      <td>12502.0</td>\n      <td>67.000000</td>\n      <td>22.0</td>\n      <td>1.0</td>\n      <td>0.0</td>\n      <td>0.0</td>\n      <td>1.0</td>\n      <td>6.0</td>\n      <td>0.0</td>\n    </tr>\n    <tr>\n      <th>1881636</th>\n      <td>7200.0</td>\n      <td>0.0</td>\n      <td>1.0</td>\n      <td>12.12</td>\n      <td>239.559998</td>\n      <td>0.0</td>\n      <td>0.0</td>\n      <td>1.0</td>\n      <td>10.0</td>\n      <td>0.0</td>\n      <td>...</td>\n      <td>0.0</td>\n      <td>10994.0</td>\n      <td>65.800003</td>\n      <td>24.0</td>\n      <td>0.0</td>\n      <td>1.0</td>\n      <td>0.0</td>\n      <td>1.0</td>\n      <td>2.0</td>\n      <td>0.0</td>\n    </tr>\n    <tr>\n      <th>1231633</th>\n      <td>6000.0</td>\n      <td>0.0</td>\n      <td>1.0</td>\n      <td>11.67</td>\n      <td>198.350006</td>\n      <td>0.0</td>\n      <td>0.0</td>\n      <td>1.0</td>\n      <td>4.0</td>\n      <td>0.0</td>\n      <td>...</td>\n      <td>0.0</td>\n      <td>3097.0</td>\n      <td>68.800003</td>\n      <td>18.0</td>\n      <td>1.0</td>\n      <td>0.0</td>\n      <td>0.0</td>\n      <td>1.0</td>\n      <td>1.0</td>\n      <td>0.0</td>\n    </tr>\n    <tr>\n      <th>1175648</th>\n      <td>15000.0</td>\n      <td>1.0</td>\n      <td>0.0</td>\n      <td>22.15</td>\n      <td>415.570007</td>\n      <td>0.0</td>\n      <td>1.0</td>\n      <td>1.0</td>\n      <td>1.0</td>\n      <td>0.0</td>\n      <td>...</td>\n      <td>0.0</td>\n      <td>6442.0</td>\n      <td>55.099998</td>\n      <td>23.0</td>\n      <td>1.0</td>\n      <td>0.0</td>\n      <td>0.0</td>\n      <td>1.0</td>\n      <td>2.0</td>\n      <td>0.0</td>\n    </tr>\n    <tr>\n      <th>2048</th>\n      <td>20000.0</td>\n      <td>0.0</td>\n      <td>1.0</td>\n      <td>5.32</td>\n      <td>602.299988</td>\n      <td>1.0</td>\n      <td>0.0</td>\n      <td>0.0</td>\n      <td>0.0</td>\n      <td>0.0</td>\n      <td>...</td>\n      <td>0.0</td>\n      <td>8152.0</td>\n      <td>9.600000</td>\n      <td>19.0</td>\n      <td>0.0</td>\n      <td>1.0</td>\n      <td>0.0</td>\n      <td>1.0</td>\n      <td>3.0</td>\n      <td>0.0</td>\n    </tr>\n    <tr>\n      <th>1082525</th>\n      <td>33100.0</td>\n      <td>0.0</td>\n      <td>1.0</td>\n      <td>15.77</td>\n      <td>1159.949951</td>\n      <td>1.0</td>\n      <td>0.0</td>\n      <td>1.0</td>\n      <td>2.0</td>\n      <td>0.0</td>\n      <td>...</td>\n      <td>0.0</td>\n      <td>8850.0</td>\n      <td>13.000000</td>\n      <td>11.0</td>\n      <td>1.0</td>\n      <td>0.0</td>\n      <td>0.0</td>\n      <td>1.0</td>\n      <td>0.0</td>\n      <td>0.0</td>\n    </tr>\n    <tr>\n      <th>889394</th>\n      <td>28000.0</td>\n      <td>0.0</td>\n      <td>1.0</td>\n      <td>15.05</td>\n      <td>971.320007</td>\n      <td>0.0</td>\n      <td>1.0</td>\n      <td>0.0</td>\n      <td>2.0</td>\n      <td>0.0</td>\n      <td>...</td>\n      <td>1.0</td>\n      <td>0.0</td>\n      <td>0.000000</td>\n      <td>12.0</td>\n      <td>1.0</td>\n      <td>0.0</td>\n      <td>0.0</td>\n      <td>1.0</td>\n      <td>2.0</td>\n      <td>0.0</td>\n    </tr>\n  </tbody>\n</table>\n<p>10 rows × 34 columns</p>\n</div>"
     },
     "execution_count": 31,
     "metadata": {},
     "output_type": "execute_result"
    }
   ],
   "source": [
    "df_binary.head(10)"
   ],
   "metadata": {
    "collapsed": false,
    "pycharm": {
     "name": "#%%\n"
    }
   }
  },
  {
   "cell_type": "markdown",
   "source": [
    "## Create Balanced Data Set via Downsampling"
   ],
   "metadata": {
    "collapsed": false,
    "pycharm": {
     "name": "#%% md\n"
    }
   }
  },
  {
   "cell_type": "code",
   "execution_count": 32,
   "outputs": [
    {
     "name": "stdout",
     "output_type": "stream",
     "text": [
      "0.0    107708\n",
      "1.0     26823\n",
      "Name: loan_status, dtype: int64\n",
      "(134531, 34)\n"
     ]
    },
    {
     "data": {
      "text/plain": "<Figure size 432x288 with 1 Axes>",
      "image/png": "[encoded data removed]"
     },
     "metadata": {},
     "output_type": "display_data"
    }
   ],
   "source": [
    "print(df_binary.loan_status.value_counts())\n",
    "print(df_binary.shape)\n",
    "\n",
    "plt.title(\"Distribution of the target variable\", size=15)\n",
    "df_binary.groupby('loan_status').size().plot(kind='pie', y = \"loan_status\",\n",
    "                                             label = \"Type\", autopct='%1.1f%%',\n",
    "                                             wedgeprops = {\"edgecolor\": \"black\", \"alpha\": 0.75},\n",
    "                                             explode = [0.05, 0.05])\n",
    "plt.show()"
   ],
   "metadata": {
    "collapsed": false,
    "pycharm": {
     "name": "#%%\n"
    }
   }
  },
  {
   "cell_type": "code",
   "execution_count": 33,
   "outputs": [
    {
     "name": "stdout",
     "output_type": "stream",
     "text": [
      "0.0    34870\n",
      "1.0    26823\n",
      "Name: loan_status, dtype: int64\n"
     ]
    },
    {
     "data": {
      "text/plain": "<Figure size 432x288 with 1 Axes>",
      "image/png": "[encoded data removed]"
     },
     "metadata": {},
     "output_type": "display_data"
    }
   ],
   "source": [
    "# Downsampling\n",
    "loan_status_0 = df_binary[df_binary[\"loan_status\"] == 0.0]\n",
    "loan_status_1  = df_binary[df_binary[\"loan_status\"] == 1.0]\n",
    "\n",
    "loan_status_0_downsample = resample(loan_status_0,\n",
    "             replace=True,\n",
    "             n_samples=round(1.3*len(loan_status_1)),\n",
    "             random_state=42)\n",
    "\n",
    "df_binary_downsampled = pd.concat([loan_status_0_downsample, loan_status_1])\n",
    "\n",
    "print(df_binary_downsampled[\"loan_status\"].value_counts())\n",
    "# Plot settings\n",
    "plt.title(\"Distribution of the target variable\", size=15)\n",
    "df_binary_downsampled.groupby('loan_status').size().plot(kind='pie', y = \"loan_status\",\n",
    "                                             label = \"Type\", autopct='%1.1f%%',\n",
    "                                             wedgeprops = {\"edgecolor\": \"black\", \"alpha\": 0.75},\n",
    "                                             explode = [0.03, 0.03])\n",
    "plt.show()"
   ],
   "metadata": {
    "collapsed": false,
    "pycharm": {
     "name": "#%%\n"
    }
   }
  },
  {
   "cell_type": "markdown",
   "source": [
    "## Data Imputation\n",
    "Since we still have some NaNs in our feature, we replace them by taking the median values."
   ],
   "metadata": {
    "collapsed": false,
    "pycharm": {
     "name": "#%% md\n"
    }
   }
  },
  {
   "cell_type": "code",
   "execution_count": 34,
   "outputs": [
    {
     "data": {
      "text/plain": "         loan_amnt  term_0  term_1  int_rate  installment  grade_0  grade_1  \\\n2133803     6000.0     0.0     1.0      7.97   187.940002      1.0      0.0   \n1028489    28000.0     0.0     1.0     11.47   922.929993      0.0      0.0   \n1030571    25000.0     0.0     1.0     13.67   850.440002      0.0      1.0   \n1784170     4200.0     0.0     1.0     12.99   141.500000      0.0      0.0   \n1335402     6000.0     0.0     1.0     12.85   201.740005      0.0      0.0   \n\n         grade_2  emp_length  home_ownership_0  ...  pub_rec  revol_bal  \\\n2133803      0.0         0.0               0.0  ...      0.0     4592.0   \n1028489      1.0         8.0               0.0  ...      1.0     9984.0   \n1030571      0.0         8.0               0.0  ...      0.0    23850.0   \n1784170      1.0         8.0               0.0  ...      0.0    13803.0   \n1335402      1.0         9.0               0.0  ...      0.0     2191.0   \n\n         revol_util  total_acc  initial_list_status_0  initial_list_status_1  \\\n2133803   20.100000        9.0                    1.0                    0.0   \n1028489   45.000000       16.0                    1.0                    0.0   \n1030571   69.699997       22.0                    1.0                    0.0   \n1784170   67.300003       30.0                    0.0                    1.0   \n1335402    6.200000       13.0                    0.0                    1.0   \n\n         application_type_0  application_type_1  mort_acc  \\\n2133803                 0.0                 1.0       0.0   \n1028489                 0.0                 1.0       1.0   \n1030571                 0.0                 1.0       0.0   \n1784170                 0.0                 1.0       2.0   \n1335402                 0.0                 1.0       2.0   \n\n         pub_rec_bankruptcies  \n2133803                   0.0  \n1028489                   1.0  \n1030571                   0.0  \n1784170                   0.0  \n1335402                   0.0  \n\n[5 rows x 34 columns]",
      "text/html": "<div>\n<style scoped>\n    .dataframe tbody tr th:only-of-type {\n        vertical-align: middle;\n    }\n\n    .dataframe tbody tr th {\n        vertical-align: top;\n    }\n\n    .dataframe thead th {\n        text-align: right;\n    }\n</style>\n<table border=\"1\" class=\"dataframe\">\n  <thead>\n    <tr style=\"text-align: right;\">\n      <th></th>\n      <th>loan_amnt</th>\n      <th>term_0</th>\n      <th>term_1</th>\n      <th>int_rate</th>\n      <th>installment</th>\n      <th>grade_0</th>\n      <th>grade_1</th>\n      <th>grade_2</th>\n      <th>emp_length</th>\n      <th>home_ownership_0</th>\n      <th>...</th>\n      <th>pub_rec</th>\n      <th>revol_bal</th>\n      <th>revol_util</th>\n      <th>total_acc</th>\n      <th>initial_list_status_0</th>\n      <th>initial_list_status_1</th>\n      <th>application_type_0</th>\n      <th>application_type_1</th>\n      <th>mort_acc</th>\n      <th>pub_rec_bankruptcies</th>\n    </tr>\n  </thead>\n  <tbody>\n    <tr>\n      <th>2133803</th>\n      <td>6000.0</td>\n      <td>0.0</td>\n      <td>1.0</td>\n      <td>7.97</td>\n      <td>187.940002</td>\n      <td>1.0</td>\n      <td>0.0</td>\n      <td>0.0</td>\n      <td>0.0</td>\n      <td>0.0</td>\n      <td>...</td>\n      <td>0.0</td>\n      <td>4592.0</td>\n      <td>20.100000</td>\n      <td>9.0</td>\n      <td>1.0</td>\n      <td>0.0</td>\n      <td>0.0</td>\n      <td>1.0</td>\n      <td>0.0</td>\n      <td>0.0</td>\n    </tr>\n    <tr>\n      <th>1028489</th>\n      <td>28000.0</td>\n      <td>0.0</td>\n      <td>1.0</td>\n      <td>11.47</td>\n      <td>922.929993</td>\n      <td>0.0</td>\n      <td>0.0</td>\n      <td>1.0</td>\n      <td>8.0</td>\n      <td>0.0</td>\n      <td>...</td>\n      <td>1.0</td>\n      <td>9984.0</td>\n      <td>45.000000</td>\n      <td>16.0</td>\n      <td>1.0</td>\n      <td>0.0</td>\n      <td>0.0</td>\n      <td>1.0</td>\n      <td>1.0</td>\n      <td>1.0</td>\n    </tr>\n    <tr>\n      <th>1030571</th>\n      <td>25000.0</td>\n      <td>0.0</td>\n      <td>1.0</td>\n      <td>13.67</td>\n      <td>850.440002</td>\n      <td>0.0</td>\n      <td>1.0</td>\n      <td>0.0</td>\n      <td>8.0</td>\n      <td>0.0</td>\n      <td>...</td>\n      <td>0.0</td>\n      <td>23850.0</td>\n      <td>69.699997</td>\n      <td>22.0</td>\n      <td>1.0</td>\n      <td>0.0</td>\n      <td>0.0</td>\n      <td>1.0</td>\n      <td>0.0</td>\n      <td>0.0</td>\n    </tr>\n    <tr>\n      <th>1784170</th>\n      <td>4200.0</td>\n      <td>0.0</td>\n      <td>1.0</td>\n      <td>12.99</td>\n      <td>141.500000</td>\n      <td>0.0</td>\n      <td>0.0</td>\n      <td>1.0</td>\n      <td>8.0</td>\n      <td>0.0</td>\n      <td>...</td>\n      <td>0.0</td>\n      <td>13803.0</td>\n      <td>67.300003</td>\n      <td>30.0</td>\n      <td>0.0</td>\n      <td>1.0</td>\n      <td>0.0</td>\n      <td>1.0</td>\n      <td>2.0</td>\n      <td>0.0</td>\n    </tr>\n    <tr>\n      <th>1335402</th>\n      <td>6000.0</td>\n      <td>0.0</td>\n      <td>1.0</td>\n      <td>12.85</td>\n      <td>201.740005</td>\n      <td>0.0</td>\n      <td>0.0</td>\n      <td>1.0</td>\n      <td>9.0</td>\n      <td>0.0</td>\n      <td>...</td>\n      <td>0.0</td>\n      <td>2191.0</td>\n      <td>6.200000</td>\n      <td>13.0</td>\n      <td>0.0</td>\n      <td>1.0</td>\n      <td>0.0</td>\n      <td>1.0</td>\n      <td>2.0</td>\n      <td>0.0</td>\n    </tr>\n  </tbody>\n</table>\n<p>5 rows × 34 columns</p>\n</div>"
     },
     "execution_count": 34,
     "metadata": {},
     "output_type": "execute_result"
    }
   ],
   "source": [
    "# Fill NaNs with Median\n",
    "df_binary_downsampled = df_binary_downsampled.fillna(df_binary_downsampled.median())\n",
    "# Preview\n",
    "df_binary_downsampled.head(5)"
   ],
   "metadata": {
    "collapsed": false,
    "pycharm": {
     "name": "#%%\n"
    }
   }
  },
  {
   "cell_type": "markdown",
   "source": [
    "## Data Split\n",
    "In this section we split the data into a training and test set. The corresponding model is then trained on the training set and tested on the test set."
   ],
   "metadata": {
    "collapsed": false,
    "pycharm": {
     "name": "#%% md\n"
    }
   }
  },
  {
   "cell_type": "code",
   "execution_count": 35,
   "outputs": [
    {
     "name": "stdout",
     "output_type": "stream",
     "text": [
      "Shape of X_train: (43185, 33)\n",
      "Shape of X_test: (18508, 33)\n",
      "Shape of y_train: (43185,)\n",
      "Shape of y_test: (18508,)\n"
     ]
    }
   ],
   "source": [
    "# Fraction of test data\n",
    "TEST_SIZE = 0.3\n",
    "\n",
    "X = df_binary_downsampled.drop(\"loan_status\", axis=1)\n",
    "y = df_binary_downsampled[\"loan_status\"]\n",
    "\n",
    "# Split data into train and test data\n",
    "X_train, X_test, y_train, y_test = train_test_split(X, y, test_size=TEST_SIZE, random_state=42, stratify=y)\n",
    "\n",
    "print(f\"Shape of X_train: {X_train.shape}\")\n",
    "print(f\"Shape of X_test: {X_test.shape}\")\n",
    "print(f\"Shape of y_train: {y_train.shape}\")\n",
    "print(f\"Shape of y_test: {y_test.shape}\")"
   ],
   "metadata": {
    "collapsed": false,
    "pycharm": {
     "name": "#%%\n"
    }
   }
  },
  {
   "cell_type": "markdown",
   "source": [
    "## Scaling\n",
    "We scale the data with the MinMaxScaler to a range of $[0, 1]$"
   ],
   "metadata": {
    "collapsed": false,
    "pycharm": {
     "name": "#%% md\n"
    }
   }
  },
  {
   "cell_type": "code",
   "execution_count": 36,
   "outputs": [
    {
     "data": {
      "text/plain": "         0    1    2         3         4    5    6    7    8    9   ...  \\\n0  0.358974  0.0  1.0  0.139798  0.267976  1.0  0.0  0.0  0.2  0.0  ...   \n1  0.538462  0.0  1.0  0.111760  0.395039  0.0  0.0  1.0  0.1  0.0  ...   \n2  0.615385  1.0  0.0  0.496495  0.362187  1.0  0.0  1.0  1.0  0.0  ...   \n3  0.743590  0.0  1.0  0.389408  0.603897  0.0  1.0  0.0  0.5  0.0  ...   \n4  0.487180  0.0  1.0  0.100467  0.356311  1.0  0.0  0.0  1.0  0.0  ...   \n5  0.102564  0.0  1.0  0.401480  0.089765  1.0  0.0  1.0  0.1  0.0  ...   \n6  0.487180  1.0  0.0  0.488707  0.285741  1.0  0.0  1.0  1.0  0.0  ...   \n7  0.487180  0.0  1.0  0.503894  0.415334  1.0  0.0  1.0  0.2  0.0  ...   \n8  0.115385  0.0  1.0  0.274143  0.094938  0.0  0.0  1.0  0.2  0.0  ...   \n9  0.051282  0.0  1.0  0.401090  0.048412  1.0  0.0  1.0  0.0  0.0  ...   \n\n         23        24        25        26   27   28   29   30        31   32  \n0  0.000000  0.019716  0.652609  0.126126  1.0  0.0  0.0  1.0  0.000000  0.0  \n1  0.000000  0.030615  0.393138  0.441441  1.0  0.0  0.0  1.0  0.000000  0.0  \n2  0.000000  0.017291  0.472480  0.189189  1.0  0.0  0.0  1.0  0.000000  0.0  \n3  0.000000  0.030721  0.488921  0.162162  0.0  1.0  0.0  1.0  0.000000  0.0  \n4  0.000000  0.038678  0.433167  0.387387  0.0  1.0  0.0  1.0  0.269231  0.0  \n5  0.000000  0.005769  0.522516  0.027027  0.0  1.0  0.0  1.0  0.038462  0.0  \n6  0.000000  0.034242  0.355969  0.351351  0.0  1.0  0.0  1.0  0.038462  0.0  \n7  0.086957  0.017505  0.637598  0.099099  1.0  0.0  0.0  1.0  0.000000  0.0  \n8  0.000000  0.008410  0.215154  0.090090  0.0  1.0  0.0  1.0  0.000000  0.0  \n9  0.000000  0.011145  0.375983  0.054054  0.0  1.0  0.0  1.0  0.000000  0.0  \n\n[10 rows x 33 columns]",
      "text/html": "<div>\n<style scoped>\n    .dataframe tbody tr th:only-of-type {\n        vertical-align: middle;\n    }\n\n    .dataframe tbody tr th {\n        vertical-align: top;\n    }\n\n    .dataframe thead th {\n        text-align: right;\n    }\n</style>\n<table border=\"1\" class=\"dataframe\">\n  <thead>\n    <tr style=\"text-align: right;\">\n      <th></th>\n      <th>0</th>\n      <th>1</th>\n      <th>2</th>\n      <th>3</th>\n      <th>4</th>\n      <th>5</th>\n      <th>6</th>\n      <th>7</th>\n      <th>8</th>\n      <th>9</th>\n      <th>...</th>\n      <th>23</th>\n      <th>24</th>\n      <th>25</th>\n      <th>26</th>\n      <th>27</th>\n      <th>28</th>\n      <th>29</th>\n      <th>30</th>\n      <th>31</th>\n      <th>32</th>\n    </tr>\n  </thead>\n  <tbody>\n    <tr>\n      <th>0</th>\n      <td>0.358974</td>\n      <td>0.0</td>\n      <td>1.0</td>\n      <td>0.139798</td>\n      <td>0.267976</td>\n      <td>1.0</td>\n      <td>0.0</td>\n      <td>0.0</td>\n      <td>0.2</td>\n      <td>0.0</td>\n      <td>...</td>\n      <td>0.000000</td>\n      <td>0.019716</td>\n      <td>0.652609</td>\n      <td>0.126126</td>\n      <td>1.0</td>\n      <td>0.0</td>\n      <td>0.0</td>\n      <td>1.0</td>\n      <td>0.000000</td>\n      <td>0.0</td>\n    </tr>\n    <tr>\n      <th>1</th>\n      <td>0.538462</td>\n      <td>0.0</td>\n      <td>1.0</td>\n      <td>0.111760</td>\n      <td>0.395039</td>\n      <td>0.0</td>\n      <td>0.0</td>\n      <td>1.0</td>\n      <td>0.1</td>\n      <td>0.0</td>\n      <td>...</td>\n      <td>0.000000</td>\n      <td>0.030615</td>\n      <td>0.393138</td>\n      <td>0.441441</td>\n      <td>1.0</td>\n      <td>0.0</td>\n      <td>0.0</td>\n      <td>1.0</td>\n      <td>0.000000</td>\n      <td>0.0</td>\n    </tr>\n    <tr>\n      <th>2</th>\n      <td>0.615385</td>\n      <td>1.0</td>\n      <td>0.0</td>\n      <td>0.496495</td>\n      <td>0.362187</td>\n      <td>1.0</td>\n      <td>0.0</td>\n      <td>1.0</td>\n      <td>1.0</td>\n      <td>0.0</td>\n      <td>...</td>\n      <td>0.000000</td>\n      <td>0.017291</td>\n      <td>0.472480</td>\n      <td>0.189189</td>\n      <td>1.0</td>\n      <td>0.0</td>\n      <td>0.0</td>\n      <td>1.0</td>\n      <td>0.000000</td>\n      <td>0.0</td>\n    </tr>\n    <tr>\n      <th>3</th>\n      <td>0.743590</td>\n      <td>0.0</td>\n      <td>1.0</td>\n      <td>0.389408</td>\n      <td>0.603897</td>\n      <td>0.0</td>\n      <td>1.0</td>\n      <td>0.0</td>\n      <td>0.5</td>\n      <td>0.0</td>\n      <td>...</td>\n      <td>0.000000</td>\n      <td>0.030721</td>\n      <td>0.488921</td>\n      <td>0.162162</td>\n      <td>0.0</td>\n      <td>1.0</td>\n      <td>0.0</td>\n      <td>1.0</td>\n      <td>0.000000</td>\n      <td>0.0</td>\n    </tr>\n    <tr>\n      <th>4</th>\n      <td>0.487180</td>\n      <td>0.0</td>\n      <td>1.0</td>\n      <td>0.100467</td>\n      <td>0.356311</td>\n      <td>1.0</td>\n      <td>0.0</td>\n      <td>0.0</td>\n      <td>1.0</td>\n      <td>0.0</td>\n      <td>...</td>\n      <td>0.000000</td>\n      <td>0.038678</td>\n      <td>0.433167</td>\n      <td>0.387387</td>\n      <td>0.0</td>\n      <td>1.0</td>\n      <td>0.0</td>\n      <td>1.0</td>\n      <td>0.269231</td>\n      <td>0.0</td>\n    </tr>\n    <tr>\n      <th>5</th>\n      <td>0.102564</td>\n      <td>0.0</td>\n      <td>1.0</td>\n      <td>0.401480</td>\n      <td>0.089765</td>\n      <td>1.0</td>\n      <td>0.0</td>\n      <td>1.0</td>\n      <td>0.1</td>\n      <td>0.0</td>\n      <td>...</td>\n      <td>0.000000</td>\n      <td>0.005769</td>\n      <td>0.522516</td>\n      <td>0.027027</td>\n      <td>0.0</td>\n      <td>1.0</td>\n      <td>0.0</td>\n      <td>1.0</td>\n      <td>0.038462</td>\n      <td>0.0</td>\n    </tr>\n    <tr>\n      <th>6</th>\n      <td>0.487180</td>\n      <td>1.0</td>\n      <td>0.0</td>\n      <td>0.488707</td>\n      <td>0.285741</td>\n      <td>1.0</td>\n      <td>0.0</td>\n      <td>1.0</td>\n      <td>1.0</td>\n      <td>0.0</td>\n      <td>...</td>\n      <td>0.000000</td>\n      <td>0.034242</td>\n      <td>0.355969</td>\n      <td>0.351351</td>\n      <td>0.0</td>\n      <td>1.0</td>\n      <td>0.0</td>\n      <td>1.0</td>\n      <td>0.038462</td>\n      <td>0.0</td>\n    </tr>\n    <tr>\n      <th>7</th>\n      <td>0.487180</td>\n      <td>0.0</td>\n      <td>1.0</td>\n      <td>0.503894</td>\n      <td>0.415334</td>\n      <td>1.0</td>\n      <td>0.0</td>\n      <td>1.0</td>\n      <td>0.2</td>\n      <td>0.0</td>\n      <td>...</td>\n      <td>0.086957</td>\n      <td>0.017505</td>\n      <td>0.637598</td>\n      <td>0.099099</td>\n      <td>1.0</td>\n      <td>0.0</td>\n      <td>0.0</td>\n      <td>1.0</td>\n      <td>0.000000</td>\n      <td>0.0</td>\n    </tr>\n    <tr>\n      <th>8</th>\n      <td>0.115385</td>\n      <td>0.0</td>\n      <td>1.0</td>\n      <td>0.274143</td>\n      <td>0.094938</td>\n      <td>0.0</td>\n      <td>0.0</td>\n      <td>1.0</td>\n      <td>0.2</td>\n      <td>0.0</td>\n      <td>...</td>\n      <td>0.000000</td>\n      <td>0.008410</td>\n      <td>0.215154</td>\n      <td>0.090090</td>\n      <td>0.0</td>\n      <td>1.0</td>\n      <td>0.0</td>\n      <td>1.0</td>\n      <td>0.000000</td>\n      <td>0.0</td>\n    </tr>\n    <tr>\n      <th>9</th>\n      <td>0.051282</td>\n      <td>0.0</td>\n      <td>1.0</td>\n      <td>0.401090</td>\n      <td>0.048412</td>\n      <td>1.0</td>\n      <td>0.0</td>\n      <td>1.0</td>\n      <td>0.0</td>\n      <td>0.0</td>\n      <td>...</td>\n      <td>0.000000</td>\n      <td>0.011145</td>\n      <td>0.375983</td>\n      <td>0.054054</td>\n      <td>0.0</td>\n      <td>1.0</td>\n      <td>0.0</td>\n      <td>1.0</td>\n      <td>0.000000</td>\n      <td>0.0</td>\n    </tr>\n  </tbody>\n</table>\n<p>10 rows × 33 columns</p>\n</div>"
     },
     "execution_count": 36,
     "metadata": {},
     "output_type": "execute_result"
    }
   ],
   "source": [
    "# Init object\n",
    "scaler = MinMaxScaler()\n",
    "# Scale X_train\n",
    "X_train_scaled = scaler.fit_transform(X_train)\n",
    "X_train_scaled = pd.DataFrame(X_train_scaled)\n",
    "# Scale X_test\n",
    "X_test_scaled = scaler.transform(X_test)\n",
    "X_test_scaled = pd.DataFrame(X_test_scaled)\n",
    "\n",
    "# Preview X_train_scaled\n",
    "X_train_scaled.head(10)"
   ],
   "metadata": {
    "collapsed": false,
    "pycharm": {
     "name": "#%%\n"
    }
   }
  },
  {
   "cell_type": "markdown",
   "source": [
    "---\n",
    "# Task 3: Logistic Regression In Sample\n",
    "Use logistic regression (in-sample) for default prediction. Interpret your results for logistic regression"
   ],
   "metadata": {
    "collapsed": false,
    "pycharm": {
     "name": "#%% md\n"
    }
   }
  },
  {
   "cell_type": "code",
   "execution_count": 37,
   "outputs": [],
   "source": [
    "# Fit Model\n",
    "lr = LogisticRegression(max_iter=1000, fit_intercept=True)\n",
    "lr.fit(X_train_scaled, y_train)\n",
    "\n",
    "# Predict in sample, i.e. predict on seen data (trainings data) instead of unseen data (test)\n",
    "y_pred = lr.predict(X_train_scaled)"
   ],
   "metadata": {
    "collapsed": false,
    "pycharm": {
     "name": "#%%\n"
    }
   }
  },
  {
   "cell_type": "code",
   "execution_count": 38,
   "outputs": [
    {
     "data": {
      "text/plain": "<Figure size 432x288 with 2 Axes>",
      "image/png": "[encoded data removed]"
     },
     "metadata": {},
     "output_type": "display_data"
    },
    {
     "name": "stdout",
     "output_type": "stream",
     "text": [
      "              precision    recall  f1-score   support\n",
      "\n",
      "         0.0       0.67      0.78      0.72     24409\n",
      "         1.0       0.63      0.49      0.55     18776\n",
      "\n",
      "    accuracy                           0.65     43185\n",
      "   macro avg       0.65      0.64      0.64     43185\n",
      "weighted avg       0.65      0.65      0.65     43185\n",
      "\n"
     ]
    }
   ],
   "source": [
    "# Plot Confusion matrics\n",
    "cm = confusion_matrix(y_true=y_train, y_pred=y_pred)\n",
    "sns.heatmap(cm, annot=True, fmt='d')\n",
    "plt.title(\"Confusion matrix\")\n",
    "plt.xlabel(\"Predicted\")\n",
    "plt.ylabel(\"Actual\")\n",
    "plt.show()\n",
    "\n",
    "# Plot classification report\n",
    "print(classification_report(y_true=y_train, y_pred=y_pred))\n",
    "#print(precision_recall_fscore_support(y_true=y_train, y_pred=y_pred, average=\"micro\"))\n",
    "#print(round(accuracy_score(y_true=y_train, y_pred=y_pred), 4))"
   ],
   "metadata": {
    "collapsed": false,
    "pycharm": {
     "name": "#%%\n"
    }
   }
  },
  {
   "cell_type": "markdown",
   "source": [
    "## Interpretation:\n",
    "TBD"
   ],
   "metadata": {
    "collapsed": false,
    "pycharm": {
     "name": "#%% md\n"
    }
   }
  },
  {
   "cell_type": "markdown",
   "source": [
    "---\n",
    "# Task 4: Compare different classification models\n",
    "Comparing\n",
    "* logistic regression,\n",
    "* classification tree,\n",
    "* random forest,\n",
    "* bagging,\n",
    "* support vector machine (with two kernel functions),\n",
    "* and neural network\n",
    "\n",
    "for default prediction based on the out-of-sample performance measures (at least three different measures)."
   ],
   "metadata": {
    "collapsed": false,
    "pycharm": {
     "name": "#%% md\n"
    }
   }
  },
  {
   "cell_type": "code",
   "execution_count": 39,
   "outputs": [
    {
     "data": {
      "text/plain": "  0%|          | 0/7 [00:00<?, ?it/s]",
      "application/vnd.jupyter.widget-view+json": {
       "version_major": 2,
       "version_minor": 0,
       "model_id": "d9e1a2286aa24f9081fce667f74f0f4a"
      }
     },
     "metadata": {},
     "output_type": "display_data"
    },
    {
     "name": "stdout",
     "output_type": "stream",
     "text": [
      "CPU times: total: 266 ms\n",
      "Wall time: 36.5 s\n"
     ]
    }
   ],
   "source": [
    "%%time\n",
    "models = []\n",
    "\n",
    "models.append((\"LogisticRegression\",LogisticRegression(fit_intercept=True, max_iter=1000, solver=\"saga\")))\n",
    "models.append((\"DecisionTree\",DecisionTreeClassifier()))\n",
    "models.append((\"RandomForest\",RandomForestClassifier()))\n",
    "models.append((\"BaggingCLF\",BaggingClassifier()))\n",
    "models.append((\"SVC_rbf\",SVC(kernel='rbf', max_iter=500)))\n",
    "models.append((\"SVC_poly\",SVC(kernel=\"poly\", max_iter=500)))\n",
    "models.append((\"NeuronalNetwork\", MLPClassifier(alpha=1, max_iter=1000)))\n",
    "\n",
    "results = []\n",
    "names = []\n",
    "# Define scoring metrices for CV\n",
    "scoring = [\"accuracy\", \"precision_micro\", \"recall_micro\", \"f1_micro\"]\n",
    "for name, model in tqdm(models):\n",
    "    result = cross_validate(model, X_train_scaled, y_train,  cv=3, n_jobs=-1, scoring=scoring)\n",
    "    names.append(name)\n",
    "    results.append(result)"
   ],
   "metadata": {
    "collapsed": false,
    "pycharm": {
     "name": "#%%\n"
    }
   }
  },
  {
   "cell_type": "code",
   "execution_count": 40,
   "outputs": [
    {
     "data": {
      "text/plain": "                    fit_time  test_accuracy  test_precision_micro  \\\nRandomForest          5.1258         0.6716                0.6716   \nLogisticRegression    1.1458         0.6532                0.6532   \nNeuronalNetwork      10.7023         0.6476                0.6476   \nBaggingCLF            2.4225         0.6384                0.6384   \nDecisionTree          0.4082         0.6016                0.6016   \nSVC_rbf               2.4349         0.5574                0.5574   \nSVC_poly              1.7856         0.4409                0.4409   \n\n                    test_recall_micro  test_f1_micro  \nRandomForest                   0.6716         0.6716  \nLogisticRegression             0.6532         0.6532  \nNeuronalNetwork                0.6476         0.6476  \nBaggingCLF                     0.6384         0.6384  \nDecisionTree                   0.6016         0.6016  \nSVC_rbf                        0.5574         0.5574  \nSVC_poly                       0.4409         0.4409  ",
      "text/html": "<div>\n<style scoped>\n    .dataframe tbody tr th:only-of-type {\n        vertical-align: middle;\n    }\n\n    .dataframe tbody tr th {\n        vertical-align: top;\n    }\n\n    .dataframe thead th {\n        text-align: right;\n    }\n</style>\n<table border=\"1\" class=\"dataframe\">\n  <thead>\n    <tr style=\"text-align: right;\">\n      <th></th>\n      <th>fit_time</th>\n      <th>test_accuracy</th>\n      <th>test_precision_micro</th>\n      <th>test_recall_micro</th>\n      <th>test_f1_micro</th>\n    </tr>\n  </thead>\n  <tbody>\n    <tr>\n      <th>RandomForest</th>\n      <td>5.1258</td>\n      <td>0.6716</td>\n      <td>0.6716</td>\n      <td>0.6716</td>\n      <td>0.6716</td>\n    </tr>\n    <tr>\n      <th>LogisticRegression</th>\n      <td>1.1458</td>\n      <td>0.6532</td>\n      <td>0.6532</td>\n      <td>0.6532</td>\n      <td>0.6532</td>\n    </tr>\n    <tr>\n      <th>NeuronalNetwork</th>\n      <td>10.7023</td>\n      <td>0.6476</td>\n      <td>0.6476</td>\n      <td>0.6476</td>\n      <td>0.6476</td>\n    </tr>\n    <tr>\n      <th>BaggingCLF</th>\n      <td>2.4225</td>\n      <td>0.6384</td>\n      <td>0.6384</td>\n      <td>0.6384</td>\n      <td>0.6384</td>\n    </tr>\n    <tr>\n      <th>DecisionTree</th>\n      <td>0.4082</td>\n      <td>0.6016</td>\n      <td>0.6016</td>\n      <td>0.6016</td>\n      <td>0.6016</td>\n    </tr>\n    <tr>\n      <th>SVC_rbf</th>\n      <td>2.4349</td>\n      <td>0.5574</td>\n      <td>0.5574</td>\n      <td>0.5574</td>\n      <td>0.5574</td>\n    </tr>\n    <tr>\n      <th>SVC_poly</th>\n      <td>1.7856</td>\n      <td>0.4409</td>\n      <td>0.4409</td>\n      <td>0.4409</td>\n      <td>0.4409</td>\n    </tr>\n  </tbody>\n</table>\n</div>"
     },
     "execution_count": 40,
     "metadata": {},
     "output_type": "execute_result"
    }
   ],
   "source": [
    "# Get name of metrices (will be column in result_df)\n",
    "metrices = list(results[0].keys())\n",
    "# Create empty dataframe\n",
    "results_df = pd.DataFrame(index=names, columns=metrices, dtype=\"float32\")\n",
    "\n",
    "# File dataframe by iterating over all results and taking the mean value\n",
    "for i, name in enumerate(models):\n",
    "    mean_of_metrices = []\n",
    "    for key in results[i].keys():\n",
    "        mean_of_metrices.append(results[i].get(key).mean())\n",
    "    results_df.iloc[i] = mean_of_metrices\n",
    "\n",
    "# Drop scoring_time column as it is not of interest\n",
    "results_df.drop(\"score_time\", axis=1, inplace=True)\n",
    "# Round to 4 decimal places\n",
    "results_df = results_df.round(decimals=4)\n",
    "# Sort descending of f1 score\n",
    "results_df = results_df.sort_values(by=\"test_f1_micro\", ascending=False)\n",
    "# Preview\n",
    "results_df"
   ],
   "metadata": {
    "collapsed": false,
    "pycharm": {
     "name": "#%%\n"
    }
   }
  },
  {
   "cell_type": "markdown",
   "source": [
    "## Results:\n",
    "We can see that a RandomForest Model performs the best according to the f1 score, which is the harmonic mean between recall and precision. Also LogisticRegression, as a very good interpretable model, performs pretty well and is ranked 2nd. SVC, on the other hands, perform very poorly."
   ],
   "metadata": {
    "collapsed": false,
    "pycharm": {
     "name": "#%% md\n"
    }
   }
  },
  {
   "cell_type": "markdown",
   "source": [
    "---\n",
    "# Task 5: Use LASSO for variable selection and explain results"
   ],
   "metadata": {
    "collapsed": false,
    "pycharm": {
     "name": "#%% md\n"
    }
   }
  },
  {
   "cell_type": "code",
   "execution_count": 41,
   "outputs": [],
   "source": [
    "#TBD"
   ],
   "metadata": {
    "collapsed": false,
    "pycharm": {
     "name": "#%%\n"
    }
   }
  },
  {
   "cell_type": "code",
   "execution_count": 42,
   "outputs": [],
   "source": [
    "#PUFFER"
   ],
   "metadata": {
    "collapsed": false,
    "pycharm": {
     "name": "#%%\n"
    }
   }
  },
  {
   "cell_type": "markdown",
   "source": [
    "# Task 6: Which model do you suggest to the peer-to-peer company? Why?\n",
    "We rate each model based on the following four criterias learned on the lecture:\n",
    "- Interpretability\n",
    "- Robustness\n",
    "- Speed\n",
    "- Scalability\n",
    "TODO"
   ],
   "metadata": {
    "collapsed": false,
    "pycharm": {
     "name": "#%% md\n"
    }
   }
  }
 ],
 "metadata": {
  "kernelspec": {
   "name": "python3",
   "language": "python",
   "display_name": "Python 3 (ipykernel)"
  },
  "language_info": {
   "codemirror_mode": {
    "name": "ipython",
    "version": 2
   },
   "file_extension": ".py",
   "mimetype": "text/x-python",
   "name": "python",
   "nbconvert_exporter": "python",
   "pygments_lexer": "ipython2",
   "version": "2.7.6"
  }
 },
 "nbformat": 4,
 "nbformat_minor": 0
}