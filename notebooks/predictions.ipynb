{
 "cells": [
  {
   "cell_type": "code",
   "execution_count": 1,
   "metadata": {
    "collapsed": false,
    "pycharm": {
     "name": "#%%\n"
    }
   },
   "outputs": [],
   "source": [
    "import pandas as pd\n",
    "import numpy as np\n",
    "import matplotlib.pyplot as plt\n",
    "import seaborn as sns\n",
    "import sklearn.metrics\n",
    "from sklearn.utils import resample\n",
    "# For modeling\n",
    "from sklearn.linear_model import LogisticRegression\n",
    "from sklearn.ensemble import RandomForestClassifier, BaggingClassifier\n",
    "from sklearn.tree import DecisionTreeClassifier\n",
    "from sklearn.neural_network import MLPClassifier\n",
    "from sklearn.metrics import confusion_matrix, classification_report, precision_recall_fscore_support, accuracy_score\n",
    "from sklearn.model_selection import cross_val_score, train_test_split, cross_validate, GridSearchCV\n",
    "from sklearn.preprocessing import StandardScaler, MinMaxScaler\n",
    "from sklearn.svm import SVC\n",
    "from sklearn.pipeline import Pipeline\n",
    "from tqdm.notebook import tqdm\n",
    "from matplotlib.colors import ListedColormap\n",
    "#sns.set_palette('viridis')\n",
    "pd.options.mode.chained_assignment = None  # Supress warning, default='warn'"
   ]
  },
  {
   "cell_type": "markdown",
   "metadata": {
    "collapsed": false,
    "pycharm": {
     "name": "#%% md\n"
    }
   },
   "source": [
    "# Read Data\n",
    "In this section we read the data (pickle file) after the preprocessing from the preprocessing notebook/part"
   ]
  },
  {
   "cell_type": "code",
   "execution_count": 2,
   "metadata": {
    "collapsed": false,
    "pycharm": {
     "name": "#%%\n"
    }
   },
   "outputs": [
    {
     "name": "stdout",
     "output_type": "stream",
     "text": [
      "Shape of df: (1345310, 101)\n"
     ]
    },
    {
     "data": {
      "text/plain": "   loan_amnt  funded_amnt  funded_amnt_inv term  int_rate  installment grade  \\\n0     3600.0       3600.0           3600.0   36     13.99       123.03     C   \n1    24700.0      24700.0          24700.0   36     11.99       820.28     C   \n2    20000.0      20000.0          20000.0   60     10.78       432.66     B   \n4    10400.0      10400.0          10400.0   60     22.45       289.91     F   \n5    11950.0      11950.0          11950.0   36     13.44       405.18     C   \n\n  sub_grade  emp_length home_ownership  ...  percent_bc_gt_75  \\\n0        C4        10.0       MORTGAGE  ...               0.0   \n1        C1        10.0       MORTGAGE  ...               7.7   \n2        B4        10.0       MORTGAGE  ...              50.0   \n4        F1         3.0       MORTGAGE  ...              60.0   \n5        C3         4.0           RENT  ...             100.0   \n\n  pub_rec_bankruptcies  tax_liens tot_hi_cred_lim total_bal_ex_mort  \\\n0                  0.0        0.0        178050.0            7746.0   \n1                  0.0        0.0        314017.0           39475.0   \n2                  0.0        0.0        218418.0           18696.0   \n4                  0.0        0.0        439570.0           95768.0   \n5                  0.0        0.0         16900.0           12798.0   \n\n  total_bc_limit  total_il_high_credit_limit  hardship_flag  \\\n0         2400.0                     13734.0              N   \n1        79300.0                     24667.0              N   \n2         6200.0                     14877.0              N   \n4        20300.0                     88097.0              N   \n5         9400.0                      4000.0              N   \n\n   disbursement_method  debt_settlement_flag  \n0                 Cash                     N  \n1                 Cash                     N  \n2                 Cash                     N  \n4                 Cash                     N  \n5                 Cash                     N  \n\n[5 rows x 101 columns]",
      "text/html": "<div>\n<style scoped>\n    .dataframe tbody tr th:only-of-type {\n        vertical-align: middle;\n    }\n\n    .dataframe tbody tr th {\n        vertical-align: top;\n    }\n\n    .dataframe thead th {\n        text-align: right;\n    }\n</style>\n<table border=\"1\" class=\"dataframe\">\n  <thead>\n    <tr style=\"text-align: right;\">\n      <th></th>\n      <th>loan_amnt</th>\n      <th>funded_amnt</th>\n      <th>funded_amnt_inv</th>\n      <th>term</th>\n      <th>int_rate</th>\n      <th>installment</th>\n      <th>grade</th>\n      <th>sub_grade</th>\n      <th>emp_length</th>\n      <th>home_ownership</th>\n      <th>...</th>\n      <th>percent_bc_gt_75</th>\n      <th>pub_rec_bankruptcies</th>\n      <th>tax_liens</th>\n      <th>tot_hi_cred_lim</th>\n      <th>total_bal_ex_mort</th>\n      <th>total_bc_limit</th>\n      <th>total_il_high_credit_limit</th>\n      <th>hardship_flag</th>\n      <th>disbursement_method</th>\n      <th>debt_settlement_flag</th>\n    </tr>\n  </thead>\n  <tbody>\n    <tr>\n      <th>0</th>\n      <td>3600.0</td>\n      <td>3600.0</td>\n      <td>3600.0</td>\n      <td>36</td>\n      <td>13.99</td>\n      <td>123.03</td>\n      <td>C</td>\n      <td>C4</td>\n      <td>10.0</td>\n      <td>MORTGAGE</td>\n      <td>...</td>\n      <td>0.0</td>\n      <td>0.0</td>\n      <td>0.0</td>\n      <td>178050.0</td>\n      <td>7746.0</td>\n      <td>2400.0</td>\n      <td>13734.0</td>\n      <td>N</td>\n      <td>Cash</td>\n      <td>N</td>\n    </tr>\n    <tr>\n      <th>1</th>\n      <td>24700.0</td>\n      <td>24700.0</td>\n      <td>24700.0</td>\n      <td>36</td>\n      <td>11.99</td>\n      <td>820.28</td>\n      <td>C</td>\n      <td>C1</td>\n      <td>10.0</td>\n      <td>MORTGAGE</td>\n      <td>...</td>\n      <td>7.7</td>\n      <td>0.0</td>\n      <td>0.0</td>\n      <td>314017.0</td>\n      <td>39475.0</td>\n      <td>79300.0</td>\n      <td>24667.0</td>\n      <td>N</td>\n      <td>Cash</td>\n      <td>N</td>\n    </tr>\n    <tr>\n      <th>2</th>\n      <td>20000.0</td>\n      <td>20000.0</td>\n      <td>20000.0</td>\n      <td>60</td>\n      <td>10.78</td>\n      <td>432.66</td>\n      <td>B</td>\n      <td>B4</td>\n      <td>10.0</td>\n      <td>MORTGAGE</td>\n      <td>...</td>\n      <td>50.0</td>\n      <td>0.0</td>\n      <td>0.0</td>\n      <td>218418.0</td>\n      <td>18696.0</td>\n      <td>6200.0</td>\n      <td>14877.0</td>\n      <td>N</td>\n      <td>Cash</td>\n      <td>N</td>\n    </tr>\n    <tr>\n      <th>4</th>\n      <td>10400.0</td>\n      <td>10400.0</td>\n      <td>10400.0</td>\n      <td>60</td>\n      <td>22.45</td>\n      <td>289.91</td>\n      <td>F</td>\n      <td>F1</td>\n      <td>3.0</td>\n      <td>MORTGAGE</td>\n      <td>...</td>\n      <td>60.0</td>\n      <td>0.0</td>\n      <td>0.0</td>\n      <td>439570.0</td>\n      <td>95768.0</td>\n      <td>20300.0</td>\n      <td>88097.0</td>\n      <td>N</td>\n      <td>Cash</td>\n      <td>N</td>\n    </tr>\n    <tr>\n      <th>5</th>\n      <td>11950.0</td>\n      <td>11950.0</td>\n      <td>11950.0</td>\n      <td>36</td>\n      <td>13.44</td>\n      <td>405.18</td>\n      <td>C</td>\n      <td>C3</td>\n      <td>4.0</td>\n      <td>RENT</td>\n      <td>...</td>\n      <td>100.0</td>\n      <td>0.0</td>\n      <td>0.0</td>\n      <td>16900.0</td>\n      <td>12798.0</td>\n      <td>9400.0</td>\n      <td>4000.0</td>\n      <td>N</td>\n      <td>Cash</td>\n      <td>N</td>\n    </tr>\n  </tbody>\n</table>\n<p>5 rows × 101 columns</p>\n</div>"
     },
     "execution_count": 2,
     "metadata": {},
     "output_type": "execute_result"
    }
   ],
   "source": [
    "df = pd.read_pickle('../data/preprocessed/accepted_df_preprocessed.pkl')\n",
    "print(f\"Shape of df: {df.shape}\")\n",
    "df.head(5)"
   ]
  },
  {
   "cell_type": "markdown",
   "source": [
    "# TAKE SUBSAMPLE OF DATA FOR COMPUTATION ISSUES (TODO: DELETE THIS LATER)"
   ],
   "metadata": {
    "collapsed": false,
    "pycharm": {
     "name": "#%% md\n"
    }
   }
  },
  {
   "cell_type": "code",
   "execution_count": 3,
   "outputs": [
    {
     "name": "stdout",
     "output_type": "stream",
     "text": [
      "(134531, 101)\n"
     ]
    }
   ],
   "source": [
    "df = df.sample(frac = 0.1)\n",
    "print(df.shape)"
   ],
   "metadata": {
    "collapsed": false,
    "pycharm": {
     "name": "#%%\n"
    }
   }
  },
  {
   "cell_type": "markdown",
   "source": [
    "# Model Preprocessing: Encode Features from categorical to numerical\n",
    "In this section we prepare our data set for modeling through fixing the inbalancement of our data, encoding categorical data, dropping features that are only apriori the application known etc..."
   ],
   "metadata": {
    "collapsed": false,
    "pycharm": {
     "name": "#%% md\n"
    }
   }
  },
  {
   "cell_type": "markdown",
   "source": [
    "## Drop columns for prediction\n",
    "In this small section we drop features that we do not have prior the lending application. We consulted the data dictionary table (seen [here](https://docs.google.com/spreadsheets/d/13YQDRQYYbr84wy7zQ91yfC8QoEBFPFP0zR5pIDf18rA/edit#gid=629438262)) and analyzed which columns to keep and which to drop. Note that this requires a lot of domain knowledge."
   ],
   "metadata": {
    "collapsed": false,
    "pycharm": {
     "name": "#%% md\n"
    }
   }
  },
  {
   "cell_type": "code",
   "execution_count": 4,
   "outputs": [
    {
     "name": "stdout",
     "output_type": "stream",
     "text": [
      "Cols to drop: ['funded_amnt', 'funded_amnt_inv', 'pymnt_plan', 'delinq_2yrs', 'inq_last_6mths', 'mths_since_last_delinq', 'out_prncp', 'out_prncp_inv', 'total_pymnt', 'total_pymnt_inv', 'total_rec_prncp', 'total_rec_int', 'total_rec_late_fee', 'recoveries', 'collection_recovery_fee', 'last_pymnt_amnt', 'last_fico_range_high', 'last_fico_range_low', 'collections_12_mths_ex_med', 'mths_since_last_major_derog', 'policy_code', 'acc_now_delinq', 'tot_coll_amt', 'tot_cur_bal', 'open_acc_6m', 'open_act_il', 'open_il_12m', 'open_il_24m', 'mths_since_rcnt_il', 'total_bal_il', 'il_util', 'open_rv_12m', 'open_rv_24m', 'max_bal_bc', 'all_util', 'total_rev_hi_lim', 'inq_fi', 'total_cu_tl', 'inq_last_12m', 'acc_open_past_24mths', 'avg_cur_bal', 'bc_open_to_buy', 'bc_util', 'chargeoff_within_12_mths', 'delinq_amnt', 'mo_sin_old_il_acct', 'mo_sin_old_rev_tl_op', 'mo_sin_rcnt_rev_tl_op', 'mo_sin_rcnt_tl', 'mths_since_recent_bc', 'mths_since_recent_inq', 'mths_since_recent_revol_delinq', 'num_accts_ever_120_pd', 'num_actv_bc_tl', 'num_actv_rev_tl', 'num_bc_sats', 'num_bc_tl', 'num_il_tl', 'num_op_rev_tl', 'num_rev_accts', 'num_rev_tl_bal_gt_0', 'num_sats', 'num_tl_120dpd_2m', 'num_tl_30dpd', 'num_tl_90g_dpd_24m', 'num_tl_op_past_12m', 'pct_tl_nvr_dlq', 'percent_bc_gt_75', 'tax_liens', 'tot_hi_cred_lim', 'total_bal_ex_mort', 'total_bc_limit', 'total_il_high_credit_limit', 'hardship_flag', 'disbursement_method', 'debt_settlement_flag']\n",
      "Shape of df after drop: (134531, 25)\n"
     ]
    }
   ],
   "source": [
    "keep_list = ['addr_state', 'annual_inc', 'annual_inc_joint', 'application_type', 'dti', 'earliest_cr_line', 'emp_length', 'emp_title', 'fico_range_high', 'fico_range_low', 'grade', 'home_ownership', 'id', 'initial_list_status', 'installment', 'int_rate', 'issue_d', 'loan_amnt', 'loan_status', 'mort_acc', 'open_acc', 'pub_rec', 'pub_rec_bankruptcies', 'purpose', 'revol_bal', 'revol_util', 'sub_grade', 'term', 'title', 'total_acc', 'verification_status', 'zip_code']\n",
    "\n",
    "cols_to_drop = [col for col in df.columns if col not in keep_list]\n",
    "print(f\"Cols to drop: {cols_to_drop}\")\n",
    "df.drop(cols_to_drop, axis=1, inplace=True)\n",
    "print(f\"Shape of df after drop: {df.shape}\")"
   ],
   "metadata": {
    "collapsed": false,
    "pycharm": {
     "name": "#%%\n"
    }
   }
  },
  {
   "cell_type": "code",
   "execution_count": 5,
   "outputs": [
    {
     "name": "stdout",
     "output_type": "stream",
     "text": [
      "float64    16\n",
      "object      8\n",
      "int64       1\n",
      "dtype: int64\n",
      "Current categorical features:\n",
      "['grade', 'sub_grade', 'home_ownership', 'verification_status', 'purpose', 'addr_state', 'initial_list_status', 'application_type']\n"
     ]
    }
   ],
   "source": [
    "# Convert term to float32\n",
    "df[\"term\"] = df[\"term\"].astype(np.float64)\n",
    "\n",
    "# Preview categorical data\n",
    "print(df.dtypes.value_counts())\n",
    "# Get categorical columns names\n",
    "cat_columns = df.select_dtypes(include=['object']).columns.tolist()\n",
    "# Preview\n",
    "print(f\"Current categorical features:\\n{cat_columns}\")"
   ],
   "metadata": {
    "collapsed": false,
    "pycharm": {
     "name": "#%%\n"
    }
   }
  },
  {
   "cell_type": "markdown",
   "source": [
    "### Deleted irrelevant categorical features\n",
    "Delete categorical features that are not relevant for the Modelling or contain too many realization so that encoding them would be infeasible."
   ],
   "metadata": {
    "collapsed": false,
    "pycharm": {
     "name": "#%% md\n"
    }
   }
  },
  {
   "cell_type": "code",
   "execution_count": 6,
   "outputs": [
    {
     "name": "stdout",
     "output_type": "stream",
     "text": [
      "Categorical Columns to drop: ['purpose', 'addr_state']\n",
      "Categorical Columns to keep: ['home_ownership', 'grade', 'sub_grade', 'verification_status', 'application_type', 'initial_list_status']\n",
      "\n",
      "Shape of df before columns drop: (134531, 25)\n",
      "Shape of df after columns drop: (134531, 23)\n"
     ]
    }
   ],
   "source": [
    "# Define categorical columns from cat_columns to keep here\n",
    "CAT_COLS_TO_KEEP = [\"home_ownership\", \"grade\", \"sub_grade\", \"verification_status\", \"application_type\", \"initial_list_status\"]\n",
    "CAT_COLS_TO_DROP = [col for col in cat_columns if col not in CAT_COLS_TO_KEEP]\n",
    "\n",
    "print(f\"Categorical Columns to drop: {CAT_COLS_TO_DROP}\")\n",
    "print(f\"Categorical Columns to keep: {CAT_COLS_TO_KEEP}\\n\")\n",
    "print(f\"Shape of df before columns drop: {df.shape}\")\n",
    "# Drop irrelevant categorical features\n",
    "df.drop(CAT_COLS_TO_DROP, axis=1, inplace=True)\n",
    "print(f\"Shape of df after columns drop: {df.shape}\")"
   ],
   "metadata": {
    "collapsed": false,
    "pycharm": {
     "name": "#%%\n"
    }
   }
  },
  {
   "cell_type": "markdown",
   "source": [
    "## Preview of the remaining categorical features"
   ],
   "metadata": {
    "collapsed": false,
    "pycharm": {
     "name": "#%% md\n"
    }
   }
  },
  {
   "cell_type": "code",
   "execution_count": 7,
   "outputs": [
    {
     "name": "stdout",
     "output_type": "stream",
     "text": [
      "float64    16\n",
      "object      6\n",
      "int64       1\n",
      "dtype: int64\n"
     ]
    },
    {
     "data": {
      "text/plain": "        grade sub_grade home_ownership verification_status  \\\n1335264     B        B4       MORTGAGE        Not Verified   \n346226      B        B5       MORTGAGE        Not Verified   \n632522      D        D1           RENT     Source Verified   \n608530      D        D1       MORTGAGE            Verified   \n324421      E        E2       MORTGAGE            Verified   \n...       ...       ...            ...                 ...   \n1158428     B        B3       MORTGAGE        Not Verified   \n1664130     C        C2            OWN     Source Verified   \n1772172     D        D4           RENT     Source Verified   \n48075       B        B2       MORTGAGE     Source Verified   \n585070      A        A2       MORTGAGE     Source Verified   \n\n        initial_list_status application_type  \n1335264                   f       Individual  \n346226                    f       Individual  \n632522                    w        Joint App  \n608530                    w       Individual  \n324421                    w       Individual  \n...                     ...              ...  \n1158428                   f       Individual  \n1664130                   f       Individual  \n1772172                   f       Individual  \n48075                     f       Individual  \n585070                    f       Individual  \n\n[134531 rows x 6 columns]",
      "text/html": "<div>\n<style scoped>\n    .dataframe tbody tr th:only-of-type {\n        vertical-align: middle;\n    }\n\n    .dataframe tbody tr th {\n        vertical-align: top;\n    }\n\n    .dataframe thead th {\n        text-align: right;\n    }\n</style>\n<table border=\"1\" class=\"dataframe\">\n  <thead>\n    <tr style=\"text-align: right;\">\n      <th></th>\n      <th>grade</th>\n      <th>sub_grade</th>\n      <th>home_ownership</th>\n      <th>verification_status</th>\n      <th>initial_list_status</th>\n      <th>application_type</th>\n    </tr>\n  </thead>\n  <tbody>\n    <tr>\n      <th>1335264</th>\n      <td>B</td>\n      <td>B4</td>\n      <td>MORTGAGE</td>\n      <td>Not Verified</td>\n      <td>f</td>\n      <td>Individual</td>\n    </tr>\n    <tr>\n      <th>346226</th>\n      <td>B</td>\n      <td>B5</td>\n      <td>MORTGAGE</td>\n      <td>Not Verified</td>\n      <td>f</td>\n      <td>Individual</td>\n    </tr>\n    <tr>\n      <th>632522</th>\n      <td>D</td>\n      <td>D1</td>\n      <td>RENT</td>\n      <td>Source Verified</td>\n      <td>w</td>\n      <td>Joint App</td>\n    </tr>\n    <tr>\n      <th>608530</th>\n      <td>D</td>\n      <td>D1</td>\n      <td>MORTGAGE</td>\n      <td>Verified</td>\n      <td>w</td>\n      <td>Individual</td>\n    </tr>\n    <tr>\n      <th>324421</th>\n      <td>E</td>\n      <td>E2</td>\n      <td>MORTGAGE</td>\n      <td>Verified</td>\n      <td>w</td>\n      <td>Individual</td>\n    </tr>\n    <tr>\n      <th>...</th>\n      <td>...</td>\n      <td>...</td>\n      <td>...</td>\n      <td>...</td>\n      <td>...</td>\n      <td>...</td>\n    </tr>\n    <tr>\n      <th>1158428</th>\n      <td>B</td>\n      <td>B3</td>\n      <td>MORTGAGE</td>\n      <td>Not Verified</td>\n      <td>f</td>\n      <td>Individual</td>\n    </tr>\n    <tr>\n      <th>1664130</th>\n      <td>C</td>\n      <td>C2</td>\n      <td>OWN</td>\n      <td>Source Verified</td>\n      <td>f</td>\n      <td>Individual</td>\n    </tr>\n    <tr>\n      <th>1772172</th>\n      <td>D</td>\n      <td>D4</td>\n      <td>RENT</td>\n      <td>Source Verified</td>\n      <td>f</td>\n      <td>Individual</td>\n    </tr>\n    <tr>\n      <th>48075</th>\n      <td>B</td>\n      <td>B2</td>\n      <td>MORTGAGE</td>\n      <td>Source Verified</td>\n      <td>f</td>\n      <td>Individual</td>\n    </tr>\n    <tr>\n      <th>585070</th>\n      <td>A</td>\n      <td>A2</td>\n      <td>MORTGAGE</td>\n      <td>Source Verified</td>\n      <td>f</td>\n      <td>Individual</td>\n    </tr>\n  </tbody>\n</table>\n<p>134531 rows × 6 columns</p>\n</div>"
     },
     "execution_count": 7,
     "metadata": {},
     "output_type": "execute_result"
    }
   ],
   "source": [
    "print(df.dtypes.value_counts())\n",
    "df.select_dtypes(\"object\")"
   ],
   "metadata": {
    "collapsed": false,
    "pycharm": {
     "name": "#%%\n"
    }
   }
  },
  {
   "cell_type": "code",
   "execution_count": 8,
   "outputs": [
    {
     "name": "stdout",
     "output_type": "stream",
     "text": [
      "Index(['loan_amnt', 'term', 'int_rate', 'installment', 'grade', 'sub_grade',\n",
      "       'emp_length', 'home_ownership', 'annual_inc', 'verification_status',\n",
      "       'loan_status', 'dti', 'fico_range_low', 'fico_range_high', 'open_acc',\n",
      "       'pub_rec', 'revol_bal', 'revol_util', 'total_acc',\n",
      "       'initial_list_status', 'application_type', 'mort_acc',\n",
      "       'pub_rec_bankruptcies'],\n",
      "      dtype='object')\n"
     ]
    }
   ],
   "source": [
    "# Preview of all remaining columns / features:\n",
    "print(df.columns)"
   ],
   "metadata": {
    "collapsed": false,
    "pycharm": {
     "name": "#%%\n"
    }
   }
  },
  {
   "cell_type": "markdown",
   "source": [
    "## Create Dummy Variables"
   ],
   "metadata": {
    "collapsed": false,
    "pycharm": {
     "name": "#%% md\n"
    }
   }
  },
  {
   "cell_type": "code",
   "execution_count": 9,
   "outputs": [
    {
     "name": "stdout",
     "output_type": "stream",
     "text": [
      "Shape before dummies using BinaryEncoder: (134531, 23)\n",
      "Shape after dummies using BinaryEncoder: (134531, 35)\n"
     ]
    },
    {
     "data": {
      "text/plain": "int64      19\nfloat64    16\ndtype: int64"
     },
     "execution_count": 9,
     "metadata": {},
     "output_type": "execute_result"
    }
   ],
   "source": [
    "# Binary Encoding\n",
    "import category_encoders as ce\n",
    "print(f\"Shape before dummies using BinaryEncoder: {df.shape}\")\n",
    "# Encode categorical columns\n",
    "encoder = ce.BinaryEncoder(cols=CAT_COLS_TO_KEEP)\n",
    "df_binary = encoder.fit_transform(df)\n",
    "print(f\"Shape after dummies using BinaryEncoder: {df_binary.shape}\")\n",
    "# check\n",
    "df_binary.dtypes.value_counts()"
   ],
   "metadata": {
    "collapsed": false,
    "pycharm": {
     "name": "#%%\n"
    }
   }
  },
  {
   "cell_type": "code",
   "execution_count": 10,
   "outputs": [],
   "source": [
    "# Use pd.get_dummies instead\n",
    "#print(f\"Shape before dummies using pd.get_dummies(): {df.shape}\")\n",
    "#df_binary = pd.get_dummies(data=df, columns=CAT_COLS_TO_KEEP, drop_first=True)\n",
    "#print(f\"Shape after dummies using pd.get_dummies(): {df_binary.shape}\")"
   ],
   "metadata": {
    "collapsed": false,
    "pycharm": {
     "name": "#%%\n"
    }
   }
  },
  {
   "cell_type": "code",
   "execution_count": 11,
   "outputs": [
    {
     "data": {
      "text/plain": "float32    35\ndtype: int64"
     },
     "execution_count": 11,
     "metadata": {},
     "output_type": "execute_result"
    }
   ],
   "source": [
    "# Convert all values to float\n",
    "df_binary = df_binary.astype(np.float32)\n",
    "df_binary.dtypes.value_counts()"
   ],
   "metadata": {
    "collapsed": false,
    "pycharm": {
     "name": "#%%\n"
    }
   }
  },
  {
   "cell_type": "markdown",
   "source": [
    "## Preview preprocessed dataframe"
   ],
   "metadata": {
    "collapsed": false,
    "pycharm": {
     "name": "#%% md\n"
    }
   }
  },
  {
   "cell_type": "code",
   "execution_count": 12,
   "outputs": [
    {
     "data": {
      "text/plain": "         loan_amnt  term   int_rate  installment  grade_0  grade_1  grade_2  \\\n1335264    10400.0  36.0  12.850000   349.670013      0.0      0.0      1.0   \n346226      2375.0  36.0  11.530000    78.360001      0.0      0.0      1.0   \n632522     16000.0  60.0  17.090000   398.420013      0.0      1.0      0.0   \n608530     15000.0  36.0  17.090000   535.469971      0.0      1.0      0.0   \n324421     15000.0  60.0  18.840000   387.790009      0.0      1.0      1.0   \n1296359     9000.0  36.0  12.990000   303.209991      0.0      0.0      1.0   \n1508488    10000.0  36.0  12.130000   332.769989      0.0      0.0      1.0   \n1105286    18000.0  36.0  12.880000   605.460022      1.0      0.0      0.0   \n1487672     8000.0  36.0  18.450001   291.029999      0.0      1.0      0.0   \n199700      8000.0  36.0   9.990000   258.100006      0.0      0.0      1.0   \n\n         sub_grade_0  sub_grade_1  sub_grade_2  ...  pub_rec  revol_bal  \\\n1335264          0.0          0.0          0.0  ...      0.0     8220.0   \n346226           0.0          0.0          0.0  ...      0.0    11303.0   \n632522           0.0          0.0          0.0  ...      0.0     9031.0   \n608530           0.0          0.0          0.0  ...      1.0     9586.0   \n324421           0.0          0.0          0.0  ...      1.0    24455.0   \n1296359          0.0          0.0          0.0  ...      0.0    30564.0   \n1508488          0.0          0.0          0.0  ...      1.0     6801.0   \n1105286          0.0          0.0          0.0  ...      0.0    22529.0   \n1487672          0.0          0.0          0.0  ...      0.0    10236.0   \n199700           0.0          0.0          0.0  ...      0.0     1798.0   \n\n         revol_util  total_acc  initial_list_status_0  initial_list_status_1  \\\n1335264   79.000000       13.0                    0.0                    1.0   \n346226    61.799999       46.0                    0.0                    1.0   \n632522    75.300003       37.0                    1.0                    0.0   \n608530    65.000000       14.0                    1.0                    0.0   \n324421    78.900002       23.0                    1.0                    0.0   \n1296359   44.000000       37.0                    1.0                    0.0   \n1508488   43.299999       19.0                    1.0                    0.0   \n1105286   70.400002       33.0                    1.0                    0.0   \n1487672   96.599998       17.0                    1.0                    0.0   \n199700    11.800000       11.0                    1.0                    0.0   \n\n         application_type_0  application_type_1  mort_acc  \\\n1335264                 0.0                 1.0       1.0   \n346226                  0.0                 1.0       2.0   \n632522                  1.0                 0.0       0.0   \n608530                  0.0                 1.0       1.0   \n324421                  0.0                 1.0       0.0   \n1296359                 0.0                 1.0       2.0   \n1508488                 0.0                 1.0       0.0   \n1105286                 0.0                 1.0       2.0   \n1487672                 1.0                 0.0       1.0   \n199700                  0.0                 1.0       0.0   \n\n         pub_rec_bankruptcies  \n1335264                   0.0  \n346226                    0.0  \n632522                    0.0  \n608530                    1.0  \n324421                    1.0  \n1296359                   0.0  \n1508488                   1.0  \n1105286                   0.0  \n1487672                   0.0  \n199700                    0.0  \n\n[10 rows x 35 columns]",
      "text/html": "<div>\n<style scoped>\n    .dataframe tbody tr th:only-of-type {\n        vertical-align: middle;\n    }\n\n    .dataframe tbody tr th {\n        vertical-align: top;\n    }\n\n    .dataframe thead th {\n        text-align: right;\n    }\n</style>\n<table border=\"1\" class=\"dataframe\">\n  <thead>\n    <tr style=\"text-align: right;\">\n      <th></th>\n      <th>loan_amnt</th>\n      <th>term</th>\n      <th>int_rate</th>\n      <th>installment</th>\n      <th>grade_0</th>\n      <th>grade_1</th>\n      <th>grade_2</th>\n      <th>sub_grade_0</th>\n      <th>sub_grade_1</th>\n      <th>sub_grade_2</th>\n      <th>...</th>\n      <th>pub_rec</th>\n      <th>revol_bal</th>\n      <th>revol_util</th>\n      <th>total_acc</th>\n      <th>initial_list_status_0</th>\n      <th>initial_list_status_1</th>\n      <th>application_type_0</th>\n      <th>application_type_1</th>\n      <th>mort_acc</th>\n      <th>pub_rec_bankruptcies</th>\n    </tr>\n  </thead>\n  <tbody>\n    <tr>\n      <th>1335264</th>\n      <td>10400.0</td>\n      <td>36.0</td>\n      <td>12.850000</td>\n      <td>349.670013</td>\n      <td>0.0</td>\n      <td>0.0</td>\n      <td>1.0</td>\n      <td>0.0</td>\n      <td>0.0</td>\n      <td>0.0</td>\n      <td>...</td>\n      <td>0.0</td>\n      <td>8220.0</td>\n      <td>79.000000</td>\n      <td>13.0</td>\n      <td>0.0</td>\n      <td>1.0</td>\n      <td>0.0</td>\n      <td>1.0</td>\n      <td>1.0</td>\n      <td>0.0</td>\n    </tr>\n    <tr>\n      <th>346226</th>\n      <td>2375.0</td>\n      <td>36.0</td>\n      <td>11.530000</td>\n      <td>78.360001</td>\n      <td>0.0</td>\n      <td>0.0</td>\n      <td>1.0</td>\n      <td>0.0</td>\n      <td>0.0</td>\n      <td>0.0</td>\n      <td>...</td>\n      <td>0.0</td>\n      <td>11303.0</td>\n      <td>61.799999</td>\n      <td>46.0</td>\n      <td>0.0</td>\n      <td>1.0</td>\n      <td>0.0</td>\n      <td>1.0</td>\n      <td>2.0</td>\n      <td>0.0</td>\n    </tr>\n    <tr>\n      <th>632522</th>\n      <td>16000.0</td>\n      <td>60.0</td>\n      <td>17.090000</td>\n      <td>398.420013</td>\n      <td>0.0</td>\n      <td>1.0</td>\n      <td>0.0</td>\n      <td>0.0</td>\n      <td>0.0</td>\n      <td>0.0</td>\n      <td>...</td>\n      <td>0.0</td>\n      <td>9031.0</td>\n      <td>75.300003</td>\n      <td>37.0</td>\n      <td>1.0</td>\n      <td>0.0</td>\n      <td>1.0</td>\n      <td>0.0</td>\n      <td>0.0</td>\n      <td>0.0</td>\n    </tr>\n    <tr>\n      <th>608530</th>\n      <td>15000.0</td>\n      <td>36.0</td>\n      <td>17.090000</td>\n      <td>535.469971</td>\n      <td>0.0</td>\n      <td>1.0</td>\n      <td>0.0</td>\n      <td>0.0</td>\n      <td>0.0</td>\n      <td>0.0</td>\n      <td>...</td>\n      <td>1.0</td>\n      <td>9586.0</td>\n      <td>65.000000</td>\n      <td>14.0</td>\n      <td>1.0</td>\n      <td>0.0</td>\n      <td>0.0</td>\n      <td>1.0</td>\n      <td>1.0</td>\n      <td>1.0</td>\n    </tr>\n    <tr>\n      <th>324421</th>\n      <td>15000.0</td>\n      <td>60.0</td>\n      <td>18.840000</td>\n      <td>387.790009</td>\n      <td>0.0</td>\n      <td>1.0</td>\n      <td>1.0</td>\n      <td>0.0</td>\n      <td>0.0</td>\n      <td>0.0</td>\n      <td>...</td>\n      <td>1.0</td>\n      <td>24455.0</td>\n      <td>78.900002</td>\n      <td>23.0</td>\n      <td>1.0</td>\n      <td>0.0</td>\n      <td>0.0</td>\n      <td>1.0</td>\n      <td>0.0</td>\n      <td>1.0</td>\n    </tr>\n    <tr>\n      <th>1296359</th>\n      <td>9000.0</td>\n      <td>36.0</td>\n      <td>12.990000</td>\n      <td>303.209991</td>\n      <td>0.0</td>\n      <td>0.0</td>\n      <td>1.0</td>\n      <td>0.0</td>\n      <td>0.0</td>\n      <td>0.0</td>\n      <td>...</td>\n      <td>0.0</td>\n      <td>30564.0</td>\n      <td>44.000000</td>\n      <td>37.0</td>\n      <td>1.0</td>\n      <td>0.0</td>\n      <td>0.0</td>\n      <td>1.0</td>\n      <td>2.0</td>\n      <td>0.0</td>\n    </tr>\n    <tr>\n      <th>1508488</th>\n      <td>10000.0</td>\n      <td>36.0</td>\n      <td>12.130000</td>\n      <td>332.769989</td>\n      <td>0.0</td>\n      <td>0.0</td>\n      <td>1.0</td>\n      <td>0.0</td>\n      <td>0.0</td>\n      <td>0.0</td>\n      <td>...</td>\n      <td>1.0</td>\n      <td>6801.0</td>\n      <td>43.299999</td>\n      <td>19.0</td>\n      <td>1.0</td>\n      <td>0.0</td>\n      <td>0.0</td>\n      <td>1.0</td>\n      <td>0.0</td>\n      <td>1.0</td>\n    </tr>\n    <tr>\n      <th>1105286</th>\n      <td>18000.0</td>\n      <td>36.0</td>\n      <td>12.880000</td>\n      <td>605.460022</td>\n      <td>1.0</td>\n      <td>0.0</td>\n      <td>0.0</td>\n      <td>0.0</td>\n      <td>0.0</td>\n      <td>0.0</td>\n      <td>...</td>\n      <td>0.0</td>\n      <td>22529.0</td>\n      <td>70.400002</td>\n      <td>33.0</td>\n      <td>1.0</td>\n      <td>0.0</td>\n      <td>0.0</td>\n      <td>1.0</td>\n      <td>2.0</td>\n      <td>0.0</td>\n    </tr>\n    <tr>\n      <th>1487672</th>\n      <td>8000.0</td>\n      <td>36.0</td>\n      <td>18.450001</td>\n      <td>291.029999</td>\n      <td>0.0</td>\n      <td>1.0</td>\n      <td>0.0</td>\n      <td>0.0</td>\n      <td>0.0</td>\n      <td>0.0</td>\n      <td>...</td>\n      <td>0.0</td>\n      <td>10236.0</td>\n      <td>96.599998</td>\n      <td>17.0</td>\n      <td>1.0</td>\n      <td>0.0</td>\n      <td>1.0</td>\n      <td>0.0</td>\n      <td>1.0</td>\n      <td>0.0</td>\n    </tr>\n    <tr>\n      <th>199700</th>\n      <td>8000.0</td>\n      <td>36.0</td>\n      <td>9.990000</td>\n      <td>258.100006</td>\n      <td>0.0</td>\n      <td>0.0</td>\n      <td>1.0</td>\n      <td>0.0</td>\n      <td>0.0</td>\n      <td>0.0</td>\n      <td>...</td>\n      <td>0.0</td>\n      <td>1798.0</td>\n      <td>11.800000</td>\n      <td>11.0</td>\n      <td>1.0</td>\n      <td>0.0</td>\n      <td>0.0</td>\n      <td>1.0</td>\n      <td>0.0</td>\n      <td>0.0</td>\n    </tr>\n  </tbody>\n</table>\n<p>10 rows × 35 columns</p>\n</div>"
     },
     "execution_count": 12,
     "metadata": {},
     "output_type": "execute_result"
    }
   ],
   "source": [
    "df_binary.head(10)"
   ],
   "metadata": {
    "collapsed": false,
    "pycharm": {
     "name": "#%%\n"
    }
   }
  },
  {
   "cell_type": "markdown",
   "source": [
    "## Create Balanced Data Set via Downsampling"
   ],
   "metadata": {
    "collapsed": false,
    "pycharm": {
     "name": "#%% md\n"
    }
   }
  },
  {
   "cell_type": "code",
   "execution_count": 13,
   "outputs": [
    {
     "name": "stdout",
     "output_type": "stream",
     "text": [
      "0.0    107841\n",
      "1.0     26690\n",
      "Name: loan_status, dtype: int64\n",
      "(134531, 35)\n"
     ]
    },
    {
     "data": {
      "text/plain": "<Figure size 432x288 with 1 Axes>",
      "image/png": "[encoded data removed]"
     },
     "metadata": {},
     "output_type": "display_data"
    }
   ],
   "source": [
    "print(df_binary.loan_status.value_counts())\n",
    "print(df_binary.shape)\n",
    "\n",
    "plt.title(\"Distribution of the target variable\", size=15)\n",
    "df_binary.groupby('loan_status').size().plot(kind='pie', y = \"loan_status\",\n",
    "                                             label = \"Type\", autopct='%1.1f%%',\n",
    "                                             wedgeprops = {\"edgecolor\": \"black\", \"alpha\": 0.75},\n",
    "                                             explode = [0.05, 0.05])\n",
    "plt.show()"
   ],
   "metadata": {
    "collapsed": false,
    "pycharm": {
     "name": "#%%\n"
    }
   }
  },
  {
   "cell_type": "code",
   "execution_count": 14,
   "outputs": [
    {
     "name": "stdout",
     "output_type": "stream",
     "text": [
      "0.0    34697\n",
      "1.0    26690\n",
      "Name: loan_status, dtype: int64\n"
     ]
    },
    {
     "data": {
      "text/plain": "<Figure size 432x288 with 1 Axes>",
      "image/png": "[encoded data removed]"
     },
     "metadata": {},
     "output_type": "display_data"
    }
   ],
   "source": [
    "# Downsampling\n",
    "loan_status_0 = df_binary[df_binary[\"loan_status\"] == 0.0]\n",
    "loan_status_1  = df_binary[df_binary[\"loan_status\"] == 1.0]\n",
    "\n",
    "loan_status_0_downsample = resample(loan_status_0,\n",
    "             replace=True,\n",
    "             n_samples=round(1.3*len(loan_status_1)),\n",
    "             random_state=42)\n",
    "\n",
    "df_binary_downsampled = pd.concat([loan_status_0_downsample, loan_status_1])\n",
    "\n",
    "print(df_binary_downsampled[\"loan_status\"].value_counts())\n",
    "# Plot settings\n",
    "plt.title(\"Distribution of the target variable\", size=15)\n",
    "df_binary_downsampled.groupby('loan_status').size().plot(kind='pie', y = \"loan_status\",\n",
    "                                             label = \"Type\", autopct='%1.1f%%',\n",
    "                                             wedgeprops = {\"edgecolor\": \"black\", \"alpha\": 0.75},\n",
    "                                             explode = [0.03, 0.03])\n",
    "plt.show()"
   ],
   "metadata": {
    "collapsed": false,
    "pycharm": {
     "name": "#%%\n"
    }
   }
  },
  {
   "cell_type": "markdown",
   "source": [
    "## Data Imputation\n",
    "Since we still have some NaNs in our feature, we replace them by taking the median values."
   ],
   "metadata": {
    "collapsed": false,
    "pycharm": {
     "name": "#%% md\n"
    }
   }
  },
  {
   "cell_type": "code",
   "execution_count": 15,
   "outputs": [
    {
     "data": {
      "text/plain": "         loan_amnt  term  int_rate  installment  grade_0  grade_1  grade_2  \\\n1985079    10000.0  36.0     11.49   329.720001      0.0      0.0      1.0   \n2159327     2000.0  36.0     13.49    67.870003      1.0      0.0      0.0   \n1121153     9600.0  36.0      6.49   294.190002      1.0      1.0      0.0   \n292139     13200.0  36.0     18.25   478.869995      0.0      1.0      1.0   \n355183     24000.0  60.0     17.57   603.849976      0.0      1.0      0.0   \n\n         sub_grade_0  sub_grade_1  sub_grade_2  ...  pub_rec  revol_bal  \\\n1985079          0.0          0.0          0.0  ...      0.0    30970.0   \n2159327          0.0          0.0          0.0  ...      0.0     1603.0   \n1121153          0.0          1.0          0.0  ...      0.0    12665.0   \n292139           0.0          0.0          1.0  ...      0.0    38561.0   \n355183           0.0          1.0          0.0  ...      0.0    39696.0   \n\n         revol_util  total_acc  initial_list_status_0  initial_list_status_1  \\\n1985079   47.900002       36.0                    0.0                    1.0   \n2159327   27.200001       21.0                    1.0                    0.0   \n1121153   51.900002       12.0                    1.0                    0.0   \n292139    73.300003       43.0                    1.0                    0.0   \n355183    85.599998       35.0                    0.0                    1.0   \n\n         application_type_0  application_type_1  mort_acc  \\\n1985079                 0.0                 1.0       2.0   \n2159327                 0.0                 1.0       0.0   \n1121153                 0.0                 1.0       0.0   \n292139                  0.0                 1.0       1.0   \n355183                  0.0                 1.0       5.0   \n\n         pub_rec_bankruptcies  \n1985079                   0.0  \n2159327                   0.0  \n1121153                   0.0  \n292139                    0.0  \n355183                    0.0  \n\n[5 rows x 35 columns]",
      "text/html": "<div>\n<style scoped>\n    .dataframe tbody tr th:only-of-type {\n        vertical-align: middle;\n    }\n\n    .dataframe tbody tr th {\n        vertical-align: top;\n    }\n\n    .dataframe thead th {\n        text-align: right;\n    }\n</style>\n<table border=\"1\" class=\"dataframe\">\n  <thead>\n    <tr style=\"text-align: right;\">\n      <th></th>\n      <th>loan_amnt</th>\n      <th>term</th>\n      <th>int_rate</th>\n      <th>installment</th>\n      <th>grade_0</th>\n      <th>grade_1</th>\n      <th>grade_2</th>\n      <th>sub_grade_0</th>\n      <th>sub_grade_1</th>\n      <th>sub_grade_2</th>\n      <th>...</th>\n      <th>pub_rec</th>\n      <th>revol_bal</th>\n      <th>revol_util</th>\n      <th>total_acc</th>\n      <th>initial_list_status_0</th>\n      <th>initial_list_status_1</th>\n      <th>application_type_0</th>\n      <th>application_type_1</th>\n      <th>mort_acc</th>\n      <th>pub_rec_bankruptcies</th>\n    </tr>\n  </thead>\n  <tbody>\n    <tr>\n      <th>1985079</th>\n      <td>10000.0</td>\n      <td>36.0</td>\n      <td>11.49</td>\n      <td>329.720001</td>\n      <td>0.0</td>\n      <td>0.0</td>\n      <td>1.0</td>\n      <td>0.0</td>\n      <td>0.0</td>\n      <td>0.0</td>\n      <td>...</td>\n      <td>0.0</td>\n      <td>30970.0</td>\n      <td>47.900002</td>\n      <td>36.0</td>\n      <td>0.0</td>\n      <td>1.0</td>\n      <td>0.0</td>\n      <td>1.0</td>\n      <td>2.0</td>\n      <td>0.0</td>\n    </tr>\n    <tr>\n      <th>2159327</th>\n      <td>2000.0</td>\n      <td>36.0</td>\n      <td>13.49</td>\n      <td>67.870003</td>\n      <td>1.0</td>\n      <td>0.0</td>\n      <td>0.0</td>\n      <td>0.0</td>\n      <td>0.0</td>\n      <td>0.0</td>\n      <td>...</td>\n      <td>0.0</td>\n      <td>1603.0</td>\n      <td>27.200001</td>\n      <td>21.0</td>\n      <td>1.0</td>\n      <td>0.0</td>\n      <td>0.0</td>\n      <td>1.0</td>\n      <td>0.0</td>\n      <td>0.0</td>\n    </tr>\n    <tr>\n      <th>1121153</th>\n      <td>9600.0</td>\n      <td>36.0</td>\n      <td>6.49</td>\n      <td>294.190002</td>\n      <td>1.0</td>\n      <td>1.0</td>\n      <td>0.0</td>\n      <td>0.0</td>\n      <td>1.0</td>\n      <td>0.0</td>\n      <td>...</td>\n      <td>0.0</td>\n      <td>12665.0</td>\n      <td>51.900002</td>\n      <td>12.0</td>\n      <td>1.0</td>\n      <td>0.0</td>\n      <td>0.0</td>\n      <td>1.0</td>\n      <td>0.0</td>\n      <td>0.0</td>\n    </tr>\n    <tr>\n      <th>292139</th>\n      <td>13200.0</td>\n      <td>36.0</td>\n      <td>18.25</td>\n      <td>478.869995</td>\n      <td>0.0</td>\n      <td>1.0</td>\n      <td>1.0</td>\n      <td>0.0</td>\n      <td>0.0</td>\n      <td>1.0</td>\n      <td>...</td>\n      <td>0.0</td>\n      <td>38561.0</td>\n      <td>73.300003</td>\n      <td>43.0</td>\n      <td>1.0</td>\n      <td>0.0</td>\n      <td>0.0</td>\n      <td>1.0</td>\n      <td>1.0</td>\n      <td>0.0</td>\n    </tr>\n    <tr>\n      <th>355183</th>\n      <td>24000.0</td>\n      <td>60.0</td>\n      <td>17.57</td>\n      <td>603.849976</td>\n      <td>0.0</td>\n      <td>1.0</td>\n      <td>0.0</td>\n      <td>0.0</td>\n      <td>1.0</td>\n      <td>0.0</td>\n      <td>...</td>\n      <td>0.0</td>\n      <td>39696.0</td>\n      <td>85.599998</td>\n      <td>35.0</td>\n      <td>0.0</td>\n      <td>1.0</td>\n      <td>0.0</td>\n      <td>1.0</td>\n      <td>5.0</td>\n      <td>0.0</td>\n    </tr>\n  </tbody>\n</table>\n<p>5 rows × 35 columns</p>\n</div>"
     },
     "execution_count": 15,
     "metadata": {},
     "output_type": "execute_result"
    }
   ],
   "source": [
    "# Fill NaNs with Median\n",
    "df_binary_downsampled = df_binary_downsampled.fillna(df_binary_downsampled.median())\n",
    "# Preview\n",
    "df_binary_downsampled.head(5)"
   ],
   "metadata": {
    "collapsed": false,
    "pycharm": {
     "name": "#%%\n"
    }
   }
  },
  {
   "cell_type": "markdown",
   "source": [
    "## Data Split\n",
    "In this section we split the data into a training and test set. The corresponding model is then trained on the training set and tested on the test set."
   ],
   "metadata": {
    "collapsed": false,
    "pycharm": {
     "name": "#%% md\n"
    }
   }
  },
  {
   "cell_type": "code",
   "execution_count": 16,
   "outputs": [
    {
     "name": "stdout",
     "output_type": "stream",
     "text": [
      "Shape of X_train: (42970, 34)\n",
      "Shape of X_test: (18417, 34)\n",
      "Shape of y_train: (42970,)\n",
      "Shape of y_test: (18417,)\n"
     ]
    }
   ],
   "source": [
    "# Fraction of test data\n",
    "TEST_SIZE = 0.3\n",
    "\n",
    "X = df_binary_downsampled.drop(\"loan_status\", axis=1)\n",
    "y = df_binary_downsampled[\"loan_status\"]\n",
    "\n",
    "# Split data into train and test data\n",
    "X_train, X_test, y_train, y_test = train_test_split(X, y, test_size=TEST_SIZE, random_state=1997, stratify=y)\n",
    "\n",
    "print(f\"Shape of X_train: {X_train.shape}\")\n",
    "print(f\"Shape of X_test: {X_test.shape}\")\n",
    "print(f\"Shape of y_train: {y_train.shape}\")\n",
    "print(f\"Shape of y_test: {y_test.shape}\")"
   ],
   "metadata": {
    "collapsed": false,
    "pycharm": {
     "name": "#%%\n"
    }
   }
  },
  {
   "cell_type": "markdown",
   "source": [
    "## Scaling\n",
    "We scale the data with the MinMaxScaler to a range of $[0, 1]$"
   ],
   "metadata": {
    "collapsed": false,
    "pycharm": {
     "name": "#%% md\n"
    }
   }
  },
  {
   "cell_type": "code",
   "execution_count": 17,
   "outputs": [
    {
     "data": {
      "text/plain": "         0    1         2         3    4    5    6    7    8    9   ...   24  \\\n0  0.616412  0.0  0.325935  0.487621  1.0  0.0  0.0  0.0  1.0  0.0  ...  0.0   \n1  0.073791  0.0  0.503894  0.063423  0.0  1.0  0.0  0.0  1.0  0.0  ...  0.0   \n2  0.872774  1.0  0.503894  0.514543  0.0  1.0  0.0  0.0  1.0  0.0  ...  0.0   \n3  0.160305  0.0  0.287383  0.125042  1.0  0.0  0.0  0.0  0.0  0.0  ...  0.0   \n4  0.124682  0.0  0.534268  0.107622  0.0  1.0  0.0  0.0  1.0  0.0  ...  0.0   \n5  0.323791  1.0  0.649533  0.205394  1.0  0.0  1.0  0.0  1.0  1.0  ...  0.0   \n6  0.312977  0.0  0.111760  0.227715  0.0  0.0  1.0  0.0  0.0  1.0  ...  0.0   \n7  0.745547  0.0  0.511682  0.631514  0.0  1.0  0.0  0.0  0.0  0.0  ...  0.0   \n8  0.853690  0.0  0.338006  0.678262  1.0  0.0  0.0  0.0  1.0  0.0  ...  0.0   \n9  0.872774  1.0  0.357477  0.473016  1.0  0.0  0.0  0.0  1.0  0.0  ...  0.0   \n\n         25        26        27   28   29   30   31        32   33  \n0  0.038206  0.536420  0.159420  1.0  0.0  0.0  1.0  0.148148  0.0  \n1  0.005783  0.303086  0.326087  0.0  1.0  0.0  1.0  0.111111  0.0  \n2  0.043441  0.462346  0.347826  0.0  1.0  0.0  1.0  0.148148  0.0  \n3  0.006173  0.495062  0.181159  0.0  1.0  0.0  1.0  0.037037  0.0  \n4  0.002670  0.242593  0.050725  0.0  1.0  0.0  1.0  0.000000  0.0  \n5  0.011250  0.196296  0.130435  0.0  1.0  0.0  1.0  0.000000  0.0  \n6  0.024031  0.366667  0.246377  1.0  0.0  0.0  1.0  0.037037  0.0  \n7  0.000000  0.000000  0.050725  1.0  0.0  0.0  1.0  0.111111  0.0  \n8  0.038792  0.393827  0.202899  0.0  1.0  0.0  1.0  0.111111  0.0  \n9  0.027482  0.334568  0.246377  1.0  0.0  0.0  1.0  0.037037  0.0  \n\n[10 rows x 34 columns]",
      "text/html": "<div>\n<style scoped>\n    .dataframe tbody tr th:only-of-type {\n        vertical-align: middle;\n    }\n\n    .dataframe tbody tr th {\n        vertical-align: top;\n    }\n\n    .dataframe thead th {\n        text-align: right;\n    }\n</style>\n<table border=\"1\" class=\"dataframe\">\n  <thead>\n    <tr style=\"text-align: right;\">\n      <th></th>\n      <th>0</th>\n      <th>1</th>\n      <th>2</th>\n      <th>3</th>\n      <th>4</th>\n      <th>5</th>\n      <th>6</th>\n      <th>7</th>\n      <th>8</th>\n      <th>9</th>\n      <th>...</th>\n      <th>24</th>\n      <th>25</th>\n      <th>26</th>\n      <th>27</th>\n      <th>28</th>\n      <th>29</th>\n      <th>30</th>\n      <th>31</th>\n      <th>32</th>\n      <th>33</th>\n    </tr>\n  </thead>\n  <tbody>\n    <tr>\n      <th>0</th>\n      <td>0.616412</td>\n      <td>0.0</td>\n      <td>0.325935</td>\n      <td>0.487621</td>\n      <td>1.0</td>\n      <td>0.0</td>\n      <td>0.0</td>\n      <td>0.0</td>\n      <td>1.0</td>\n      <td>0.0</td>\n      <td>...</td>\n      <td>0.0</td>\n      <td>0.038206</td>\n      <td>0.536420</td>\n      <td>0.159420</td>\n      <td>1.0</td>\n      <td>0.0</td>\n      <td>0.0</td>\n      <td>1.0</td>\n      <td>0.148148</td>\n      <td>0.0</td>\n    </tr>\n    <tr>\n      <th>1</th>\n      <td>0.073791</td>\n      <td>0.0</td>\n      <td>0.503894</td>\n      <td>0.063423</td>\n      <td>0.0</td>\n      <td>1.0</td>\n      <td>0.0</td>\n      <td>0.0</td>\n      <td>1.0</td>\n      <td>0.0</td>\n      <td>...</td>\n      <td>0.0</td>\n      <td>0.005783</td>\n      <td>0.303086</td>\n      <td>0.326087</td>\n      <td>0.0</td>\n      <td>1.0</td>\n      <td>0.0</td>\n      <td>1.0</td>\n      <td>0.111111</td>\n      <td>0.0</td>\n    </tr>\n    <tr>\n      <th>2</th>\n      <td>0.872774</td>\n      <td>1.0</td>\n      <td>0.503894</td>\n      <td>0.514543</td>\n      <td>0.0</td>\n      <td>1.0</td>\n      <td>0.0</td>\n      <td>0.0</td>\n      <td>1.0</td>\n      <td>0.0</td>\n      <td>...</td>\n      <td>0.0</td>\n      <td>0.043441</td>\n      <td>0.462346</td>\n      <td>0.347826</td>\n      <td>0.0</td>\n      <td>1.0</td>\n      <td>0.0</td>\n      <td>1.0</td>\n      <td>0.148148</td>\n      <td>0.0</td>\n    </tr>\n    <tr>\n      <th>3</th>\n      <td>0.160305</td>\n      <td>0.0</td>\n      <td>0.287383</td>\n      <td>0.125042</td>\n      <td>1.0</td>\n      <td>0.0</td>\n      <td>0.0</td>\n      <td>0.0</td>\n      <td>0.0</td>\n      <td>0.0</td>\n      <td>...</td>\n      <td>0.0</td>\n      <td>0.006173</td>\n      <td>0.495062</td>\n      <td>0.181159</td>\n      <td>0.0</td>\n      <td>1.0</td>\n      <td>0.0</td>\n      <td>1.0</td>\n      <td>0.037037</td>\n      <td>0.0</td>\n    </tr>\n    <tr>\n      <th>4</th>\n      <td>0.124682</td>\n      <td>0.0</td>\n      <td>0.534268</td>\n      <td>0.107622</td>\n      <td>0.0</td>\n      <td>1.0</td>\n      <td>0.0</td>\n      <td>0.0</td>\n      <td>1.0</td>\n      <td>0.0</td>\n      <td>...</td>\n      <td>0.0</td>\n      <td>0.002670</td>\n      <td>0.242593</td>\n      <td>0.050725</td>\n      <td>0.0</td>\n      <td>1.0</td>\n      <td>0.0</td>\n      <td>1.0</td>\n      <td>0.000000</td>\n      <td>0.0</td>\n    </tr>\n    <tr>\n      <th>5</th>\n      <td>0.323791</td>\n      <td>1.0</td>\n      <td>0.649533</td>\n      <td>0.205394</td>\n      <td>1.0</td>\n      <td>0.0</td>\n      <td>1.0</td>\n      <td>0.0</td>\n      <td>1.0</td>\n      <td>1.0</td>\n      <td>...</td>\n      <td>0.0</td>\n      <td>0.011250</td>\n      <td>0.196296</td>\n      <td>0.130435</td>\n      <td>0.0</td>\n      <td>1.0</td>\n      <td>0.0</td>\n      <td>1.0</td>\n      <td>0.000000</td>\n      <td>0.0</td>\n    </tr>\n    <tr>\n      <th>6</th>\n      <td>0.312977</td>\n      <td>0.0</td>\n      <td>0.111760</td>\n      <td>0.227715</td>\n      <td>0.0</td>\n      <td>0.0</td>\n      <td>1.0</td>\n      <td>0.0</td>\n      <td>0.0</td>\n      <td>1.0</td>\n      <td>...</td>\n      <td>0.0</td>\n      <td>0.024031</td>\n      <td>0.366667</td>\n      <td>0.246377</td>\n      <td>1.0</td>\n      <td>0.0</td>\n      <td>0.0</td>\n      <td>1.0</td>\n      <td>0.037037</td>\n      <td>0.0</td>\n    </tr>\n    <tr>\n      <th>7</th>\n      <td>0.745547</td>\n      <td>0.0</td>\n      <td>0.511682</td>\n      <td>0.631514</td>\n      <td>0.0</td>\n      <td>1.0</td>\n      <td>0.0</td>\n      <td>0.0</td>\n      <td>0.0</td>\n      <td>0.0</td>\n      <td>...</td>\n      <td>0.0</td>\n      <td>0.000000</td>\n      <td>0.000000</td>\n      <td>0.050725</td>\n      <td>1.0</td>\n      <td>0.0</td>\n      <td>0.0</td>\n      <td>1.0</td>\n      <td>0.111111</td>\n      <td>0.0</td>\n    </tr>\n    <tr>\n      <th>8</th>\n      <td>0.853690</td>\n      <td>0.0</td>\n      <td>0.338006</td>\n      <td>0.678262</td>\n      <td>1.0</td>\n      <td>0.0</td>\n      <td>0.0</td>\n      <td>0.0</td>\n      <td>1.0</td>\n      <td>0.0</td>\n      <td>...</td>\n      <td>0.0</td>\n      <td>0.038792</td>\n      <td>0.393827</td>\n      <td>0.202899</td>\n      <td>0.0</td>\n      <td>1.0</td>\n      <td>0.0</td>\n      <td>1.0</td>\n      <td>0.111111</td>\n      <td>0.0</td>\n    </tr>\n    <tr>\n      <th>9</th>\n      <td>0.872774</td>\n      <td>1.0</td>\n      <td>0.357477</td>\n      <td>0.473016</td>\n      <td>1.0</td>\n      <td>0.0</td>\n      <td>0.0</td>\n      <td>0.0</td>\n      <td>1.0</td>\n      <td>0.0</td>\n      <td>...</td>\n      <td>0.0</td>\n      <td>0.027482</td>\n      <td>0.334568</td>\n      <td>0.246377</td>\n      <td>1.0</td>\n      <td>0.0</td>\n      <td>0.0</td>\n      <td>1.0</td>\n      <td>0.037037</td>\n      <td>0.0</td>\n    </tr>\n  </tbody>\n</table>\n<p>10 rows × 34 columns</p>\n</div>"
     },
     "execution_count": 17,
     "metadata": {},
     "output_type": "execute_result"
    }
   ],
   "source": [
    "# Init object\n",
    "scaler = MinMaxScaler()\n",
    "# Scale X_train\n",
    "X_train_scaled = scaler.fit_transform(X_train)\n",
    "X_train_scaled = pd.DataFrame(X_train_scaled)\n",
    "# Scale X_test\n",
    "X_test_scaled = scaler.transform(X_test)\n",
    "X_test_scaled = pd.DataFrame(X_test_scaled)\n",
    "# Scale whole X for CV\n",
    "X_scaled = scaler.fit_transform(X)\n",
    "\n",
    "# Preview X_train_scaled\n",
    "X_train_scaled.head(10)"
   ],
   "metadata": {
    "collapsed": false,
    "pycharm": {
     "name": "#%%\n"
    }
   }
  },
  {
   "cell_type": "markdown",
   "source": [
    "---\n",
    "# Task 3: Logistic Regression In Sample\n",
    "Use logistic regression (in-sample) for default prediction. Interpret your results for logistic regression"
   ],
   "metadata": {
    "collapsed": false,
    "pycharm": {
     "name": "#%% md\n"
    }
   }
  },
  {
   "cell_type": "code",
   "execution_count": 18,
   "outputs": [
    {
     "data": {
      "text/plain": "GridSearchCV(cv=5, estimator=LogisticRegression(), n_jobs=-1,\n             param_grid={'C': [0.5, 1, 2], 'fit_intercept': [True, False],\n                         'max_iter': [1000], 'tol': [0.001, 0.0001]})",
      "text/html": "<style>#sk-container-id-1 {color: black;background-color: white;}#sk-container-id-1 pre{padding: 0;}#sk-container-id-1 div.sk-toggleable {background-color: white;}#sk-container-id-1 label.sk-toggleable__label {cursor: pointer;display: block;width: 100%;margin-bottom: 0;padding: 0.3em;box-sizing: border-box;text-align: center;}#sk-container-id-1 label.sk-toggleable__label-arrow:before {content: \"▸\";float: left;margin-right: 0.25em;color: #696969;}#sk-container-id-1 label.sk-toggleable__label-arrow:hover:before {color: black;}#sk-container-id-1 div.sk-estimator:hover label.sk-toggleable__label-arrow:before {color: black;}#sk-container-id-1 div.sk-toggleable__content {max-height: 0;max-width: 0;overflow: hidden;text-align: left;background-color: #f0f8ff;}#sk-container-id-1 div.sk-toggleable__content pre {margin: 0.2em;color: black;border-radius: 0.25em;background-color: #f0f8ff;}#sk-container-id-1 input.sk-toggleable__control:checked~div.sk-toggleable__content {max-height: 200px;max-width: 100%;overflow: auto;}#sk-container-id-1 input.sk-toggleable__control:checked~label.sk-toggleable__label-arrow:before {content: \"▾\";}#sk-container-id-1 div.sk-estimator input.sk-toggleable__control:checked~label.sk-toggleable__label {background-color: #d4ebff;}#sk-container-id-1 div.sk-label input.sk-toggleable__control:checked~label.sk-toggleable__label {background-color: #d4ebff;}#sk-container-id-1 input.sk-hidden--visually {border: 0;clip: rect(1px 1px 1px 1px);clip: rect(1px, 1px, 1px, 1px);height: 1px;margin: -1px;overflow: hidden;padding: 0;position: absolute;width: 1px;}#sk-container-id-1 div.sk-estimator {font-family: monospace;background-color: #f0f8ff;border: 1px dotted black;border-radius: 0.25em;box-sizing: border-box;margin-bottom: 0.5em;}#sk-container-id-1 div.sk-estimator:hover {background-color: #d4ebff;}#sk-container-id-1 div.sk-parallel-item::after {content: \"\";width: 100%;border-bottom: 1px solid gray;flex-grow: 1;}#sk-container-id-1 div.sk-label:hover label.sk-toggleable__label {background-color: #d4ebff;}#sk-container-id-1 div.sk-serial::before {content: \"\";position: absolute;border-left: 1px solid gray;box-sizing: border-box;top: 0;bottom: 0;left: 50%;z-index: 0;}#sk-container-id-1 div.sk-serial {display: flex;flex-direction: column;align-items: center;background-color: white;padding-right: 0.2em;padding-left: 0.2em;position: relative;}#sk-container-id-1 div.sk-item {position: relative;z-index: 1;}#sk-container-id-1 div.sk-parallel {display: flex;align-items: stretch;justify-content: center;background-color: white;position: relative;}#sk-container-id-1 div.sk-item::before, #sk-container-id-1 div.sk-parallel-item::before {content: \"\";position: absolute;border-left: 1px solid gray;box-sizing: border-box;top: 0;bottom: 0;left: 50%;z-index: -1;}#sk-container-id-1 div.sk-parallel-item {display: flex;flex-direction: column;z-index: 1;position: relative;background-color: white;}#sk-container-id-1 div.sk-parallel-item:first-child::after {align-self: flex-end;width: 50%;}#sk-container-id-1 div.sk-parallel-item:last-child::after {align-self: flex-start;width: 50%;}#sk-container-id-1 div.sk-parallel-item:only-child::after {width: 0;}#sk-container-id-1 div.sk-dashed-wrapped {border: 1px dashed gray;margin: 0 0.4em 0.5em 0.4em;box-sizing: border-box;padding-bottom: 0.4em;background-color: white;}#sk-container-id-1 div.sk-label label {font-family: monospace;font-weight: bold;display: inline-block;line-height: 1.2em;}#sk-container-id-1 div.sk-label-container {text-align: center;}#sk-container-id-1 div.sk-container {/* jupyter's `normalize.less` sets `[hidden] { display: none; }` but bootstrap.min.css set `[hidden] { display: none !important; }` so we also need the `!important` here to be able to override the default hidden behavior on the sphinx rendered scikit-learn.org. See: https://github.com/scikit-learn/scikit-learn/issues/21755 */display: inline-block !important;position: relative;}#sk-container-id-1 div.sk-text-repr-fallback {display: none;}</style><div id=\"sk-container-id-1\" class=\"sk-top-container\"><div class=\"sk-text-repr-fallback\"><pre>GridSearchCV(cv=5, estimator=LogisticRegression(), n_jobs=-1,\n             param_grid={&#x27;C&#x27;: [0.5, 1, 2], &#x27;fit_intercept&#x27;: [True, False],\n                         &#x27;max_iter&#x27;: [1000], &#x27;tol&#x27;: [0.001, 0.0001]})</pre><b>In a Jupyter environment, please rerun this cell to show the HTML representation or trust the notebook. <br />On GitHub, the HTML representation is unable to render, please try loading this page with nbviewer.org.</b></div><div class=\"sk-container\" hidden><div class=\"sk-item sk-dashed-wrapped\"><div class=\"sk-label-container\"><div class=\"sk-label sk-toggleable\"><input class=\"sk-toggleable__control sk-hidden--visually\" id=\"sk-estimator-id-1\" type=\"checkbox\" ><label for=\"sk-estimator-id-1\" class=\"sk-toggleable__label sk-toggleable__label-arrow\">GridSearchCV</label><div class=\"sk-toggleable__content\"><pre>GridSearchCV(cv=5, estimator=LogisticRegression(), n_jobs=-1,\n             param_grid={&#x27;C&#x27;: [0.5, 1, 2], &#x27;fit_intercept&#x27;: [True, False],\n                         &#x27;max_iter&#x27;: [1000], &#x27;tol&#x27;: [0.001, 0.0001]})</pre></div></div></div><div class=\"sk-parallel\"><div class=\"sk-parallel-item\"><div class=\"sk-item\"><div class=\"sk-label-container\"><div class=\"sk-label sk-toggleable\"><input class=\"sk-toggleable__control sk-hidden--visually\" id=\"sk-estimator-id-2\" type=\"checkbox\" ><label for=\"sk-estimator-id-2\" class=\"sk-toggleable__label sk-toggleable__label-arrow\">estimator: LogisticRegression</label><div class=\"sk-toggleable__content\"><pre>LogisticRegression()</pre></div></div></div><div class=\"sk-serial\"><div class=\"sk-item\"><div class=\"sk-estimator sk-toggleable\"><input class=\"sk-toggleable__control sk-hidden--visually\" id=\"sk-estimator-id-3\" type=\"checkbox\" ><label for=\"sk-estimator-id-3\" class=\"sk-toggleable__label sk-toggleable__label-arrow\">LogisticRegression</label><div class=\"sk-toggleable__content\"><pre>LogisticRegression()</pre></div></div></div></div></div></div></div></div></div></div>"
     },
     "execution_count": 18,
     "metadata": {},
     "output_type": "execute_result"
    }
   ],
   "source": [
    "# Fit Model via GridSearch + Cross Validation\n",
    "param_grid = {\"tol\": [0.001, 0.0001],\n",
    "              'fit_intercept': [True, False],\n",
    "              'max_iter': [1000],\n",
    "              'C': [0.5, 1, 2]}\n",
    "# Apply GridSearch with above defined grid\n",
    "grid_cv = GridSearchCV(estimator = LogisticRegression(),\n",
    "                       param_grid=param_grid,\n",
    "                       n_jobs=-1,\n",
    "                       cv=5)\n",
    "# Fit Grid CV with all X scaled + y\n",
    "grid_cv.fit(X_scaled, y)"
   ],
   "metadata": {
    "collapsed": false,
    "pycharm": {
     "name": "#%%\n"
    }
   }
  },
  {
   "cell_type": "code",
   "execution_count": 19,
   "outputs": [
    {
     "name": "stdout",
     "output_type": "stream",
     "text": [
      "Best params: {'C': 2, 'fit_intercept': True, 'max_iter': 1000, 'tol': 0.001} with a score of 0.6515\n"
     ]
    },
    {
     "data": {
      "text/plain": "    mean_fit_time  std_fit_time  mean_score_time  std_score_time param_C  \\\n8        2.344784      0.237531         0.005800        0.000520       2   \n9        2.333677      0.232835         0.007418        0.003235       2   \n10       2.688287      0.400946         0.006337        0.000544       2   \n11       3.317913      0.202556         0.009029        0.005956       2   \n4        2.078574      0.234183         0.007504        0.003677       1   \n5        2.368838      0.378840         0.007790        0.002000       1   \n6        1.988575      0.318791         0.006314        0.000718       1   \n7        1.813667      0.118501         0.005410        0.000314       1   \n2        1.415926      0.149193         0.007774        0.003092     0.5   \n3        1.393641      0.158782         0.008633        0.003637     0.5   \n0        2.495683      0.344720         0.005529        0.000314     0.5   \n1        2.013288      0.204265         0.005982        0.000526     0.5   \n\n   param_fit_intercept param_max_iter param_tol  \\\n8                 True           1000     0.001   \n9                 True           1000    0.0001   \n10               False           1000     0.001   \n11               False           1000    0.0001   \n4                 True           1000     0.001   \n5                 True           1000    0.0001   \n6                False           1000     0.001   \n7                False           1000    0.0001   \n2                False           1000     0.001   \n3                False           1000    0.0001   \n0                 True           1000     0.001   \n1                 True           1000    0.0001   \n\n                                               params  split0_test_score  \\\n8   {'C': 2, 'fit_intercept': True, 'max_iter': 10...           0.653119   \n9   {'C': 2, 'fit_intercept': True, 'max_iter': 10...           0.653119   \n10  {'C': 2, 'fit_intercept': False, 'max_iter': 1...           0.653119   \n11  {'C': 2, 'fit_intercept': False, 'max_iter': 1...           0.653119   \n4   {'C': 1, 'fit_intercept': True, 'max_iter': 10...           0.652712   \n5   {'C': 1, 'fit_intercept': True, 'max_iter': 10...           0.652712   \n6   {'C': 1, 'fit_intercept': False, 'max_iter': 1...           0.652549   \n7   {'C': 1, 'fit_intercept': False, 'max_iter': 1...           0.652549   \n2   {'C': 0.5, 'fit_intercept': False, 'max_iter':...           0.650269   \n3   {'C': 0.5, 'fit_intercept': False, 'max_iter':...           0.650269   \n0   {'C': 0.5, 'fit_intercept': True, 'max_iter': ...           0.649943   \n1   {'C': 0.5, 'fit_intercept': True, 'max_iter': ...           0.649943   \n\n    split1_test_score  split2_test_score  split3_test_score  \\\n8            0.645626           0.654069           0.655453   \n9            0.645626           0.654069           0.655453   \n10           0.645545           0.653906           0.655535   \n11           0.645545           0.653906           0.655535   \n4            0.645463           0.653173           0.655209   \n5            0.645463           0.653173           0.655209   \n6            0.645382           0.653336           0.654965   \n7            0.645382           0.653336           0.654965   \n2            0.645708           0.653254           0.654720   \n3            0.645708           0.653254           0.654720   \n0            0.646196           0.653336           0.654557   \n1            0.646196           0.653336           0.654557   \n\n    split4_test_score  mean_test_score  std_test_score  rank_test_score  \n8            0.649018         0.651457        0.003619                1  \n9            0.649018         0.651457        0.003619                1  \n10           0.648693         0.651359        0.003686                3  \n11           0.648693         0.651359        0.003686                3  \n4            0.647227         0.650757        0.003741                5  \n5            0.647227         0.650757        0.003741                5  \n6            0.646901         0.650626        0.003775                7  \n7            0.646901         0.650626        0.003775                7  \n2            0.646901         0.650170        0.003488                9  \n3            0.646901         0.650170        0.003488                9  \n0            0.646738         0.650154        0.003373               11  \n1            0.646738         0.650154        0.003373               11  ",
      "text/html": "<div>\n<style scoped>\n    .dataframe tbody tr th:only-of-type {\n        vertical-align: middle;\n    }\n\n    .dataframe tbody tr th {\n        vertical-align: top;\n    }\n\n    .dataframe thead th {\n        text-align: right;\n    }\n</style>\n<table border=\"1\" class=\"dataframe\">\n  <thead>\n    <tr style=\"text-align: right;\">\n      <th></th>\n      <th>mean_fit_time</th>\n      <th>std_fit_time</th>\n      <th>mean_score_time</th>\n      <th>std_score_time</th>\n      <th>param_C</th>\n      <th>param_fit_intercept</th>\n      <th>param_max_iter</th>\n      <th>param_tol</th>\n      <th>params</th>\n      <th>split0_test_score</th>\n      <th>split1_test_score</th>\n      <th>split2_test_score</th>\n      <th>split3_test_score</th>\n      <th>split4_test_score</th>\n      <th>mean_test_score</th>\n      <th>std_test_score</th>\n      <th>rank_test_score</th>\n    </tr>\n  </thead>\n  <tbody>\n    <tr>\n      <th>8</th>\n      <td>2.344784</td>\n      <td>0.237531</td>\n      <td>0.005800</td>\n      <td>0.000520</td>\n      <td>2</td>\n      <td>True</td>\n      <td>1000</td>\n      <td>0.001</td>\n      <td>{'C': 2, 'fit_intercept': True, 'max_iter': 10...</td>\n      <td>0.653119</td>\n      <td>0.645626</td>\n      <td>0.654069</td>\n      <td>0.655453</td>\n      <td>0.649018</td>\n      <td>0.651457</td>\n      <td>0.003619</td>\n      <td>1</td>\n    </tr>\n    <tr>\n      <th>9</th>\n      <td>2.333677</td>\n      <td>0.232835</td>\n      <td>0.007418</td>\n      <td>0.003235</td>\n      <td>2</td>\n      <td>True</td>\n      <td>1000</td>\n      <td>0.0001</td>\n      <td>{'C': 2, 'fit_intercept': True, 'max_iter': 10...</td>\n      <td>0.653119</td>\n      <td>0.645626</td>\n      <td>0.654069</td>\n      <td>0.655453</td>\n      <td>0.649018</td>\n      <td>0.651457</td>\n      <td>0.003619</td>\n      <td>1</td>\n    </tr>\n    <tr>\n      <th>10</th>\n      <td>2.688287</td>\n      <td>0.400946</td>\n      <td>0.006337</td>\n      <td>0.000544</td>\n      <td>2</td>\n      <td>False</td>\n      <td>1000</td>\n      <td>0.001</td>\n      <td>{'C': 2, 'fit_intercept': False, 'max_iter': 1...</td>\n      <td>0.653119</td>\n      <td>0.645545</td>\n      <td>0.653906</td>\n      <td>0.655535</td>\n      <td>0.648693</td>\n      <td>0.651359</td>\n      <td>0.003686</td>\n      <td>3</td>\n    </tr>\n    <tr>\n      <th>11</th>\n      <td>3.317913</td>\n      <td>0.202556</td>\n      <td>0.009029</td>\n      <td>0.005956</td>\n      <td>2</td>\n      <td>False</td>\n      <td>1000</td>\n      <td>0.0001</td>\n      <td>{'C': 2, 'fit_intercept': False, 'max_iter': 1...</td>\n      <td>0.653119</td>\n      <td>0.645545</td>\n      <td>0.653906</td>\n      <td>0.655535</td>\n      <td>0.648693</td>\n      <td>0.651359</td>\n      <td>0.003686</td>\n      <td>3</td>\n    </tr>\n    <tr>\n      <th>4</th>\n      <td>2.078574</td>\n      <td>0.234183</td>\n      <td>0.007504</td>\n      <td>0.003677</td>\n      <td>1</td>\n      <td>True</td>\n      <td>1000</td>\n      <td>0.001</td>\n      <td>{'C': 1, 'fit_intercept': True, 'max_iter': 10...</td>\n      <td>0.652712</td>\n      <td>0.645463</td>\n      <td>0.653173</td>\n      <td>0.655209</td>\n      <td>0.647227</td>\n      <td>0.650757</td>\n      <td>0.003741</td>\n      <td>5</td>\n    </tr>\n    <tr>\n      <th>5</th>\n      <td>2.368838</td>\n      <td>0.378840</td>\n      <td>0.007790</td>\n      <td>0.002000</td>\n      <td>1</td>\n      <td>True</td>\n      <td>1000</td>\n      <td>0.0001</td>\n      <td>{'C': 1, 'fit_intercept': True, 'max_iter': 10...</td>\n      <td>0.652712</td>\n      <td>0.645463</td>\n      <td>0.653173</td>\n      <td>0.655209</td>\n      <td>0.647227</td>\n      <td>0.650757</td>\n      <td>0.003741</td>\n      <td>5</td>\n    </tr>\n    <tr>\n      <th>6</th>\n      <td>1.988575</td>\n      <td>0.318791</td>\n      <td>0.006314</td>\n      <td>0.000718</td>\n      <td>1</td>\n      <td>False</td>\n      <td>1000</td>\n      <td>0.001</td>\n      <td>{'C': 1, 'fit_intercept': False, 'max_iter': 1...</td>\n      <td>0.652549</td>\n      <td>0.645382</td>\n      <td>0.653336</td>\n      <td>0.654965</td>\n      <td>0.646901</td>\n      <td>0.650626</td>\n      <td>0.003775</td>\n      <td>7</td>\n    </tr>\n    <tr>\n      <th>7</th>\n      <td>1.813667</td>\n      <td>0.118501</td>\n      <td>0.005410</td>\n      <td>0.000314</td>\n      <td>1</td>\n      <td>False</td>\n      <td>1000</td>\n      <td>0.0001</td>\n      <td>{'C': 1, 'fit_intercept': False, 'max_iter': 1...</td>\n      <td>0.652549</td>\n      <td>0.645382</td>\n      <td>0.653336</td>\n      <td>0.654965</td>\n      <td>0.646901</td>\n      <td>0.650626</td>\n      <td>0.003775</td>\n      <td>7</td>\n    </tr>\n    <tr>\n      <th>2</th>\n      <td>1.415926</td>\n      <td>0.149193</td>\n      <td>0.007774</td>\n      <td>0.003092</td>\n      <td>0.5</td>\n      <td>False</td>\n      <td>1000</td>\n      <td>0.001</td>\n      <td>{'C': 0.5, 'fit_intercept': False, 'max_iter':...</td>\n      <td>0.650269</td>\n      <td>0.645708</td>\n      <td>0.653254</td>\n      <td>0.654720</td>\n      <td>0.646901</td>\n      <td>0.650170</td>\n      <td>0.003488</td>\n      <td>9</td>\n    </tr>\n    <tr>\n      <th>3</th>\n      <td>1.393641</td>\n      <td>0.158782</td>\n      <td>0.008633</td>\n      <td>0.003637</td>\n      <td>0.5</td>\n      <td>False</td>\n      <td>1000</td>\n      <td>0.0001</td>\n      <td>{'C': 0.5, 'fit_intercept': False, 'max_iter':...</td>\n      <td>0.650269</td>\n      <td>0.645708</td>\n      <td>0.653254</td>\n      <td>0.654720</td>\n      <td>0.646901</td>\n      <td>0.650170</td>\n      <td>0.003488</td>\n      <td>9</td>\n    </tr>\n    <tr>\n      <th>0</th>\n      <td>2.495683</td>\n      <td>0.344720</td>\n      <td>0.005529</td>\n      <td>0.000314</td>\n      <td>0.5</td>\n      <td>True</td>\n      <td>1000</td>\n      <td>0.001</td>\n      <td>{'C': 0.5, 'fit_intercept': True, 'max_iter': ...</td>\n      <td>0.649943</td>\n      <td>0.646196</td>\n      <td>0.653336</td>\n      <td>0.654557</td>\n      <td>0.646738</td>\n      <td>0.650154</td>\n      <td>0.003373</td>\n      <td>11</td>\n    </tr>\n    <tr>\n      <th>1</th>\n      <td>2.013288</td>\n      <td>0.204265</td>\n      <td>0.005982</td>\n      <td>0.000526</td>\n      <td>0.5</td>\n      <td>True</td>\n      <td>1000</td>\n      <td>0.0001</td>\n      <td>{'C': 0.5, 'fit_intercept': True, 'max_iter': ...</td>\n      <td>0.649943</td>\n      <td>0.646196</td>\n      <td>0.653336</td>\n      <td>0.654557</td>\n      <td>0.646738</td>\n      <td>0.650154</td>\n      <td>0.003373</td>\n      <td>11</td>\n    </tr>\n  </tbody>\n</table>\n</div>"
     },
     "execution_count": 19,
     "metadata": {},
     "output_type": "execute_result"
    }
   ],
   "source": [
    "print(f\"Best params: {grid_cv.best_params_} with a score of {grid_cv.best_score_:.4f}\")\n",
    "cv_results = pd.DataFrame(grid_cv.cv_results_)\n",
    "cv_results = cv_results.sort_values(by=\"rank_test_score\", ascending=True)\n",
    "cv_results"
   ],
   "metadata": {
    "collapsed": false,
    "pycharm": {
     "name": "#%%\n"
    }
   }
  },
  {
   "cell_type": "code",
   "execution_count": 20,
   "outputs": [
    {
     "data": {
      "text/plain": "<Figure size 432x288 with 2 Axes>",
      "image/png": "[encoded data removed]"
     },
     "metadata": {},
     "output_type": "display_data"
    },
    {
     "name": "stdout",
     "output_type": "stream",
     "text": [
      "              precision    recall  f1-score   support\n",
      "\n",
      "         0.0       0.67      0.76      0.71     34697\n",
      "         1.0       0.62      0.51      0.56     26690\n",
      "\n",
      "    accuracy                           0.65     61387\n",
      "   macro avg       0.65      0.64      0.64     61387\n",
      "weighted avg       0.65      0.65      0.65     61387\n",
      "\n"
     ]
    }
   ],
   "source": [
    "# Perform Logistic Regression on the best estimator selected by above Cross Validation\n",
    "y_pred = grid_cv.predict(X_scaled)\n",
    "\n",
    "# Plot Confusion matrix\n",
    "cm = confusion_matrix(y_true=y, y_pred=y_pred)\n",
    "sns.heatmap(cm, annot=True, fmt='d')\n",
    "plt.title(\"Confusion matrix\")\n",
    "plt.xlabel(\"Predicted\")\n",
    "plt.ylabel(\"Actual\")\n",
    "plt.show()\n",
    "\n",
    "# Plot classification report\n",
    "print(classification_report(y_true=y, y_pred=y_pred))"
   ],
   "metadata": {
    "collapsed": false,
    "pycharm": {
     "name": "#%%\n"
    }
   }
  },
  {
   "cell_type": "markdown",
   "source": [
    "## Interpretation:\n",
    "TBD"
   ],
   "metadata": {
    "collapsed": false,
    "pycharm": {
     "name": "#%% md\n"
    }
   }
  },
  {
   "cell_type": "markdown",
   "source": [
    "---\n",
    "# Task 4: Compare different classification models\n",
    "Comparing\n",
    "* logistic regression,\n",
    "* classification tree,\n",
    "* random forest,\n",
    "* bagging,\n",
    "* support vector machine (with two kernel functions),\n",
    "* and neural network\n",
    "\n",
    "for default prediction based on the out-of-sample performance measures (at least three different measures)."
   ],
   "metadata": {
    "collapsed": false,
    "pycharm": {
     "name": "#%% md\n"
    }
   }
  },
  {
   "cell_type": "code",
   "execution_count": 21,
   "outputs": [
    {
     "data": {
      "text/plain": "  0%|          | 0/7 [00:00<?, ?it/s]",
      "application/vnd.jupyter.widget-view+json": {
       "version_major": 2,
       "version_minor": 0,
       "model_id": "5d71c785720c4fc9875482afa0692441"
      }
     },
     "metadata": {},
     "output_type": "display_data"
    },
    {
     "name": "stdout",
     "output_type": "stream",
     "text": [
      "CPU times: user 217 ms, sys: 111 ms, total: 328 ms\n",
      "Wall time: 1min\n"
     ]
    }
   ],
   "source": [
    "%%time\n",
    "models = []\n",
    "\n",
    "models.append((\"LogisticRegression\",LogisticRegression(fit_intercept=True, max_iter=1000, solver=\"saga\")))\n",
    "models.append((\"DecisionTree\",DecisionTreeClassifier()))\n",
    "models.append((\"RandomForest\",RandomForestClassifier()))\n",
    "models.append((\"BaggingCLF\",BaggingClassifier()))\n",
    "models.append((\"SVC_rbf\",SVC(kernel='rbf', max_iter=500)))\n",
    "models.append((\"SVC_poly\",SVC(kernel=\"poly\", max_iter=500)))\n",
    "models.append((\"NeuronalNetwork\", MLPClassifier(alpha=1, max_iter=1000)))\n",
    "\n",
    "results = []\n",
    "names = []\n",
    "# Define scoring metrices for CV\n",
    "scoring = [\"accuracy\", \"precision_micro\", \"recall_micro\", \"f1_micro\"]\n",
    "for name, model in tqdm(models):\n",
    "    result = cross_validate(model, X_scaled, y,  cv=3, n_jobs=-1, scoring=scoring)\n",
    "    names.append(name)\n",
    "    results.append(result)"
   ],
   "metadata": {
    "collapsed": false,
    "pycharm": {
     "name": "#%%\n"
    }
   }
  },
  {
   "cell_type": "code",
   "execution_count": 22,
   "outputs": [
    {
     "data": {
      "text/plain": "                     fit_time  test_accuracy  test_precision_micro  \\\nRandomForest         9.028200         0.6785                0.6785   \nLogisticRegression   2.605700         0.6507                0.6507   \nNeuronalNetwork     16.946501         0.6472                0.6472   \nBaggingCLF          10.313500         0.6464                0.6464   \nDecisionTree         0.807500         0.6119                0.6119   \nSVC_rbf              4.733100         0.5712                0.5712   \nSVC_poly             3.126000         0.4769                0.4769   \n\n                    test_recall_micro  test_f1_micro  \nRandomForest                   0.6785         0.6785  \nLogisticRegression             0.6507         0.6507  \nNeuronalNetwork                0.6472         0.6472  \nBaggingCLF                     0.6464         0.6464  \nDecisionTree                   0.6119         0.6119  \nSVC_rbf                        0.5712         0.5712  \nSVC_poly                       0.4769         0.4769  ",
      "text/html": "<div>\n<style scoped>\n    .dataframe tbody tr th:only-of-type {\n        vertical-align: middle;\n    }\n\n    .dataframe tbody tr th {\n        vertical-align: top;\n    }\n\n    .dataframe thead th {\n        text-align: right;\n    }\n</style>\n<table border=\"1\" class=\"dataframe\">\n  <thead>\n    <tr style=\"text-align: right;\">\n      <th></th>\n      <th>fit_time</th>\n      <th>test_accuracy</th>\n      <th>test_precision_micro</th>\n      <th>test_recall_micro</th>\n      <th>test_f1_micro</th>\n    </tr>\n  </thead>\n  <tbody>\n    <tr>\n      <th>RandomForest</th>\n      <td>9.028200</td>\n      <td>0.6785</td>\n      <td>0.6785</td>\n      <td>0.6785</td>\n      <td>0.6785</td>\n    </tr>\n    <tr>\n      <th>LogisticRegression</th>\n      <td>2.605700</td>\n      <td>0.6507</td>\n      <td>0.6507</td>\n      <td>0.6507</td>\n      <td>0.6507</td>\n    </tr>\n    <tr>\n      <th>NeuronalNetwork</th>\n      <td>16.946501</td>\n      <td>0.6472</td>\n      <td>0.6472</td>\n      <td>0.6472</td>\n      <td>0.6472</td>\n    </tr>\n    <tr>\n      <th>BaggingCLF</th>\n      <td>10.313500</td>\n      <td>0.6464</td>\n      <td>0.6464</td>\n      <td>0.6464</td>\n      <td>0.6464</td>\n    </tr>\n    <tr>\n      <th>DecisionTree</th>\n      <td>0.807500</td>\n      <td>0.6119</td>\n      <td>0.6119</td>\n      <td>0.6119</td>\n      <td>0.6119</td>\n    </tr>\n    <tr>\n      <th>SVC_rbf</th>\n      <td>4.733100</td>\n      <td>0.5712</td>\n      <td>0.5712</td>\n      <td>0.5712</td>\n      <td>0.5712</td>\n    </tr>\n    <tr>\n      <th>SVC_poly</th>\n      <td>3.126000</td>\n      <td>0.4769</td>\n      <td>0.4769</td>\n      <td>0.4769</td>\n      <td>0.4769</td>\n    </tr>\n  </tbody>\n</table>\n</div>"
     },
     "execution_count": 22,
     "metadata": {},
     "output_type": "execute_result"
    }
   ],
   "source": [
    "# Get name of metrices (will be column in result_df)\n",
    "metrices = list(results[0].keys())\n",
    "# Create empty dataframe\n",
    "results_df = pd.DataFrame(index=names, columns=metrices, dtype=\"float32\")\n",
    "\n",
    "# File dataframe by iterating over all results and taking the mean value\n",
    "for i, name in enumerate(models):\n",
    "    mean_of_metrices = []\n",
    "    for key in results[i].keys():\n",
    "        mean_of_metrices.append(results[i].get(key).mean())\n",
    "    results_df.iloc[i] = mean_of_metrices\n",
    "\n",
    "# Drop scoring_time column as it is not of interest\n",
    "results_df.drop(\"score_time\", axis=1, inplace=True)\n",
    "# Round to 4 decimal places\n",
    "results_df = results_df.round(decimals=4)\n",
    "# Sort descending of f1 score\n",
    "results_df = results_df.sort_values(by=\"test_f1_micro\", ascending=False)\n",
    "# Preview\n",
    "results_df"
   ],
   "metadata": {
    "collapsed": false,
    "pycharm": {
     "name": "#%%\n"
    }
   }
  },
  {
   "cell_type": "markdown",
   "source": [
    "## Results:\n",
    "We can see that a RandomForest Model performs the best according to the f1 score, which is the harmonic mean between recall and precision. Also LogisticRegression, as a very good interpretable model, performs pretty well and is ranked 2nd. SVC, on the other hands, perform very poorly."
   ],
   "metadata": {
    "collapsed": false,
    "pycharm": {
     "name": "#%% md\n"
    }
   }
  },
  {
   "cell_type": "markdown",
   "source": [
    "---\n",
    "# Task 5: Use LASSO for variable selection and explain results"
   ],
   "metadata": {
    "collapsed": false,
    "pycharm": {
     "name": "#%% md\n"
    }
   }
  },
  {
   "cell_type": "code",
   "execution_count": 23,
   "outputs": [],
   "source": [
    "#TBD"
   ],
   "metadata": {
    "collapsed": false,
    "pycharm": {
     "name": "#%%\n"
    }
   }
  },
  {
   "cell_type": "code",
   "execution_count": 24,
   "outputs": [],
   "source": [
    "#PUFFER"
   ],
   "metadata": {
    "collapsed": false,
    "pycharm": {
     "name": "#%%\n"
    }
   }
  },
  {
   "cell_type": "markdown",
   "source": [
    "# Task 6: Which model do you suggest to the peer-to-peer company? Why?\n",
    "We rate each model based on the following four criterias learned on the lecture:\n",
    "- Interpretability\n",
    "- Robustness\n",
    "- Speed\n",
    "- Scalability\n",
    "TODO"
   ],
   "metadata": {
    "collapsed": false,
    "pycharm": {
     "name": "#%% md\n"
    }
   }
  }
 ],
 "metadata": {
  "kernelspec": {
   "name": "python3",
   "language": "python",
   "display_name": "Python 3 (ipykernel)"
  },
  "language_info": {
   "codemirror_mode": {
    "name": "ipython",
    "version": 2
   },
   "file_extension": ".py",
   "mimetype": "text/x-python",
   "name": "python",
   "nbconvert_exporter": "python",
   "pygments_lexer": "ipython2",
   "version": "2.7.6"
  }
 },
 "nbformat": 4,
 "nbformat_minor": 0
}