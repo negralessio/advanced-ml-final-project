{
 "cells": [
  {
   "cell_type": "code",
   "execution_count": 1,
   "outputs": [],
   "source": [
    "import pandas as pd\n",
    "import numpy as np\n",
    "import matplotlib.pyplot as plt\n",
    "import seaborn as sns\n",
    "import sklearn.metrics\n",
    "from sklearn.utils import resample\n",
    "# For modeling\n",
    "from sklearn.pipeline import Pipeline\n",
    "from sklearn.linear_model import LogisticRegression, Lasso\n",
    "from sklearn.ensemble import RandomForestClassifier, BaggingClassifier\n",
    "from sklearn.tree import DecisionTreeClassifier\n",
    "from sklearn.neural_network import MLPClassifier\n",
    "from sklearn.metrics import confusion_matrix, classification_report, precision_recall_fscore_support, accuracy_score, mean_absolute_error, r2_score\n",
    "from sklearn.model_selection import cross_val_score, train_test_split, cross_validate, GridSearchCV\n",
    "from sklearn.preprocessing import StandardScaler, MinMaxScaler\n",
    "from sklearn.svm import SVC\n",
    "from sklearn.pipeline import Pipeline\n",
    "from tqdm.notebook import tqdm\n",
    "from matplotlib.colors import ListedColormap\n",
    "#sns.set_palette('viridis')\n",
    "pd.options.mode.chained_assignment = None  # Supress warning, default='warn'"
   ],
   "metadata": {
    "collapsed": false,
    "pycharm": {
     "name": "#%%\n"
    }
   }
  },
  {
   "cell_type": "markdown",
   "source": [
    "# Read Data\n",
    "In this section we read the data (pickle file) after the preprocessing from the preprocessing notebook/part"
   ],
   "metadata": {
    "collapsed": false,
    "pycharm": {
     "name": "#%% md\n"
    }
   }
  },
  {
   "cell_type": "code",
   "execution_count": 2,
   "outputs": [
    {
     "name": "stdout",
     "output_type": "stream",
     "text": [
      "Shape of df: (1345310, 101)\n"
     ]
    },
    {
     "data": {
      "text/plain": "   loan_amnt  funded_amnt  funded_amnt_inv term  int_rate  installment grade  \\\n0     3600.0       3600.0           3600.0   36     13.99       123.03     C   \n1    24700.0      24700.0          24700.0   36     11.99       820.28     C   \n2    20000.0      20000.0          20000.0   60     10.78       432.66     B   \n4    10400.0      10400.0          10400.0   60     22.45       289.91     F   \n5    11950.0      11950.0          11950.0   36     13.44       405.18     C   \n\n  sub_grade  emp_length home_ownership  ...  percent_bc_gt_75  \\\n0        C4        10.0       MORTGAGE  ...               0.0   \n1        C1        10.0       MORTGAGE  ...               7.7   \n2        B4        10.0       MORTGAGE  ...              50.0   \n4        F1         3.0       MORTGAGE  ...              60.0   \n5        C3         4.0           RENT  ...             100.0   \n\n  pub_rec_bankruptcies  tax_liens tot_hi_cred_lim total_bal_ex_mort  \\\n0                  0.0        0.0        178050.0            7746.0   \n1                  0.0        0.0        314017.0           39475.0   \n2                  0.0        0.0        218418.0           18696.0   \n4                  0.0        0.0        439570.0           95768.0   \n5                  0.0        0.0         16900.0           12798.0   \n\n  total_bc_limit  total_il_high_credit_limit  hardship_flag  \\\n0         2400.0                     13734.0              N   \n1        79300.0                     24667.0              N   \n2         6200.0                     14877.0              N   \n4        20300.0                     88097.0              N   \n5         9400.0                      4000.0              N   \n\n   disbursement_method  debt_settlement_flag  \n0                 Cash                     N  \n1                 Cash                     N  \n2                 Cash                     N  \n4                 Cash                     N  \n5                 Cash                     N  \n\n[5 rows x 101 columns]",
      "text/html": "<div>\n<style scoped>\n    .dataframe tbody tr th:only-of-type {\n        vertical-align: middle;\n    }\n\n    .dataframe tbody tr th {\n        vertical-align: top;\n    }\n\n    .dataframe thead th {\n        text-align: right;\n    }\n</style>\n<table border=\"1\" class=\"dataframe\">\n  <thead>\n    <tr style=\"text-align: right;\">\n      <th></th>\n      <th>loan_amnt</th>\n      <th>funded_amnt</th>\n      <th>funded_amnt_inv</th>\n      <th>term</th>\n      <th>int_rate</th>\n      <th>installment</th>\n      <th>grade</th>\n      <th>sub_grade</th>\n      <th>emp_length</th>\n      <th>home_ownership</th>\n      <th>...</th>\n      <th>percent_bc_gt_75</th>\n      <th>pub_rec_bankruptcies</th>\n      <th>tax_liens</th>\n      <th>tot_hi_cred_lim</th>\n      <th>total_bal_ex_mort</th>\n      <th>total_bc_limit</th>\n      <th>total_il_high_credit_limit</th>\n      <th>hardship_flag</th>\n      <th>disbursement_method</th>\n      <th>debt_settlement_flag</th>\n    </tr>\n  </thead>\n  <tbody>\n    <tr>\n      <th>0</th>\n      <td>3600.0</td>\n      <td>3600.0</td>\n      <td>3600.0</td>\n      <td>36</td>\n      <td>13.99</td>\n      <td>123.03</td>\n      <td>C</td>\n      <td>C4</td>\n      <td>10.0</td>\n      <td>MORTGAGE</td>\n      <td>...</td>\n      <td>0.0</td>\n      <td>0.0</td>\n      <td>0.0</td>\n      <td>178050.0</td>\n      <td>7746.0</td>\n      <td>2400.0</td>\n      <td>13734.0</td>\n      <td>N</td>\n      <td>Cash</td>\n      <td>N</td>\n    </tr>\n    <tr>\n      <th>1</th>\n      <td>24700.0</td>\n      <td>24700.0</td>\n      <td>24700.0</td>\n      <td>36</td>\n      <td>11.99</td>\n      <td>820.28</td>\n      <td>C</td>\n      <td>C1</td>\n      <td>10.0</td>\n      <td>MORTGAGE</td>\n      <td>...</td>\n      <td>7.7</td>\n      <td>0.0</td>\n      <td>0.0</td>\n      <td>314017.0</td>\n      <td>39475.0</td>\n      <td>79300.0</td>\n      <td>24667.0</td>\n      <td>N</td>\n      <td>Cash</td>\n      <td>N</td>\n    </tr>\n    <tr>\n      <th>2</th>\n      <td>20000.0</td>\n      <td>20000.0</td>\n      <td>20000.0</td>\n      <td>60</td>\n      <td>10.78</td>\n      <td>432.66</td>\n      <td>B</td>\n      <td>B4</td>\n      <td>10.0</td>\n      <td>MORTGAGE</td>\n      <td>...</td>\n      <td>50.0</td>\n      <td>0.0</td>\n      <td>0.0</td>\n      <td>218418.0</td>\n      <td>18696.0</td>\n      <td>6200.0</td>\n      <td>14877.0</td>\n      <td>N</td>\n      <td>Cash</td>\n      <td>N</td>\n    </tr>\n    <tr>\n      <th>4</th>\n      <td>10400.0</td>\n      <td>10400.0</td>\n      <td>10400.0</td>\n      <td>60</td>\n      <td>22.45</td>\n      <td>289.91</td>\n      <td>F</td>\n      <td>F1</td>\n      <td>3.0</td>\n      <td>MORTGAGE</td>\n      <td>...</td>\n      <td>60.0</td>\n      <td>0.0</td>\n      <td>0.0</td>\n      <td>439570.0</td>\n      <td>95768.0</td>\n      <td>20300.0</td>\n      <td>88097.0</td>\n      <td>N</td>\n      <td>Cash</td>\n      <td>N</td>\n    </tr>\n    <tr>\n      <th>5</th>\n      <td>11950.0</td>\n      <td>11950.0</td>\n      <td>11950.0</td>\n      <td>36</td>\n      <td>13.44</td>\n      <td>405.18</td>\n      <td>C</td>\n      <td>C3</td>\n      <td>4.0</td>\n      <td>RENT</td>\n      <td>...</td>\n      <td>100.0</td>\n      <td>0.0</td>\n      <td>0.0</td>\n      <td>16900.0</td>\n      <td>12798.0</td>\n      <td>9400.0</td>\n      <td>4000.0</td>\n      <td>N</td>\n      <td>Cash</td>\n      <td>N</td>\n    </tr>\n  </tbody>\n</table>\n<p>5 rows × 101 columns</p>\n</div>"
     },
     "execution_count": 2,
     "metadata": {},
     "output_type": "execute_result"
    }
   ],
   "source": [
    "df = pd.read_pickle('../data/preprocessed/accepted_df_preprocessed.pkl')\n",
    "print(f\"Shape of df: {df.shape}\")\n",
    "df.head(5)"
   ],
   "metadata": {
    "collapsed": false,
    "pycharm": {
     "name": "#%%\n"
    }
   }
  },
  {
   "cell_type": "code",
   "execution_count": 3,
   "outputs": [
    {
     "name": "stdout",
     "output_type": "stream",
     "text": [
      "(134531, 101)\n"
     ]
    }
   ],
   "source": [
    "# TAKE SUBSAMPLE OF DATA FOR COMPUTATION ISSUES (TODO: DELETE THIS LATER)\n",
    "df = df.sample(frac = 0.1)\n",
    "print(df.shape)"
   ],
   "metadata": {
    "collapsed": false,
    "pycharm": {
     "name": "#%%\n"
    }
   }
  },
  {
   "cell_type": "markdown",
   "source": [
    "---\n",
    "# Model Preprocessing: Encode Features from categorical to numerical\n",
    "In this section we prepare our data set for modeling through fixing the inbalancement of our data, encoding categorical data, dropping features that are only apriori the application known etc..."
   ],
   "metadata": {
    "collapsed": false,
    "pycharm": {
     "name": "#%% md\n"
    }
   }
  },
  {
   "cell_type": "markdown",
   "source": [
    "## Drop columns for prediction\n",
    "In this small section we drop features that we do not have prior the lending application. We consulted the data dictionary table (seen [here](https://docs.google.com/spreadsheets/d/13YQDRQYYbr84wy7zQ91yfC8QoEBFPFP0zR5pIDf18rA/edit#gid=629438262)) and analyzed which columns to keep and which to drop. Note that this requires a lot of domain knowledge."
   ],
   "metadata": {
    "collapsed": false,
    "pycharm": {
     "name": "#%% md\n"
    }
   }
  },
  {
   "cell_type": "code",
   "execution_count": 4,
   "outputs": [
    {
     "name": "stdout",
     "output_type": "stream",
     "text": [
      "Cols to drop: ['funded_amnt', 'funded_amnt_inv', 'pymnt_plan', 'delinq_2yrs', 'inq_last_6mths', 'mths_since_last_delinq', 'out_prncp', 'out_prncp_inv', 'total_pymnt', 'total_pymnt_inv', 'total_rec_prncp', 'total_rec_int', 'total_rec_late_fee', 'recoveries', 'collection_recovery_fee', 'last_pymnt_amnt', 'last_fico_range_high', 'last_fico_range_low', 'collections_12_mths_ex_med', 'mths_since_last_major_derog', 'policy_code', 'acc_now_delinq', 'tot_coll_amt', 'tot_cur_bal', 'open_acc_6m', 'open_act_il', 'open_il_12m', 'open_il_24m', 'mths_since_rcnt_il', 'total_bal_il', 'il_util', 'open_rv_12m', 'open_rv_24m', 'max_bal_bc', 'all_util', 'total_rev_hi_lim', 'inq_fi', 'total_cu_tl', 'inq_last_12m', 'acc_open_past_24mths', 'avg_cur_bal', 'bc_open_to_buy', 'bc_util', 'chargeoff_within_12_mths', 'delinq_amnt', 'mo_sin_old_il_acct', 'mo_sin_old_rev_tl_op', 'mo_sin_rcnt_rev_tl_op', 'mo_sin_rcnt_tl', 'mths_since_recent_bc', 'mths_since_recent_inq', 'mths_since_recent_revol_delinq', 'num_accts_ever_120_pd', 'num_actv_bc_tl', 'num_actv_rev_tl', 'num_bc_sats', 'num_bc_tl', 'num_il_tl', 'num_op_rev_tl', 'num_rev_accts', 'num_rev_tl_bal_gt_0', 'num_sats', 'num_tl_120dpd_2m', 'num_tl_30dpd', 'num_tl_90g_dpd_24m', 'num_tl_op_past_12m', 'pct_tl_nvr_dlq', 'percent_bc_gt_75', 'tax_liens', 'tot_hi_cred_lim', 'total_bal_ex_mort', 'total_bc_limit', 'total_il_high_credit_limit', 'hardship_flag', 'disbursement_method', 'debt_settlement_flag']\n",
      "Shape of df after drop: (134531, 25)\n"
     ]
    }
   ],
   "source": [
    "keep_list = ['addr_state', 'annual_inc', 'annual_inc_joint', 'application_type', 'dti', 'earliest_cr_line', 'emp_length', 'emp_title', 'fico_range_high', 'fico_range_low', 'grade', 'home_ownership', 'id', 'initial_list_status', 'installment', 'int_rate', 'issue_d', 'loan_amnt', 'loan_status', 'mort_acc', 'open_acc', 'pub_rec', 'pub_rec_bankruptcies', 'purpose', 'revol_bal', 'revol_util', 'sub_grade', 'term', 'title', 'total_acc', 'verification_status', 'zip_code']\n",
    "\n",
    "cols_to_drop = [col for col in df.columns if col not in keep_list]\n",
    "print(f\"Cols to drop: {cols_to_drop}\")\n",
    "df.drop(cols_to_drop, axis=1, inplace=True)\n",
    "print(f\"Shape of df after drop: {df.shape}\")"
   ],
   "metadata": {
    "collapsed": false,
    "pycharm": {
     "name": "#%%\n"
    }
   }
  },
  {
   "cell_type": "code",
   "execution_count": 5,
   "outputs": [
    {
     "name": "stdout",
     "output_type": "stream",
     "text": [
      "float64    16\n",
      "object      8\n",
      "int64       1\n",
      "dtype: int64\n",
      "Current categorical features:\n",
      "['grade', 'sub_grade', 'home_ownership', 'verification_status', 'purpose', 'addr_state', 'initial_list_status', 'application_type']\n"
     ]
    }
   ],
   "source": [
    "# Convert term to float32\n",
    "df[\"term\"] = df[\"term\"].astype(np.float64)\n",
    "\n",
    "# Preview categorical data\n",
    "print(df.dtypes.value_counts())\n",
    "# Get categorical columns names\n",
    "cat_columns = df.select_dtypes(include=['object']).columns.tolist()\n",
    "# Preview\n",
    "print(f\"Current categorical features:\\n{cat_columns}\")"
   ],
   "metadata": {
    "collapsed": false,
    "pycharm": {
     "name": "#%%\n"
    }
   }
  },
  {
   "cell_type": "markdown",
   "source": [
    "### Deleted irrelevant categorical features\n",
    "Delete categorical features that are not relevant for the Modelling or contain too many realization so that encoding them would be infeasible."
   ],
   "metadata": {
    "collapsed": false,
    "pycharm": {
     "name": "#%% md\n"
    }
   }
  },
  {
   "cell_type": "code",
   "execution_count": 6,
   "outputs": [
    {
     "name": "stdout",
     "output_type": "stream",
     "text": [
      "Categorical Columns to drop: ['purpose', 'addr_state']\n",
      "Categorical Columns to keep: ['home_ownership', 'grade', 'sub_grade', 'verification_status', 'application_type', 'initial_list_status']\n",
      "\n",
      "Shape of df before columns drop: (134531, 25)\n",
      "Shape of df after columns drop: (134531, 23)\n"
     ]
    }
   ],
   "source": [
    "# Define categorical columns from cat_columns to keep here\n",
    "CAT_COLS_TO_KEEP = [\"home_ownership\", \"grade\", \"sub_grade\", \"verification_status\", \"application_type\", \"initial_list_status\"]\n",
    "CAT_COLS_TO_DROP = [col for col in cat_columns if col not in CAT_COLS_TO_KEEP]\n",
    "\n",
    "print(f\"Categorical Columns to drop: {CAT_COLS_TO_DROP}\")\n",
    "print(f\"Categorical Columns to keep: {CAT_COLS_TO_KEEP}\\n\")\n",
    "print(f\"Shape of df before columns drop: {df.shape}\")\n",
    "# Drop irrelevant categorical features\n",
    "df.drop(CAT_COLS_TO_DROP, axis=1, inplace=True)\n",
    "print(f\"Shape of df after columns drop: {df.shape}\")"
   ],
   "metadata": {
    "collapsed": false,
    "pycharm": {
     "name": "#%%\n"
    }
   }
  },
  {
   "cell_type": "markdown",
   "source": [
    "## Preview of the remaining categorical features"
   ],
   "metadata": {
    "collapsed": false,
    "pycharm": {
     "name": "#%% md\n"
    }
   }
  },
  {
   "cell_type": "code",
   "execution_count": 7,
   "outputs": [
    {
     "name": "stdout",
     "output_type": "stream",
     "text": [
      "float64    16\n",
      "object      6\n",
      "int64       1\n",
      "dtype: int64\n"
     ]
    },
    {
     "data": {
      "text/plain": "        grade sub_grade home_ownership verification_status  \\\n1234114     A        A1           RENT     Source Verified   \n990667      F        F3            OWN     Source Verified   \n1193970     C        C2           RENT     Source Verified   \n91057       C        C2            OWN            Verified   \n1796590     B        B2       MORTGAGE     Source Verified   \n...       ...       ...            ...                 ...   \n193467      C        C1       MORTGAGE     Source Verified   \n1312038     B        B2       MORTGAGE     Source Verified   \n1211826     F        F4           RENT            Verified   \n697542      B        B4       MORTGAGE     Source Verified   \n1254572     B        B3       MORTGAGE        Not Verified   \n\n        initial_list_status application_type  \n1234114                   f       Individual  \n990667                    f       Individual  \n1193970                   f       Individual  \n91057                     f       Individual  \n1796590                   f       Individual  \n...                     ...              ...  \n193467                    f       Individual  \n1312038                   f       Individual  \n1211826                   f       Individual  \n697542                    w       Individual  \n1254572                   w       Individual  \n\n[134531 rows x 6 columns]",
      "text/html": "<div>\n<style scoped>\n    .dataframe tbody tr th:only-of-type {\n        vertical-align: middle;\n    }\n\n    .dataframe tbody tr th {\n        vertical-align: top;\n    }\n\n    .dataframe thead th {\n        text-align: right;\n    }\n</style>\n<table border=\"1\" class=\"dataframe\">\n  <thead>\n    <tr style=\"text-align: right;\">\n      <th></th>\n      <th>grade</th>\n      <th>sub_grade</th>\n      <th>home_ownership</th>\n      <th>verification_status</th>\n      <th>initial_list_status</th>\n      <th>application_type</th>\n    </tr>\n  </thead>\n  <tbody>\n    <tr>\n      <th>1234114</th>\n      <td>A</td>\n      <td>A1</td>\n      <td>RENT</td>\n      <td>Source Verified</td>\n      <td>f</td>\n      <td>Individual</td>\n    </tr>\n    <tr>\n      <th>990667</th>\n      <td>F</td>\n      <td>F3</td>\n      <td>OWN</td>\n      <td>Source Verified</td>\n      <td>f</td>\n      <td>Individual</td>\n    </tr>\n    <tr>\n      <th>1193970</th>\n      <td>C</td>\n      <td>C2</td>\n      <td>RENT</td>\n      <td>Source Verified</td>\n      <td>f</td>\n      <td>Individual</td>\n    </tr>\n    <tr>\n      <th>91057</th>\n      <td>C</td>\n      <td>C2</td>\n      <td>OWN</td>\n      <td>Verified</td>\n      <td>f</td>\n      <td>Individual</td>\n    </tr>\n    <tr>\n      <th>1796590</th>\n      <td>B</td>\n      <td>B2</td>\n      <td>MORTGAGE</td>\n      <td>Source Verified</td>\n      <td>f</td>\n      <td>Individual</td>\n    </tr>\n    <tr>\n      <th>...</th>\n      <td>...</td>\n      <td>...</td>\n      <td>...</td>\n      <td>...</td>\n      <td>...</td>\n      <td>...</td>\n    </tr>\n    <tr>\n      <th>193467</th>\n      <td>C</td>\n      <td>C1</td>\n      <td>MORTGAGE</td>\n      <td>Source Verified</td>\n      <td>f</td>\n      <td>Individual</td>\n    </tr>\n    <tr>\n      <th>1312038</th>\n      <td>B</td>\n      <td>B2</td>\n      <td>MORTGAGE</td>\n      <td>Source Verified</td>\n      <td>f</td>\n      <td>Individual</td>\n    </tr>\n    <tr>\n      <th>1211826</th>\n      <td>F</td>\n      <td>F4</td>\n      <td>RENT</td>\n      <td>Verified</td>\n      <td>f</td>\n      <td>Individual</td>\n    </tr>\n    <tr>\n      <th>697542</th>\n      <td>B</td>\n      <td>B4</td>\n      <td>MORTGAGE</td>\n      <td>Source Verified</td>\n      <td>w</td>\n      <td>Individual</td>\n    </tr>\n    <tr>\n      <th>1254572</th>\n      <td>B</td>\n      <td>B3</td>\n      <td>MORTGAGE</td>\n      <td>Not Verified</td>\n      <td>w</td>\n      <td>Individual</td>\n    </tr>\n  </tbody>\n</table>\n<p>134531 rows × 6 columns</p>\n</div>"
     },
     "execution_count": 7,
     "metadata": {},
     "output_type": "execute_result"
    }
   ],
   "source": [
    "print(df.dtypes.value_counts())\n",
    "df.select_dtypes(\"object\")"
   ],
   "metadata": {
    "collapsed": false,
    "pycharm": {
     "name": "#%%\n"
    }
   }
  },
  {
   "cell_type": "code",
   "execution_count": 8,
   "outputs": [
    {
     "name": "stdout",
     "output_type": "stream",
     "text": [
      "Index(['loan_amnt', 'term', 'int_rate', 'installment', 'grade', 'sub_grade',\n",
      "       'emp_length', 'home_ownership', 'annual_inc', 'verification_status',\n",
      "       'loan_status', 'dti', 'fico_range_low', 'fico_range_high', 'open_acc',\n",
      "       'pub_rec', 'revol_bal', 'revol_util', 'total_acc',\n",
      "       'initial_list_status', 'application_type', 'mort_acc',\n",
      "       'pub_rec_bankruptcies'],\n",
      "      dtype='object')\n"
     ]
    }
   ],
   "source": [
    "# Preview of all remaining columns / features:\n",
    "print(df.columns)"
   ],
   "metadata": {
    "collapsed": false,
    "pycharm": {
     "name": "#%%\n"
    }
   }
  },
  {
   "cell_type": "markdown",
   "source": [
    "## Create Dummy Variables"
   ],
   "metadata": {
    "collapsed": false,
    "pycharm": {
     "name": "#%% md\n"
    }
   }
  },
  {
   "cell_type": "code",
   "execution_count": 9,
   "outputs": [
    {
     "name": "stdout",
     "output_type": "stream",
     "text": [
      "Shape before dummies using BinaryEncoder: (134531, 23)\n",
      "Shape after dummies using BinaryEncoder: (134531, 35)\n"
     ]
    },
    {
     "data": {
      "text/plain": "int64      19\nfloat64    16\ndtype: int64"
     },
     "execution_count": 9,
     "metadata": {},
     "output_type": "execute_result"
    }
   ],
   "source": [
    "# Binary Encoding\n",
    "import category_encoders as ce\n",
    "print(f\"Shape before dummies using BinaryEncoder: {df.shape}\")\n",
    "# Encode categorical columns\n",
    "encoder = ce.BinaryEncoder(cols=CAT_COLS_TO_KEEP)\n",
    "df_binary = encoder.fit_transform(df)\n",
    "print(f\"Shape after dummies using BinaryEncoder: {df_binary.shape}\")\n",
    "# check\n",
    "df_binary.dtypes.value_counts()"
   ],
   "metadata": {
    "collapsed": false,
    "pycharm": {
     "name": "#%%\n"
    }
   }
  },
  {
   "cell_type": "code",
   "execution_count": 10,
   "outputs": [],
   "source": [
    "# Use pd.get_dummies instead\n",
    "#print(f\"Shape before dummies using pd.get_dummies(): {df.shape}\")\n",
    "#df_binary = pd.get_dummies(data=df, columns=CAT_COLS_TO_KEEP, drop_first=True)\n",
    "#print(f\"Shape after dummies using pd.get_dummies(): {df_binary.shape}\")"
   ],
   "metadata": {
    "collapsed": false,
    "pycharm": {
     "name": "#%%\n"
    }
   }
  },
  {
   "cell_type": "code",
   "execution_count": 11,
   "outputs": [
    {
     "data": {
      "text/plain": "float32    35\ndtype: int64"
     },
     "execution_count": 11,
     "metadata": {},
     "output_type": "execute_result"
    }
   ],
   "source": [
    "# Convert all values to float\n",
    "df_binary = df_binary.astype(np.float32)\n",
    "df_binary.dtypes.value_counts()"
   ],
   "metadata": {
    "collapsed": false,
    "pycharm": {
     "name": "#%%\n"
    }
   }
  },
  {
   "cell_type": "markdown",
   "source": [
    "## Preview preprocessed dataframe"
   ],
   "metadata": {
    "collapsed": false,
    "pycharm": {
     "name": "#%% md\n"
    }
   }
  },
  {
   "cell_type": "code",
   "execution_count": 12,
   "outputs": [
    {
     "data": {
      "text/plain": "         loan_amnt  term  int_rate  installment  grade_0  grade_1  grade_2  \\\n1234114    20000.0  36.0      6.03   608.719971      0.0      0.0      1.0   \n990667      7200.0  36.0     24.99   286.239990      0.0      1.0      0.0   \n1193970    25000.0  36.0     13.35   846.570007      0.0      1.0      1.0   \n91057       8000.0  36.0     12.69   268.359985      0.0      1.0      1.0   \n1796590    15000.0  36.0     10.99   491.010010      1.0      0.0      0.0   \n182016      5000.0  36.0      9.17   159.399994      1.0      0.0      0.0   \n1884666     8000.0  36.0     18.75   292.239990      1.0      0.0      1.0   \n120433     24000.0  60.0      9.99   509.820007      1.0      0.0      0.0   \n1009890    35000.0  36.0     13.67  1190.619995      0.0      1.0      1.0   \n2106953    34000.0  36.0     11.99  1129.130005      1.0      0.0      0.0   \n\n         sub_grade_0  sub_grade_1  sub_grade_2  ...  pub_rec  revol_bal  \\\n1234114          0.0          0.0          0.0  ...      0.0    20788.0   \n990667           0.0          0.0          0.0  ...      1.0     5221.0   \n1193970          0.0          0.0          0.0  ...      0.0    16239.0   \n91057            0.0          0.0          0.0  ...      0.0     4693.0   \n1796590          0.0          0.0          0.0  ...      0.0    39778.0   \n182016           0.0          0.0          0.0  ...      0.0     5285.0   \n1884666          0.0          0.0          0.0  ...      1.0     6141.0   \n120433           0.0          0.0          0.0  ...      0.0    13963.0   \n1009890          0.0          0.0          0.0  ...      0.0    41274.0   \n2106953          0.0          0.0          1.0  ...      0.0    34284.0   \n\n         revol_util  total_acc  initial_list_status_0  initial_list_status_1  \\\n1234114   43.400002       32.0                    0.0                    1.0   \n990667    31.100000       20.0                    0.0                    1.0   \n1193970   34.799999       17.0                    0.0                    1.0   \n91057     80.900002       13.0                    0.0                    1.0   \n1796590   97.000000       30.0                    0.0                    1.0   \n182016    46.799999        8.0                    0.0                    1.0   \n1884666   93.000000       31.0                    0.0                    1.0   \n120433    17.799999       55.0                    1.0                    0.0   \n1009890   70.300003       25.0                    1.0                    0.0   \n2106953   57.000000       43.0                    1.0                    0.0   \n\n         application_type_0  application_type_1  mort_acc  \\\n1234114                 0.0                 1.0       0.0   \n990667                  0.0                 1.0       0.0   \n1193970                 0.0                 1.0       0.0   \n91057                   0.0                 1.0       0.0   \n1796590                 0.0                 1.0       5.0   \n182016                  0.0                 1.0       0.0   \n1884666                 0.0                 1.0       0.0   \n120433                  0.0                 1.0       3.0   \n1009890                 0.0                 1.0       1.0   \n2106953                 1.0                 0.0       4.0   \n\n         pub_rec_bankruptcies  \n1234114                   0.0  \n990667                    0.0  \n1193970                   0.0  \n91057                     0.0  \n1796590                   0.0  \n182016                    0.0  \n1884666                   1.0  \n120433                    0.0  \n1009890                   0.0  \n2106953                   0.0  \n\n[10 rows x 35 columns]",
      "text/html": "<div>\n<style scoped>\n    .dataframe tbody tr th:only-of-type {\n        vertical-align: middle;\n    }\n\n    .dataframe tbody tr th {\n        vertical-align: top;\n    }\n\n    .dataframe thead th {\n        text-align: right;\n    }\n</style>\n<table border=\"1\" class=\"dataframe\">\n  <thead>\n    <tr style=\"text-align: right;\">\n      <th></th>\n      <th>loan_amnt</th>\n      <th>term</th>\n      <th>int_rate</th>\n      <th>installment</th>\n      <th>grade_0</th>\n      <th>grade_1</th>\n      <th>grade_2</th>\n      <th>sub_grade_0</th>\n      <th>sub_grade_1</th>\n      <th>sub_grade_2</th>\n      <th>...</th>\n      <th>pub_rec</th>\n      <th>revol_bal</th>\n      <th>revol_util</th>\n      <th>total_acc</th>\n      <th>initial_list_status_0</th>\n      <th>initial_list_status_1</th>\n      <th>application_type_0</th>\n      <th>application_type_1</th>\n      <th>mort_acc</th>\n      <th>pub_rec_bankruptcies</th>\n    </tr>\n  </thead>\n  <tbody>\n    <tr>\n      <th>1234114</th>\n      <td>20000.0</td>\n      <td>36.0</td>\n      <td>6.03</td>\n      <td>608.719971</td>\n      <td>0.0</td>\n      <td>0.0</td>\n      <td>1.0</td>\n      <td>0.0</td>\n      <td>0.0</td>\n      <td>0.0</td>\n      <td>...</td>\n      <td>0.0</td>\n      <td>20788.0</td>\n      <td>43.400002</td>\n      <td>32.0</td>\n      <td>0.0</td>\n      <td>1.0</td>\n      <td>0.0</td>\n      <td>1.0</td>\n      <td>0.0</td>\n      <td>0.0</td>\n    </tr>\n    <tr>\n      <th>990667</th>\n      <td>7200.0</td>\n      <td>36.0</td>\n      <td>24.99</td>\n      <td>286.239990</td>\n      <td>0.0</td>\n      <td>1.0</td>\n      <td>0.0</td>\n      <td>0.0</td>\n      <td>0.0</td>\n      <td>0.0</td>\n      <td>...</td>\n      <td>1.0</td>\n      <td>5221.0</td>\n      <td>31.100000</td>\n      <td>20.0</td>\n      <td>0.0</td>\n      <td>1.0</td>\n      <td>0.0</td>\n      <td>1.0</td>\n      <td>0.0</td>\n      <td>0.0</td>\n    </tr>\n    <tr>\n      <th>1193970</th>\n      <td>25000.0</td>\n      <td>36.0</td>\n      <td>13.35</td>\n      <td>846.570007</td>\n      <td>0.0</td>\n      <td>1.0</td>\n      <td>1.0</td>\n      <td>0.0</td>\n      <td>0.0</td>\n      <td>0.0</td>\n      <td>...</td>\n      <td>0.0</td>\n      <td>16239.0</td>\n      <td>34.799999</td>\n      <td>17.0</td>\n      <td>0.0</td>\n      <td>1.0</td>\n      <td>0.0</td>\n      <td>1.0</td>\n      <td>0.0</td>\n      <td>0.0</td>\n    </tr>\n    <tr>\n      <th>91057</th>\n      <td>8000.0</td>\n      <td>36.0</td>\n      <td>12.69</td>\n      <td>268.359985</td>\n      <td>0.0</td>\n      <td>1.0</td>\n      <td>1.0</td>\n      <td>0.0</td>\n      <td>0.0</td>\n      <td>0.0</td>\n      <td>...</td>\n      <td>0.0</td>\n      <td>4693.0</td>\n      <td>80.900002</td>\n      <td>13.0</td>\n      <td>0.0</td>\n      <td>1.0</td>\n      <td>0.0</td>\n      <td>1.0</td>\n      <td>0.0</td>\n      <td>0.0</td>\n    </tr>\n    <tr>\n      <th>1796590</th>\n      <td>15000.0</td>\n      <td>36.0</td>\n      <td>10.99</td>\n      <td>491.010010</td>\n      <td>1.0</td>\n      <td>0.0</td>\n      <td>0.0</td>\n      <td>0.0</td>\n      <td>0.0</td>\n      <td>0.0</td>\n      <td>...</td>\n      <td>0.0</td>\n      <td>39778.0</td>\n      <td>97.000000</td>\n      <td>30.0</td>\n      <td>0.0</td>\n      <td>1.0</td>\n      <td>0.0</td>\n      <td>1.0</td>\n      <td>5.0</td>\n      <td>0.0</td>\n    </tr>\n    <tr>\n      <th>182016</th>\n      <td>5000.0</td>\n      <td>36.0</td>\n      <td>9.17</td>\n      <td>159.399994</td>\n      <td>1.0</td>\n      <td>0.0</td>\n      <td>0.0</td>\n      <td>0.0</td>\n      <td>0.0</td>\n      <td>0.0</td>\n      <td>...</td>\n      <td>0.0</td>\n      <td>5285.0</td>\n      <td>46.799999</td>\n      <td>8.0</td>\n      <td>0.0</td>\n      <td>1.0</td>\n      <td>0.0</td>\n      <td>1.0</td>\n      <td>0.0</td>\n      <td>0.0</td>\n    </tr>\n    <tr>\n      <th>1884666</th>\n      <td>8000.0</td>\n      <td>36.0</td>\n      <td>18.75</td>\n      <td>292.239990</td>\n      <td>1.0</td>\n      <td>0.0</td>\n      <td>1.0</td>\n      <td>0.0</td>\n      <td>0.0</td>\n      <td>0.0</td>\n      <td>...</td>\n      <td>1.0</td>\n      <td>6141.0</td>\n      <td>93.000000</td>\n      <td>31.0</td>\n      <td>0.0</td>\n      <td>1.0</td>\n      <td>0.0</td>\n      <td>1.0</td>\n      <td>0.0</td>\n      <td>1.0</td>\n    </tr>\n    <tr>\n      <th>120433</th>\n      <td>24000.0</td>\n      <td>60.0</td>\n      <td>9.99</td>\n      <td>509.820007</td>\n      <td>1.0</td>\n      <td>0.0</td>\n      <td>0.0</td>\n      <td>0.0</td>\n      <td>0.0</td>\n      <td>0.0</td>\n      <td>...</td>\n      <td>0.0</td>\n      <td>13963.0</td>\n      <td>17.799999</td>\n      <td>55.0</td>\n      <td>1.0</td>\n      <td>0.0</td>\n      <td>0.0</td>\n      <td>1.0</td>\n      <td>3.0</td>\n      <td>0.0</td>\n    </tr>\n    <tr>\n      <th>1009890</th>\n      <td>35000.0</td>\n      <td>36.0</td>\n      <td>13.67</td>\n      <td>1190.619995</td>\n      <td>0.0</td>\n      <td>1.0</td>\n      <td>1.0</td>\n      <td>0.0</td>\n      <td>0.0</td>\n      <td>0.0</td>\n      <td>...</td>\n      <td>0.0</td>\n      <td>41274.0</td>\n      <td>70.300003</td>\n      <td>25.0</td>\n      <td>1.0</td>\n      <td>0.0</td>\n      <td>0.0</td>\n      <td>1.0</td>\n      <td>1.0</td>\n      <td>0.0</td>\n    </tr>\n    <tr>\n      <th>2106953</th>\n      <td>34000.0</td>\n      <td>36.0</td>\n      <td>11.99</td>\n      <td>1129.130005</td>\n      <td>1.0</td>\n      <td>0.0</td>\n      <td>0.0</td>\n      <td>0.0</td>\n      <td>0.0</td>\n      <td>1.0</td>\n      <td>...</td>\n      <td>0.0</td>\n      <td>34284.0</td>\n      <td>57.000000</td>\n      <td>43.0</td>\n      <td>1.0</td>\n      <td>0.0</td>\n      <td>1.0</td>\n      <td>0.0</td>\n      <td>4.0</td>\n      <td>0.0</td>\n    </tr>\n  </tbody>\n</table>\n<p>10 rows × 35 columns</p>\n</div>"
     },
     "execution_count": 12,
     "metadata": {},
     "output_type": "execute_result"
    }
   ],
   "source": [
    "df_binary.head(10)"
   ],
   "metadata": {
    "collapsed": false,
    "pycharm": {
     "name": "#%%\n"
    }
   }
  },
  {
   "cell_type": "markdown",
   "source": [
    "## Create Balanced Data Set via Downsampling"
   ],
   "metadata": {
    "collapsed": false,
    "pycharm": {
     "name": "#%% md\n"
    }
   }
  },
  {
   "cell_type": "code",
   "execution_count": 13,
   "outputs": [
    {
     "name": "stdout",
     "output_type": "stream",
     "text": [
      "0.0    107791\n",
      "1.0     26740\n",
      "Name: loan_status, dtype: int64\n",
      "(134531, 35)\n"
     ]
    },
    {
     "data": {
      "text/plain": "<Figure size 432x288 with 1 Axes>",
      "image/png": "[encoded data removed]"
     },
     "metadata": {},
     "output_type": "display_data"
    }
   ],
   "source": [
    "print(df_binary.loan_status.value_counts())\n",
    "print(df_binary.shape)\n",
    "\n",
    "plt.title(\"Distribution of the target variable\", size=15)\n",
    "df_binary.groupby('loan_status').size().plot(kind='pie', y = \"loan_status\",\n",
    "                                             label = \"Type\", autopct='%1.1f%%',\n",
    "                                             wedgeprops = {\"edgecolor\": \"black\", \"alpha\": 0.75},\n",
    "                                             explode = [0.05, 0.05])\n",
    "plt.show()"
   ],
   "metadata": {
    "collapsed": false,
    "pycharm": {
     "name": "#%%\n"
    }
   }
  },
  {
   "cell_type": "code",
   "execution_count": 14,
   "outputs": [
    {
     "name": "stdout",
     "output_type": "stream",
     "text": [
      "0.0    34762\n",
      "1.0    26740\n",
      "Name: loan_status, dtype: int64\n"
     ]
    },
    {
     "data": {
      "text/plain": "<Figure size 432x288 with 1 Axes>",
      "image/png": "[encoded data removed]"
     },
     "metadata": {},
     "output_type": "display_data"
    }
   ],
   "source": [
    "# Downsampling\n",
    "loan_status_0 = df_binary[df_binary[\"loan_status\"] == 0.0]\n",
    "loan_status_1  = df_binary[df_binary[\"loan_status\"] == 1.0]\n",
    "\n",
    "loan_status_0_downsample = resample(loan_status_0,\n",
    "             replace=True,\n",
    "             n_samples=round(1.3*len(loan_status_1)),\n",
    "             random_state=42)\n",
    "\n",
    "df_binary_downsampled = pd.concat([loan_status_0_downsample, loan_status_1])\n",
    "\n",
    "print(df_binary_downsampled[\"loan_status\"].value_counts())\n",
    "# Plot settings\n",
    "plt.title(\"Distribution of the target variable\", size=15)\n",
    "df_binary_downsampled.groupby('loan_status').size().plot(kind='pie', y = \"loan_status\",\n",
    "                                             label = \"Type\", autopct='%1.1f%%',\n",
    "                                             wedgeprops = {\"edgecolor\": \"black\", \"alpha\": 0.75},\n",
    "                                             explode = [0.03, 0.03])\n",
    "plt.show()"
   ],
   "metadata": {
    "collapsed": false,
    "pycharm": {
     "name": "#%%\n"
    }
   }
  },
  {
   "cell_type": "markdown",
   "source": [
    "## Data Imputation\n",
    "Since we still have some NaNs in our feature, we replace them by taking the median values."
   ],
   "metadata": {
    "collapsed": false,
    "pycharm": {
     "name": "#%% md\n"
    }
   }
  },
  {
   "cell_type": "code",
   "execution_count": 15,
   "outputs": [
    {
     "data": {
      "text/plain": "         loan_amnt  term   int_rate  installment  grade_0  grade_1  grade_2  \\\n1635118    16000.0  60.0  12.230000   256.040009      0.0      1.0      1.0   \n1016625    11000.0  36.0  11.470000   362.579987      1.0      0.0      0.0   \n1742848    15000.0  60.0  29.990000   485.209991      0.0      1.0      0.0   \n29576      24300.0  36.0  18.200001   880.950012      1.0      1.0      0.0   \n1120418    35000.0  36.0  14.310000  1201.500000      0.0      1.0      1.0   \n\n         sub_grade_0  sub_grade_1  sub_grade_2  ...  pub_rec  revol_bal  \\\n1635118          0.0          0.0          1.0  ...      0.0        0.0   \n1016625          0.0          0.0          1.0  ...      0.0    13256.0   \n1742848          0.0          0.0          0.0  ...      0.0    24913.0   \n29576            0.0          1.0          0.0  ...      0.0     8496.0   \n1120418          0.0          0.0          1.0  ...      1.0    44114.0   \n\n         revol_util  total_acc  initial_list_status_0  initial_list_status_1  \\\n1635118   69.980003        8.0                    0.0                    1.0   \n1016625   45.200001       14.0                    1.0                    0.0   \n1742848   64.699997       20.0                    0.0                    1.0   \n29576     63.400002       32.0                    1.0                    0.0   \n1120418   61.700001       36.0                    0.0                    1.0   \n\n         application_type_0  application_type_1  mort_acc  \\\n1635118                 0.0                 1.0       1.0   \n1016625                 0.0                 1.0       0.0   \n1742848                 0.0                 1.0       1.0   \n29576                   0.0                 1.0       5.0   \n1120418                 0.0                 1.0       4.0   \n\n         pub_rec_bankruptcies  \n1635118                   0.0  \n1016625                   0.0  \n1742848                   0.0  \n29576                     0.0  \n1120418                   0.0  \n\n[5 rows x 35 columns]",
      "text/html": "<div>\n<style scoped>\n    .dataframe tbody tr th:only-of-type {\n        vertical-align: middle;\n    }\n\n    .dataframe tbody tr th {\n        vertical-align: top;\n    }\n\n    .dataframe thead th {\n        text-align: right;\n    }\n</style>\n<table border=\"1\" class=\"dataframe\">\n  <thead>\n    <tr style=\"text-align: right;\">\n      <th></th>\n      <th>loan_amnt</th>\n      <th>term</th>\n      <th>int_rate</th>\n      <th>installment</th>\n      <th>grade_0</th>\n      <th>grade_1</th>\n      <th>grade_2</th>\n      <th>sub_grade_0</th>\n      <th>sub_grade_1</th>\n      <th>sub_grade_2</th>\n      <th>...</th>\n      <th>pub_rec</th>\n      <th>revol_bal</th>\n      <th>revol_util</th>\n      <th>total_acc</th>\n      <th>initial_list_status_0</th>\n      <th>initial_list_status_1</th>\n      <th>application_type_0</th>\n      <th>application_type_1</th>\n      <th>mort_acc</th>\n      <th>pub_rec_bankruptcies</th>\n    </tr>\n  </thead>\n  <tbody>\n    <tr>\n      <th>1635118</th>\n      <td>16000.0</td>\n      <td>60.0</td>\n      <td>12.230000</td>\n      <td>256.040009</td>\n      <td>0.0</td>\n      <td>1.0</td>\n      <td>1.0</td>\n      <td>0.0</td>\n      <td>0.0</td>\n      <td>1.0</td>\n      <td>...</td>\n      <td>0.0</td>\n      <td>0.0</td>\n      <td>69.980003</td>\n      <td>8.0</td>\n      <td>0.0</td>\n      <td>1.0</td>\n      <td>0.0</td>\n      <td>1.0</td>\n      <td>1.0</td>\n      <td>0.0</td>\n    </tr>\n    <tr>\n      <th>1016625</th>\n      <td>11000.0</td>\n      <td>36.0</td>\n      <td>11.470000</td>\n      <td>362.579987</td>\n      <td>1.0</td>\n      <td>0.0</td>\n      <td>0.0</td>\n      <td>0.0</td>\n      <td>0.0</td>\n      <td>1.0</td>\n      <td>...</td>\n      <td>0.0</td>\n      <td>13256.0</td>\n      <td>45.200001</td>\n      <td>14.0</td>\n      <td>1.0</td>\n      <td>0.0</td>\n      <td>0.0</td>\n      <td>1.0</td>\n      <td>0.0</td>\n      <td>0.0</td>\n    </tr>\n    <tr>\n      <th>1742848</th>\n      <td>15000.0</td>\n      <td>60.0</td>\n      <td>29.990000</td>\n      <td>485.209991</td>\n      <td>0.0</td>\n      <td>1.0</td>\n      <td>0.0</td>\n      <td>0.0</td>\n      <td>0.0</td>\n      <td>0.0</td>\n      <td>...</td>\n      <td>0.0</td>\n      <td>24913.0</td>\n      <td>64.699997</td>\n      <td>20.0</td>\n      <td>0.0</td>\n      <td>1.0</td>\n      <td>0.0</td>\n      <td>1.0</td>\n      <td>1.0</td>\n      <td>0.0</td>\n    </tr>\n    <tr>\n      <th>29576</th>\n      <td>24300.0</td>\n      <td>36.0</td>\n      <td>18.200001</td>\n      <td>880.950012</td>\n      <td>1.0</td>\n      <td>1.0</td>\n      <td>0.0</td>\n      <td>0.0</td>\n      <td>1.0</td>\n      <td>0.0</td>\n      <td>...</td>\n      <td>0.0</td>\n      <td>8496.0</td>\n      <td>63.400002</td>\n      <td>32.0</td>\n      <td>1.0</td>\n      <td>0.0</td>\n      <td>0.0</td>\n      <td>1.0</td>\n      <td>5.0</td>\n      <td>0.0</td>\n    </tr>\n    <tr>\n      <th>1120418</th>\n      <td>35000.0</td>\n      <td>36.0</td>\n      <td>14.310000</td>\n      <td>1201.500000</td>\n      <td>0.0</td>\n      <td>1.0</td>\n      <td>1.0</td>\n      <td>0.0</td>\n      <td>0.0</td>\n      <td>1.0</td>\n      <td>...</td>\n      <td>1.0</td>\n      <td>44114.0</td>\n      <td>61.700001</td>\n      <td>36.0</td>\n      <td>0.0</td>\n      <td>1.0</td>\n      <td>0.0</td>\n      <td>1.0</td>\n      <td>4.0</td>\n      <td>0.0</td>\n    </tr>\n  </tbody>\n</table>\n<p>5 rows × 35 columns</p>\n</div>"
     },
     "execution_count": 15,
     "metadata": {},
     "output_type": "execute_result"
    }
   ],
   "source": [
    "# Fill NaNs with Median\n",
    "df_binary_downsampled = df_binary_downsampled.fillna(df_binary_downsampled.median())\n",
    "# Preview\n",
    "df_binary_downsampled.head(5)"
   ],
   "metadata": {
    "collapsed": false,
    "pycharm": {
     "name": "#%%\n"
    }
   }
  },
  {
   "cell_type": "markdown",
   "source": [
    "## Data Split\n",
    "In this section we split the data into a training and test set. The corresponding model is then trained on the training set and tested on the test set."
   ],
   "metadata": {
    "collapsed": false,
    "pycharm": {
     "name": "#%% md\n"
    }
   }
  },
  {
   "cell_type": "code",
   "execution_count": 16,
   "outputs": [
    {
     "name": "stdout",
     "output_type": "stream",
     "text": [
      "Shape of X_train: (49201, 34)\n",
      "Shape of X_test: (12301, 34)\n",
      "Shape of y_train: (49201,)\n",
      "Shape of y_test: (12301,)\n"
     ]
    }
   ],
   "source": [
    "# Fraction of test data\n",
    "TEST_SIZE = 0.2\n",
    "\n",
    "X = df_binary_downsampled.drop(\"loan_status\", axis=1)\n",
    "y = df_binary_downsampled[\"loan_status\"]\n",
    "\n",
    "# Split data into train and test data\n",
    "X_train, X_test, y_train, y_test = train_test_split(X, y, test_size=TEST_SIZE, random_state=1997, stratify=y)\n",
    "\n",
    "print(f\"Shape of X_train: {X_train.shape}\")\n",
    "print(f\"Shape of X_test: {X_test.shape}\")\n",
    "print(f\"Shape of y_train: {y_train.shape}\")\n",
    "print(f\"Shape of y_test: {y_test.shape}\")"
   ],
   "metadata": {
    "collapsed": false,
    "pycharm": {
     "name": "#%%\n"
    }
   }
  },
  {
   "cell_type": "markdown",
   "source": [
    "## Scaling\n",
    "We scale the data with the MinMaxScaler to a range of $[0, 1]$"
   ],
   "metadata": {
    "collapsed": false,
    "pycharm": {
     "name": "#%% md\n"
    }
   }
  },
  {
   "cell_type": "code",
   "execution_count": 17,
   "outputs": [
    {
     "data": {
      "text/plain": "         0    1         2         3    4    5    6    7    8    9   ...  \\\n0  0.179487  0.0  0.289330  0.141273  0.0  1.0  1.0  0.0  0.0  1.0  ...   \n1  0.615385  1.0  0.553349  0.371039  1.0  1.0  0.0  0.0  1.0  1.0  ...   \n2  0.228205  0.0  0.363707  0.184564  0.0  1.0  1.0  0.0  1.0  0.0  ...   \n3  0.425641  0.0  0.279595  0.331280  1.0  0.0  0.0  0.0  0.0  1.0  ...   \n4  0.405128  0.0  0.239875  0.310543  1.0  0.0  0.0  0.0  0.0  1.0  ...   \n5  0.282051  1.0  0.553349  0.168682  1.0  1.0  0.0  0.0  1.0  1.0  ...   \n6  0.076923  0.0  0.341511  0.063114  0.0  1.0  1.0  0.0  0.0  0.0  ...   \n7  0.358974  0.0  0.182243  0.269104  1.0  0.0  0.0  0.0  0.0  0.0  ...   \n8  0.102564  0.0  0.240265  0.079714  1.0  0.0  0.0  0.0  0.0  1.0  ...   \n9  0.230769  0.0  0.338006  0.184700  0.0  1.0  1.0  0.0  0.0  1.0  ...   \n\n      24        25        26        27   28   29   30   31        32     33  \n0  0.000  0.011965  0.348148  0.111111  1.0  0.0  0.0  1.0  0.115385  0.000  \n1  0.000  0.021862  0.259259  0.299145  0.0  1.0  0.0  1.0  0.038462  0.000  \n2  0.000  0.005381  0.543827  0.153846  0.0  1.0  0.0  1.0  0.000000  0.000  \n3  0.025  0.005163  0.150000  0.128205  0.0  1.0  0.0  1.0  0.000000  0.125  \n4  0.025  0.020086  0.261728  0.256410  1.0  0.0  0.0  1.0  0.038462  0.125  \n5  0.000  0.007363  0.179012  0.247863  0.0  1.0  0.0  1.0  0.076923  0.000  \n6  0.025  0.001760  0.048765  0.153846  1.0  0.0  0.0  1.0  0.038462  0.125  \n7  0.000  0.016745  0.590123  0.205128  1.0  0.0  0.0  1.0  0.000000  0.000  \n8  0.000  0.003976  0.208642  0.162393  1.0  0.0  0.0  1.0  0.000000  0.000  \n9  0.050  0.022367  0.480864  0.094017  1.0  0.0  0.0  1.0  0.038462  0.000  \n\n[10 rows x 34 columns]",
      "text/html": "<div>\n<style scoped>\n    .dataframe tbody tr th:only-of-type {\n        vertical-align: middle;\n    }\n\n    .dataframe tbody tr th {\n        vertical-align: top;\n    }\n\n    .dataframe thead th {\n        text-align: right;\n    }\n</style>\n<table border=\"1\" class=\"dataframe\">\n  <thead>\n    <tr style=\"text-align: right;\">\n      <th></th>\n      <th>0</th>\n      <th>1</th>\n      <th>2</th>\n      <th>3</th>\n      <th>4</th>\n      <th>5</th>\n      <th>6</th>\n      <th>7</th>\n      <th>8</th>\n      <th>9</th>\n      <th>...</th>\n      <th>24</th>\n      <th>25</th>\n      <th>26</th>\n      <th>27</th>\n      <th>28</th>\n      <th>29</th>\n      <th>30</th>\n      <th>31</th>\n      <th>32</th>\n      <th>33</th>\n    </tr>\n  </thead>\n  <tbody>\n    <tr>\n      <th>0</th>\n      <td>0.179487</td>\n      <td>0.0</td>\n      <td>0.289330</td>\n      <td>0.141273</td>\n      <td>0.0</td>\n      <td>1.0</td>\n      <td>1.0</td>\n      <td>0.0</td>\n      <td>0.0</td>\n      <td>1.0</td>\n      <td>...</td>\n      <td>0.000</td>\n      <td>0.011965</td>\n      <td>0.348148</td>\n      <td>0.111111</td>\n      <td>1.0</td>\n      <td>0.0</td>\n      <td>0.0</td>\n      <td>1.0</td>\n      <td>0.115385</td>\n      <td>0.000</td>\n    </tr>\n    <tr>\n      <th>1</th>\n      <td>0.615385</td>\n      <td>1.0</td>\n      <td>0.553349</td>\n      <td>0.371039</td>\n      <td>1.0</td>\n      <td>1.0</td>\n      <td>0.0</td>\n      <td>0.0</td>\n      <td>1.0</td>\n      <td>1.0</td>\n      <td>...</td>\n      <td>0.000</td>\n      <td>0.021862</td>\n      <td>0.259259</td>\n      <td>0.299145</td>\n      <td>0.0</td>\n      <td>1.0</td>\n      <td>0.0</td>\n      <td>1.0</td>\n      <td>0.038462</td>\n      <td>0.000</td>\n    </tr>\n    <tr>\n      <th>2</th>\n      <td>0.228205</td>\n      <td>0.0</td>\n      <td>0.363707</td>\n      <td>0.184564</td>\n      <td>0.0</td>\n      <td>1.0</td>\n      <td>1.0</td>\n      <td>0.0</td>\n      <td>1.0</td>\n      <td>0.0</td>\n      <td>...</td>\n      <td>0.000</td>\n      <td>0.005381</td>\n      <td>0.543827</td>\n      <td>0.153846</td>\n      <td>0.0</td>\n      <td>1.0</td>\n      <td>0.0</td>\n      <td>1.0</td>\n      <td>0.000000</td>\n      <td>0.000</td>\n    </tr>\n    <tr>\n      <th>3</th>\n      <td>0.425641</td>\n      <td>0.0</td>\n      <td>0.279595</td>\n      <td>0.331280</td>\n      <td>1.0</td>\n      <td>0.0</td>\n      <td>0.0</td>\n      <td>0.0</td>\n      <td>0.0</td>\n      <td>1.0</td>\n      <td>...</td>\n      <td>0.025</td>\n      <td>0.005163</td>\n      <td>0.150000</td>\n      <td>0.128205</td>\n      <td>0.0</td>\n      <td>1.0</td>\n      <td>0.0</td>\n      <td>1.0</td>\n      <td>0.000000</td>\n      <td>0.125</td>\n    </tr>\n    <tr>\n      <th>4</th>\n      <td>0.405128</td>\n      <td>0.0</td>\n      <td>0.239875</td>\n      <td>0.310543</td>\n      <td>1.0</td>\n      <td>0.0</td>\n      <td>0.0</td>\n      <td>0.0</td>\n      <td>0.0</td>\n      <td>1.0</td>\n      <td>...</td>\n      <td>0.025</td>\n      <td>0.020086</td>\n      <td>0.261728</td>\n      <td>0.256410</td>\n      <td>1.0</td>\n      <td>0.0</td>\n      <td>0.0</td>\n      <td>1.0</td>\n      <td>0.038462</td>\n      <td>0.125</td>\n    </tr>\n    <tr>\n      <th>5</th>\n      <td>0.282051</td>\n      <td>1.0</td>\n      <td>0.553349</td>\n      <td>0.168682</td>\n      <td>1.0</td>\n      <td>1.0</td>\n      <td>0.0</td>\n      <td>0.0</td>\n      <td>1.0</td>\n      <td>1.0</td>\n      <td>...</td>\n      <td>0.000</td>\n      <td>0.007363</td>\n      <td>0.179012</td>\n      <td>0.247863</td>\n      <td>0.0</td>\n      <td>1.0</td>\n      <td>0.0</td>\n      <td>1.0</td>\n      <td>0.076923</td>\n      <td>0.000</td>\n    </tr>\n    <tr>\n      <th>6</th>\n      <td>0.076923</td>\n      <td>0.0</td>\n      <td>0.341511</td>\n      <td>0.063114</td>\n      <td>0.0</td>\n      <td>1.0</td>\n      <td>1.0</td>\n      <td>0.0</td>\n      <td>0.0</td>\n      <td>0.0</td>\n      <td>...</td>\n      <td>0.025</td>\n      <td>0.001760</td>\n      <td>0.048765</td>\n      <td>0.153846</td>\n      <td>1.0</td>\n      <td>0.0</td>\n      <td>0.0</td>\n      <td>1.0</td>\n      <td>0.038462</td>\n      <td>0.125</td>\n    </tr>\n    <tr>\n      <th>7</th>\n      <td>0.358974</td>\n      <td>0.0</td>\n      <td>0.182243</td>\n      <td>0.269104</td>\n      <td>1.0</td>\n      <td>0.0</td>\n      <td>0.0</td>\n      <td>0.0</td>\n      <td>0.0</td>\n      <td>0.0</td>\n      <td>...</td>\n      <td>0.000</td>\n      <td>0.016745</td>\n      <td>0.590123</td>\n      <td>0.205128</td>\n      <td>1.0</td>\n      <td>0.0</td>\n      <td>0.0</td>\n      <td>1.0</td>\n      <td>0.000000</td>\n      <td>0.000</td>\n    </tr>\n    <tr>\n      <th>8</th>\n      <td>0.102564</td>\n      <td>0.0</td>\n      <td>0.240265</td>\n      <td>0.079714</td>\n      <td>1.0</td>\n      <td>0.0</td>\n      <td>0.0</td>\n      <td>0.0</td>\n      <td>0.0</td>\n      <td>1.0</td>\n      <td>...</td>\n      <td>0.000</td>\n      <td>0.003976</td>\n      <td>0.208642</td>\n      <td>0.162393</td>\n      <td>1.0</td>\n      <td>0.0</td>\n      <td>0.0</td>\n      <td>1.0</td>\n      <td>0.000000</td>\n      <td>0.000</td>\n    </tr>\n    <tr>\n      <th>9</th>\n      <td>0.230769</td>\n      <td>0.0</td>\n      <td>0.338006</td>\n      <td>0.184700</td>\n      <td>0.0</td>\n      <td>1.0</td>\n      <td>1.0</td>\n      <td>0.0</td>\n      <td>0.0</td>\n      <td>1.0</td>\n      <td>...</td>\n      <td>0.050</td>\n      <td>0.022367</td>\n      <td>0.480864</td>\n      <td>0.094017</td>\n      <td>1.0</td>\n      <td>0.0</td>\n      <td>0.0</td>\n      <td>1.0</td>\n      <td>0.038462</td>\n      <td>0.000</td>\n    </tr>\n  </tbody>\n</table>\n<p>10 rows × 34 columns</p>\n</div>"
     },
     "execution_count": 17,
     "metadata": {},
     "output_type": "execute_result"
    }
   ],
   "source": [
    "# Init object\n",
    "scaler = MinMaxScaler()\n",
    "# Scale X_train\n",
    "X_train_scaled = scaler.fit_transform(X_train)\n",
    "X_train_scaled = pd.DataFrame(X_train_scaled)\n",
    "# Scale X_test\n",
    "X_test_scaled = scaler.transform(X_test)\n",
    "X_test_scaled = pd.DataFrame(X_test_scaled)\n",
    "\n",
    "# Preview X_train_scaled\n",
    "X_train_scaled.head(10)"
   ],
   "metadata": {
    "collapsed": false,
    "pycharm": {
     "name": "#%%\n"
    }
   }
  },
  {
   "cell_type": "markdown",
   "source": [
    "---\n",
    "# Task 3: Logistic Regression In Sample\n",
    "Use logistic regression (in-sample) for default prediction. Interpret your results for logistic regression"
   ],
   "metadata": {
    "collapsed": false,
    "pycharm": {
     "name": "#%% md\n"
    }
   }
  },
  {
   "cell_type": "code",
   "execution_count": 18,
   "outputs": [
    {
     "name": "stdout",
     "output_type": "stream",
     "text": [
      "Best params: {'C': 2, 'fit_intercept': False, 'max_iter': 1000, 'tol': 0.001} with a score of 0.6563\n"
     ]
    }
   ],
   "source": [
    "# Fit Model via GridSearch + Cross Validation\n",
    "param_grid = {\"tol\": [0.001, 0.0001],\n",
    "              'fit_intercept': [True, False],\n",
    "              'max_iter': [1000],\n",
    "              'C': [0.5, 1, 2]}\n",
    "# Apply GridSearch with above defined grid\n",
    "grid_cv = GridSearchCV(estimator = LogisticRegression(),\n",
    "                       param_grid=param_grid,\n",
    "                       n_jobs=-1,\n",
    "                       cv=5)\n",
    "# Fit Grid CV with Trainingsset\n",
    "grid_cv.fit(X_train_scaled, y_train)\n",
    "# Output best params\n",
    "print(f\"Best params: {grid_cv.best_params_} with a score of {grid_cv.best_score_:.4f}\")"
   ],
   "metadata": {
    "collapsed": false,
    "pycharm": {
     "name": "#%%\n"
    }
   }
  },
  {
   "cell_type": "code",
   "execution_count": 19,
   "outputs": [
    {
     "data": {
      "text/plain": "    mean_fit_time  std_fit_time  mean_score_time  std_score_time param_C  \\\n10       2.224789      0.324531         0.008294        0.001383       2   \n11       1.996671      0.230383         0.009556        0.004491       2   \n8        2.608772      0.312357         0.018759        0.009350       2   \n9        2.916648      0.276944         0.014305        0.004361       2   \n6        1.435365      0.139674         0.007952        0.001830       1   \n\n   param_fit_intercept param_max_iter param_tol  \\\n10               False           1000     0.001   \n11               False           1000    0.0001   \n8                 True           1000     0.001   \n9                 True           1000    0.0001   \n6                False           1000     0.001   \n\n                                               params  split0_test_score  \\\n10  {'C': 2, 'fit_intercept': False, 'max_iter': 1...           0.656031   \n11  {'C': 2, 'fit_intercept': False, 'max_iter': 1...           0.656031   \n8   {'C': 2, 'fit_intercept': True, 'max_iter': 10...           0.655828   \n9   {'C': 2, 'fit_intercept': True, 'max_iter': 10...           0.655828   \n6   {'C': 1, 'fit_intercept': False, 'max_iter': 1...           0.655320   \n\n    split1_test_score  split2_test_score  split3_test_score  \\\n10           0.662500           0.653252           0.658435   \n11           0.662500           0.653252           0.658435   \n8            0.662500           0.653252           0.658435   \n9            0.662500           0.653252           0.658435   \n6            0.662703           0.652439           0.656606   \n\n    split4_test_score  mean_test_score  std_test_score  rank_test_score  \n10           0.651524         0.656348        0.003877                1  \n11           0.651524         0.656348        0.003877                1  \n8            0.651016         0.656206        0.004010                3  \n9            0.651016         0.656206        0.004010                3  \n6            0.651423         0.655698        0.003973                5  ",
      "text/html": "<div>\n<style scoped>\n    .dataframe tbody tr th:only-of-type {\n        vertical-align: middle;\n    }\n\n    .dataframe tbody tr th {\n        vertical-align: top;\n    }\n\n    .dataframe thead th {\n        text-align: right;\n    }\n</style>\n<table border=\"1\" class=\"dataframe\">\n  <thead>\n    <tr style=\"text-align: right;\">\n      <th></th>\n      <th>mean_fit_time</th>\n      <th>std_fit_time</th>\n      <th>mean_score_time</th>\n      <th>std_score_time</th>\n      <th>param_C</th>\n      <th>param_fit_intercept</th>\n      <th>param_max_iter</th>\n      <th>param_tol</th>\n      <th>params</th>\n      <th>split0_test_score</th>\n      <th>split1_test_score</th>\n      <th>split2_test_score</th>\n      <th>split3_test_score</th>\n      <th>split4_test_score</th>\n      <th>mean_test_score</th>\n      <th>std_test_score</th>\n      <th>rank_test_score</th>\n    </tr>\n  </thead>\n  <tbody>\n    <tr>\n      <th>10</th>\n      <td>2.224789</td>\n      <td>0.324531</td>\n      <td>0.008294</td>\n      <td>0.001383</td>\n      <td>2</td>\n      <td>False</td>\n      <td>1000</td>\n      <td>0.001</td>\n      <td>{'C': 2, 'fit_intercept': False, 'max_iter': 1...</td>\n      <td>0.656031</td>\n      <td>0.662500</td>\n      <td>0.653252</td>\n      <td>0.658435</td>\n      <td>0.651524</td>\n      <td>0.656348</td>\n      <td>0.003877</td>\n      <td>1</td>\n    </tr>\n    <tr>\n      <th>11</th>\n      <td>1.996671</td>\n      <td>0.230383</td>\n      <td>0.009556</td>\n      <td>0.004491</td>\n      <td>2</td>\n      <td>False</td>\n      <td>1000</td>\n      <td>0.0001</td>\n      <td>{'C': 2, 'fit_intercept': False, 'max_iter': 1...</td>\n      <td>0.656031</td>\n      <td>0.662500</td>\n      <td>0.653252</td>\n      <td>0.658435</td>\n      <td>0.651524</td>\n      <td>0.656348</td>\n      <td>0.003877</td>\n      <td>1</td>\n    </tr>\n    <tr>\n      <th>8</th>\n      <td>2.608772</td>\n      <td>0.312357</td>\n      <td>0.018759</td>\n      <td>0.009350</td>\n      <td>2</td>\n      <td>True</td>\n      <td>1000</td>\n      <td>0.001</td>\n      <td>{'C': 2, 'fit_intercept': True, 'max_iter': 10...</td>\n      <td>0.655828</td>\n      <td>0.662500</td>\n      <td>0.653252</td>\n      <td>0.658435</td>\n      <td>0.651016</td>\n      <td>0.656206</td>\n      <td>0.004010</td>\n      <td>3</td>\n    </tr>\n    <tr>\n      <th>9</th>\n      <td>2.916648</td>\n      <td>0.276944</td>\n      <td>0.014305</td>\n      <td>0.004361</td>\n      <td>2</td>\n      <td>True</td>\n      <td>1000</td>\n      <td>0.0001</td>\n      <td>{'C': 2, 'fit_intercept': True, 'max_iter': 10...</td>\n      <td>0.655828</td>\n      <td>0.662500</td>\n      <td>0.653252</td>\n      <td>0.658435</td>\n      <td>0.651016</td>\n      <td>0.656206</td>\n      <td>0.004010</td>\n      <td>3</td>\n    </tr>\n    <tr>\n      <th>6</th>\n      <td>1.435365</td>\n      <td>0.139674</td>\n      <td>0.007952</td>\n      <td>0.001830</td>\n      <td>1</td>\n      <td>False</td>\n      <td>1000</td>\n      <td>0.001</td>\n      <td>{'C': 1, 'fit_intercept': False, 'max_iter': 1...</td>\n      <td>0.655320</td>\n      <td>0.662703</td>\n      <td>0.652439</td>\n      <td>0.656606</td>\n      <td>0.651423</td>\n      <td>0.655698</td>\n      <td>0.003973</td>\n      <td>5</td>\n    </tr>\n  </tbody>\n</table>\n</div>"
     },
     "execution_count": 19,
     "metadata": {},
     "output_type": "execute_result"
    }
   ],
   "source": [
    "cv_results = pd.DataFrame(grid_cv.cv_results_)\n",
    "cv_results = cv_results.sort_values(by=\"rank_test_score\", ascending=True)\n",
    "cv_results.head(5)"
   ],
   "metadata": {
    "collapsed": false,
    "pycharm": {
     "name": "#%%\n"
    }
   }
  },
  {
   "cell_type": "code",
   "execution_count": 20,
   "outputs": [
    {
     "data": {
      "text/plain": "<Figure size 432x288 with 2 Axes>",
      "image/png": "[encoded data removed]"
     },
     "metadata": {},
     "output_type": "display_data"
    },
    {
     "name": "stdout",
     "output_type": "stream",
     "text": [
      "              precision    recall  f1-score   support\n",
      "\n",
      "         0.0       0.67      0.77      0.72     27809\n",
      "         1.0       0.63      0.52      0.57     21392\n",
      "\n",
      "    accuracy                           0.66     49201\n",
      "   macro avg       0.65      0.64      0.64     49201\n",
      "weighted avg       0.65      0.66      0.65     49201\n",
      "\n"
     ]
    }
   ],
   "source": [
    "# Perform Logistic Regression on the best estimator selected by above Cross Validation\n",
    "y_pred = grid_cv.predict(X_train_scaled)\n",
    "\n",
    "# Plot Confusion matrix for in sample (y_train instead of y_test)\n",
    "cm = confusion_matrix(y_true=y_train, y_pred=y_pred)\n",
    "sns.heatmap(cm, annot=True, fmt='d')\n",
    "plt.title(\"Confusion matrix\")\n",
    "plt.xlabel(\"Predicted\")\n",
    "plt.ylabel(\"Actual\")\n",
    "plt.show()\n",
    "\n",
    "# Plot classification report\n",
    "print(classification_report(y_true=y_train, y_pred=y_pred))"
   ],
   "metadata": {
    "collapsed": false,
    "pycharm": {
     "name": "#%%\n"
    }
   }
  },
  {
   "cell_type": "markdown",
   "source": [
    "## Interpretation:\n",
    "TBD"
   ],
   "metadata": {
    "collapsed": false,
    "pycharm": {
     "name": "#%% md\n"
    }
   }
  },
  {
   "cell_type": "markdown",
   "source": [
    "---\n",
    "# Task 4: Compare different classification models\n",
    "Comparing\n",
    "* logistic regression,\n",
    "* classification tree,\n",
    "* random forest,\n",
    "* bagging,\n",
    "* support vector machine (with two kernel functions),\n",
    "* and neural network\n",
    "\n",
    "for default prediction based on the out-of-sample performance measures (at least three different measures)."
   ],
   "metadata": {
    "collapsed": false,
    "pycharm": {
     "name": "#%% md\n"
    }
   }
  },
  {
   "cell_type": "code",
   "execution_count": 21,
   "outputs": [
    {
     "data": {
      "text/plain": "  0%|          | 0/7 [00:00<?, ?it/s]",
      "application/vnd.jupyter.widget-view+json": {
       "version_major": 2,
       "version_minor": 0,
       "model_id": "3cc91010796f424f92281363d553276f"
      }
     },
     "metadata": {},
     "output_type": "display_data"
    },
    {
     "name": "stdout",
     "output_type": "stream",
     "text": [
      "CPU times: user 243 ms, sys: 108 ms, total: 351 ms\n",
      "Wall time: 53.9 s\n"
     ]
    }
   ],
   "source": [
    "%%time\n",
    "models = []\n",
    "\n",
    "models.append((\"LogisticRegression\",LogisticRegression(fit_intercept=True, max_iter=1000, solver=\"saga\")))\n",
    "models.append((\"DecisionTree\",DecisionTreeClassifier()))\n",
    "models.append((\"RandomForest\",RandomForestClassifier()))\n",
    "models.append((\"BaggingCLF\",BaggingClassifier()))\n",
    "models.append((\"SVC_rbf\",SVC(kernel='rbf', max_iter=500)))\n",
    "models.append((\"SVC_poly\",SVC(kernel=\"poly\", max_iter=500)))\n",
    "models.append((\"NeuronalNetwork\", MLPClassifier(alpha=1, max_iter=1000)))\n",
    "\n",
    "results = []\n",
    "names = []\n",
    "# Define scoring metrices for CV\n",
    "scoring = [\"accuracy\", \"precision_micro\", \"recall_micro\", \"f1_micro\"]\n",
    "for name, model in tqdm(models):\n",
    "    result = cross_validate(model, X_train_scaled, y_train,  cv=3, n_jobs=-1, scoring=scoring)\n",
    "    names.append(name)\n",
    "    results.append(result)"
   ],
   "metadata": {
    "collapsed": false,
    "pycharm": {
     "name": "#%%\n"
    }
   }
  },
  {
   "cell_type": "code",
   "execution_count": 22,
   "outputs": [
    {
     "data": {
      "text/plain": "                    fit_time  test_accuracy  test_precision_micro  \\\nRandomForest          8.6728         0.6741                0.6741   \nLogisticRegression    2.5790         0.6549                0.6549   \nNeuronalNetwork      14.0505         0.6483                0.6483   \nBaggingCLF            3.9864         0.6457                0.6457   \nDecisionTree          0.7263         0.6077                0.6077   \nSVC_rbf               3.0604         0.5557                0.5557   \nSVC_poly              2.7165         0.5110                0.5110   \n\n                    test_recall_micro  test_f1_micro  \nRandomForest                   0.6741         0.6741  \nLogisticRegression             0.6549         0.6549  \nNeuronalNetwork                0.6483         0.6483  \nBaggingCLF                     0.6457         0.6457  \nDecisionTree                   0.6077         0.6077  \nSVC_rbf                        0.5557         0.5557  \nSVC_poly                       0.5110         0.5110  ",
      "text/html": "<div>\n<style scoped>\n    .dataframe tbody tr th:only-of-type {\n        vertical-align: middle;\n    }\n\n    .dataframe tbody tr th {\n        vertical-align: top;\n    }\n\n    .dataframe thead th {\n        text-align: right;\n    }\n</style>\n<table border=\"1\" class=\"dataframe\">\n  <thead>\n    <tr style=\"text-align: right;\">\n      <th></th>\n      <th>fit_time</th>\n      <th>test_accuracy</th>\n      <th>test_precision_micro</th>\n      <th>test_recall_micro</th>\n      <th>test_f1_micro</th>\n    </tr>\n  </thead>\n  <tbody>\n    <tr>\n      <th>RandomForest</th>\n      <td>8.6728</td>\n      <td>0.6741</td>\n      <td>0.6741</td>\n      <td>0.6741</td>\n      <td>0.6741</td>\n    </tr>\n    <tr>\n      <th>LogisticRegression</th>\n      <td>2.5790</td>\n      <td>0.6549</td>\n      <td>0.6549</td>\n      <td>0.6549</td>\n      <td>0.6549</td>\n    </tr>\n    <tr>\n      <th>NeuronalNetwork</th>\n      <td>14.0505</td>\n      <td>0.6483</td>\n      <td>0.6483</td>\n      <td>0.6483</td>\n      <td>0.6483</td>\n    </tr>\n    <tr>\n      <th>BaggingCLF</th>\n      <td>3.9864</td>\n      <td>0.6457</td>\n      <td>0.6457</td>\n      <td>0.6457</td>\n      <td>0.6457</td>\n    </tr>\n    <tr>\n      <th>DecisionTree</th>\n      <td>0.7263</td>\n      <td>0.6077</td>\n      <td>0.6077</td>\n      <td>0.6077</td>\n      <td>0.6077</td>\n    </tr>\n    <tr>\n      <th>SVC_rbf</th>\n      <td>3.0604</td>\n      <td>0.5557</td>\n      <td>0.5557</td>\n      <td>0.5557</td>\n      <td>0.5557</td>\n    </tr>\n    <tr>\n      <th>SVC_poly</th>\n      <td>2.7165</td>\n      <td>0.5110</td>\n      <td>0.5110</td>\n      <td>0.5110</td>\n      <td>0.5110</td>\n    </tr>\n  </tbody>\n</table>\n</div>"
     },
     "execution_count": 22,
     "metadata": {},
     "output_type": "execute_result"
    }
   ],
   "source": [
    "# Get name of metrices (will be column in result_df)\n",
    "metrices = list(results[0].keys())\n",
    "# Create empty dataframe\n",
    "results_df = pd.DataFrame(index=names, columns=metrices, dtype=\"float32\")\n",
    "\n",
    "# File dataframe by iterating over all results and taking the mean value\n",
    "for i, name in enumerate(models):\n",
    "    mean_of_metrices = []\n",
    "    for key in results[i].keys():\n",
    "        mean_of_metrices.append(results[i].get(key).mean())\n",
    "    results_df.iloc[i] = mean_of_metrices\n",
    "\n",
    "# Drop scoring_time column as it is not of interest\n",
    "results_df.drop(\"score_time\", axis=1, inplace=True)\n",
    "# Round to 4 decimal places\n",
    "results_df = results_df.round(decimals=4)\n",
    "# Sort descending of f1 score\n",
    "results_df = results_df.sort_values(by=\"test_f1_micro\", ascending=False)\n",
    "# Preview\n",
    "results_df"
   ],
   "metadata": {
    "collapsed": false,
    "pycharm": {
     "name": "#%%\n"
    }
   }
  },
  {
   "cell_type": "markdown",
   "source": [
    "## Results:\n",
    "We can see that a RandomForest Model performs the best according to the f1 score, which is the harmonic mean between recall and precision. Also LogisticRegression, as a very good interpretable model, performs pretty well and is ranked 2nd. SVC, on the other hands, perform very poorly."
   ],
   "metadata": {
    "collapsed": false,
    "pycharm": {
     "name": "#%% md\n"
    }
   }
  },
  {
   "cell_type": "markdown",
   "source": [
    "---\n",
    "# Task 5: Use LASSO for feature selection and explain results"
   ],
   "metadata": {
    "collapsed": false,
    "pycharm": {
     "name": "#%% md\n"
    }
   }
  },
  {
   "cell_type": "code",
   "execution_count": 23,
   "outputs": [],
   "source": [
    "features = X_train.columns"
   ],
   "metadata": {
    "collapsed": false,
    "pycharm": {
     "name": "#%%\n"
    }
   }
  },
  {
   "cell_type": "markdown",
   "source": [
    "Do Hyperparameter Tuning for lasso. Especially in order to find the perfect lambda serving as a control fpr the relative impact of the regulization term for lasso nad also decides what features are selected. Since we ae using Lasso for feature selection, it is most likely to be sufficiently large in order to move some coefficients exactly towards zero."
   ],
   "metadata": {
    "collapsed": false,
    "pycharm": {
     "name": "#%% md\n"
    }
   }
  },
  {
   "cell_type": "code",
   "execution_count": 24,
   "outputs": [
    {
     "name": "stdout",
     "output_type": "stream",
     "text": [
      "Fitting 5 folds for each of 40 candidates, totalling 200 fits\n",
      "CPU times: user 30.3 s, sys: 6.2 s, total: 36.5 s\n",
      "Wall time: 13.6 s\n"
     ]
    },
    {
     "data": {
      "text/plain": "GridSearchCV(cv=5,\n             estimator=Pipeline(steps=[('scaler', StandardScaler()),\n                                       ('model', Lasso())]),\n             param_grid={'model__alpha': [0.0001, 0.001, 0.01, 0.02, 1],\n                         'model__fit_intercept': [True, False],\n                         'model__positive': [True, False],\n                         'model__selection': ['cyclic', 'random']},\n             scoring='neg_mean_squared_error', verbose=1)",
      "text/html": "<style>#sk-container-id-1 {color: black;background-color: white;}#sk-container-id-1 pre{padding: 0;}#sk-container-id-1 div.sk-toggleable {background-color: white;}#sk-container-id-1 label.sk-toggleable__label {cursor: pointer;display: block;width: 100%;margin-bottom: 0;padding: 0.3em;box-sizing: border-box;text-align: center;}#sk-container-id-1 label.sk-toggleable__label-arrow:before {content: \"▸\";float: left;margin-right: 0.25em;color: #696969;}#sk-container-id-1 label.sk-toggleable__label-arrow:hover:before {color: black;}#sk-container-id-1 div.sk-estimator:hover label.sk-toggleable__label-arrow:before {color: black;}#sk-container-id-1 div.sk-toggleable__content {max-height: 0;max-width: 0;overflow: hidden;text-align: left;background-color: #f0f8ff;}#sk-container-id-1 div.sk-toggleable__content pre {margin: 0.2em;color: black;border-radius: 0.25em;background-color: #f0f8ff;}#sk-container-id-1 input.sk-toggleable__control:checked~div.sk-toggleable__content {max-height: 200px;max-width: 100%;overflow: auto;}#sk-container-id-1 input.sk-toggleable__control:checked~label.sk-toggleable__label-arrow:before {content: \"▾\";}#sk-container-id-1 div.sk-estimator input.sk-toggleable__control:checked~label.sk-toggleable__label {background-color: #d4ebff;}#sk-container-id-1 div.sk-label input.sk-toggleable__control:checked~label.sk-toggleable__label {background-color: #d4ebff;}#sk-container-id-1 input.sk-hidden--visually {border: 0;clip: rect(1px 1px 1px 1px);clip: rect(1px, 1px, 1px, 1px);height: 1px;margin: -1px;overflow: hidden;padding: 0;position: absolute;width: 1px;}#sk-container-id-1 div.sk-estimator {font-family: monospace;background-color: #f0f8ff;border: 1px dotted black;border-radius: 0.25em;box-sizing: border-box;margin-bottom: 0.5em;}#sk-container-id-1 div.sk-estimator:hover {background-color: #d4ebff;}#sk-container-id-1 div.sk-parallel-item::after {content: \"\";width: 100%;border-bottom: 1px solid gray;flex-grow: 1;}#sk-container-id-1 div.sk-label:hover label.sk-toggleable__label {background-color: #d4ebff;}#sk-container-id-1 div.sk-serial::before {content: \"\";position: absolute;border-left: 1px solid gray;box-sizing: border-box;top: 0;bottom: 0;left: 50%;z-index: 0;}#sk-container-id-1 div.sk-serial {display: flex;flex-direction: column;align-items: center;background-color: white;padding-right: 0.2em;padding-left: 0.2em;position: relative;}#sk-container-id-1 div.sk-item {position: relative;z-index: 1;}#sk-container-id-1 div.sk-parallel {display: flex;align-items: stretch;justify-content: center;background-color: white;position: relative;}#sk-container-id-1 div.sk-item::before, #sk-container-id-1 div.sk-parallel-item::before {content: \"\";position: absolute;border-left: 1px solid gray;box-sizing: border-box;top: 0;bottom: 0;left: 50%;z-index: -1;}#sk-container-id-1 div.sk-parallel-item {display: flex;flex-direction: column;z-index: 1;position: relative;background-color: white;}#sk-container-id-1 div.sk-parallel-item:first-child::after {align-self: flex-end;width: 50%;}#sk-container-id-1 div.sk-parallel-item:last-child::after {align-self: flex-start;width: 50%;}#sk-container-id-1 div.sk-parallel-item:only-child::after {width: 0;}#sk-container-id-1 div.sk-dashed-wrapped {border: 1px dashed gray;margin: 0 0.4em 0.5em 0.4em;box-sizing: border-box;padding-bottom: 0.4em;background-color: white;}#sk-container-id-1 div.sk-label label {font-family: monospace;font-weight: bold;display: inline-block;line-height: 1.2em;}#sk-container-id-1 div.sk-label-container {text-align: center;}#sk-container-id-1 div.sk-container {/* jupyter's `normalize.less` sets `[hidden] { display: none; }` but bootstrap.min.css set `[hidden] { display: none !important; }` so we also need the `!important` here to be able to override the default hidden behavior on the sphinx rendered scikit-learn.org. See: https://github.com/scikit-learn/scikit-learn/issues/21755 */display: inline-block !important;position: relative;}#sk-container-id-1 div.sk-text-repr-fallback {display: none;}</style><div id=\"sk-container-id-1\" class=\"sk-top-container\"><div class=\"sk-text-repr-fallback\"><pre>GridSearchCV(cv=5,\n             estimator=Pipeline(steps=[(&#x27;scaler&#x27;, StandardScaler()),\n                                       (&#x27;model&#x27;, Lasso())]),\n             param_grid={&#x27;model__alpha&#x27;: [0.0001, 0.001, 0.01, 0.02, 1],\n                         &#x27;model__fit_intercept&#x27;: [True, False],\n                         &#x27;model__positive&#x27;: [True, False],\n                         &#x27;model__selection&#x27;: [&#x27;cyclic&#x27;, &#x27;random&#x27;]},\n             scoring=&#x27;neg_mean_squared_error&#x27;, verbose=1)</pre><b>In a Jupyter environment, please rerun this cell to show the HTML representation or trust the notebook. <br />On GitHub, the HTML representation is unable to render, please try loading this page with nbviewer.org.</b></div><div class=\"sk-container\" hidden><div class=\"sk-item sk-dashed-wrapped\"><div class=\"sk-label-container\"><div class=\"sk-label sk-toggleable\"><input class=\"sk-toggleable__control sk-hidden--visually\" id=\"sk-estimator-id-1\" type=\"checkbox\" ><label for=\"sk-estimator-id-1\" class=\"sk-toggleable__label sk-toggleable__label-arrow\">GridSearchCV</label><div class=\"sk-toggleable__content\"><pre>GridSearchCV(cv=5,\n             estimator=Pipeline(steps=[(&#x27;scaler&#x27;, StandardScaler()),\n                                       (&#x27;model&#x27;, Lasso())]),\n             param_grid={&#x27;model__alpha&#x27;: [0.0001, 0.001, 0.01, 0.02, 1],\n                         &#x27;model__fit_intercept&#x27;: [True, False],\n                         &#x27;model__positive&#x27;: [True, False],\n                         &#x27;model__selection&#x27;: [&#x27;cyclic&#x27;, &#x27;random&#x27;]},\n             scoring=&#x27;neg_mean_squared_error&#x27;, verbose=1)</pre></div></div></div><div class=\"sk-parallel\"><div class=\"sk-parallel-item\"><div class=\"sk-item\"><div class=\"sk-label-container\"><div class=\"sk-label sk-toggleable\"><input class=\"sk-toggleable__control sk-hidden--visually\" id=\"sk-estimator-id-2\" type=\"checkbox\" ><label for=\"sk-estimator-id-2\" class=\"sk-toggleable__label sk-toggleable__label-arrow\">estimator: Pipeline</label><div class=\"sk-toggleable__content\"><pre>Pipeline(steps=[(&#x27;scaler&#x27;, StandardScaler()), (&#x27;model&#x27;, Lasso())])</pre></div></div></div><div class=\"sk-serial\"><div class=\"sk-item\"><div class=\"sk-serial\"><div class=\"sk-item\"><div class=\"sk-estimator sk-toggleable\"><input class=\"sk-toggleable__control sk-hidden--visually\" id=\"sk-estimator-id-3\" type=\"checkbox\" ><label for=\"sk-estimator-id-3\" class=\"sk-toggleable__label sk-toggleable__label-arrow\">StandardScaler</label><div class=\"sk-toggleable__content\"><pre>StandardScaler()</pre></div></div></div><div class=\"sk-item\"><div class=\"sk-estimator sk-toggleable\"><input class=\"sk-toggleable__control sk-hidden--visually\" id=\"sk-estimator-id-4\" type=\"checkbox\" ><label for=\"sk-estimator-id-4\" class=\"sk-toggleable__label sk-toggleable__label-arrow\">Lasso</label><div class=\"sk-toggleable__content\"><pre>Lasso()</pre></div></div></div></div></div></div></div></div></div></div></div></div>"
     },
     "execution_count": 24,
     "metadata": {},
     "output_type": "execute_result"
    }
   ],
   "source": [
    "%%time\n",
    "# define model\n",
    "pipeline = Pipeline([\n",
    "                     ('scaler',StandardScaler()),\n",
    "                     ('model',Lasso())\n",
    "])\n",
    "# define parameters\n",
    "param_grid = param = {\n",
    "    'model__alpha':[0.0001, 0.001, 0.01, 0.02, 1],\n",
    "    'model__fit_intercept':[True,False],\n",
    "    'model__positive':[True,False],\n",
    "    'model__selection':['cyclic','random'],\n",
    "    }\n",
    "\n",
    "# define search\n",
    "search = GridSearchCV(pipeline,\n",
    "                      param_grid,\n",
    "                      cv = 5, scoring=\"neg_mean_squared_error\",verbose=1\n",
    "                      )\n",
    "# execute search\n",
    "search.fit(X_train,y_train)"
   ],
   "metadata": {
    "collapsed": false,
    "pycharm": {
     "name": "#%%\n"
    }
   }
  },
  {
   "cell_type": "code",
   "execution_count": 25,
   "outputs": [
    {
     "name": "stdout",
     "output_type": "stream",
     "text": [
      "Best Score: -0.21441506147384642\n",
      "Best Hyperparameters: {'model__alpha': 0.0001, 'model__fit_intercept': True, 'model__positive': False, 'model__selection': 'cyclic'}\n"
     ]
    }
   ],
   "source": [
    "# summarize result\n",
    "print(f\"Best Score: {search.best_score_}\")\n",
    "print(f\"Best Hyperparameters: {search.best_params_}\")"
   ],
   "metadata": {
    "collapsed": false,
    "pycharm": {
     "name": "#%%\n"
    }
   }
  },
  {
   "cell_type": "markdown",
   "source": [
    "Having found the best estimator we now can take a look which features we keep and which we discard."
   ],
   "metadata": {
    "collapsed": false,
    "pycharm": {
     "name": "#%% md\n"
    }
   }
  },
  {
   "cell_type": "code",
   "execution_count": 26,
   "outputs": [],
   "source": [
    "# values of the coefficients\n",
    "coefficients = search.best_estimator_.named_steps['model'].coef_\n",
    "# importance of a feature = absolute value of its coefficient\n",
    "importance = np.abs(coefficients)\n",
    "assert(len(features) == len(importance))\n",
    "# selected features\n",
    "selected_features = np.array(features)[importance > 0]\n",
    "# discarded features\n",
    "discarded_features = np.array(features)[importance == 0]"
   ],
   "metadata": {
    "collapsed": false,
    "pycharm": {
     "name": "#%%\n"
    }
   }
  },
  {
   "cell_type": "markdown",
   "source": [
    "## Results:"
   ],
   "metadata": {
    "collapsed": false,
    "pycharm": {
     "name": "#%% md\n"
    }
   }
  },
  {
   "cell_type": "markdown",
   "source": [
    "**Feature Selection**\n",
    "\n",
    "Trough selecting aplpha = 0.0001, the features importance is reduced, where the feature importance itself being the absolute value of its coefficient. Therefore a discarded features importance is denoted by zero value given in the below table and on the other hand those we will keep are denoted by higher value as zero.\n",
    "\n"
   ],
   "metadata": {
    "collapsed": false,
    "pycharm": {
     "name": "#%% md\n"
    }
   }
  },
  {
   "cell_type": "code",
   "execution_count": 27,
   "outputs": [
    {
     "name": "stdout",
     "output_type": "stream",
     "text": [
      "Importances: \n",
      " [0.00000000e+00 5.50610833e-02 9.04931352e-02 1.53780486e-02\n",
      " 3.50828469e-02 3.15617844e-02 2.26531979e-02 4.75029787e-03\n",
      " 7.33584340e-04 2.35584378e-03 2.94741616e-03 1.24790019e-03\n",
      " 6.14269171e-03 5.29037090e-03 1.54030730e-03 2.69922819e-02\n",
      " 8.96738935e-03 1.75075606e-02 1.08126365e-02 1.26393875e-02\n",
      " 2.00162902e-02 2.97435746e-02 1.58205439e-05 2.69856807e-02\n",
      " 4.45487257e-03 5.71339531e-03 1.96449040e-03 1.36759588e-02\n",
      " 1.25614936e-02 0.00000000e+00 1.02375785e-03 0.00000000e+00\n",
      " 2.09220070e-02 4.16284567e-03] \n",
      "------------------------------------------------------------\n",
      "Selected Features: ['term' 'int_rate' 'installment' 'grade_0' 'grade_1' 'grade_2'\n",
      " 'sub_grade_0' 'sub_grade_1' 'sub_grade_2' 'sub_grade_3' 'sub_grade_4'\n",
      " 'sub_grade_5' 'emp_length' 'home_ownership_0' 'home_ownership_1'\n",
      " 'home_ownership_2' 'annual_inc' 'verification_status_0'\n",
      " 'verification_status_1' 'dti' 'fico_range_low' 'fico_range_high'\n",
      " 'open_acc' 'pub_rec' 'revol_bal' 'revol_util' 'total_acc'\n",
      " 'initial_list_status_0' 'application_type_0' 'mort_acc'\n",
      " 'pub_rec_bankruptcies'] \n",
      "------------------------------------------------------------\n",
      "Discarded Features: ['loan_amnt' 'initial_list_status_1' 'application_type_1'] \n",
      "------------------------------------------------------------\n"
     ]
    }
   ],
   "source": [
    "print(f\"Importances: \\n {importance} \\n\" + \"-\" * 60)\n",
    "print(f\"Selected Features: {selected_features} \\n\" + \"-\" * 60)\n",
    "print(f\"Discarded Features: {discarded_features} \\n\" + \"-\" * 60)"
   ],
   "metadata": {
    "collapsed": false,
    "pycharm": {
     "name": "#%%\n"
    }
   }
  },
  {
   "cell_type": "markdown",
   "source": [
    "**Performance**"
   ],
   "metadata": {
    "collapsed": false,
    "pycharm": {
     "name": "#%% md\n"
    }
   }
  },
  {
   "cell_type": "code",
   "execution_count": 28,
   "outputs": [
    {
     "name": "stdout",
     "output_type": "stream",
     "text": [
      "R2 score:  0.11750109205267445 \n",
      "------------------------------------------------------------\n"
     ]
    },
    {
     "data": {
      "text/plain": "<seaborn.axisgrid.FacetGrid at 0x7f9bcb546730>"
     },
     "execution_count": 28,
     "metadata": {},
     "output_type": "execute_result"
    },
    {
     "data": {
      "text/plain": "<Figure size 360x360 with 1 Axes>",
      "image/png": "[encoded data removed]"
     },
     "metadata": {},
     "output_type": "display_data"
    }
   ],
   "source": [
    "# predictions\n",
    "y_pred = search.predict(X_test)\n",
    "# visualizing the results\n",
    "print(\"R2 score: \" , r2_score(y_test,y_pred), \"\\n\" + \"-\" * 60)\n",
    "sns.displot(y_test-y_pred).set(title=\"difference of y_true & y_pred\")"
   ],
   "metadata": {
    "collapsed": false,
    "pycharm": {
     "name": "#%%\n"
    }
   }
  },
  {
   "cell_type": "markdown",
   "source": [
    "**How does the penalty parameter alpha (lambda in theoretical formula) impact features in our Lasso Regression?**"
   ],
   "metadata": {
    "collapsed": false,
    "pycharm": {
     "name": "#%% md\n"
    }
   }
  },
  {
   "cell_type": "code",
   "execution_count": 29,
   "outputs": [],
   "source": [
    "# Create a function called lasso,\n",
    "def lasso(alphas):\n",
    "\n",
    "    # Create an empty data frame\n",
    "    df = pd.DataFrame()\n",
    "\n",
    "    # Create a column of feature names\n",
    "    df['Feature Name'] = features\n",
    "\n",
    "    # For each alpha value in the list of alpha values,\n",
    "    for alpha in alphas:\n",
    "    # Create a lasso regression with that alpha value,\n",
    "        lasso = Lasso(alpha=alpha)\n",
    "\n",
    "        # Fit the lasso regression\n",
    "        lasso.fit(X_train_scaled, y_train)\n",
    "\n",
    "        # Create a column name for that alpha value\n",
    "        column_name = 'Alpha = %f' % alpha\n",
    "\n",
    "        # Create a column of absolute coefficient values\n",
    "        df[column_name] = np.abs(lasso.coef_)\n",
    "\n",
    "    # Return the dataframe\n",
    "    return df"
   ],
   "metadata": {
    "collapsed": false,
    "pycharm": {
     "name": "#%%\n"
    }
   }
  },
  {
   "cell_type": "code",
   "execution_count": 30,
   "outputs": [
    {
     "data": {
      "text/plain": "             Feature Name  Alpha = 0.000100  Alpha = 0.001000  \\\n0               loan_amnt      5.027721e-04      4.846051e-03   \n1                    term      1.192110e-01      1.124306e-01   \n2                int_rate      4.780044e-01      4.908491e-01   \n3             installment      6.462453e-02      0.000000e+00   \n4                 grade_0      7.261458e-02      6.641476e-02   \n5                 grade_1      6.646273e-02      6.717812e-02   \n6                 grade_2      4.693990e-02      3.769867e-02   \n7             sub_grade_0      3.394617e-02      0.000000e+00   \n8             sub_grade_1      1.776514e-03      0.000000e+00   \n9             sub_grade_2      5.049745e-03      2.268222e-03   \n10            sub_grade_3      4.938534e-03      0.000000e+00   \n11            sub_grade_4      2.776234e-03      1.052751e-03   \n12            sub_grade_5      1.174245e-02      7.579040e-03   \n13             emp_length      1.489482e-02      1.216340e-02   \n14       home_ownership_0      0.000000e+00      0.000000e+00   \n15       home_ownership_1      5.642642e-02      6.350719e-02   \n16       home_ownership_2      2.981954e-02      2.520478e-02   \n17             annual_inc      7.420565e-01      0.000000e+00   \n18  verification_status_0      2.097880e-02      1.527399e-02   \n19  verification_status_1      2.762326e-02      2.357637e-02   \n20                    dti      1.001281e+00      0.000000e+00   \n21         fico_range_low      1.808413e-01      1.532675e-01   \n22        fico_range_high      0.000000e+00      0.000000e+00   \n23               open_acc      2.351594e-01      9.963355e-02   \n24                pub_rec      0.000000e+00      0.000000e+00   \n25              revol_bal      8.582828e-02      0.000000e+00   \n26             revol_util      1.417828e-02      0.000000e+00   \n27              total_acc      1.051629e-01      0.000000e+00   \n28  initial_list_status_0      2.576478e-02      2.371441e-02   \n29  initial_list_status_1      2.992402e-07      2.395838e-08   \n30     application_type_0      1.799752e-03      0.000000e+00   \n31     application_type_1      0.000000e+00      0.000000e+00   \n32               mort_acc      2.961202e-01      1.522229e-01   \n33   pub_rec_bankruptcies      1.062397e-01      0.000000e+00   \n\n    Alpha = 0.010000  Alpha = 1.000000  \n0           0.000000               0.0  \n1           0.101268               0.0  \n2           0.353906               0.0  \n3           0.000000               0.0  \n4           0.025957               0.0  \n5           0.058764               0.0  \n6           0.000000               0.0  \n7           0.000000               0.0  \n8           0.000000               0.0  \n9           0.000000               0.0  \n10          0.000000               0.0  \n11          0.000000               0.0  \n12          0.000000               0.0  \n13          0.000000               0.0  \n14          0.000000               0.0  \n15          0.039691               0.0  \n16          0.000000               0.0  \n17          0.000000               0.0  \n18          0.000000               0.0  \n19          0.000000               0.0  \n20          0.000000               0.0  \n21          0.000000               0.0  \n22          0.000000               0.0  \n23          0.000000               0.0  \n24          0.000000               0.0  \n25          0.000000               0.0  \n26          0.000000               0.0  \n27          0.000000               0.0  \n28          0.000000               0.0  \n29          0.000000               0.0  \n30          0.000000               0.0  \n31          0.000000               0.0  \n32          0.000000               0.0  \n33          0.000000               0.0  ",
      "text/html": "<div>\n<style scoped>\n    .dataframe tbody tr th:only-of-type {\n        vertical-align: middle;\n    }\n\n    .dataframe tbody tr th {\n        vertical-align: top;\n    }\n\n    .dataframe thead th {\n        text-align: right;\n    }\n</style>\n<table border=\"1\" class=\"dataframe\">\n  <thead>\n    <tr style=\"text-align: right;\">\n      <th></th>\n      <th>Feature Name</th>\n      <th>Alpha = 0.000100</th>\n      <th>Alpha = 0.001000</th>\n      <th>Alpha = 0.010000</th>\n      <th>Alpha = 1.000000</th>\n    </tr>\n  </thead>\n  <tbody>\n    <tr>\n      <th>0</th>\n      <td>loan_amnt</td>\n      <td>5.027721e-04</td>\n      <td>4.846051e-03</td>\n      <td>0.000000</td>\n      <td>0.0</td>\n    </tr>\n    <tr>\n      <th>1</th>\n      <td>term</td>\n      <td>1.192110e-01</td>\n      <td>1.124306e-01</td>\n      <td>0.101268</td>\n      <td>0.0</td>\n    </tr>\n    <tr>\n      <th>2</th>\n      <td>int_rate</td>\n      <td>4.780044e-01</td>\n      <td>4.908491e-01</td>\n      <td>0.353906</td>\n      <td>0.0</td>\n    </tr>\n    <tr>\n      <th>3</th>\n      <td>installment</td>\n      <td>6.462453e-02</td>\n      <td>0.000000e+00</td>\n      <td>0.000000</td>\n      <td>0.0</td>\n    </tr>\n    <tr>\n      <th>4</th>\n      <td>grade_0</td>\n      <td>7.261458e-02</td>\n      <td>6.641476e-02</td>\n      <td>0.025957</td>\n      <td>0.0</td>\n    </tr>\n    <tr>\n      <th>5</th>\n      <td>grade_1</td>\n      <td>6.646273e-02</td>\n      <td>6.717812e-02</td>\n      <td>0.058764</td>\n      <td>0.0</td>\n    </tr>\n    <tr>\n      <th>6</th>\n      <td>grade_2</td>\n      <td>4.693990e-02</td>\n      <td>3.769867e-02</td>\n      <td>0.000000</td>\n      <td>0.0</td>\n    </tr>\n    <tr>\n      <th>7</th>\n      <td>sub_grade_0</td>\n      <td>3.394617e-02</td>\n      <td>0.000000e+00</td>\n      <td>0.000000</td>\n      <td>0.0</td>\n    </tr>\n    <tr>\n      <th>8</th>\n      <td>sub_grade_1</td>\n      <td>1.776514e-03</td>\n      <td>0.000000e+00</td>\n      <td>0.000000</td>\n      <td>0.0</td>\n    </tr>\n    <tr>\n      <th>9</th>\n      <td>sub_grade_2</td>\n      <td>5.049745e-03</td>\n      <td>2.268222e-03</td>\n      <td>0.000000</td>\n      <td>0.0</td>\n    </tr>\n    <tr>\n      <th>10</th>\n      <td>sub_grade_3</td>\n      <td>4.938534e-03</td>\n      <td>0.000000e+00</td>\n      <td>0.000000</td>\n      <td>0.0</td>\n    </tr>\n    <tr>\n      <th>11</th>\n      <td>sub_grade_4</td>\n      <td>2.776234e-03</td>\n      <td>1.052751e-03</td>\n      <td>0.000000</td>\n      <td>0.0</td>\n    </tr>\n    <tr>\n      <th>12</th>\n      <td>sub_grade_5</td>\n      <td>1.174245e-02</td>\n      <td>7.579040e-03</td>\n      <td>0.000000</td>\n      <td>0.0</td>\n    </tr>\n    <tr>\n      <th>13</th>\n      <td>emp_length</td>\n      <td>1.489482e-02</td>\n      <td>1.216340e-02</td>\n      <td>0.000000</td>\n      <td>0.0</td>\n    </tr>\n    <tr>\n      <th>14</th>\n      <td>home_ownership_0</td>\n      <td>0.000000e+00</td>\n      <td>0.000000e+00</td>\n      <td>0.000000</td>\n      <td>0.0</td>\n    </tr>\n    <tr>\n      <th>15</th>\n      <td>home_ownership_1</td>\n      <td>5.642642e-02</td>\n      <td>6.350719e-02</td>\n      <td>0.039691</td>\n      <td>0.0</td>\n    </tr>\n    <tr>\n      <th>16</th>\n      <td>home_ownership_2</td>\n      <td>2.981954e-02</td>\n      <td>2.520478e-02</td>\n      <td>0.000000</td>\n      <td>0.0</td>\n    </tr>\n    <tr>\n      <th>17</th>\n      <td>annual_inc</td>\n      <td>7.420565e-01</td>\n      <td>0.000000e+00</td>\n      <td>0.000000</td>\n      <td>0.0</td>\n    </tr>\n    <tr>\n      <th>18</th>\n      <td>verification_status_0</td>\n      <td>2.097880e-02</td>\n      <td>1.527399e-02</td>\n      <td>0.000000</td>\n      <td>0.0</td>\n    </tr>\n    <tr>\n      <th>19</th>\n      <td>verification_status_1</td>\n      <td>2.762326e-02</td>\n      <td>2.357637e-02</td>\n      <td>0.000000</td>\n      <td>0.0</td>\n    </tr>\n    <tr>\n      <th>20</th>\n      <td>dti</td>\n      <td>1.001281e+00</td>\n      <td>0.000000e+00</td>\n      <td>0.000000</td>\n      <td>0.0</td>\n    </tr>\n    <tr>\n      <th>21</th>\n      <td>fico_range_low</td>\n      <td>1.808413e-01</td>\n      <td>1.532675e-01</td>\n      <td>0.000000</td>\n      <td>0.0</td>\n    </tr>\n    <tr>\n      <th>22</th>\n      <td>fico_range_high</td>\n      <td>0.000000e+00</td>\n      <td>0.000000e+00</td>\n      <td>0.000000</td>\n      <td>0.0</td>\n    </tr>\n    <tr>\n      <th>23</th>\n      <td>open_acc</td>\n      <td>2.351594e-01</td>\n      <td>9.963355e-02</td>\n      <td>0.000000</td>\n      <td>0.0</td>\n    </tr>\n    <tr>\n      <th>24</th>\n      <td>pub_rec</td>\n      <td>0.000000e+00</td>\n      <td>0.000000e+00</td>\n      <td>0.000000</td>\n      <td>0.0</td>\n    </tr>\n    <tr>\n      <th>25</th>\n      <td>revol_bal</td>\n      <td>8.582828e-02</td>\n      <td>0.000000e+00</td>\n      <td>0.000000</td>\n      <td>0.0</td>\n    </tr>\n    <tr>\n      <th>26</th>\n      <td>revol_util</td>\n      <td>1.417828e-02</td>\n      <td>0.000000e+00</td>\n      <td>0.000000</td>\n      <td>0.0</td>\n    </tr>\n    <tr>\n      <th>27</th>\n      <td>total_acc</td>\n      <td>1.051629e-01</td>\n      <td>0.000000e+00</td>\n      <td>0.000000</td>\n      <td>0.0</td>\n    </tr>\n    <tr>\n      <th>28</th>\n      <td>initial_list_status_0</td>\n      <td>2.576478e-02</td>\n      <td>2.371441e-02</td>\n      <td>0.000000</td>\n      <td>0.0</td>\n    </tr>\n    <tr>\n      <th>29</th>\n      <td>initial_list_status_1</td>\n      <td>2.992402e-07</td>\n      <td>2.395838e-08</td>\n      <td>0.000000</td>\n      <td>0.0</td>\n    </tr>\n    <tr>\n      <th>30</th>\n      <td>application_type_0</td>\n      <td>1.799752e-03</td>\n      <td>0.000000e+00</td>\n      <td>0.000000</td>\n      <td>0.0</td>\n    </tr>\n    <tr>\n      <th>31</th>\n      <td>application_type_1</td>\n      <td>0.000000e+00</td>\n      <td>0.000000e+00</td>\n      <td>0.000000</td>\n      <td>0.0</td>\n    </tr>\n    <tr>\n      <th>32</th>\n      <td>mort_acc</td>\n      <td>2.961202e-01</td>\n      <td>1.522229e-01</td>\n      <td>0.000000</td>\n      <td>0.0</td>\n    </tr>\n    <tr>\n      <th>33</th>\n      <td>pub_rec_bankruptcies</td>\n      <td>1.062397e-01</td>\n      <td>0.000000e+00</td>\n      <td>0.000000</td>\n      <td>0.0</td>\n    </tr>\n  </tbody>\n</table>\n</div>"
     },
     "execution_count": 30,
     "metadata": {},
     "output_type": "execute_result"
    }
   ],
   "source": [
    "lasso([.0001, 0.001, .01, 1])"
   ],
   "metadata": {
    "collapsed": false,
    "pycharm": {
     "name": "#%%\n"
    }
   }
  },
  {
   "cell_type": "markdown",
   "source": [
    "**Impact of ```alpha```:**\n",
    "Take a look at the impact of lambda on feature selection on X_train(scaled), y_train in the dataframe above. The dataframe compares the absolute coefficients value depending on used alpha. It shows, that in this use case a relative small lambda has a huge impact on the variable selection, so that when for example ````alpha```` = 1, every feature is discarded!\n",
    "\n",
    "Also it is clear, that as alpha increase features importance is reduced. This is denoted by zero value given in above tables."
   ],
   "metadata": {
    "collapsed": false,
    "pycharm": {
     "name": "#%% md\n"
    }
   }
  },
  {
   "cell_type": "markdown",
   "source": [
    "---\n",
    "# Task 6: Which model do you suggest to the peer-to-peer company? Why?\n",
    "We rate each model based on the following four criterias learned on the lecture:\n",
    "- Interpretability\n",
    "- Robustness\n",
    "- Speed\n",
    "- Scalability\n",
    "TODO"
   ],
   "metadata": {
    "collapsed": false,
    "pycharm": {
     "name": "#%% md\n"
    }
   }
  }
 ],
 "metadata": {
  "kernelspec": {
   "name": "python3",
   "language": "python",
   "display_name": "Python 3 (ipykernel)"
  },
  "language_info": {
   "codemirror_mode": {
    "name": "ipython",
    "version": 2
   },
   "file_extension": ".py",
   "mimetype": "text/x-python",
   "name": "python",
   "nbconvert_exporter": "python",
   "pygments_lexer": "ipython2",
   "version": "2.7.6"
  }
 },
 "nbformat": 4,
 "nbformat_minor": 0
}