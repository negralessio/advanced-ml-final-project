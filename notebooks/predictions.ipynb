{
 "cells": [
  {
   "cell_type": "code",
   "execution_count": 1,
   "metadata": {
    "collapsed": false,
    "pycharm": {
     "name": "#%%\n"
    }
   },
   "outputs": [],
   "source": [
    "import pandas as pd\n",
    "import numpy as np\n",
    "import matplotlib.pyplot as plt\n",
    "import seaborn as sns\n",
    "import sklearn.metrics\n",
    "from sklearn.utils import resample\n",
    "# For modeling\n",
    "from sklearn.linear_model import LogisticRegression\n",
    "from sklearn.ensemble import RandomForestClassifier, BaggingClassifier\n",
    "from sklearn.tree import DecisionTreeClassifier\n",
    "from sklearn.neural_network import MLPClassifier\n",
    "from sklearn.metrics import confusion_matrix, classification_report, precision_recall_fscore_support, accuracy_score\n",
    "from sklearn.model_selection import cross_val_score, train_test_split, cross_validate\n",
    "from sklearn.preprocessing import StandardScaler, MinMaxScaler\n",
    "from sklearn.svm import SVC\n",
    "from sklearn.pipeline import Pipeline\n",
    "from tqdm.notebook import tqdm\n",
    "from matplotlib.colors import ListedColormap\n",
    "#sns.set_palette('viridis')\n",
    "pd.options.mode.chained_assignment = None  # Supress warning, default='warn'"
   ]
  },
  {
   "cell_type": "markdown",
   "metadata": {
    "collapsed": false,
    "pycharm": {
     "name": "#%% md\n"
    }
   },
   "source": [
    "# Read Data\n",
    "In this section we read the data (pickle file) after the preprocessing from the preprocessing notebook/part"
   ]
  },
  {
   "cell_type": "code",
   "execution_count": 2,
   "metadata": {
    "collapsed": false,
    "pycharm": {
     "name": "#%%\n"
    }
   },
   "outputs": [
    {
     "name": "stdout",
     "output_type": "stream",
     "text": [
      "Shape of df: (1345310, 101)\n"
     ]
    },
    {
     "data": {
      "text/plain": "   loan_amnt  funded_amnt  funded_amnt_inv term  int_rate  installment grade  \\\n0     3600.0       3600.0           3600.0   36     13.99       123.03     C   \n1    24700.0      24700.0          24700.0   36     11.99       820.28     C   \n2    20000.0      20000.0          20000.0   60     10.78       432.66     B   \n4    10400.0      10400.0          10400.0   60     22.45       289.91     F   \n5    11950.0      11950.0          11950.0   36     13.44       405.18     C   \n\n  sub_grade  emp_length home_ownership  ...  percent_bc_gt_75  \\\n0        C4        10.0       MORTGAGE  ...               0.0   \n1        C1        10.0       MORTGAGE  ...               7.7   \n2        B4        10.0       MORTGAGE  ...              50.0   \n4        F1         3.0       MORTGAGE  ...              60.0   \n5        C3         4.0           RENT  ...             100.0   \n\n  pub_rec_bankruptcies  tax_liens tot_hi_cred_lim total_bal_ex_mort  \\\n0                  0.0        0.0        178050.0            7746.0   \n1                  0.0        0.0        314017.0           39475.0   \n2                  0.0        0.0        218418.0           18696.0   \n4                  0.0        0.0        439570.0           95768.0   \n5                  0.0        0.0         16900.0           12798.0   \n\n  total_bc_limit  total_il_high_credit_limit  hardship_flag  \\\n0         2400.0                     13734.0              N   \n1        79300.0                     24667.0              N   \n2         6200.0                     14877.0              N   \n4        20300.0                     88097.0              N   \n5         9400.0                      4000.0              N   \n\n   disbursement_method  debt_settlement_flag  \n0                 Cash                     N  \n1                 Cash                     N  \n2                 Cash                     N  \n4                 Cash                     N  \n5                 Cash                     N  \n\n[5 rows x 101 columns]",
      "text/html": "<div>\n<style scoped>\n    .dataframe tbody tr th:only-of-type {\n        vertical-align: middle;\n    }\n\n    .dataframe tbody tr th {\n        vertical-align: top;\n    }\n\n    .dataframe thead th {\n        text-align: right;\n    }\n</style>\n<table border=\"1\" class=\"dataframe\">\n  <thead>\n    <tr style=\"text-align: right;\">\n      <th></th>\n      <th>loan_amnt</th>\n      <th>funded_amnt</th>\n      <th>funded_amnt_inv</th>\n      <th>term</th>\n      <th>int_rate</th>\n      <th>installment</th>\n      <th>grade</th>\n      <th>sub_grade</th>\n      <th>emp_length</th>\n      <th>home_ownership</th>\n      <th>...</th>\n      <th>percent_bc_gt_75</th>\n      <th>pub_rec_bankruptcies</th>\n      <th>tax_liens</th>\n      <th>tot_hi_cred_lim</th>\n      <th>total_bal_ex_mort</th>\n      <th>total_bc_limit</th>\n      <th>total_il_high_credit_limit</th>\n      <th>hardship_flag</th>\n      <th>disbursement_method</th>\n      <th>debt_settlement_flag</th>\n    </tr>\n  </thead>\n  <tbody>\n    <tr>\n      <th>0</th>\n      <td>3600.0</td>\n      <td>3600.0</td>\n      <td>3600.0</td>\n      <td>36</td>\n      <td>13.99</td>\n      <td>123.03</td>\n      <td>C</td>\n      <td>C4</td>\n      <td>10.0</td>\n      <td>MORTGAGE</td>\n      <td>...</td>\n      <td>0.0</td>\n      <td>0.0</td>\n      <td>0.0</td>\n      <td>178050.0</td>\n      <td>7746.0</td>\n      <td>2400.0</td>\n      <td>13734.0</td>\n      <td>N</td>\n      <td>Cash</td>\n      <td>N</td>\n    </tr>\n    <tr>\n      <th>1</th>\n      <td>24700.0</td>\n      <td>24700.0</td>\n      <td>24700.0</td>\n      <td>36</td>\n      <td>11.99</td>\n      <td>820.28</td>\n      <td>C</td>\n      <td>C1</td>\n      <td>10.0</td>\n      <td>MORTGAGE</td>\n      <td>...</td>\n      <td>7.7</td>\n      <td>0.0</td>\n      <td>0.0</td>\n      <td>314017.0</td>\n      <td>39475.0</td>\n      <td>79300.0</td>\n      <td>24667.0</td>\n      <td>N</td>\n      <td>Cash</td>\n      <td>N</td>\n    </tr>\n    <tr>\n      <th>2</th>\n      <td>20000.0</td>\n      <td>20000.0</td>\n      <td>20000.0</td>\n      <td>60</td>\n      <td>10.78</td>\n      <td>432.66</td>\n      <td>B</td>\n      <td>B4</td>\n      <td>10.0</td>\n      <td>MORTGAGE</td>\n      <td>...</td>\n      <td>50.0</td>\n      <td>0.0</td>\n      <td>0.0</td>\n      <td>218418.0</td>\n      <td>18696.0</td>\n      <td>6200.0</td>\n      <td>14877.0</td>\n      <td>N</td>\n      <td>Cash</td>\n      <td>N</td>\n    </tr>\n    <tr>\n      <th>4</th>\n      <td>10400.0</td>\n      <td>10400.0</td>\n      <td>10400.0</td>\n      <td>60</td>\n      <td>22.45</td>\n      <td>289.91</td>\n      <td>F</td>\n      <td>F1</td>\n      <td>3.0</td>\n      <td>MORTGAGE</td>\n      <td>...</td>\n      <td>60.0</td>\n      <td>0.0</td>\n      <td>0.0</td>\n      <td>439570.0</td>\n      <td>95768.0</td>\n      <td>20300.0</td>\n      <td>88097.0</td>\n      <td>N</td>\n      <td>Cash</td>\n      <td>N</td>\n    </tr>\n    <tr>\n      <th>5</th>\n      <td>11950.0</td>\n      <td>11950.0</td>\n      <td>11950.0</td>\n      <td>36</td>\n      <td>13.44</td>\n      <td>405.18</td>\n      <td>C</td>\n      <td>C3</td>\n      <td>4.0</td>\n      <td>RENT</td>\n      <td>...</td>\n      <td>100.0</td>\n      <td>0.0</td>\n      <td>0.0</td>\n      <td>16900.0</td>\n      <td>12798.0</td>\n      <td>9400.0</td>\n      <td>4000.0</td>\n      <td>N</td>\n      <td>Cash</td>\n      <td>N</td>\n    </tr>\n  </tbody>\n</table>\n<p>5 rows × 101 columns</p>\n</div>"
     },
     "execution_count": 2,
     "metadata": {},
     "output_type": "execute_result"
    }
   ],
   "source": [
    "df = pd.read_pickle('../data/preprocessed/accepted_df_preprocessed.pkl')\n",
    "print(f\"Shape of df: {df.shape}\")\n",
    "df.head(5)"
   ]
  },
  {
   "cell_type": "markdown",
   "source": [
    "# TAKE SUBSAMPLE OF DATA FOR COMPUTATION ISSUES (TODO: DELETE THIS LATER)"
   ],
   "metadata": {
    "collapsed": false,
    "pycharm": {
     "name": "#%% md\n"
    }
   }
  },
  {
   "cell_type": "code",
   "execution_count": 3,
   "outputs": [],
   "source": [
    "df = df.sample(frac = 0.1)\n",
    "print(df.shape)"
   ],
   "metadata": {
    "collapsed": false,
    "pycharm": {
     "name": "#%%\n"
    }
   }
  },
  {
   "cell_type": "markdown",
   "source": [
    "# Model Preprocessing: Encode Features from categorical to numerical\n",
    "In this section we prepare our data set for modeling through fixing the inbalancement of our data, encoding categorical data, dropping features that are only apriori the application known etc..."
   ],
   "metadata": {
    "collapsed": false,
    "pycharm": {
     "name": "#%% md\n"
    }
   }
  },
  {
   "cell_type": "markdown",
   "source": [
    "## Drop columns for prediction\n",
    "In this small section we drop features that we do not have prior the lending application. We consulted the data dictionary table (seen [here](https://docs.google.com/spreadsheets/d/13YQDRQYYbr84wy7zQ91yfC8QoEBFPFP0zR5pIDf18rA/edit#gid=629438262)) and analyzed which columns to keep and which to drop. Note that this requires a lot of domain knowledge."
   ],
   "metadata": {
    "collapsed": false,
    "pycharm": {
     "name": "#%% md\n"
    }
   }
  },
  {
   "cell_type": "code",
   "execution_count": 4,
   "outputs": [
    {
     "name": "stdout",
     "output_type": "stream",
     "text": [
      "Cols to drop: ['funded_amnt', 'funded_amnt_inv', 'pymnt_plan', 'delinq_2yrs', 'inq_last_6mths', 'mths_since_last_delinq', 'out_prncp', 'out_prncp_inv', 'total_pymnt', 'total_pymnt_inv', 'total_rec_prncp', 'total_rec_int', 'total_rec_late_fee', 'recoveries', 'collection_recovery_fee', 'last_pymnt_amnt', 'last_fico_range_high', 'last_fico_range_low', 'collections_12_mths_ex_med', 'mths_since_last_major_derog', 'policy_code', 'acc_now_delinq', 'tot_coll_amt', 'tot_cur_bal', 'open_acc_6m', 'open_act_il', 'open_il_12m', 'open_il_24m', 'mths_since_rcnt_il', 'total_bal_il', 'il_util', 'open_rv_12m', 'open_rv_24m', 'max_bal_bc', 'all_util', 'total_rev_hi_lim', 'inq_fi', 'total_cu_tl', 'inq_last_12m', 'acc_open_past_24mths', 'avg_cur_bal', 'bc_open_to_buy', 'bc_util', 'chargeoff_within_12_mths', 'delinq_amnt', 'mo_sin_old_il_acct', 'mo_sin_old_rev_tl_op', 'mo_sin_rcnt_rev_tl_op', 'mo_sin_rcnt_tl', 'mths_since_recent_bc', 'mths_since_recent_inq', 'mths_since_recent_revol_delinq', 'num_accts_ever_120_pd', 'num_actv_bc_tl', 'num_actv_rev_tl', 'num_bc_sats', 'num_bc_tl', 'num_il_tl', 'num_op_rev_tl', 'num_rev_accts', 'num_rev_tl_bal_gt_0', 'num_sats', 'num_tl_120dpd_2m', 'num_tl_30dpd', 'num_tl_90g_dpd_24m', 'num_tl_op_past_12m', 'pct_tl_nvr_dlq', 'percent_bc_gt_75', 'tax_liens', 'tot_hi_cred_lim', 'total_bal_ex_mort', 'total_bc_limit', 'total_il_high_credit_limit', 'hardship_flag', 'disbursement_method', 'debt_settlement_flag']\n",
      "Shape of df after drop: (1345310, 25)\n"
     ]
    }
   ],
   "source": [
    "keep_list = ['addr_state', 'annual_inc', 'application_type', 'dti', 'earliest_cr_line', 'emp_length', 'emp_title', 'fico_range_high', 'fico_range_low', 'grade', 'home_ownership', 'id', 'initial_list_status', 'installment', 'int_rate', 'issue_d', 'loan_amnt', 'loan_status', 'mort_acc', 'open_acc', 'pub_rec', 'pub_rec_bankruptcies', 'purpose', 'revol_bal', 'revol_util', 'sub_grade', 'term', 'title', 'total_acc', 'verification_status', 'zip_code']\n",
    "\n",
    "cols_to_drop = [col for col in df.columns if col not in keep_list]\n",
    "print(f\"Cols to drop: {cols_to_drop}\")\n",
    "df.drop(cols_to_drop, axis=1, inplace=True)\n",
    "print(f\"Shape of df after drop: {df.shape}\")"
   ],
   "metadata": {
    "collapsed": false,
    "pycharm": {
     "name": "#%%\n"
    }
   }
  },
  {
   "cell_type": "code",
   "execution_count": 5,
   "outputs": [
    {
     "name": "stdout",
     "output_type": "stream",
     "text": [
      "float64    15\n",
      "object      9\n",
      "int32       1\n",
      "dtype: int64\n",
      "['term', 'grade', 'sub_grade', 'home_ownership', 'verification_status', 'purpose', 'addr_state', 'initial_list_status', 'application_type']\n"
     ]
    }
   ],
   "source": [
    "# Preview categorical data\n",
    "print(df.dtypes.value_counts())\n",
    "# Get categorical columns names\n",
    "cat_columns = df.select_dtypes(include=['object']).columns.tolist()\n",
    "# Preview\n",
    "print(cat_columns)"
   ],
   "metadata": {
    "collapsed": false,
    "pycharm": {
     "name": "#%%\n"
    }
   }
  },
  {
   "cell_type": "markdown",
   "source": [
    "### Deleted irrelevant categorical features\n",
    "Delete categorical features that are not relevant for the Modelling or contain too many realization so that encoding them would be infeasible."
   ],
   "metadata": {
    "collapsed": false,
    "pycharm": {
     "name": "#%% md\n"
    }
   }
  },
  {
   "cell_type": "code",
   "execution_count": 6,
   "outputs": [
    {
     "name": "stdout",
     "output_type": "stream",
     "text": [
      "Categorical Columns to drop: ['sub_grade', 'addr_state']\n",
      "\n",
      "Shape of df before columns drop: (1345310, 25)\n",
      "Shape of df after columns drop: (1345310, 23)\n"
     ]
    }
   ],
   "source": [
    "# Define categorical columns from cat_columns to keep here\n",
    "CAT_COLS_TO_KEEP = [\"term\", \"home_ownership\", \"grade\", \"verification_status\", \"application_type\", \"initial_list_status\", \"purpose\"]\n",
    "CAT_COLS_TO_DROP = [col for col in cat_columns if col not in CAT_COLS_TO_KEEP]\n",
    "\n",
    "print(f\"Categorical Columns to drop: {CAT_COLS_TO_DROP}\\n\")\n",
    "print(f\"Shape of df before columns drop: {df.shape}\")\n",
    "# Drop irrelevant categorical features\n",
    "df.drop(CAT_COLS_TO_DROP, axis=1, inplace=True)\n",
    "print(f\"Shape of df after columns drop: {df.shape}\")"
   ],
   "metadata": {
    "collapsed": false,
    "pycharm": {
     "name": "#%%\n"
    }
   }
  },
  {
   "cell_type": "markdown",
   "source": [
    "## Preview of the remaining categorical features"
   ],
   "metadata": {
    "collapsed": false,
    "pycharm": {
     "name": "#%% md\n"
    }
   }
  },
  {
   "cell_type": "code",
   "execution_count": 7,
   "outputs": [
    {
     "name": "stdout",
     "output_type": "stream",
     "text": [
      "float64    15\n",
      "object      7\n",
      "int32       1\n",
      "dtype: int64\n"
     ]
    },
    {
     "data": {
      "text/plain": "        term grade home_ownership verification_status             purpose  \\\n0         36     C       MORTGAGE        Not Verified  debt_consolidation   \n1         36     C       MORTGAGE        Not Verified      small_business   \n2         60     B       MORTGAGE        Not Verified    home_improvement   \n4         60     F       MORTGAGE     Source Verified      major_purchase   \n5         36     C           RENT     Source Verified  debt_consolidation   \n...      ...   ...            ...                 ...                 ...   \n2260688   60     B            OWN        Not Verified    home_improvement   \n2260690   60     C       MORTGAGE        Not Verified  debt_consolidation   \n2260691   60     C       MORTGAGE     Source Verified    home_improvement   \n2260692   60     C           RENT        Not Verified             medical   \n2260697   60     C           RENT        Not Verified  debt_consolidation   \n\n        initial_list_status application_type  \n0                         w       Individual  \n1                         w       Individual  \n2                         w        Joint App  \n4                         w       Individual  \n5                         w       Individual  \n...                     ...              ...  \n2260688                   f       Individual  \n2260690                   f       Individual  \n2260691                   f       Individual  \n2260692                   f       Individual  \n2260697                   f       Individual  \n\n[1345310 rows x 7 columns]",
      "text/html": "<div>\n<style scoped>\n    .dataframe tbody tr th:only-of-type {\n        vertical-align: middle;\n    }\n\n    .dataframe tbody tr th {\n        vertical-align: top;\n    }\n\n    .dataframe thead th {\n        text-align: right;\n    }\n</style>\n<table border=\"1\" class=\"dataframe\">\n  <thead>\n    <tr style=\"text-align: right;\">\n      <th></th>\n      <th>term</th>\n      <th>grade</th>\n      <th>home_ownership</th>\n      <th>verification_status</th>\n      <th>purpose</th>\n      <th>initial_list_status</th>\n      <th>application_type</th>\n    </tr>\n  </thead>\n  <tbody>\n    <tr>\n      <th>0</th>\n      <td>36</td>\n      <td>C</td>\n      <td>MORTGAGE</td>\n      <td>Not Verified</td>\n      <td>debt_consolidation</td>\n      <td>w</td>\n      <td>Individual</td>\n    </tr>\n    <tr>\n      <th>1</th>\n      <td>36</td>\n      <td>C</td>\n      <td>MORTGAGE</td>\n      <td>Not Verified</td>\n      <td>small_business</td>\n      <td>w</td>\n      <td>Individual</td>\n    </tr>\n    <tr>\n      <th>2</th>\n      <td>60</td>\n      <td>B</td>\n      <td>MORTGAGE</td>\n      <td>Not Verified</td>\n      <td>home_improvement</td>\n      <td>w</td>\n      <td>Joint App</td>\n    </tr>\n    <tr>\n      <th>4</th>\n      <td>60</td>\n      <td>F</td>\n      <td>MORTGAGE</td>\n      <td>Source Verified</td>\n      <td>major_purchase</td>\n      <td>w</td>\n      <td>Individual</td>\n    </tr>\n    <tr>\n      <th>5</th>\n      <td>36</td>\n      <td>C</td>\n      <td>RENT</td>\n      <td>Source Verified</td>\n      <td>debt_consolidation</td>\n      <td>w</td>\n      <td>Individual</td>\n    </tr>\n    <tr>\n      <th>...</th>\n      <td>...</td>\n      <td>...</td>\n      <td>...</td>\n      <td>...</td>\n      <td>...</td>\n      <td>...</td>\n      <td>...</td>\n    </tr>\n    <tr>\n      <th>2260688</th>\n      <td>60</td>\n      <td>B</td>\n      <td>OWN</td>\n      <td>Not Verified</td>\n      <td>home_improvement</td>\n      <td>f</td>\n      <td>Individual</td>\n    </tr>\n    <tr>\n      <th>2260690</th>\n      <td>60</td>\n      <td>C</td>\n      <td>MORTGAGE</td>\n      <td>Not Verified</td>\n      <td>debt_consolidation</td>\n      <td>f</td>\n      <td>Individual</td>\n    </tr>\n    <tr>\n      <th>2260691</th>\n      <td>60</td>\n      <td>C</td>\n      <td>MORTGAGE</td>\n      <td>Source Verified</td>\n      <td>home_improvement</td>\n      <td>f</td>\n      <td>Individual</td>\n    </tr>\n    <tr>\n      <th>2260692</th>\n      <td>60</td>\n      <td>C</td>\n      <td>RENT</td>\n      <td>Not Verified</td>\n      <td>medical</td>\n      <td>f</td>\n      <td>Individual</td>\n    </tr>\n    <tr>\n      <th>2260697</th>\n      <td>60</td>\n      <td>C</td>\n      <td>RENT</td>\n      <td>Not Verified</td>\n      <td>debt_consolidation</td>\n      <td>f</td>\n      <td>Individual</td>\n    </tr>\n  </tbody>\n</table>\n<p>1345310 rows × 7 columns</p>\n</div>"
     },
     "execution_count": 7,
     "metadata": {},
     "output_type": "execute_result"
    }
   ],
   "source": [
    "print(df.dtypes.value_counts())\n",
    "df.select_dtypes(\"object\")"
   ],
   "metadata": {
    "collapsed": false,
    "pycharm": {
     "name": "#%%\n"
    }
   }
  },
  {
   "cell_type": "markdown",
   "source": [
    "## Create Dummy Variables"
   ],
   "metadata": {
    "collapsed": false,
    "pycharm": {
     "name": "#%% md\n"
    }
   }
  },
  {
   "cell_type": "code",
   "execution_count": 8,
   "outputs": [
    {
     "data": {
      "text/plain": "int64      18\nfloat64    15\nint32       1\ndtype: int64"
     },
     "execution_count": 8,
     "metadata": {},
     "output_type": "execute_result"
    }
   ],
   "source": [
    "# Binary Encoding\n",
    "import category_encoders as ce\n",
    "encoder = ce.BinaryEncoder(cols=CAT_COLS_TO_KEEP)\n",
    "df_binary = encoder.fit_transform(df)\n",
    "# check\n",
    "df_binary.dtypes.value_counts()"
   ],
   "metadata": {
    "collapsed": false,
    "pycharm": {
     "name": "#%%\n"
    }
   }
  },
  {
   "cell_type": "code",
   "execution_count": 9,
   "outputs": [
    {
     "data": {
      "text/plain": "float32    34\ndtype: int64"
     },
     "execution_count": 9,
     "metadata": {},
     "output_type": "execute_result"
    }
   ],
   "source": [
    "# Convert all values to float\n",
    "df_binary = df_binary.astype(np.float32)\n",
    "df_binary.dtypes.value_counts()"
   ],
   "metadata": {
    "collapsed": false,
    "pycharm": {
     "name": "#%%\n"
    }
   }
  },
  {
   "cell_type": "markdown",
   "source": [
    "## Preview preprocessed dataframe"
   ],
   "metadata": {
    "collapsed": false,
    "pycharm": {
     "name": "#%% md\n"
    }
   }
  },
  {
   "cell_type": "code",
   "execution_count": 10,
   "outputs": [
    {
     "data": {
      "text/plain": "    loan_amnt  term_0  term_1   int_rate  installment  grade_0  grade_1  \\\n0      3600.0     0.0     1.0  13.990000   123.029999      0.0      0.0   \n1     24700.0     0.0     1.0  11.990000   820.280029      0.0      0.0   \n2     20000.0     1.0     0.0  10.780000   432.660004      0.0      1.0   \n4     10400.0     1.0     0.0  22.450001   289.910004      0.0      1.0   \n5     11950.0     0.0     1.0  13.440000   405.179993      0.0      0.0   \n6     20000.0     0.0     1.0   9.170000   637.580017      0.0      1.0   \n7     20000.0     0.0     1.0   8.490000   631.260010      0.0      1.0   \n8     10000.0     0.0     1.0   6.490000   306.450012      1.0      0.0   \n9      8000.0     0.0     1.0  11.480000   263.739990      0.0      1.0   \n12     1400.0     0.0     1.0  12.880000    47.099998      0.0      0.0   \n\n    grade_2  emp_length  home_ownership_0  ...  pub_rec  revol_bal  \\\n0       1.0        10.0               0.0  ...      0.0     2765.0   \n1       1.0        10.0               0.0  ...      0.0    21470.0   \n2       0.0        10.0               0.0  ...      0.0     7869.0   \n4       1.0         3.0               0.0  ...      0.0    21929.0   \n5       1.0         4.0               0.0  ...      0.0     8822.0   \n6       0.0        10.0               0.0  ...      0.0    87329.0   \n7       0.0        10.0               0.0  ...      0.0      826.0   \n8       0.0         6.0               0.0  ...      1.0    10464.0   \n9       0.0        10.0               0.0  ...      0.0     7034.0   \n12      1.0         3.0               0.0  ...      0.0    37828.0   \n\n    revol_util  total_acc  initial_list_status_0  initial_list_status_1  \\\n0    29.700001       13.0                    0.0                    1.0   \n1    19.200001       38.0                    0.0                    1.0   \n2    56.200001       18.0                    0.0                    1.0   \n4    64.500000       35.0                    0.0                    1.0   \n5    68.400002        6.0                    0.0                    1.0   \n6    84.500000       27.0                    1.0                    0.0   \n7     5.700000       15.0                    0.0                    1.0   \n8    34.500000       23.0                    0.0                    1.0   \n9    39.099998       18.0                    0.0                    1.0   \n12   67.199997       24.0                    0.0                    1.0   \n\n    application_type_0  application_type_1  mort_acc  pub_rec_bankruptcies  \n0                  0.0                 1.0       1.0                   0.0  \n1                  0.0                 1.0       4.0                   0.0  \n2                  1.0                 0.0       5.0                   0.0  \n4                  0.0                 1.0       6.0                   0.0  \n5                  0.0                 1.0       0.0                   0.0  \n6                  0.0                 1.0       4.0                   0.0  \n7                  0.0                 1.0       3.0                   0.0  \n8                  0.0                 1.0       1.0                   1.0  \n9                  0.0                 1.0       1.0                   0.0  \n12                 0.0                 1.0       4.0                   0.0  \n\n[10 rows x 34 columns]",
      "text/html": "<div>\n<style scoped>\n    .dataframe tbody tr th:only-of-type {\n        vertical-align: middle;\n    }\n\n    .dataframe tbody tr th {\n        vertical-align: top;\n    }\n\n    .dataframe thead th {\n        text-align: right;\n    }\n</style>\n<table border=\"1\" class=\"dataframe\">\n  <thead>\n    <tr style=\"text-align: right;\">\n      <th></th>\n      <th>loan_amnt</th>\n      <th>term_0</th>\n      <th>term_1</th>\n      <th>int_rate</th>\n      <th>installment</th>\n      <th>grade_0</th>\n      <th>grade_1</th>\n      <th>grade_2</th>\n      <th>emp_length</th>\n      <th>home_ownership_0</th>\n      <th>...</th>\n      <th>pub_rec</th>\n      <th>revol_bal</th>\n      <th>revol_util</th>\n      <th>total_acc</th>\n      <th>initial_list_status_0</th>\n      <th>initial_list_status_1</th>\n      <th>application_type_0</th>\n      <th>application_type_1</th>\n      <th>mort_acc</th>\n      <th>pub_rec_bankruptcies</th>\n    </tr>\n  </thead>\n  <tbody>\n    <tr>\n      <th>0</th>\n      <td>3600.0</td>\n      <td>0.0</td>\n      <td>1.0</td>\n      <td>13.990000</td>\n      <td>123.029999</td>\n      <td>0.0</td>\n      <td>0.0</td>\n      <td>1.0</td>\n      <td>10.0</td>\n      <td>0.0</td>\n      <td>...</td>\n      <td>0.0</td>\n      <td>2765.0</td>\n      <td>29.700001</td>\n      <td>13.0</td>\n      <td>0.0</td>\n      <td>1.0</td>\n      <td>0.0</td>\n      <td>1.0</td>\n      <td>1.0</td>\n      <td>0.0</td>\n    </tr>\n    <tr>\n      <th>1</th>\n      <td>24700.0</td>\n      <td>0.0</td>\n      <td>1.0</td>\n      <td>11.990000</td>\n      <td>820.280029</td>\n      <td>0.0</td>\n      <td>0.0</td>\n      <td>1.0</td>\n      <td>10.0</td>\n      <td>0.0</td>\n      <td>...</td>\n      <td>0.0</td>\n      <td>21470.0</td>\n      <td>19.200001</td>\n      <td>38.0</td>\n      <td>0.0</td>\n      <td>1.0</td>\n      <td>0.0</td>\n      <td>1.0</td>\n      <td>4.0</td>\n      <td>0.0</td>\n    </tr>\n    <tr>\n      <th>2</th>\n      <td>20000.0</td>\n      <td>1.0</td>\n      <td>0.0</td>\n      <td>10.780000</td>\n      <td>432.660004</td>\n      <td>0.0</td>\n      <td>1.0</td>\n      <td>0.0</td>\n      <td>10.0</td>\n      <td>0.0</td>\n      <td>...</td>\n      <td>0.0</td>\n      <td>7869.0</td>\n      <td>56.200001</td>\n      <td>18.0</td>\n      <td>0.0</td>\n      <td>1.0</td>\n      <td>1.0</td>\n      <td>0.0</td>\n      <td>5.0</td>\n      <td>0.0</td>\n    </tr>\n    <tr>\n      <th>4</th>\n      <td>10400.0</td>\n      <td>1.0</td>\n      <td>0.0</td>\n      <td>22.450001</td>\n      <td>289.910004</td>\n      <td>0.0</td>\n      <td>1.0</td>\n      <td>1.0</td>\n      <td>3.0</td>\n      <td>0.0</td>\n      <td>...</td>\n      <td>0.0</td>\n      <td>21929.0</td>\n      <td>64.500000</td>\n      <td>35.0</td>\n      <td>0.0</td>\n      <td>1.0</td>\n      <td>0.0</td>\n      <td>1.0</td>\n      <td>6.0</td>\n      <td>0.0</td>\n    </tr>\n    <tr>\n      <th>5</th>\n      <td>11950.0</td>\n      <td>0.0</td>\n      <td>1.0</td>\n      <td>13.440000</td>\n      <td>405.179993</td>\n      <td>0.0</td>\n      <td>0.0</td>\n      <td>1.0</td>\n      <td>4.0</td>\n      <td>0.0</td>\n      <td>...</td>\n      <td>0.0</td>\n      <td>8822.0</td>\n      <td>68.400002</td>\n      <td>6.0</td>\n      <td>0.0</td>\n      <td>1.0</td>\n      <td>0.0</td>\n      <td>1.0</td>\n      <td>0.0</td>\n      <td>0.0</td>\n    </tr>\n    <tr>\n      <th>6</th>\n      <td>20000.0</td>\n      <td>0.0</td>\n      <td>1.0</td>\n      <td>9.170000</td>\n      <td>637.580017</td>\n      <td>0.0</td>\n      <td>1.0</td>\n      <td>0.0</td>\n      <td>10.0</td>\n      <td>0.0</td>\n      <td>...</td>\n      <td>0.0</td>\n      <td>87329.0</td>\n      <td>84.500000</td>\n      <td>27.0</td>\n      <td>1.0</td>\n      <td>0.0</td>\n      <td>0.0</td>\n      <td>1.0</td>\n      <td>4.0</td>\n      <td>0.0</td>\n    </tr>\n    <tr>\n      <th>7</th>\n      <td>20000.0</td>\n      <td>0.0</td>\n      <td>1.0</td>\n      <td>8.490000</td>\n      <td>631.260010</td>\n      <td>0.0</td>\n      <td>1.0</td>\n      <td>0.0</td>\n      <td>10.0</td>\n      <td>0.0</td>\n      <td>...</td>\n      <td>0.0</td>\n      <td>826.0</td>\n      <td>5.700000</td>\n      <td>15.0</td>\n      <td>0.0</td>\n      <td>1.0</td>\n      <td>0.0</td>\n      <td>1.0</td>\n      <td>3.0</td>\n      <td>0.0</td>\n    </tr>\n    <tr>\n      <th>8</th>\n      <td>10000.0</td>\n      <td>0.0</td>\n      <td>1.0</td>\n      <td>6.490000</td>\n      <td>306.450012</td>\n      <td>1.0</td>\n      <td>0.0</td>\n      <td>0.0</td>\n      <td>6.0</td>\n      <td>0.0</td>\n      <td>...</td>\n      <td>1.0</td>\n      <td>10464.0</td>\n      <td>34.500000</td>\n      <td>23.0</td>\n      <td>0.0</td>\n      <td>1.0</td>\n      <td>0.0</td>\n      <td>1.0</td>\n      <td>1.0</td>\n      <td>1.0</td>\n    </tr>\n    <tr>\n      <th>9</th>\n      <td>8000.0</td>\n      <td>0.0</td>\n      <td>1.0</td>\n      <td>11.480000</td>\n      <td>263.739990</td>\n      <td>0.0</td>\n      <td>1.0</td>\n      <td>0.0</td>\n      <td>10.0</td>\n      <td>0.0</td>\n      <td>...</td>\n      <td>0.0</td>\n      <td>7034.0</td>\n      <td>39.099998</td>\n      <td>18.0</td>\n      <td>0.0</td>\n      <td>1.0</td>\n      <td>0.0</td>\n      <td>1.0</td>\n      <td>1.0</td>\n      <td>0.0</td>\n    </tr>\n    <tr>\n      <th>12</th>\n      <td>1400.0</td>\n      <td>0.0</td>\n      <td>1.0</td>\n      <td>12.880000</td>\n      <td>47.099998</td>\n      <td>0.0</td>\n      <td>0.0</td>\n      <td>1.0</td>\n      <td>3.0</td>\n      <td>0.0</td>\n      <td>...</td>\n      <td>0.0</td>\n      <td>37828.0</td>\n      <td>67.199997</td>\n      <td>24.0</td>\n      <td>0.0</td>\n      <td>1.0</td>\n      <td>0.0</td>\n      <td>1.0</td>\n      <td>4.0</td>\n      <td>0.0</td>\n    </tr>\n  </tbody>\n</table>\n<p>10 rows × 34 columns</p>\n</div>"
     },
     "execution_count": 10,
     "metadata": {},
     "output_type": "execute_result"
    }
   ],
   "source": [
    "df_binary.head(10)"
   ],
   "metadata": {
    "collapsed": false,
    "pycharm": {
     "name": "#%%\n"
    }
   }
  },
  {
   "cell_type": "markdown",
   "source": [
    "## Create Balanced Data Set via Downsampling"
   ],
   "metadata": {
    "collapsed": false,
    "pycharm": {
     "name": "#%% md\n"
    }
   }
  },
  {
   "cell_type": "code",
   "execution_count": 11,
   "outputs": [
    {
     "name": "stdout",
     "output_type": "stream",
     "text": [
      "0.0    1076751\n",
      "1.0     268559\n",
      "Name: loan_status, dtype: int64\n",
      "(1345310, 34)\n"
     ]
    },
    {
     "data": {
      "text/plain": "<Figure size 432x288 with 1 Axes>",
      "image/png": "[encoded data removed]"
     },
     "metadata": {},
     "output_type": "display_data"
    }
   ],
   "source": [
    "print(df_binary.loan_status.value_counts())\n",
    "print(df_binary.shape)\n",
    "\n",
    "plt.title(\"Distribution of the target variable\", size=15)\n",
    "df_binary.groupby('loan_status').size().plot(kind='pie', y = \"loan_status\",\n",
    "                                             label = \"Type\", autopct='%1.1f%%',\n",
    "                                             wedgeprops = {\"edgecolor\": \"black\", \"alpha\": 0.75},\n",
    "                                             explode = [0.05, 0.05])\n",
    "plt.show()"
   ],
   "metadata": {
    "collapsed": false,
    "pycharm": {
     "name": "#%%\n"
    }
   }
  },
  {
   "cell_type": "code",
   "execution_count": 12,
   "outputs": [
    {
     "name": "stdout",
     "output_type": "stream",
     "text": [
      "0.0    349127\n",
      "1.0    268559\n",
      "Name: loan_status, dtype: int64\n"
     ]
    },
    {
     "data": {
      "text/plain": "<Figure size 432x288 with 1 Axes>",
      "image/png": "[encoded data removed]"
     },
     "metadata": {},
     "output_type": "display_data"
    }
   ],
   "source": [
    "# Downsampling\n",
    "loan_status_0 = df_binary[df_binary[\"loan_status\"] == 0.0]\n",
    "loan_status_1  = df_binary[df_binary[\"loan_status\"] == 1.0]\n",
    "\n",
    "loan_status_0_downsample = resample(loan_status_0,\n",
    "             replace=True,\n",
    "             n_samples=round(1.3*len(loan_status_1)),\n",
    "             random_state=42)\n",
    "\n",
    "df_binary_downsampled = pd.concat([loan_status_0_downsample, loan_status_1])\n",
    "\n",
    "print(df_binary_downsampled[\"loan_status\"].value_counts())\n",
    "# Plot settings\n",
    "plt.title(\"Distribution of the target variable\", size=15)\n",
    "df_binary_downsampled.groupby('loan_status').size().plot(kind='pie', y = \"loan_status\",\n",
    "                                             label = \"Type\", autopct='%1.1f%%',\n",
    "                                             wedgeprops = {\"edgecolor\": \"black\", \"alpha\": 0.75},\n",
    "                                             explode = [0.03, 0.03])\n",
    "plt.show()"
   ],
   "metadata": {
    "collapsed": false,
    "pycharm": {
     "name": "#%%\n"
    }
   }
  },
  {
   "cell_type": "markdown",
   "source": [
    "## Data Imputation\n",
    "Since we still have some NaNs in our feature, we replace them by taking the median values."
   ],
   "metadata": {
    "collapsed": false,
    "pycharm": {
     "name": "#%% md\n"
    }
   }
  },
  {
   "cell_type": "code",
   "execution_count": 13,
   "outputs": [
    {
     "data": {
      "text/plain": "         loan_amnt  term_0  term_1  int_rate  installment  grade_0  grade_1  \\\n173248      5400.0     0.0     1.0      9.17   172.149994      0.0      1.0   \n1302533    15000.0     0.0     1.0     12.49   501.739990      0.0      1.0   \n187321      8000.0     0.0     1.0      5.32   240.919998      1.0      0.0   \n365755     10000.0     0.0     1.0     12.29   333.529999      0.0      0.0   \n156590     35000.0     1.0     0.0     10.99   760.820007      0.0      1.0   \n\n         grade_2  emp_length  home_ownership_0  ...  pub_rec  revol_bal  \\\n173248       0.0         2.0               0.0  ...      0.0     9704.0   \n1302533      0.0         6.0               0.0  ...      1.0     2733.0   \n187321       0.0         6.0               0.0  ...      0.0     2566.0   \n365755       1.0         2.0               0.0  ...      0.0     9525.0   \n156590       0.0         0.0               0.0  ...      0.0    22351.0   \n\n         revol_util  total_acc  initial_list_status_0  initial_list_status_1  \\\n173248    55.000000       29.0                    1.0                    0.0   \n1302533   56.900002       28.0                    1.0                    0.0   \n187321    18.600000       15.0                    0.0                    1.0   \n365755    34.500000        7.0                    1.0                    0.0   \n156590    69.800003       24.0                    0.0                    1.0   \n\n         application_type_0  application_type_1  mort_acc  \\\n173248                  0.0                 1.0       1.0   \n1302533                 0.0                 1.0       6.0   \n187321                  0.0                 1.0       1.0   \n365755                  0.0                 1.0       1.0   \n156590                  0.0                 1.0       0.0   \n\n         pub_rec_bankruptcies  \n173248                    0.0  \n1302533                   0.0  \n187321                    0.0  \n365755                    0.0  \n156590                    0.0  \n\n[5 rows x 34 columns]",
      "text/html": "<div>\n<style scoped>\n    .dataframe tbody tr th:only-of-type {\n        vertical-align: middle;\n    }\n\n    .dataframe tbody tr th {\n        vertical-align: top;\n    }\n\n    .dataframe thead th {\n        text-align: right;\n    }\n</style>\n<table border=\"1\" class=\"dataframe\">\n  <thead>\n    <tr style=\"text-align: right;\">\n      <th></th>\n      <th>loan_amnt</th>\n      <th>term_0</th>\n      <th>term_1</th>\n      <th>int_rate</th>\n      <th>installment</th>\n      <th>grade_0</th>\n      <th>grade_1</th>\n      <th>grade_2</th>\n      <th>emp_length</th>\n      <th>home_ownership_0</th>\n      <th>...</th>\n      <th>pub_rec</th>\n      <th>revol_bal</th>\n      <th>revol_util</th>\n      <th>total_acc</th>\n      <th>initial_list_status_0</th>\n      <th>initial_list_status_1</th>\n      <th>application_type_0</th>\n      <th>application_type_1</th>\n      <th>mort_acc</th>\n      <th>pub_rec_bankruptcies</th>\n    </tr>\n  </thead>\n  <tbody>\n    <tr>\n      <th>173248</th>\n      <td>5400.0</td>\n      <td>0.0</td>\n      <td>1.0</td>\n      <td>9.17</td>\n      <td>172.149994</td>\n      <td>0.0</td>\n      <td>1.0</td>\n      <td>0.0</td>\n      <td>2.0</td>\n      <td>0.0</td>\n      <td>...</td>\n      <td>0.0</td>\n      <td>9704.0</td>\n      <td>55.000000</td>\n      <td>29.0</td>\n      <td>1.0</td>\n      <td>0.0</td>\n      <td>0.0</td>\n      <td>1.0</td>\n      <td>1.0</td>\n      <td>0.0</td>\n    </tr>\n    <tr>\n      <th>1302533</th>\n      <td>15000.0</td>\n      <td>0.0</td>\n      <td>1.0</td>\n      <td>12.49</td>\n      <td>501.739990</td>\n      <td>0.0</td>\n      <td>1.0</td>\n      <td>0.0</td>\n      <td>6.0</td>\n      <td>0.0</td>\n      <td>...</td>\n      <td>1.0</td>\n      <td>2733.0</td>\n      <td>56.900002</td>\n      <td>28.0</td>\n      <td>1.0</td>\n      <td>0.0</td>\n      <td>0.0</td>\n      <td>1.0</td>\n      <td>6.0</td>\n      <td>0.0</td>\n    </tr>\n    <tr>\n      <th>187321</th>\n      <td>8000.0</td>\n      <td>0.0</td>\n      <td>1.0</td>\n      <td>5.32</td>\n      <td>240.919998</td>\n      <td>1.0</td>\n      <td>0.0</td>\n      <td>0.0</td>\n      <td>6.0</td>\n      <td>0.0</td>\n      <td>...</td>\n      <td>0.0</td>\n      <td>2566.0</td>\n      <td>18.600000</td>\n      <td>15.0</td>\n      <td>0.0</td>\n      <td>1.0</td>\n      <td>0.0</td>\n      <td>1.0</td>\n      <td>1.0</td>\n      <td>0.0</td>\n    </tr>\n    <tr>\n      <th>365755</th>\n      <td>10000.0</td>\n      <td>0.0</td>\n      <td>1.0</td>\n      <td>12.29</td>\n      <td>333.529999</td>\n      <td>0.0</td>\n      <td>0.0</td>\n      <td>1.0</td>\n      <td>2.0</td>\n      <td>0.0</td>\n      <td>...</td>\n      <td>0.0</td>\n      <td>9525.0</td>\n      <td>34.500000</td>\n      <td>7.0</td>\n      <td>1.0</td>\n      <td>0.0</td>\n      <td>0.0</td>\n      <td>1.0</td>\n      <td>1.0</td>\n      <td>0.0</td>\n    </tr>\n    <tr>\n      <th>156590</th>\n      <td>35000.0</td>\n      <td>1.0</td>\n      <td>0.0</td>\n      <td>10.99</td>\n      <td>760.820007</td>\n      <td>0.0</td>\n      <td>1.0</td>\n      <td>0.0</td>\n      <td>0.0</td>\n      <td>0.0</td>\n      <td>...</td>\n      <td>0.0</td>\n      <td>22351.0</td>\n      <td>69.800003</td>\n      <td>24.0</td>\n      <td>0.0</td>\n      <td>1.0</td>\n      <td>0.0</td>\n      <td>1.0</td>\n      <td>0.0</td>\n      <td>0.0</td>\n    </tr>\n  </tbody>\n</table>\n<p>5 rows × 34 columns</p>\n</div>"
     },
     "execution_count": 13,
     "metadata": {},
     "output_type": "execute_result"
    }
   ],
   "source": [
    "# Fill NaNs with Median\n",
    "df_binary_downsampled = df_binary_downsampled.fillna(df_binary_downsampled.median())\n",
    "# Preview\n",
    "df_binary_downsampled.head(5)"
   ],
   "metadata": {
    "collapsed": false,
    "pycharm": {
     "name": "#%%\n"
    }
   }
  },
  {
   "cell_type": "markdown",
   "source": [
    "## Data Split\n",
    "In this section we split the data into a training and test set. The corresponding model is then trained on the training set and tested on the test set."
   ],
   "metadata": {
    "collapsed": false,
    "pycharm": {
     "name": "#%% md\n"
    }
   }
  },
  {
   "cell_type": "code",
   "execution_count": 14,
   "outputs": [
    {
     "name": "stdout",
     "output_type": "stream",
     "text": [
      "Shape of X_train: (432380, 33)\n",
      "Shape of X_test: (185306, 33)\n",
      "Shape of y_train: (432380,)\n",
      "Shape of y_test: (185306,)\n"
     ]
    }
   ],
   "source": [
    "# Fraction of test data\n",
    "TEST_SIZE = 0.3\n",
    "\n",
    "X = df_binary_downsampled.drop(\"loan_status\", axis=1)\n",
    "y = df_binary_downsampled[\"loan_status\"]\n",
    "\n",
    "# Split data into train and test data\n",
    "X_train, X_test, y_train, y_test = train_test_split(X, y, test_size=TEST_SIZE, random_state=42, stratify=y)\n",
    "\n",
    "print(f\"Shape of X_train: {X_train.shape}\")\n",
    "print(f\"Shape of X_test: {X_test.shape}\")\n",
    "print(f\"Shape of y_train: {y_train.shape}\")\n",
    "print(f\"Shape of y_test: {y_test.shape}\")"
   ],
   "metadata": {
    "collapsed": false,
    "pycharm": {
     "name": "#%%\n"
    }
   }
  },
  {
   "cell_type": "markdown",
   "source": [
    "## Scaling\n",
    "We scale the data with the MinMaxScaler to a range of $[0, 1]$"
   ],
   "metadata": {
    "collapsed": false,
    "pycharm": {
     "name": "#%% md\n"
    }
   }
  },
  {
   "cell_type": "code",
   "execution_count": 15,
   "outputs": [
    {
     "data": {
      "text/plain": "         0    1    2         3         4    5    6    7    8    9   ...  \\\n0  0.189873  0.0  1.0  0.610592  0.167252  1.0  0.0  1.0  0.7  0.0  ...   \n1  0.311392  1.0  0.0  0.376947  0.169066  0.0  0.0  1.0  0.0  0.0  ...   \n2  0.139241  0.0  1.0  0.260125  0.107311  0.0  0.0  1.0  0.1  0.0  ...   \n3  0.620253  0.0  1.0  0.084891  0.446811  1.0  0.0  0.0  1.0  0.0  ...   \n4  0.493671  1.0  0.0  0.460670  0.283023  1.0  1.0  0.0  1.0  0.0  ...   \n5  0.367089  0.0  1.0  0.036215  0.259194  1.0  0.0  0.0  1.0  0.0  ...   \n6  0.291139  0.0  1.0  0.150312  0.214916  0.0  1.0  0.0  1.0  0.0  ...   \n7  0.873418  0.0  1.0  0.084891  0.629397  1.0  0.0  0.0  0.9  0.0  ...   \n8  0.240506  0.0  1.0  0.028037  0.169013  1.0  0.0  0.0  0.2  0.0  ...   \n9  0.215190  0.0  1.0  0.100857  0.155663  1.0  0.0  0.0  0.6  0.0  ...   \n\n         23        24        25        26   27   28   29   30        31  \\\n0  0.000000  0.004047  0.297282  0.091954  1.0  0.0  0.0  1.0  0.000000   \n1  0.011628  0.001040  0.151414  0.149425  0.0  1.0  0.0  1.0  0.000000   \n2  0.000000  0.001910  0.181364  0.287356  1.0  0.0  0.0  1.0  0.000000   \n3  0.000000  0.007012  0.140322  0.281609  0.0  1.0  0.0  1.0  0.135135   \n4  0.000000  0.003053  0.200222  0.149425  0.0  1.0  0.0  1.0  0.027027   \n5  0.000000  0.006953  0.080422  0.270115  0.0  1.0  0.0  1.0  0.108108   \n6  0.000000  0.005124  0.309484  0.045977  0.0  1.0  0.0  1.0  0.000000   \n7  0.000000  0.159627  0.403771  0.086207  1.0  0.0  0.0  1.0  0.081081   \n8  0.000000  0.000663  0.020521  0.218391  1.0  0.0  0.0  1.0  0.000000   \n9  0.000000  0.000895  0.026622  0.074713  1.0  0.0  0.0  1.0  0.027027   \n\n         32  \n0  0.000000  \n1  0.083333  \n2  0.000000  \n3  0.000000  \n4  0.000000  \n5  0.000000  \n6  0.000000  \n7  0.000000  \n8  0.000000  \n9  0.000000  \n\n[10 rows x 33 columns]",
      "text/html": "<div>\n<style scoped>\n    .dataframe tbody tr th:only-of-type {\n        vertical-align: middle;\n    }\n\n    .dataframe tbody tr th {\n        vertical-align: top;\n    }\n\n    .dataframe thead th {\n        text-align: right;\n    }\n</style>\n<table border=\"1\" class=\"dataframe\">\n  <thead>\n    <tr style=\"text-align: right;\">\n      <th></th>\n      <th>0</th>\n      <th>1</th>\n      <th>2</th>\n      <th>3</th>\n      <th>4</th>\n      <th>5</th>\n      <th>6</th>\n      <th>7</th>\n      <th>8</th>\n      <th>9</th>\n      <th>...</th>\n      <th>23</th>\n      <th>24</th>\n      <th>25</th>\n      <th>26</th>\n      <th>27</th>\n      <th>28</th>\n      <th>29</th>\n      <th>30</th>\n      <th>31</th>\n      <th>32</th>\n    </tr>\n  </thead>\n  <tbody>\n    <tr>\n      <th>0</th>\n      <td>0.189873</td>\n      <td>0.0</td>\n      <td>1.0</td>\n      <td>0.610592</td>\n      <td>0.167252</td>\n      <td>1.0</td>\n      <td>0.0</td>\n      <td>1.0</td>\n      <td>0.7</td>\n      <td>0.0</td>\n      <td>...</td>\n      <td>0.000000</td>\n      <td>0.004047</td>\n      <td>0.297282</td>\n      <td>0.091954</td>\n      <td>1.0</td>\n      <td>0.0</td>\n      <td>0.0</td>\n      <td>1.0</td>\n      <td>0.000000</td>\n      <td>0.000000</td>\n    </tr>\n    <tr>\n      <th>1</th>\n      <td>0.311392</td>\n      <td>1.0</td>\n      <td>0.0</td>\n      <td>0.376947</td>\n      <td>0.169066</td>\n      <td>0.0</td>\n      <td>0.0</td>\n      <td>1.0</td>\n      <td>0.0</td>\n      <td>0.0</td>\n      <td>...</td>\n      <td>0.011628</td>\n      <td>0.001040</td>\n      <td>0.151414</td>\n      <td>0.149425</td>\n      <td>0.0</td>\n      <td>1.0</td>\n      <td>0.0</td>\n      <td>1.0</td>\n      <td>0.000000</td>\n      <td>0.083333</td>\n    </tr>\n    <tr>\n      <th>2</th>\n      <td>0.139241</td>\n      <td>0.0</td>\n      <td>1.0</td>\n      <td>0.260125</td>\n      <td>0.107311</td>\n      <td>0.0</td>\n      <td>0.0</td>\n      <td>1.0</td>\n      <td>0.1</td>\n      <td>0.0</td>\n      <td>...</td>\n      <td>0.000000</td>\n      <td>0.001910</td>\n      <td>0.181364</td>\n      <td>0.287356</td>\n      <td>1.0</td>\n      <td>0.0</td>\n      <td>0.0</td>\n      <td>1.0</td>\n      <td>0.000000</td>\n      <td>0.000000</td>\n    </tr>\n    <tr>\n      <th>3</th>\n      <td>0.620253</td>\n      <td>0.0</td>\n      <td>1.0</td>\n      <td>0.084891</td>\n      <td>0.446811</td>\n      <td>1.0</td>\n      <td>0.0</td>\n      <td>0.0</td>\n      <td>1.0</td>\n      <td>0.0</td>\n      <td>...</td>\n      <td>0.000000</td>\n      <td>0.007012</td>\n      <td>0.140322</td>\n      <td>0.281609</td>\n      <td>0.0</td>\n      <td>1.0</td>\n      <td>0.0</td>\n      <td>1.0</td>\n      <td>0.135135</td>\n      <td>0.000000</td>\n    </tr>\n    <tr>\n      <th>4</th>\n      <td>0.493671</td>\n      <td>1.0</td>\n      <td>0.0</td>\n      <td>0.460670</td>\n      <td>0.283023</td>\n      <td>1.0</td>\n      <td>1.0</td>\n      <td>0.0</td>\n      <td>1.0</td>\n      <td>0.0</td>\n      <td>...</td>\n      <td>0.000000</td>\n      <td>0.003053</td>\n      <td>0.200222</td>\n      <td>0.149425</td>\n      <td>0.0</td>\n      <td>1.0</td>\n      <td>0.0</td>\n      <td>1.0</td>\n      <td>0.027027</td>\n      <td>0.000000</td>\n    </tr>\n    <tr>\n      <th>5</th>\n      <td>0.367089</td>\n      <td>0.0</td>\n      <td>1.0</td>\n      <td>0.036215</td>\n      <td>0.259194</td>\n      <td>1.0</td>\n      <td>0.0</td>\n      <td>0.0</td>\n      <td>1.0</td>\n      <td>0.0</td>\n      <td>...</td>\n      <td>0.000000</td>\n      <td>0.006953</td>\n      <td>0.080422</td>\n      <td>0.270115</td>\n      <td>0.0</td>\n      <td>1.0</td>\n      <td>0.0</td>\n      <td>1.0</td>\n      <td>0.108108</td>\n      <td>0.000000</td>\n    </tr>\n    <tr>\n      <th>6</th>\n      <td>0.291139</td>\n      <td>0.0</td>\n      <td>1.0</td>\n      <td>0.150312</td>\n      <td>0.214916</td>\n      <td>0.0</td>\n      <td>1.0</td>\n      <td>0.0</td>\n      <td>1.0</td>\n      <td>0.0</td>\n      <td>...</td>\n      <td>0.000000</td>\n      <td>0.005124</td>\n      <td>0.309484</td>\n      <td>0.045977</td>\n      <td>0.0</td>\n      <td>1.0</td>\n      <td>0.0</td>\n      <td>1.0</td>\n      <td>0.000000</td>\n      <td>0.000000</td>\n    </tr>\n    <tr>\n      <th>7</th>\n      <td>0.873418</td>\n      <td>0.0</td>\n      <td>1.0</td>\n      <td>0.084891</td>\n      <td>0.629397</td>\n      <td>1.0</td>\n      <td>0.0</td>\n      <td>0.0</td>\n      <td>0.9</td>\n      <td>0.0</td>\n      <td>...</td>\n      <td>0.000000</td>\n      <td>0.159627</td>\n      <td>0.403771</td>\n      <td>0.086207</td>\n      <td>1.0</td>\n      <td>0.0</td>\n      <td>0.0</td>\n      <td>1.0</td>\n      <td>0.081081</td>\n      <td>0.000000</td>\n    </tr>\n    <tr>\n      <th>8</th>\n      <td>0.240506</td>\n      <td>0.0</td>\n      <td>1.0</td>\n      <td>0.028037</td>\n      <td>0.169013</td>\n      <td>1.0</td>\n      <td>0.0</td>\n      <td>0.0</td>\n      <td>0.2</td>\n      <td>0.0</td>\n      <td>...</td>\n      <td>0.000000</td>\n      <td>0.000663</td>\n      <td>0.020521</td>\n      <td>0.218391</td>\n      <td>1.0</td>\n      <td>0.0</td>\n      <td>0.0</td>\n      <td>1.0</td>\n      <td>0.000000</td>\n      <td>0.000000</td>\n    </tr>\n    <tr>\n      <th>9</th>\n      <td>0.215190</td>\n      <td>0.0</td>\n      <td>1.0</td>\n      <td>0.100857</td>\n      <td>0.155663</td>\n      <td>1.0</td>\n      <td>0.0</td>\n      <td>0.0</td>\n      <td>0.6</td>\n      <td>0.0</td>\n      <td>...</td>\n      <td>0.000000</td>\n      <td>0.000895</td>\n      <td>0.026622</td>\n      <td>0.074713</td>\n      <td>1.0</td>\n      <td>0.0</td>\n      <td>0.0</td>\n      <td>1.0</td>\n      <td>0.027027</td>\n      <td>0.000000</td>\n    </tr>\n  </tbody>\n</table>\n<p>10 rows × 33 columns</p>\n</div>"
     },
     "execution_count": 15,
     "metadata": {},
     "output_type": "execute_result"
    }
   ],
   "source": [
    "# Init object\n",
    "scaler = MinMaxScaler()\n",
    "# Scale X_train\n",
    "X_train_scaled = scaler.fit_transform(X_train)\n",
    "X_train_scaled = pd.DataFrame(X_train_scaled)\n",
    "# Scale X_test\n",
    "X_test_scaled = scaler.transform(X_test)\n",
    "X_test_scaled = pd.DataFrame(X_test_scaled)\n",
    "\n",
    "# Preview X_train_scaled\n",
    "X_train_scaled.head(10)"
   ],
   "metadata": {
    "collapsed": false,
    "pycharm": {
     "name": "#%%\n"
    }
   }
  },
  {
   "cell_type": "markdown",
   "source": [
    "---\n",
    "# Task 3: Logistic Regression In Sample\n",
    "Use logistic regression (in-sample) for default prediction. Interpret your results for logistic regression"
   ],
   "metadata": {
    "collapsed": false,
    "pycharm": {
     "name": "#%% md\n"
    }
   }
  },
  {
   "cell_type": "code",
   "execution_count": 16,
   "outputs": [],
   "source": [
    "# Fit Model\n",
    "lr = LogisticRegression(max_iter=1000, fit_intercept=True)\n",
    "lr.fit(X_train_scaled, y_train)\n",
    "\n",
    "# Predict in sample, i.e. predict on seen data (trainings data) instead of unseen data (test)\n",
    "y_pred = lr.predict(X_train_scaled)"
   ],
   "metadata": {
    "collapsed": false,
    "pycharm": {
     "name": "#%%\n"
    }
   }
  },
  {
   "cell_type": "code",
   "execution_count": 17,
   "outputs": [
    {
     "data": {
      "text/plain": "<Figure size 432x288 with 2 Axes>",
      "image/png": "[encoded data removed]"
     },
     "metadata": {},
     "output_type": "display_data"
    },
    {
     "name": "stdout",
     "output_type": "stream",
     "text": [
      "              precision    recall  f1-score   support\n",
      "\n",
      "         0.0       0.67      0.78      0.72    244389\n",
      "         1.0       0.63      0.50      0.56    187991\n",
      "\n",
      "    accuracy                           0.66    432380\n",
      "   macro avg       0.65      0.64      0.64    432380\n",
      "weighted avg       0.65      0.66      0.65    432380\n",
      "\n"
     ]
    }
   ],
   "source": [
    "# Plot Confusion matrics\n",
    "cm = confusion_matrix(y_true=y_train, y_pred=y_pred)\n",
    "sns.heatmap(cm, annot=True, fmt='d')\n",
    "plt.title(\"Confusion matrix\")\n",
    "plt.xlabel(\"Predicted\")\n",
    "plt.ylabel(\"Actual\")\n",
    "plt.show()\n",
    "\n",
    "# Plot classification report\n",
    "print(classification_report(y_true=y_train, y_pred=y_pred))\n",
    "#print(precision_recall_fscore_support(y_true=y_train, y_pred=y_pred, average=\"micro\"))\n",
    "#print(round(accuracy_score(y_true=y_train, y_pred=y_pred), 4))"
   ],
   "metadata": {
    "collapsed": false,
    "pycharm": {
     "name": "#%%\n"
    }
   }
  },
  {
   "cell_type": "markdown",
   "source": [
    "## Interpretation:\n",
    "TBD"
   ],
   "metadata": {
    "collapsed": false,
    "pycharm": {
     "name": "#%% md\n"
    }
   }
  },
  {
   "cell_type": "markdown",
   "source": [
    "---\n",
    "# Task 4: Compare different classification models\n",
    "Comparing\n",
    "* logistic regression,\n",
    "* classification tree,\n",
    "* random forest,\n",
    "* bagging,\n",
    "* support vector machine (with two kernel functions),\n",
    "* and neural network\n",
    "\n",
    "for default prediction based on the out-of-sample performance measures (at least three different measures)."
   ],
   "metadata": {
    "collapsed": false,
    "pycharm": {
     "name": "#%% md\n"
    }
   }
  },
  {
   "cell_type": "code",
   "execution_count": 18,
   "outputs": [
    {
     "data": {
      "text/plain": "  0%|          | 0/7 [00:00<?, ?it/s]",
      "application/vnd.jupyter.widget-view+json": {
       "version_major": 2,
       "version_minor": 0,
       "model_id": "4946496e50804de78b04d5237078a18d"
      }
     },
     "metadata": {},
     "output_type": "display_data"
    },
    {
     "name": "stdout",
     "output_type": "stream",
     "text": [
      "CPU times: total: 1.06 s\n",
      "Wall time: 7min 49s\n"
     ]
    }
   ],
   "source": [
    "%%time\n",
    "models = []\n",
    "\n",
    "models.append((\"LogisticRegression\",LogisticRegression(fit_intercept=True, max_iter=1000, solver=\"saga\")))\n",
    "models.append((\"DecisionTree\",DecisionTreeClassifier()))\n",
    "models.append((\"RandomForest\",RandomForestClassifier()))\n",
    "models.append((\"BaggingCLF\",BaggingClassifier()))\n",
    "models.append((\"SVC_rbf\",SVC(kernel='rbf', max_iter=500)))\n",
    "models.append((\"SVC_poly\",SVC(kernel=\"poly\", max_iter=500)))\n",
    "models.append((\"NeuronalNetwork\", MLPClassifier(alpha=1, max_iter=1000)))\n",
    "\n",
    "results = []\n",
    "names = []\n",
    "# Define scoring metrices for CV\n",
    "scoring = [\"accuracy\", \"precision_micro\", \"recall_micro\", \"f1_micro\"]\n",
    "for name, model in tqdm(models):\n",
    "    result = cross_validate(model, X_train_scaled, y_train,  cv=3, n_jobs=-1, scoring=scoring)\n",
    "    names.append(name)\n",
    "    results.append(result)"
   ],
   "metadata": {
    "collapsed": false,
    "pycharm": {
     "name": "#%%\n"
    }
   }
  },
  {
   "cell_type": "code",
   "execution_count": 19,
   "outputs": [
    {
     "data": {
      "text/plain": "                     fit_time  test_accuracy  test_precision_micro  \\\nRandomForest        74.333603         0.6748                0.6748   \nLogisticRegression  63.252602         0.6548                0.6548   \nNeuronalNetwork     93.650398         0.6497                0.6497   \nBaggingCLF          41.266602         0.6427                0.6427   \nDecisionTree         5.514600         0.6014                0.6014   \nSVC_rbf             28.040600         0.5595                0.5595   \nSVC_poly            20.584200         0.4510                0.4510   \n\n                    test_recall_micro  test_f1_micro  \nRandomForest                   0.6748         0.6748  \nLogisticRegression             0.6548         0.6548  \nNeuronalNetwork                0.6497         0.6497  \nBaggingCLF                     0.6427         0.6427  \nDecisionTree                   0.6014         0.6014  \nSVC_rbf                        0.5595         0.5595  \nSVC_poly                       0.4510         0.4510  ",
      "text/html": "<div>\n<style scoped>\n    .dataframe tbody tr th:only-of-type {\n        vertical-align: middle;\n    }\n\n    .dataframe tbody tr th {\n        vertical-align: top;\n    }\n\n    .dataframe thead th {\n        text-align: right;\n    }\n</style>\n<table border=\"1\" class=\"dataframe\">\n  <thead>\n    <tr style=\"text-align: right;\">\n      <th></th>\n      <th>fit_time</th>\n      <th>test_accuracy</th>\n      <th>test_precision_micro</th>\n      <th>test_recall_micro</th>\n      <th>test_f1_micro</th>\n    </tr>\n  </thead>\n  <tbody>\n    <tr>\n      <th>RandomForest</th>\n      <td>74.333603</td>\n      <td>0.6748</td>\n      <td>0.6748</td>\n      <td>0.6748</td>\n      <td>0.6748</td>\n    </tr>\n    <tr>\n      <th>LogisticRegression</th>\n      <td>63.252602</td>\n      <td>0.6548</td>\n      <td>0.6548</td>\n      <td>0.6548</td>\n      <td>0.6548</td>\n    </tr>\n    <tr>\n      <th>NeuronalNetwork</th>\n      <td>93.650398</td>\n      <td>0.6497</td>\n      <td>0.6497</td>\n      <td>0.6497</td>\n      <td>0.6497</td>\n    </tr>\n    <tr>\n      <th>BaggingCLF</th>\n      <td>41.266602</td>\n      <td>0.6427</td>\n      <td>0.6427</td>\n      <td>0.6427</td>\n      <td>0.6427</td>\n    </tr>\n    <tr>\n      <th>DecisionTree</th>\n      <td>5.514600</td>\n      <td>0.6014</td>\n      <td>0.6014</td>\n      <td>0.6014</td>\n      <td>0.6014</td>\n    </tr>\n    <tr>\n      <th>SVC_rbf</th>\n      <td>28.040600</td>\n      <td>0.5595</td>\n      <td>0.5595</td>\n      <td>0.5595</td>\n      <td>0.5595</td>\n    </tr>\n    <tr>\n      <th>SVC_poly</th>\n      <td>20.584200</td>\n      <td>0.4510</td>\n      <td>0.4510</td>\n      <td>0.4510</td>\n      <td>0.4510</td>\n    </tr>\n  </tbody>\n</table>\n</div>"
     },
     "execution_count": 19,
     "metadata": {},
     "output_type": "execute_result"
    }
   ],
   "source": [
    "# Get name of metrices (will be column in result_df)\n",
    "metrices = list(results[0].keys())\n",
    "# Create empty dataframe\n",
    "results_df = pd.DataFrame(index=names, columns=metrices, dtype=\"float32\")\n",
    "\n",
    "# File dataframe by iterating over all results and taking the mean value\n",
    "for i, name in enumerate(models):\n",
    "    mean_of_metrices = []\n",
    "    for key in results[i].keys():\n",
    "        mean_of_metrices.append(results[i].get(key).mean())\n",
    "    results_df.iloc[i] = mean_of_metrices\n",
    "\n",
    "# Drop scoring_time column as it is not of interest\n",
    "results_df.drop(\"score_time\", axis=1, inplace=True)\n",
    "# Round to 4 decimal places\n",
    "results_df = results_df.round(decimals=4)\n",
    "# Sort descending of f1 score\n",
    "results_df = results_df.sort_values(by=\"test_f1_micro\", ascending=False)\n",
    "# Preview\n",
    "results_df"
   ],
   "metadata": {
    "collapsed": false,
    "pycharm": {
     "name": "#%%\n"
    }
   }
  },
  {
   "cell_type": "markdown",
   "source": [
    "## Results:\n",
    "We can see that a RandomForest Model performs the best according to the f1 score, which is the harmonic mean between recall and precision. Also LogisticRegression, as a very good interpretable model, performs pretty well and is ranked 2nd. SVC, on the other hands, perform very poorly."
   ],
   "metadata": {
    "collapsed": false,
    "pycharm": {
     "name": "#%% md\n"
    }
   }
  },
  {
   "cell_type": "markdown",
   "source": [
    "---\n",
    "# Task 5: Use LASSO for variable selection and explain results"
   ],
   "metadata": {
    "collapsed": false,
    "pycharm": {
     "name": "#%% md\n"
    }
   }
  },
  {
   "cell_type": "code",
   "execution_count": 20,
   "outputs": [],
   "source": [
    "#TBD"
   ],
   "metadata": {
    "collapsed": false,
    "pycharm": {
     "name": "#%%\n"
    }
   }
  },
  {
   "cell_type": "code",
   "execution_count": 21,
   "outputs": [],
   "source": [
    "#PUFFER"
   ],
   "metadata": {
    "collapsed": false,
    "pycharm": {
     "name": "#%%\n"
    }
   }
  },
  {
   "cell_type": "markdown",
   "source": [
    "# Task 6: Which model do you suggest to the peer-to-peer company? Why?\n",
    "We rate each model based on the following four criterias learned on the lecture:\n",
    "- Interpretability\n",
    "- Robustness\n",
    "- Speed\n",
    "- Scalability\n",
    "TODO"
   ],
   "metadata": {
    "collapsed": false,
    "pycharm": {
     "name": "#%% md\n"
    }
   }
  }
 ],
 "metadata": {
  "kernelspec": {
   "name": "python3",
   "language": "python",
   "display_name": "Python 3 (ipykernel)"
  },
  "language_info": {
   "codemirror_mode": {
    "name": "ipython",
    "version": 2
   },
   "file_extension": ".py",
   "mimetype": "text/x-python",
   "name": "python",
   "nbconvert_exporter": "python",
   "pygments_lexer": "ipython2",
   "version": "2.7.6"
  }
 },
 "nbformat": 4,
 "nbformat_minor": 0
}