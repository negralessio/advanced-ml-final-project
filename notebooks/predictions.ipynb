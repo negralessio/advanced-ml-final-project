{
 "cells": [
  {
   "cell_type": "code",
   "execution_count": 1,
   "outputs": [],
   "source": [
    "import pandas as pd\n",
    "import numpy as np\n",
    "import matplotlib.pyplot as plt\n",
    "import seaborn as sns\n",
    "# For modeling\n",
    "from sklearn.linear_model import LogisticRegression\n",
    "from sklearn.metrics import confusion_matrix\n",
    "from sklearn.metrics import accuracy_score\n",
    "from sklearn.metrics import classification_report\n",
    "from sklearn.model_selection import train_test_split\n",
    "from sklearn.preprocessing import StandardScaler\n",
    "sns.set_theme(style='whitegrid')\n",
    "pd.options.mode.chained_assignment = None  # Supress warning, default='warn'"
   ],
   "metadata": {
    "collapsed": false,
    "pycharm": {
     "name": "#%%\n"
    }
   }
  },
  {
   "cell_type": "markdown",
   "source": [
    "# Read Data"
   ],
   "metadata": {
    "collapsed": false,
    "pycharm": {
     "name": "#%% md\n"
    }
   }
  },
  {
   "cell_type": "code",
   "execution_count": 2,
   "outputs": [
    {
     "name": "stdout",
     "output_type": "stream",
     "text": [
      "Shape of df: (1345310, 101)\n"
     ]
    },
    {
     "data": {
      "text/plain": "   loan_amnt  funded_amnt  funded_amnt_inv  term  int_rate  installment grade  \\\n0     3600.0       3600.0           3600.0    36     13.99       123.03     C   \n1    24700.0      24700.0          24700.0    36     11.99       820.28     C   \n2    20000.0      20000.0          20000.0    60     10.78       432.66     B   \n3    10400.0      10400.0          10400.0    60     22.45       289.91     F   \n4    11950.0      11950.0          11950.0    36     13.44       405.18     C   \n\n  sub_grade  emp_length home_ownership  ...  percent_bc_gt_75  \\\n0        C4        10.0       MORTGAGE  ...               0.0   \n1        C1        10.0       MORTGAGE  ...               7.7   \n2        B4        10.0       MORTGAGE  ...              50.0   \n3        F1         3.0       MORTGAGE  ...              60.0   \n4        C3         4.0           RENT  ...             100.0   \n\n  pub_rec_bankruptcies  tax_liens tot_hi_cred_lim total_bal_ex_mort  \\\n0                  0.0        0.0        178050.0            7746.0   \n1                  0.0        0.0        314017.0           39475.0   \n2                  0.0        0.0        218418.0           18696.0   \n3                  0.0        0.0        439570.0           95768.0   \n4                  0.0        0.0         16900.0           12798.0   \n\n  total_bc_limit  total_il_high_credit_limit  hardship_flag  \\\n0         2400.0                     13734.0              N   \n1        79300.0                     24667.0              N   \n2         6200.0                     14877.0              N   \n3        20300.0                     88097.0              N   \n4         9400.0                      4000.0              N   \n\n   disbursement_method  debt_settlement_flag  \n0                 Cash                     N  \n1                 Cash                     N  \n2                 Cash                     N  \n3                 Cash                     N  \n4                 Cash                     N  \n\n[5 rows x 101 columns]",
      "text/html": "<div>\n<style scoped>\n    .dataframe tbody tr th:only-of-type {\n        vertical-align: middle;\n    }\n\n    .dataframe tbody tr th {\n        vertical-align: top;\n    }\n\n    .dataframe thead th {\n        text-align: right;\n    }\n</style>\n<table border=\"1\" class=\"dataframe\">\n  <thead>\n    <tr style=\"text-align: right;\">\n      <th></th>\n      <th>loan_amnt</th>\n      <th>funded_amnt</th>\n      <th>funded_amnt_inv</th>\n      <th>term</th>\n      <th>int_rate</th>\n      <th>installment</th>\n      <th>grade</th>\n      <th>sub_grade</th>\n      <th>emp_length</th>\n      <th>home_ownership</th>\n      <th>...</th>\n      <th>percent_bc_gt_75</th>\n      <th>pub_rec_bankruptcies</th>\n      <th>tax_liens</th>\n      <th>tot_hi_cred_lim</th>\n      <th>total_bal_ex_mort</th>\n      <th>total_bc_limit</th>\n      <th>total_il_high_credit_limit</th>\n      <th>hardship_flag</th>\n      <th>disbursement_method</th>\n      <th>debt_settlement_flag</th>\n    </tr>\n  </thead>\n  <tbody>\n    <tr>\n      <th>0</th>\n      <td>3600.0</td>\n      <td>3600.0</td>\n      <td>3600.0</td>\n      <td>36</td>\n      <td>13.99</td>\n      <td>123.03</td>\n      <td>C</td>\n      <td>C4</td>\n      <td>10.0</td>\n      <td>MORTGAGE</td>\n      <td>...</td>\n      <td>0.0</td>\n      <td>0.0</td>\n      <td>0.0</td>\n      <td>178050.0</td>\n      <td>7746.0</td>\n      <td>2400.0</td>\n      <td>13734.0</td>\n      <td>N</td>\n      <td>Cash</td>\n      <td>N</td>\n    </tr>\n    <tr>\n      <th>1</th>\n      <td>24700.0</td>\n      <td>24700.0</td>\n      <td>24700.0</td>\n      <td>36</td>\n      <td>11.99</td>\n      <td>820.28</td>\n      <td>C</td>\n      <td>C1</td>\n      <td>10.0</td>\n      <td>MORTGAGE</td>\n      <td>...</td>\n      <td>7.7</td>\n      <td>0.0</td>\n      <td>0.0</td>\n      <td>314017.0</td>\n      <td>39475.0</td>\n      <td>79300.0</td>\n      <td>24667.0</td>\n      <td>N</td>\n      <td>Cash</td>\n      <td>N</td>\n    </tr>\n    <tr>\n      <th>2</th>\n      <td>20000.0</td>\n      <td>20000.0</td>\n      <td>20000.0</td>\n      <td>60</td>\n      <td>10.78</td>\n      <td>432.66</td>\n      <td>B</td>\n      <td>B4</td>\n      <td>10.0</td>\n      <td>MORTGAGE</td>\n      <td>...</td>\n      <td>50.0</td>\n      <td>0.0</td>\n      <td>0.0</td>\n      <td>218418.0</td>\n      <td>18696.0</td>\n      <td>6200.0</td>\n      <td>14877.0</td>\n      <td>N</td>\n      <td>Cash</td>\n      <td>N</td>\n    </tr>\n    <tr>\n      <th>3</th>\n      <td>10400.0</td>\n      <td>10400.0</td>\n      <td>10400.0</td>\n      <td>60</td>\n      <td>22.45</td>\n      <td>289.91</td>\n      <td>F</td>\n      <td>F1</td>\n      <td>3.0</td>\n      <td>MORTGAGE</td>\n      <td>...</td>\n      <td>60.0</td>\n      <td>0.0</td>\n      <td>0.0</td>\n      <td>439570.0</td>\n      <td>95768.0</td>\n      <td>20300.0</td>\n      <td>88097.0</td>\n      <td>N</td>\n      <td>Cash</td>\n      <td>N</td>\n    </tr>\n    <tr>\n      <th>4</th>\n      <td>11950.0</td>\n      <td>11950.0</td>\n      <td>11950.0</td>\n      <td>36</td>\n      <td>13.44</td>\n      <td>405.18</td>\n      <td>C</td>\n      <td>C3</td>\n      <td>4.0</td>\n      <td>RENT</td>\n      <td>...</td>\n      <td>100.0</td>\n      <td>0.0</td>\n      <td>0.0</td>\n      <td>16900.0</td>\n      <td>12798.0</td>\n      <td>9400.0</td>\n      <td>4000.0</td>\n      <td>N</td>\n      <td>Cash</td>\n      <td>N</td>\n    </tr>\n  </tbody>\n</table>\n<p>5 rows × 101 columns</p>\n</div>"
     },
     "execution_count": 2,
     "metadata": {},
     "output_type": "execute_result"
    }
   ],
   "source": [
    "df = pd.read_csv('../data/preprocessed/accepted_2007_to_2018Q4_preprocessed.csv')\n",
    "print(f\"Shape of df: {df.shape}\")\n",
    "df.head(5)"
   ],
   "metadata": {
    "collapsed": false,
    "pycharm": {
     "name": "#%%\n"
    }
   }
  },
  {
   "cell_type": "code",
   "execution_count": 3,
   "outputs": [
    {
     "data": {
      "text/plain": "loan_amnt                     float64\nfunded_amnt                   float64\nfunded_amnt_inv               float64\nterm                            int64\nint_rate                      float64\n                               ...   \ntotal_bc_limit                float64\ntotal_il_high_credit_limit    float64\nhardship_flag                  object\ndisbursement_method            object\ndebt_settlement_flag           object\nLength: 101, dtype: object"
     },
     "execution_count": 3,
     "metadata": {},
     "output_type": "execute_result"
    }
   ],
   "source": [
    "df.dtypes"
   ],
   "metadata": {
    "collapsed": false,
    "pycharm": {
     "name": "#%%\n"
    }
   }
  },
  {
   "cell_type": "markdown",
   "source": [
    "## Take Sample to Work with\n",
    "TODO: Delete this later and run notebook on full data"
   ],
   "metadata": {
    "collapsed": false,
    "pycharm": {
     "name": "#%% md\n"
    }
   }
  },
  {
   "cell_type": "code",
   "execution_count": 4,
   "outputs": [
    {
     "name": "stdout",
     "output_type": "stream",
     "text": [
      "(443952, 101)\n"
     ]
    }
   ],
   "source": [
    "# Take only fraction of the data\n",
    "df = df.sample(frac = 0.33)\n",
    "print(df.shape)"
   ],
   "metadata": {
    "collapsed": false,
    "pycharm": {
     "name": "#%%\n"
    }
   }
  },
  {
   "cell_type": "markdown",
   "source": [
    "# Encode Categorical / Nominal Columns to numeric with OHE"
   ],
   "metadata": {
    "collapsed": false,
    "pycharm": {
     "name": "#%% md\n"
    }
   }
  },
  {
   "cell_type": "code",
   "execution_count": 5,
   "outputs": [
    {
     "data": {
      "text/plain": "grade                   object\nsub_grade               object\nhome_ownership          object\nverification_status     object\npymnt_plan              object\npurpose                 object\naddr_state              object\ninitial_list_status     object\napplication_type        object\nhardship_flag           object\ndisbursement_method     object\ndebt_settlement_flag    object\ndtype: object"
     },
     "execution_count": 5,
     "metadata": {},
     "output_type": "execute_result"
    }
   ],
   "source": [
    "# Preview categorical data\n",
    "df.dtypes[df.dtypes == \"object\"]"
   ],
   "metadata": {
    "collapsed": false,
    "pycharm": {
     "name": "#%%\n"
    }
   }
  },
  {
   "cell_type": "code",
   "execution_count": 6,
   "outputs": [
    {
     "data": {
      "text/plain": "home_ownership          object\nverification_status     object\npymnt_plan              object\ninitial_list_status     object\napplication_type        object\nhardship_flag           object\ndisbursement_method     object\ndebt_settlement_flag    object\ndtype: object"
     },
     "execution_count": 6,
     "metadata": {},
     "output_type": "execute_result"
    }
   ],
   "source": [
    "# Drop categorical columns that have too many realization for OHE\n",
    "df = df.drop([\"sub_grade\", \"purpose\", \"grade\", \"addr_state\"], axis=1)\n",
    "df.dtypes[df.dtypes == \"object\"]"
   ],
   "metadata": {
    "collapsed": false,
    "pycharm": {
     "name": "#%%\n"
    }
   }
  },
  {
   "cell_type": "markdown",
   "source": [
    "## One Hot Encoder (OHE) of categorical data"
   ],
   "metadata": {
    "collapsed": false,
    "pycharm": {
     "name": "#%% md\n"
    }
   }
  },
  {
   "cell_type": "code",
   "execution_count": 7,
   "outputs": [
    {
     "data": {
      "text/plain": "         loan_amnt  funded_amnt  funded_amnt_inv  term  int_rate  installment  \\\n241182      4500.0       4500.0           4500.0    36      6.24       137.39   \n326363     13925.0      13925.0          13925.0    60     10.99       302.70   \n818812     15000.0      15000.0          15000.0    36     12.49       501.74   \n1073559    10625.0      10625.0          10625.0    36     15.88       372.92   \n160434     27000.0      27000.0          27000.0    60     13.33       618.91   \n1009524    25000.0      25000.0          24950.0    36      7.90       782.26   \n630393     27200.0      27200.0          27200.0    36      6.97       839.49   \n1068505    20000.0      20000.0          20000.0    36     13.05       674.37   \n529302      6000.0       6000.0           6000.0    36      7.21       185.84   \n246407     10000.0      10000.0          10000.0    36      7.26       309.97   \n\n         emp_length  annual_inc  loan_status    dti  ...  home_ownership_NONE  \\\n241182          2.0     40000.0            0  12.60  ...                    0   \n326363          0.0     75000.0            0  19.07  ...                    0   \n818812          7.0     43000.0            0  17.30  ...                    0   \n1073559         7.0     75000.0            0  18.98  ...                    0   \n160434         10.0     65000.0            0  21.95  ...                    0   \n1009524         2.0     80000.0            0   8.20  ...                    0   \n630393          5.0    160000.0            0   5.94  ...                    0   \n1068505         0.0     60000.0            0  21.70  ...                    0   \n529302          NaN     42000.0            0  22.51  ...                    0   \n246407          3.0     75000.0            0  15.88  ...                    0   \n\n         home_ownership_OTHER  home_ownership_OWN  home_ownership_RENT  \\\n241182                      0                   0                    1   \n326363                      0                   0                    1   \n818812                      0                   0                    0   \n1073559                     0                   0                    0   \n160434                      0                   0                    1   \n1009524                     0                   0                    1   \n630393                      0                   0                    1   \n1068505                     0                   0                    0   \n529302                      0                   0                    0   \n246407                      0                   0                    1   \n\n         verification_status_Source Verified  verification_status_Verified  \\\n241182                                     1                             0   \n326363                                     0                             0   \n818812                                     0                             0   \n1073559                                    0                             0   \n160434                                     0                             0   \n1009524                                    0                             1   \n630393                                     0                             0   \n1068505                                    0                             1   \n529302                                     0                             0   \n246407                                     1                             0   \n\n         initial_list_status_w  application_type_Joint App  \\\n241182                       1                           0   \n326363                       1                           0   \n818812                       0                           0   \n1073559                      1                           0   \n160434                       1                           0   \n1009524                      0                           0   \n630393                       1                           0   \n1068505                      0                           0   \n529302                       1                           0   \n246407                       0                           0   \n\n         disbursement_method_DirectPay  debt_settlement_flag_Y  \n241182                               0                       0  \n326363                               0                       0  \n818812                               0                       0  \n1073559                              0                       0  \n160434                               0                       0  \n1009524                              0                       0  \n630393                               0                       0  \n1068505                              0                       0  \n529302                               0                       0  \n246407                               0                       0  \n\n[10 rows x 100 columns]",
      "text/html": "<div>\n<style scoped>\n    .dataframe tbody tr th:only-of-type {\n        vertical-align: middle;\n    }\n\n    .dataframe tbody tr th {\n        vertical-align: top;\n    }\n\n    .dataframe thead th {\n        text-align: right;\n    }\n</style>\n<table border=\"1\" class=\"dataframe\">\n  <thead>\n    <tr style=\"text-align: right;\">\n      <th></th>\n      <th>loan_amnt</th>\n      <th>funded_amnt</th>\n      <th>funded_amnt_inv</th>\n      <th>term</th>\n      <th>int_rate</th>\n      <th>installment</th>\n      <th>emp_length</th>\n      <th>annual_inc</th>\n      <th>loan_status</th>\n      <th>dti</th>\n      <th>...</th>\n      <th>home_ownership_NONE</th>\n      <th>home_ownership_OTHER</th>\n      <th>home_ownership_OWN</th>\n      <th>home_ownership_RENT</th>\n      <th>verification_status_Source Verified</th>\n      <th>verification_status_Verified</th>\n      <th>initial_list_status_w</th>\n      <th>application_type_Joint App</th>\n      <th>disbursement_method_DirectPay</th>\n      <th>debt_settlement_flag_Y</th>\n    </tr>\n  </thead>\n  <tbody>\n    <tr>\n      <th>241182</th>\n      <td>4500.0</td>\n      <td>4500.0</td>\n      <td>4500.0</td>\n      <td>36</td>\n      <td>6.24</td>\n      <td>137.39</td>\n      <td>2.0</td>\n      <td>40000.0</td>\n      <td>0</td>\n      <td>12.60</td>\n      <td>...</td>\n      <td>0</td>\n      <td>0</td>\n      <td>0</td>\n      <td>1</td>\n      <td>1</td>\n      <td>0</td>\n      <td>1</td>\n      <td>0</td>\n      <td>0</td>\n      <td>0</td>\n    </tr>\n    <tr>\n      <th>326363</th>\n      <td>13925.0</td>\n      <td>13925.0</td>\n      <td>13925.0</td>\n      <td>60</td>\n      <td>10.99</td>\n      <td>302.70</td>\n      <td>0.0</td>\n      <td>75000.0</td>\n      <td>0</td>\n      <td>19.07</td>\n      <td>...</td>\n      <td>0</td>\n      <td>0</td>\n      <td>0</td>\n      <td>1</td>\n      <td>0</td>\n      <td>0</td>\n      <td>1</td>\n      <td>0</td>\n      <td>0</td>\n      <td>0</td>\n    </tr>\n    <tr>\n      <th>818812</th>\n      <td>15000.0</td>\n      <td>15000.0</td>\n      <td>15000.0</td>\n      <td>36</td>\n      <td>12.49</td>\n      <td>501.74</td>\n      <td>7.0</td>\n      <td>43000.0</td>\n      <td>0</td>\n      <td>17.30</td>\n      <td>...</td>\n      <td>0</td>\n      <td>0</td>\n      <td>0</td>\n      <td>0</td>\n      <td>0</td>\n      <td>0</td>\n      <td>0</td>\n      <td>0</td>\n      <td>0</td>\n      <td>0</td>\n    </tr>\n    <tr>\n      <th>1073559</th>\n      <td>10625.0</td>\n      <td>10625.0</td>\n      <td>10625.0</td>\n      <td>36</td>\n      <td>15.88</td>\n      <td>372.92</td>\n      <td>7.0</td>\n      <td>75000.0</td>\n      <td>0</td>\n      <td>18.98</td>\n      <td>...</td>\n      <td>0</td>\n      <td>0</td>\n      <td>0</td>\n      <td>0</td>\n      <td>0</td>\n      <td>0</td>\n      <td>1</td>\n      <td>0</td>\n      <td>0</td>\n      <td>0</td>\n    </tr>\n    <tr>\n      <th>160434</th>\n      <td>27000.0</td>\n      <td>27000.0</td>\n      <td>27000.0</td>\n      <td>60</td>\n      <td>13.33</td>\n      <td>618.91</td>\n      <td>10.0</td>\n      <td>65000.0</td>\n      <td>0</td>\n      <td>21.95</td>\n      <td>...</td>\n      <td>0</td>\n      <td>0</td>\n      <td>0</td>\n      <td>1</td>\n      <td>0</td>\n      <td>0</td>\n      <td>1</td>\n      <td>0</td>\n      <td>0</td>\n      <td>0</td>\n    </tr>\n    <tr>\n      <th>1009524</th>\n      <td>25000.0</td>\n      <td>25000.0</td>\n      <td>24950.0</td>\n      <td>36</td>\n      <td>7.90</td>\n      <td>782.26</td>\n      <td>2.0</td>\n      <td>80000.0</td>\n      <td>0</td>\n      <td>8.20</td>\n      <td>...</td>\n      <td>0</td>\n      <td>0</td>\n      <td>0</td>\n      <td>1</td>\n      <td>0</td>\n      <td>1</td>\n      <td>0</td>\n      <td>0</td>\n      <td>0</td>\n      <td>0</td>\n    </tr>\n    <tr>\n      <th>630393</th>\n      <td>27200.0</td>\n      <td>27200.0</td>\n      <td>27200.0</td>\n      <td>36</td>\n      <td>6.97</td>\n      <td>839.49</td>\n      <td>5.0</td>\n      <td>160000.0</td>\n      <td>0</td>\n      <td>5.94</td>\n      <td>...</td>\n      <td>0</td>\n      <td>0</td>\n      <td>0</td>\n      <td>1</td>\n      <td>0</td>\n      <td>0</td>\n      <td>1</td>\n      <td>0</td>\n      <td>0</td>\n      <td>0</td>\n    </tr>\n    <tr>\n      <th>1068505</th>\n      <td>20000.0</td>\n      <td>20000.0</td>\n      <td>20000.0</td>\n      <td>36</td>\n      <td>13.05</td>\n      <td>674.37</td>\n      <td>0.0</td>\n      <td>60000.0</td>\n      <td>0</td>\n      <td>21.70</td>\n      <td>...</td>\n      <td>0</td>\n      <td>0</td>\n      <td>0</td>\n      <td>0</td>\n      <td>0</td>\n      <td>1</td>\n      <td>0</td>\n      <td>0</td>\n      <td>0</td>\n      <td>0</td>\n    </tr>\n    <tr>\n      <th>529302</th>\n      <td>6000.0</td>\n      <td>6000.0</td>\n      <td>6000.0</td>\n      <td>36</td>\n      <td>7.21</td>\n      <td>185.84</td>\n      <td>NaN</td>\n      <td>42000.0</td>\n      <td>0</td>\n      <td>22.51</td>\n      <td>...</td>\n      <td>0</td>\n      <td>0</td>\n      <td>0</td>\n      <td>0</td>\n      <td>0</td>\n      <td>0</td>\n      <td>1</td>\n      <td>0</td>\n      <td>0</td>\n      <td>0</td>\n    </tr>\n    <tr>\n      <th>246407</th>\n      <td>10000.0</td>\n      <td>10000.0</td>\n      <td>10000.0</td>\n      <td>36</td>\n      <td>7.26</td>\n      <td>309.97</td>\n      <td>3.0</td>\n      <td>75000.0</td>\n      <td>0</td>\n      <td>15.88</td>\n      <td>...</td>\n      <td>0</td>\n      <td>0</td>\n      <td>0</td>\n      <td>1</td>\n      <td>1</td>\n      <td>0</td>\n      <td>0</td>\n      <td>0</td>\n      <td>0</td>\n      <td>0</td>\n    </tr>\n  </tbody>\n</table>\n<p>10 rows × 100 columns</p>\n</div>"
     },
     "execution_count": 7,
     "metadata": {},
     "output_type": "execute_result"
    }
   ],
   "source": [
    "# Get categorical columns names\n",
    "categorical_columns = list(df.dtypes[df.dtypes == \"object\"].keys())\n",
    "# Transform those categorical columns using One Hot Encoding\n",
    "df = pd.get_dummies(data=df, columns=categorical_columns, drop_first=True)\n",
    "# Preview\n",
    "df.head(10)"
   ],
   "metadata": {
    "collapsed": false,
    "pycharm": {
     "name": "#%%\n"
    }
   }
  },
  {
   "cell_type": "code",
   "execution_count": 8,
   "outputs": [
    {
     "data": {
      "text/plain": "float64    87\nuint8      11\nint64       2\ndtype: int64"
     },
     "execution_count": 8,
     "metadata": {},
     "output_type": "execute_result"
    }
   ],
   "source": [
    "# Show types of columns and counter\n",
    "df.dtypes.value_counts()"
   ],
   "metadata": {
    "collapsed": false,
    "pycharm": {
     "name": "#%%\n"
    }
   }
  },
  {
   "cell_type": "code",
   "execution_count": 9,
   "outputs": [
    {
     "data": {
      "text/plain": "float64    100\ndtype: int64"
     },
     "execution_count": 9,
     "metadata": {},
     "output_type": "execute_result"
    }
   ],
   "source": [
    "# Convert all values to float\n",
    "df = df.astype(float)\n",
    "# Preview\n",
    "df.dtypes.value_counts()"
   ],
   "metadata": {
    "collapsed": false,
    "pycharm": {
     "name": "#%%\n"
    }
   }
  },
  {
   "cell_type": "markdown",
   "source": [
    "# Preprocessing"
   ],
   "metadata": {
    "collapsed": false,
    "pycharm": {
     "name": "#%% md\n"
    }
   }
  },
  {
   "cell_type": "code",
   "execution_count": 10,
   "outputs": [
    {
     "data": {
      "text/plain": "         loan_amnt  funded_amnt  funded_amnt_inv  term  int_rate  installment  \\\n241182      4500.0       4500.0           4500.0  36.0      6.24       137.39   \n326363     13925.0      13925.0          13925.0  60.0     10.99       302.70   \n818812     15000.0      15000.0          15000.0  36.0     12.49       501.74   \n1073559    10625.0      10625.0          10625.0  36.0     15.88       372.92   \n160434     27000.0      27000.0          27000.0  60.0     13.33       618.91   \n\n         emp_length  annual_inc  loan_status    dti  ...  home_ownership_NONE  \\\n241182          2.0     40000.0          0.0  12.60  ...                  0.0   \n326363          0.0     75000.0          0.0  19.07  ...                  0.0   \n818812          7.0     43000.0          0.0  17.30  ...                  0.0   \n1073559         7.0     75000.0          0.0  18.98  ...                  0.0   \n160434         10.0     65000.0          0.0  21.95  ...                  0.0   \n\n         home_ownership_OTHER  home_ownership_OWN  home_ownership_RENT  \\\n241182                    0.0                 0.0                  1.0   \n326363                    0.0                 0.0                  1.0   \n818812                    0.0                 0.0                  0.0   \n1073559                   0.0                 0.0                  0.0   \n160434                    0.0                 0.0                  1.0   \n\n         verification_status_Source Verified  verification_status_Verified  \\\n241182                                   1.0                           0.0   \n326363                                   0.0                           0.0   \n818812                                   0.0                           0.0   \n1073559                                  0.0                           0.0   \n160434                                   0.0                           0.0   \n\n         initial_list_status_w  application_type_Joint App  \\\n241182                     1.0                         0.0   \n326363                     1.0                         0.0   \n818812                     0.0                         0.0   \n1073559                    1.0                         0.0   \n160434                     1.0                         0.0   \n\n         disbursement_method_DirectPay  debt_settlement_flag_Y  \n241182                             0.0                     0.0  \n326363                             0.0                     0.0  \n818812                             0.0                     0.0  \n1073559                            0.0                     0.0  \n160434                             0.0                     0.0  \n\n[5 rows x 100 columns]",
      "text/html": "<div>\n<style scoped>\n    .dataframe tbody tr th:only-of-type {\n        vertical-align: middle;\n    }\n\n    .dataframe tbody tr th {\n        vertical-align: top;\n    }\n\n    .dataframe thead th {\n        text-align: right;\n    }\n</style>\n<table border=\"1\" class=\"dataframe\">\n  <thead>\n    <tr style=\"text-align: right;\">\n      <th></th>\n      <th>loan_amnt</th>\n      <th>funded_amnt</th>\n      <th>funded_amnt_inv</th>\n      <th>term</th>\n      <th>int_rate</th>\n      <th>installment</th>\n      <th>emp_length</th>\n      <th>annual_inc</th>\n      <th>loan_status</th>\n      <th>dti</th>\n      <th>...</th>\n      <th>home_ownership_NONE</th>\n      <th>home_ownership_OTHER</th>\n      <th>home_ownership_OWN</th>\n      <th>home_ownership_RENT</th>\n      <th>verification_status_Source Verified</th>\n      <th>verification_status_Verified</th>\n      <th>initial_list_status_w</th>\n      <th>application_type_Joint App</th>\n      <th>disbursement_method_DirectPay</th>\n      <th>debt_settlement_flag_Y</th>\n    </tr>\n  </thead>\n  <tbody>\n    <tr>\n      <th>241182</th>\n      <td>4500.0</td>\n      <td>4500.0</td>\n      <td>4500.0</td>\n      <td>36.0</td>\n      <td>6.24</td>\n      <td>137.39</td>\n      <td>2.0</td>\n      <td>40000.0</td>\n      <td>0.0</td>\n      <td>12.60</td>\n      <td>...</td>\n      <td>0.0</td>\n      <td>0.0</td>\n      <td>0.0</td>\n      <td>1.0</td>\n      <td>1.0</td>\n      <td>0.0</td>\n      <td>1.0</td>\n      <td>0.0</td>\n      <td>0.0</td>\n      <td>0.0</td>\n    </tr>\n    <tr>\n      <th>326363</th>\n      <td>13925.0</td>\n      <td>13925.0</td>\n      <td>13925.0</td>\n      <td>60.0</td>\n      <td>10.99</td>\n      <td>302.70</td>\n      <td>0.0</td>\n      <td>75000.0</td>\n      <td>0.0</td>\n      <td>19.07</td>\n      <td>...</td>\n      <td>0.0</td>\n      <td>0.0</td>\n      <td>0.0</td>\n      <td>1.0</td>\n      <td>0.0</td>\n      <td>0.0</td>\n      <td>1.0</td>\n      <td>0.0</td>\n      <td>0.0</td>\n      <td>0.0</td>\n    </tr>\n    <tr>\n      <th>818812</th>\n      <td>15000.0</td>\n      <td>15000.0</td>\n      <td>15000.0</td>\n      <td>36.0</td>\n      <td>12.49</td>\n      <td>501.74</td>\n      <td>7.0</td>\n      <td>43000.0</td>\n      <td>0.0</td>\n      <td>17.30</td>\n      <td>...</td>\n      <td>0.0</td>\n      <td>0.0</td>\n      <td>0.0</td>\n      <td>0.0</td>\n      <td>0.0</td>\n      <td>0.0</td>\n      <td>0.0</td>\n      <td>0.0</td>\n      <td>0.0</td>\n      <td>0.0</td>\n    </tr>\n    <tr>\n      <th>1073559</th>\n      <td>10625.0</td>\n      <td>10625.0</td>\n      <td>10625.0</td>\n      <td>36.0</td>\n      <td>15.88</td>\n      <td>372.92</td>\n      <td>7.0</td>\n      <td>75000.0</td>\n      <td>0.0</td>\n      <td>18.98</td>\n      <td>...</td>\n      <td>0.0</td>\n      <td>0.0</td>\n      <td>0.0</td>\n      <td>0.0</td>\n      <td>0.0</td>\n      <td>0.0</td>\n      <td>1.0</td>\n      <td>0.0</td>\n      <td>0.0</td>\n      <td>0.0</td>\n    </tr>\n    <tr>\n      <th>160434</th>\n      <td>27000.0</td>\n      <td>27000.0</td>\n      <td>27000.0</td>\n      <td>60.0</td>\n      <td>13.33</td>\n      <td>618.91</td>\n      <td>10.0</td>\n      <td>65000.0</td>\n      <td>0.0</td>\n      <td>21.95</td>\n      <td>...</td>\n      <td>0.0</td>\n      <td>0.0</td>\n      <td>0.0</td>\n      <td>1.0</td>\n      <td>0.0</td>\n      <td>0.0</td>\n      <td>1.0</td>\n      <td>0.0</td>\n      <td>0.0</td>\n      <td>0.0</td>\n    </tr>\n  </tbody>\n</table>\n<p>5 rows × 100 columns</p>\n</div>"
     },
     "execution_count": 10,
     "metadata": {},
     "output_type": "execute_result"
    }
   ],
   "source": [
    "# Fill NaNs with Median\n",
    "df = df.fillna(df.median())\n",
    "# Preview\n",
    "df.head(5)"
   ],
   "metadata": {
    "collapsed": false,
    "pycharm": {
     "name": "#%%\n"
    }
   }
  },
  {
   "cell_type": "markdown",
   "source": [
    "## Data Split"
   ],
   "metadata": {
    "collapsed": false,
    "pycharm": {
     "name": "#%% md\n"
    }
   }
  },
  {
   "cell_type": "code",
   "execution_count": 11,
   "outputs": [
    {
     "name": "stdout",
     "output_type": "stream",
     "text": [
      "Shape of X_train: (310766, 99)\n",
      "Shape of X_test: (133186, 99)\n",
      "Shape of y_train: (310766,)\n",
      "Shape of y_test: (133186,)\n"
     ]
    }
   ],
   "source": [
    "# Fraction of test data\n",
    "TEST_SIZE = 0.3\n",
    "\n",
    "X = df.drop(\"loan_status\", axis=1)\n",
    "y = df[\"loan_status\"]\n",
    "\n",
    "# Split data into train and test data\n",
    "X_train, X_test, y_train, y_test = train_test_split(X, y, test_size=TEST_SIZE, random_state=1997, stratify=y)\n",
    "\n",
    "print(f\"Shape of X_train: {X_train.shape}\")\n",
    "print(f\"Shape of X_test: {X_test.shape}\")\n",
    "print(f\"Shape of y_train: {y_train.shape}\")\n",
    "print(f\"Shape of y_test: {y_test.shape}\")"
   ],
   "metadata": {
    "collapsed": false,
    "pycharm": {
     "name": "#%%\n"
    }
   }
  },
  {
   "cell_type": "markdown",
   "source": [
    "## Scale Data"
   ],
   "metadata": {
    "collapsed": false,
    "pycharm": {
     "name": "#%% md\n"
    }
   }
  },
  {
   "cell_type": "code",
   "execution_count": 12,
   "outputs": [
    {
     "data": {
      "text/plain": "         0         1         2         3         4         5         6   \\\n0 -0.275994 -0.275202 -0.272636  1.776471  0.685929 -0.545980  0.007126   \n1 -0.370666 -0.369914 -0.367324 -0.562914  1.671941 -0.059356 -1.669521   \n2  0.183022  0.184006  0.183591  1.776471  0.160337 -0.250215  0.007126   \n3 -0.275994 -0.275202 -0.272636 -0.562914  0.774229 -0.039294  1.124891   \n4 -0.505502 -0.504806 -0.502184 -0.562914  0.500921 -0.336590  1.124891   \n\n         7         8         9   ...        89        90        91        92  \\\n0 -0.016835  1.194689 -0.361914  ... -0.006468 -0.009988 -0.347659 -0.810176   \n1 -0.627602 -0.458147  0.774014  ... -0.006468 -0.009988 -0.347659  1.234300   \n2  0.708385 -0.996733 -0.361914  ... -0.006468 -0.009988 -0.347659 -0.810176   \n3  0.316766 -0.003918  1.909941  ... -0.006468 -0.009988 -0.347659 -0.810176   \n4 -0.379446  1.337446 -0.361914  ... -0.006468 -0.009988 -0.347659  1.234300   \n\n         93        94        95        96        97        98  \n0 -0.794760  1.489767  0.846790 -0.138789 -0.070961 -0.160084  \n1 -0.794760  1.489767 -1.180931 -0.138789 -0.070961 -0.160084  \n2  1.258242 -0.671246 -1.180931 -0.138789 -0.070961 -0.160084  \n3 -0.794760 -0.671246  0.846790 -0.138789 -0.070961 -0.160084  \n4 -0.794760  1.489767  0.846790 -0.138789 -0.070961 -0.160084  \n\n[5 rows x 99 columns]",
      "text/html": "<div>\n<style scoped>\n    .dataframe tbody tr th:only-of-type {\n        vertical-align: middle;\n    }\n\n    .dataframe tbody tr th {\n        vertical-align: top;\n    }\n\n    .dataframe thead th {\n        text-align: right;\n    }\n</style>\n<table border=\"1\" class=\"dataframe\">\n  <thead>\n    <tr style=\"text-align: right;\">\n      <th></th>\n      <th>0</th>\n      <th>1</th>\n      <th>2</th>\n      <th>3</th>\n      <th>4</th>\n      <th>5</th>\n      <th>6</th>\n      <th>7</th>\n      <th>8</th>\n      <th>9</th>\n      <th>...</th>\n      <th>89</th>\n      <th>90</th>\n      <th>91</th>\n      <th>92</th>\n      <th>93</th>\n      <th>94</th>\n      <th>95</th>\n      <th>96</th>\n      <th>97</th>\n      <th>98</th>\n    </tr>\n  </thead>\n  <tbody>\n    <tr>\n      <th>0</th>\n      <td>-0.275994</td>\n      <td>-0.275202</td>\n      <td>-0.272636</td>\n      <td>1.776471</td>\n      <td>0.685929</td>\n      <td>-0.545980</td>\n      <td>0.007126</td>\n      <td>-0.016835</td>\n      <td>1.194689</td>\n      <td>-0.361914</td>\n      <td>...</td>\n      <td>-0.006468</td>\n      <td>-0.009988</td>\n      <td>-0.347659</td>\n      <td>-0.810176</td>\n      <td>-0.794760</td>\n      <td>1.489767</td>\n      <td>0.846790</td>\n      <td>-0.138789</td>\n      <td>-0.070961</td>\n      <td>-0.160084</td>\n    </tr>\n    <tr>\n      <th>1</th>\n      <td>-0.370666</td>\n      <td>-0.369914</td>\n      <td>-0.367324</td>\n      <td>-0.562914</td>\n      <td>1.671941</td>\n      <td>-0.059356</td>\n      <td>-1.669521</td>\n      <td>-0.627602</td>\n      <td>-0.458147</td>\n      <td>0.774014</td>\n      <td>...</td>\n      <td>-0.006468</td>\n      <td>-0.009988</td>\n      <td>-0.347659</td>\n      <td>1.234300</td>\n      <td>-0.794760</td>\n      <td>1.489767</td>\n      <td>-1.180931</td>\n      <td>-0.138789</td>\n      <td>-0.070961</td>\n      <td>-0.160084</td>\n    </tr>\n    <tr>\n      <th>2</th>\n      <td>0.183022</td>\n      <td>0.184006</td>\n      <td>0.183591</td>\n      <td>1.776471</td>\n      <td>0.160337</td>\n      <td>-0.250215</td>\n      <td>0.007126</td>\n      <td>0.708385</td>\n      <td>-0.996733</td>\n      <td>-0.361914</td>\n      <td>...</td>\n      <td>-0.006468</td>\n      <td>-0.009988</td>\n      <td>-0.347659</td>\n      <td>-0.810176</td>\n      <td>1.258242</td>\n      <td>-0.671246</td>\n      <td>-1.180931</td>\n      <td>-0.138789</td>\n      <td>-0.070961</td>\n      <td>-0.160084</td>\n    </tr>\n    <tr>\n      <th>3</th>\n      <td>-0.275994</td>\n      <td>-0.275202</td>\n      <td>-0.272636</td>\n      <td>-0.562914</td>\n      <td>0.774229</td>\n      <td>-0.039294</td>\n      <td>1.124891</td>\n      <td>0.316766</td>\n      <td>-0.003918</td>\n      <td>1.909941</td>\n      <td>...</td>\n      <td>-0.006468</td>\n      <td>-0.009988</td>\n      <td>-0.347659</td>\n      <td>-0.810176</td>\n      <td>-0.794760</td>\n      <td>-0.671246</td>\n      <td>0.846790</td>\n      <td>-0.138789</td>\n      <td>-0.070961</td>\n      <td>-0.160084</td>\n    </tr>\n    <tr>\n      <th>4</th>\n      <td>-0.505502</td>\n      <td>-0.504806</td>\n      <td>-0.502184</td>\n      <td>-0.562914</td>\n      <td>0.500921</td>\n      <td>-0.336590</td>\n      <td>1.124891</td>\n      <td>-0.379446</td>\n      <td>1.337446</td>\n      <td>-0.361914</td>\n      <td>...</td>\n      <td>-0.006468</td>\n      <td>-0.009988</td>\n      <td>-0.347659</td>\n      <td>1.234300</td>\n      <td>-0.794760</td>\n      <td>1.489767</td>\n      <td>0.846790</td>\n      <td>-0.138789</td>\n      <td>-0.070961</td>\n      <td>-0.160084</td>\n    </tr>\n  </tbody>\n</table>\n<p>5 rows × 99 columns</p>\n</div>"
     },
     "execution_count": 12,
     "metadata": {},
     "output_type": "execute_result"
    }
   ],
   "source": [
    "# Init object\n",
    "scaler = StandardScaler()\n",
    "# Scale X_train\n",
    "X_train_scaled = scaler.fit_transform(X_train)\n",
    "X_train_scaled = pd.DataFrame(X_train_scaled)\n",
    "X_train_scaled.head(5)"
   ],
   "metadata": {
    "collapsed": false,
    "pycharm": {
     "name": "#%%\n"
    }
   }
  },
  {
   "cell_type": "markdown",
   "source": [
    "# Fit Model"
   ],
   "metadata": {
    "collapsed": false,
    "pycharm": {
     "name": "#%% md\n"
    }
   }
  },
  {
   "cell_type": "code",
   "execution_count": 13,
   "outputs": [
    {
     "name": "stdout",
     "output_type": "stream",
     "text": [
      "Intercept: [-2.95539919]\n",
      "Coefficients: [[ 2.51282464e+00  2.55649916e+00  2.53033999e+00  5.78666368e-01\n",
      "  -8.07588482e-02  2.40214007e+00  1.40353735e-02 -1.43768360e-02\n",
      "   6.93716085e-02 -2.55294150e-02  3.31342138e-02  3.33067864e-02\n",
      "  -2.82857540e-03  2.12775978e-02 -1.56400125e-02  5.12961946e-03\n",
      "   1.33118988e-02 -6.56490120e-02  5.76919409e-02  0.00000000e+00\n",
      "   0.00000000e+00 -3.66970890e+00 -3.64093152e+00 -5.13399194e+00\n",
      "   1.72956835e+00  1.24758647e-01  3.09096157e+00  2.68430311e+00\n",
      "  -3.18387599e+00 -1.54725184e+00 -1.37215450e-02 -9.60064717e-03\n",
      "   4.58443278e-03  0.00000000e+00 -1.02574656e-02 -4.59207612e-03\n",
      "  -7.95531489e-02 -2.17962922e-02  3.63879098e-02 -1.10669517e-01\n",
      "   8.70835377e-02  5.90684058e-02 -4.84520506e-02  4.07794426e-03\n",
      "  -1.42961645e-02 -2.05037596e-03 -5.31577066e-02  2.39037287e-02\n",
      "   3.64287588e-02 -1.60700835e-02  1.88929387e-02  2.21272614e-02\n",
      "  -6.03971752e-02  1.79227787e-02  4.02374965e-02  2.94976352e-02\n",
      "  -7.07540403e-04 -2.76471270e-04  3.72871195e-03  1.26664935e-01\n",
      "  -7.43680851e-03 -1.20910494e-02 -3.09842530e-02  3.61800064e-02\n",
      "  -5.63300036e-03 -1.28446093e-02  7.07764254e-03  7.50920005e-03\n",
      "   2.08094522e-02  8.09782642e-03  2.16290186e-02  1.98009484e-02\n",
      "   5.97278945e-02 -6.88607957e-03 -4.53022287e-02  2.00435525e-02\n",
      "   9.00266360e-03 -1.37812800e-02  1.64508715e-02  2.25047160e-02\n",
      "   3.64790000e-02 -4.48155561e-02  8.39886903e-03 -1.52436261e-02\n",
      "  -1.93922678e-02 -1.13555164e-03  3.59288641e-02 -2.58442098e-02\n",
      "   1.32983883e-02  2.56180014e-03 -1.37324442e-02 -1.06669345e-02\n",
      "  -8.81259527e-03  2.92312278e-02  5.98624331e-02 -1.02133243e-02\n",
      "   8.55397070e-02 -2.81622367e-02  1.07974750e+00]]\n"
     ]
    },
    {
     "name": "stderr",
     "output_type": "stream",
     "text": [
      "/Library/Frameworks/Python.framework/Versions/3.8/lib/python3.8/site-packages/sklearn/linear_model/_sag.py:350: ConvergenceWarning: The max_iter was reached which means the coef_ did not converge\n",
      "  warnings.warn(\n"
     ]
    }
   ],
   "source": [
    "%%time\n",
    "lr = LogisticRegression(fit_intercept=True, max_iter=700, solver=\"saga\")\n",
    "lr.fit(X_train_scaled, y_train)\n",
    "\n",
    "# Print coefficients and intercept\n",
    "print(f\"Intercept: {lr.intercept_}\")\n",
    "print(f\"Coefficients: {lr.coef_}\")"
   ],
   "metadata": {
    "collapsed": false,
    "pycharm": {
     "name": "#%%\n"
    }
   }
  },
  {
   "cell_type": "markdown",
   "source": [
    "## Test Model"
   ],
   "metadata": {
    "collapsed": false,
    "pycharm": {
     "name": "#%% md\n"
    }
   }
  },
  {
   "cell_type": "code",
   "execution_count": 14,
   "outputs": [
    {
     "data": {
      "text/plain": "<Figure size 504x360 with 2 Axes>",
      "image/png": "[encoded data removed]"
     },
     "metadata": {},
     "output_type": "display_data"
    },
    {
     "name": "stdout",
     "output_type": "stream",
     "text": [
      "________________________________________________________________________________\n",
      "              precision    recall  f1-score   support\n",
      "\n",
      "         0.0       0.99      1.00      1.00    106584\n",
      "         1.0       1.00      0.98      0.99     26602\n",
      "\n",
      "    accuracy                           0.99    133186\n",
      "   macro avg       1.00      0.99      0.99    133186\n",
      "weighted avg       0.99      0.99      0.99    133186\n",
      "\n",
      "Information:\n",
      "Precision: Percentage of correct positive predictions relative to total positive predictions\n",
      "Recall: Percentage of correct positive predictions relative to total actual positives.\n",
      "F1 Score: A weighted harmonic mean of precision and recall. The closer to 1, the better the model.\n",
      "________________________________________________________________________________\n"
     ]
    }
   ],
   "source": [
    "# Scale Test Samples\n",
    "X_test_scaled = scaler.transform(X_test)\n",
    "\n",
    "# Predict in-sample values\n",
    "y_pred = lr.predict(X_test_scaled)\n",
    "\n",
    "# Plot Confusion matrics\n",
    "cm = confusion_matrix(y_true=y_test, y_pred=y_pred)\n",
    "\n",
    "# Heatmap plot settings\n",
    "plt.figure(figsize=(7,5))\n",
    "plt.title(\"Confusion matrix\")\n",
    "sns.heatmap(cm, annot=True, fmt='d')\n",
    "plt.xlabel(\"Predicted\")\n",
    "plt.ylabel(\"Actual\")\n",
    "plt.show()\n",
    "\n",
    "# Plot classification report\n",
    "print(80 * \"_\")\n",
    "print(classification_report(y_true=y_test, y_pred=y_pred))\n",
    "print(\"Information:\")\n",
    "print(\"Precision: Percentage of correct positive predictions relative to total positive predictions\")\n",
    "print(\"Recall: Percentage of correct positive predictions relative to total actual positives.\")\n",
    "print(\"F1 Score: A weighted harmonic mean of precision and recall. The closer to 1, the better the model.\")\n",
    "print(80 * \"_\")"
   ],
   "metadata": {
    "collapsed": false,
    "pycharm": {
     "name": "#%%\n"
    }
   }
  },
  {
   "cell_type": "code",
   "execution_count": 51,
   "outputs": [
    {
     "data": {
      "text/plain": "    P(y=0|x)  P(y=1|x)  y_pred  y_actual\n0    1.00000   0.00000     0.0       0.0\n1    0.99746   0.00254     0.0       0.0\n2    0.00001   0.99999     1.0       1.0\n3    0.99320   0.00680     0.0       0.0\n4    0.00060   0.99940     1.0       1.0\n5    1.00000   0.00000     0.0       0.0\n6    0.98618   0.01382     0.0       0.0\n7    0.99994   0.00006     0.0       0.0\n8    0.99788   0.00212     0.0       0.0\n9    0.00000   1.00000     1.0       1.0\n10   0.99142   0.00858     0.0       0.0\n11   0.99796   0.00204     0.0       0.0\n12   1.00000   0.00000     0.0       0.0\n13   0.00013   0.99987     1.0       1.0\n14   0.99330   0.00670     0.0       0.0\n15   1.00000   0.00000     0.0       0.0\n16   0.99360   0.00640     0.0       0.0\n17   0.00000   1.00000     1.0       1.0\n18   0.99590   0.00410     0.0       0.0\n19   1.00000   0.00000     0.0       0.0\n20   0.99818   0.00182     0.0       0.0\n21   0.96087   0.03913     0.0       0.0\n22   0.99919   0.00081     0.0       0.0\n23   0.98992   0.01008     0.0       0.0\n24   0.99646   0.00354     0.0       0.0\n25   0.99910   0.00090     0.0       0.0\n26   0.00000   1.00000     1.0       1.0\n27   0.99978   0.00022     0.0       0.0\n28   0.99378   0.00622     0.0       0.0\n29   0.11864   0.88136     1.0       1.0",
      "text/html": "<div>\n<style scoped>\n    .dataframe tbody tr th:only-of-type {\n        vertical-align: middle;\n    }\n\n    .dataframe tbody tr th {\n        vertical-align: top;\n    }\n\n    .dataframe thead th {\n        text-align: right;\n    }\n</style>\n<table border=\"1\" class=\"dataframe\">\n  <thead>\n    <tr style=\"text-align: right;\">\n      <th></th>\n      <th>P(y=0|x)</th>\n      <th>P(y=1|x)</th>\n      <th>y_pred</th>\n      <th>y_actual</th>\n    </tr>\n  </thead>\n  <tbody>\n    <tr>\n      <th>0</th>\n      <td>1.00000</td>\n      <td>0.00000</td>\n      <td>0.0</td>\n      <td>0.0</td>\n    </tr>\n    <tr>\n      <th>1</th>\n      <td>0.99746</td>\n      <td>0.00254</td>\n      <td>0.0</td>\n      <td>0.0</td>\n    </tr>\n    <tr>\n      <th>2</th>\n      <td>0.00001</td>\n      <td>0.99999</td>\n      <td>1.0</td>\n      <td>1.0</td>\n    </tr>\n    <tr>\n      <th>3</th>\n      <td>0.99320</td>\n      <td>0.00680</td>\n      <td>0.0</td>\n      <td>0.0</td>\n    </tr>\n    <tr>\n      <th>4</th>\n      <td>0.00060</td>\n      <td>0.99940</td>\n      <td>1.0</td>\n      <td>1.0</td>\n    </tr>\n    <tr>\n      <th>5</th>\n      <td>1.00000</td>\n      <td>0.00000</td>\n      <td>0.0</td>\n      <td>0.0</td>\n    </tr>\n    <tr>\n      <th>6</th>\n      <td>0.98618</td>\n      <td>0.01382</td>\n      <td>0.0</td>\n      <td>0.0</td>\n    </tr>\n    <tr>\n      <th>7</th>\n      <td>0.99994</td>\n      <td>0.00006</td>\n      <td>0.0</td>\n      <td>0.0</td>\n    </tr>\n    <tr>\n      <th>8</th>\n      <td>0.99788</td>\n      <td>0.00212</td>\n      <td>0.0</td>\n      <td>0.0</td>\n    </tr>\n    <tr>\n      <th>9</th>\n      <td>0.00000</td>\n      <td>1.00000</td>\n      <td>1.0</td>\n      <td>1.0</td>\n    </tr>\n    <tr>\n      <th>10</th>\n      <td>0.99142</td>\n      <td>0.00858</td>\n      <td>0.0</td>\n      <td>0.0</td>\n    </tr>\n    <tr>\n      <th>11</th>\n      <td>0.99796</td>\n      <td>0.00204</td>\n      <td>0.0</td>\n      <td>0.0</td>\n    </tr>\n    <tr>\n      <th>12</th>\n      <td>1.00000</td>\n      <td>0.00000</td>\n      <td>0.0</td>\n      <td>0.0</td>\n    </tr>\n    <tr>\n      <th>13</th>\n      <td>0.00013</td>\n      <td>0.99987</td>\n      <td>1.0</td>\n      <td>1.0</td>\n    </tr>\n    <tr>\n      <th>14</th>\n      <td>0.99330</td>\n      <td>0.00670</td>\n      <td>0.0</td>\n      <td>0.0</td>\n    </tr>\n    <tr>\n      <th>15</th>\n      <td>1.00000</td>\n      <td>0.00000</td>\n      <td>0.0</td>\n      <td>0.0</td>\n    </tr>\n    <tr>\n      <th>16</th>\n      <td>0.99360</td>\n      <td>0.00640</td>\n      <td>0.0</td>\n      <td>0.0</td>\n    </tr>\n    <tr>\n      <th>17</th>\n      <td>0.00000</td>\n      <td>1.00000</td>\n      <td>1.0</td>\n      <td>1.0</td>\n    </tr>\n    <tr>\n      <th>18</th>\n      <td>0.99590</td>\n      <td>0.00410</td>\n      <td>0.0</td>\n      <td>0.0</td>\n    </tr>\n    <tr>\n      <th>19</th>\n      <td>1.00000</td>\n      <td>0.00000</td>\n      <td>0.0</td>\n      <td>0.0</td>\n    </tr>\n    <tr>\n      <th>20</th>\n      <td>0.99818</td>\n      <td>0.00182</td>\n      <td>0.0</td>\n      <td>0.0</td>\n    </tr>\n    <tr>\n      <th>21</th>\n      <td>0.96087</td>\n      <td>0.03913</td>\n      <td>0.0</td>\n      <td>0.0</td>\n    </tr>\n    <tr>\n      <th>22</th>\n      <td>0.99919</td>\n      <td>0.00081</td>\n      <td>0.0</td>\n      <td>0.0</td>\n    </tr>\n    <tr>\n      <th>23</th>\n      <td>0.98992</td>\n      <td>0.01008</td>\n      <td>0.0</td>\n      <td>0.0</td>\n    </tr>\n    <tr>\n      <th>24</th>\n      <td>0.99646</td>\n      <td>0.00354</td>\n      <td>0.0</td>\n      <td>0.0</td>\n    </tr>\n    <tr>\n      <th>25</th>\n      <td>0.99910</td>\n      <td>0.00090</td>\n      <td>0.0</td>\n      <td>0.0</td>\n    </tr>\n    <tr>\n      <th>26</th>\n      <td>0.00000</td>\n      <td>1.00000</td>\n      <td>1.0</td>\n      <td>1.0</td>\n    </tr>\n    <tr>\n      <th>27</th>\n      <td>0.99978</td>\n      <td>0.00022</td>\n      <td>0.0</td>\n      <td>0.0</td>\n    </tr>\n    <tr>\n      <th>28</th>\n      <td>0.99378</td>\n      <td>0.00622</td>\n      <td>0.0</td>\n      <td>0.0</td>\n    </tr>\n    <tr>\n      <th>29</th>\n      <td>0.11864</td>\n      <td>0.88136</td>\n      <td>1.0</td>\n      <td>1.0</td>\n    </tr>\n  </tbody>\n</table>\n</div>"
     },
     "execution_count": 51,
     "metadata": {},
     "output_type": "execute_result"
    }
   ],
   "source": [
    "# Get Probability Predictions\n",
    "pred_proba = pd.DataFrame(lr.predict_proba(X_test_scaled), columns=[\"P(y=0|x)\", \"P(y=1|x)\"])\n",
    "# Round to 5 decimal places\n",
    "pred_proba = pred_proba.round(5)\n",
    "\n",
    "pred_proba[\"y_pred\"] = y_pred\n",
    "pred_proba[\"y_actual\"] = y_test.values\n",
    "\n",
    "pred_proba.head(30)"
   ],
   "metadata": {
    "collapsed": false,
    "pycharm": {
     "name": "#%%\n"
    }
   }
  }
 ],
 "metadata": {
  "kernelspec": {
   "display_name": "Python 3",
   "language": "python",
   "name": "python3"
  },
  "language_info": {
   "codemirror_mode": {
    "name": "ipython",
    "version": 2
   },
   "file_extension": ".py",
   "mimetype": "text/x-python",
   "name": "python",
   "nbconvert_exporter": "python",
   "pygments_lexer": "ipython2",
   "version": "2.7.6"
  }
 },
 "nbformat": 4,
 "nbformat_minor": 0
}