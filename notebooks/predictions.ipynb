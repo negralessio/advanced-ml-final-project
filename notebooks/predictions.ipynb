{
 "cells": [
  {
   "cell_type": "code",
   "execution_count": 1,
   "metadata": {
    "collapsed": false,
    "pycharm": {
     "name": "#%%\n"
    }
   },
   "outputs": [],
   "source": [
    "import pandas as pd\n",
    "import numpy as np\n",
    "import matplotlib.pyplot as plt\n",
    "import seaborn as sns\n",
    "from sklearn.utils import resample\n",
    "# For modeling\n",
    "from sklearn.linear_model import LogisticRegression\n",
    "from sklearn.ensemble import RandomForestClassifier, BaggingClassifier\n",
    "from sklearn.tree import DecisionTreeClassifier\n",
    "from sklearn.neural_network import MLPClassifier\n",
    "from sklearn.metrics import confusion_matrix, classification_report\n",
    "from sklearn.model_selection import cross_val_score, train_test_split\n",
    "from sklearn.preprocessing import StandardScaler, MinMaxScaler\n",
    "from sklearn.svm import SVC\n",
    "from sklearn.pipeline import Pipeline\n",
    "from tqdm.notebook import tqdm\n",
    "from matplotlib.colors import ListedColormap\n",
    "#sns.set_palette('viridis')\n",
    "pd.options.mode.chained_assignment = None  # Supress warning, default='warn'"
   ]
  },
  {
   "cell_type": "markdown",
   "metadata": {
    "collapsed": false,
    "pycharm": {
     "name": "#%% md\n"
    }
   },
   "source": [
    "# Read Data\n",
    "In this section we read the data (pickle file) after the preprocessing from the preprocessing notebook/part"
   ]
  },
  {
   "cell_type": "code",
   "execution_count": 2,
   "metadata": {
    "collapsed": false,
    "pycharm": {
     "name": "#%%\n"
    }
   },
   "outputs": [
    {
     "name": "stdout",
     "output_type": "stream",
     "text": [
      "Shape of df: (1345310, 101)\n"
     ]
    },
    {
     "data": {
      "text/plain": "   loan_amnt  funded_amnt  funded_amnt_inv term  int_rate  installment grade  \\\n0     3600.0       3600.0           3600.0   36     13.99       123.03     C   \n1    24700.0      24700.0          24700.0   36     11.99       820.28     C   \n2    20000.0      20000.0          20000.0   60     10.78       432.66     B   \n4    10400.0      10400.0          10400.0   60     22.45       289.91     F   \n5    11950.0      11950.0          11950.0   36     13.44       405.18     C   \n\n  sub_grade  emp_length home_ownership  ...  percent_bc_gt_75  \\\n0        C4        10.0       MORTGAGE  ...               0.0   \n1        C1        10.0       MORTGAGE  ...               7.7   \n2        B4        10.0       MORTGAGE  ...              50.0   \n4        F1         3.0       MORTGAGE  ...              60.0   \n5        C3         4.0           RENT  ...             100.0   \n\n  pub_rec_bankruptcies  tax_liens tot_hi_cred_lim total_bal_ex_mort  \\\n0                  0.0        0.0        178050.0            7746.0   \n1                  0.0        0.0        314017.0           39475.0   \n2                  0.0        0.0        218418.0           18696.0   \n4                  0.0        0.0        439570.0           95768.0   \n5                  0.0        0.0         16900.0           12798.0   \n\n  total_bc_limit  total_il_high_credit_limit  hardship_flag  \\\n0         2400.0                     13734.0              N   \n1        79300.0                     24667.0              N   \n2         6200.0                     14877.0              N   \n4        20300.0                     88097.0              N   \n5         9400.0                      4000.0              N   \n\n   disbursement_method  debt_settlement_flag  \n0                 Cash                     N  \n1                 Cash                     N  \n2                 Cash                     N  \n4                 Cash                     N  \n5                 Cash                     N  \n\n[5 rows x 101 columns]",
      "text/html": "<div>\n<style scoped>\n    .dataframe tbody tr th:only-of-type {\n        vertical-align: middle;\n    }\n\n    .dataframe tbody tr th {\n        vertical-align: top;\n    }\n\n    .dataframe thead th {\n        text-align: right;\n    }\n</style>\n<table border=\"1\" class=\"dataframe\">\n  <thead>\n    <tr style=\"text-align: right;\">\n      <th></th>\n      <th>loan_amnt</th>\n      <th>funded_amnt</th>\n      <th>funded_amnt_inv</th>\n      <th>term</th>\n      <th>int_rate</th>\n      <th>installment</th>\n      <th>grade</th>\n      <th>sub_grade</th>\n      <th>emp_length</th>\n      <th>home_ownership</th>\n      <th>...</th>\n      <th>percent_bc_gt_75</th>\n      <th>pub_rec_bankruptcies</th>\n      <th>tax_liens</th>\n      <th>tot_hi_cred_lim</th>\n      <th>total_bal_ex_mort</th>\n      <th>total_bc_limit</th>\n      <th>total_il_high_credit_limit</th>\n      <th>hardship_flag</th>\n      <th>disbursement_method</th>\n      <th>debt_settlement_flag</th>\n    </tr>\n  </thead>\n  <tbody>\n    <tr>\n      <th>0</th>\n      <td>3600.0</td>\n      <td>3600.0</td>\n      <td>3600.0</td>\n      <td>36</td>\n      <td>13.99</td>\n      <td>123.03</td>\n      <td>C</td>\n      <td>C4</td>\n      <td>10.0</td>\n      <td>MORTGAGE</td>\n      <td>...</td>\n      <td>0.0</td>\n      <td>0.0</td>\n      <td>0.0</td>\n      <td>178050.0</td>\n      <td>7746.0</td>\n      <td>2400.0</td>\n      <td>13734.0</td>\n      <td>N</td>\n      <td>Cash</td>\n      <td>N</td>\n    </tr>\n    <tr>\n      <th>1</th>\n      <td>24700.0</td>\n      <td>24700.0</td>\n      <td>24700.0</td>\n      <td>36</td>\n      <td>11.99</td>\n      <td>820.28</td>\n      <td>C</td>\n      <td>C1</td>\n      <td>10.0</td>\n      <td>MORTGAGE</td>\n      <td>...</td>\n      <td>7.7</td>\n      <td>0.0</td>\n      <td>0.0</td>\n      <td>314017.0</td>\n      <td>39475.0</td>\n      <td>79300.0</td>\n      <td>24667.0</td>\n      <td>N</td>\n      <td>Cash</td>\n      <td>N</td>\n    </tr>\n    <tr>\n      <th>2</th>\n      <td>20000.0</td>\n      <td>20000.0</td>\n      <td>20000.0</td>\n      <td>60</td>\n      <td>10.78</td>\n      <td>432.66</td>\n      <td>B</td>\n      <td>B4</td>\n      <td>10.0</td>\n      <td>MORTGAGE</td>\n      <td>...</td>\n      <td>50.0</td>\n      <td>0.0</td>\n      <td>0.0</td>\n      <td>218418.0</td>\n      <td>18696.0</td>\n      <td>6200.0</td>\n      <td>14877.0</td>\n      <td>N</td>\n      <td>Cash</td>\n      <td>N</td>\n    </tr>\n    <tr>\n      <th>4</th>\n      <td>10400.0</td>\n      <td>10400.0</td>\n      <td>10400.0</td>\n      <td>60</td>\n      <td>22.45</td>\n      <td>289.91</td>\n      <td>F</td>\n      <td>F1</td>\n      <td>3.0</td>\n      <td>MORTGAGE</td>\n      <td>...</td>\n      <td>60.0</td>\n      <td>0.0</td>\n      <td>0.0</td>\n      <td>439570.0</td>\n      <td>95768.0</td>\n      <td>20300.0</td>\n      <td>88097.0</td>\n      <td>N</td>\n      <td>Cash</td>\n      <td>N</td>\n    </tr>\n    <tr>\n      <th>5</th>\n      <td>11950.0</td>\n      <td>11950.0</td>\n      <td>11950.0</td>\n      <td>36</td>\n      <td>13.44</td>\n      <td>405.18</td>\n      <td>C</td>\n      <td>C3</td>\n      <td>4.0</td>\n      <td>RENT</td>\n      <td>...</td>\n      <td>100.0</td>\n      <td>0.0</td>\n      <td>0.0</td>\n      <td>16900.0</td>\n      <td>12798.0</td>\n      <td>9400.0</td>\n      <td>4000.0</td>\n      <td>N</td>\n      <td>Cash</td>\n      <td>N</td>\n    </tr>\n  </tbody>\n</table>\n<p>5 rows × 101 columns</p>\n</div>"
     },
     "execution_count": 2,
     "metadata": {},
     "output_type": "execute_result"
    }
   ],
   "source": [
    "df = pd.read_pickle('../data/preprocessed/accepted_df_preprocessed.pkl')\n",
    "print(f\"Shape of df: {df.shape}\")\n",
    "df.head(5)"
   ]
  },
  {
   "cell_type": "markdown",
   "source": [
    "# TAKE SUBSAMPLE OF DATA FOR COMPUTATION ISSUES (TODO: DELETE THIS LATER)"
   ],
   "metadata": {
    "collapsed": false,
    "pycharm": {
     "name": "#%% md\n"
    }
   }
  },
  {
   "cell_type": "code",
   "execution_count": 3,
   "outputs": [
    {
     "name": "stdout",
     "output_type": "stream",
     "text": [
      "(134531, 101)\n"
     ]
    }
   ],
   "source": [
    "df = df.sample(frac = 0.1)\n",
    "print(df.shape)"
   ],
   "metadata": {
    "collapsed": false,
    "pycharm": {
     "name": "#%%\n"
    }
   }
  },
  {
   "cell_type": "markdown",
   "source": [
    "# Model Preprocessing: Encode Features from categorical to numerical\n",
    "In this section we prepare our data set for modeling through fixing the inbalancement of our data, encoding categorical data, dropping features that are only apriori the application known etc..."
   ],
   "metadata": {
    "collapsed": false,
    "pycharm": {
     "name": "#%% md\n"
    }
   }
  },
  {
   "cell_type": "markdown",
   "source": [
    "## Drop columns for prediction\n",
    "In this small section we drop features that we do not have prior the lending application. We consulted the data dictionary table and analyzed which columns to keep and which to drop. Note that this requires a lot of domain knowledge."
   ],
   "metadata": {
    "collapsed": false,
    "pycharm": {
     "name": "#%% md\n"
    }
   }
  },
  {
   "cell_type": "code",
   "execution_count": 4,
   "outputs": [
    {
     "name": "stdout",
     "output_type": "stream",
     "text": [
      "Cols to drop: ['funded_amnt', 'funded_amnt_inv', 'pymnt_plan', 'delinq_2yrs', 'inq_last_6mths', 'mths_since_last_delinq', 'out_prncp', 'out_prncp_inv', 'total_pymnt', 'total_pymnt_inv', 'total_rec_prncp', 'total_rec_int', 'total_rec_late_fee', 'recoveries', 'collection_recovery_fee', 'last_pymnt_amnt', 'last_fico_range_high', 'last_fico_range_low', 'collections_12_mths_ex_med', 'mths_since_last_major_derog', 'policy_code', 'acc_now_delinq', 'tot_coll_amt', 'tot_cur_bal', 'open_acc_6m', 'open_act_il', 'open_il_12m', 'open_il_24m', 'mths_since_rcnt_il', 'total_bal_il', 'il_util', 'open_rv_12m', 'open_rv_24m', 'max_bal_bc', 'all_util', 'total_rev_hi_lim', 'inq_fi', 'total_cu_tl', 'inq_last_12m', 'acc_open_past_24mths', 'avg_cur_bal', 'bc_open_to_buy', 'bc_util', 'chargeoff_within_12_mths', 'delinq_amnt', 'mo_sin_old_il_acct', 'mo_sin_old_rev_tl_op', 'mo_sin_rcnt_rev_tl_op', 'mo_sin_rcnt_tl', 'mths_since_recent_bc', 'mths_since_recent_inq', 'mths_since_recent_revol_delinq', 'num_accts_ever_120_pd', 'num_actv_bc_tl', 'num_actv_rev_tl', 'num_bc_sats', 'num_bc_tl', 'num_il_tl', 'num_op_rev_tl', 'num_rev_accts', 'num_rev_tl_bal_gt_0', 'num_sats', 'num_tl_120dpd_2m', 'num_tl_30dpd', 'num_tl_90g_dpd_24m', 'num_tl_op_past_12m', 'pct_tl_nvr_dlq', 'percent_bc_gt_75', 'tax_liens', 'tot_hi_cred_lim', 'total_bal_ex_mort', 'total_bc_limit', 'total_il_high_credit_limit', 'hardship_flag', 'disbursement_method', 'debt_settlement_flag']\n",
      "Shape of df after drop: (134531, 25)\n"
     ]
    }
   ],
   "source": [
    "keep_list = ['addr_state', 'annual_inc', 'application_type', 'dti', 'earliest_cr_line', 'emp_length', 'emp_title', 'fico_range_high', 'fico_range_low', 'grade', 'home_ownership', 'id', 'initial_list_status', 'installment', 'int_rate', 'issue_d', 'loan_amnt', 'loan_status', 'mort_acc', 'open_acc', 'pub_rec', 'pub_rec_bankruptcies', 'purpose', 'revol_bal', 'revol_util', 'sub_grade', 'term', 'title', 'total_acc', 'verification_status', 'zip_code']\n",
    "\n",
    "cols_to_drop = [col for col in df.columns if col not in keep_list]\n",
    "print(f\"Cols to drop: {cols_to_drop}\")\n",
    "df.drop(cols_to_drop, axis=1, inplace=True)\n",
    "print(f\"Shape of df after drop: {df.shape}\")"
   ],
   "metadata": {
    "collapsed": false,
    "pycharm": {
     "name": "#%%\n"
    }
   }
  },
  {
   "cell_type": "code",
   "execution_count": 5,
   "outputs": [
    {
     "name": "stdout",
     "output_type": "stream",
     "text": [
      "float64    15\n",
      "object      9\n",
      "int64       1\n",
      "dtype: int64\n",
      "['term', 'grade', 'sub_grade', 'home_ownership', 'verification_status', 'purpose', 'addr_state', 'initial_list_status', 'application_type']\n"
     ]
    }
   ],
   "source": [
    "# Preview categorical data\n",
    "print(df.dtypes.value_counts())\n",
    "# Get categorical columns names\n",
    "cat_columns = df.select_dtypes(include=['object']).columns.tolist()\n",
    "# Preview\n",
    "print(cat_columns)"
   ],
   "metadata": {
    "collapsed": false,
    "pycharm": {
     "name": "#%%\n"
    }
   }
  },
  {
   "cell_type": "markdown",
   "source": [
    "### Deleted irrelevant categorical features\n",
    "Delete categorical features that are not relevant for the Modelling or contain too many realization so that encoding them would be infeasible."
   ],
   "metadata": {
    "collapsed": false,
    "pycharm": {
     "name": "#%% md\n"
    }
   }
  },
  {
   "cell_type": "code",
   "execution_count": 6,
   "outputs": [
    {
     "name": "stdout",
     "output_type": "stream",
     "text": [
      "Categorical Columns to drop: ['sub_grade', 'purpose', 'addr_state']\n",
      "\n",
      "Shape of df before columns drop: (134531, 25)\n",
      "Shape of df after columns drop: (134531, 22)\n"
     ]
    }
   ],
   "source": [
    "# Define categorical columns from cat_columns to keep here\n",
    "CAT_COLS_TO_KEEP = [\"term\", \"home_ownership\", \"grade\", \"verification_status\", \"application_type\", \"initial_list_status\"]\n",
    "CAT_COLS_TO_DROP = [col for col in cat_columns if col not in CAT_COLS_TO_KEEP]\n",
    "\n",
    "print(f\"Categorical Columns to drop: {CAT_COLS_TO_DROP}\\n\")\n",
    "print(f\"Shape of df before columns drop: {df.shape}\")\n",
    "# Drop irrelevant categorical features\n",
    "df.drop(CAT_COLS_TO_DROP, axis=1, inplace=True)\n",
    "print(f\"Shape of df after columns drop: {df.shape}\")"
   ],
   "metadata": {
    "collapsed": false,
    "pycharm": {
     "name": "#%%\n"
    }
   }
  },
  {
   "cell_type": "markdown",
   "source": [
    "## Preview of the remaining categorical features"
   ],
   "metadata": {
    "collapsed": false,
    "pycharm": {
     "name": "#%% md\n"
    }
   }
  },
  {
   "cell_type": "code",
   "execution_count": 7,
   "outputs": [
    {
     "name": "stdout",
     "output_type": "stream",
     "text": [
      "float64    15\n",
      "object      6\n",
      "int64       1\n",
      "dtype: int64\n"
     ]
    },
    {
     "data": {
      "text/plain": "        term grade home_ownership verification_status initial_list_status  \\\n1090551   36     E           RENT            Verified                   w   \n1858548   36     D           RENT            Verified                   f   \n549091    36     A           RENT        Not Verified                   w   \n1242574   60     E       MORTGAGE     Source Verified                   f   \n1836085   60     C           RENT            Verified                   f   \n...      ...   ...            ...                 ...                 ...   \n57877     36     D       MORTGAGE     Source Verified                   w   \n1963965   60     D            OWN            Verified                   f   \n42491     36     B           RENT        Not Verified                   w   \n1309880   36     A           RENT     Source Verified                   f   \n2227874   60     D       MORTGAGE        Not Verified                   w   \n\n        application_type  \n1090551       Individual  \n1858548       Individual  \n549091        Individual  \n1242574       Individual  \n1836085       Individual  \n...                  ...  \n57877         Individual  \n1963965       Individual  \n42491         Individual  \n1309880       Individual  \n2227874       Individual  \n\n[134531 rows x 6 columns]",
      "text/html": "<div>\n<style scoped>\n    .dataframe tbody tr th:only-of-type {\n        vertical-align: middle;\n    }\n\n    .dataframe tbody tr th {\n        vertical-align: top;\n    }\n\n    .dataframe thead th {\n        text-align: right;\n    }\n</style>\n<table border=\"1\" class=\"dataframe\">\n  <thead>\n    <tr style=\"text-align: right;\">\n      <th></th>\n      <th>term</th>\n      <th>grade</th>\n      <th>home_ownership</th>\n      <th>verification_status</th>\n      <th>initial_list_status</th>\n      <th>application_type</th>\n    </tr>\n  </thead>\n  <tbody>\n    <tr>\n      <th>1090551</th>\n      <td>36</td>\n      <td>E</td>\n      <td>RENT</td>\n      <td>Verified</td>\n      <td>w</td>\n      <td>Individual</td>\n    </tr>\n    <tr>\n      <th>1858548</th>\n      <td>36</td>\n      <td>D</td>\n      <td>RENT</td>\n      <td>Verified</td>\n      <td>f</td>\n      <td>Individual</td>\n    </tr>\n    <tr>\n      <th>549091</th>\n      <td>36</td>\n      <td>A</td>\n      <td>RENT</td>\n      <td>Not Verified</td>\n      <td>w</td>\n      <td>Individual</td>\n    </tr>\n    <tr>\n      <th>1242574</th>\n      <td>60</td>\n      <td>E</td>\n      <td>MORTGAGE</td>\n      <td>Source Verified</td>\n      <td>f</td>\n      <td>Individual</td>\n    </tr>\n    <tr>\n      <th>1836085</th>\n      <td>60</td>\n      <td>C</td>\n      <td>RENT</td>\n      <td>Verified</td>\n      <td>f</td>\n      <td>Individual</td>\n    </tr>\n    <tr>\n      <th>...</th>\n      <td>...</td>\n      <td>...</td>\n      <td>...</td>\n      <td>...</td>\n      <td>...</td>\n      <td>...</td>\n    </tr>\n    <tr>\n      <th>57877</th>\n      <td>36</td>\n      <td>D</td>\n      <td>MORTGAGE</td>\n      <td>Source Verified</td>\n      <td>w</td>\n      <td>Individual</td>\n    </tr>\n    <tr>\n      <th>1963965</th>\n      <td>60</td>\n      <td>D</td>\n      <td>OWN</td>\n      <td>Verified</td>\n      <td>f</td>\n      <td>Individual</td>\n    </tr>\n    <tr>\n      <th>42491</th>\n      <td>36</td>\n      <td>B</td>\n      <td>RENT</td>\n      <td>Not Verified</td>\n      <td>w</td>\n      <td>Individual</td>\n    </tr>\n    <tr>\n      <th>1309880</th>\n      <td>36</td>\n      <td>A</td>\n      <td>RENT</td>\n      <td>Source Verified</td>\n      <td>f</td>\n      <td>Individual</td>\n    </tr>\n    <tr>\n      <th>2227874</th>\n      <td>60</td>\n      <td>D</td>\n      <td>MORTGAGE</td>\n      <td>Not Verified</td>\n      <td>w</td>\n      <td>Individual</td>\n    </tr>\n  </tbody>\n</table>\n<p>134531 rows × 6 columns</p>\n</div>"
     },
     "execution_count": 7,
     "metadata": {},
     "output_type": "execute_result"
    }
   ],
   "source": [
    "print(df.dtypes.value_counts())\n",
    "df.select_dtypes(\"object\")"
   ],
   "metadata": {
    "collapsed": false,
    "pycharm": {
     "name": "#%%\n"
    }
   }
  },
  {
   "cell_type": "markdown",
   "source": [
    "## Create Dummy Variables"
   ],
   "metadata": {
    "collapsed": false,
    "pycharm": {
     "name": "#%% md\n"
    }
   }
  },
  {
   "cell_type": "code",
   "execution_count": 8,
   "outputs": [
    {
     "data": {
      "text/plain": "float64    15\nint64      15\ndtype: int64"
     },
     "execution_count": 8,
     "metadata": {},
     "output_type": "execute_result"
    }
   ],
   "source": [
    "# Binary Encoding\n",
    "import category_encoders as ce\n",
    "encoder = ce.BinaryEncoder(cols=CAT_COLS_TO_KEEP)\n",
    "df_binary = encoder.fit_transform(df)\n",
    "# check\n",
    "df_binary.dtypes.value_counts()"
   ],
   "metadata": {
    "collapsed": false,
    "pycharm": {
     "name": "#%%\n"
    }
   }
  },
  {
   "cell_type": "code",
   "execution_count": 9,
   "outputs": [
    {
     "data": {
      "text/plain": "float64    30\ndtype: int64"
     },
     "execution_count": 9,
     "metadata": {},
     "output_type": "execute_result"
    }
   ],
   "source": [
    "# Convert all values to float\n",
    "df_binary = df_binary.astype(float)\n",
    "df_binary.dtypes.value_counts()"
   ],
   "metadata": {
    "collapsed": false,
    "pycharm": {
     "name": "#%%\n"
    }
   }
  },
  {
   "cell_type": "markdown",
   "source": [
    "## Preview preprocessed dataframe:"
   ],
   "metadata": {
    "collapsed": false,
    "pycharm": {
     "name": "#%% md\n"
    }
   }
  },
  {
   "cell_type": "code",
   "execution_count": 10,
   "outputs": [
    {
     "data": {
      "text/plain": "         loan_amnt  term_0  term_1  int_rate  installment  grade_0  grade_1  \\\n1090551     7250.0     0.0     1.0     18.99       265.72      0.0      0.0   \n1858548    35000.0     0.0     1.0     17.77      1261.30      0.0      1.0   \n549091      6400.0     0.0     1.0      7.97       200.47      0.0      1.0   \n1242574    29975.0     1.0     0.0     20.20       797.50      0.0      0.0   \n1836085    14125.0     1.0     0.0     15.31       338.34      1.0      0.0   \n2253220    30000.0     0.0     1.0     17.99      1084.43      0.0      1.0   \n366312     10000.0     0.0     1.0     11.53       329.91      1.0      0.0   \n1005518    12000.0     0.0     1.0      6.97       370.37      0.0      1.0   \n966490     17400.0     1.0     0.0     14.99       413.86      1.0      0.0   \n2002150     4825.0     0.0     1.0     15.59       168.66      1.0      0.0   \n\n         grade_2  emp_length  home_ownership_0  ...  pub_rec  revol_bal  \\\n1090551      1.0        10.0               0.0  ...      0.0    15567.0   \n1858548      0.0         4.0               0.0  ...      1.0    19975.0   \n549091       1.0         6.0               0.0  ...      0.0     3216.0   \n1242574      1.0        10.0               0.0  ...      0.0    13452.0   \n1836085      0.0        10.0               0.0  ...      1.0     6350.0   \n2253220      0.0         0.0               0.0  ...      0.0    16896.0   \n366312       1.0         5.0               0.0  ...      0.0    10781.0   \n1005518      1.0         8.0               0.0  ...      0.0    15086.0   \n966490       0.0         3.0               0.0  ...      0.0     7597.0   \n2002150      0.0        10.0               0.0  ...      0.0     3555.0   \n\n         revol_util  total_acc  initial_list_status_0  initial_list_status_1  \\\n1090551        94.9       16.0                    0.0                    1.0   \n1858548        91.6       17.0                    1.0                    0.0   \n549091          6.7       51.0                    0.0                    1.0   \n1242574        48.6       38.0                    1.0                    0.0   \n1836085        48.1       32.0                    1.0                    0.0   \n2253220        49.5       30.0                    0.0                    1.0   \n366312         39.8       51.0                    1.0                    0.0   \n1005518        36.0       20.0                    0.0                    1.0   \n966490         38.4       30.0                    0.0                    1.0   \n2002150        71.1       12.0                    0.0                    1.0   \n\n         application_type_0  application_type_1  mort_acc  \\\n1090551                 0.0                 1.0       0.0   \n1858548                 0.0                 1.0       1.0   \n549091                  0.0                 1.0       0.0   \n1242574                 0.0                 1.0       6.0   \n1836085                 0.0                 1.0       5.0   \n2253220                 0.0                 1.0       4.0   \n366312                  0.0                 1.0       0.0   \n1005518                 0.0                 1.0       0.0   \n966490                  0.0                 1.0       3.0   \n2002150                 0.0                 1.0       0.0   \n\n         pub_rec_bankruptcies  \n1090551                   0.0  \n1858548                   0.0  \n549091                    0.0  \n1242574                   0.0  \n1836085                   1.0  \n2253220                   0.0  \n366312                    0.0  \n1005518                   0.0  \n966490                    0.0  \n2002150                   0.0  \n\n[10 rows x 30 columns]",
      "text/html": "<div>\n<style scoped>\n    .dataframe tbody tr th:only-of-type {\n        vertical-align: middle;\n    }\n\n    .dataframe tbody tr th {\n        vertical-align: top;\n    }\n\n    .dataframe thead th {\n        text-align: right;\n    }\n</style>\n<table border=\"1\" class=\"dataframe\">\n  <thead>\n    <tr style=\"text-align: right;\">\n      <th></th>\n      <th>loan_amnt</th>\n      <th>term_0</th>\n      <th>term_1</th>\n      <th>int_rate</th>\n      <th>installment</th>\n      <th>grade_0</th>\n      <th>grade_1</th>\n      <th>grade_2</th>\n      <th>emp_length</th>\n      <th>home_ownership_0</th>\n      <th>...</th>\n      <th>pub_rec</th>\n      <th>revol_bal</th>\n      <th>revol_util</th>\n      <th>total_acc</th>\n      <th>initial_list_status_0</th>\n      <th>initial_list_status_1</th>\n      <th>application_type_0</th>\n      <th>application_type_1</th>\n      <th>mort_acc</th>\n      <th>pub_rec_bankruptcies</th>\n    </tr>\n  </thead>\n  <tbody>\n    <tr>\n      <th>1090551</th>\n      <td>7250.0</td>\n      <td>0.0</td>\n      <td>1.0</td>\n      <td>18.99</td>\n      <td>265.72</td>\n      <td>0.0</td>\n      <td>0.0</td>\n      <td>1.0</td>\n      <td>10.0</td>\n      <td>0.0</td>\n      <td>...</td>\n      <td>0.0</td>\n      <td>15567.0</td>\n      <td>94.9</td>\n      <td>16.0</td>\n      <td>0.0</td>\n      <td>1.0</td>\n      <td>0.0</td>\n      <td>1.0</td>\n      <td>0.0</td>\n      <td>0.0</td>\n    </tr>\n    <tr>\n      <th>1858548</th>\n      <td>35000.0</td>\n      <td>0.0</td>\n      <td>1.0</td>\n      <td>17.77</td>\n      <td>1261.30</td>\n      <td>0.0</td>\n      <td>1.0</td>\n      <td>0.0</td>\n      <td>4.0</td>\n      <td>0.0</td>\n      <td>...</td>\n      <td>1.0</td>\n      <td>19975.0</td>\n      <td>91.6</td>\n      <td>17.0</td>\n      <td>1.0</td>\n      <td>0.0</td>\n      <td>0.0</td>\n      <td>1.0</td>\n      <td>1.0</td>\n      <td>0.0</td>\n    </tr>\n    <tr>\n      <th>549091</th>\n      <td>6400.0</td>\n      <td>0.0</td>\n      <td>1.0</td>\n      <td>7.97</td>\n      <td>200.47</td>\n      <td>0.0</td>\n      <td>1.0</td>\n      <td>1.0</td>\n      <td>6.0</td>\n      <td>0.0</td>\n      <td>...</td>\n      <td>0.0</td>\n      <td>3216.0</td>\n      <td>6.7</td>\n      <td>51.0</td>\n      <td>0.0</td>\n      <td>1.0</td>\n      <td>0.0</td>\n      <td>1.0</td>\n      <td>0.0</td>\n      <td>0.0</td>\n    </tr>\n    <tr>\n      <th>1242574</th>\n      <td>29975.0</td>\n      <td>1.0</td>\n      <td>0.0</td>\n      <td>20.20</td>\n      <td>797.50</td>\n      <td>0.0</td>\n      <td>0.0</td>\n      <td>1.0</td>\n      <td>10.0</td>\n      <td>0.0</td>\n      <td>...</td>\n      <td>0.0</td>\n      <td>13452.0</td>\n      <td>48.6</td>\n      <td>38.0</td>\n      <td>1.0</td>\n      <td>0.0</td>\n      <td>0.0</td>\n      <td>1.0</td>\n      <td>6.0</td>\n      <td>0.0</td>\n    </tr>\n    <tr>\n      <th>1836085</th>\n      <td>14125.0</td>\n      <td>1.0</td>\n      <td>0.0</td>\n      <td>15.31</td>\n      <td>338.34</td>\n      <td>1.0</td>\n      <td>0.0</td>\n      <td>0.0</td>\n      <td>10.0</td>\n      <td>0.0</td>\n      <td>...</td>\n      <td>1.0</td>\n      <td>6350.0</td>\n      <td>48.1</td>\n      <td>32.0</td>\n      <td>1.0</td>\n      <td>0.0</td>\n      <td>0.0</td>\n      <td>1.0</td>\n      <td>5.0</td>\n      <td>1.0</td>\n    </tr>\n    <tr>\n      <th>2253220</th>\n      <td>30000.0</td>\n      <td>0.0</td>\n      <td>1.0</td>\n      <td>17.99</td>\n      <td>1084.43</td>\n      <td>0.0</td>\n      <td>1.0</td>\n      <td>0.0</td>\n      <td>0.0</td>\n      <td>0.0</td>\n      <td>...</td>\n      <td>0.0</td>\n      <td>16896.0</td>\n      <td>49.5</td>\n      <td>30.0</td>\n      <td>0.0</td>\n      <td>1.0</td>\n      <td>0.0</td>\n      <td>1.0</td>\n      <td>4.0</td>\n      <td>0.0</td>\n    </tr>\n    <tr>\n      <th>366312</th>\n      <td>10000.0</td>\n      <td>0.0</td>\n      <td>1.0</td>\n      <td>11.53</td>\n      <td>329.91</td>\n      <td>1.0</td>\n      <td>0.0</td>\n      <td>1.0</td>\n      <td>5.0</td>\n      <td>0.0</td>\n      <td>...</td>\n      <td>0.0</td>\n      <td>10781.0</td>\n      <td>39.8</td>\n      <td>51.0</td>\n      <td>1.0</td>\n      <td>0.0</td>\n      <td>0.0</td>\n      <td>1.0</td>\n      <td>0.0</td>\n      <td>0.0</td>\n    </tr>\n    <tr>\n      <th>1005518</th>\n      <td>12000.0</td>\n      <td>0.0</td>\n      <td>1.0</td>\n      <td>6.97</td>\n      <td>370.37</td>\n      <td>0.0</td>\n      <td>1.0</td>\n      <td>1.0</td>\n      <td>8.0</td>\n      <td>0.0</td>\n      <td>...</td>\n      <td>0.0</td>\n      <td>15086.0</td>\n      <td>36.0</td>\n      <td>20.0</td>\n      <td>0.0</td>\n      <td>1.0</td>\n      <td>0.0</td>\n      <td>1.0</td>\n      <td>0.0</td>\n      <td>0.0</td>\n    </tr>\n    <tr>\n      <th>966490</th>\n      <td>17400.0</td>\n      <td>1.0</td>\n      <td>0.0</td>\n      <td>14.99</td>\n      <td>413.86</td>\n      <td>1.0</td>\n      <td>0.0</td>\n      <td>0.0</td>\n      <td>3.0</td>\n      <td>0.0</td>\n      <td>...</td>\n      <td>0.0</td>\n      <td>7597.0</td>\n      <td>38.4</td>\n      <td>30.0</td>\n      <td>0.0</td>\n      <td>1.0</td>\n      <td>0.0</td>\n      <td>1.0</td>\n      <td>3.0</td>\n      <td>0.0</td>\n    </tr>\n    <tr>\n      <th>2002150</th>\n      <td>4825.0</td>\n      <td>0.0</td>\n      <td>1.0</td>\n      <td>15.59</td>\n      <td>168.66</td>\n      <td>1.0</td>\n      <td>0.0</td>\n      <td>0.0</td>\n      <td>10.0</td>\n      <td>0.0</td>\n      <td>...</td>\n      <td>0.0</td>\n      <td>3555.0</td>\n      <td>71.1</td>\n      <td>12.0</td>\n      <td>0.0</td>\n      <td>1.0</td>\n      <td>0.0</td>\n      <td>1.0</td>\n      <td>0.0</td>\n      <td>0.0</td>\n    </tr>\n  </tbody>\n</table>\n<p>10 rows × 30 columns</p>\n</div>"
     },
     "execution_count": 10,
     "metadata": {},
     "output_type": "execute_result"
    }
   ],
   "source": [
    "df_binary.head(10)"
   ],
   "metadata": {
    "collapsed": false,
    "pycharm": {
     "name": "#%%\n"
    }
   }
  },
  {
   "cell_type": "markdown",
   "source": [
    "## Create Balanced Data Set via Downsampling"
   ],
   "metadata": {
    "collapsed": false,
    "pycharm": {
     "name": "#%% md\n"
    }
   }
  },
  {
   "cell_type": "code",
   "execution_count": 11,
   "outputs": [
    {
     "name": "stdout",
     "output_type": "stream",
     "text": [
      "0.0    107619\n",
      "1.0     26912\n",
      "Name: loan_status, dtype: int64\n",
      "(134531, 30)\n"
     ]
    },
    {
     "data": {
      "text/plain": "<Figure size 432x288 with 1 Axes>",
      "image/png": "[encoded data removed]"
     },
     "metadata": {},
     "output_type": "display_data"
    }
   ],
   "source": [
    "print(df_binary.loan_status.value_counts())\n",
    "print(df_binary.shape)\n",
    "\n",
    "plt.title(\"Distribution of the target variable\", size=15)\n",
    "df_binary.groupby('loan_status').size().plot(kind='pie', y = \"loan_status\",\n",
    "                                             label = \"Type\", autopct='%1.1f%%',\n",
    "                                             wedgeprops = {\"edgecolor\": \"black\", \"alpha\": 0.75},\n",
    "                                             explode = [0.05, 0.05])\n",
    "plt.show()"
   ],
   "metadata": {
    "collapsed": false,
    "pycharm": {
     "name": "#%%\n"
    }
   }
  },
  {
   "cell_type": "code",
   "execution_count": 12,
   "outputs": [
    {
     "name": "stdout",
     "output_type": "stream",
     "text": [
      "0.0    34986\n",
      "1.0    26912\n",
      "Name: loan_status, dtype: int64\n"
     ]
    },
    {
     "data": {
      "text/plain": "<Figure size 432x288 with 1 Axes>",
      "image/png": "[encoded data removed]"
     },
     "metadata": {},
     "output_type": "display_data"
    }
   ],
   "source": [
    "# Downsampling\n",
    "loan_status_0 = df_binary[df_binary[\"loan_status\"] == 0.0]\n",
    "loan_status_1  = df_binary[df_binary[\"loan_status\"] == 1.0]\n",
    "\n",
    "loan_status_0_downsample = resample(loan_status_0,\n",
    "             replace=True,\n",
    "             n_samples=round(1.3*len(loan_status_1)),\n",
    "             random_state=42)\n",
    "\n",
    "df_binary_downsampled = pd.concat([loan_status_0_downsample, loan_status_1])\n",
    "\n",
    "print(df_binary_downsampled[\"loan_status\"].value_counts())\n",
    "# Plot settings\n",
    "plt.title(\"Distribution of the target variable\", size=15)\n",
    "df_binary_downsampled.groupby('loan_status').size().plot(kind='pie', y = \"loan_status\",\n",
    "                                             label = \"Type\", autopct='%1.1f%%',\n",
    "                                             wedgeprops = {\"edgecolor\": \"black\", \"alpha\": 0.75},\n",
    "                                             explode = [0.03, 0.03])\n",
    "plt.show()"
   ],
   "metadata": {
    "collapsed": false,
    "pycharm": {
     "name": "#%%\n"
    }
   }
  },
  {
   "cell_type": "markdown",
   "source": [
    "## Data Imputation\n",
    "Since we still have some NaNs in our feature, we replace them by taking the median values."
   ],
   "metadata": {
    "collapsed": false,
    "pycharm": {
     "name": "#%% md\n"
    }
   }
  },
  {
   "cell_type": "code",
   "execution_count": 13,
   "outputs": [
    {
     "data": {
      "text/plain": "         loan_amnt  term_0  term_1  int_rate  installment  grade_0  grade_1  \\\n168996     10275.0     0.0     1.0     11.53       338.98      1.0      0.0   \n1318124    14400.0     0.0     1.0     18.25       522.41      0.0      1.0   \n900582     13300.0     1.0     0.0     24.85       389.21      0.0      0.0   \n961883     16800.0     1.0     0.0     18.99       435.71      0.0      1.0   \n1318800    10500.0     0.0     1.0      9.67       337.19      1.0      0.0   \n\n         grade_2  emp_length  home_ownership_0  ...  pub_rec  revol_bal  \\\n168996       1.0         8.0               0.0  ...      0.0    10245.0   \n1318124      0.0         0.0               0.0  ...      0.0    11255.0   \n900582       1.0         5.0               0.0  ...      0.0     8992.0   \n961883       0.0        10.0               0.0  ...      0.0     8164.0   \n1318800      1.0        10.0               0.0  ...      0.0    14548.0   \n\n         revol_util  total_acc  initial_list_status_0  initial_list_status_1  \\\n168996         21.6       29.0                    0.0                    1.0   \n1318124        75.0       39.0                    0.0                    1.0   \n900582         68.6       28.0                    1.0                    0.0   \n961883         34.6       21.0                    0.0                    1.0   \n1318800        46.8       30.0                    1.0                    0.0   \n\n         application_type_0  application_type_1  mort_acc  \\\n168996                  0.0                 1.0       1.0   \n1318124                 0.0                 1.0       3.0   \n900582                  0.0                 1.0       0.0   \n961883                  0.0                 1.0       4.0   \n1318800                 0.0                 1.0       1.0   \n\n         pub_rec_bankruptcies  \n168996                    0.0  \n1318124                   0.0  \n900582                    0.0  \n961883                    0.0  \n1318800                   0.0  \n\n[5 rows x 30 columns]",
      "text/html": "<div>\n<style scoped>\n    .dataframe tbody tr th:only-of-type {\n        vertical-align: middle;\n    }\n\n    .dataframe tbody tr th {\n        vertical-align: top;\n    }\n\n    .dataframe thead th {\n        text-align: right;\n    }\n</style>\n<table border=\"1\" class=\"dataframe\">\n  <thead>\n    <tr style=\"text-align: right;\">\n      <th></th>\n      <th>loan_amnt</th>\n      <th>term_0</th>\n      <th>term_1</th>\n      <th>int_rate</th>\n      <th>installment</th>\n      <th>grade_0</th>\n      <th>grade_1</th>\n      <th>grade_2</th>\n      <th>emp_length</th>\n      <th>home_ownership_0</th>\n      <th>...</th>\n      <th>pub_rec</th>\n      <th>revol_bal</th>\n      <th>revol_util</th>\n      <th>total_acc</th>\n      <th>initial_list_status_0</th>\n      <th>initial_list_status_1</th>\n      <th>application_type_0</th>\n      <th>application_type_1</th>\n      <th>mort_acc</th>\n      <th>pub_rec_bankruptcies</th>\n    </tr>\n  </thead>\n  <tbody>\n    <tr>\n      <th>168996</th>\n      <td>10275.0</td>\n      <td>0.0</td>\n      <td>1.0</td>\n      <td>11.53</td>\n      <td>338.98</td>\n      <td>1.0</td>\n      <td>0.0</td>\n      <td>1.0</td>\n      <td>8.0</td>\n      <td>0.0</td>\n      <td>...</td>\n      <td>0.0</td>\n      <td>10245.0</td>\n      <td>21.6</td>\n      <td>29.0</td>\n      <td>0.0</td>\n      <td>1.0</td>\n      <td>0.0</td>\n      <td>1.0</td>\n      <td>1.0</td>\n      <td>0.0</td>\n    </tr>\n    <tr>\n      <th>1318124</th>\n      <td>14400.0</td>\n      <td>0.0</td>\n      <td>1.0</td>\n      <td>18.25</td>\n      <td>522.41</td>\n      <td>0.0</td>\n      <td>1.0</td>\n      <td>0.0</td>\n      <td>0.0</td>\n      <td>0.0</td>\n      <td>...</td>\n      <td>0.0</td>\n      <td>11255.0</td>\n      <td>75.0</td>\n      <td>39.0</td>\n      <td>0.0</td>\n      <td>1.0</td>\n      <td>0.0</td>\n      <td>1.0</td>\n      <td>3.0</td>\n      <td>0.0</td>\n    </tr>\n    <tr>\n      <th>900582</th>\n      <td>13300.0</td>\n      <td>1.0</td>\n      <td>0.0</td>\n      <td>24.85</td>\n      <td>389.21</td>\n      <td>0.0</td>\n      <td>0.0</td>\n      <td>1.0</td>\n      <td>5.0</td>\n      <td>0.0</td>\n      <td>...</td>\n      <td>0.0</td>\n      <td>8992.0</td>\n      <td>68.6</td>\n      <td>28.0</td>\n      <td>1.0</td>\n      <td>0.0</td>\n      <td>0.0</td>\n      <td>1.0</td>\n      <td>0.0</td>\n      <td>0.0</td>\n    </tr>\n    <tr>\n      <th>961883</th>\n      <td>16800.0</td>\n      <td>1.0</td>\n      <td>0.0</td>\n      <td>18.99</td>\n      <td>435.71</td>\n      <td>0.0</td>\n      <td>1.0</td>\n      <td>0.0</td>\n      <td>10.0</td>\n      <td>0.0</td>\n      <td>...</td>\n      <td>0.0</td>\n      <td>8164.0</td>\n      <td>34.6</td>\n      <td>21.0</td>\n      <td>0.0</td>\n      <td>1.0</td>\n      <td>0.0</td>\n      <td>1.0</td>\n      <td>4.0</td>\n      <td>0.0</td>\n    </tr>\n    <tr>\n      <th>1318800</th>\n      <td>10500.0</td>\n      <td>0.0</td>\n      <td>1.0</td>\n      <td>9.67</td>\n      <td>337.19</td>\n      <td>1.0</td>\n      <td>0.0</td>\n      <td>1.0</td>\n      <td>10.0</td>\n      <td>0.0</td>\n      <td>...</td>\n      <td>0.0</td>\n      <td>14548.0</td>\n      <td>46.8</td>\n      <td>30.0</td>\n      <td>1.0</td>\n      <td>0.0</td>\n      <td>0.0</td>\n      <td>1.0</td>\n      <td>1.0</td>\n      <td>0.0</td>\n    </tr>\n  </tbody>\n</table>\n<p>5 rows × 30 columns</p>\n</div>"
     },
     "execution_count": 13,
     "metadata": {},
     "output_type": "execute_result"
    }
   ],
   "source": [
    "# Fill NaNs with Median\n",
    "df_binary_downsampled = df_binary_downsampled.fillna(df_binary_downsampled.median())\n",
    "# Preview\n",
    "df_binary_downsampled.head(5)"
   ],
   "metadata": {
    "collapsed": false,
    "pycharm": {
     "name": "#%%\n"
    }
   }
  },
  {
   "cell_type": "markdown",
   "source": [
    "## Data Split\n",
    "In this section we split the data into a training and test set. The corresponding model is then trained on the training set and tested on the test set."
   ],
   "metadata": {
    "collapsed": false,
    "pycharm": {
     "name": "#%% md\n"
    }
   }
  },
  {
   "cell_type": "code",
   "execution_count": 14,
   "outputs": [
    {
     "name": "stdout",
     "output_type": "stream",
     "text": [
      "Shape of X_train: (43328, 29)\n",
      "Shape of X_test: (18570, 29)\n",
      "Shape of y_train: (43328,)\n",
      "Shape of y_test: (18570,)\n"
     ]
    }
   ],
   "source": [
    "# Fraction of test data\n",
    "TEST_SIZE = 0.3\n",
    "\n",
    "X = df_binary_downsampled.drop(\"loan_status\", axis=1)\n",
    "y = df_binary_downsampled[\"loan_status\"]\n",
    "\n",
    "# Split data into train and test data\n",
    "X_train, X_test, y_train, y_test = train_test_split(X, y, test_size=TEST_SIZE, random_state=42, stratify=y)\n",
    "\n",
    "print(f\"Shape of X_train: {X_train.shape}\")\n",
    "print(f\"Shape of X_test: {X_test.shape}\")\n",
    "print(f\"Shape of y_train: {y_train.shape}\")\n",
    "print(f\"Shape of y_test: {y_test.shape}\")"
   ],
   "metadata": {
    "collapsed": false,
    "pycharm": {
     "name": "#%%\n"
    }
   }
  },
  {
   "cell_type": "markdown",
   "source": [
    "## Scaling\n",
    "We scale the data with the MinMaxScaler to a range of $[0, 1]$"
   ],
   "metadata": {
    "collapsed": false,
    "pycharm": {
     "name": "#%% md\n"
    }
   }
  },
  {
   "cell_type": "code",
   "execution_count": 15,
   "outputs": [
    {
     "data": {
      "text/plain": "         0    1    2         3         4    5    6    7    8    9   ...  \\\n0  0.230769  0.0  1.0  0.114097  0.171871  1.0  0.0  1.0  1.0  0.0  ...   \n1  0.615385  1.0  0.0  0.357477  0.333704  1.0  0.0  0.0  1.0  0.0  ...   \n2  0.589744  1.0  0.0  0.407321  0.329345  0.0  1.0  0.0  0.1  0.0  ...   \n3  0.230769  0.0  1.0  0.028037  0.165885  0.0  1.0  1.0  0.1  0.0  ...   \n4  0.487179  1.0  0.0  0.488707  0.285361  0.0  1.0  0.0  0.0  0.0  ...   \n5  0.153846  0.0  1.0  0.287383  0.124752  1.0  0.0  0.0  0.2  0.0  ...   \n6  0.384615  0.0  1.0  0.532710  0.332722  0.0  1.0  0.0  0.6  0.0  ...   \n7  0.030769  0.0  1.0  0.201713  0.028149  1.0  0.0  1.0  1.0  0.0  ...   \n8  0.320513  1.0  0.0  0.221184  0.159438  1.0  0.0  1.0  0.5  0.0  ...   \n9  0.512821  1.0  0.0  0.948598  0.385223  1.0  1.0  1.0  1.0  0.0  ...   \n\n         19        20        21        22   23   24   25   26        27  \\\n0  0.000000  0.002760  0.180810  0.203252  0.0  1.0  0.0  1.0  0.000000   \n1  0.000000  0.006477  0.318358  0.227642  0.0  1.0  0.0  1.0  0.039216   \n2  0.000000  0.010990  0.142540  0.430894  0.0  1.0  0.0  1.0  0.058824   \n3  0.000000  0.003415  0.035496  0.406504  0.0  1.0  0.0  1.0  0.078431   \n4  0.000000  0.005714  0.205214  0.219512  1.0  0.0  0.0  1.0  0.000000   \n5  0.035714  0.006297  0.421520  0.105691  0.0  1.0  0.0  1.0  0.039216   \n6  0.000000  0.006175  0.436495  0.317073  1.0  0.0  0.0  1.0  0.000000   \n7  0.000000  0.013781  0.454243  0.105691  1.0  0.0  0.0  1.0  0.000000   \n8  0.000000  0.007855  0.301719  0.097561  0.0  1.0  0.0  1.0  0.039216   \n9  0.000000  0.033985  0.412091  0.211382  1.0  0.0  0.0  1.0  0.078431   \n\n         28  \n0  0.000000  \n1  0.000000  \n2  0.000000  \n3  0.000000  \n4  0.000000  \n5  0.083333  \n6  0.000000  \n7  0.000000  \n8  0.000000  \n9  0.000000  \n\n[10 rows x 29 columns]",
      "text/html": "<div>\n<style scoped>\n    .dataframe tbody tr th:only-of-type {\n        vertical-align: middle;\n    }\n\n    .dataframe tbody tr th {\n        vertical-align: top;\n    }\n\n    .dataframe thead th {\n        text-align: right;\n    }\n</style>\n<table border=\"1\" class=\"dataframe\">\n  <thead>\n    <tr style=\"text-align: right;\">\n      <th></th>\n      <th>0</th>\n      <th>1</th>\n      <th>2</th>\n      <th>3</th>\n      <th>4</th>\n      <th>5</th>\n      <th>6</th>\n      <th>7</th>\n      <th>8</th>\n      <th>9</th>\n      <th>...</th>\n      <th>19</th>\n      <th>20</th>\n      <th>21</th>\n      <th>22</th>\n      <th>23</th>\n      <th>24</th>\n      <th>25</th>\n      <th>26</th>\n      <th>27</th>\n      <th>28</th>\n    </tr>\n  </thead>\n  <tbody>\n    <tr>\n      <th>0</th>\n      <td>0.230769</td>\n      <td>0.0</td>\n      <td>1.0</td>\n      <td>0.114097</td>\n      <td>0.171871</td>\n      <td>1.0</td>\n      <td>0.0</td>\n      <td>1.0</td>\n      <td>1.0</td>\n      <td>0.0</td>\n      <td>...</td>\n      <td>0.000000</td>\n      <td>0.002760</td>\n      <td>0.180810</td>\n      <td>0.203252</td>\n      <td>0.0</td>\n      <td>1.0</td>\n      <td>0.0</td>\n      <td>1.0</td>\n      <td>0.000000</td>\n      <td>0.000000</td>\n    </tr>\n    <tr>\n      <th>1</th>\n      <td>0.615385</td>\n      <td>1.0</td>\n      <td>0.0</td>\n      <td>0.357477</td>\n      <td>0.333704</td>\n      <td>1.0</td>\n      <td>0.0</td>\n      <td>0.0</td>\n      <td>1.0</td>\n      <td>0.0</td>\n      <td>...</td>\n      <td>0.000000</td>\n      <td>0.006477</td>\n      <td>0.318358</td>\n      <td>0.227642</td>\n      <td>0.0</td>\n      <td>1.0</td>\n      <td>0.0</td>\n      <td>1.0</td>\n      <td>0.039216</td>\n      <td>0.000000</td>\n    </tr>\n    <tr>\n      <th>2</th>\n      <td>0.589744</td>\n      <td>1.0</td>\n      <td>0.0</td>\n      <td>0.407321</td>\n      <td>0.329345</td>\n      <td>0.0</td>\n      <td>1.0</td>\n      <td>0.0</td>\n      <td>0.1</td>\n      <td>0.0</td>\n      <td>...</td>\n      <td>0.000000</td>\n      <td>0.010990</td>\n      <td>0.142540</td>\n      <td>0.430894</td>\n      <td>0.0</td>\n      <td>1.0</td>\n      <td>0.0</td>\n      <td>1.0</td>\n      <td>0.058824</td>\n      <td>0.000000</td>\n    </tr>\n    <tr>\n      <th>3</th>\n      <td>0.230769</td>\n      <td>0.0</td>\n      <td>1.0</td>\n      <td>0.028037</td>\n      <td>0.165885</td>\n      <td>0.0</td>\n      <td>1.0</td>\n      <td>1.0</td>\n      <td>0.1</td>\n      <td>0.0</td>\n      <td>...</td>\n      <td>0.000000</td>\n      <td>0.003415</td>\n      <td>0.035496</td>\n      <td>0.406504</td>\n      <td>0.0</td>\n      <td>1.0</td>\n      <td>0.0</td>\n      <td>1.0</td>\n      <td>0.078431</td>\n      <td>0.000000</td>\n    </tr>\n    <tr>\n      <th>4</th>\n      <td>0.487179</td>\n      <td>1.0</td>\n      <td>0.0</td>\n      <td>0.488707</td>\n      <td>0.285361</td>\n      <td>0.0</td>\n      <td>1.0</td>\n      <td>0.0</td>\n      <td>0.0</td>\n      <td>0.0</td>\n      <td>...</td>\n      <td>0.000000</td>\n      <td>0.005714</td>\n      <td>0.205214</td>\n      <td>0.219512</td>\n      <td>1.0</td>\n      <td>0.0</td>\n      <td>0.0</td>\n      <td>1.0</td>\n      <td>0.000000</td>\n      <td>0.000000</td>\n    </tr>\n    <tr>\n      <th>5</th>\n      <td>0.153846</td>\n      <td>0.0</td>\n      <td>1.0</td>\n      <td>0.287383</td>\n      <td>0.124752</td>\n      <td>1.0</td>\n      <td>0.0</td>\n      <td>0.0</td>\n      <td>0.2</td>\n      <td>0.0</td>\n      <td>...</td>\n      <td>0.035714</td>\n      <td>0.006297</td>\n      <td>0.421520</td>\n      <td>0.105691</td>\n      <td>0.0</td>\n      <td>1.0</td>\n      <td>0.0</td>\n      <td>1.0</td>\n      <td>0.039216</td>\n      <td>0.083333</td>\n    </tr>\n    <tr>\n      <th>6</th>\n      <td>0.384615</td>\n      <td>0.0</td>\n      <td>1.0</td>\n      <td>0.532710</td>\n      <td>0.332722</td>\n      <td>0.0</td>\n      <td>1.0</td>\n      <td>0.0</td>\n      <td>0.6</td>\n      <td>0.0</td>\n      <td>...</td>\n      <td>0.000000</td>\n      <td>0.006175</td>\n      <td>0.436495</td>\n      <td>0.317073</td>\n      <td>1.0</td>\n      <td>0.0</td>\n      <td>0.0</td>\n      <td>1.0</td>\n      <td>0.000000</td>\n      <td>0.000000</td>\n    </tr>\n    <tr>\n      <th>7</th>\n      <td>0.030769</td>\n      <td>0.0</td>\n      <td>1.0</td>\n      <td>0.201713</td>\n      <td>0.028149</td>\n      <td>1.0</td>\n      <td>0.0</td>\n      <td>1.0</td>\n      <td>1.0</td>\n      <td>0.0</td>\n      <td>...</td>\n      <td>0.000000</td>\n      <td>0.013781</td>\n      <td>0.454243</td>\n      <td>0.105691</td>\n      <td>1.0</td>\n      <td>0.0</td>\n      <td>0.0</td>\n      <td>1.0</td>\n      <td>0.000000</td>\n      <td>0.000000</td>\n    </tr>\n    <tr>\n      <th>8</th>\n      <td>0.320513</td>\n      <td>1.0</td>\n      <td>0.0</td>\n      <td>0.221184</td>\n      <td>0.159438</td>\n      <td>1.0</td>\n      <td>0.0</td>\n      <td>1.0</td>\n      <td>0.5</td>\n      <td>0.0</td>\n      <td>...</td>\n      <td>0.000000</td>\n      <td>0.007855</td>\n      <td>0.301719</td>\n      <td>0.097561</td>\n      <td>0.0</td>\n      <td>1.0</td>\n      <td>0.0</td>\n      <td>1.0</td>\n      <td>0.039216</td>\n      <td>0.000000</td>\n    </tr>\n    <tr>\n      <th>9</th>\n      <td>0.512821</td>\n      <td>1.0</td>\n      <td>0.0</td>\n      <td>0.948598</td>\n      <td>0.385223</td>\n      <td>1.0</td>\n      <td>1.0</td>\n      <td>1.0</td>\n      <td>1.0</td>\n      <td>0.0</td>\n      <td>...</td>\n      <td>0.000000</td>\n      <td>0.033985</td>\n      <td>0.412091</td>\n      <td>0.211382</td>\n      <td>1.0</td>\n      <td>0.0</td>\n      <td>0.0</td>\n      <td>1.0</td>\n      <td>0.078431</td>\n      <td>0.000000</td>\n    </tr>\n  </tbody>\n</table>\n<p>10 rows × 29 columns</p>\n</div>"
     },
     "execution_count": 15,
     "metadata": {},
     "output_type": "execute_result"
    }
   ],
   "source": [
    "# Init object\n",
    "scaler = MinMaxScaler()\n",
    "# Scale X_train\n",
    "X_train_scaled = scaler.fit_transform(X_train)\n",
    "X_train_scaled = pd.DataFrame(X_train_scaled)\n",
    "# Scale X_test\n",
    "X_test_scaled = scaler.transform(X_test)\n",
    "X_test_scaled = pd.DataFrame(X_test_scaled)\n",
    "\n",
    "# Preview X_train_scaled\n",
    "X_train_scaled.head(10)"
   ],
   "metadata": {
    "collapsed": false,
    "pycharm": {
     "name": "#%%\n"
    }
   }
  },
  {
   "cell_type": "markdown",
   "source": [
    "---\n",
    "# Task 3: Logistic Regression In Sample\n",
    "Use logistic regression (in-sample) for default prediction. Interpret your results for logistic regression"
   ],
   "metadata": {
    "collapsed": false,
    "pycharm": {
     "name": "#%% md\n"
    }
   }
  },
  {
   "cell_type": "code",
   "execution_count": 16,
   "outputs": [],
   "source": [
    "# Fit Model\n",
    "lr = LogisticRegression(max_iter=1000)\n",
    "lr.fit(X_train_scaled, y_train)\n",
    "\n",
    "# Predict In Sample\n",
    "y_pred = lr.predict(X_train_scaled)"
   ],
   "metadata": {
    "collapsed": false,
    "pycharm": {
     "name": "#%%\n"
    }
   }
  },
  {
   "cell_type": "markdown",
   "source": [
    "## Test Model"
   ],
   "metadata": {
    "collapsed": false,
    "pycharm": {
     "name": "#%% md\n"
    }
   }
  },
  {
   "cell_type": "code",
   "execution_count": 17,
   "outputs": [
    {
     "data": {
      "text/plain": "<Figure size 432x288 with 2 Axes>",
      "image/png": "[encoded data removed]"
     },
     "metadata": {},
     "output_type": "display_data"
    },
    {
     "name": "stdout",
     "output_type": "stream",
     "text": [
      "________________________________________________________________________________\n",
      "              precision    recall  f1-score   support\n",
      "\n",
      "         0.0       0.67      0.75      0.71     24490\n",
      "         1.0       0.62      0.53      0.57     18838\n",
      "\n",
      "    accuracy                           0.65     43328\n",
      "   macro avg       0.65      0.64      0.64     43328\n",
      "weighted avg       0.65      0.65      0.65     43328\n",
      "\n",
      "Information:\n",
      "Precision: Percentage of correct positive predictions relative to total positive predictions\n",
      "Recall: Percentage of correct positive predictions relative to total actual positives.\n",
      "F1 Score: A weighted harmonic mean of precision and recall. The closer to 1, the better the model.\n",
      "________________________________________________________________________________\n"
     ]
    }
   ],
   "source": [
    "# Plot Confusion matrics\n",
    "cm = confusion_matrix(y_true=y_train, y_pred=y_pred)\n",
    "sns.heatmap(cm, annot=True, fmt='d')\n",
    "plt.title(\"Confusion matrix\")\n",
    "plt.xlabel(\"Predicted\")\n",
    "plt.ylabel(\"Actual\")\n",
    "plt.show()\n",
    "\n",
    "# Plot classification report\n",
    "print(80 * \"_\")\n",
    "print(classification_report(y_true=y_train, y_pred=y_pred))\n",
    "print(\"Information:\")\n",
    "print(\"Precision: Percentage of correct positive predictions relative to total positive predictions\")\n",
    "print(\"Recall: Percentage of correct positive predictions relative to total actual positives.\")\n",
    "print(\"F1 Score: A weighted harmonic mean of precision and recall. The closer to 1, the better the model.\")\n",
    "print(80 * \"_\")"
   ],
   "metadata": {
    "collapsed": false,
    "pycharm": {
     "name": "#%%\n"
    }
   }
  },
  {
   "cell_type": "markdown",
   "source": [
    "---\n",
    "# Task 4: Compare different classification models\n",
    "Comparing\n",
    "* logistic regression,\n",
    "* classification tree,\n",
    "* random forest,\n",
    "* bagging,\n",
    "* support vector machine (with two kernel functions),\n",
    "* and neural network\n",
    "for default prediction based on the out-of-sample performance measures (at least three different measures)."
   ],
   "metadata": {
    "collapsed": false,
    "pycharm": {
     "name": "#%% md\n"
    }
   }
  },
  {
   "cell_type": "code",
   "execution_count": 24,
   "outputs": [
    {
     "data": {
      "text/plain": "  0%|          | 0/7 [00:00<?, ?it/s]",
      "application/vnd.jupyter.widget-view+json": {
       "version_major": 2,
       "version_minor": 0,
       "model_id": "5c4b5efa08754385ab2de227a6f26f81"
      }
     },
     "metadata": {},
     "output_type": "display_data"
    },
    {
     "name": "stdout",
     "output_type": "stream",
     "text": [
      "LogisticRegression 0.6534111913636157\n",
      "DecisionTree 0.5987352162719389\n",
      "RandomForest 0.6700515789970227\n",
      "BaggingCLF 0.6371397917651214\n",
      "SVC_rbf 0.5389341513167647\n",
      "SVC_linear 0.47198030819028985\n",
      "NeuronalNetwork 0.6496030463357608\n",
      "CPU times: user 238 ms, sys: 103 ms, total: 341 ms\n",
      "Wall time: 28.9 s\n"
     ]
    }
   ],
   "source": [
    "%%time\n",
    "models = []\n",
    "\n",
    "models.append((\"LogisticRegression\",LogisticRegression(fit_intercept=True, max_iter=1000, solver=\"saga\")))\n",
    "models.append((\"DecisionTree\",DecisionTreeClassifier()))\n",
    "models.append((\"RandomForest\",RandomForestClassifier()))\n",
    "models.append((\"BaggingCLF\",BaggingClassifier()))\n",
    "models.append((\"SVC_rbf\",SVC(kernel='rbf', max_iter=500)))\n",
    "models.append((\"SVC_linear\",SVC(kernel=\"linear\", max_iter=500)))\n",
    "models.append((\"NeuronalNetwork\", MLPClassifier(alpha=1, max_iter=1000)))\n",
    "\n",
    "results = []\n",
    "names = []\n",
    "for name, model in tqdm(models):\n",
    "    result = cross_val_score(model, X_train_scaled, y_train,  cv=3, n_jobs=-1)\n",
    "    names.append(name)\n",
    "    results.append(result)\n",
    "\n",
    "for i in range(len(names)):\n",
    "    print(names[i],results[i].mean())"
   ],
   "metadata": {
    "collapsed": false,
    "pycharm": {
     "name": "#%%\n"
    }
   }
  },
  {
   "cell_type": "code",
   "execution_count": 25,
   "outputs": [
    {
     "data": {
      "text/plain": "<Figure size 1080x504 with 1 Axes>",
      "image/png": "[encoded data removed]"
     },
     "metadata": {},
     "output_type": "display_data"
    }
   ],
   "source": [
    "# Boxplot algorithm comparison\n",
    "fig = plt.figure(figsize=(15,7))\n",
    "fig.suptitle('Algorithm Comparison', size=16)\n",
    "ax = fig.add_subplot(111)\n",
    "plt.boxplot(results)\n",
    "ax.set_xticklabels(names)\n",
    "plt.show()"
   ],
   "metadata": {
    "collapsed": false,
    "pycharm": {
     "name": "#%%\n"
    }
   }
  }
 ],
 "metadata": {
  "kernelspec": {
   "name": "python3",
   "language": "python",
   "display_name": "Python 3 (ipykernel)"
  },
  "language_info": {
   "codemirror_mode": {
    "name": "ipython",
    "version": 2
   },
   "file_extension": ".py",
   "mimetype": "text/x-python",
   "name": "python",
   "nbconvert_exporter": "python",
   "pygments_lexer": "ipython2",
   "version": "2.7.6"
  }
 },
 "nbformat": 4,
 "nbformat_minor": 0
}