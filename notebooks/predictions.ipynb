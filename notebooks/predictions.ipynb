{
 "cells": [
  {
   "cell_type": "code",
   "execution_count": 1,
   "outputs": [],
   "source": [
    "import pandas as pd\n",
    "import numpy as np\n",
    "import matplotlib.pyplot as plt\n",
    "import seaborn as sns\n",
    "# For modeling\n",
    "from sklearn.linear_model import LogisticRegression\n",
    "from sklearn.metrics import confusion_matrix\n",
    "from sklearn.metrics import accuracy_score\n",
    "from sklearn.metrics import classification_report\n",
    "from sklearn.model_selection import train_test_split\n",
    "from sklearn.preprocessing import StandardScaler\n",
    "sns.set_theme(style='whitegrid')\n",
    "pd.options.mode.chained_assignment = None  # Supress warning, default='warn'"
   ],
   "metadata": {
    "collapsed": false,
    "pycharm": {
     "name": "#%%\n"
    }
   }
  },
  {
   "cell_type": "markdown",
   "source": [
    "# Read Data"
   ],
   "metadata": {
    "collapsed": false,
    "pycharm": {
     "name": "#%% md\n"
    }
   }
  },
  {
   "cell_type": "code",
   "execution_count": 2,
   "outputs": [
    {
     "name": "stdout",
     "output_type": "stream",
     "text": [
      "Shape of df: (1345310, 101)\n"
     ]
    },
    {
     "data": {
      "text/plain": "   loan_amnt  funded_amnt  funded_amnt_inv  term  int_rate  installment grade  \\\n0     3600.0       3600.0           3600.0    36     13.99       123.03     C   \n1    24700.0      24700.0          24700.0    36     11.99       820.28     C   \n2    20000.0      20000.0          20000.0    60     10.78       432.66     B   \n3    10400.0      10400.0          10400.0    60     22.45       289.91     F   \n4    11950.0      11950.0          11950.0    36     13.44       405.18     C   \n\n  sub_grade  emp_length home_ownership  ...  percent_bc_gt_75  \\\n0        C4        10.0       MORTGAGE  ...               0.0   \n1        C1        10.0       MORTGAGE  ...               7.7   \n2        B4        10.0       MORTGAGE  ...              50.0   \n3        F1         3.0       MORTGAGE  ...              60.0   \n4        C3         4.0           RENT  ...             100.0   \n\n  pub_rec_bankruptcies  tax_liens tot_hi_cred_lim total_bal_ex_mort  \\\n0                  0.0        0.0        178050.0            7746.0   \n1                  0.0        0.0        314017.0           39475.0   \n2                  0.0        0.0        218418.0           18696.0   \n3                  0.0        0.0        439570.0           95768.0   \n4                  0.0        0.0         16900.0           12798.0   \n\n  total_bc_limit  total_il_high_credit_limit  hardship_flag  \\\n0         2400.0                     13734.0              N   \n1        79300.0                     24667.0              N   \n2         6200.0                     14877.0              N   \n3        20300.0                     88097.0              N   \n4         9400.0                      4000.0              N   \n\n   disbursement_method  debt_settlement_flag  \n0                 Cash                     N  \n1                 Cash                     N  \n2                 Cash                     N  \n3                 Cash                     N  \n4                 Cash                     N  \n\n[5 rows x 101 columns]",
      "text/html": "<div>\n<style scoped>\n    .dataframe tbody tr th:only-of-type {\n        vertical-align: middle;\n    }\n\n    .dataframe tbody tr th {\n        vertical-align: top;\n    }\n\n    .dataframe thead th {\n        text-align: right;\n    }\n</style>\n<table border=\"1\" class=\"dataframe\">\n  <thead>\n    <tr style=\"text-align: right;\">\n      <th></th>\n      <th>loan_amnt</th>\n      <th>funded_amnt</th>\n      <th>funded_amnt_inv</th>\n      <th>term</th>\n      <th>int_rate</th>\n      <th>installment</th>\n      <th>grade</th>\n      <th>sub_grade</th>\n      <th>emp_length</th>\n      <th>home_ownership</th>\n      <th>...</th>\n      <th>percent_bc_gt_75</th>\n      <th>pub_rec_bankruptcies</th>\n      <th>tax_liens</th>\n      <th>tot_hi_cred_lim</th>\n      <th>total_bal_ex_mort</th>\n      <th>total_bc_limit</th>\n      <th>total_il_high_credit_limit</th>\n      <th>hardship_flag</th>\n      <th>disbursement_method</th>\n      <th>debt_settlement_flag</th>\n    </tr>\n  </thead>\n  <tbody>\n    <tr>\n      <th>0</th>\n      <td>3600.0</td>\n      <td>3600.0</td>\n      <td>3600.0</td>\n      <td>36</td>\n      <td>13.99</td>\n      <td>123.03</td>\n      <td>C</td>\n      <td>C4</td>\n      <td>10.0</td>\n      <td>MORTGAGE</td>\n      <td>...</td>\n      <td>0.0</td>\n      <td>0.0</td>\n      <td>0.0</td>\n      <td>178050.0</td>\n      <td>7746.0</td>\n      <td>2400.0</td>\n      <td>13734.0</td>\n      <td>N</td>\n      <td>Cash</td>\n      <td>N</td>\n    </tr>\n    <tr>\n      <th>1</th>\n      <td>24700.0</td>\n      <td>24700.0</td>\n      <td>24700.0</td>\n      <td>36</td>\n      <td>11.99</td>\n      <td>820.28</td>\n      <td>C</td>\n      <td>C1</td>\n      <td>10.0</td>\n      <td>MORTGAGE</td>\n      <td>...</td>\n      <td>7.7</td>\n      <td>0.0</td>\n      <td>0.0</td>\n      <td>314017.0</td>\n      <td>39475.0</td>\n      <td>79300.0</td>\n      <td>24667.0</td>\n      <td>N</td>\n      <td>Cash</td>\n      <td>N</td>\n    </tr>\n    <tr>\n      <th>2</th>\n      <td>20000.0</td>\n      <td>20000.0</td>\n      <td>20000.0</td>\n      <td>60</td>\n      <td>10.78</td>\n      <td>432.66</td>\n      <td>B</td>\n      <td>B4</td>\n      <td>10.0</td>\n      <td>MORTGAGE</td>\n      <td>...</td>\n      <td>50.0</td>\n      <td>0.0</td>\n      <td>0.0</td>\n      <td>218418.0</td>\n      <td>18696.0</td>\n      <td>6200.0</td>\n      <td>14877.0</td>\n      <td>N</td>\n      <td>Cash</td>\n      <td>N</td>\n    </tr>\n    <tr>\n      <th>3</th>\n      <td>10400.0</td>\n      <td>10400.0</td>\n      <td>10400.0</td>\n      <td>60</td>\n      <td>22.45</td>\n      <td>289.91</td>\n      <td>F</td>\n      <td>F1</td>\n      <td>3.0</td>\n      <td>MORTGAGE</td>\n      <td>...</td>\n      <td>60.0</td>\n      <td>0.0</td>\n      <td>0.0</td>\n      <td>439570.0</td>\n      <td>95768.0</td>\n      <td>20300.0</td>\n      <td>88097.0</td>\n      <td>N</td>\n      <td>Cash</td>\n      <td>N</td>\n    </tr>\n    <tr>\n      <th>4</th>\n      <td>11950.0</td>\n      <td>11950.0</td>\n      <td>11950.0</td>\n      <td>36</td>\n      <td>13.44</td>\n      <td>405.18</td>\n      <td>C</td>\n      <td>C3</td>\n      <td>4.0</td>\n      <td>RENT</td>\n      <td>...</td>\n      <td>100.0</td>\n      <td>0.0</td>\n      <td>0.0</td>\n      <td>16900.0</td>\n      <td>12798.0</td>\n      <td>9400.0</td>\n      <td>4000.0</td>\n      <td>N</td>\n      <td>Cash</td>\n      <td>N</td>\n    </tr>\n  </tbody>\n</table>\n<p>5 rows × 101 columns</p>\n</div>"
     },
     "execution_count": 2,
     "metadata": {},
     "output_type": "execute_result"
    }
   ],
   "source": [
    "df = pd.read_csv('../data/preprocessed/accepted_2007_to_2018Q4_preprocessed.csv')\n",
    "print(f\"Shape of df: {df.shape}\")\n",
    "df.head(5)"
   ],
   "metadata": {
    "collapsed": false,
    "pycharm": {
     "name": "#%%\n"
    }
   }
  },
  {
   "cell_type": "markdown",
   "source": [
    "# Preprocessing"
   ],
   "metadata": {
    "collapsed": false,
    "pycharm": {
     "name": "#%% md\n"
    }
   }
  },
  {
   "cell_type": "code",
   "execution_count": 3,
   "outputs": [
    {
     "data": {
      "text/plain": "   loan_amnt  funded_amnt  funded_amnt_inv  term  int_rate  installment  \\\n0     3600.0       3600.0           3600.0    36     13.99       123.03   \n1    24700.0      24700.0          24700.0    36     11.99       820.28   \n2    20000.0      20000.0          20000.0    60     10.78       432.66   \n3    10400.0      10400.0          10400.0    60     22.45       289.91   \n4    11950.0      11950.0          11950.0    36     13.44       405.18   \n\n   emp_length  annual_inc  loan_status    dti  ...  num_tl_90g_dpd_24m  \\\n0        10.0     55000.0            0   5.91  ...                 0.0   \n1        10.0     65000.0            0  16.06  ...                 0.0   \n2        10.0     63000.0            0  10.78  ...                 0.0   \n3         3.0    104433.0            0  25.37  ...                 0.0   \n4         4.0     34000.0            0  10.20  ...                 0.0   \n\n   num_tl_op_past_12m  pct_tl_nvr_dlq  percent_bc_gt_75  pub_rec_bankruptcies  \\\n0                 3.0            76.9               0.0                   0.0   \n1                 2.0            97.4               7.7                   0.0   \n2                 0.0           100.0              50.0                   0.0   \n3                 4.0            96.6              60.0                   0.0   \n4                 0.0           100.0             100.0                   0.0   \n\n   tax_liens  tot_hi_cred_lim  total_bal_ex_mort  total_bc_limit  \\\n0        0.0         178050.0             7746.0          2400.0   \n1        0.0         314017.0            39475.0         79300.0   \n2        0.0         218418.0            18696.0          6200.0   \n3        0.0         439570.0            95768.0         20300.0   \n4        0.0          16900.0            12798.0          9400.0   \n\n   total_il_high_credit_limit  \n0                     13734.0  \n1                     24667.0  \n2                     14877.0  \n3                     88097.0  \n4                      4000.0  \n\n[5 rows x 89 columns]",
      "text/html": "<div>\n<style scoped>\n    .dataframe tbody tr th:only-of-type {\n        vertical-align: middle;\n    }\n\n    .dataframe tbody tr th {\n        vertical-align: top;\n    }\n\n    .dataframe thead th {\n        text-align: right;\n    }\n</style>\n<table border=\"1\" class=\"dataframe\">\n  <thead>\n    <tr style=\"text-align: right;\">\n      <th></th>\n      <th>loan_amnt</th>\n      <th>funded_amnt</th>\n      <th>funded_amnt_inv</th>\n      <th>term</th>\n      <th>int_rate</th>\n      <th>installment</th>\n      <th>emp_length</th>\n      <th>annual_inc</th>\n      <th>loan_status</th>\n      <th>dti</th>\n      <th>...</th>\n      <th>num_tl_90g_dpd_24m</th>\n      <th>num_tl_op_past_12m</th>\n      <th>pct_tl_nvr_dlq</th>\n      <th>percent_bc_gt_75</th>\n      <th>pub_rec_bankruptcies</th>\n      <th>tax_liens</th>\n      <th>tot_hi_cred_lim</th>\n      <th>total_bal_ex_mort</th>\n      <th>total_bc_limit</th>\n      <th>total_il_high_credit_limit</th>\n    </tr>\n  </thead>\n  <tbody>\n    <tr>\n      <th>0</th>\n      <td>3600.0</td>\n      <td>3600.0</td>\n      <td>3600.0</td>\n      <td>36</td>\n      <td>13.99</td>\n      <td>123.03</td>\n      <td>10.0</td>\n      <td>55000.0</td>\n      <td>0</td>\n      <td>5.91</td>\n      <td>...</td>\n      <td>0.0</td>\n      <td>3.0</td>\n      <td>76.9</td>\n      <td>0.0</td>\n      <td>0.0</td>\n      <td>0.0</td>\n      <td>178050.0</td>\n      <td>7746.0</td>\n      <td>2400.0</td>\n      <td>13734.0</td>\n    </tr>\n    <tr>\n      <th>1</th>\n      <td>24700.0</td>\n      <td>24700.0</td>\n      <td>24700.0</td>\n      <td>36</td>\n      <td>11.99</td>\n      <td>820.28</td>\n      <td>10.0</td>\n      <td>65000.0</td>\n      <td>0</td>\n      <td>16.06</td>\n      <td>...</td>\n      <td>0.0</td>\n      <td>2.0</td>\n      <td>97.4</td>\n      <td>7.7</td>\n      <td>0.0</td>\n      <td>0.0</td>\n      <td>314017.0</td>\n      <td>39475.0</td>\n      <td>79300.0</td>\n      <td>24667.0</td>\n    </tr>\n    <tr>\n      <th>2</th>\n      <td>20000.0</td>\n      <td>20000.0</td>\n      <td>20000.0</td>\n      <td>60</td>\n      <td>10.78</td>\n      <td>432.66</td>\n      <td>10.0</td>\n      <td>63000.0</td>\n      <td>0</td>\n      <td>10.78</td>\n      <td>...</td>\n      <td>0.0</td>\n      <td>0.0</td>\n      <td>100.0</td>\n      <td>50.0</td>\n      <td>0.0</td>\n      <td>0.0</td>\n      <td>218418.0</td>\n      <td>18696.0</td>\n      <td>6200.0</td>\n      <td>14877.0</td>\n    </tr>\n    <tr>\n      <th>3</th>\n      <td>10400.0</td>\n      <td>10400.0</td>\n      <td>10400.0</td>\n      <td>60</td>\n      <td>22.45</td>\n      <td>289.91</td>\n      <td>3.0</td>\n      <td>104433.0</td>\n      <td>0</td>\n      <td>25.37</td>\n      <td>...</td>\n      <td>0.0</td>\n      <td>4.0</td>\n      <td>96.6</td>\n      <td>60.0</td>\n      <td>0.0</td>\n      <td>0.0</td>\n      <td>439570.0</td>\n      <td>95768.0</td>\n      <td>20300.0</td>\n      <td>88097.0</td>\n    </tr>\n    <tr>\n      <th>4</th>\n      <td>11950.0</td>\n      <td>11950.0</td>\n      <td>11950.0</td>\n      <td>36</td>\n      <td>13.44</td>\n      <td>405.18</td>\n      <td>4.0</td>\n      <td>34000.0</td>\n      <td>0</td>\n      <td>10.20</td>\n      <td>...</td>\n      <td>0.0</td>\n      <td>0.0</td>\n      <td>100.0</td>\n      <td>100.0</td>\n      <td>0.0</td>\n      <td>0.0</td>\n      <td>16900.0</td>\n      <td>12798.0</td>\n      <td>9400.0</td>\n      <td>4000.0</td>\n    </tr>\n  </tbody>\n</table>\n<p>5 rows × 89 columns</p>\n</div>"
     },
     "execution_count": 3,
     "metadata": {},
     "output_type": "execute_result"
    }
   ],
   "source": [
    "# Select only numeric attributes first\n",
    "# TODO: Include also categorical values but encode them first!\n",
    "df = df.select_dtypes([np.number])\n",
    "\n",
    "# Fill NaNs with Median\n",
    "df = df.fillna(df.median())\n",
    "\n",
    "# Preview\n",
    "df.head(5)"
   ],
   "metadata": {
    "collapsed": false,
    "pycharm": {
     "name": "#%%\n"
    }
   }
  },
  {
   "cell_type": "markdown",
   "source": [
    "## Data Split"
   ],
   "metadata": {
    "collapsed": false,
    "pycharm": {
     "name": "#%% md\n"
    }
   }
  },
  {
   "cell_type": "code",
   "execution_count": 4,
   "outputs": [
    {
     "name": "stdout",
     "output_type": "stream",
     "text": [
      "Shape of X_train: (941717, 88)\n",
      "Shape of X_test: (403593, 88)\n",
      "Shape of y_train: (941717,)\n",
      "Shape of y_test: (403593,)\n"
     ]
    }
   ],
   "source": [
    "# Fraction of test data\n",
    "TEST_SIZE = 0.3\n",
    "\n",
    "X = df.drop(\"loan_status\", axis=1)\n",
    "y = df[\"loan_status\"]\n",
    "\n",
    "# Split data into train and test data\n",
    "X_train, X_test, y_train, y_test = train_test_split(X, y, test_size=TEST_SIZE, random_state=1997, stratify=y)\n",
    "\n",
    "print(f\"Shape of X_train: {X_train.shape}\")\n",
    "print(f\"Shape of X_test: {X_test.shape}\")\n",
    "print(f\"Shape of y_train: {y_train.shape}\")\n",
    "print(f\"Shape of y_test: {y_test.shape}\")"
   ],
   "metadata": {
    "collapsed": false,
    "pycharm": {
     "name": "#%%\n"
    }
   }
  },
  {
   "cell_type": "markdown",
   "source": [
    "## Scale Data"
   ],
   "metadata": {
    "collapsed": false,
    "pycharm": {
     "name": "#%% md\n"
    }
   }
  },
  {
   "cell_type": "code",
   "execution_count": 5,
   "outputs": [
    {
     "data": {
      "text/plain": "         0         1         2         3         4         5         6   \\\n0 -1.152367 -1.151919 -1.149012 -0.563661 -0.026841 -1.110779  0.287232   \n1  2.153819  2.155715  2.157652  1.774117  0.694300  1.449070  0.566430   \n2  1.557387  1.559021  1.561133  1.774117  0.817984  0.993616  1.124826   \n3 -0.507187 -0.506457 -0.503740 -0.563661 -1.060335 -0.473924  0.008034   \n4 -1.043403 -1.042908 -1.040033 -0.563661  0.434354 -0.966392  1.124826   \n\n         7         8         9   ...        78        79        80        81  \\\n0 -0.485986 -0.892698 -0.362623  ... -0.171852  1.018006  0.659137  0.614594   \n1  0.862696  0.612028 -0.362623  ... -0.171852  0.462190  0.659137  1.205706   \n2  1.014078 -0.225710  1.920589  ...  3.912790 -1.205259 -0.672513 -0.334597   \n3 -0.362127  1.306586 -0.362623  ... -0.171852  0.462190  0.226935  0.341772   \n4 -0.499748  1.329708 -0.362623  ... -0.171852 -1.205259  0.659137  0.992565   \n\n        82        83        84        85        86        87  \n0 -0.35461 -0.131363 -0.839936 -0.696632 -0.320656 -0.796593  \n1 -0.35461 -0.131363 -0.152515  1.087189  0.283468  1.491959  \n2 -0.35461 -0.131363  3.038517  0.948475 -0.797347  1.686703  \n3 -0.35461  2.380595 -0.573706 -0.373701 -0.188504 -0.282918  \n4 -0.35461 -0.131363 -0.682125 -0.285584 -0.438648 -0.166748  \n\n[5 rows x 88 columns]",
      "text/html": "<div>\n<style scoped>\n    .dataframe tbody tr th:only-of-type {\n        vertical-align: middle;\n    }\n\n    .dataframe tbody tr th {\n        vertical-align: top;\n    }\n\n    .dataframe thead th {\n        text-align: right;\n    }\n</style>\n<table border=\"1\" class=\"dataframe\">\n  <thead>\n    <tr style=\"text-align: right;\">\n      <th></th>\n      <th>0</th>\n      <th>1</th>\n      <th>2</th>\n      <th>3</th>\n      <th>4</th>\n      <th>5</th>\n      <th>6</th>\n      <th>7</th>\n      <th>8</th>\n      <th>9</th>\n      <th>...</th>\n      <th>78</th>\n      <th>79</th>\n      <th>80</th>\n      <th>81</th>\n      <th>82</th>\n      <th>83</th>\n      <th>84</th>\n      <th>85</th>\n      <th>86</th>\n      <th>87</th>\n    </tr>\n  </thead>\n  <tbody>\n    <tr>\n      <th>0</th>\n      <td>-1.152367</td>\n      <td>-1.151919</td>\n      <td>-1.149012</td>\n      <td>-0.563661</td>\n      <td>-0.026841</td>\n      <td>-1.110779</td>\n      <td>0.287232</td>\n      <td>-0.485986</td>\n      <td>-0.892698</td>\n      <td>-0.362623</td>\n      <td>...</td>\n      <td>-0.171852</td>\n      <td>1.018006</td>\n      <td>0.659137</td>\n      <td>0.614594</td>\n      <td>-0.35461</td>\n      <td>-0.131363</td>\n      <td>-0.839936</td>\n      <td>-0.696632</td>\n      <td>-0.320656</td>\n      <td>-0.796593</td>\n    </tr>\n    <tr>\n      <th>1</th>\n      <td>2.153819</td>\n      <td>2.155715</td>\n      <td>2.157652</td>\n      <td>1.774117</td>\n      <td>0.694300</td>\n      <td>1.449070</td>\n      <td>0.566430</td>\n      <td>0.862696</td>\n      <td>0.612028</td>\n      <td>-0.362623</td>\n      <td>...</td>\n      <td>-0.171852</td>\n      <td>0.462190</td>\n      <td>0.659137</td>\n      <td>1.205706</td>\n      <td>-0.35461</td>\n      <td>-0.131363</td>\n      <td>-0.152515</td>\n      <td>1.087189</td>\n      <td>0.283468</td>\n      <td>1.491959</td>\n    </tr>\n    <tr>\n      <th>2</th>\n      <td>1.557387</td>\n      <td>1.559021</td>\n      <td>1.561133</td>\n      <td>1.774117</td>\n      <td>0.817984</td>\n      <td>0.993616</td>\n      <td>1.124826</td>\n      <td>1.014078</td>\n      <td>-0.225710</td>\n      <td>1.920589</td>\n      <td>...</td>\n      <td>3.912790</td>\n      <td>-1.205259</td>\n      <td>-0.672513</td>\n      <td>-0.334597</td>\n      <td>-0.35461</td>\n      <td>-0.131363</td>\n      <td>3.038517</td>\n      <td>0.948475</td>\n      <td>-0.797347</td>\n      <td>1.686703</td>\n    </tr>\n    <tr>\n      <th>3</th>\n      <td>-0.507187</td>\n      <td>-0.506457</td>\n      <td>-0.503740</td>\n      <td>-0.563661</td>\n      <td>-1.060335</td>\n      <td>-0.473924</td>\n      <td>0.008034</td>\n      <td>-0.362127</td>\n      <td>1.306586</td>\n      <td>-0.362623</td>\n      <td>...</td>\n      <td>-0.171852</td>\n      <td>0.462190</td>\n      <td>0.226935</td>\n      <td>0.341772</td>\n      <td>-0.35461</td>\n      <td>2.380595</td>\n      <td>-0.573706</td>\n      <td>-0.373701</td>\n      <td>-0.188504</td>\n      <td>-0.282918</td>\n    </tr>\n    <tr>\n      <th>4</th>\n      <td>-1.043403</td>\n      <td>-1.042908</td>\n      <td>-1.040033</td>\n      <td>-0.563661</td>\n      <td>0.434354</td>\n      <td>-0.966392</td>\n      <td>1.124826</td>\n      <td>-0.499748</td>\n      <td>1.329708</td>\n      <td>-0.362623</td>\n      <td>...</td>\n      <td>-0.171852</td>\n      <td>-1.205259</td>\n      <td>0.659137</td>\n      <td>0.992565</td>\n      <td>-0.35461</td>\n      <td>-0.131363</td>\n      <td>-0.682125</td>\n      <td>-0.285584</td>\n      <td>-0.438648</td>\n      <td>-0.166748</td>\n    </tr>\n  </tbody>\n</table>\n<p>5 rows × 88 columns</p>\n</div>"
     },
     "execution_count": 5,
     "metadata": {},
     "output_type": "execute_result"
    }
   ],
   "source": [
    "# Init object\n",
    "scaler = StandardScaler()\n",
    "# Scale X_train\n",
    "X_train_scaled = scaler.fit_transform(X_train)\n",
    "X_train_scaled = pd.DataFrame(X_train_scaled)\n",
    "X_train_scaled.head(5)"
   ],
   "metadata": {
    "collapsed": false,
    "pycharm": {
     "name": "#%%\n"
    }
   }
  },
  {
   "cell_type": "markdown",
   "source": [
    "## Fit Model"
   ],
   "metadata": {
    "collapsed": false,
    "pycharm": {
     "name": "#%% md\n"
    }
   }
  },
  {
   "cell_type": "code",
   "execution_count": 6,
   "outputs": [
    {
     "name": "stdout",
     "output_type": "stream",
     "text": [
      "Intercept: [-2.95012107]\n",
      "Coefficients: [[ 1.69316920e+00  1.70670732e+00  1.69674909e+00  5.32669700e-01\n",
      "   8.82175638e-04  1.59458457e+00  6.26876177e-03 -3.75491101e-02\n",
      "   7.24294968e-02 -2.36301260e-02  4.66906454e-02  4.67368951e-02\n",
      "   2.77661346e-06  2.48217533e-03  3.60677571e-02  3.29261910e-03\n",
      "   3.70010615e-02 -4.83846765e-02  7.65697074e-02  0.00000000e+00\n",
      "   0.00000000e+00 -2.48927982e+00 -2.47422405e+00 -3.46740003e+00\n",
      "   1.03355983e+00  1.52646479e-01  2.40403271e+00  2.14607591e+00\n",
      "  -2.21365029e+00 -1.58071485e+00  3.23764919e-03  1.28174273e-02\n",
      "  -1.56894377e-03  0.00000000e+00 -2.44605530e-02  1.31958895e-02\n",
      "  -3.92429676e-02 -1.97922252e-02  9.46093379e-03 -9.29046182e-02\n",
      "   8.41760170e-02  6.05625879e-02 -1.82086661e-02  7.96903133e-03\n",
      "   1.66502379e-03  1.73087268e-02 -5.17561081e-02  1.26489739e-02\n",
      "   9.52629624e-03 -1.63531157e-02  2.63198929e-02 -3.17533268e-03\n",
      "  -1.46815750e-02 -2.64701071e-03  4.36712397e-02  2.50677210e-02\n",
      "   1.84167842e-03 -1.58740548e-03  1.41148933e-02  1.10751849e-01\n",
      "   2.31586758e-02 -5.70990125e-03 -8.43625059e-04  1.46914623e-03\n",
      "  -2.06992020e-03 -1.15845453e-03  5.14229955e-03  5.88152313e-03\n",
      "   3.61379685e-03 -4.34910478e-02  3.28907342e-03 -6.99153741e-03\n",
      "   2.51366130e-02 -7.83356825e-03 -1.88109057e-02 -1.36141678e-02\n",
      "   1.44581816e-02  1.00593275e-02  1.31903165e-02  1.03040531e-02\n",
      "   5.63575492e-02 -2.95500794e-02  2.51985151e-02  1.52627385e-03\n",
      "  -1.05802827e-02 -2.48106414e-02  8.24001406e-02 -1.53911465e-02]]\n"
     ]
    },
    {
     "name": "stderr",
     "output_type": "stream",
     "text": [
      "/Library/Frameworks/Python.framework/Versions/3.8/lib/python3.8/site-packages/sklearn/linear_model/_sag.py:350: ConvergenceWarning: The max_iter was reached which means the coef_ did not converge\n",
      "  warnings.warn(\n"
     ]
    }
   ],
   "source": [
    "lr = LogisticRegression(fit_intercept=True, max_iter=300, solver=\"saga\")\n",
    "lr.fit(X_train_scaled, y_train)\n",
    "\n",
    "# Print coefficients and intercept\n",
    "print(f\"Intercept: {lr.intercept_}\")\n",
    "print(f\"Coefficients: {lr.coef_}\")"
   ],
   "metadata": {
    "collapsed": false,
    "pycharm": {
     "name": "#%%\n"
    }
   }
  },
  {
   "cell_type": "code",
   "execution_count": 7,
   "outputs": [
    {
     "data": {
      "text/plain": "<Figure size 504x360 with 2 Axes>",
      "image/png": "[encoded data removed]"
     },
     "metadata": {},
     "output_type": "display_data"
    },
    {
     "name": "stdout",
     "output_type": "stream",
     "text": [
      "________________________________________________________________________________\n",
      "              precision    recall  f1-score   support\n",
      "\n",
      "           0       0.99      1.00      1.00    323025\n",
      "           1       1.00      0.97      0.98     80568\n",
      "\n",
      "    accuracy                           0.99    403593\n",
      "   macro avg       0.99      0.98      0.99    403593\n",
      "weighted avg       0.99      0.99      0.99    403593\n",
      "\n",
      "Information:\n",
      "Precision: Percentage of correct positive predictions relative to total positive predictions\n",
      "Recall: Percentage of correct positive predictions relative to total actual positives.\n",
      "F1 Score: A weighted harmonic mean of precision and recall. The closer to 1, the better the model.\n",
      "________________________________________________________________________________\n"
     ]
    }
   ],
   "source": [
    "# Scale Test Samples\n",
    "X_test_scaled = scaler.transform(X_test)\n",
    "\n",
    "# Predict in-sample values\n",
    "y_pred = lr.predict(X_test_scaled)\n",
    "\n",
    "# Plot Confusion matrics\n",
    "cm = confusion_matrix(y_true=y_test, y_pred=y_pred)\n",
    "\n",
    "# Heatmap plot settings\n",
    "plt.figure(figsize=(7,5))\n",
    "plt.title(\"Confusion matrix\")\n",
    "sns.heatmap(cm, annot=True, fmt='d')\n",
    "plt.xlabel(\"Predicted\")\n",
    "plt.ylabel(\"Actual\")\n",
    "plt.show()\n",
    "\n",
    "# Plot classification report\n",
    "print(80 * \"_\")\n",
    "print(classification_report(y_true=y_test, y_pred=y_pred))\n",
    "print(\"Information:\")\n",
    "print(\"Precision: Percentage of correct positive predictions relative to total positive predictions\")\n",
    "print(\"Recall: Percentage of correct positive predictions relative to total actual positives.\")\n",
    "print(\"F1 Score: A weighted harmonic mean of precision and recall. The closer to 1, the better the model.\")\n",
    "print(80 * \"_\")"
   ],
   "metadata": {
    "collapsed": false,
    "pycharm": {
     "name": "#%%\n"
    }
   }
  }
 ],
 "metadata": {
  "kernelspec": {
   "display_name": "Python 3",
   "language": "python",
   "name": "python3"
  },
  "language_info": {
   "codemirror_mode": {
    "name": "ipython",
    "version": 2
   },
   "file_extension": ".py",
   "mimetype": "text/x-python",
   "name": "python",
   "nbconvert_exporter": "python",
   "pygments_lexer": "ipython2",
   "version": "2.7.6"
  }
 },
 "nbformat": 4,
 "nbformat_minor": 0
}