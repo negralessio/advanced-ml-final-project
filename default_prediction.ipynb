{
 "cells": [
  {
   "cell_type": "code",
   "execution_count": 9,
   "outputs": [],
   "source": [
    "import pandas as pd\n",
    "import numpy as np\n",
    "import matplotlib.pyplot as plt\n",
    "import seaborn as sns\n",
    "sns.set_theme(style='whitegrid')"
   ],
   "metadata": {
    "collapsed": false,
    "pycharm": {
     "name": "#%%\n"
    }
   }
  },
  {
   "cell_type": "markdown",
   "source": [
    "# Load Data\n",
    "Data can be downloaded from [Kaggle](https://www.kaggle.com/datasets/wordsforthewise/lending-club?datasetId=902). Information about the columns can be seen here on [google drive](https://drive.google.com/file/d/1UzyKMtrzL3aEEQpeYIz_qjBWyW-lAMr0/view)."
   ],
   "metadata": {
    "collapsed": false,
    "pycharm": {
     "name": "#%% md\n"
    }
   }
  },
  {
   "cell_type": "code",
   "execution_count": 10,
   "outputs": [
    {
     "name": "stderr",
     "output_type": "stream",
     "text": [
      "/var/folders/h0/sqy12xn11_gg038734m010lh0000gn/T/ipykernel_64802/15118711.py:1: DtypeWarning: Columns (0,19,49,59,118,129,130,131,134,135,136,139,145,146,147) have mixed types. Specify dtype option on import or set low_memory=False.\n",
      "  accepted_df = pd.read_csv(filepath_or_buffer=\"data/raw/accepted_2007_to_2018Q4.csv\")\n"
     ]
    }
   ],
   "source": [
    "accepted_df = pd.read_csv(filepath_or_buffer=\"data/raw/accepted_2007_to_2018Q4.csv\")\n",
    "rejected_df = pd.read_csv(filepath_or_buffer=\"data/raw/rejected_2007_to_2018Q4.csv\")"
   ],
   "metadata": {
    "collapsed": false,
    "pycharm": {
     "name": "#%%\n"
    }
   }
  },
  {
   "cell_type": "code",
   "execution_count": 17,
   "outputs": [],
   "source": [
    "# Take on subset of the whole data to better work with it\n",
    "# TODO: Delete this later for the final fit of our model(s)\n",
    "# Attention: For NaNs Identification etc... use full dataset\n",
    "n_sample = 50000\n",
    "accepted_df = accepted_df.sample(n=n_sample)\n",
    "rejected_df = rejected_df.sample(n=n_sample)"
   ],
   "metadata": {
    "collapsed": false,
    "pycharm": {
     "name": "#%%\n"
    }
   }
  },
  {
   "cell_type": "code",
   "execution_count": 18,
   "outputs": [
    {
     "name": "stdout",
     "output_type": "stream",
     "text": [
      "Shape of accepted_df: (50000, 151)\n",
      "Shape of rejected_df: (50000, 9)\n"
     ]
    }
   ],
   "source": [
    "# Print information about raw datasets\n",
    "print(f\"Shape of accepted_df: {accepted_df.shape}\")\n",
    "print(f\"Shape of rejected_df: {rejected_df.shape}\")"
   ],
   "metadata": {
    "collapsed": false,
    "pycharm": {
     "name": "#%%\n"
    }
   }
  },
  {
   "cell_type": "code",
   "execution_count": 19,
   "outputs": [
    {
     "data": {
      "text/plain": "                id  member_id  loan_amnt  funded_amnt  funded_amnt_inv  \\\n100908    62317158        NaN    10000.0      10000.0          10000.0   \n1520079  134444734        NaN    16500.0      16500.0          16500.0   \n634633   113196313        NaN    15000.0      15000.0          15000.0   \n1637029     589858        NaN     5000.0       5000.0           5000.0   \n362167    41450845        NaN     8000.0       8000.0           8000.0   \n\n               term  int_rate  installment grade sub_grade  ...  \\\n100908    60 months     10.99       217.38     B        B4  ...   \n1520079   60 months     12.13       368.12     B        B5  ...   \n634633    36 months      7.21       464.60     A        A3  ...   \n1637029   60 months     13.61       115.34     C        C2  ...   \n362167    36 months      9.17       255.04     B        B2  ...   \n\n        hardship_payoff_balance_amount hardship_last_payment_amount  \\\n100908                             NaN                          NaN   \n1520079                            NaN                          NaN   \n634633                             NaN                          NaN   \n1637029                            NaN                          NaN   \n362167                             NaN                          NaN   \n\n        disbursement_method  debt_settlement_flag debt_settlement_flag_date  \\\n100908                 Cash                     N                       NaN   \n1520079                Cash                     N                       NaN   \n634633                 Cash                     N                       NaN   \n1637029                Cash                     N                       NaN   \n362167                 Cash                     N                       NaN   \n\n        settlement_status settlement_date settlement_amount  \\\n100908                NaN             NaN               NaN   \n1520079               NaN             NaN               NaN   \n634633                NaN             NaN               NaN   \n1637029               NaN             NaN               NaN   \n362167                NaN             NaN               NaN   \n\n        settlement_percentage settlement_term  \n100908                    NaN             NaN  \n1520079                   NaN             NaN  \n634633                    NaN             NaN  \n1637029                   NaN             NaN  \n362167                    NaN             NaN  \n\n[5 rows x 151 columns]",
      "text/html": "<div>\n<style scoped>\n    .dataframe tbody tr th:only-of-type {\n        vertical-align: middle;\n    }\n\n    .dataframe tbody tr th {\n        vertical-align: top;\n    }\n\n    .dataframe thead th {\n        text-align: right;\n    }\n</style>\n<table border=\"1\" class=\"dataframe\">\n  <thead>\n    <tr style=\"text-align: right;\">\n      <th></th>\n      <th>id</th>\n      <th>member_id</th>\n      <th>loan_amnt</th>\n      <th>funded_amnt</th>\n      <th>funded_amnt_inv</th>\n      <th>term</th>\n      <th>int_rate</th>\n      <th>installment</th>\n      <th>grade</th>\n      <th>sub_grade</th>\n      <th>...</th>\n      <th>hardship_payoff_balance_amount</th>\n      <th>hardship_last_payment_amount</th>\n      <th>disbursement_method</th>\n      <th>debt_settlement_flag</th>\n      <th>debt_settlement_flag_date</th>\n      <th>settlement_status</th>\n      <th>settlement_date</th>\n      <th>settlement_amount</th>\n      <th>settlement_percentage</th>\n      <th>settlement_term</th>\n    </tr>\n  </thead>\n  <tbody>\n    <tr>\n      <th>100908</th>\n      <td>62317158</td>\n      <td>NaN</td>\n      <td>10000.0</td>\n      <td>10000.0</td>\n      <td>10000.0</td>\n      <td>60 months</td>\n      <td>10.99</td>\n      <td>217.38</td>\n      <td>B</td>\n      <td>B4</td>\n      <td>...</td>\n      <td>NaN</td>\n      <td>NaN</td>\n      <td>Cash</td>\n      <td>N</td>\n      <td>NaN</td>\n      <td>NaN</td>\n      <td>NaN</td>\n      <td>NaN</td>\n      <td>NaN</td>\n      <td>NaN</td>\n    </tr>\n    <tr>\n      <th>1520079</th>\n      <td>134444734</td>\n      <td>NaN</td>\n      <td>16500.0</td>\n      <td>16500.0</td>\n      <td>16500.0</td>\n      <td>60 months</td>\n      <td>12.13</td>\n      <td>368.12</td>\n      <td>B</td>\n      <td>B5</td>\n      <td>...</td>\n      <td>NaN</td>\n      <td>NaN</td>\n      <td>Cash</td>\n      <td>N</td>\n      <td>NaN</td>\n      <td>NaN</td>\n      <td>NaN</td>\n      <td>NaN</td>\n      <td>NaN</td>\n      <td>NaN</td>\n    </tr>\n    <tr>\n      <th>634633</th>\n      <td>113196313</td>\n      <td>NaN</td>\n      <td>15000.0</td>\n      <td>15000.0</td>\n      <td>15000.0</td>\n      <td>36 months</td>\n      <td>7.21</td>\n      <td>464.60</td>\n      <td>A</td>\n      <td>A3</td>\n      <td>...</td>\n      <td>NaN</td>\n      <td>NaN</td>\n      <td>Cash</td>\n      <td>N</td>\n      <td>NaN</td>\n      <td>NaN</td>\n      <td>NaN</td>\n      <td>NaN</td>\n      <td>NaN</td>\n      <td>NaN</td>\n    </tr>\n    <tr>\n      <th>1637029</th>\n      <td>589858</td>\n      <td>NaN</td>\n      <td>5000.0</td>\n      <td>5000.0</td>\n      <td>5000.0</td>\n      <td>60 months</td>\n      <td>13.61</td>\n      <td>115.34</td>\n      <td>C</td>\n      <td>C2</td>\n      <td>...</td>\n      <td>NaN</td>\n      <td>NaN</td>\n      <td>Cash</td>\n      <td>N</td>\n      <td>NaN</td>\n      <td>NaN</td>\n      <td>NaN</td>\n      <td>NaN</td>\n      <td>NaN</td>\n      <td>NaN</td>\n    </tr>\n    <tr>\n      <th>362167</th>\n      <td>41450845</td>\n      <td>NaN</td>\n      <td>8000.0</td>\n      <td>8000.0</td>\n      <td>8000.0</td>\n      <td>36 months</td>\n      <td>9.17</td>\n      <td>255.04</td>\n      <td>B</td>\n      <td>B2</td>\n      <td>...</td>\n      <td>NaN</td>\n      <td>NaN</td>\n      <td>Cash</td>\n      <td>N</td>\n      <td>NaN</td>\n      <td>NaN</td>\n      <td>NaN</td>\n      <td>NaN</td>\n      <td>NaN</td>\n      <td>NaN</td>\n    </tr>\n  </tbody>\n</table>\n<p>5 rows × 151 columns</p>\n</div>"
     },
     "execution_count": 19,
     "metadata": {},
     "output_type": "execute_result"
    }
   ],
   "source": [
    "accepted_df.head(5)"
   ],
   "metadata": {
    "collapsed": false,
    "pycharm": {
     "name": "#%%\n"
    }
   }
  },
  {
   "cell_type": "markdown",
   "source": [
    "# Data Cleaning\n",
    "In this section we remove features that contain too many NaNs and which are also not (or less) relevant for our prediction."
   ],
   "metadata": {
    "collapsed": false,
    "pycharm": {
     "name": "#%% md\n"
    }
   }
  },
  {
   "cell_type": "code",
   "execution_count": null,
   "outputs": [],
   "source": [],
   "metadata": {
    "collapsed": false,
    "pycharm": {
     "name": "#%%\n"
    }
   }
  }
 ],
 "metadata": {
  "kernelspec": {
   "display_name": "Python 3",
   "language": "python",
   "name": "python3"
  },
  "language_info": {
   "codemirror_mode": {
    "name": "ipython",
    "version": 2
   },
   "file_extension": ".py",
   "mimetype": "text/x-python",
   "name": "python",
   "nbconvert_exporter": "python",
   "pygments_lexer": "ipython2",
   "version": "2.7.6"
  }
 },
 "nbformat": 4,
 "nbformat_minor": 0
}